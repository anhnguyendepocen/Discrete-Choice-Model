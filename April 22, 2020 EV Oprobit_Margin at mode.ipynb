{
 "cells": [
  {
   "cell_type": "markdown",
   "metadata": {},
   "source": [
    "---\n",
    "# April 22, 2020 EV Stata Kernel with binary logit and ordered probit\n",
    "---\n",
    "* Name: Jikhan Jeong\n",
    "* Ref: https://kylebarron.dev/stata_kernel/ (stata kernel)\n",
    "* Do: Feb 2, 2020 EV 184 sample.do\n",
    "---\n",
    "* Marginal effects are measured at mode (not mean, because the most of variables are categorical or dummy)\n",
    "---"
   ]
  },
  {
   "cell_type": "markdown",
   "metadata": {},
   "source": [
    "### Download package\n",
    "* cap ssc install package_name\n",
    "---"
   ]
  },
  {
   "cell_type": "code",
   "execution_count": 1,
   "metadata": {},
   "outputs": [],
   "source": [
    "# cap ssc install estout"
   ]
  },
  {
   "cell_type": "markdown",
   "metadata": {},
   "source": [
    "### Load data\n",
    "* use \"data.dta\", clear"
   ]
  },
  {
   "cell_type": "code",
   "execution_count": 3,
   "metadata": {},
   "outputs": [],
   "source": [
    "use \"2019_12_04_ev184.dta\", clear"
   ]
  },
  {
   "cell_type": "code",
   "execution_count": 2,
   "metadata": {},
   "outputs": [
    {
     "name": "stdout",
     "output_type": "stream",
     "text": [
      "(note: showing first line of global values; run with --verbose)\n",
      "\n",
      "S_FNDATE:                    4 Dec 2019 23:57\n",
      "S_FN:                       2019_12_04_ev184.dta\n",
      "stata_kernel_graph_counter: 0\n",
      "S_ADO:                      BASE;SITE;.;PERSONAL;PLUS;OLDPLACE;`\"/home/jikhan.jeong/.local/lib/python3.7/site-packages/stata_kernel/ado\"'\n",
      "S_level:                    95\n",
      "F1:                         help advice;\n",
      "F2:                         describe;\n",
      "F7:                         save\n",
      "F8:                         use\n",
      "S_StataMP:                  MP\n",
      "S_StataSE:                  SE\n",
      "S_CONSOLE:                  console\n",
      "S_FLAVOR:                   Intercooled\n",
      "S_OS:                       Unix\n",
      "S_MACH:                     PC (64-bit x86-64)\n"
     ]
    }
   ],
   "source": [
    "%globals"
   ]
  },
  {
   "cell_type": "markdown",
   "metadata": {},
   "source": [
    "---\n",
    "# 0. Mode Analysis\n",
    "---\n",
    "* before: 1(%) 2 3 4 5 \n",
    "* After : 1(%) 2 3 4 5 \n",
    "---"
   ]
  },
  {
   "cell_type": "code",
   "execution_count": 45,
   "metadata": {},
   "outputs": [
    {
     "name": "stdout",
     "output_type": "stream",
     "text": [
      "\n",
      "          y |      Freq.     Percent        Cum.\n",
      "------------+-----------------------------------\n",
      "          0 |         66       35.87       35.87\n",
      "          1 |        118       64.13      100.00\n",
      "------------+-----------------------------------\n",
      "      Total |        184      100.00\n"
     ]
    }
   ],
   "source": [
    "* 64.13% says want to buy EVs\n",
    "tab y"
   ]
  },
  {
   "cell_type": "code",
   "execution_count": 25,
   "metadata": {},
   "outputs": [
    {
     "name": "stdout",
     "output_type": "stream",
     "text": [
      "\n",
      "        age |      Freq.     Percent        Cum.\n",
      "------------+-----------------------------------\n",
      "          1 |         24       13.04       13.04\n",
      "          2 |         93       50.54       63.59\n",
      "          3 |         51       27.72       91.30\n",
      "          4 |         15        8.15       99.46\n",
      "          5 |          1        0.54      100.00\n",
      "------------+-----------------------------------\n",
      "      Total |        184      100.00\n"
     ]
    }
   ],
   "source": [
    "* age mode: 2 ( 93       50.54%)\n",
    "tab age"
   ]
  },
  {
   "cell_type": "code",
   "execution_count": 26,
   "metadata": {},
   "outputs": [
    {
     "name": "stdout",
     "output_type": "stream",
     "text": [
      "\n",
      "     gender |      Freq.     Percent        Cum.\n",
      "------------+-----------------------------------\n",
      "          0 |         37       20.11       20.11\n",
      "          1 |        147       79.89      100.00\n",
      "------------+-----------------------------------\n",
      "      Total |        184      100.00\n"
     ]
    }
   ],
   "source": [
    "* gender mode: 1 (male) (147  79.89% )\n",
    "tab gender"
   ]
  },
  {
   "cell_type": "code",
   "execution_count": 28,
   "metadata": {},
   "outputs": [
    {
     "name": "stdout",
     "output_type": "stream",
     "text": [
      "\n",
      "   marriage |      Freq.     Percent        Cum.\n",
      "------------+-----------------------------------\n",
      "          0 |        111       60.33       60.33\n",
      "          1 |         73       39.67      100.00\n",
      "------------+-----------------------------------\n",
      "      Total |        184      100.00\n"
     ]
    }
   ],
   "source": [
    "* marriage mode: single 1 (73       39.67%)\n",
    "tab marriage"
   ]
  },
  {
   "cell_type": "code",
   "execution_count": 30,
   "metadata": {},
   "outputs": [
    {
     "name": "stdout",
     "output_type": "stream",
     "text": [
      "\n",
      "   student1 |      Freq.     Percent        Cum.\n",
      "------------+-----------------------------------\n",
      "          0 |        174       94.57       94.57\n",
      "          1 |         10        5.43      100.00\n",
      "------------+-----------------------------------\n",
      "      Total |        184      100.00\n"
     ]
    }
   ],
   "source": [
    "* job type: student  10        \n",
    "tab student1  "
   ]
  },
  {
   "cell_type": "code",
   "execution_count": 31,
   "metadata": {},
   "outputs": [
    {
     "name": "stdout",
     "output_type": "stream",
     "text": [
      "\n",
      "company_man |\n",
      "          2 |      Freq.     Percent        Cum.\n",
      "------------+-----------------------------------\n",
      "          0 |        179       97.28       97.28\n",
      "          1 |          5        2.72      100.00\n",
      "------------+-----------------------------------\n",
      "      Total |        184      100.00\n"
     ]
    }
   ],
   "source": [
    "* job type: company_mant   5       \n",
    "tab company_man2"
   ]
  },
  {
   "cell_type": "code",
   "execution_count": 32,
   "metadata": {},
   "outputs": [
    {
     "name": "stdout",
     "output_type": "stream",
     "text": [
      "\n",
      "public_offi |\n",
      "       cer3 |      Freq.     Percent        Cum.\n",
      "------------+-----------------------------------\n",
      "          0 |         95       51.63       51.63\n",
      "          1 |         89       48.37      100.00\n",
      "------------+-----------------------------------\n",
      "      Total |        184      100.00\n"
     ]
    }
   ],
   "source": [
    "* job type: public_officer3    89       ** highest due to early statge government driven deployment programs\n",
    "tab public_off~3"
   ]
  },
  {
   "cell_type": "code",
   "execution_count": 33,
   "metadata": {},
   "outputs": [
    {
     "name": "stdout",
     "output_type": "stream",
     "text": [
      "\n",
      "profession4 |      Freq.     Percent        Cum.\n",
      "------------+-----------------------------------\n",
      "          0 |        133       72.28       72.28\n",
      "          1 |         51       27.72      100.00\n",
      "------------+-----------------------------------\n",
      "      Total |        184      100.00\n"
     ]
    }
   ],
   "source": [
    "* job type: cpublic_officer3    51    \n",
    "tab profession4"
   ]
  },
  {
   "cell_type": "code",
   "execution_count": 34,
   "metadata": {},
   "outputs": [
    {
     "name": "stdout",
     "output_type": "stream",
     "text": [
      "\n",
      "researcher5 |      Freq.     Percent        Cum.\n",
      "------------+-----------------------------------\n",
      "          0 |        167       90.76       90.76\n",
      "          1 |         17        9.24      100.00\n",
      "------------+-----------------------------------\n",
      "      Total |        184      100.00\n"
     ]
    }
   ],
   "source": [
    "* job type: public_officer3    17   \n",
    "tab researcher5"
   ]
  },
  {
   "cell_type": "code",
   "execution_count": 35,
   "metadata": {},
   "outputs": [
    {
     "name": "stdout",
     "output_type": "stream",
     "text": [
      "\n",
      "      Learn |      Freq.     Percent        Cum.\n",
      "------------+-----------------------------------\n",
      "          2 |          8        4.35        4.35\n",
      "          3 |        128       69.57       73.91\n",
      "          4 |         48       26.09      100.00\n",
      "------------+-----------------------------------\n",
      "      Total |        184      100.00\n"
     ]
    }
   ],
   "source": [
    "* Learn mode: 3  (28       69.57%) \n",
    "tab  learn"
   ]
  },
  {
   "cell_type": "code",
   "execution_count": 29,
   "metadata": {},
   "outputs": [
    {
     "name": "stdout",
     "output_type": "stream",
     "text": [
      "\n",
      "     income |      Freq.     Percent        Cum.\n",
      "------------+-----------------------------------\n",
      "          1 |         76       41.30       41.30\n",
      "          2 |         46       25.00       66.30\n",
      "          3 |         22       11.96       78.26\n",
      "          4 |         20       10.87       89.13\n",
      "          5 |         11        5.98       95.11\n",
      "          6 |          9        4.89      100.00\n",
      "------------+-----------------------------------\n",
      "      Total |        184      100.00\n"
     ]
    }
   ],
   "source": [
    "* income mode: 1  20-30 million (76       41.30%)\n",
    "tab   income   "
   ]
  },
  {
   "cell_type": "code",
   "execution_count": 39,
   "metadata": {},
   "outputs": [
    {
     "name": "stdout",
     "output_type": "stream",
     "text": [
      "\n",
      "avg_distanc |\n",
      "          e |      Freq.     Percent        Cum.\n",
      "------------+-----------------------------------\n",
      "          1 |         27       14.67       14.67\n",
      "          2 |         34       18.48       33.15\n",
      "          3 |         42       22.83       55.98\n",
      "          4 |         34       18.48       74.46\n",
      "          5 |         33       17.93       92.39\n",
      "          6 |         14        7.61      100.00\n",
      "------------+-----------------------------------\n",
      "      Total |        184      100.00\n"
     ]
    }
   ],
   "source": [
    "* average distrance mode:  3, (42       22.83%)\n",
    "tab avg_distance"
   ]
  },
  {
   "cell_type": "code",
   "execution_count": 40,
   "metadata": {},
   "outputs": [
    {
     "name": "stdout",
     "output_type": "stream",
     "text": [
      "\n",
      "freq_use_ev |      Freq.     Percent        Cum.\n",
      "------------+-----------------------------------\n",
      "          1 |         10        5.43        5.43\n",
      "          2 |         64       34.78       40.22\n",
      "          3 |         50       27.17       67.39\n",
      "          4 |         25       13.59       80.98\n",
      "          5 |         24       13.04       94.02\n",
      "          6 |         11        5.98      100.00\n",
      "------------+-----------------------------------\n",
      "      Total |        184      100.00\n"
     ]
    }
   ],
   "source": [
    "* frequency of usage of ev: 2        (64       34.78%)\n",
    "tab   freq_use_ev  "
   ]
  },
  {
   "cell_type": "code",
   "execution_count": 41,
   "metadata": {},
   "outputs": [
    {
     "name": "stdout",
     "output_type": "stream",
     "text": [
      "\n",
      "club_kepco2 |      Freq.     Percent        Cum.\n",
      "------------+-----------------------------------\n",
      "          0 |         88       47.83       47.83\n",
      "          1 |         96       52.17      100.00\n",
      "------------+-----------------------------------\n",
      "      Total |        184      100.00\n"
     ]
    }
   ],
   "source": [
    "* club type mode: 96 club_kepco2 = 1\n",
    "tab club_kepco2"
   ]
  },
  {
   "cell_type": "code",
   "execution_count": 42,
   "metadata": {},
   "outputs": [
    {
     "name": "stdout",
     "output_type": "stream",
     "text": [
      "\n",
      " club_jeju3 |      Freq.     Percent        Cum.\n",
      "------------+-----------------------------------\n",
      "          0 |        133       72.28       72.28\n",
      "          1 |         51       27.72      100.00\n",
      "------------+-----------------------------------\n",
      "      Total |        184      100.00\n"
     ]
    }
   ],
   "source": [
    "* club type mode: 51 club_jeju3 = 0\n",
    "tab club_jeju3 "
   ]
  },
  {
   "cell_type": "code",
   "execution_count": 43,
   "metadata": {},
   "outputs": [
    {
     "name": "stdout",
     "output_type": "stream",
     "text": [
      "\n",
      "   ev_owner |      Freq.     Percent        Cum.\n",
      "------------+-----------------------------------\n",
      "          0 |        166       90.22       90.22\n",
      "          1 |         18        9.78      100.00\n",
      "------------+-----------------------------------\n",
      "      Total |        184      100.00\n"
     ]
    }
   ],
   "source": [
    "* mode of ownership ev : mode = 0\n",
    "tab ev_owner "
   ]
  },
  {
   "cell_type": "code",
   "execution_count": 44,
   "metadata": {},
   "outputs": [
    {
     "name": "stdout",
     "output_type": "stream",
     "text": [
      "\n",
      "saving_free |      Freq.     Percent        Cum.\n",
      "------------+-----------------------------------\n",
      "          0 |         20       10.87       10.87\n",
      "          1 |        164       89.13      100.00\n",
      "------------+-----------------------------------\n",
      "      Total |        184      100.00\n"
     ]
    }
   ],
   "source": [
    "* saving free mode = 1 (164       89.13%)\n",
    "tab  saving_free "
   ]
  },
  {
   "cell_type": "markdown",
   "metadata": {},
   "source": [
    "---\n",
    "### cons_short_dis\n",
    "---"
   ]
  },
  {
   "cell_type": "code",
   "execution_count": 7,
   "metadata": {},
   "outputs": [
    {
     "name": "stdout",
     "output_type": "stream",
     "text": [
      "\n",
      "a_cons_shor |\n",
      "      t_dis |      Freq.     Percent        Cum.\n",
      "------------+-----------------------------------\n",
      "          1 |          7        3.80        3.80\n",
      "          2 |         18        9.78       13.59\n",
      "          3 |         45       24.46       38.04\n",
      "          4 |         61       33.15       71.20\n",
      "          5 |         53       28.80      100.00\n",
      "------------+-----------------------------------\n",
      "      Total |        184      100.00\n"
     ]
    }
   ],
   "source": [
    "* a_cons_short_dis mode =  4  (61       33.15%)\n",
    "tab a_cons_short_dis"
   ]
  },
  {
   "cell_type": "code",
   "execution_count": 8,
   "metadata": {},
   "outputs": [
    {
     "name": "stdout",
     "output_type": "stream",
     "text": [
      "\n",
      "b_cons_shor |\n",
      "      t_dis |      Freq.     Percent        Cum.\n",
      "------------+-----------------------------------\n",
      "          1 |          5        2.72        2.72\n",
      "          2 |          9        4.89        7.61\n",
      "          3 |         30       16.30       23.91\n",
      "          4 |         77       41.85       65.76\n",
      "          5 |         63       34.24      100.00\n",
      "------------+-----------------------------------\n",
      "      Total |        184      100.00\n"
     ]
    }
   ],
   "source": [
    "* b_b_cons_short_dis mode =  4,  ( 41.85       65.76%)\n",
    "tab b_cons_short_dis"
   ]
  },
  {
   "cell_type": "code",
   "execution_count": 9,
   "metadata": {},
   "outputs": [
    {
     "name": "stdout",
     "output_type": "stream",
     "text": [
      "\n",
      "g_cons_shor |\n",
      "      t_dis |      Freq.     Percent        Cum.\n",
      "------------+-----------------------------------\n",
      "         -3 |          5        2.72        2.72\n",
      "         -2 |         13        7.07        9.78\n",
      "         -1 |         51       27.72       37.50\n",
      "          0 |         83       45.11       82.61\n",
      "          1 |         24       13.04       95.65\n",
      "          2 |          5        2.72       98.37\n",
      "          3 |          3        1.63      100.00\n",
      "------------+-----------------------------------\n",
      "      Total |        184      100.00\n"
     ]
    }
   ],
   "source": [
    "* g_cons_short_dis mode  0, (83       45.11%) \n",
    "tab g_cons_short_dis"
   ]
  },
  {
   "cell_type": "markdown",
   "metadata": {},
   "source": [
    "---\n",
    "### cons_as\n",
    "---"
   ]
  },
  {
   "cell_type": "code",
   "execution_count": 13,
   "metadata": {},
   "outputs": [
    {
     "name": "stdout",
     "output_type": "stream",
     "text": [
      "\n",
      "  a_cons_as |      Freq.     Percent        Cum.\n",
      "------------+-----------------------------------\n",
      "          1 |         16        8.70        8.70\n",
      "          2 |         32       17.39       26.09\n",
      "          3 |         48       26.09       52.17\n",
      "          4 |         54       29.35       81.52\n",
      "          5 |         34       18.48      100.00\n",
      "------------+-----------------------------------\n",
      "      Total |        184      100.00\n"
     ]
    }
   ],
   "source": [
    "* a_cons_as mode: 4, (54       29.35%)\n",
    "tab a_cons_as"
   ]
  },
  {
   "cell_type": "code",
   "execution_count": 14,
   "metadata": {},
   "outputs": [
    {
     "name": "stdout",
     "output_type": "stream",
     "text": [
      "\n",
      "  b_cons_as |      Freq.     Percent        Cum.\n",
      "------------+-----------------------------------\n",
      "          1 |          5        2.72        2.72\n",
      "          2 |         22       11.96       14.67\n",
      "          3 |         60       32.61       47.28\n",
      "          4 |         54       29.35       76.63\n",
      "          5 |         43       23.37      100.00\n",
      "------------+-----------------------------------\n",
      "      Total |        184      100.00\n"
     ]
    }
   ],
   "source": [
    "* b_cons_as mode: 3, (60       32.61)\n",
    "tab b_cons_as"
   ]
  },
  {
   "cell_type": "code",
   "execution_count": 15,
   "metadata": {},
   "outputs": [
    {
     "name": "stdout",
     "output_type": "stream",
     "text": [
      "\n",
      "  g_cons_as |      Freq.     Percent        Cum.\n",
      "------------+-----------------------------------\n",
      "         -3 |          7        3.80        3.80\n",
      "         -2 |         20       10.87       14.67\n",
      "         -1 |         36       19.57       34.24\n",
      "          0 |         88       47.83       82.07\n",
      "          1 |         21       11.41       93.48\n",
      "          2 |         10        5.43       98.91\n",
      "          3 |          2        1.09      100.00\n",
      "------------+-----------------------------------\n",
      "      Total |        184      100.00\n"
     ]
    }
   ],
   "source": [
    "* g_cons_as mode: 0, (88       47.83)\n",
    "tab g_cons_as"
   ]
  },
  {
   "cell_type": "markdown",
   "metadata": {},
   "source": [
    "---\n",
    "### cons_charge_fee\n",
    "---"
   ]
  },
  {
   "cell_type": "code",
   "execution_count": 16,
   "metadata": {},
   "outputs": [
    {
     "name": "stdout",
     "output_type": "stream",
     "text": [
      "\n",
      "a_cons_char |\n",
      "     ge_fee |      Freq.     Percent        Cum.\n",
      "------------+-----------------------------------\n",
      "          1 |         30       16.30       16.30\n",
      "          2 |         46       25.00       41.30\n",
      "          3 |         60       32.61       73.91\n",
      "          4 |         32       17.39       91.30\n",
      "          5 |         16        8.70      100.00\n",
      "------------+-----------------------------------\n",
      "      Total |        184      100.00\n"
     ]
    }
   ],
   "source": [
    "* a_cons_charge_fee mode: 3 (60       32.61)\n",
    "tab a_cons_charge_fee"
   ]
  },
  {
   "cell_type": "code",
   "execution_count": 17,
   "metadata": {},
   "outputs": [
    {
     "name": "stdout",
     "output_type": "stream",
     "text": [
      "\n",
      "b_cons_char |\n",
      "     ge_fee |      Freq.     Percent        Cum.\n",
      "------------+-----------------------------------\n",
      "          1 |         15        8.15        8.15\n",
      "          2 |         34       18.48       26.63\n",
      "          3 |         64       34.78       61.41\n",
      "          4 |         48       26.09       87.50\n",
      "          5 |         23       12.50      100.00\n",
      "------------+-----------------------------------\n",
      "      Total |        184      100.00\n"
     ]
    }
   ],
   "source": [
    "* b_cons_charge_fee: 3  (64       34.78%)\n",
    "tab b_cons_charge_fee"
   ]
  },
  {
   "cell_type": "code",
   "execution_count": 18,
   "metadata": {},
   "outputs": [
    {
     "name": "stdout",
     "output_type": "stream",
     "text": [
      "\n",
      "g_cons_char |\n",
      "     ge_fee |      Freq.     Percent        Cum.\n",
      "------------+-----------------------------------\n",
      "         -4 |          1        0.54        0.54\n",
      "         -3 |          4        2.17        2.72\n",
      "         -2 |         21       11.41       14.13\n",
      "         -1 |         50       27.17       41.30\n",
      "          0 |         79       42.93       84.24\n",
      "          1 |         24       13.04       97.28\n",
      "          2 |          3        1.63       98.91\n",
      "          3 |          2        1.09      100.00\n",
      "------------+-----------------------------------\n",
      "      Total |        184      100.00\n"
     ]
    }
   ],
   "source": [
    "* g_cons_charge_fee mode: 0 (79       42.93%)\n",
    "tab g_cons_charge_fee"
   ]
  },
  {
   "cell_type": "markdown",
   "metadata": {},
   "source": [
    "---\n",
    "### cons_num_charge_lack\n",
    "---"
   ]
  },
  {
   "cell_type": "code",
   "execution_count": 19,
   "metadata": {},
   "outputs": [
    {
     "name": "stdout",
     "output_type": "stream",
     "text": [
      "\n",
      "a_cons_num_ |\n",
      "charge_lack |      Freq.     Percent        Cum.\n",
      "------------+-----------------------------------\n",
      "          1 |          5        2.72        2.72\n",
      "          2 |         10        5.43        8.15\n",
      "          3 |         28       15.22       23.37\n",
      "          4 |         58       31.52       54.89\n",
      "          5 |         83       45.11      100.00\n",
      "------------+-----------------------------------\n",
      "      Total |        184      100.00\n"
     ]
    }
   ],
   "source": [
    "*  a_cons_num_charge_lack mode: 5, (83       45.11%)\n",
    "tab a_cons_num_charge_lack"
   ]
  },
  {
   "cell_type": "code",
   "execution_count": 20,
   "metadata": {},
   "outputs": [
    {
     "name": "stdout",
     "output_type": "stream",
     "text": [
      "\n",
      "b_cons_num_ |\n",
      "charge_lack |      Freq.     Percent        Cum.\n",
      "------------+-----------------------------------\n",
      "          1 |          2        1.09        1.09\n",
      "          2 |          3        1.63        2.72\n",
      "          3 |         28       15.22       17.93\n",
      "          4 |         55       29.89       47.83\n",
      "          5 |         96       52.17      100.00\n",
      "------------+-----------------------------------\n",
      "      Total |        184      100.00\n"
     ]
    }
   ],
   "source": [
    "* b_cons_num_charge_lack mode: 5 (96       52.17%)\n",
    "tab b_cons_num_charge_lack"
   ]
  },
  {
   "cell_type": "code",
   "execution_count": 21,
   "metadata": {},
   "outputs": [
    {
     "name": "stdout",
     "output_type": "stream",
     "text": [
      "\n",
      "g_cons_num_ |\n",
      "charge_lack |      Freq.     Percent        Cum.\n",
      "------------+-----------------------------------\n",
      "         -3 |          1        0.54        0.54\n",
      "         -2 |         19       10.33       10.87\n",
      "         -1 |         31       16.85       27.72\n",
      "          0 |        108       58.70       86.41\n",
      "          1 |         15        8.15       94.57\n",
      "          2 |          9        4.89       99.46\n",
      "          3 |          1        0.54      100.00\n",
      "------------+-----------------------------------\n",
      "      Total |        184      100.00\n"
     ]
    }
   ],
   "source": [
    "* g_cons_num_charge_lack mode: 0 (108       58.70%)\n",
    "tab g_cons_num_charge_lack"
   ]
  },
  {
   "cell_type": "markdown",
   "metadata": {},
   "source": [
    "---\n",
    "### cons_long_charge_time\n",
    "---"
   ]
  },
  {
   "cell_type": "code",
   "execution_count": 22,
   "metadata": {},
   "outputs": [
    {
     "name": "stdout",
     "output_type": "stream",
     "text": [
      "\n",
      "a_cons_long |\n",
      "_charge_tim |\n",
      "          e |      Freq.     Percent        Cum.\n",
      "------------+-----------------------------------\n",
      "          1 |          5        2.72        2.72\n",
      "          2 |         12        6.52        9.24\n",
      "          3 |         37       20.11       29.35\n",
      "          4 |         70       38.04       67.39\n",
      "          5 |         60       32.61      100.00\n",
      "------------+-----------------------------------\n",
      "      Total |        184      100.00\n"
     ]
    }
   ],
   "source": [
    "* a_cons_long_charge_time mode: 4, (70       38.04%)\n",
    "tab a_cons_long_charge_time"
   ]
  },
  {
   "cell_type": "code",
   "execution_count": 23,
   "metadata": {},
   "outputs": [
    {
     "name": "stdout",
     "output_type": "stream",
     "text": [
      "\n",
      "b_cons_long |\n",
      "_charge_tim |\n",
      "          e |      Freq.     Percent        Cum.\n",
      "------------+-----------------------------------\n",
      "          1 |          4        2.17        2.17\n",
      "          2 |          3        1.63        3.80\n",
      "          3 |         32       17.39       21.20\n",
      "          4 |         73       39.67       60.87\n",
      "          5 |         72       39.13      100.00\n",
      "------------+-----------------------------------\n",
      "      Total |        184      100.00\n"
     ]
    }
   ],
   "source": [
    "* b_cons_long_charge_time mode: 4 ( 73       39.67%)\n",
    "tab b_cons_long_charge_time"
   ]
  },
  {
   "cell_type": "code",
   "execution_count": 24,
   "metadata": {},
   "outputs": [
    {
     "name": "stdout",
     "output_type": "stream",
     "text": [
      "\n",
      "g_cons_long |\n",
      "_charge_tim |\n",
      "          e |      Freq.     Percent        Cum.\n",
      "------------+-----------------------------------\n",
      "         -3 |          1        0.54        0.54\n",
      "         -2 |         21       11.41       11.96\n",
      "         -1 |         32       17.39       29.35\n",
      "          0 |        103       55.98       85.33\n",
      "          1 |         20       10.87       96.20\n",
      "          2 |          4        2.17       98.37\n",
      "          3 |          1        0.54       98.91\n",
      "          4 |          2        1.09      100.00\n",
      "------------+-----------------------------------\n",
      "      Total |        184      100.00\n"
     ]
    }
   ],
   "source": [
    "* g_cons_long_charge_time mode: 0 (103       55.98%)\n",
    "tab g_cons_long_charge_time"
   ]
  },
  {
   "cell_type": "markdown",
   "metadata": {},
   "source": [
    "---\n",
    "### cons_hill_ride \n",
    "---"
   ]
  },
  {
   "cell_type": "code",
   "execution_count": 25,
   "metadata": {},
   "outputs": [
    {
     "name": "stdout",
     "output_type": "stream",
     "text": [
      "\n",
      "a_cons_hill |\n",
      "      _ride |      Freq.     Percent        Cum.\n",
      "------------+-----------------------------------\n",
      "          1 |         40       21.74       21.74\n",
      "          2 |         38       20.65       42.39\n",
      "          3 |         57       30.98       73.37\n",
      "          4 |         32       17.39       90.76\n",
      "          5 |         17        9.24      100.00\n",
      "------------+-----------------------------------\n",
      "      Total |        184      100.00\n"
     ]
    }
   ],
   "source": [
    "* a_cons_hill_ride mode: 3, (57       30.98%)\n",
    "tab a_cons_hill_ride "
   ]
  },
  {
   "cell_type": "code",
   "execution_count": 26,
   "metadata": {},
   "outputs": [
    {
     "name": "stdout",
     "output_type": "stream",
     "text": [
      "\n",
      "b_cons_hill |\n",
      "      _ride |      Freq.     Percent        Cum.\n",
      "------------+-----------------------------------\n",
      "          1 |         20       10.87       10.87\n",
      "          2 |         30       16.30       27.17\n",
      "          3 |         49       26.63       53.80\n",
      "          4 |         54       29.35       83.15\n",
      "          5 |         31       16.85      100.00\n",
      "------------+-----------------------------------\n",
      "      Total |        184      100.00\n"
     ]
    }
   ],
   "source": [
    "* b_cons_hill_ride mode: 4 (54       29.35%)\n",
    "tab b_cons_hill_ride "
   ]
  },
  {
   "cell_type": "code",
   "execution_count": 27,
   "metadata": {},
   "outputs": [
    {
     "name": "stdout",
     "output_type": "stream",
     "text": [
      "\n",
      "g_cons_hill |\n",
      "      _ride |      Freq.     Percent        Cum.\n",
      "------------+-----------------------------------\n",
      "         -4 |          4        2.17        2.17\n",
      "         -3 |          5        2.72        4.89\n",
      "         -2 |         25       13.59       18.48\n",
      "         -1 |         50       27.17       45.65\n",
      "          0 |         77       41.85       87.50\n",
      "          1 |         16        8.70       96.20\n",
      "          2 |          5        2.72       98.91\n",
      "          3 |          1        0.54       99.46\n",
      "          4 |          1        0.54      100.00\n",
      "------------+-----------------------------------\n",
      "      Total |        184      100.00\n"
     ]
    }
   ],
   "source": [
    "* g_cons_hill_ride mode: 0 ( 77       41.85%)\n",
    "tab  g_cons_hill_ride "
   ]
  },
  {
   "cell_type": "markdown",
   "metadata": {},
   "source": [
    "---\n",
    "### cons_hac\n",
    "---"
   ]
  },
  {
   "cell_type": "code",
   "execution_count": 28,
   "metadata": {},
   "outputs": [
    {
     "name": "stdout",
     "output_type": "stream",
     "text": [
      "\n",
      " a_cons_hac |      Freq.     Percent        Cum.\n",
      "------------+-----------------------------------\n",
      "          1 |         26       14.13       14.13\n",
      "          2 |         27       14.67       28.80\n",
      "          3 |         51       27.72       56.52\n",
      "          4 |         47       25.54       82.07\n",
      "          5 |         33       17.93      100.00\n",
      "------------+-----------------------------------\n",
      "      Total |        184      100.00\n"
     ]
    }
   ],
   "source": [
    "* a_cons_hac mode: 3, (51       27.72%)\n",
    "tab a_cons_hac"
   ]
  },
  {
   "cell_type": "code",
   "execution_count": 29,
   "metadata": {},
   "outputs": [
    {
     "name": "stdout",
     "output_type": "stream",
     "text": [
      "\n",
      " b_cons_hac |      Freq.     Percent        Cum.\n",
      "------------+-----------------------------------\n",
      "          1 |         11        5.98        5.98\n",
      "          2 |         25       13.59       19.57\n",
      "          3 |         58       31.52       51.09\n",
      "          4 |         51       27.72       78.80\n",
      "          5 |         39       21.20      100.00\n",
      "------------+-----------------------------------\n",
      "      Total |        184      100.00\n"
     ]
    }
   ],
   "source": [
    "* b_cons_hac mode: 3 (58       31.52%)\n",
    "tab b_cons_hac"
   ]
  },
  {
   "cell_type": "code",
   "execution_count": 30,
   "metadata": {},
   "outputs": [
    {
     "name": "stdout",
     "output_type": "stream",
     "text": [
      "\n",
      " g_cons_hac |      Freq.     Percent        Cum.\n",
      "------------+-----------------------------------\n",
      "         -4 |          3        1.63        1.63\n",
      "         -3 |          4        2.17        3.80\n",
      "         -2 |         16        8.70       12.50\n",
      "         -1 |         48       26.09       38.59\n",
      "          0 |         76       41.30       79.89\n",
      "          1 |         21       11.41       91.30\n",
      "          2 |         14        7.61       98.91\n",
      "          3 |          1        0.54       99.46\n",
      "          4 |          1        0.54      100.00\n",
      "------------+-----------------------------------\n",
      "      Total |        184      100.00\n"
     ]
    }
   ],
   "source": [
    "* g_cons_hac mode: 0 ( 76       41.30%)\n",
    "tab g_cons_hac"
   ]
  },
  {
   "cell_type": "markdown",
   "metadata": {},
   "source": [
    "---\n",
    "# Summary Statistics\n",
    "---"
   ]
  },
  {
   "cell_type": "code",
   "execution_count": 31,
   "metadata": {},
   "outputs": [
    {
     "name": "stdout",
     "output_type": "stream",
     "text": [
      "\n",
      "    Variable |        Obs        Mean    Std. Dev.       Min        Max\n",
      "-------------+---------------------------------------------------------\n",
      "           y |        184    .6413043    .4809263          0          1\n",
      "         age |        184    2.326087    .8246038          1          5\n",
      "      gender |        184     .798913    .4019065          0          1\n",
      "    marriage |        184    .3967391    .4905559          0          1\n",
      "    student1 |        184    .0543478    .2273213          0          1\n",
      "-------------+---------------------------------------------------------\n",
      "company_man2 |        184    .0271739    .1630336          0          1\n",
      "public_off~3 |        184    .4836957    .5010976          0          1\n",
      " profession4 |        184    .2771739    .4488244          0          1\n",
      " researcher5 |        184    .0923913    .2903677          0          1\n",
      "       learn |        184    3.217391    .5084228          2          4\n",
      "-------------+---------------------------------------------------------\n",
      "      income |        184    2.298913    1.486845          1          6\n",
      "avg_distance |        184    3.293478    1.511617          1          6\n",
      " freq_use_ev |        184    3.119565    1.325186          1          6\n",
      " club_kepco2 |        184    .5217391    .5008902          0          1\n",
      "  club_jeju3 |        184    .2771739    .4488244          0          1\n",
      "-------------+---------------------------------------------------------\n",
      "    ev_owner |        184    .0978261    .2978899          0          1\n",
      " saving_free |        184    .8913043    .3121062          0          1\n"
     ]
    }
   ],
   "source": [
    "sum y age gender marriage student1 company_man2 public_officer3 profession4 researcher5 learn income avg_distance freq_use_ev club_kepco2 club_jeju3  ev_owner saving_free "
   ]
  },
  {
   "cell_type": "code",
   "execution_count": 32,
   "metadata": {},
   "outputs": [
    {
     "name": "stdout",
     "output_type": "stream",
     "text": [
      "\n",
      "    Variable |        Obs        Mean    Std. Dev.       Min        Max\n",
      "-------------+---------------------------------------------------------\n",
      "a_cons_sho~s |        184    3.733696     1.09632          1          5\n",
      "   a_cons_as |        184    3.315217    1.209519          1          5\n",
      "a_cons_cha~e |        184    2.771739    1.174439          1          5\n",
      "a_cons_num~k |        184    4.108696    1.029154          1          5\n",
      "a_cons_lon~e |        184    3.913043    1.015209          1          5\n",
      "-------------+---------------------------------------------------------\n",
      "a_cons_hil~e |        184    2.717391    1.244231          1          5\n",
      "  a_cons_hac |        184    3.184783    1.288277          1          5\n"
     ]
    }
   ],
   "source": [
    "sum a_cons_short_dis a_cons_as a_cons_charge_fee a_cons_num_charge_lack a_cons_long_charge_time a_cons_hill_ride a_cons_hac"
   ]
  },
  {
   "cell_type": "code",
   "execution_count": 33,
   "metadata": {},
   "outputs": [
    {
     "name": "stdout",
     "output_type": "stream",
     "text": [
      "\n",
      "    Variable |        Obs        Mean    Std. Dev.       Min        Max\n",
      "-------------+---------------------------------------------------------\n",
      "b_cons_sho~s |        184           4    .9750998          1          5\n",
      "   b_cons_as |        184    3.586957    1.057393          1          5\n",
      "b_cons_cha~e |        184    3.163043     1.11891          1          5\n",
      "b_cons_num~k |        184    4.304348     .865099          1          5\n",
      "b_cons_lon~e |        184    4.119565    .9034529          1          5\n",
      "-------------+---------------------------------------------------------\n",
      "b_cons_hil~e |        184        3.25    1.229199          1          5\n",
      "  b_cons_hac |        184    3.445652    1.143899          1          5\n"
     ]
    }
   ],
   "source": [
    "sum b_cons_short_dis b_cons_as b_cons_charge_fee b_cons_num_charge_lack b_cons_long_charge_time b_cons_hill_ride b_cons_hac"
   ]
  },
  {
   "cell_type": "code",
   "execution_count": 34,
   "metadata": {},
   "outputs": [
    {
     "name": "stdout",
     "output_type": "stream",
     "text": [
      "\n",
      "    Variable |        Obs        Mean    Std. Dev.       Min        Max\n",
      "-------------+---------------------------------------------------------\n",
      "g_cons_sho~s |        184   -.2663043    1.060856         -3          3\n",
      "   g_cons_as |        184   -.2717391    1.155677         -3          3\n",
      "g_cons_cha~e |        184   -.3913043    1.075881         -4          3\n",
      "g_cons_num~k |        184   -.1956522     .960864         -3          3\n",
      "g_cons_lon~e |        184   -.2065217     1.03002         -3          4\n",
      "-------------+---------------------------------------------------------\n",
      "g_cons_hil~e |        184   -.5326087    1.209716         -4          4\n",
      "  g_cons_hac |        184   -.2608696    1.248996         -4          4\n"
     ]
    }
   ],
   "source": [
    "sum g_cons_short_dis g_cons_as g_cons_charge_fee g_cons_num_charge_lack g_cons_long_charge_time g_cons_hill_ride g_cons_hac"
   ]
  },
  {
   "cell_type": "markdown",
   "metadata": {},
   "source": [
    "---\n",
    "# <font color= blue> 1. Pre-analysis: correlation among concerns after before and gap\n",
    "* No strong correlation among all concern variables, because none of correation is higher than 0.6\n",
    "* The concern on driving up-hill has the highest correlation with the concern on HAC\n",
    "---"
   ]
  },
  {
   "cell_type": "code",
   "execution_count": 15,
   "metadata": {},
   "outputs": [
    {
     "name": "stdout",
     "output_type": "stream",
     "text": [
      "(obs=184)\n",
      "\n",
      "             | a_con~is a_con~as a_con~ee a_cons~k a_con~me a_con~de a_cons~c\n",
      "-------------+---------------------------------------------------------------\n",
      "a_cons_sho~s |   1.0000\n",
      "   a_cons_as |   0.1296   1.0000\n",
      "a_cons_cha~e |   0.1265   0.2894   1.0000\n",
      "a_cons_num~k |   0.4084   0.0470   0.2105   1.0000\n",
      "a_cons_lon~e |   0.3768   0.2094   0.2033   0.5321   1.0000\n",
      "a_cons_hil~e |   0.0206   0.3972   0.4044   0.0071   0.1492   1.0000\n",
      "  a_cons_hac |   0.3059   0.3727   0.2989   0.1414   0.2589   0.5032   1.0000\n",
      "\n"
     ]
    }
   ],
   "source": [
    "corr a_cons_short_dis a_cons_as a_cons_charge_fee a_cons_num_charge_lack a_cons_long_charge_time a_cons_hill_ride a_cons_hac"
   ]
  },
  {
   "cell_type": "code",
   "execution_count": 16,
   "metadata": {},
   "outputs": [
    {
     "name": "stdout",
     "output_type": "stream",
     "text": [
      "(obs=184)\n",
      "\n",
      "             | b_con~is b_con~as b_con~ee b_cons~k b_con~me b_con~de b_cons~c\n",
      "-------------+---------------------------------------------------------------\n",
      "b_cons_sho~s |   1.0000\n",
      "   b_cons_as |   0.2544   1.0000\n",
      "b_cons_cha~e |   0.0200   0.1265   1.0000\n",
      "b_cons_num~k |   0.2591   0.1501   0.1686   1.0000\n",
      "b_cons_lon~e |   0.4342   0.3323   0.1158   0.4426   1.0000\n",
      "b_cons_hil~e |   0.1778   0.2144   0.2682   0.1233   0.2534   1.0000\n",
      "  b_cons_hac |   0.2792   0.2885   0.0454   0.1217   0.2601   0.5305   1.0000\n",
      "\n"
     ]
    }
   ],
   "source": [
    "corr b_cons_short_dis b_cons_as b_cons_charge_fee b_cons_num_charge_lack b_cons_long_charge_time b_cons_hill_ride b_cons_hac"
   ]
  },
  {
   "cell_type": "code",
   "execution_count": 17,
   "metadata": {},
   "outputs": [
    {
     "name": "stdout",
     "output_type": "stream",
     "text": [
      "(obs=184)\n",
      "\n",
      "             | g_con~is g_con~as g_con~ee g_cons~k g_con~me g_con~de g_cons~c\n",
      "-------------+---------------------------------------------------------------\n",
      "g_cons_sho~s |   1.0000\n",
      "   g_cons_as |   0.0565   1.0000\n",
      "g_cons_cha~e |   0.2050   0.0722   1.0000\n",
      "g_cons_num~k |   0.3453   0.0158   0.2533   1.0000\n",
      "g_cons_lon~e |   0.4095   0.1775   0.3951   0.3234   1.0000\n",
      "g_cons_hil~e |   0.2125   0.3571   0.1959   0.1167   0.4419   1.0000\n",
      "  g_cons_hac |   0.2648   0.2989   0.1229   0.1940   0.3657   0.5694   1.0000\n",
      "\n"
     ]
    }
   ],
   "source": [
    "corr g_cons_short_dis g_cons_as g_cons_charge_fee g_cons_num_charge_lack g_cons_long_charge_time g_cons_hill_ride g_cons_hac"
   ]
  },
  {
   "cell_type": "markdown",
   "metadata": {},
   "source": [
    "---\n",
    "# <font color = blue> 2. After Concern Analysis \n",
    "---"
   ]
  },
  {
   "cell_type": "code",
   "execution_count": 6,
   "metadata": {},
   "outputs": [
    {
     "name": "stdout",
     "output_type": "stream",
     "text": [
      "\n",
      "\n",
      "Logistic regression                             Number of obs     =        184\n",
      "                                                LR chi2(16)       =      36.95\n",
      "                                                Prob > chi2       =     0.0021\n",
      "Log likelihood = -101.61422                     Pseudo R2         =     0.1539\n",
      "\n",
      "---------------------------------------------------------------------------------\n",
      "              y |      Coef.   Std. Err.      z    P>|z|     [95% Conf. Interval]\n",
      "----------------+----------------------------------------------------------------\n",
      "            age |    .274336   .3003699     0.91   0.361    -.3143782    .8630502\n",
      "         gender |  -.0015722   .5152088    -0.00   0.998    -1.011363    1.008218\n",
      "       marriage |  -.4590257   .4839329    -0.95   0.343    -1.407517    .4894655\n",
      "       student1 |   .3450083   1.066161     0.32   0.746    -1.744629    2.434646\n",
      "   company_man2 |  -2.067243   1.312036    -1.58   0.115    -4.638787    .5043002\n",
      "public_officer3 |  -.0315093   .7138255    -0.04   0.965    -1.430582    1.367563\n",
      "    profession4 |  -.0396948   1.013224    -0.04   0.969    -2.025576    1.946187\n",
      "    researcher5 |   2.121919     1.2466     1.70   0.089    -.3213727    4.565211\n",
      "          learn |   -.054839    .400663    -0.14   0.891     -.840124     .730446\n",
      "         income |   .0275763   .1579241     0.17   0.861    -.2819493    .3371019\n",
      "   avg_distance |   .2881821   .1380183     2.09   0.037     .0176711     .558693\n",
      "    freq_use_ev |   .0333223   .1683942     0.20   0.843    -.2967243     .363369\n",
      "    club_kepco2 |  -.3207556   .4882694    -0.66   0.511    -1.277746    .6362347\n",
      "     club_jeju3 |  -1.519045   .8552378    -1.78   0.076     -3.19528    .1571904\n",
      "       ev_owner |   .7375384   .6415283     1.15   0.250     -.519834    1.994911\n",
      "    saving_free |  -1.164929    .649149    -1.79   0.073    -2.437238    .1073795\n",
      "          _cons |   .7791861   2.013614     0.39   0.699    -3.167424    4.725797\n",
      "---------------------------------------------------------------------------------\n",
      "\n"
     ]
    }
   ],
   "source": [
    "* without concern\n",
    "logit y age gender marriage student1 company_man2 public_officer3 profession4 researcher5 learn income avg_distance freq_use_ev club_kepco2 club_jeju3 ev_owner saving_free, nolog\n",
    "estimates store base"
   ]
  },
  {
   "cell_type": "code",
   "execution_count": 7,
   "metadata": {},
   "outputs": [
    {
     "name": "stdout",
     "output_type": "stream",
     "text": [
      "\n",
      "\n",
      "Logistic regression                             Number of obs     =        184\n",
      "                                                LR chi2(17)       =      37.67\n",
      "                                                Prob > chi2       =     0.0027\n",
      "Log likelihood = -101.25557                     Pseudo R2         =     0.1568\n",
      "\n",
      "----------------------------------------------------------------------------------\n",
      "               y |      Coef.   Std. Err.      z    P>|z|     [95% Conf. Interval]\n",
      "-----------------+----------------------------------------------------------------\n",
      "             age |   .2673993   .2997544     0.89   0.372    -.3201085     .854907\n",
      "          gender |   .0343578   .5179634     0.07   0.947    -.9808319    1.049547\n",
      "        marriage |  -.4436063   .4837573    -0.92   0.359    -1.391753    .5045407\n",
      "        student1 |    .294405   1.074795     0.27   0.784    -1.812155    2.400965\n",
      "    company_man2 |  -2.107942    1.32887    -1.59   0.113    -4.712479    .4965959\n",
      " public_officer3 |  -.0045423   .7170763    -0.01   0.995    -1.409986    1.400901\n",
      "     profession4 |  -.0792351   1.017968    -0.08   0.938    -2.074416    1.915946\n",
      "     researcher5 |   2.167235   1.250159     1.73   0.083    -.2830308    4.617501\n",
      "           learn |  -.0173995   .4039873    -0.04   0.966       -.8092     .774401\n",
      "          income |   .0303581   .1585919     0.19   0.848    -.2804764    .3411926\n",
      "    avg_distance |   .3039271   .1399026     2.17   0.030      .029723    .5781313\n",
      "     freq_use_ev |   .0151274   .1704129     0.09   0.929    -.3188756    .3491305\n",
      "     club_kepco2 |  -.3057562   .4894718    -0.62   0.532    -1.265103     .653591\n",
      "      club_jeju3 |  -1.356277   .8783945    -1.54   0.123    -3.077898     .365345\n",
      "        ev_owner |   .7795892    .640207     1.22   0.223    -.4751935    2.034372\n",
      "     saving_free |  -1.161025   .6513306    -1.78   0.075     -2.43761    .1155597\n",
      "a_cons_short_dis |  -.1411553   .1680249    -0.84   0.401     -.470478    .1881674\n",
      "           _cons |   1.104046   2.053533     0.54   0.591    -2.920806    5.128897\n",
      "----------------------------------------------------------------------------------\n",
      "\n"
     ]
    }
   ],
   "source": [
    "* One concern series1. : a short distance\n",
    "\n",
    "logit y age gender marriage student1 company_man2 public_officer3 profession4 researcher5 learn income avg_distance freq_use_ev club_kepco2 club_jeju3 ev_owner saving_free a_cons_short_dis, nolog \n",
    "estimates store model1"
   ]
  },
  {
   "cell_type": "code",
   "execution_count": 8,
   "metadata": {},
   "outputs": [
    {
     "name": "stdout",
     "output_type": "stream",
     "text": [
      "\n",
      "\n",
      "Logistic regression                             Number of obs     =        184\n",
      "                                                LR chi2(17)       =      39.00\n",
      "                                                Prob > chi2       =     0.0018\n",
      "Log likelihood = -100.58874                     Pseudo R2         =     0.1624\n",
      "\n",
      "---------------------------------------------------------------------------------\n",
      "              y |      Coef.   Std. Err.      z    P>|z|     [95% Conf. Interval]\n",
      "----------------+----------------------------------------------------------------\n",
      "            age |   .2662433   .3047536     0.87   0.382    -.3310628    .8635493\n",
      "         gender |   -.065283   .5183349    -0.13   0.900    -1.081201    .9506347\n",
      "       marriage |  -.4820754   .4882324    -0.99   0.323    -1.438993    .4748425\n",
      "       student1 |   .3615878   1.069187     0.34   0.735    -1.733981    2.457157\n",
      "   company_man2 |  -2.035798   1.311882    -1.55   0.121    -4.607039    .5354441\n",
      "public_officer3 |  -.0850944   .7237774    -0.12   0.906    -1.503672    1.333483\n",
      "    profession4 |  -.2633835    1.03614    -0.25   0.799    -2.294182    1.767414\n",
      "    researcher5 |   2.243134   1.254721     1.79   0.074    -.2160736    4.702342\n",
      "          learn |   .0008935   .4072194     0.00   0.998    -.7972418    .7990288\n",
      "         income |    .037714   .1600784     0.24   0.814    -.2760339    .3514619\n",
      "   avg_distance |   .3008049   .1385413     2.17   0.030     .0292689    .5723408\n",
      "    freq_use_ev |   .0399151    .169913     0.23   0.814    -.2931083    .3729385\n",
      "    club_kepco2 |  -.3729845   .4996408    -0.75   0.455    -1.352262    .6062934\n",
      "     club_jeju3 |  -1.182718   .8939657    -1.32   0.186    -2.934859    .5694225\n",
      "       ev_owner |   .7975408    .645375     1.24   0.217     -.467371    2.062453\n",
      "    saving_free |  -1.196859   .6497054    -1.84   0.065    -2.470258    .0765406\n",
      "      a_cons_as |  -.2383365   .1683464    -1.42   0.157    -.5682895    .0916164\n",
      "          _cons |   1.425887   2.078001     0.69   0.493     -2.64692    5.498695\n",
      "---------------------------------------------------------------------------------\n",
      "\n"
     ]
    }
   ],
   "source": [
    "* One concern series1. : a AS\n",
    "\n",
    "logit y age gender marriage student1 company_man2 public_officer3 profession4 researcher5 learn income avg_distance freq_use_ev club_kepco2 club_jeju3 ev_owner saving_free a_cons_as, nolog\n",
    "estimates store model2"
   ]
  },
  {
   "cell_type": "code",
   "execution_count": 9,
   "metadata": {},
   "outputs": [
    {
     "name": "stdout",
     "output_type": "stream",
     "text": [
      "\n",
      "\n",
      "Logistic regression                             Number of obs     =        184\n",
      "                                                LR chi2(17)       =      39.69\n",
      "                                                Prob > chi2       =     0.0014\n",
      "Log likelihood = -100.24419                     Pseudo R2         =     0.1653\n",
      "\n",
      "-----------------------------------------------------------------------------------\n",
      "                y |      Coef.   Std. Err.      z    P>|z|     [95% Conf. Interval]\n",
      "------------------+----------------------------------------------------------------\n",
      "              age |   .2982889   .3031536     0.98   0.325    -.2958813    .8924591\n",
      "           gender |   .0059393   .5170989     0.01   0.991    -1.007556    1.019434\n",
      "         marriage |  -.3982194   .4896476    -0.81   0.416    -1.357911    .5614722\n",
      "         student1 |   .5094608   1.074319     0.47   0.635    -1.596166    2.615087\n",
      "     company_man2 |  -1.930638      1.326    -1.46   0.145    -4.529551    .6682748\n",
      "  public_officer3 |   .0364136   .7203661     0.05   0.960    -1.375478    1.448305\n",
      "      profession4 |  -.0936705   1.020448    -0.09   0.927    -2.093712    1.906371\n",
      "      researcher5 |   2.340176   1.260437     1.86   0.063     -.130234    4.810587\n",
      "            learn |  -.0722941   .4063608    -0.18   0.859    -.8687467    .7241584\n",
      "           income |   .0513213   .1604433     0.32   0.749    -.2631418    .3657844\n",
      "     avg_distance |   .2304477   .1435685     1.61   0.108    -.0509413    .5118368\n",
      "      freq_use_ev |   .0750722   .1722499     0.44   0.663    -.2625314    .4126758\n",
      "      club_kepco2 |  -.3282674   .4903228    -0.67   0.503    -1.289282    .6327476\n",
      "       club_jeju3 |  -1.344986   .8611556    -1.56   0.118     -3.03282    .3428481\n",
      "         ev_owner |    .850658   .6487059     1.31   0.190    -.4207823    2.122098\n",
      "      saving_free |  -1.275526   .6561369    -1.94   0.052    -2.561531    .0104785\n",
      "a_cons_charge_fee |  -.2806707   .1719769    -1.63   0.103    -.6177393    .0563979\n",
      "            _cons |   1.529611   2.083289     0.73   0.463    -2.553561    5.612783\n",
      "-----------------------------------------------------------------------------------\n",
      "\n"
     ]
    }
   ],
   "source": [
    "* One concern series1. : a charging fee\n",
    "\n",
    "logit y age gender marriage student1 company_man2 public_officer3 profession4 researcher5 learn income avg_distance freq_use_ev club_kepco2 club_jeju3 ev_owner saving_free a_cons_charge_fee, nolog\n",
    "estimates store model3"
   ]
  },
  {
   "cell_type": "code",
   "execution_count": 10,
   "metadata": {},
   "outputs": [
    {
     "name": "stdout",
     "output_type": "stream",
     "text": [
      "\n",
      "\n",
      "Logistic regression                             Number of obs     =        184\n",
      "                                                LR chi2(17)       =      37.36\n",
      "                                                Prob > chi2       =     0.0030\n",
      "Log likelihood =  -101.4094                     Pseudo R2         =     0.1556\n",
      "\n",
      "----------------------------------------------------------------------------------------\n",
      "                     y |      Coef.   Std. Err.      z    P>|z|     [95% Conf. Interval]\n",
      "-----------------------+----------------------------------------------------------------\n",
      "                   age |   .2557972   .3014252     0.85   0.396    -.3349854    .8465798\n",
      "                gender |   .0351259   .5185778     0.07   0.946    -.9812679     1.05152\n",
      "              marriage |  -.4729796   .4847745    -0.98   0.329     -1.42312     .477161\n",
      "              student1 |   .3973528   1.063872     0.37   0.709    -1.687799    2.482504\n",
      "          company_man2 |  -2.011203   1.314944    -1.53   0.126    -4.588446    .5660396\n",
      "       public_officer3 |   .0070544   .7170536     0.01   0.992    -1.398345    1.412454\n",
      "           profession4 |  -.0694558   1.015084    -0.07   0.945    -2.058983    1.920071\n",
      "           researcher5 |   2.210066   1.254856     1.76   0.078    -.2494071     4.66954\n",
      "                 learn |  -.0867721   .4030077    -0.22   0.830    -.8766526    .7031085\n",
      "                income |   .0312414   .1579029     0.20   0.843    -.2782426    .3407254\n",
      "          avg_distance |   .2876624   .1381508     2.08   0.037     .0168918    .5584331\n",
      "           freq_use_ev |   .0245579   .1695217     0.14   0.885    -.3076986    .3568144\n",
      "           club_kepco2 |  -.3117366   .4881995    -0.64   0.523     -1.26859     .645117\n",
      "            club_jeju3 |  -1.459254   .8590388    -1.70   0.089    -3.142939    .2244306\n",
      "              ev_owner |   .7547155     .64567     1.17   0.242    -.5107745    2.020206\n",
      "           saving_free |   -1.13521   .6498372    -1.75   0.081    -2.408868    .1384471\n",
      "a_cons_num_charge_lack |  -.1175813   .1854913    -0.63   0.526    -.4811375    .2459749\n",
      "                 _cons |   1.333661   2.187946     0.61   0.542    -2.954634    5.621956\n",
      "----------------------------------------------------------------------------------------\n",
      "\n"
     ]
    }
   ],
   "source": [
    "* One concern series1. : a charging facility lack\n",
    "\n",
    "logit y age gender marriage student1 company_man2 public_officer3 profession4 researcher5 learn income avg_distance freq_use_ev club_kepco2 club_jeju3 ev_owner saving_free a_cons_num_charge_lack, nolog\n",
    "estimates store model4"
   ]
  },
  {
   "cell_type": "code",
   "execution_count": 11,
   "metadata": {},
   "outputs": [
    {
     "name": "stdout",
     "output_type": "stream",
     "text": [
      "\n",
      "\n",
      "Logistic regression                             Number of obs     =        184\n",
      "                                                LR chi2(17)       =      38.21\n",
      "                                                Prob > chi2       =     0.0023\n",
      "Log likelihood = -100.98372                     Pseudo R2         =     0.1591\n",
      "\n",
      "-----------------------------------------------------------------------------------------\n",
      "                      y |      Coef.   Std. Err.      z    P>|z|     [95% Conf. Interval]\n",
      "------------------------+----------------------------------------------------------------\n",
      "                    age |   .3026436   .3031927     1.00   0.318    -.2916032    .8968903\n",
      "                 gender |  -.0065264   .5169915    -0.01   0.990    -1.019811    1.006758\n",
      "               marriage |  -.5139359    .487687    -1.05   0.292    -1.469785     .441913\n",
      "               student1 |   .3170345   1.064278     0.30   0.766    -1.768911     2.40298\n",
      "           company_man2 |    -2.0489    1.32568    -1.55   0.122    -4.647185    .5493852\n",
      "        public_officer3 |  -.0528264   .7206077    -0.07   0.942    -1.465192    1.359539\n",
      "            profession4 |  -.2079473   1.030083    -0.20   0.840    -2.226872    1.810977\n",
      "            researcher5 |   2.055119   1.253286     1.64   0.101     -.401276    4.511513\n",
      "                  learn |  -.0599452   .4030178    -0.15   0.882    -.8498455    .7299551\n",
      "                 income |   .0392579   .1593043     0.25   0.805    -.2729728    .3514886\n",
      "           avg_distance |   .2864764   .1391123     2.06   0.039     .0138213    .5591315\n",
      "            freq_use_ev |   .0151614   .1702802     0.09   0.929    -.3185816    .3489044\n",
      "            club_kepco2 |  -.3138672   .4933643    -0.64   0.525    -1.280844    .6531091\n",
      "             club_jeju3 |  -1.332929   .8710264    -1.53   0.126    -3.040109    .3742516\n",
      "               ev_owner |   .8547957   .6587985     1.30   0.194    -.4364256    2.146017\n",
      "            saving_free |  -1.085098   .6497783    -1.67   0.095     -2.35864    .1884441\n",
      "a_cons_long_charge_time |  -.2129548   .1926185    -1.11   0.269    -.5904802    .1645706\n",
      "                  _cons |   1.557703   2.126762     0.73   0.464    -2.610674    5.726081\n",
      "-----------------------------------------------------------------------------------------\n",
      "\n"
     ]
    }
   ],
   "source": [
    "* One concern series1. : a charging time\n",
    "\n",
    "logit y age gender marriage student1 company_man2 public_officer3 profession4 researcher5 learn income avg_distance freq_use_ev club_kepco2 club_jeju3  ev_owner saving_free a_cons_long_charge_time, nolog\n",
    "estimates store model5"
   ]
  },
  {
   "cell_type": "code",
   "execution_count": 12,
   "metadata": {},
   "outputs": [
    {
     "name": "stdout",
     "output_type": "stream",
     "text": [
      "\n",
      "\n",
      "Logistic regression                             Number of obs     =        184\n",
      "                                                LR chi2(17)       =      37.21\n",
      "                                                Prob > chi2       =     0.0031\n",
      "Log likelihood = -101.48301                     Pseudo R2         =     0.1549\n",
      "\n",
      "----------------------------------------------------------------------------------\n",
      "               y |      Coef.   Std. Err.      z    P>|z|     [95% Conf. Interval]\n",
      "-----------------+----------------------------------------------------------------\n",
      "             age |    .277949   .3010369     0.92   0.356    -.3120724    .8679704\n",
      "          gender |  -.0063814   .5152963    -0.01   0.990    -1.016344    1.003581\n",
      "        marriage |   -.460164    .485303    -0.95   0.343     -1.41134    .4910124\n",
      "        student1 |   .3102345   1.072735     0.29   0.772    -1.792288    2.412757\n",
      "    company_man2 |  -2.152784   1.323405    -1.63   0.104    -4.746609    .4410416\n",
      " public_officer3 |  -.0595862   .7173035    -0.08   0.934    -1.465475    1.346303\n",
      "     profession4 |    -.07668   1.021788    -0.08   0.940    -2.079347    1.925987\n",
      "     researcher5 |    2.11988   1.246592     1.70   0.089    -.3233942    4.563155\n",
      "           learn |  -.0759357   .4034406    -0.19   0.851    -.8666648    .7147933\n",
      "          income |   .0243712   .1583261     0.15   0.878    -.2859423    .3346847\n",
      "    avg_distance |    .269894   .1421987     1.90   0.058    -.0088104    .5485983\n",
      "     freq_use_ev |   .0387733   .1690091     0.23   0.819    -.2924784     .370025\n",
      "     club_kepco2 |  -.3399383   .4898558    -0.69   0.488    -1.300038    .6201614\n",
      "      club_jeju3 |  -1.501003   .8586952    -1.75   0.080    -3.184015    .1820085\n",
      "        ev_owner |   .7342183   .6435513     1.14   0.254     -.527119    1.995556\n",
      "     saving_free |  -1.195601   .6502226    -1.84   0.066    -2.470014     .078812\n",
      "a_cons_hill_ride |  -.0813312   .1587898    -0.51   0.609    -.3925535    .2298911\n",
      "           _cons |    1.17424   2.158124     0.54   0.586    -3.055605    5.404085\n",
      "----------------------------------------------------------------------------------\n",
      "\n"
     ]
    }
   ],
   "source": [
    "* One concern series1. : a concern on hill side\n",
    " \n",
    " logit y age gender marriage student1 company_man2 public_officer3 profession4 researcher5 learn income avg_distance freq_use_ev club_kepco2 club_jeju3  ev_owner saving_free a_cons_hill_ride, nolog\n",
    " estimates store model6"
   ]
  },
  {
   "cell_type": "code",
   "execution_count": 13,
   "metadata": {},
   "outputs": [
    {
     "name": "stdout",
     "output_type": "stream",
     "text": [
      "\n",
      "\n",
      "Logistic regression                             Number of obs     =        184\n",
      "                                                LR chi2(17)       =      44.17\n",
      "                                                Prob > chi2       =     0.0003\n",
      "Log likelihood = -98.003071                     Pseudo R2         =     0.1839\n",
      "\n",
      "---------------------------------------------------------------------------------\n",
      "              y |      Coef.   Std. Err.      z    P>|z|     [95% Conf. Interval]\n",
      "----------------+----------------------------------------------------------------\n",
      "            age |   .2936117   .3050118     0.96   0.336    -.3042004    .8914237\n",
      "         gender |   .0624131   .5232952     0.12   0.905    -.9632267    1.088053\n",
      "       marriage |  -.4979675   .4932641    -1.01   0.313    -1.464747    .4688124\n",
      "       student1 |  -.1022286     1.1082    -0.09   0.927     -2.27426    2.069803\n",
      "   company_man2 |  -2.409298   1.384081    -1.74   0.082    -5.122046    .3034505\n",
      "public_officer3 |  -.0733315   .7412948    -0.10   0.921    -1.526243     1.37958\n",
      "    profession4 |  -.3963433   1.054605    -0.38   0.707     -2.46333    1.670644\n",
      "    researcher5 |   2.114685   1.263534     1.67   0.094    -.3617958    4.591166\n",
      "          learn |   .0249292   .4090062     0.06   0.951    -.7767082    .8265666\n",
      "         income |   .0170092   .1624343     0.10   0.917    -.3013562    .3353746\n",
      "   avg_distance |   .2787791   .1409119     1.98   0.048     .0025969    .5549614\n",
      "    freq_use_ev |   .0557655   .1709891     0.33   0.744     -.279367     .390898\n",
      "    club_kepco2 |  -.4960503   .5072543    -0.98   0.328    -1.490251    .4981499\n",
      "     club_jeju3 |  -1.287947   .8793248    -1.46   0.143    -3.011392    .4354981\n",
      "       ev_owner |   .6676909   .6511358     1.03   0.305    -.6085117    1.943894\n",
      "    saving_free |  -1.455907   .6652331    -2.19   0.029     -2.75974   -.1520738\n",
      "     a_cons_hac |  -.3958109    .152026    -2.60   0.009    -.6937763   -.0978455\n",
      "          _cons |   2.151752   2.098018     1.03   0.305    -1.960288    6.263791\n",
      "---------------------------------------------------------------------------------\n",
      "\n"
     ]
    }
   ],
   "source": [
    " * One concern series1. : a concern on hvac\n",
    " \n",
    " logit y age gender marriage student1 company_man2 public_officer3 profession4 researcher5 learn income avg_distance freq_use_ev club_kepco2 club_jeju3  ev_owner saving_free a_cons_hac, nolog\n",
    " estimates store model7"
   ]
  },
  {
   "cell_type": "code",
   "execution_count": 56,
   "metadata": {},
   "outputs": [
    {
     "name": "stdout",
     "output_type": "stream",
     "text": [
      "\n",
      "\n",
      "Logistic regression                             Number of obs     =        184\n",
      "                                                LR chi2(23)       =      47.59\n",
      "                                                Prob > chi2       =     0.0019\n",
      "Log likelihood = -96.295387                     Pseudo R2         =     0.1981\n",
      "\n",
      "-----------------------------------------------------------------------------------------\n",
      "                      y |      Coef.   Std. Err.      z    P>|z|     [95% Conf. Interval]\n",
      "------------------------+----------------------------------------------------------------\n",
      "                    age |    .340944   .3180583     1.07   0.284    -.2824388    .9643269\n",
      "                 gender |   .0115895   .5351584     0.02   0.983    -1.037302    1.060481\n",
      "               marriage |  -.4731386   .4996831    -0.95   0.344    -1.452499    .5062223\n",
      "               student1 |   .1166542   1.120729     0.10   0.917    -2.079933    2.313242\n",
      "           company_man2 |  -2.112767   1.411894    -1.50   0.135    -4.880028    .6544936\n",
      "        public_officer3 |  -.0025686   .7516279    -0.00   0.997    -1.475732    1.470595\n",
      "            profession4 |   -.520584   1.069439    -0.49   0.626    -2.616645    1.575477\n",
      "            researcher5 |   2.272473   1.291175     1.76   0.078    -.2581835     4.80313\n",
      "                  learn |   .1202316    .433195     0.28   0.781     -.728815    .9692782\n",
      "                 income |   .0560364   .1671956     0.34   0.738     -.271661    .3837337\n",
      "           avg_distance |   .2824614   .1544296     1.83   0.067    -.0202151    .5851378\n",
      "            freq_use_ev |   .0867176    .178098     0.49   0.626     -.262348    .4357833\n",
      "            club_kepco2 |  -.4882705   .5157204    -0.95   0.344    -1.499064     .522523\n",
      "             club_jeju3 |  -.9796557   .9396015    -1.04   0.297    -2.821241    .8619294\n",
      "               ev_owner |   .8611399   .6671271     1.29   0.197    -.4464051    2.168685\n",
      "            saving_free |  -1.482165    .687508    -2.16   0.031    -2.829655   -.1346737\n",
      "       a_cons_short_dis |   .0198509   .1982233     0.10   0.920    -.3686596    .4083613\n",
      "              a_cons_as |  -.1223494   .1858711    -0.66   0.510    -.4866501    .2419513\n",
      "      a_cons_charge_fee |  -.2700268   .1906273    -1.42   0.157    -.6436495    .1035958\n",
      " a_cons_num_charge_lack |   .0900837   .2353209     0.38   0.702    -.3711367    .5513041\n",
      "a_cons_long_charge_time |   -.116316   .2351984    -0.49   0.621    -.5772963    .3446644\n",
      "       a_cons_hill_ride |   .2417624   .1926053     1.26   0.209    -.1357371    .6192618\n",
      "             a_cons_hac |  -.4172223   .1806337    -2.31   0.021    -.7712579   -.0631867\n",
      "                  _cons |   2.038912   2.379605     0.86   0.392    -2.625028    6.702852\n",
      "-----------------------------------------------------------------------------------------\n",
      "\n"
     ]
    }
   ],
   "source": [
    "* After Concern: Full model\n",
    "logit y age gender marriage student1 company_man2 public_officer3 profession4 researcher5 learn income avg_distance freq_use_ev club_kepco2 club_jeju3  ev_owner saving_free a_cons_short_dis a_cons_as a_cons_charge_fee a_cons_num_charge_lack a_cons_long_charge_time a_cons_hill_ride a_cons_hac, nolog\n",
    "estimates store model8"
   ]
  },
  {
   "cell_type": "code",
   "execution_count": null,
   "metadata": {},
   "outputs": [],
   "source": []
  },
  {
   "cell_type": "markdown",
   "metadata": {},
   "source": [
    "---\n",
    "### Predicted Probability at mean\n",
    "* The most variables are binary dummy or categorical variable so that mean value is not interpretable\n",
    "---"
   ]
  },
  {
   "cell_type": "code",
   "execution_count": 67,
   "metadata": {},
   "outputs": [
    {
     "name": "stdout",
     "output_type": "stream",
     "text": [
      "\n",
      "\n",
      "\n",
      "Adjusted predictions                            Number of obs     =        184\n",
      "Model VCE    : OIM\n",
      "\n",
      "Expression   : Pr(y), predict()\n",
      "at           : age             =    2.326087 (mean)\n",
      "               gender          =     .798913 (mean)\n",
      "               marriage        =    .3967391 (mean)\n",
      "               student1        =    .0543478 (mean)\n",
      "               company_man2    =    .0271739 (mean)\n",
      "               public_off~3    =    .4836957 (mean)\n",
      "               profession4     =    .2771739 (mean)\n",
      "               researcher5     =    .0923913 (mean)\n",
      "               learn           =    3.217391 (mean)\n",
      "               income          =    2.298913 (mean)\n",
      "               avg_distance    =    3.293478 (mean)\n",
      "               freq_use_ev     =    3.119565 (mean)\n",
      "               club_kepco2     =    .5217391 (mean)\n",
      "               club_jeju3      =    .2771739 (mean)\n",
      "               ev_owner        =    .0978261 (mean)\n",
      "               saving_free     =    .8913043 (mean)\n",
      "               a_cons_sho~s    =    3.733696 (mean)\n",
      "               a_cons_as       =    3.315217 (mean)\n",
      "               a_cons_cha~e    =    2.771739 (mean)\n",
      "               a_cons_num~k    =    4.108696 (mean)\n",
      "               a_cons_lon~e    =    3.913043 (mean)\n",
      "               a_cons_hil~e    =    2.717391 (mean)\n",
      "               a_cons_hac      =    3.184783 (mean)\n",
      "\n",
      "------------------------------------------------------------------------------\n",
      "             |            Delta-method\n",
      "             |     Margin   Std. Err.      z    P>|z|     [95% Conf. Interval]\n",
      "-------------+----------------------------------------------------------------\n",
      "       _cons |   .6864261    .041853    16.40   0.000     .6043958    .7684565\n",
      "------------------------------------------------------------------------------\n"
     ]
    }
   ],
   "source": [
    "* Predicted probability at mean\n",
    "* The probability of y = 1 is  0.6864261 given that all predictors are set to their mean values\n",
    "quietly: logit y age gender marriage student1 company_man2 public_officer3 profession4 researcher5 learn income avg_distance freq_use_ev club_kepco2 club_jeju3  ev_owner saving_free a_cons_short_dis a_cons_as a_cons_charge_fee a_cons_num_charge_lack a_cons_long_charge_time a_cons_hill_ride a_cons_hac, nolog\n",
    "margins, atmeans"
   ]
  },
  {
   "cell_type": "markdown",
   "metadata": {},
   "source": [
    "---\n",
    "### Predicted probability at mode\n",
    "---"
   ]
  },
  {
   "cell_type": "code",
   "execution_count": 69,
   "metadata": {},
   "outputs": [
    {
     "name": "stdout",
     "output_type": "stream",
     "text": [
      "\n",
      "\n",
      "\n",
      "Adjusted predictions                            Number of obs     =        184\n",
      "Model VCE    : OIM\n",
      "\n",
      "Expression   : Pr(y), predict()\n",
      "at           : age             =           2\n",
      "               gender          =           1\n",
      "               marriage        =           1\n",
      "               student1        =           0\n",
      "               company_man2    =           0\n",
      "               public_off~3    =           1\n",
      "               profession4     =           0\n",
      "               researcher5     =           0\n",
      "               learn           =           3\n",
      "               income          =           2\n",
      "               avg_distance    =           3\n",
      "               freq_use_ev     =           3\n",
      "               club_kepco2     =           1\n",
      "               club_jeju3      =           0\n",
      "               ev_owner        =           0\n",
      "               saving_free     =           1\n",
      "               a_cons_sho~s    =           4\n",
      "               a_cons_as       =           4\n",
      "               a_cons_cha~e    =           3\n",
      "               a_cons_num~k    =           5\n",
      "               a_cons_lon~e    =           4\n",
      "               a_cons_hil~e    =           3\n",
      "               a_cons_hac      =           3\n",
      "\n",
      "------------------------------------------------------------------------------\n",
      "             |            Delta-method\n",
      "             |     Margin   Std. Err.      z    P>|z|     [95% Conf. Interval]\n",
      "-------------+----------------------------------------------------------------\n",
      "       _cons |   .5262888   .1195078     4.40   0.000     .2920579    .7605197\n",
      "------------------------------------------------------------------------------\n"
     ]
    }
   ],
   "source": [
    "*Predicted probability at mode\n",
    "quietly: logit y age gender marriage student1 company_man2 public_officer3 profession4 researcher5 learn income avg_distance freq_use_ev club_kepco2 club_jeju3  ev_owner saving_free a_cons_short_dis a_cons_as a_cons_charge_fee a_cons_num_charge_lack a_cons_long_charge_time a_cons_hill_ride a_cons_hac, nolog\n",
    "margins, at(age=2  gender=1 marriage=1 student1=0 company_man2=0 public_officer3=1 profession4 =0 researcher5=0 learn=3 income=2 avg_distance=3 freq_use_ev =3  club_kepco2=1  club_jeju3  =0 ev_owner =0  saving_free = 1 a_cons_short=4 a_cons_as = 4 a_cons_charge_fee=3 a_cons_num_charge_lack =5  a_cons_long_charge_time= 4 a_cons_hill_ride =3 a_cons_hac =3)"
   ]
  },
  {
   "cell_type": "code",
   "execution_count": 141,
   "metadata": {},
   "outputs": [
    {
     "name": "stdout",
     "output_type": "stream",
     "text": [
      "\n",
      "\n",
      "\n",
      "Conditional marginal effects                    Number of obs     =        184\n",
      "Model VCE    : OIM\n",
      "\n",
      "Expression   : Pr(y), predict()\n",
      "dy/dx w.r.t. : age gender marriage student1 company_man2 public_officer3 profession4 1.researcher5 learn income 2.avg_distance 3.avg_distance 4.avg_distance 5.avg_distance 6.avg_distance freq_use_ev club_kepco2 club_jeju3 ev_owner 1.saving_free\n",
      "               a_cons_short_dis a_cons_as a_cons_charge_fee a_cons_num_charge_lack a_cons_long_charge_time a_cons_hill_ride 2.a_cons_hac 3.a_cons_hac 4.a_cons_hac 5.a_cons_hac\n",
      "at           : age             =           2\n",
      "               gender          =           1\n",
      "               marriage        =           1\n",
      "               student1        =           0\n",
      "               company_man2    =           0\n",
      "               public_off~3    =           1\n",
      "               profession4     =           0\n",
      "               researcher5     =           0\n",
      "               learn           =           3\n",
      "               income          =           2\n",
      "               avg_distance    =           3\n",
      "               freq_use_ev     =           3\n",
      "               club_kepco2     =           1\n",
      "               club_jeju3      =           0\n",
      "               ev_owner        =           0\n",
      "               saving_free     =           1\n",
      "               a_cons_sho~s    =           4\n",
      "               a_cons_as       =           4\n",
      "               a_cons_cha~e    =           3\n",
      "               a_cons_num~k    =           5\n",
      "               a_cons_lon~e    =           4\n",
      "               a_cons_hil~e    =           3\n",
      "               a_cons_hac      =           3\n",
      "\n",
      "-----------------------------------------------------------------------------------------\n",
      "                        |            Delta-method\n",
      "                        |      dy/dx   Std. Err.      z    P>|z|     [95% Conf. Interval]\n",
      "------------------------+----------------------------------------------------------------\n",
      "                    age |   .0912049   .0783912     1.16   0.245     -.062439    .2448489\n",
      "                 gender |  -.0484407   .1393541    -0.35   0.728    -.3215696    .2246883\n",
      "               marriage |  -.1236659   .1272482    -0.97   0.331    -.3730677     .125736\n",
      "               student1 |  -.0307527   .2709252    -0.11   0.910    -.5617565     .500251\n",
      "           company_man2 |  -.6055534   .3511758    -1.72   0.085    -1.293845    .0827384\n",
      "        public_officer3 |    .027634   .1825857     0.15   0.880    -.3302274    .3854953\n",
      "            profession4 |  -.1181831   .2557737    -0.46   0.644    -.6194903    .3831242\n",
      "          1.researcher5 |   .3245738   .1557315     2.08   0.037     .0193457     .629802\n",
      "                  learn |   .0836199   .1130521     0.74   0.460    -.1379581    .3051978\n",
      "                 income |     .00539   .0422831     0.13   0.899    -.0774834    .0882634\n",
      "                        |\n",
      "           avg_distance |\n",
      "                     2  |   .1275995   .1405196     0.91   0.364    -.1478138    .4030128\n",
      "                     3  |   .3239292   .1495532     2.17   0.030     .0308102    .6170481\n",
      "                     4  |   .3151744   .1579623     2.00   0.046      .005574    .6247748\n",
      "                     5  |   .3666266   .1686339     2.17   0.030     .0361103     .697143\n",
      "                     6  |   .3315656   .2081841     1.59   0.111    -.0764678     .739599\n",
      "                        |\n",
      "            freq_use_ev |   .0227069   .0425558     0.53   0.594    -.0607009    .1061146\n",
      "            club_kepco2 |  -.1008833   .1305035    -0.77   0.440    -.3566654    .1548988\n",
      "             club_jeju3 |  -.2622905   .2255146    -1.16   0.245    -.7042909    .1797099\n",
      "               ev_owner |   .2236701    .169932     1.32   0.188    -.1093905    .5567307\n",
      "          1.saving_free |  -.2757958   .1168484    -2.36   0.018    -.5048144   -.0467772\n",
      "       a_cons_short_dis |   .0055562   .0470228     0.12   0.906    -.0866068    .0977193\n",
      "              a_cons_as |  -.0229336   .0460787    -0.50   0.619    -.1132463    .0673791\n",
      "      a_cons_charge_fee |  -.0610569   .0485893    -1.26   0.209    -.1562902    .0341765\n",
      " a_cons_num_charge_lack |   .0422877   .0576005     0.73   0.463    -.0706072    .1551825\n",
      "a_cons_long_charge_time |   -.051951   .0578428    -0.90   0.369    -.1653209    .0614188\n",
      "       a_cons_hill_ride |   .0663162   .0479725     1.38   0.167    -.0277082    .1603407\n",
      "                        |\n",
      "             a_cons_hac |\n",
      "                     2  |   .0913504   .1354651     0.67   0.500    -.1741564    .3568572\n",
      "                     3  |  -.1454605   .1366824    -1.06   0.287    -.4133531     .122432\n",
      "                     4  |  -.2388756   .1548288    -1.54   0.123    -.5423344    .0645832\n",
      "                     5  |   -.311197       .176    -1.77   0.077    -.6561506    .0337567\n",
      "-----------------------------------------------------------------------------------------\n",
      "Note: dy/dx for factor levels is the discrete change from the base level.\n"
     ]
    }
   ],
   "source": [
    "* Predicted probability at mode, doesn't make sense\n",
    "quietly: logit y age gender marriage student1 company_man2 public_officer3 profession4 i.researcher5 learn income i.avg_distance freq_use_ev club_kepco2 club_jeju3 ev_owner i.saving_free a_cons_short_dis a_cons_as a_cons_charge_fee a_cons_num_charge_lack a_cons_long_charge_time a_cons_hill_ride i.a_cons_hac, nolog\n",
    "margins, dydx(*) at(age=2  gender=1 marriage=1 student1=0 company_man2=0 public_officer3=1 profession4 =0 researcher5=0 learn=3 income=2 avg_distance=3 freq_use_ev =3  club_kepco2=1  club_jeju3  =0 ev_owner =0  saving_free = 1 a_cons_short=4 a_cons_as = 4 a_cons_charge_fee=3 a_cons_num_charge_lack =5  a_cons_long_charge_time= 4 a_cons_hill_ride =3 a_cons_hac =3)"
   ]
  },
  {
   "cell_type": "markdown",
   "metadata": {},
   "source": [
    "---\n",
    "#### Predicted Probability by variables at mode \n",
    "---\n",
    "* researcher5 \n",
    "* avg_distance\n",
    "* saving_free\n",
    "* a_cons_hac \n",
    "---"
   ]
  },
  {
   "cell_type": "markdown",
   "metadata": {},
   "source": [
    "#### researcher5\n",
    "---"
   ]
  },
  {
   "cell_type": "code",
   "execution_count": 142,
   "metadata": {},
   "outputs": [
    {
     "name": "stdout",
     "output_type": "stream",
     "text": [
      "\n",
      "\n",
      "\n",
      "Adjusted predictions                            Number of obs     =        184\n",
      "Model VCE    : OIM\n",
      "\n",
      "Expression   : Pr(y), predict()\n",
      "at           : age             =           2\n",
      "               gender          =           1\n",
      "               marriage        =           1\n",
      "               student1        =           0\n",
      "               company_man2    =           0\n",
      "               public_off~3    =           1\n",
      "               profession4     =           0\n",
      "               researcher5     =           0\n",
      "               learn           =           3\n",
      "               income          =           2\n",
      "               avg_distance    =           3\n",
      "               freq_use_ev     =           3\n",
      "               club_kepco2     =           1\n",
      "               club_jeju3      =           0\n",
      "               ev_owner        =           0\n",
      "               saving_free     =           1\n",
      "               a_cons_sho~s    =           4\n",
      "               a_cons_as       =           4\n",
      "               a_cons_cha~e    =           3\n",
      "               a_cons_num~k    =           5\n",
      "               a_cons_lon~e    =           4\n",
      "               a_cons_hil~e    =           3\n",
      "               a_cons_hac      =           3\n",
      "\n",
      "------------------------------------------------------------------------------\n",
      "             |            Delta-method\n",
      "             |     Margin   Std. Err.      z    P>|z|     [95% Conf. Interval]\n",
      "-------------+----------------------------------------------------------------\n",
      " researcher5 |\n",
      "          0  |   .6130918   .1659685     3.69   0.000     .2877994    .9383842\n",
      "          1  |   .9376656   .0823376    11.39   0.000     .7762869    1.099044\n",
      "------------------------------------------------------------------------------\n"
     ]
    }
   ],
   "source": [
    "quietly logit y age gender marriage student1 company_man2 public_officer3 profession4 i.researcher5 learn income i.avg_distance freq_use_ev club_kepco2 club_jeju3  ev_owner i.saving_free a_cons_short_dis a_cons_as a_cons_charge_fee a_cons_num_charge_lack a_cons_long_charge_time a_cons_hill_ride  i.a_cons_hac, nolog\n",
    "margins researcher5, at(age=2  gender=1 marriage=1 student1=0 company_man2=0 public_officer3=1 profession4 =0 researcher5=0 learn=3 income=2 avg_distance=3 freq_use_ev =3  club_kepco2=1  club_jeju3=0 ev_owner =0  saving_free = 1 a_cons_short=4 a_cons_as = 4 a_cons_charge_fee=3 a_cons_num_charge_lack =5  a_cons_long_charge_time= 4 a_cons_hill_ride =3 a_cons_hac=3)"
   ]
  },
  {
   "cell_type": "code",
   "execution_count": 143,
   "metadata": {},
   "outputs": [
    {
     "name": "stdout",
     "output_type": "stream",
     "text": [
      "\n",
      "  Variables that uniquely identify margins: researcher5\n"
     ]
    },
    {
     "data": {
      "application/pdf": "[encoded data removed]",
      "image/svg+xml": [
       "<?xml version=\"1.0\" encoding=\"UTF-8\" standalone=\"no\"?>\n",
       "<!-- This is a Stata 14.2 generated SVG file (http://www.stata.com) -->\n",
       "\n",
       "<svg version=\"1.1\" width=\"600px\" height=\"436px\" viewBox=\"0 0 3960 2880\" xmlns=\"http://www.w3.org/2000/svg\">\n",
       "\t<desc>Stata Graph - Graph</desc>\n",
       "\t<rect x=\"0.00\" y=\"0.00\" width=\"3959.88\" height=\"2880.00\" style=\"fill:#EAF2F3;stroke:#EAF2F3;stroke-width:5.76\"/>\n",
       "\t<rect x=\"390.80\" y=\"261.37\" width=\"3468.22\" height=\"2227.82\" style=\"fill:#FFFFFF;stroke:#FFFFFF;stroke-width:5.76\"/>\n",
       "\t<line x1=\"390.80\" y1=\"2425.82\" x2=\"3859.02\" y2=\"2425.82\" style=\"stroke:#EAF2F3;stroke-width:8.64\"/>\n",
       "\t<line x1=\"390.80\" y1=\"2005.68\" x2=\"3859.02\" y2=\"2005.68\" style=\"stroke:#EAF2F3;stroke-width:8.64\"/>\n",
       "\t<line x1=\"390.80\" y1=\"1585.41\" x2=\"3859.02\" y2=\"1585.41\" style=\"stroke:#EAF2F3;stroke-width:8.64\"/>\n",
       "\t<line x1=\"390.80\" y1=\"1165.14\" x2=\"3859.02\" y2=\"1165.14\" style=\"stroke:#EAF2F3;stroke-width:8.64\"/>\n",
       "\t<line x1=\"390.80\" y1=\"745.00\" x2=\"3859.02\" y2=\"745.00\" style=\"stroke:#EAF2F3;stroke-width:8.64\"/>\n",
       "\t<line x1=\"390.80\" y1=\"324.73\" x2=\"3859.02\" y2=\"324.73\" style=\"stroke:#EAF2F3;stroke-width:8.64\"/>\n",
       "\t<line x1=\"454.16\" y1=\"2241.43\" x2=\"454.16\" y2=\"874.44\" style=\"stroke:#1A476F;stroke-width:8.64\"/>\n",
       "\t<line x1=\"432.13\" y1=\"874.44\" x2=\"476.19\" y2=\"874.44\" stroke-linecap=\"round\" style=\"stroke:#1A476F;stroke-width:8.64\"/>\n",
       "\t<line x1=\"432.13\" y1=\"2241.43\" x2=\"476.19\" y2=\"2241.43\" stroke-linecap=\"round\" style=\"stroke:#1A476F;stroke-width:8.64\"/>\n",
       "\t<line x1=\"3795.66\" y1=\"1215.02\" x2=\"3795.66\" y2=\"536.84\" style=\"stroke:#1A476F;stroke-width:8.64\"/>\n",
       "\t<line x1=\"3773.63\" y1=\"536.84\" x2=\"3817.69\" y2=\"536.84\" stroke-linecap=\"round\" style=\"stroke:#1A476F;stroke-width:8.64\"/>\n",
       "\t<line x1=\"3773.63\" y1=\"1215.02\" x2=\"3817.69\" y2=\"1215.02\" stroke-linecap=\"round\" style=\"stroke:#1A476F;stroke-width:8.64\"/>\n",
       "\t<line x1=\"454.04\" y1=\"1557.94\" x2=\"3795.66\" y2=\"875.93\" stroke-linecap=\"round\" style=\"stroke:#1A476F;stroke-width:8.64\"/>\n",
       "\t<circle cx=\"454.04\" cy=\"1557.94\" r=\"22.03\" style=\"fill:#1A476F;stroke:#1A476F;stroke-width:8.64\"/>\n",
       "\t<circle cx=\"3795.66\" cy=\"875.93\" r=\"22.03\" style=\"fill:#1A476F;stroke:#1A476F;stroke-width:8.64\"/>\n",
       "\t<line x1=\"390.80\" y1=\"2489.19\" x2=\"390.80\" y2=\"261.37\" style=\"stroke:#000000;stroke-width:5.76\"/>\n",
       "\t<line x1=\"390.80\" y1=\"2425.82\" x2=\"350.83\" y2=\"2425.82\" style=\"stroke:#000000;stroke-width:5.76\"/>\n",
       "\t<text x=\"300.72\" y=\"2425.82\" style=\"font-family:'Helvetica';font-size:99.99px;fill:#000000\" transform=\"rotate(-90 300.72,2425.82)\" text-anchor=\"middle\">.2</text>\n",
       "\t<line x1=\"390.80\" y1=\"2005.68\" x2=\"350.83\" y2=\"2005.68\" style=\"stroke:#000000;stroke-width:5.76\"/>\n",
       "\t<text x=\"300.72\" y=\"2005.68\" style=\"font-family:'Helvetica';font-size:99.99px;fill:#000000\" transform=\"rotate(-90 300.72,2005.68)\" text-anchor=\"middle\">.4</text>\n",
       "\t<line x1=\"390.80\" y1=\"1585.41\" x2=\"350.83\" y2=\"1585.41\" style=\"stroke:#000000;stroke-width:5.76\"/>\n",
       "\t<text x=\"300.72\" y=\"1585.41\" style=\"font-family:'Helvetica';font-size:99.99px;fill:#000000\" transform=\"rotate(-90 300.72,1585.41)\" text-anchor=\"middle\">.6</text>\n",
       "\t<line x1=\"390.80\" y1=\"1165.14\" x2=\"350.83\" y2=\"1165.14\" style=\"stroke:#000000;stroke-width:5.76\"/>\n",
       "\t<text x=\"300.72\" y=\"1165.14\" style=\"font-family:'Helvetica';font-size:99.99px;fill:#000000\" transform=\"rotate(-90 300.72,1165.14)\" text-anchor=\"middle\">.8</text>\n",
       "\t<line x1=\"390.80\" y1=\"745.00\" x2=\"350.83\" y2=\"745.00\" style=\"stroke:#000000;stroke-width:5.76\"/>\n",
       "\t<text x=\"300.72\" y=\"745.00\" style=\"font-family:'Helvetica';font-size:99.99px;fill:#000000\" transform=\"rotate(-90 300.72,745.00)\" text-anchor=\"middle\">1</text>\n",
       "\t<line x1=\"390.80\" y1=\"324.73\" x2=\"350.83\" y2=\"324.73\" style=\"stroke:#000000;stroke-width:5.76\"/>\n",
       "\t<text x=\"300.72\" y=\"324.73\" style=\"font-family:'Helvetica';font-size:99.99px;fill:#000000\" transform=\"rotate(-90 300.72,324.73)\" text-anchor=\"middle\">1.2</text>\n",
       "\t<text x=\"190.71\" y=\"1375.28\" style=\"font-family:'Helvetica';font-size:99.99px;fill:#000000\" transform=\"rotate(-90 190.71,1375.28)\" text-anchor=\"middle\">Pr(Y)</text>\n",
       "\t<line x1=\"390.80\" y1=\"2489.19\" x2=\"3859.02\" y2=\"2489.19\" style=\"stroke:#000000;stroke-width:5.76\"/>\n",
       "\t<line x1=\"454.16\" y1=\"2489.19\" x2=\"454.16\" y2=\"2529.16\" style=\"stroke:#000000;stroke-width:5.76\"/>\n",
       "\t<text x=\"454.16\" y=\"2619.14\" style=\"font-family:'Helvetica';font-size:99.99px;fill:#000000\" text-anchor=\"middle\">0</text>\n",
       "\t<line x1=\"3795.66\" y1=\"2489.19\" x2=\"3795.66\" y2=\"2529.16\" style=\"stroke:#000000;stroke-width:5.76\"/>\n",
       "\t<text x=\"3795.66\" y=\"2619.14\" style=\"font-family:'Helvetica';font-size:99.99px;fill:#000000\" text-anchor=\"middle\">1</text>\n",
       "\t<text x=\"2124.91\" y=\"2729.16\" style=\"font-family:'Helvetica';font-size:99.99px;fill:#000000\" text-anchor=\"middle\">researcher5</text>\n",
       "\t<text x=\"1980.00\" y=\"206.19\" style=\"font-family:'Helvetica';font-size:125.98px;fill:#1E2D53\" text-anchor=\"middle\">Adjusted Predictions of researcher5 with 95% CIs</text>\n",
       "</svg>\n"
      ],
      "text/html": [
       "                <iframe frameborder=\"0\" scrolling=\"no\" height=\"436\" width=\"600\"                srcdoc=\"<html><body>&lt;?xml version=&quot;1.0&quot; encoding=&quot;UTF-8&quot; standalone=&quot;no&quot;?&gt;\n",
       "&lt;!-- This is a Stata 14.2 generated SVG file (http://www.stata.com) --&gt;\n",
       "\n",
       "&lt;svg version=&quot;1.1&quot; width=&quot;600px&quot; height=&quot;436px&quot; viewBox=&quot;0 0 3960 2880&quot; xmlns=&quot;http://www.w3.org/2000/svg&quot;&gt;\n",
       "\t&lt;desc&gt;Stata Graph - Graph&lt;/desc&gt;\n",
       "\t&lt;rect x=&quot;0.00&quot; y=&quot;0.00&quot; width=&quot;3959.88&quot; height=&quot;2880.00&quot; style=&quot;fill:#EAF2F3;stroke:#EAF2F3;stroke-width:5.76&quot;/&gt;\n",
       "\t&lt;rect x=&quot;390.80&quot; y=&quot;261.37&quot; width=&quot;3468.22&quot; height=&quot;2227.82&quot; style=&quot;fill:#FFFFFF;stroke:#FFFFFF;stroke-width:5.76&quot;/&gt;\n",
       "\t&lt;line x1=&quot;390.80&quot; y1=&quot;2425.82&quot; x2=&quot;3859.02&quot; y2=&quot;2425.82&quot; style=&quot;stroke:#EAF2F3;stroke-width:8.64&quot;/&gt;\n",
       "\t&lt;line x1=&quot;390.80&quot; y1=&quot;2005.68&quot; x2=&quot;3859.02&quot; y2=&quot;2005.68&quot; style=&quot;stroke:#EAF2F3;stroke-width:8.64&quot;/&gt;\n",
       "\t&lt;line x1=&quot;390.80&quot; y1=&quot;1585.41&quot; x2=&quot;3859.02&quot; y2=&quot;1585.41&quot; style=&quot;stroke:#EAF2F3;stroke-width:8.64&quot;/&gt;\n",
       "\t&lt;line x1=&quot;390.80&quot; y1=&quot;1165.14&quot; x2=&quot;3859.02&quot; y2=&quot;1165.14&quot; style=&quot;stroke:#EAF2F3;stroke-width:8.64&quot;/&gt;\n",
       "\t&lt;line x1=&quot;390.80&quot; y1=&quot;745.00&quot; x2=&quot;3859.02&quot; y2=&quot;745.00&quot; style=&quot;stroke:#EAF2F3;stroke-width:8.64&quot;/&gt;\n",
       "\t&lt;line x1=&quot;390.80&quot; y1=&quot;324.73&quot; x2=&quot;3859.02&quot; y2=&quot;324.73&quot; style=&quot;stroke:#EAF2F3;stroke-width:8.64&quot;/&gt;\n",
       "\t&lt;line x1=&quot;454.16&quot; y1=&quot;2241.43&quot; x2=&quot;454.16&quot; y2=&quot;874.44&quot; style=&quot;stroke:#1A476F;stroke-width:8.64&quot;/&gt;\n",
       "\t&lt;line x1=&quot;432.13&quot; y1=&quot;874.44&quot; x2=&quot;476.19&quot; y2=&quot;874.44&quot; stroke-linecap=&quot;round&quot; style=&quot;stroke:#1A476F;stroke-width:8.64&quot;/&gt;\n",
       "\t&lt;line x1=&quot;432.13&quot; y1=&quot;2241.43&quot; x2=&quot;476.19&quot; y2=&quot;2241.43&quot; stroke-linecap=&quot;round&quot; style=&quot;stroke:#1A476F;stroke-width:8.64&quot;/&gt;\n",
       "\t&lt;line x1=&quot;3795.66&quot; y1=&quot;1215.02&quot; x2=&quot;3795.66&quot; y2=&quot;536.84&quot; style=&quot;stroke:#1A476F;stroke-width:8.64&quot;/&gt;\n",
       "\t&lt;line x1=&quot;3773.63&quot; y1=&quot;536.84&quot; x2=&quot;3817.69&quot; y2=&quot;536.84&quot; stroke-linecap=&quot;round&quot; style=&quot;stroke:#1A476F;stroke-width:8.64&quot;/&gt;\n",
       "\t&lt;line x1=&quot;3773.63&quot; y1=&quot;1215.02&quot; x2=&quot;3817.69&quot; y2=&quot;1215.02&quot; stroke-linecap=&quot;round&quot; style=&quot;stroke:#1A476F;stroke-width:8.64&quot;/&gt;\n",
       "\t&lt;line x1=&quot;454.04&quot; y1=&quot;1557.94&quot; x2=&quot;3795.66&quot; y2=&quot;875.93&quot; stroke-linecap=&quot;round&quot; style=&quot;stroke:#1A476F;stroke-width:8.64&quot;/&gt;\n",
       "\t&lt;circle cx=&quot;454.04&quot; cy=&quot;1557.94&quot; r=&quot;22.03&quot; style=&quot;fill:#1A476F;stroke:#1A476F;stroke-width:8.64&quot;/&gt;\n",
       "\t&lt;circle cx=&quot;3795.66&quot; cy=&quot;875.93&quot; r=&quot;22.03&quot; style=&quot;fill:#1A476F;stroke:#1A476F;stroke-width:8.64&quot;/&gt;\n",
       "\t&lt;line x1=&quot;390.80&quot; y1=&quot;2489.19&quot; x2=&quot;390.80&quot; y2=&quot;261.37&quot; style=&quot;stroke:#000000;stroke-width:5.76&quot;/&gt;\n",
       "\t&lt;line x1=&quot;390.80&quot; y1=&quot;2425.82&quot; x2=&quot;350.83&quot; y2=&quot;2425.82&quot; style=&quot;stroke:#000000;stroke-width:5.76&quot;/&gt;\n",
       "\t&lt;text x=&quot;300.72&quot; y=&quot;2425.82&quot; style=&quot;font-family:&#x27;Helvetica&#x27;;font-size:99.99px;fill:#000000&quot; transform=&quot;rotate(-90 300.72,2425.82)&quot; text-anchor=&quot;middle&quot;&gt;.2&lt;/text&gt;\n",
       "\t&lt;line x1=&quot;390.80&quot; y1=&quot;2005.68&quot; x2=&quot;350.83&quot; y2=&quot;2005.68&quot; style=&quot;stroke:#000000;stroke-width:5.76&quot;/&gt;\n",
       "\t&lt;text x=&quot;300.72&quot; y=&quot;2005.68&quot; style=&quot;font-family:&#x27;Helvetica&#x27;;font-size:99.99px;fill:#000000&quot; transform=&quot;rotate(-90 300.72,2005.68)&quot; text-anchor=&quot;middle&quot;&gt;.4&lt;/text&gt;\n",
       "\t&lt;line x1=&quot;390.80&quot; y1=&quot;1585.41&quot; x2=&quot;350.83&quot; y2=&quot;1585.41&quot; style=&quot;stroke:#000000;stroke-width:5.76&quot;/&gt;\n",
       "\t&lt;text x=&quot;300.72&quot; y=&quot;1585.41&quot; style=&quot;font-family:&#x27;Helvetica&#x27;;font-size:99.99px;fill:#000000&quot; transform=&quot;rotate(-90 300.72,1585.41)&quot; text-anchor=&quot;middle&quot;&gt;.6&lt;/text&gt;\n",
       "\t&lt;line x1=&quot;390.80&quot; y1=&quot;1165.14&quot; x2=&quot;350.83&quot; y2=&quot;1165.14&quot; style=&quot;stroke:#000000;stroke-width:5.76&quot;/&gt;\n",
       "\t&lt;text x=&quot;300.72&quot; y=&quot;1165.14&quot; style=&quot;font-family:&#x27;Helvetica&#x27;;font-size:99.99px;fill:#000000&quot; transform=&quot;rotate(-90 300.72,1165.14)&quot; text-anchor=&quot;middle&quot;&gt;.8&lt;/text&gt;\n",
       "\t&lt;line x1=&quot;390.80&quot; y1=&quot;745.00&quot; x2=&quot;350.83&quot; y2=&quot;745.00&quot; style=&quot;stroke:#000000;stroke-width:5.76&quot;/&gt;\n",
       "\t&lt;text x=&quot;300.72&quot; y=&quot;745.00&quot; style=&quot;font-family:&#x27;Helvetica&#x27;;font-size:99.99px;fill:#000000&quot; transform=&quot;rotate(-90 300.72,745.00)&quot; text-anchor=&quot;middle&quot;&gt;1&lt;/text&gt;\n",
       "\t&lt;line x1=&quot;390.80&quot; y1=&quot;324.73&quot; x2=&quot;350.83&quot; y2=&quot;324.73&quot; style=&quot;stroke:#000000;stroke-width:5.76&quot;/&gt;\n",
       "\t&lt;text x=&quot;300.72&quot; y=&quot;324.73&quot; style=&quot;font-family:&#x27;Helvetica&#x27;;font-size:99.99px;fill:#000000&quot; transform=&quot;rotate(-90 300.72,324.73)&quot; text-anchor=&quot;middle&quot;&gt;1.2&lt;/text&gt;\n",
       "\t&lt;text x=&quot;190.71&quot; y=&quot;1375.28&quot; style=&quot;font-family:&#x27;Helvetica&#x27;;font-size:99.99px;fill:#000000&quot; transform=&quot;rotate(-90 190.71,1375.28)&quot; text-anchor=&quot;middle&quot;&gt;Pr(Y)&lt;/text&gt;\n",
       "\t&lt;line x1=&quot;390.80&quot; y1=&quot;2489.19&quot; x2=&quot;3859.02&quot; y2=&quot;2489.19&quot; style=&quot;stroke:#000000;stroke-width:5.76&quot;/&gt;\n",
       "\t&lt;line x1=&quot;454.16&quot; y1=&quot;2489.19&quot; x2=&quot;454.16&quot; y2=&quot;2529.16&quot; style=&quot;stroke:#000000;stroke-width:5.76&quot;/&gt;\n",
       "\t&lt;text x=&quot;454.16&quot; y=&quot;2619.14&quot; style=&quot;font-family:&#x27;Helvetica&#x27;;font-size:99.99px;fill:#000000&quot; text-anchor=&quot;middle&quot;&gt;0&lt;/text&gt;\n",
       "\t&lt;line x1=&quot;3795.66&quot; y1=&quot;2489.19&quot; x2=&quot;3795.66&quot; y2=&quot;2529.16&quot; style=&quot;stroke:#000000;stroke-width:5.76&quot;/&gt;\n",
       "\t&lt;text x=&quot;3795.66&quot; y=&quot;2619.14&quot; style=&quot;font-family:&#x27;Helvetica&#x27;;font-size:99.99px;fill:#000000&quot; text-anchor=&quot;middle&quot;&gt;1&lt;/text&gt;\n",
       "\t&lt;text x=&quot;2124.91&quot; y=&quot;2729.16&quot; style=&quot;font-family:&#x27;Helvetica&#x27;;font-size:99.99px;fill:#000000&quot; text-anchor=&quot;middle&quot;&gt;researcher5&lt;/text&gt;\n",
       "\t&lt;text x=&quot;1980.00&quot; y=&quot;206.19&quot; style=&quot;font-family:&#x27;Helvetica&#x27;;font-size:125.98px;fill:#1E2D53&quot; text-anchor=&quot;middle&quot;&gt;Adjusted Predictions of researcher5 with 95% CIs&lt;/text&gt;\n",
       "&lt;/svg&gt;\n",
       "</body></html>\"></iframe>\n"
      ],
      "text/plain": [
       "This front-end cannot display the desired image type."
      ]
     },
     "metadata": {
      "image/svg+xml": {
       "height": 436,
       "width": 600
      },
      "text/html": {
       "height": 436,
       "width": 600
      }
     },
     "output_type": "display_data"
    },
    {
     "name": "stdout",
     "output_type": "stream",
     "text": [
      "\n",
      "\n"
     ]
    }
   ],
   "source": [
    "marginsplot"
   ]
  },
  {
   "cell_type": "code",
   "execution_count": 144,
   "metadata": {},
   "outputs": [
    {
     "name": "stdout",
     "output_type": "stream",
     "text": [
      "\n",
      "\n",
      "\n",
      "Conditional marginal effects                    Number of obs     =        184\n",
      "Model VCE    : OIM\n",
      "\n",
      "Expression   : Pr(y), predict()\n",
      "dy/dx w.r.t. : 1.researcher5\n",
      "at           : age             =           2\n",
      "               gender          =           1\n",
      "               marriage        =           1\n",
      "               student1        =           0\n",
      "               company_man2    =           0\n",
      "               public_off~3    =           1\n",
      "               profession4     =           0\n",
      "               researcher5     =           0\n",
      "               learn           =           3\n",
      "               income          =           2\n",
      "               avg_distance    =           3\n",
      "               freq_use_ev     =           3\n",
      "               club_kepco2     =           1\n",
      "               club_jeju3      =           0\n",
      "               ev_owner        =           0\n",
      "               saving_free     =           1\n",
      "               a_cons_sho~s    =           4\n",
      "               a_cons_as       =           4\n",
      "               a_cons_cha~e    =           3\n",
      "               a_cons_num~k    =           5\n",
      "               a_cons_lon~e    =           4\n",
      "               a_cons_hil~e    =           3\n",
      "               a_cons_hac      =           3\n",
      "\n",
      "-------------------------------------------------------------------------------\n",
      "              |            Delta-method\n",
      "              |      dy/dx   Std. Err.      z    P>|z|     [95% Conf. Interval]\n",
      "--------------+----------------------------------------------------------------\n",
      "1.researcher5 |   .3245738   .1557315     2.08   0.037     .0193457     .629802\n",
      "-------------------------------------------------------------------------------\n",
      "Note: dy/dx for factor levels is the discrete change from the base level.\n"
     ]
    }
   ],
   "source": [
    "quietly logit y age gender marriage student1 company_man2 public_officer3 profession4 i.researcher5 learn income i.avg_distance freq_use_ev club_kepco2 club_jeju3  ev_owner i.saving_free a_cons_short_dis a_cons_as a_cons_charge_fee a_cons_num_charge_lack a_cons_long_charge_time a_cons_hill_ride  i.a_cons_hac, nolog\n",
    "margins, dydx(researcher5) at(age=2  gender=1 marriage=1 student1=0 company_man2=0 public_officer3=1 profession4 =0 researcher5=0 learn=3 income=2 avg_distance=3 freq_use_ev =3  club_kepco2=1  club_jeju3=0 ev_owner =0  saving_free = 1 a_cons_short=4 a_cons_as = 4 a_cons_charge_fee=3 a_cons_num_charge_lack =5  a_cons_long_charge_time= 4 a_cons_hill_ride =3 a_cons_hac=3)"
   ]
  },
  {
   "cell_type": "markdown",
   "metadata": {},
   "source": [
    "#### avg_distance "
   ]
  },
  {
   "cell_type": "code",
   "execution_count": 145,
   "metadata": {},
   "outputs": [
    {
     "name": "stdout",
     "output_type": "stream",
     "text": [
      "\n",
      "\n",
      "\n",
      "Adjusted predictions                            Number of obs     =        184\n",
      "Model VCE    : OIM\n",
      "\n",
      "Expression   : Pr(y), predict()\n",
      "at           : age             =           2\n",
      "               gender          =           1\n",
      "               marriage        =           1\n",
      "               student1        =           0\n",
      "               company_man2    =           0\n",
      "               public_off~3    =           1\n",
      "               profession4     =           0\n",
      "               researcher5     =           0\n",
      "               learn           =           3\n",
      "               income          =           2\n",
      "               avg_distance    =           3\n",
      "               freq_use_ev     =           3\n",
      "               club_kepco2     =           1\n",
      "               club_jeju3      =           0\n",
      "               ev_owner        =           0\n",
      "               saving_free     =           1\n",
      "               a_cons_sho~s    =           4\n",
      "               a_cons_as       =           4\n",
      "               a_cons_cha~e    =           3\n",
      "               a_cons_num~k    =           5\n",
      "               a_cons_lon~e    =           4\n",
      "               a_cons_hil~e    =           3\n",
      "               a_cons_hac      =           3\n",
      "\n",
      "------------------------------------------------------------------------------\n",
      "             |            Delta-method\n",
      "             |     Margin   Std. Err.      z    P>|z|     [95% Conf. Interval]\n",
      "-------------+----------------------------------------------------------------\n",
      "avg_distance |\n",
      "          1  |   .2891626   .1579296     1.83   0.067    -.0203737     .598699\n",
      "          2  |   .4167621   .1720815     2.42   0.015     .0794886    .7540356\n",
      "          3  |   .6130918   .1659685     3.69   0.000     .2877994    .9383842\n",
      "          4  |    .604337   .1512371     4.00   0.000     .3079178    .9007563\n",
      "          5  |   .6557893   .1534984     4.27   0.000     .3549379    .9566407\n",
      "          6  |   .6207282   .1954262     3.18   0.001        .2377    1.003757\n",
      "------------------------------------------------------------------------------\n"
     ]
    }
   ],
   "source": [
    "quietly logit y age gender marriage student1 company_man2 public_officer3 profession4 i.researcher5 learn income i.avg_distance freq_use_ev club_kepco2 club_jeju3  ev_owner i.saving_free a_cons_short_dis a_cons_as a_cons_charge_fee a_cons_num_charge_lack a_cons_long_charge_time a_cons_hill_ride  i.a_cons_hac, nolog\n",
    "margins avg_distance, at(age=2  gender=1 marriage=1 student1=0 company_man2=0 public_officer3=1 profession4 =0 researcher5=0 learn=3 income=2 avg_distance=3 freq_use_ev =3  club_kepco2=1  club_jeju3=0 ev_owner =0  saving_free = 1 a_cons_short=4 a_cons_as = 4 a_cons_charge_fee=3 a_cons_num_charge_lack =5  a_cons_long_charge_time= 4 a_cons_hill_ride =3 a_cons_hac=3)"
   ]
  },
  {
   "cell_type": "code",
   "execution_count": 146,
   "metadata": {},
   "outputs": [
    {
     "name": "stdout",
     "output_type": "stream",
     "text": [
      "\n",
      "  Variables that uniquely identify margins: avg_distance\n"
     ]
    },
    {
     "data": {
      "application/pdf": "[encoded data removed]",
      "image/svg+xml": [
       "<?xml version=\"1.0\" encoding=\"UTF-8\" standalone=\"no\"?>\n",
       "<!-- This is a Stata 14.2 generated SVG file (http://www.stata.com) -->\n",
       "\n",
       "<svg version=\"1.1\" width=\"600px\" height=\"436px\" viewBox=\"0 0 3960 2880\" xmlns=\"http://www.w3.org/2000/svg\">\n",
       "\t<desc>Stata Graph - Graph</desc>\n",
       "\t<rect x=\"0.00\" y=\"0.00\" width=\"3959.88\" height=\"2880.00\" style=\"fill:#EAF2F3;stroke:#EAF2F3;stroke-width:5.76\"/>\n",
       "\t<rect x=\"390.80\" y=\"261.37\" width=\"3468.22\" height=\"2227.82\" style=\"fill:#FFFFFF;stroke:#FFFFFF;stroke-width:5.76\"/>\n",
       "\t<line x1=\"390.80\" y1=\"2383.99\" x2=\"3859.02\" y2=\"2383.99\" style=\"stroke:#EAF2F3;stroke-width:8.64\"/>\n",
       "\t<line x1=\"390.80\" y1=\"1973.75\" x2=\"3859.02\" y2=\"1973.75\" style=\"stroke:#EAF2F3;stroke-width:8.64\"/>\n",
       "\t<line x1=\"390.80\" y1=\"1563.38\" x2=\"3859.02\" y2=\"1563.38\" style=\"stroke:#EAF2F3;stroke-width:8.64\"/>\n",
       "\t<line x1=\"390.80\" y1=\"1153.01\" x2=\"3859.02\" y2=\"1153.01\" style=\"stroke:#EAF2F3;stroke-width:8.64\"/>\n",
       "\t<line x1=\"390.80\" y1=\"742.77\" x2=\"3859.02\" y2=\"742.77\" style=\"stroke:#EAF2F3;stroke-width:8.64\"/>\n",
       "\t<line x1=\"390.80\" y1=\"332.40\" x2=\"3859.02\" y2=\"332.40\" style=\"stroke:#EAF2F3;stroke-width:8.64\"/>\n",
       "\t<line x1=\"454.16\" y1=\"2425.82\" x2=\"454.16\" y2=\"1155.74\" style=\"stroke:#1A476F;stroke-width:8.64\"/>\n",
       "\t<line x1=\"432.13\" y1=\"1155.74\" x2=\"476.19\" y2=\"1155.74\" stroke-linecap=\"round\" style=\"stroke:#1A476F;stroke-width:8.64\"/>\n",
       "\t<line x1=\"432.13\" y1=\"2425.82\" x2=\"476.19\" y2=\"2425.82\" stroke-linecap=\"round\" style=\"stroke:#1A476F;stroke-width:8.64\"/>\n",
       "\t<line x1=\"1122.41\" y1=\"2221.01\" x2=\"1122.41\" y2=\"837.07\" style=\"stroke:#1A476F;stroke-width:8.64\"/>\n",
       "\t<line x1=\"1100.38\" y1=\"837.07\" x2=\"1144.44\" y2=\"837.07\" stroke-linecap=\"round\" style=\"stroke:#1A476F;stroke-width:8.64\"/>\n",
       "\t<line x1=\"1100.38\" y1=\"2221.01\" x2=\"1144.44\" y2=\"2221.01\" stroke-linecap=\"round\" style=\"stroke:#1A476F;stroke-width:8.64\"/>\n",
       "\t<line x1=\"1790.79\" y1=\"1793.56\" x2=\"1790.79\" y2=\"458.88\" style=\"stroke:#1A476F;stroke-width:8.64\"/>\n",
       "\t<line x1=\"1768.76\" y1=\"458.88\" x2=\"1812.81\" y2=\"458.88\" stroke-linecap=\"round\" style=\"stroke:#1A476F;stroke-width:8.64\"/>\n",
       "\t<line x1=\"1768.76\" y1=\"1793.56\" x2=\"1812.81\" y2=\"1793.56\" stroke-linecap=\"round\" style=\"stroke:#1A476F;stroke-width:8.64\"/>\n",
       "\t<line x1=\"2459.04\" y1=\"1752.35\" x2=\"2459.04\" y2=\"535.98\" style=\"stroke:#1A476F;stroke-width:8.64\"/>\n",
       "\t<line x1=\"2437.01\" y1=\"535.98\" x2=\"2481.06\" y2=\"535.98\" stroke-linecap=\"round\" style=\"stroke:#1A476F;stroke-width:8.64\"/>\n",
       "\t<line x1=\"2437.01\" y1=\"1752.35\" x2=\"2481.06\" y2=\"1752.35\" stroke-linecap=\"round\" style=\"stroke:#1A476F;stroke-width:8.64\"/>\n",
       "\t<line x1=\"3127.41\" y1=\"1655.83\" x2=\"3127.41\" y2=\"421.38\" style=\"stroke:#1A476F;stroke-width:8.64\"/>\n",
       "\t<line x1=\"3105.38\" y1=\"421.38\" x2=\"3149.44\" y2=\"421.38\" stroke-linecap=\"round\" style=\"stroke:#1A476F;stroke-width:8.64\"/>\n",
       "\t<line x1=\"3105.38\" y1=\"1655.83\" x2=\"3149.44\" y2=\"1655.83\" stroke-linecap=\"round\" style=\"stroke:#1A476F;stroke-width:8.64\"/>\n",
       "\t<line x1=\"3795.66\" y1=\"1896.40\" x2=\"3795.66\" y2=\"324.73\" style=\"stroke:#1A476F;stroke-width:8.64\"/>\n",
       "\t<line x1=\"3773.63\" y1=\"324.73\" x2=\"3817.69\" y2=\"324.73\" stroke-linecap=\"round\" style=\"stroke:#1A476F;stroke-width:8.64\"/>\n",
       "\t<line x1=\"3773.63\" y1=\"1896.40\" x2=\"3817.69\" y2=\"1896.40\" stroke-linecap=\"round\" style=\"stroke:#1A476F;stroke-width:8.64\"/>\n",
       "\t<line x1=\"454.04\" y1=\"1790.84\" x2=\"1122.41\" y2=\"1529.10\" stroke-linecap=\"round\" style=\"stroke:#1A476F;stroke-width:8.64\"/>\n",
       "\t<line x1=\"1122.41\" y1=\"1529.10\" x2=\"1790.66\" y2=\"1126.28\" stroke-linecap=\"round\" style=\"stroke:#1A476F;stroke-width:8.64\"/>\n",
       "\t<line x1=\"1790.66\" y1=\"1126.28\" x2=\"2459.04\" y2=\"1144.23\" stroke-linecap=\"round\" style=\"stroke:#1A476F;stroke-width:8.64\"/>\n",
       "\t<line x1=\"2459.04\" y1=\"1144.23\" x2=\"3127.29\" y2=\"1038.67\" stroke-linecap=\"round\" style=\"stroke:#1A476F;stroke-width:8.64\"/>\n",
       "\t<line x1=\"3127.29\" y1=\"1038.67\" x2=\"3795.66\" y2=\"1110.57\" stroke-linecap=\"round\" style=\"stroke:#1A476F;stroke-width:8.64\"/>\n",
       "\t<circle cx=\"454.04\" cy=\"1790.84\" r=\"22.03\" style=\"fill:#1A476F;stroke:#1A476F;stroke-width:8.64\"/>\n",
       "\t<circle cx=\"1122.41\" cy=\"1529.10\" r=\"22.03\" style=\"fill:#1A476F;stroke:#1A476F;stroke-width:8.64\"/>\n",
       "\t<circle cx=\"1790.66\" cy=\"1126.28\" r=\"22.03\" style=\"fill:#1A476F;stroke:#1A476F;stroke-width:8.64\"/>\n",
       "\t<circle cx=\"2459.04\" cy=\"1144.23\" r=\"22.03\" style=\"fill:#1A476F;stroke:#1A476F;stroke-width:8.64\"/>\n",
       "\t<circle cx=\"3127.29\" cy=\"1038.67\" r=\"22.03\" style=\"fill:#1A476F;stroke:#1A476F;stroke-width:8.64\"/>\n",
       "\t<circle cx=\"3795.66\" cy=\"1110.57\" r=\"22.03\" style=\"fill:#1A476F;stroke:#1A476F;stroke-width:8.64\"/>\n",
       "\t<line x1=\"390.80\" y1=\"2489.19\" x2=\"390.80\" y2=\"261.37\" style=\"stroke:#000000;stroke-width:5.76\"/>\n",
       "\t<line x1=\"390.80\" y1=\"2383.99\" x2=\"350.83\" y2=\"2383.99\" style=\"stroke:#000000;stroke-width:5.76\"/>\n",
       "\t<text x=\"300.72\" y=\"2383.99\" style=\"font-family:'Helvetica';font-size:99.99px;fill:#000000\" transform=\"rotate(-90 300.72,2383.99)\" text-anchor=\"middle\">0</text>\n",
       "\t<line x1=\"390.80\" y1=\"1973.75\" x2=\"350.83\" y2=\"1973.75\" style=\"stroke:#000000;stroke-width:5.76\"/>\n",
       "\t<text x=\"300.72\" y=\"1973.75\" style=\"font-family:'Helvetica';font-size:99.99px;fill:#000000\" transform=\"rotate(-90 300.72,1973.75)\" text-anchor=\"middle\">.2</text>\n",
       "\t<line x1=\"390.80\" y1=\"1563.38\" x2=\"350.83\" y2=\"1563.38\" style=\"stroke:#000000;stroke-width:5.76\"/>\n",
       "\t<text x=\"300.72\" y=\"1563.38\" style=\"font-family:'Helvetica';font-size:99.99px;fill:#000000\" transform=\"rotate(-90 300.72,1563.38)\" text-anchor=\"middle\">.4</text>\n",
       "\t<line x1=\"390.80\" y1=\"1153.01\" x2=\"350.83\" y2=\"1153.01\" style=\"stroke:#000000;stroke-width:5.76\"/>\n",
       "\t<text x=\"300.72\" y=\"1153.01\" style=\"font-family:'Helvetica';font-size:99.99px;fill:#000000\" transform=\"rotate(-90 300.72,1153.01)\" text-anchor=\"middle\">.6</text>\n",
       "\t<line x1=\"390.80\" y1=\"742.77\" x2=\"350.83\" y2=\"742.77\" style=\"stroke:#000000;stroke-width:5.76\"/>\n",
       "\t<text x=\"300.72\" y=\"742.77\" style=\"font-family:'Helvetica';font-size:99.99px;fill:#000000\" transform=\"rotate(-90 300.72,742.77)\" text-anchor=\"middle\">.8</text>\n",
       "\t<line x1=\"390.80\" y1=\"332.40\" x2=\"350.83\" y2=\"332.40\" style=\"stroke:#000000;stroke-width:5.76\"/>\n",
       "\t<text x=\"300.72\" y=\"332.40\" style=\"font-family:'Helvetica';font-size:99.99px;fill:#000000\" transform=\"rotate(-90 300.72,332.40)\" text-anchor=\"middle\">1</text>\n",
       "\t<text x=\"190.71\" y=\"1375.28\" style=\"font-family:'Helvetica';font-size:99.99px;fill:#000000\" transform=\"rotate(-90 190.71,1375.28)\" text-anchor=\"middle\">Pr(Y)</text>\n",
       "\t<line x1=\"390.80\" y1=\"2489.19\" x2=\"3859.02\" y2=\"2489.19\" style=\"stroke:#000000;stroke-width:5.76\"/>\n",
       "\t<line x1=\"454.16\" y1=\"2489.19\" x2=\"454.16\" y2=\"2529.16\" style=\"stroke:#000000;stroke-width:5.76\"/>\n",
       "\t<text x=\"454.16\" y=\"2619.14\" style=\"font-family:'Helvetica';font-size:99.99px;fill:#000000\" text-anchor=\"middle\">1</text>\n",
       "\t<line x1=\"1122.41\" y1=\"2489.19\" x2=\"1122.41\" y2=\"2529.16\" style=\"stroke:#000000;stroke-width:5.76\"/>\n",
       "\t<text x=\"1122.41\" y=\"2619.14\" style=\"font-family:'Helvetica';font-size:99.99px;fill:#000000\" text-anchor=\"middle\">2</text>\n",
       "\t<line x1=\"1790.79\" y1=\"2489.19\" x2=\"1790.79\" y2=\"2529.16\" style=\"stroke:#000000;stroke-width:5.76\"/>\n",
       "\t<text x=\"1790.79\" y=\"2619.14\" style=\"font-family:'Helvetica';font-size:99.99px;fill:#000000\" text-anchor=\"middle\">3</text>\n",
       "\t<line x1=\"2459.04\" y1=\"2489.19\" x2=\"2459.04\" y2=\"2529.16\" style=\"stroke:#000000;stroke-width:5.76\"/>\n",
       "\t<text x=\"2459.04\" y=\"2619.14\" style=\"font-family:'Helvetica';font-size:99.99px;fill:#000000\" text-anchor=\"middle\">4</text>\n",
       "\t<line x1=\"3127.41\" y1=\"2489.19\" x2=\"3127.41\" y2=\"2529.16\" style=\"stroke:#000000;stroke-width:5.76\"/>\n",
       "\t<text x=\"3127.41\" y=\"2619.14\" style=\"font-family:'Helvetica';font-size:99.99px;fill:#000000\" text-anchor=\"middle\">5</text>\n",
       "\t<line x1=\"3795.66\" y1=\"2489.19\" x2=\"3795.66\" y2=\"2529.16\" style=\"stroke:#000000;stroke-width:5.76\"/>\n",
       "\t<text x=\"3795.66\" y=\"2619.14\" style=\"font-family:'Helvetica';font-size:99.99px;fill:#000000\" text-anchor=\"middle\">6</text>\n",
       "\t<text x=\"2124.91\" y=\"2729.16\" style=\"font-family:'Helvetica';font-size:99.99px;fill:#000000\" text-anchor=\"middle\">avg_distance</text>\n",
       "\t<text x=\"1980.00\" y=\"206.19\" style=\"font-family:'Helvetica';font-size:125.98px;fill:#1E2D53\" text-anchor=\"middle\">Adjusted Predictions of avg_distance with 95% CIs</text>\n",
       "</svg>\n"
      ],
      "text/html": [
       "                <iframe frameborder=\"0\" scrolling=\"no\" height=\"436\" width=\"600\"                srcdoc=\"<html><body>&lt;?xml version=&quot;1.0&quot; encoding=&quot;UTF-8&quot; standalone=&quot;no&quot;?&gt;\n",
       "&lt;!-- This is a Stata 14.2 generated SVG file (http://www.stata.com) --&gt;\n",
       "\n",
       "&lt;svg version=&quot;1.1&quot; width=&quot;600px&quot; height=&quot;436px&quot; viewBox=&quot;0 0 3960 2880&quot; xmlns=&quot;http://www.w3.org/2000/svg&quot;&gt;\n",
       "\t&lt;desc&gt;Stata Graph - Graph&lt;/desc&gt;\n",
       "\t&lt;rect x=&quot;0.00&quot; y=&quot;0.00&quot; width=&quot;3959.88&quot; height=&quot;2880.00&quot; style=&quot;fill:#EAF2F3;stroke:#EAF2F3;stroke-width:5.76&quot;/&gt;\n",
       "\t&lt;rect x=&quot;390.80&quot; y=&quot;261.37&quot; width=&quot;3468.22&quot; height=&quot;2227.82&quot; style=&quot;fill:#FFFFFF;stroke:#FFFFFF;stroke-width:5.76&quot;/&gt;\n",
       "\t&lt;line x1=&quot;390.80&quot; y1=&quot;2383.99&quot; x2=&quot;3859.02&quot; y2=&quot;2383.99&quot; style=&quot;stroke:#EAF2F3;stroke-width:8.64&quot;/&gt;\n",
       "\t&lt;line x1=&quot;390.80&quot; y1=&quot;1973.75&quot; x2=&quot;3859.02&quot; y2=&quot;1973.75&quot; style=&quot;stroke:#EAF2F3;stroke-width:8.64&quot;/&gt;\n",
       "\t&lt;line x1=&quot;390.80&quot; y1=&quot;1563.38&quot; x2=&quot;3859.02&quot; y2=&quot;1563.38&quot; style=&quot;stroke:#EAF2F3;stroke-width:8.64&quot;/&gt;\n",
       "\t&lt;line x1=&quot;390.80&quot; y1=&quot;1153.01&quot; x2=&quot;3859.02&quot; y2=&quot;1153.01&quot; style=&quot;stroke:#EAF2F3;stroke-width:8.64&quot;/&gt;\n",
       "\t&lt;line x1=&quot;390.80&quot; y1=&quot;742.77&quot; x2=&quot;3859.02&quot; y2=&quot;742.77&quot; style=&quot;stroke:#EAF2F3;stroke-width:8.64&quot;/&gt;\n",
       "\t&lt;line x1=&quot;390.80&quot; y1=&quot;332.40&quot; x2=&quot;3859.02&quot; y2=&quot;332.40&quot; style=&quot;stroke:#EAF2F3;stroke-width:8.64&quot;/&gt;\n",
       "\t&lt;line x1=&quot;454.16&quot; y1=&quot;2425.82&quot; x2=&quot;454.16&quot; y2=&quot;1155.74&quot; style=&quot;stroke:#1A476F;stroke-width:8.64&quot;/&gt;\n",
       "\t&lt;line x1=&quot;432.13&quot; y1=&quot;1155.74&quot; x2=&quot;476.19&quot; y2=&quot;1155.74&quot; stroke-linecap=&quot;round&quot; style=&quot;stroke:#1A476F;stroke-width:8.64&quot;/&gt;\n",
       "\t&lt;line x1=&quot;432.13&quot; y1=&quot;2425.82&quot; x2=&quot;476.19&quot; y2=&quot;2425.82&quot; stroke-linecap=&quot;round&quot; style=&quot;stroke:#1A476F;stroke-width:8.64&quot;/&gt;\n",
       "\t&lt;line x1=&quot;1122.41&quot; y1=&quot;2221.01&quot; x2=&quot;1122.41&quot; y2=&quot;837.07&quot; style=&quot;stroke:#1A476F;stroke-width:8.64&quot;/&gt;\n",
       "\t&lt;line x1=&quot;1100.38&quot; y1=&quot;837.07&quot; x2=&quot;1144.44&quot; y2=&quot;837.07&quot; stroke-linecap=&quot;round&quot; style=&quot;stroke:#1A476F;stroke-width:8.64&quot;/&gt;\n",
       "\t&lt;line x1=&quot;1100.38&quot; y1=&quot;2221.01&quot; x2=&quot;1144.44&quot; y2=&quot;2221.01&quot; stroke-linecap=&quot;round&quot; style=&quot;stroke:#1A476F;stroke-width:8.64&quot;/&gt;\n",
       "\t&lt;line x1=&quot;1790.79&quot; y1=&quot;1793.56&quot; x2=&quot;1790.79&quot; y2=&quot;458.88&quot; style=&quot;stroke:#1A476F;stroke-width:8.64&quot;/&gt;\n",
       "\t&lt;line x1=&quot;1768.76&quot; y1=&quot;458.88&quot; x2=&quot;1812.81&quot; y2=&quot;458.88&quot; stroke-linecap=&quot;round&quot; style=&quot;stroke:#1A476F;stroke-width:8.64&quot;/&gt;\n",
       "\t&lt;line x1=&quot;1768.76&quot; y1=&quot;1793.56&quot; x2=&quot;1812.81&quot; y2=&quot;1793.56&quot; stroke-linecap=&quot;round&quot; style=&quot;stroke:#1A476F;stroke-width:8.64&quot;/&gt;\n",
       "\t&lt;line x1=&quot;2459.04&quot; y1=&quot;1752.35&quot; x2=&quot;2459.04&quot; y2=&quot;535.98&quot; style=&quot;stroke:#1A476F;stroke-width:8.64&quot;/&gt;\n",
       "\t&lt;line x1=&quot;2437.01&quot; y1=&quot;535.98&quot; x2=&quot;2481.06&quot; y2=&quot;535.98&quot; stroke-linecap=&quot;round&quot; style=&quot;stroke:#1A476F;stroke-width:8.64&quot;/&gt;\n",
       "\t&lt;line x1=&quot;2437.01&quot; y1=&quot;1752.35&quot; x2=&quot;2481.06&quot; y2=&quot;1752.35&quot; stroke-linecap=&quot;round&quot; style=&quot;stroke:#1A476F;stroke-width:8.64&quot;/&gt;\n",
       "\t&lt;line x1=&quot;3127.41&quot; y1=&quot;1655.83&quot; x2=&quot;3127.41&quot; y2=&quot;421.38&quot; style=&quot;stroke:#1A476F;stroke-width:8.64&quot;/&gt;\n",
       "\t&lt;line x1=&quot;3105.38&quot; y1=&quot;421.38&quot; x2=&quot;3149.44&quot; y2=&quot;421.38&quot; stroke-linecap=&quot;round&quot; style=&quot;stroke:#1A476F;stroke-width:8.64&quot;/&gt;\n",
       "\t&lt;line x1=&quot;3105.38&quot; y1=&quot;1655.83&quot; x2=&quot;3149.44&quot; y2=&quot;1655.83&quot; stroke-linecap=&quot;round&quot; style=&quot;stroke:#1A476F;stroke-width:8.64&quot;/&gt;\n",
       "\t&lt;line x1=&quot;3795.66&quot; y1=&quot;1896.40&quot; x2=&quot;3795.66&quot; y2=&quot;324.73&quot; style=&quot;stroke:#1A476F;stroke-width:8.64&quot;/&gt;\n",
       "\t&lt;line x1=&quot;3773.63&quot; y1=&quot;324.73&quot; x2=&quot;3817.69&quot; y2=&quot;324.73&quot; stroke-linecap=&quot;round&quot; style=&quot;stroke:#1A476F;stroke-width:8.64&quot;/&gt;\n",
       "\t&lt;line x1=&quot;3773.63&quot; y1=&quot;1896.40&quot; x2=&quot;3817.69&quot; y2=&quot;1896.40&quot; stroke-linecap=&quot;round&quot; style=&quot;stroke:#1A476F;stroke-width:8.64&quot;/&gt;\n",
       "\t&lt;line x1=&quot;454.04&quot; y1=&quot;1790.84&quot; x2=&quot;1122.41&quot; y2=&quot;1529.10&quot; stroke-linecap=&quot;round&quot; style=&quot;stroke:#1A476F;stroke-width:8.64&quot;/&gt;\n",
       "\t&lt;line x1=&quot;1122.41&quot; y1=&quot;1529.10&quot; x2=&quot;1790.66&quot; y2=&quot;1126.28&quot; stroke-linecap=&quot;round&quot; style=&quot;stroke:#1A476F;stroke-width:8.64&quot;/&gt;\n",
       "\t&lt;line x1=&quot;1790.66&quot; y1=&quot;1126.28&quot; x2=&quot;2459.04&quot; y2=&quot;1144.23&quot; stroke-linecap=&quot;round&quot; style=&quot;stroke:#1A476F;stroke-width:8.64&quot;/&gt;\n",
       "\t&lt;line x1=&quot;2459.04&quot; y1=&quot;1144.23&quot; x2=&quot;3127.29&quot; y2=&quot;1038.67&quot; stroke-linecap=&quot;round&quot; style=&quot;stroke:#1A476F;stroke-width:8.64&quot;/&gt;\n",
       "\t&lt;line x1=&quot;3127.29&quot; y1=&quot;1038.67&quot; x2=&quot;3795.66&quot; y2=&quot;1110.57&quot; stroke-linecap=&quot;round&quot; style=&quot;stroke:#1A476F;stroke-width:8.64&quot;/&gt;\n",
       "\t&lt;circle cx=&quot;454.04&quot; cy=&quot;1790.84&quot; r=&quot;22.03&quot; style=&quot;fill:#1A476F;stroke:#1A476F;stroke-width:8.64&quot;/&gt;\n",
       "\t&lt;circle cx=&quot;1122.41&quot; cy=&quot;1529.10&quot; r=&quot;22.03&quot; style=&quot;fill:#1A476F;stroke:#1A476F;stroke-width:8.64&quot;/&gt;\n",
       "\t&lt;circle cx=&quot;1790.66&quot; cy=&quot;1126.28&quot; r=&quot;22.03&quot; style=&quot;fill:#1A476F;stroke:#1A476F;stroke-width:8.64&quot;/&gt;\n",
       "\t&lt;circle cx=&quot;2459.04&quot; cy=&quot;1144.23&quot; r=&quot;22.03&quot; style=&quot;fill:#1A476F;stroke:#1A476F;stroke-width:8.64&quot;/&gt;\n",
       "\t&lt;circle cx=&quot;3127.29&quot; cy=&quot;1038.67&quot; r=&quot;22.03&quot; style=&quot;fill:#1A476F;stroke:#1A476F;stroke-width:8.64&quot;/&gt;\n",
       "\t&lt;circle cx=&quot;3795.66&quot; cy=&quot;1110.57&quot; r=&quot;22.03&quot; style=&quot;fill:#1A476F;stroke:#1A476F;stroke-width:8.64&quot;/&gt;\n",
       "\t&lt;line x1=&quot;390.80&quot; y1=&quot;2489.19&quot; x2=&quot;390.80&quot; y2=&quot;261.37&quot; style=&quot;stroke:#000000;stroke-width:5.76&quot;/&gt;\n",
       "\t&lt;line x1=&quot;390.80&quot; y1=&quot;2383.99&quot; x2=&quot;350.83&quot; y2=&quot;2383.99&quot; style=&quot;stroke:#000000;stroke-width:5.76&quot;/&gt;\n",
       "\t&lt;text x=&quot;300.72&quot; y=&quot;2383.99&quot; style=&quot;font-family:&#x27;Helvetica&#x27;;font-size:99.99px;fill:#000000&quot; transform=&quot;rotate(-90 300.72,2383.99)&quot; text-anchor=&quot;middle&quot;&gt;0&lt;/text&gt;\n",
       "\t&lt;line x1=&quot;390.80&quot; y1=&quot;1973.75&quot; x2=&quot;350.83&quot; y2=&quot;1973.75&quot; style=&quot;stroke:#000000;stroke-width:5.76&quot;/&gt;\n",
       "\t&lt;text x=&quot;300.72&quot; y=&quot;1973.75&quot; style=&quot;font-family:&#x27;Helvetica&#x27;;font-size:99.99px;fill:#000000&quot; transform=&quot;rotate(-90 300.72,1973.75)&quot; text-anchor=&quot;middle&quot;&gt;.2&lt;/text&gt;\n",
       "\t&lt;line x1=&quot;390.80&quot; y1=&quot;1563.38&quot; x2=&quot;350.83&quot; y2=&quot;1563.38&quot; style=&quot;stroke:#000000;stroke-width:5.76&quot;/&gt;\n",
       "\t&lt;text x=&quot;300.72&quot; y=&quot;1563.38&quot; style=&quot;font-family:&#x27;Helvetica&#x27;;font-size:99.99px;fill:#000000&quot; transform=&quot;rotate(-90 300.72,1563.38)&quot; text-anchor=&quot;middle&quot;&gt;.4&lt;/text&gt;\n",
       "\t&lt;line x1=&quot;390.80&quot; y1=&quot;1153.01&quot; x2=&quot;350.83&quot; y2=&quot;1153.01&quot; style=&quot;stroke:#000000;stroke-width:5.76&quot;/&gt;\n",
       "\t&lt;text x=&quot;300.72&quot; y=&quot;1153.01&quot; style=&quot;font-family:&#x27;Helvetica&#x27;;font-size:99.99px;fill:#000000&quot; transform=&quot;rotate(-90 300.72,1153.01)&quot; text-anchor=&quot;middle&quot;&gt;.6&lt;/text&gt;\n",
       "\t&lt;line x1=&quot;390.80&quot; y1=&quot;742.77&quot; x2=&quot;350.83&quot; y2=&quot;742.77&quot; style=&quot;stroke:#000000;stroke-width:5.76&quot;/&gt;\n",
       "\t&lt;text x=&quot;300.72&quot; y=&quot;742.77&quot; style=&quot;font-family:&#x27;Helvetica&#x27;;font-size:99.99px;fill:#000000&quot; transform=&quot;rotate(-90 300.72,742.77)&quot; text-anchor=&quot;middle&quot;&gt;.8&lt;/text&gt;\n",
       "\t&lt;line x1=&quot;390.80&quot; y1=&quot;332.40&quot; x2=&quot;350.83&quot; y2=&quot;332.40&quot; style=&quot;stroke:#000000;stroke-width:5.76&quot;/&gt;\n",
       "\t&lt;text x=&quot;300.72&quot; y=&quot;332.40&quot; style=&quot;font-family:&#x27;Helvetica&#x27;;font-size:99.99px;fill:#000000&quot; transform=&quot;rotate(-90 300.72,332.40)&quot; text-anchor=&quot;middle&quot;&gt;1&lt;/text&gt;\n",
       "\t&lt;text x=&quot;190.71&quot; y=&quot;1375.28&quot; style=&quot;font-family:&#x27;Helvetica&#x27;;font-size:99.99px;fill:#000000&quot; transform=&quot;rotate(-90 190.71,1375.28)&quot; text-anchor=&quot;middle&quot;&gt;Pr(Y)&lt;/text&gt;\n",
       "\t&lt;line x1=&quot;390.80&quot; y1=&quot;2489.19&quot; x2=&quot;3859.02&quot; y2=&quot;2489.19&quot; style=&quot;stroke:#000000;stroke-width:5.76&quot;/&gt;\n",
       "\t&lt;line x1=&quot;454.16&quot; y1=&quot;2489.19&quot; x2=&quot;454.16&quot; y2=&quot;2529.16&quot; style=&quot;stroke:#000000;stroke-width:5.76&quot;/&gt;\n",
       "\t&lt;text x=&quot;454.16&quot; y=&quot;2619.14&quot; style=&quot;font-family:&#x27;Helvetica&#x27;;font-size:99.99px;fill:#000000&quot; text-anchor=&quot;middle&quot;&gt;1&lt;/text&gt;\n",
       "\t&lt;line x1=&quot;1122.41&quot; y1=&quot;2489.19&quot; x2=&quot;1122.41&quot; y2=&quot;2529.16&quot; style=&quot;stroke:#000000;stroke-width:5.76&quot;/&gt;\n",
       "\t&lt;text x=&quot;1122.41&quot; y=&quot;2619.14&quot; style=&quot;font-family:&#x27;Helvetica&#x27;;font-size:99.99px;fill:#000000&quot; text-anchor=&quot;middle&quot;&gt;2&lt;/text&gt;\n",
       "\t&lt;line x1=&quot;1790.79&quot; y1=&quot;2489.19&quot; x2=&quot;1790.79&quot; y2=&quot;2529.16&quot; style=&quot;stroke:#000000;stroke-width:5.76&quot;/&gt;\n",
       "\t&lt;text x=&quot;1790.79&quot; y=&quot;2619.14&quot; style=&quot;font-family:&#x27;Helvetica&#x27;;font-size:99.99px;fill:#000000&quot; text-anchor=&quot;middle&quot;&gt;3&lt;/text&gt;\n",
       "\t&lt;line x1=&quot;2459.04&quot; y1=&quot;2489.19&quot; x2=&quot;2459.04&quot; y2=&quot;2529.16&quot; style=&quot;stroke:#000000;stroke-width:5.76&quot;/&gt;\n",
       "\t&lt;text x=&quot;2459.04&quot; y=&quot;2619.14&quot; style=&quot;font-family:&#x27;Helvetica&#x27;;font-size:99.99px;fill:#000000&quot; text-anchor=&quot;middle&quot;&gt;4&lt;/text&gt;\n",
       "\t&lt;line x1=&quot;3127.41&quot; y1=&quot;2489.19&quot; x2=&quot;3127.41&quot; y2=&quot;2529.16&quot; style=&quot;stroke:#000000;stroke-width:5.76&quot;/&gt;\n",
       "\t&lt;text x=&quot;3127.41&quot; y=&quot;2619.14&quot; style=&quot;font-family:&#x27;Helvetica&#x27;;font-size:99.99px;fill:#000000&quot; text-anchor=&quot;middle&quot;&gt;5&lt;/text&gt;\n",
       "\t&lt;line x1=&quot;3795.66&quot; y1=&quot;2489.19&quot; x2=&quot;3795.66&quot; y2=&quot;2529.16&quot; style=&quot;stroke:#000000;stroke-width:5.76&quot;/&gt;\n",
       "\t&lt;text x=&quot;3795.66&quot; y=&quot;2619.14&quot; style=&quot;font-family:&#x27;Helvetica&#x27;;font-size:99.99px;fill:#000000&quot; text-anchor=&quot;middle&quot;&gt;6&lt;/text&gt;\n",
       "\t&lt;text x=&quot;2124.91&quot; y=&quot;2729.16&quot; style=&quot;font-family:&#x27;Helvetica&#x27;;font-size:99.99px;fill:#000000&quot; text-anchor=&quot;middle&quot;&gt;avg_distance&lt;/text&gt;\n",
       "\t&lt;text x=&quot;1980.00&quot; y=&quot;206.19&quot; style=&quot;font-family:&#x27;Helvetica&#x27;;font-size:125.98px;fill:#1E2D53&quot; text-anchor=&quot;middle&quot;&gt;Adjusted Predictions of avg_distance with 95% CIs&lt;/text&gt;\n",
       "&lt;/svg&gt;\n",
       "</body></html>\"></iframe>\n"
      ],
      "text/plain": [
       "This front-end cannot display the desired image type."
      ]
     },
     "metadata": {
      "image/svg+xml": {
       "height": 436,
       "width": 600
      },
      "text/html": {
       "height": 436,
       "width": 600
      }
     },
     "output_type": "display_data"
    },
    {
     "name": "stdout",
     "output_type": "stream",
     "text": [
      "\n",
      "\n"
     ]
    }
   ],
   "source": [
    "marginsplot"
   ]
  },
  {
   "cell_type": "code",
   "execution_count": 147,
   "metadata": {},
   "outputs": [
    {
     "name": "stdout",
     "output_type": "stream",
     "text": [
      "\n",
      "\n",
      "\n",
      "Conditional marginal effects                    Number of obs     =        184\n",
      "Model VCE    : OIM\n",
      "\n",
      "Expression   : Pr(y), predict()\n",
      "dy/dx w.r.t. : 2.avg_distance 3.avg_distance 4.avg_distance 5.avg_distance 6.avg_distance\n",
      "at           : age             =           2\n",
      "               gender          =           1\n",
      "               marriage        =           1\n",
      "               student1        =           0\n",
      "               company_man2    =           0\n",
      "               public_off~3    =           1\n",
      "               profession4     =           0\n",
      "               researcher5     =           0\n",
      "               learn           =           3\n",
      "               income          =           2\n",
      "               avg_distance    =           3\n",
      "               freq_use_ev     =           3\n",
      "               club_kepco2     =           1\n",
      "               club_jeju3      =           0\n",
      "               ev_owner        =           0\n",
      "               saving_free     =           1\n",
      "               a_cons_sho~s    =           4\n",
      "               a_cons_as       =           4\n",
      "               a_cons_cha~e    =           3\n",
      "               a_cons_num~k    =           5\n",
      "               a_cons_lon~e    =           4\n",
      "               a_cons_hil~e    =           3\n",
      "               a_cons_hac      =           3\n",
      "\n",
      "------------------------------------------------------------------------------\n",
      "             |            Delta-method\n",
      "             |      dy/dx   Std. Err.      z    P>|z|     [95% Conf. Interval]\n",
      "-------------+----------------------------------------------------------------\n",
      "avg_distance |\n",
      "          2  |   .1275995   .1405196     0.91   0.364    -.1478138    .4030128\n",
      "          3  |   .3239292   .1495532     2.17   0.030     .0308102    .6170481\n",
      "          4  |   .3151744   .1579623     2.00   0.046      .005574    .6247748\n",
      "          5  |   .3666266   .1686339     2.17   0.030     .0361103     .697143\n",
      "          6  |   .3315656   .2081841     1.59   0.111    -.0764678     .739599\n",
      "------------------------------------------------------------------------------\n",
      "Note: dy/dx for factor levels is the discrete change from the base level.\n"
     ]
    }
   ],
   "source": [
    "quietly logit y age gender marriage student1 company_man2 public_officer3 profession4 i.researcher5 learn income i.avg_distance freq_use_ev club_kepco2 club_jeju3  ev_owner i.saving_free a_cons_short_dis a_cons_as a_cons_charge_fee a_cons_num_charge_lack a_cons_long_charge_time a_cons_hill_ride  i.a_cons_hac, nolog\n",
    "margins, dydx(avg_distance) at(age=2  gender=1 marriage=1 student1=0 company_man2=0 public_officer3=1 profession4 =0 researcher5=0 learn=3 income=2 avg_distance=3 freq_use_ev =3  club_kepco2=1  club_jeju3=0 ev_owner =0  saving_free = 1 a_cons_short=4 a_cons_as = 4 a_cons_charge_fee=3 a_cons_num_charge_lack =5  a_cons_long_charge_time= 4 a_cons_hill_ride =3 a_cons_hac=3)"
   ]
  },
  {
   "cell_type": "markdown",
   "metadata": {},
   "source": [
    "---\n",
    "### saving_free \n",
    "---"
   ]
  },
  {
   "cell_type": "code",
   "execution_count": 148,
   "metadata": {},
   "outputs": [
    {
     "name": "stdout",
     "output_type": "stream",
     "text": [
      "\n",
      "\n",
      "\n",
      "Adjusted predictions                            Number of obs     =        184\n",
      "Model VCE    : OIM\n",
      "\n",
      "Expression   : Pr(y), predict()\n",
      "at           : age             =           2\n",
      "               gender          =           1\n",
      "               marriage        =           1\n",
      "               student1        =           0\n",
      "               company_man2    =           0\n",
      "               public_off~3    =           1\n",
      "               profession4     =           0\n",
      "               researcher5     =           0\n",
      "               learn           =           3\n",
      "               income          =           2\n",
      "               avg_distance    =           3\n",
      "               freq_use_ev     =           3\n",
      "               club_kepco2     =           1\n",
      "               club_jeju3      =           0\n",
      "               ev_owner        =           0\n",
      "               saving_free     =           1\n",
      "               a_cons_sho~s    =           4\n",
      "               a_cons_as       =           4\n",
      "               a_cons_cha~e    =           3\n",
      "               a_cons_num~k    =           5\n",
      "               a_cons_lon~e    =           4\n",
      "               a_cons_hil~e    =           3\n",
      "               a_cons_hac      =           3\n",
      "\n",
      "------------------------------------------------------------------------------\n",
      "             |            Delta-method\n",
      "             |     Margin   Std. Err.      z    P>|z|     [95% Conf. Interval]\n",
      "-------------+----------------------------------------------------------------\n",
      " saving_free |\n",
      "          0  |   .8888876   .1021783     8.70   0.000     .6886218    1.089153\n",
      "          1  |   .6130918   .1659685     3.69   0.000     .2877994    .9383842\n",
      "------------------------------------------------------------------------------\n"
     ]
    }
   ],
   "source": [
    "* at mode\n",
    "quietly logit y age gender marriage student1 company_man2 public_officer3 profession4 i.researcher5 learn income i.avg_distance freq_use_ev club_kepco2 club_jeju3  ev_owner i.saving_free a_cons_short_dis a_cons_as a_cons_charge_fee a_cons_num_charge_lack a_cons_long_charge_time a_cons_hill_ride  i.a_cons_hac, nolog\n",
    "margins saving_free, at(age=2  gender=1 marriage=1 student1=0 company_man2=0 public_officer3=1 profession4 =0 researcher5=0 learn=3 income=2 avg_distance=3 freq_use_ev =3  club_kepco2=1  club_jeju3=0 ev_owner =0  saving_free = 1 a_cons_short=4 a_cons_as = 4 a_cons_charge_fee=3 a_cons_num_charge_lack =5  a_cons_long_charge_time= 4 a_cons_hill_ride =3 a_cons_hac=3)"
   ]
  },
  {
   "cell_type": "code",
   "execution_count": 149,
   "metadata": {},
   "outputs": [
    {
     "name": "stdout",
     "output_type": "stream",
     "text": [
      "\n",
      "  Variables that uniquely identify margins: saving_free\n"
     ]
    },
    {
     "data": {
      "application/pdf": "[encoded data removed]",
      "image/svg+xml": [
       "<?xml version=\"1.0\" encoding=\"UTF-8\" standalone=\"no\"?>\n",
       "<!-- This is a Stata 14.2 generated SVG file (http://www.stata.com) -->\n",
       "\n",
       "<svg version=\"1.1\" width=\"600px\" height=\"436px\" viewBox=\"0 0 3960 2880\" xmlns=\"http://www.w3.org/2000/svg\">\n",
       "\t<desc>Stata Graph - Graph</desc>\n",
       "\t<rect x=\"0.00\" y=\"0.00\" width=\"3959.88\" height=\"2880.00\" style=\"fill:#EAF2F3;stroke:#EAF2F3;stroke-width:5.76\"/>\n",
       "\t<rect x=\"390.80\" y=\"261.37\" width=\"3468.22\" height=\"2227.82\" style=\"fill:#FFFFFF;stroke:#FFFFFF;stroke-width:5.76\"/>\n",
       "\t<line x1=\"390.80\" y1=\"2425.82\" x2=\"3859.02\" y2=\"2425.82\" style=\"stroke:#EAF2F3;stroke-width:8.64\"/>\n",
       "\t<line x1=\"390.80\" y1=\"2005.68\" x2=\"3859.02\" y2=\"2005.68\" style=\"stroke:#EAF2F3;stroke-width:8.64\"/>\n",
       "\t<line x1=\"390.80\" y1=\"1585.41\" x2=\"3859.02\" y2=\"1585.41\" style=\"stroke:#EAF2F3;stroke-width:8.64\"/>\n",
       "\t<line x1=\"390.80\" y1=\"1165.14\" x2=\"3859.02\" y2=\"1165.14\" style=\"stroke:#EAF2F3;stroke-width:8.64\"/>\n",
       "\t<line x1=\"390.80\" y1=\"745.00\" x2=\"3859.02\" y2=\"745.00\" style=\"stroke:#EAF2F3;stroke-width:8.64\"/>\n",
       "\t<line x1=\"390.80\" y1=\"324.73\" x2=\"3859.02\" y2=\"324.73\" style=\"stroke:#EAF2F3;stroke-width:8.64\"/>\n",
       "\t<line x1=\"454.16\" y1=\"1399.16\" x2=\"454.16\" y2=\"557.63\" style=\"stroke:#1A476F;stroke-width:8.64\"/>\n",
       "\t<line x1=\"432.13\" y1=\"557.63\" x2=\"476.19\" y2=\"557.63\" stroke-linecap=\"round\" style=\"stroke:#1A476F;stroke-width:8.64\"/>\n",
       "\t<line x1=\"432.13\" y1=\"1399.16\" x2=\"476.19\" y2=\"1399.16\" stroke-linecap=\"round\" style=\"stroke:#1A476F;stroke-width:8.64\"/>\n",
       "\t<line x1=\"3795.66\" y1=\"2241.43\" x2=\"3795.66\" y2=\"874.44\" style=\"stroke:#1A476F;stroke-width:8.64\"/>\n",
       "\t<line x1=\"3773.63\" y1=\"874.44\" x2=\"3817.69\" y2=\"874.44\" stroke-linecap=\"round\" style=\"stroke:#1A476F;stroke-width:8.64\"/>\n",
       "\t<line x1=\"3773.63\" y1=\"2241.43\" x2=\"3817.69\" y2=\"2241.43\" stroke-linecap=\"round\" style=\"stroke:#1A476F;stroke-width:8.64\"/>\n",
       "\t<line x1=\"454.04\" y1=\"978.52\" x2=\"3795.66\" y2=\"1557.94\" stroke-linecap=\"round\" style=\"stroke:#1A476F;stroke-width:8.64\"/>\n",
       "\t<circle cx=\"454.04\" cy=\"978.52\" r=\"22.03\" style=\"fill:#1A476F;stroke:#1A476F;stroke-width:8.64\"/>\n",
       "\t<circle cx=\"3795.66\" cy=\"1557.94\" r=\"22.03\" style=\"fill:#1A476F;stroke:#1A476F;stroke-width:8.64\"/>\n",
       "\t<line x1=\"390.80\" y1=\"2489.19\" x2=\"390.80\" y2=\"261.37\" style=\"stroke:#000000;stroke-width:5.76\"/>\n",
       "\t<line x1=\"390.80\" y1=\"2425.82\" x2=\"350.83\" y2=\"2425.82\" style=\"stroke:#000000;stroke-width:5.76\"/>\n",
       "\t<text x=\"300.72\" y=\"2425.82\" style=\"font-family:'Helvetica';font-size:99.99px;fill:#000000\" transform=\"rotate(-90 300.72,2425.82)\" text-anchor=\"middle\">.2</text>\n",
       "\t<line x1=\"390.80\" y1=\"2005.68\" x2=\"350.83\" y2=\"2005.68\" style=\"stroke:#000000;stroke-width:5.76\"/>\n",
       "\t<text x=\"300.72\" y=\"2005.68\" style=\"font-family:'Helvetica';font-size:99.99px;fill:#000000\" transform=\"rotate(-90 300.72,2005.68)\" text-anchor=\"middle\">.4</text>\n",
       "\t<line x1=\"390.80\" y1=\"1585.41\" x2=\"350.83\" y2=\"1585.41\" style=\"stroke:#000000;stroke-width:5.76\"/>\n",
       "\t<text x=\"300.72\" y=\"1585.41\" style=\"font-family:'Helvetica';font-size:99.99px;fill:#000000\" transform=\"rotate(-90 300.72,1585.41)\" text-anchor=\"middle\">.6</text>\n",
       "\t<line x1=\"390.80\" y1=\"1165.14\" x2=\"350.83\" y2=\"1165.14\" style=\"stroke:#000000;stroke-width:5.76\"/>\n",
       "\t<text x=\"300.72\" y=\"1165.14\" style=\"font-family:'Helvetica';font-size:99.99px;fill:#000000\" transform=\"rotate(-90 300.72,1165.14)\" text-anchor=\"middle\">.8</text>\n",
       "\t<line x1=\"390.80\" y1=\"745.00\" x2=\"350.83\" y2=\"745.00\" style=\"stroke:#000000;stroke-width:5.76\"/>\n",
       "\t<text x=\"300.72\" y=\"745.00\" style=\"font-family:'Helvetica';font-size:99.99px;fill:#000000\" transform=\"rotate(-90 300.72,745.00)\" text-anchor=\"middle\">1</text>\n",
       "\t<line x1=\"390.80\" y1=\"324.73\" x2=\"350.83\" y2=\"324.73\" style=\"stroke:#000000;stroke-width:5.76\"/>\n",
       "\t<text x=\"300.72\" y=\"324.73\" style=\"font-family:'Helvetica';font-size:99.99px;fill:#000000\" transform=\"rotate(-90 300.72,324.73)\" text-anchor=\"middle\">1.2</text>\n",
       "\t<text x=\"190.71\" y=\"1375.28\" style=\"font-family:'Helvetica';font-size:99.99px;fill:#000000\" transform=\"rotate(-90 190.71,1375.28)\" text-anchor=\"middle\">Pr(Y)</text>\n",
       "\t<line x1=\"390.80\" y1=\"2489.19\" x2=\"3859.02\" y2=\"2489.19\" style=\"stroke:#000000;stroke-width:5.76\"/>\n",
       "\t<line x1=\"454.16\" y1=\"2489.19\" x2=\"454.16\" y2=\"2529.16\" style=\"stroke:#000000;stroke-width:5.76\"/>\n",
       "\t<text x=\"454.16\" y=\"2619.14\" style=\"font-family:'Helvetica';font-size:99.99px;fill:#000000\" text-anchor=\"middle\">0</text>\n",
       "\t<line x1=\"3795.66\" y1=\"2489.19\" x2=\"3795.66\" y2=\"2529.16\" style=\"stroke:#000000;stroke-width:5.76\"/>\n",
       "\t<text x=\"3795.66\" y=\"2619.14\" style=\"font-family:'Helvetica';font-size:99.99px;fill:#000000\" text-anchor=\"middle\">1</text>\n",
       "\t<text x=\"2124.91\" y=\"2729.16\" style=\"font-family:'Helvetica';font-size:99.99px;fill:#000000\" text-anchor=\"middle\">saving_free</text>\n",
       "\t<text x=\"1979.88\" y=\"206.19\" style=\"font-family:'Helvetica';font-size:125.98px;fill:#1E2D53\" text-anchor=\"middle\">Adjusted Predictions of saving_free with 95% CIs</text>\n",
       "</svg>\n"
      ],
      "text/html": [
       "                <iframe frameborder=\"0\" scrolling=\"no\" height=\"436\" width=\"600\"                srcdoc=\"<html><body>&lt;?xml version=&quot;1.0&quot; encoding=&quot;UTF-8&quot; standalone=&quot;no&quot;?&gt;\n",
       "&lt;!-- This is a Stata 14.2 generated SVG file (http://www.stata.com) --&gt;\n",
       "\n",
       "&lt;svg version=&quot;1.1&quot; width=&quot;600px&quot; height=&quot;436px&quot; viewBox=&quot;0 0 3960 2880&quot; xmlns=&quot;http://www.w3.org/2000/svg&quot;&gt;\n",
       "\t&lt;desc&gt;Stata Graph - Graph&lt;/desc&gt;\n",
       "\t&lt;rect x=&quot;0.00&quot; y=&quot;0.00&quot; width=&quot;3959.88&quot; height=&quot;2880.00&quot; style=&quot;fill:#EAF2F3;stroke:#EAF2F3;stroke-width:5.76&quot;/&gt;\n",
       "\t&lt;rect x=&quot;390.80&quot; y=&quot;261.37&quot; width=&quot;3468.22&quot; height=&quot;2227.82&quot; style=&quot;fill:#FFFFFF;stroke:#FFFFFF;stroke-width:5.76&quot;/&gt;\n",
       "\t&lt;line x1=&quot;390.80&quot; y1=&quot;2425.82&quot; x2=&quot;3859.02&quot; y2=&quot;2425.82&quot; style=&quot;stroke:#EAF2F3;stroke-width:8.64&quot;/&gt;\n",
       "\t&lt;line x1=&quot;390.80&quot; y1=&quot;2005.68&quot; x2=&quot;3859.02&quot; y2=&quot;2005.68&quot; style=&quot;stroke:#EAF2F3;stroke-width:8.64&quot;/&gt;\n",
       "\t&lt;line x1=&quot;390.80&quot; y1=&quot;1585.41&quot; x2=&quot;3859.02&quot; y2=&quot;1585.41&quot; style=&quot;stroke:#EAF2F3;stroke-width:8.64&quot;/&gt;\n",
       "\t&lt;line x1=&quot;390.80&quot; y1=&quot;1165.14&quot; x2=&quot;3859.02&quot; y2=&quot;1165.14&quot; style=&quot;stroke:#EAF2F3;stroke-width:8.64&quot;/&gt;\n",
       "\t&lt;line x1=&quot;390.80&quot; y1=&quot;745.00&quot; x2=&quot;3859.02&quot; y2=&quot;745.00&quot; style=&quot;stroke:#EAF2F3;stroke-width:8.64&quot;/&gt;\n",
       "\t&lt;line x1=&quot;390.80&quot; y1=&quot;324.73&quot; x2=&quot;3859.02&quot; y2=&quot;324.73&quot; style=&quot;stroke:#EAF2F3;stroke-width:8.64&quot;/&gt;\n",
       "\t&lt;line x1=&quot;454.16&quot; y1=&quot;1399.16&quot; x2=&quot;454.16&quot; y2=&quot;557.63&quot; style=&quot;stroke:#1A476F;stroke-width:8.64&quot;/&gt;\n",
       "\t&lt;line x1=&quot;432.13&quot; y1=&quot;557.63&quot; x2=&quot;476.19&quot; y2=&quot;557.63&quot; stroke-linecap=&quot;round&quot; style=&quot;stroke:#1A476F;stroke-width:8.64&quot;/&gt;\n",
       "\t&lt;line x1=&quot;432.13&quot; y1=&quot;1399.16&quot; x2=&quot;476.19&quot; y2=&quot;1399.16&quot; stroke-linecap=&quot;round&quot; style=&quot;stroke:#1A476F;stroke-width:8.64&quot;/&gt;\n",
       "\t&lt;line x1=&quot;3795.66&quot; y1=&quot;2241.43&quot; x2=&quot;3795.66&quot; y2=&quot;874.44&quot; style=&quot;stroke:#1A476F;stroke-width:8.64&quot;/&gt;\n",
       "\t&lt;line x1=&quot;3773.63&quot; y1=&quot;874.44&quot; x2=&quot;3817.69&quot; y2=&quot;874.44&quot; stroke-linecap=&quot;round&quot; style=&quot;stroke:#1A476F;stroke-width:8.64&quot;/&gt;\n",
       "\t&lt;line x1=&quot;3773.63&quot; y1=&quot;2241.43&quot; x2=&quot;3817.69&quot; y2=&quot;2241.43&quot; stroke-linecap=&quot;round&quot; style=&quot;stroke:#1A476F;stroke-width:8.64&quot;/&gt;\n",
       "\t&lt;line x1=&quot;454.04&quot; y1=&quot;978.52&quot; x2=&quot;3795.66&quot; y2=&quot;1557.94&quot; stroke-linecap=&quot;round&quot; style=&quot;stroke:#1A476F;stroke-width:8.64&quot;/&gt;\n",
       "\t&lt;circle cx=&quot;454.04&quot; cy=&quot;978.52&quot; r=&quot;22.03&quot; style=&quot;fill:#1A476F;stroke:#1A476F;stroke-width:8.64&quot;/&gt;\n",
       "\t&lt;circle cx=&quot;3795.66&quot; cy=&quot;1557.94&quot; r=&quot;22.03&quot; style=&quot;fill:#1A476F;stroke:#1A476F;stroke-width:8.64&quot;/&gt;\n",
       "\t&lt;line x1=&quot;390.80&quot; y1=&quot;2489.19&quot; x2=&quot;390.80&quot; y2=&quot;261.37&quot; style=&quot;stroke:#000000;stroke-width:5.76&quot;/&gt;\n",
       "\t&lt;line x1=&quot;390.80&quot; y1=&quot;2425.82&quot; x2=&quot;350.83&quot; y2=&quot;2425.82&quot; style=&quot;stroke:#000000;stroke-width:5.76&quot;/&gt;\n",
       "\t&lt;text x=&quot;300.72&quot; y=&quot;2425.82&quot; style=&quot;font-family:&#x27;Helvetica&#x27;;font-size:99.99px;fill:#000000&quot; transform=&quot;rotate(-90 300.72,2425.82)&quot; text-anchor=&quot;middle&quot;&gt;.2&lt;/text&gt;\n",
       "\t&lt;line x1=&quot;390.80&quot; y1=&quot;2005.68&quot; x2=&quot;350.83&quot; y2=&quot;2005.68&quot; style=&quot;stroke:#000000;stroke-width:5.76&quot;/&gt;\n",
       "\t&lt;text x=&quot;300.72&quot; y=&quot;2005.68&quot; style=&quot;font-family:&#x27;Helvetica&#x27;;font-size:99.99px;fill:#000000&quot; transform=&quot;rotate(-90 300.72,2005.68)&quot; text-anchor=&quot;middle&quot;&gt;.4&lt;/text&gt;\n",
       "\t&lt;line x1=&quot;390.80&quot; y1=&quot;1585.41&quot; x2=&quot;350.83&quot; y2=&quot;1585.41&quot; style=&quot;stroke:#000000;stroke-width:5.76&quot;/&gt;\n",
       "\t&lt;text x=&quot;300.72&quot; y=&quot;1585.41&quot; style=&quot;font-family:&#x27;Helvetica&#x27;;font-size:99.99px;fill:#000000&quot; transform=&quot;rotate(-90 300.72,1585.41)&quot; text-anchor=&quot;middle&quot;&gt;.6&lt;/text&gt;\n",
       "\t&lt;line x1=&quot;390.80&quot; y1=&quot;1165.14&quot; x2=&quot;350.83&quot; y2=&quot;1165.14&quot; style=&quot;stroke:#000000;stroke-width:5.76&quot;/&gt;\n",
       "\t&lt;text x=&quot;300.72&quot; y=&quot;1165.14&quot; style=&quot;font-family:&#x27;Helvetica&#x27;;font-size:99.99px;fill:#000000&quot; transform=&quot;rotate(-90 300.72,1165.14)&quot; text-anchor=&quot;middle&quot;&gt;.8&lt;/text&gt;\n",
       "\t&lt;line x1=&quot;390.80&quot; y1=&quot;745.00&quot; x2=&quot;350.83&quot; y2=&quot;745.00&quot; style=&quot;stroke:#000000;stroke-width:5.76&quot;/&gt;\n",
       "\t&lt;text x=&quot;300.72&quot; y=&quot;745.00&quot; style=&quot;font-family:&#x27;Helvetica&#x27;;font-size:99.99px;fill:#000000&quot; transform=&quot;rotate(-90 300.72,745.00)&quot; text-anchor=&quot;middle&quot;&gt;1&lt;/text&gt;\n",
       "\t&lt;line x1=&quot;390.80&quot; y1=&quot;324.73&quot; x2=&quot;350.83&quot; y2=&quot;324.73&quot; style=&quot;stroke:#000000;stroke-width:5.76&quot;/&gt;\n",
       "\t&lt;text x=&quot;300.72&quot; y=&quot;324.73&quot; style=&quot;font-family:&#x27;Helvetica&#x27;;font-size:99.99px;fill:#000000&quot; transform=&quot;rotate(-90 300.72,324.73)&quot; text-anchor=&quot;middle&quot;&gt;1.2&lt;/text&gt;\n",
       "\t&lt;text x=&quot;190.71&quot; y=&quot;1375.28&quot; style=&quot;font-family:&#x27;Helvetica&#x27;;font-size:99.99px;fill:#000000&quot; transform=&quot;rotate(-90 190.71,1375.28)&quot; text-anchor=&quot;middle&quot;&gt;Pr(Y)&lt;/text&gt;\n",
       "\t&lt;line x1=&quot;390.80&quot; y1=&quot;2489.19&quot; x2=&quot;3859.02&quot; y2=&quot;2489.19&quot; style=&quot;stroke:#000000;stroke-width:5.76&quot;/&gt;\n",
       "\t&lt;line x1=&quot;454.16&quot; y1=&quot;2489.19&quot; x2=&quot;454.16&quot; y2=&quot;2529.16&quot; style=&quot;stroke:#000000;stroke-width:5.76&quot;/&gt;\n",
       "\t&lt;text x=&quot;454.16&quot; y=&quot;2619.14&quot; style=&quot;font-family:&#x27;Helvetica&#x27;;font-size:99.99px;fill:#000000&quot; text-anchor=&quot;middle&quot;&gt;0&lt;/text&gt;\n",
       "\t&lt;line x1=&quot;3795.66&quot; y1=&quot;2489.19&quot; x2=&quot;3795.66&quot; y2=&quot;2529.16&quot; style=&quot;stroke:#000000;stroke-width:5.76&quot;/&gt;\n",
       "\t&lt;text x=&quot;3795.66&quot; y=&quot;2619.14&quot; style=&quot;font-family:&#x27;Helvetica&#x27;;font-size:99.99px;fill:#000000&quot; text-anchor=&quot;middle&quot;&gt;1&lt;/text&gt;\n",
       "\t&lt;text x=&quot;2124.91&quot; y=&quot;2729.16&quot; style=&quot;font-family:&#x27;Helvetica&#x27;;font-size:99.99px;fill:#000000&quot; text-anchor=&quot;middle&quot;&gt;saving_free&lt;/text&gt;\n",
       "\t&lt;text x=&quot;1979.88&quot; y=&quot;206.19&quot; style=&quot;font-family:&#x27;Helvetica&#x27;;font-size:125.98px;fill:#1E2D53&quot; text-anchor=&quot;middle&quot;&gt;Adjusted Predictions of saving_free with 95% CIs&lt;/text&gt;\n",
       "&lt;/svg&gt;\n",
       "</body></html>\"></iframe>\n"
      ],
      "text/plain": [
       "This front-end cannot display the desired image type."
      ]
     },
     "metadata": {
      "image/svg+xml": {
       "height": 436,
       "width": 600
      },
      "text/html": {
       "height": 436,
       "width": 600
      }
     },
     "output_type": "display_data"
    },
    {
     "name": "stdout",
     "output_type": "stream",
     "text": [
      "\n",
      "\n"
     ]
    }
   ],
   "source": [
    "marginsplot"
   ]
  },
  {
   "cell_type": "code",
   "execution_count": 150,
   "metadata": {},
   "outputs": [
    {
     "name": "stdout",
     "output_type": "stream",
     "text": [
      "\n",
      "\n",
      "\n",
      "Conditional marginal effects                    Number of obs     =        184\n",
      "Model VCE    : OIM\n",
      "\n",
      "Expression   : Pr(y), predict()\n",
      "dy/dx w.r.t. : 1.saving_free\n",
      "at           : age             =           2\n",
      "               gender          =           1\n",
      "               marriage        =           1\n",
      "               student1        =           0\n",
      "               company_man2    =           0\n",
      "               public_off~3    =           1\n",
      "               profession4     =           0\n",
      "               researcher5     =           0\n",
      "               learn           =           3\n",
      "               income          =           2\n",
      "               avg_distance    =           3\n",
      "               freq_use_ev     =           3\n",
      "               club_kepco2     =           1\n",
      "               club_jeju3      =           0\n",
      "               ev_owner        =           0\n",
      "               saving_free     =           1\n",
      "               a_cons_sho~s    =           4\n",
      "               a_cons_as       =           4\n",
      "               a_cons_cha~e    =           3\n",
      "               a_cons_num~k    =           5\n",
      "               a_cons_lon~e    =           4\n",
      "               a_cons_hil~e    =           3\n",
      "               a_cons_hac      =           3\n",
      "\n",
      "-------------------------------------------------------------------------------\n",
      "              |            Delta-method\n",
      "              |      dy/dx   Std. Err.      z    P>|z|     [95% Conf. Interval]\n",
      "--------------+----------------------------------------------------------------\n",
      "1.saving_free |  -.2757958   .1168484    -2.36   0.018    -.5048144   -.0467772\n",
      "-------------------------------------------------------------------------------\n",
      "Note: dy/dx for factor levels is the discrete change from the base level.\n"
     ]
    }
   ],
   "source": [
    "* at mode \n",
    "quietly logit y age gender marriage student1 company_man2 public_officer3 profession4 i.researcher5 learn income i.avg_distance freq_use_ev club_kepco2 club_jeju3  ev_owner i.saving_free a_cons_short_dis a_cons_as a_cons_charge_fee a_cons_num_charge_lack a_cons_long_charge_time a_cons_hill_ride  i.a_cons_hac, nolog\n",
    "margins, dydx(saving_free) at(age=2  gender=1 marriage=1 student1=0 company_man2=0 public_officer3=1 profession4 =0 researcher5=0 learn=3 income=2 avg_distance=3 freq_use_ev =3  club_kepco2=1  club_jeju3=0 ev_owner =0  saving_free = 1 a_cons_short=4 a_cons_as = 4 a_cons_charge_fee=3 a_cons_num_charge_lack =5  a_cons_long_charge_time= 4 a_cons_hill_ride =3 a_cons_hac=3)"
   ]
  },
  {
   "cell_type": "markdown",
   "metadata": {},
   "source": [
    "---\n",
    "### a_con_hac \n",
    "---"
   ]
  },
  {
   "cell_type": "code",
   "execution_count": 151,
   "metadata": {},
   "outputs": [
    {
     "name": "stdout",
     "output_type": "stream",
     "text": [
      "\n",
      "\n",
      "\n",
      "Adjusted predictions                            Number of obs     =        184\n",
      "Model VCE    : OIM\n",
      "\n",
      "Expression   : Pr(y), predict()\n",
      "at           : age             =           2\n",
      "               gender          =           1\n",
      "               marriage        =           1\n",
      "               student1        =           0\n",
      "               company_man2    =           0\n",
      "               public_off~3    =           1\n",
      "               profession4     =           0\n",
      "               researcher5     =           0\n",
      "               learn           =           3\n",
      "               income          =           2\n",
      "               avg_distance    =           3\n",
      "               freq_use_ev     =           3\n",
      "               club_kepco2     =           1\n",
      "               club_jeju3      =           0\n",
      "               ev_owner        =           0\n",
      "               saving_free     =           1\n",
      "               a_cons_sho~s    =           4\n",
      "               a_cons_as       =           4\n",
      "               a_cons_cha~e    =           3\n",
      "               a_cons_num~k    =           5\n",
      "               a_cons_lon~e    =           4\n",
      "               a_cons_hil~e    =           3\n",
      "\n",
      "------------------------------------------------------------------------------\n",
      "             |            Delta-method\n",
      "             |     Margin   Std. Err.      z    P>|z|     [95% Conf. Interval]\n",
      "-------------+----------------------------------------------------------------\n",
      "  a_cons_hac |\n",
      "          1  |   .7585524   .1690171     4.49   0.000      .427285     1.08982\n",
      "          2  |   .8499027   .1145792     7.42   0.000     .6253316    1.074474\n",
      "          3  |   .6130918   .1659685     3.69   0.000     .2877994    .9383842\n",
      "          4  |   .5196768    .182611     2.85   0.004     .1617657    .8775878\n",
      "          5  |   .4473554   .1749494     2.56   0.011     .1044609    .7902499\n",
      "------------------------------------------------------------------------------\n"
     ]
    }
   ],
   "source": [
    "* Holding all variables at their mode values. The probability of y = 1 is\n",
    "* 65% among respondents who \"1\"  \n",
    "* 77% among respondents who \"2\"  \n",
    "* 50% among respondents who \"3\"  \n",
    "* 39% among respondents who \"4\"  \n",
    "* 38% among respondents who \"5\"  \n",
    "* a_con_hac is a categorical variable\n",
    "quietly logit y age gender marriage student1 company_man2 public_officer3 profession4 i.researcher5 learn income i.avg_distance freq_use_ev club_kepco2 club_jeju3  ev_owner i.saving_free a_cons_short_dis a_cons_as a_cons_charge_fee a_cons_num_charge_lack a_cons_long_charge_time a_cons_hill_ride  i.a_cons_hac, nolog\n",
    "margin a_cons_hac, at(age=2  gender=1 marriage=1 student1=0 company_man2=0 public_officer3=1 profession4 =0 researcher5=0 learn=3 income=2 avg_distance=3 freq_use_ev =3  club_kepco2=1  club_jeju3=0 ev_owner =0  saving_free = 1 a_cons_short=4 a_cons_as = 4 a_cons_charge_fee=3 a_cons_num_charge_lack =5  a_cons_long_charge_time= 4 a_cons_hill_ride =3)"
   ]
  },
  {
   "cell_type": "code",
   "execution_count": 152,
   "metadata": {},
   "outputs": [
    {
     "name": "stdout",
     "output_type": "stream",
     "text": [
      "\n",
      "  Variables that uniquely identify margins: a_cons_hac\n"
     ]
    },
    {
     "data": {
      "application/pdf": "[encoded data removed]",
      "image/svg+xml": [
       "<?xml version=\"1.0\" encoding=\"UTF-8\" standalone=\"no\"?>\n",
       "<!-- This is a Stata 14.2 generated SVG file (http://www.stata.com) -->\n",
       "\n",
       "<svg version=\"1.1\" width=\"600px\" height=\"436px\" viewBox=\"0 0 3960 2880\" xmlns=\"http://www.w3.org/2000/svg\">\n",
       "\t<desc>Stata Graph - Graph</desc>\n",
       "\t<rect x=\"0.00\" y=\"0.00\" width=\"3959.88\" height=\"2880.00\" style=\"fill:#EAF2F3;stroke:#EAF2F3;stroke-width:5.76\"/>\n",
       "\t<rect x=\"390.80\" y=\"261.37\" width=\"3468.22\" height=\"2227.82\" style=\"fill:#FFFFFF;stroke:#FFFFFF;stroke-width:5.76\"/>\n",
       "\t<line x1=\"390.80\" y1=\"2425.82\" x2=\"3859.02\" y2=\"2425.82\" style=\"stroke:#EAF2F3;stroke-width:8.64\"/>\n",
       "\t<line x1=\"390.80\" y1=\"1461.90\" x2=\"3859.02\" y2=\"1461.90\" style=\"stroke:#EAF2F3;stroke-width:8.64\"/>\n",
       "\t<line x1=\"390.80\" y1=\"497.86\" x2=\"3859.02\" y2=\"497.86\" style=\"stroke:#EAF2F3;stroke-width:8.64\"/>\n",
       "\t<line x1=\"454.16\" y1=\"1602.12\" x2=\"454.16\" y2=\"324.73\" style=\"stroke:#1A476F;stroke-width:8.64\"/>\n",
       "\t<line x1=\"432.13\" y1=\"324.73\" x2=\"476.19\" y2=\"324.73\" stroke-linecap=\"round\" style=\"stroke:#1A476F;stroke-width:8.64\"/>\n",
       "\t<line x1=\"432.13\" y1=\"1602.12\" x2=\"476.19\" y2=\"1602.12\" stroke-linecap=\"round\" style=\"stroke:#1A476F;stroke-width:8.64\"/>\n",
       "\t<line x1=\"1289.47\" y1=\"1220.21\" x2=\"1289.47\" y2=\"354.31\" style=\"stroke:#1A476F;stroke-width:8.64\"/>\n",
       "\t<line x1=\"1267.45\" y1=\"354.31\" x2=\"1311.50\" y2=\"354.31\" stroke-linecap=\"round\" style=\"stroke:#1A476F;stroke-width:8.64\"/>\n",
       "\t<line x1=\"1267.45\" y1=\"1220.21\" x2=\"1311.50\" y2=\"1220.21\" stroke-linecap=\"round\" style=\"stroke:#1A476F;stroke-width:8.64\"/>\n",
       "\t<line x1=\"2124.91\" y1=\"1871.03\" x2=\"2124.91\" y2=\"616.67\" style=\"stroke:#1A476F;stroke-width:8.64\"/>\n",
       "\t<line x1=\"2102.88\" y1=\"616.67\" x2=\"2146.94\" y2=\"616.67\" stroke-linecap=\"round\" style=\"stroke:#1A476F;stroke-width:8.64\"/>\n",
       "\t<line x1=\"2102.88\" y1=\"1871.03\" x2=\"2146.94\" y2=\"1871.03\" stroke-linecap=\"round\" style=\"stroke:#1A476F;stroke-width:8.64\"/>\n",
       "\t<line x1=\"2960.35\" y1=\"2113.96\" x2=\"2960.35\" y2=\"733.86\" style=\"stroke:#1A476F;stroke-width:8.64\"/>\n",
       "\t<line x1=\"2938.32\" y1=\"733.86\" x2=\"2982.38\" y2=\"733.86\" stroke-linecap=\"round\" style=\"stroke:#1A476F;stroke-width:8.64\"/>\n",
       "\t<line x1=\"2938.32\" y1=\"2113.96\" x2=\"2982.38\" y2=\"2113.96\" stroke-linecap=\"round\" style=\"stroke:#1A476F;stroke-width:8.64\"/>\n",
       "\t<line x1=\"3795.66\" y1=\"2224.48\" x2=\"3795.66\" y2=\"902.29\" style=\"stroke:#1A476F;stroke-width:8.64\"/>\n",
       "\t<line x1=\"3773.63\" y1=\"902.29\" x2=\"3817.69\" y2=\"902.29\" stroke-linecap=\"round\" style=\"stroke:#1A476F;stroke-width:8.64\"/>\n",
       "\t<line x1=\"3773.63\" y1=\"2224.48\" x2=\"3817.69\" y2=\"2224.48\" stroke-linecap=\"round\" style=\"stroke:#1A476F;stroke-width:8.64\"/>\n",
       "\t<line x1=\"454.04\" y1=\"963.42\" x2=\"1289.47\" y2=\"787.32\" stroke-linecap=\"round\" style=\"stroke:#1A476F;stroke-width:8.64\"/>\n",
       "\t<line x1=\"1289.47\" y1=\"787.32\" x2=\"2124.91\" y2=\"1243.85\" stroke-linecap=\"round\" style=\"stroke:#1A476F;stroke-width:8.64\"/>\n",
       "\t<line x1=\"2124.91\" y1=\"1243.85\" x2=\"2960.22\" y2=\"1424.04\" stroke-linecap=\"round\" style=\"stroke:#1A476F;stroke-width:8.64\"/>\n",
       "\t<line x1=\"2960.22\" y1=\"1424.04\" x2=\"3795.66\" y2=\"1563.38\" stroke-linecap=\"round\" style=\"stroke:#1A476F;stroke-width:8.64\"/>\n",
       "\t<circle cx=\"454.04\" cy=\"963.42\" r=\"22.03\" style=\"fill:#1A476F;stroke:#1A476F;stroke-width:8.64\"/>\n",
       "\t<circle cx=\"1289.47\" cy=\"787.32\" r=\"22.03\" style=\"fill:#1A476F;stroke:#1A476F;stroke-width:8.64\"/>\n",
       "\t<circle cx=\"2124.91\" cy=\"1243.85\" r=\"22.03\" style=\"fill:#1A476F;stroke:#1A476F;stroke-width:8.64\"/>\n",
       "\t<circle cx=\"2960.22\" cy=\"1424.04\" r=\"22.03\" style=\"fill:#1A476F;stroke:#1A476F;stroke-width:8.64\"/>\n",
       "\t<circle cx=\"3795.66\" cy=\"1563.38\" r=\"22.03\" style=\"fill:#1A476F;stroke:#1A476F;stroke-width:8.64\"/>\n",
       "\t<line x1=\"390.80\" y1=\"2489.19\" x2=\"390.80\" y2=\"261.37\" style=\"stroke:#000000;stroke-width:5.76\"/>\n",
       "\t<line x1=\"390.80\" y1=\"2425.82\" x2=\"350.83\" y2=\"2425.82\" style=\"stroke:#000000;stroke-width:5.76\"/>\n",
       "\t<text x=\"300.72\" y=\"2425.82\" style=\"font-family:'Helvetica';font-size:99.99px;fill:#000000\" transform=\"rotate(-90 300.72,2425.82)\" text-anchor=\"middle\">0</text>\n",
       "\t<line x1=\"390.80\" y1=\"1461.90\" x2=\"350.83\" y2=\"1461.90\" style=\"stroke:#000000;stroke-width:5.76\"/>\n",
       "\t<text x=\"300.72\" y=\"1461.90\" style=\"font-family:'Helvetica';font-size:99.99px;fill:#000000\" transform=\"rotate(-90 300.72,1461.90)\" text-anchor=\"middle\">.5</text>\n",
       "\t<line x1=\"390.80\" y1=\"497.86\" x2=\"350.83\" y2=\"497.86\" style=\"stroke:#000000;stroke-width:5.76\"/>\n",
       "\t<text x=\"300.72\" y=\"497.86\" style=\"font-family:'Helvetica';font-size:99.99px;fill:#000000\" transform=\"rotate(-90 300.72,497.86)\" text-anchor=\"middle\">1</text>\n",
       "\t<text x=\"190.71\" y=\"1375.28\" style=\"font-family:'Helvetica';font-size:99.99px;fill:#000000\" transform=\"rotate(-90 190.71,1375.28)\" text-anchor=\"middle\">Pr(Y)</text>\n",
       "\t<line x1=\"390.80\" y1=\"2489.19\" x2=\"3859.02\" y2=\"2489.19\" style=\"stroke:#000000;stroke-width:5.76\"/>\n",
       "\t<line x1=\"454.16\" y1=\"2489.19\" x2=\"454.16\" y2=\"2529.16\" style=\"stroke:#000000;stroke-width:5.76\"/>\n",
       "\t<text x=\"454.16\" y=\"2619.14\" style=\"font-family:'Helvetica';font-size:99.99px;fill:#000000\" text-anchor=\"middle\">1</text>\n",
       "\t<line x1=\"1289.47\" y1=\"2489.19\" x2=\"1289.47\" y2=\"2529.16\" style=\"stroke:#000000;stroke-width:5.76\"/>\n",
       "\t<text x=\"1289.47\" y=\"2619.14\" style=\"font-family:'Helvetica';font-size:99.99px;fill:#000000\" text-anchor=\"middle\">2</text>\n",
       "\t<line x1=\"2124.91\" y1=\"2489.19\" x2=\"2124.91\" y2=\"2529.16\" style=\"stroke:#000000;stroke-width:5.76\"/>\n",
       "\t<text x=\"2124.91\" y=\"2619.14\" style=\"font-family:'Helvetica';font-size:99.99px;fill:#000000\" text-anchor=\"middle\">3</text>\n",
       "\t<line x1=\"2960.35\" y1=\"2489.19\" x2=\"2960.35\" y2=\"2529.16\" style=\"stroke:#000000;stroke-width:5.76\"/>\n",
       "\t<text x=\"2960.35\" y=\"2619.14\" style=\"font-family:'Helvetica';font-size:99.99px;fill:#000000\" text-anchor=\"middle\">4</text>\n",
       "\t<line x1=\"3795.66\" y1=\"2489.19\" x2=\"3795.66\" y2=\"2529.16\" style=\"stroke:#000000;stroke-width:5.76\"/>\n",
       "\t<text x=\"3795.66\" y=\"2619.14\" style=\"font-family:'Helvetica';font-size:99.99px;fill:#000000\" text-anchor=\"middle\">5</text>\n",
       "\t<text x=\"2124.91\" y=\"2729.16\" style=\"font-family:'Helvetica';font-size:99.99px;fill:#000000\" text-anchor=\"middle\">a_cons_hac</text>\n",
       "\t<text x=\"1980.00\" y=\"206.19\" style=\"font-family:'Helvetica';font-size:125.98px;fill:#1E2D53\" text-anchor=\"middle\">Adjusted Predictions of a_cons_hac with 95% CIs</text>\n",
       "</svg>\n"
      ],
      "text/html": [
       "                <iframe frameborder=\"0\" scrolling=\"no\" height=\"436\" width=\"600\"                srcdoc=\"<html><body>&lt;?xml version=&quot;1.0&quot; encoding=&quot;UTF-8&quot; standalone=&quot;no&quot;?&gt;\n",
       "&lt;!-- This is a Stata 14.2 generated SVG file (http://www.stata.com) --&gt;\n",
       "\n",
       "&lt;svg version=&quot;1.1&quot; width=&quot;600px&quot; height=&quot;436px&quot; viewBox=&quot;0 0 3960 2880&quot; xmlns=&quot;http://www.w3.org/2000/svg&quot;&gt;\n",
       "\t&lt;desc&gt;Stata Graph - Graph&lt;/desc&gt;\n",
       "\t&lt;rect x=&quot;0.00&quot; y=&quot;0.00&quot; width=&quot;3959.88&quot; height=&quot;2880.00&quot; style=&quot;fill:#EAF2F3;stroke:#EAF2F3;stroke-width:5.76&quot;/&gt;\n",
       "\t&lt;rect x=&quot;390.80&quot; y=&quot;261.37&quot; width=&quot;3468.22&quot; height=&quot;2227.82&quot; style=&quot;fill:#FFFFFF;stroke:#FFFFFF;stroke-width:5.76&quot;/&gt;\n",
       "\t&lt;line x1=&quot;390.80&quot; y1=&quot;2425.82&quot; x2=&quot;3859.02&quot; y2=&quot;2425.82&quot; style=&quot;stroke:#EAF2F3;stroke-width:8.64&quot;/&gt;\n",
       "\t&lt;line x1=&quot;390.80&quot; y1=&quot;1461.90&quot; x2=&quot;3859.02&quot; y2=&quot;1461.90&quot; style=&quot;stroke:#EAF2F3;stroke-width:8.64&quot;/&gt;\n",
       "\t&lt;line x1=&quot;390.80&quot; y1=&quot;497.86&quot; x2=&quot;3859.02&quot; y2=&quot;497.86&quot; style=&quot;stroke:#EAF2F3;stroke-width:8.64&quot;/&gt;\n",
       "\t&lt;line x1=&quot;454.16&quot; y1=&quot;1602.12&quot; x2=&quot;454.16&quot; y2=&quot;324.73&quot; style=&quot;stroke:#1A476F;stroke-width:8.64&quot;/&gt;\n",
       "\t&lt;line x1=&quot;432.13&quot; y1=&quot;324.73&quot; x2=&quot;476.19&quot; y2=&quot;324.73&quot; stroke-linecap=&quot;round&quot; style=&quot;stroke:#1A476F;stroke-width:8.64&quot;/&gt;\n",
       "\t&lt;line x1=&quot;432.13&quot; y1=&quot;1602.12&quot; x2=&quot;476.19&quot; y2=&quot;1602.12&quot; stroke-linecap=&quot;round&quot; style=&quot;stroke:#1A476F;stroke-width:8.64&quot;/&gt;\n",
       "\t&lt;line x1=&quot;1289.47&quot; y1=&quot;1220.21&quot; x2=&quot;1289.47&quot; y2=&quot;354.31&quot; style=&quot;stroke:#1A476F;stroke-width:8.64&quot;/&gt;\n",
       "\t&lt;line x1=&quot;1267.45&quot; y1=&quot;354.31&quot; x2=&quot;1311.50&quot; y2=&quot;354.31&quot; stroke-linecap=&quot;round&quot; style=&quot;stroke:#1A476F;stroke-width:8.64&quot;/&gt;\n",
       "\t&lt;line x1=&quot;1267.45&quot; y1=&quot;1220.21&quot; x2=&quot;1311.50&quot; y2=&quot;1220.21&quot; stroke-linecap=&quot;round&quot; style=&quot;stroke:#1A476F;stroke-width:8.64&quot;/&gt;\n",
       "\t&lt;line x1=&quot;2124.91&quot; y1=&quot;1871.03&quot; x2=&quot;2124.91&quot; y2=&quot;616.67&quot; style=&quot;stroke:#1A476F;stroke-width:8.64&quot;/&gt;\n",
       "\t&lt;line x1=&quot;2102.88&quot; y1=&quot;616.67&quot; x2=&quot;2146.94&quot; y2=&quot;616.67&quot; stroke-linecap=&quot;round&quot; style=&quot;stroke:#1A476F;stroke-width:8.64&quot;/&gt;\n",
       "\t&lt;line x1=&quot;2102.88&quot; y1=&quot;1871.03&quot; x2=&quot;2146.94&quot; y2=&quot;1871.03&quot; stroke-linecap=&quot;round&quot; style=&quot;stroke:#1A476F;stroke-width:8.64&quot;/&gt;\n",
       "\t&lt;line x1=&quot;2960.35&quot; y1=&quot;2113.96&quot; x2=&quot;2960.35&quot; y2=&quot;733.86&quot; style=&quot;stroke:#1A476F;stroke-width:8.64&quot;/&gt;\n",
       "\t&lt;line x1=&quot;2938.32&quot; y1=&quot;733.86&quot; x2=&quot;2982.38&quot; y2=&quot;733.86&quot; stroke-linecap=&quot;round&quot; style=&quot;stroke:#1A476F;stroke-width:8.64&quot;/&gt;\n",
       "\t&lt;line x1=&quot;2938.32&quot; y1=&quot;2113.96&quot; x2=&quot;2982.38&quot; y2=&quot;2113.96&quot; stroke-linecap=&quot;round&quot; style=&quot;stroke:#1A476F;stroke-width:8.64&quot;/&gt;\n",
       "\t&lt;line x1=&quot;3795.66&quot; y1=&quot;2224.48&quot; x2=&quot;3795.66&quot; y2=&quot;902.29&quot; style=&quot;stroke:#1A476F;stroke-width:8.64&quot;/&gt;\n",
       "\t&lt;line x1=&quot;3773.63&quot; y1=&quot;902.29&quot; x2=&quot;3817.69&quot; y2=&quot;902.29&quot; stroke-linecap=&quot;round&quot; style=&quot;stroke:#1A476F;stroke-width:8.64&quot;/&gt;\n",
       "\t&lt;line x1=&quot;3773.63&quot; y1=&quot;2224.48&quot; x2=&quot;3817.69&quot; y2=&quot;2224.48&quot; stroke-linecap=&quot;round&quot; style=&quot;stroke:#1A476F;stroke-width:8.64&quot;/&gt;\n",
       "\t&lt;line x1=&quot;454.04&quot; y1=&quot;963.42&quot; x2=&quot;1289.47&quot; y2=&quot;787.32&quot; stroke-linecap=&quot;round&quot; style=&quot;stroke:#1A476F;stroke-width:8.64&quot;/&gt;\n",
       "\t&lt;line x1=&quot;1289.47&quot; y1=&quot;787.32&quot; x2=&quot;2124.91&quot; y2=&quot;1243.85&quot; stroke-linecap=&quot;round&quot; style=&quot;stroke:#1A476F;stroke-width:8.64&quot;/&gt;\n",
       "\t&lt;line x1=&quot;2124.91&quot; y1=&quot;1243.85&quot; x2=&quot;2960.22&quot; y2=&quot;1424.04&quot; stroke-linecap=&quot;round&quot; style=&quot;stroke:#1A476F;stroke-width:8.64&quot;/&gt;\n",
       "\t&lt;line x1=&quot;2960.22&quot; y1=&quot;1424.04&quot; x2=&quot;3795.66&quot; y2=&quot;1563.38&quot; stroke-linecap=&quot;round&quot; style=&quot;stroke:#1A476F;stroke-width:8.64&quot;/&gt;\n",
       "\t&lt;circle cx=&quot;454.04&quot; cy=&quot;963.42&quot; r=&quot;22.03&quot; style=&quot;fill:#1A476F;stroke:#1A476F;stroke-width:8.64&quot;/&gt;\n",
       "\t&lt;circle cx=&quot;1289.47&quot; cy=&quot;787.32&quot; r=&quot;22.03&quot; style=&quot;fill:#1A476F;stroke:#1A476F;stroke-width:8.64&quot;/&gt;\n",
       "\t&lt;circle cx=&quot;2124.91&quot; cy=&quot;1243.85&quot; r=&quot;22.03&quot; style=&quot;fill:#1A476F;stroke:#1A476F;stroke-width:8.64&quot;/&gt;\n",
       "\t&lt;circle cx=&quot;2960.22&quot; cy=&quot;1424.04&quot; r=&quot;22.03&quot; style=&quot;fill:#1A476F;stroke:#1A476F;stroke-width:8.64&quot;/&gt;\n",
       "\t&lt;circle cx=&quot;3795.66&quot; cy=&quot;1563.38&quot; r=&quot;22.03&quot; style=&quot;fill:#1A476F;stroke:#1A476F;stroke-width:8.64&quot;/&gt;\n",
       "\t&lt;line x1=&quot;390.80&quot; y1=&quot;2489.19&quot; x2=&quot;390.80&quot; y2=&quot;261.37&quot; style=&quot;stroke:#000000;stroke-width:5.76&quot;/&gt;\n",
       "\t&lt;line x1=&quot;390.80&quot; y1=&quot;2425.82&quot; x2=&quot;350.83&quot; y2=&quot;2425.82&quot; style=&quot;stroke:#000000;stroke-width:5.76&quot;/&gt;\n",
       "\t&lt;text x=&quot;300.72&quot; y=&quot;2425.82&quot; style=&quot;font-family:&#x27;Helvetica&#x27;;font-size:99.99px;fill:#000000&quot; transform=&quot;rotate(-90 300.72,2425.82)&quot; text-anchor=&quot;middle&quot;&gt;0&lt;/text&gt;\n",
       "\t&lt;line x1=&quot;390.80&quot; y1=&quot;1461.90&quot; x2=&quot;350.83&quot; y2=&quot;1461.90&quot; style=&quot;stroke:#000000;stroke-width:5.76&quot;/&gt;\n",
       "\t&lt;text x=&quot;300.72&quot; y=&quot;1461.90&quot; style=&quot;font-family:&#x27;Helvetica&#x27;;font-size:99.99px;fill:#000000&quot; transform=&quot;rotate(-90 300.72,1461.90)&quot; text-anchor=&quot;middle&quot;&gt;.5&lt;/text&gt;\n",
       "\t&lt;line x1=&quot;390.80&quot; y1=&quot;497.86&quot; x2=&quot;350.83&quot; y2=&quot;497.86&quot; style=&quot;stroke:#000000;stroke-width:5.76&quot;/&gt;\n",
       "\t&lt;text x=&quot;300.72&quot; y=&quot;497.86&quot; style=&quot;font-family:&#x27;Helvetica&#x27;;font-size:99.99px;fill:#000000&quot; transform=&quot;rotate(-90 300.72,497.86)&quot; text-anchor=&quot;middle&quot;&gt;1&lt;/text&gt;\n",
       "\t&lt;text x=&quot;190.71&quot; y=&quot;1375.28&quot; style=&quot;font-family:&#x27;Helvetica&#x27;;font-size:99.99px;fill:#000000&quot; transform=&quot;rotate(-90 190.71,1375.28)&quot; text-anchor=&quot;middle&quot;&gt;Pr(Y)&lt;/text&gt;\n",
       "\t&lt;line x1=&quot;390.80&quot; y1=&quot;2489.19&quot; x2=&quot;3859.02&quot; y2=&quot;2489.19&quot; style=&quot;stroke:#000000;stroke-width:5.76&quot;/&gt;\n",
       "\t&lt;line x1=&quot;454.16&quot; y1=&quot;2489.19&quot; x2=&quot;454.16&quot; y2=&quot;2529.16&quot; style=&quot;stroke:#000000;stroke-width:5.76&quot;/&gt;\n",
       "\t&lt;text x=&quot;454.16&quot; y=&quot;2619.14&quot; style=&quot;font-family:&#x27;Helvetica&#x27;;font-size:99.99px;fill:#000000&quot; text-anchor=&quot;middle&quot;&gt;1&lt;/text&gt;\n",
       "\t&lt;line x1=&quot;1289.47&quot; y1=&quot;2489.19&quot; x2=&quot;1289.47&quot; y2=&quot;2529.16&quot; style=&quot;stroke:#000000;stroke-width:5.76&quot;/&gt;\n",
       "\t&lt;text x=&quot;1289.47&quot; y=&quot;2619.14&quot; style=&quot;font-family:&#x27;Helvetica&#x27;;font-size:99.99px;fill:#000000&quot; text-anchor=&quot;middle&quot;&gt;2&lt;/text&gt;\n",
       "\t&lt;line x1=&quot;2124.91&quot; y1=&quot;2489.19&quot; x2=&quot;2124.91&quot; y2=&quot;2529.16&quot; style=&quot;stroke:#000000;stroke-width:5.76&quot;/&gt;\n",
       "\t&lt;text x=&quot;2124.91&quot; y=&quot;2619.14&quot; style=&quot;font-family:&#x27;Helvetica&#x27;;font-size:99.99px;fill:#000000&quot; text-anchor=&quot;middle&quot;&gt;3&lt;/text&gt;\n",
       "\t&lt;line x1=&quot;2960.35&quot; y1=&quot;2489.19&quot; x2=&quot;2960.35&quot; y2=&quot;2529.16&quot; style=&quot;stroke:#000000;stroke-width:5.76&quot;/&gt;\n",
       "\t&lt;text x=&quot;2960.35&quot; y=&quot;2619.14&quot; style=&quot;font-family:&#x27;Helvetica&#x27;;font-size:99.99px;fill:#000000&quot; text-anchor=&quot;middle&quot;&gt;4&lt;/text&gt;\n",
       "\t&lt;line x1=&quot;3795.66&quot; y1=&quot;2489.19&quot; x2=&quot;3795.66&quot; y2=&quot;2529.16&quot; style=&quot;stroke:#000000;stroke-width:5.76&quot;/&gt;\n",
       "\t&lt;text x=&quot;3795.66&quot; y=&quot;2619.14&quot; style=&quot;font-family:&#x27;Helvetica&#x27;;font-size:99.99px;fill:#000000&quot; text-anchor=&quot;middle&quot;&gt;5&lt;/text&gt;\n",
       "\t&lt;text x=&quot;2124.91&quot; y=&quot;2729.16&quot; style=&quot;font-family:&#x27;Helvetica&#x27;;font-size:99.99px;fill:#000000&quot; text-anchor=&quot;middle&quot;&gt;a_cons_hac&lt;/text&gt;\n",
       "\t&lt;text x=&quot;1980.00&quot; y=&quot;206.19&quot; style=&quot;font-family:&#x27;Helvetica&#x27;;font-size:125.98px;fill:#1E2D53&quot; text-anchor=&quot;middle&quot;&gt;Adjusted Predictions of a_cons_hac with 95% CIs&lt;/text&gt;\n",
       "&lt;/svg&gt;\n",
       "</body></html>\"></iframe>\n"
      ],
      "text/plain": [
       "This front-end cannot display the desired image type."
      ]
     },
     "metadata": {
      "image/svg+xml": {
       "height": 436,
       "width": 600
      },
      "text/html": {
       "height": 436,
       "width": 600
      }
     },
     "output_type": "display_data"
    },
    {
     "name": "stdout",
     "output_type": "stream",
     "text": [
      "\n",
      "\n"
     ]
    }
   ],
   "source": [
    "marginsplot"
   ]
  },
  {
   "cell_type": "code",
   "execution_count": 18,
   "metadata": {},
   "outputs": [
    {
     "name": "stdout",
     "output_type": "stream",
     "text": [
      "\n",
      "-----------------------------------------------------------------------------------------------------------------------------------------------------\n",
      "    Variable |     base          model1         model2         model3         model4         model5         model6         model7         model8     \n",
      "-------------+---------------------------------------------------------------------------------------------------------------------------------------\n",
      "         age |     0.274          0.267          0.266          0.298          0.256          0.303          0.278          0.294          0.341     \n",
      "      gender |    -0.002          0.034         -0.065          0.006          0.035         -0.007         -0.006          0.062          0.012     \n",
      "    marriage |    -0.459         -0.444         -0.482         -0.398         -0.473         -0.514         -0.460         -0.498         -0.473     \n",
      "    student1 |     0.345          0.294          0.362          0.509          0.397          0.317          0.310         -0.102          0.117     \n",
      "company_man2 |    -2.067         -2.108         -2.036         -1.931         -2.011         -2.049         -2.153         -2.409*        -2.113     \n",
      "public_off~3 |    -0.032         -0.005         -0.085          0.036          0.007         -0.053         -0.060         -0.073         -0.003     \n",
      " profession4 |    -0.040         -0.079         -0.263         -0.094         -0.069         -0.208         -0.077         -0.396         -0.521     \n",
      " researcher5 |     2.122*         2.167*         2.243*         2.340*         2.210*         2.055          2.120*         2.115*         2.272*    \n",
      "       learn |    -0.055         -0.017          0.001         -0.072         -0.087         -0.060         -0.076          0.025          0.120     \n",
      "      income |     0.028          0.030          0.038          0.051          0.031          0.039          0.024          0.017          0.056     \n",
      "avg_distance |     0.288**        0.304**        0.301**        0.230          0.288**        0.286**        0.270*         0.279**        0.282*    \n",
      " freq_use_ev |     0.033          0.015          0.040          0.075          0.025          0.015          0.039          0.056          0.087     \n",
      " club_kepco2 |    -0.321         -0.306         -0.373         -0.328         -0.312         -0.314         -0.340         -0.496         -0.488     \n",
      "  club_jeju3 |    -1.519*        -1.356         -1.183         -1.345         -1.459*        -1.333         -1.501*        -1.288         -0.980     \n",
      "    ev_owner |     0.738          0.780          0.798          0.851          0.755          0.855          0.734          0.668          0.861     \n",
      " saving_free |    -1.165*        -1.161*        -1.197*        -1.276*        -1.135*        -1.085*        -1.196*        -1.456**       -1.482**   \n",
      "a_cons_sho~s |                   -0.141                                                                                                    0.020     \n",
      "   a_cons_as |                                  -0.238                                                                                    -0.122     \n",
      "a_cons_cha~e |                                                 -0.281                                                                     -0.270     \n",
      "a_cons_num~k |                                                                -0.118                                                       0.090     \n",
      "a_cons_lon~e |                                                                               -0.213                                       -0.116     \n",
      "a_cons_hil~e |                                                                                              -0.081                         0.242     \n",
      "  a_cons_hac |                                                                                                             -0.396***      -0.417**   \n",
      "       _cons |     0.779          1.104          1.426          1.530          1.334          1.558          1.174          2.152          2.039     \n",
      "-------------+---------------------------------------------------------------------------------------------------------------------------------------\n",
      "          ll |  -101.614       -101.256       -100.589       -100.244       -101.409       -100.984       -101.483        -98.003        -96.295     \n",
      "-----------------------------------------------------------------------------------------------------------------------------------------------------\n",
      "                                                                                                                  legend: * p<.1; ** p<.05; *** p<.01\n"
     ]
    }
   ],
   "source": [
    "* Model1 total tabel: se and star cannot be together\n",
    " estimates table base model1 model2 model3 model4 model5 model6 model7 model8, b(%9.3f) star(0.01, 0.05, 0.1) eq(1) stats(ll) "
   ]
  },
  {
   "cell_type": "code",
   "execution_count": 16,
   "metadata": {},
   "outputs": [
    {
     "name": "stdout",
     "output_type": "stream",
     "text": [
      "\n",
      "--------------------------------------------------------------------------------------------------------------------------\n",
      "    Variable |   base       model1      model2      model3      model4      model5      model6      model7      model8    \n",
      "-------------+------------------------------------------------------------------------------------------------------------\n",
      "         age |     0.274       0.267       0.266       0.298       0.256       0.303       0.278       0.294       0.341  \n",
      "             |     0.300       0.300       0.305       0.303       0.301       0.303       0.301       0.305       0.318  \n",
      "      gender |    -0.002       0.034      -0.065       0.006       0.035      -0.007      -0.006       0.062       0.012  \n",
      "             |     0.515       0.518       0.518       0.517       0.519       0.517       0.515       0.523       0.535  \n",
      "    marriage |    -0.459      -0.444      -0.482      -0.398      -0.473      -0.514      -0.460      -0.498      -0.473  \n",
      "             |     0.484       0.484       0.488       0.490       0.485       0.488       0.485       0.493       0.500  \n",
      "    student1 |     0.345       0.294       0.362       0.509       0.397       0.317       0.310      -0.102       0.117  \n",
      "             |     1.066       1.075       1.069       1.074       1.064       1.064       1.073       1.108       1.121  \n",
      "company_man2 |    -2.067      -2.108      -2.036      -1.931      -2.011      -2.049      -2.153      -2.409      -2.113  \n",
      "             |     1.312       1.329       1.312       1.326       1.315       1.326       1.323       1.384       1.412  \n",
      "public_off~3 |    -0.032      -0.005      -0.085       0.036       0.007      -0.053      -0.060      -0.073      -0.003  \n",
      "             |     0.714       0.717       0.724       0.720       0.717       0.721       0.717       0.741       0.752  \n",
      " profession4 |    -0.040      -0.079      -0.263      -0.094      -0.069      -0.208      -0.077      -0.396      -0.521  \n",
      "             |     1.013       1.018       1.036       1.020       1.015       1.030       1.022       1.055       1.069  \n",
      " researcher5 |     2.122       2.167       2.243       2.340       2.210       2.055       2.120       2.115       2.272  \n",
      "             |     1.247       1.250       1.255       1.260       1.255       1.253       1.247       1.264       1.291  \n",
      "       learn |    -0.055      -0.017       0.001      -0.072      -0.087      -0.060      -0.076       0.025       0.120  \n",
      "             |     0.401       0.404       0.407       0.406       0.403       0.403       0.403       0.409       0.433  \n",
      "      income |     0.028       0.030       0.038       0.051       0.031       0.039       0.024       0.017       0.056  \n",
      "             |     0.158       0.159       0.160       0.160       0.158       0.159       0.158       0.162       0.167  \n",
      "avg_distance |     0.288       0.304       0.301       0.230       0.288       0.286       0.270       0.279       0.282  \n",
      "             |     0.138       0.140       0.139       0.144       0.138       0.139       0.142       0.141       0.154  \n",
      " freq_use_ev |     0.033       0.015       0.040       0.075       0.025       0.015       0.039       0.056       0.087  \n",
      "             |     0.168       0.170       0.170       0.172       0.170       0.170       0.169       0.171       0.178  \n",
      " club_kepco2 |    -0.321      -0.306      -0.373      -0.328      -0.312      -0.314      -0.340      -0.496      -0.488  \n",
      "             |     0.488       0.489       0.500       0.490       0.488       0.493       0.490       0.507       0.516  \n",
      "  club_jeju3 |    -1.519      -1.356      -1.183      -1.345      -1.459      -1.333      -1.501      -1.288      -0.980  \n",
      "             |     0.855       0.878       0.894       0.861       0.859       0.871       0.859       0.879       0.940  \n",
      "    ev_owner |     0.738       0.780       0.798       0.851       0.755       0.855       0.734       0.668       0.861  \n",
      "             |     0.642       0.640       0.645       0.649       0.646       0.659       0.644       0.651       0.667  \n",
      " saving_free |    -1.165      -1.161      -1.197      -1.276      -1.135      -1.085      -1.196      -1.456      -1.482  \n",
      "             |     0.649       0.651       0.650       0.656       0.650       0.650       0.650       0.665       0.688  \n",
      "a_cons_sho~s |                -0.141                                                                               0.020  \n",
      "             |                 0.168                                                                               0.198  \n",
      "   a_cons_as |                            -0.238                                                                  -0.122  \n",
      "             |                             0.168                                                                   0.186  \n",
      "a_cons_cha~e |                                        -0.281                                                      -0.270  \n",
      "             |                                         0.172                                                       0.191  \n",
      "a_cons_num~k |                                                    -0.118                                           0.090  \n",
      "             |                                                     0.185                                           0.235  \n",
      "a_cons_lon~e |                                                                -0.213                              -0.116  \n",
      "             |                                                                 0.193                               0.235  \n",
      "a_cons_hil~e |                                                                            -0.081                   0.242  \n",
      "             |                                                                             0.159                   0.193  \n",
      "  a_cons_hac |                                                                                        -0.396      -0.417  \n",
      "             |                                                                                         0.152       0.181  \n",
      "       _cons |     0.779       1.104       1.426       1.530       1.334       1.558       1.174       2.152       2.039  \n",
      "             |     2.014       2.054       2.078       2.083       2.188       2.127       2.158       2.098       2.380  \n",
      "-------------+------------------------------------------------------------------------------------------------------------\n",
      "          ll |  -101.614    -101.256    -100.589    -100.244    -101.409    -100.984    -101.483     -98.003     -96.295  \n",
      "--------------------------------------------------------------------------------------------------------------------------\n",
      "                                                                                                              legend: b/se\n"
     ]
    }
   ],
   "source": [
    "estimates table base model1 model2 model3 model4 model5 model6 model7 model8, b(%9.3f) se(%9.3f) eq(1) stats(ll)"
   ]
  },
  {
   "cell_type": "markdown",
   "metadata": {},
   "source": [
    "---\n",
    "# <font color = blue> 3. Before concern\n",
    "---"
   ]
  },
  {
   "cell_type": "code",
   "execution_count": 132,
   "metadata": {},
   "outputs": [
    {
     "name": "stdout",
     "output_type": "stream",
     "text": [
      "\n",
      "\n",
      "Logistic regression                             Number of obs     =        184\n",
      "                                                LR chi2(17)       =      42.43\n",
      "                                                Prob > chi2       =     0.0006\n",
      "Log likelihood = -98.876549                     Pseudo R2         =     0.1766\n",
      "\n",
      "----------------------------------------------------------------------------------\n",
      "               y |      Coef.   Std. Err.      z    P>|z|     [95% Conf. Interval]\n",
      "-----------------+----------------------------------------------------------------\n",
      "             age |    .218625    .303361     0.72   0.471    -.3759517    .8132017\n",
      "          gender |   .0622405   .5267541     0.12   0.906    -.9701784     1.09466\n",
      "        marriage |  -.4679636   .4900693    -0.95   0.340    -1.428482    .4925547\n",
      "        student1 |   .2191285   1.085342     0.20   0.840    -1.908104     2.34636\n",
      "    company_man2 |  -2.284139   1.350393    -1.69   0.091     -4.93086    .3625818\n",
      " public_officer3 |    -.00008   .7357184    -0.00   1.000    -1.442062    1.441902\n",
      "     profession4 |  -.1441224   1.040683    -0.14   0.890    -2.183824    1.895579\n",
      "     researcher5 |   2.203316   1.257651     1.75   0.080    -.2616358    4.668267\n",
      "           learn |   .0781582   .4089419     0.19   0.848    -.7233533    .8796696\n",
      "          income |   .0137644   .1586112     0.09   0.931    -.2971079    .3246366\n",
      "    avg_distance |   .3323717   .1425779     2.33   0.020     .0529242    .6118192\n",
      "     freq_use_ev |  -.0211512   .1735306    -0.12   0.903    -.3612649    .3189625\n",
      "     club_kepco2 |   -.277095   .4985478    -0.56   0.578    -1.254231    .7000407\n",
      "      club_jeju3 |   -1.11258   .8818105    -1.26   0.207    -2.840897    .6157366\n",
      "        ev_owner |    .783331   .6529594     1.20   0.230    -.4964459    2.063108\n",
      "     saving_free |  -.9567904   .6745448    -1.42   0.156    -2.278874    .3652931\n",
      "b_cons_short_dis |  -.4700111    .211109    -2.23   0.026    -.8837771    -.056245\n",
      "           _cons |   2.085038   2.155535     0.97   0.333    -2.139734     6.30981\n",
      "----------------------------------------------------------------------------------\n",
      "\n"
     ]
    }
   ],
   "source": [
    "* One concern series1. : b short distance\n",
    "\n",
    "logit y age gender marriage student1 company_man2 public_officer3 profession4 researcher5 learn income avg_distance freq_use_ev club_kepco2 club_jeju3  ev_owner saving_free b_cons_short_dis,nolog\n",
    "estimates store model1b"
   ]
  },
  {
   "cell_type": "code",
   "execution_count": 133,
   "metadata": {},
   "outputs": [
    {
     "name": "stdout",
     "output_type": "stream",
     "text": [
      "\n",
      "\n",
      "Logistic regression                             Number of obs     =        184\n",
      "                                                LR chi2(17)       =      41.05\n",
      "                                                Prob > chi2       =     0.0009\n",
      "Log likelihood = -99.564882                     Pseudo R2         =     0.1709\n",
      "\n",
      "---------------------------------------------------------------------------------\n",
      "              y |      Coef.   Std. Err.      z    P>|z|     [95% Conf. Interval]\n",
      "----------------+----------------------------------------------------------------\n",
      "            age |   .2453737   .3048074     0.81   0.421    -.3520377    .8427851\n",
      "         gender |  -.0469756   .5206701    -0.09   0.928     -1.06747     .973519\n",
      "       marriage |   -.501071   .4891287    -1.02   0.306    -1.459746    .4576037\n",
      "       student1 |   .5097782   1.076408     0.47   0.636    -1.599942    2.619498\n",
      "   company_man2 |    -1.9948    1.32603    -1.50   0.132    -4.593771     .604172\n",
      "public_officer3 |  -.0110845   .7292211    -0.02   0.988    -1.440332    1.418163\n",
      "    profession4 |  -.1958003   1.025227    -0.19   0.849    -2.205208    1.813608\n",
      "    researcher5 |   2.298157   1.273582     1.80   0.071    -.1980181    4.794331\n",
      "          learn |   .0436128   .4095321     0.11   0.915    -.7590553     .846281\n",
      "         income |   .0653463   .1607546     0.41   0.684    -.2497268    .3804194\n",
      "   avg_distance |   .3148022   .1395586     2.26   0.024     .0412724    .5883321\n",
      "    freq_use_ev |  -.0024172   .1718499    -0.01   0.989    -.3392369    .3344025\n",
      "    club_kepco2 |  -.3907009   .4993225    -0.78   0.434    -1.369355    .5879533\n",
      "     club_jeju3 |  -1.209133   .8702448    -1.39   0.165    -2.914781    .4965157\n",
      "       ev_owner |   .7300992   .6503793     1.12   0.262    -.5446208    2.004819\n",
      "    saving_free |   -1.14609   .6536155    -1.75   0.080    -2.427153    .1349724\n",
      "      b_cons_as |  -.3718768   .1885006    -1.97   0.049    -.7413312   -.0024223\n",
      "          _cons |   1.821413   2.085522     0.87   0.382    -2.266136    5.908962\n",
      "---------------------------------------------------------------------------------\n",
      "\n"
     ]
    }
   ],
   "source": [
    "* One concern series1. : b AS\n",
    "\n",
    "logit y age gender marriage student1 company_man2 public_officer3 profession4 researcher5 learn income avg_distance freq_use_ev club_kepco2 club_jeju3  ev_owner saving_free b_cons_as, nolog\n",
    "estimates store model2b"
   ]
  },
  {
   "cell_type": "code",
   "execution_count": 134,
   "metadata": {},
   "outputs": [
    {
     "name": "stdout",
     "output_type": "stream",
     "text": [
      "\n",
      "\n",
      "Logistic regression                             Number of obs     =        184\n",
      "                                                LR chi2(17)       =      37.81\n",
      "                                                Prob > chi2       =     0.0026\n",
      "Log likelihood = -101.18714                     Pseudo R2         =     0.1574\n",
      "\n",
      "-----------------------------------------------------------------------------------\n",
      "                y |      Coef.   Std. Err.      z    P>|z|     [95% Conf. Interval]\n",
      "------------------+----------------------------------------------------------------\n",
      "              age |   .2600036   .3007311     0.86   0.387    -.3294185    .8494258\n",
      "           gender |  -.0235503   .5142927    -0.05   0.963    -1.031545    .9844449\n",
      "         marriage |  -.4076641   .4899139    -0.83   0.405    -1.367878    .5525494\n",
      "         student1 |    .324157   1.067848     0.30   0.761    -1.768786      2.4171\n",
      "     company_man2 |  -2.238329   1.338489    -1.67   0.094    -4.861719    .3850608\n",
      "  public_officer3 |  -.0974601   .7202944    -0.14   0.892    -1.509211    1.314291\n",
      "      profession4 |  -.1038369   1.019145    -0.10   0.919    -2.101325    1.893651\n",
      "      researcher5 |   2.099828   1.247984     1.68   0.092    -.3461768    4.545832\n",
      "            learn |   -.067327   .4030072    -0.17   0.867    -.8572065    .7225525\n",
      "           income |   .0312795   .1581153     0.20   0.843    -.2786207    .3411797\n",
      "     avg_distance |   .2796953   .1379437     2.03   0.043     .0093306      .55006\n",
      "      freq_use_ev |   .0194343   .1691061     0.11   0.909    -.3120075    .3508761\n",
      "      club_kepco2 |   -.348007   .4896598    -0.71   0.477    -1.307723    .6117086\n",
      "       club_jeju3 |  -1.444222    .858116    -1.68   0.092    -3.126099    .2376543\n",
      "         ev_owner |   .7425656   .6424572     1.16   0.248    -.5166275    2.001759\n",
      "      saving_free |  -1.207784   .6497621    -1.86   0.063    -2.481295    .0657259\n",
      "b_cons_charge_fee |  -.1556943   .1695044    -0.92   0.358     -.487917    .1765283\n",
      "            _cons |   1.494348   2.172748     0.69   0.492    -2.764159    5.752856\n",
      "-----------------------------------------------------------------------------------\n",
      "\n"
     ]
    }
   ],
   "source": [
    "* One concern series1. : b charging fee\n",
    "\n",
    "logit y age gender marriage student1 company_man2 public_officer3 profession4 researcher5 learn income avg_distance freq_use_ev club_kepco2 club_jeju3  ev_owner saving_free b_cons_charge_fee, nolog\n",
    "estimates store model3b"
   ]
  },
  {
   "cell_type": "code",
   "execution_count": 135,
   "metadata": {},
   "outputs": [
    {
     "name": "stdout",
     "output_type": "stream",
     "text": [
      "\n",
      "\n",
      "Logistic regression                             Number of obs     =        184\n",
      "                                                LR chi2(17)       =      37.21\n",
      "                                                Prob > chi2       =     0.0032\n",
      "Log likelihood = -101.48533                     Pseudo R2         =     0.1549\n",
      "\n",
      "----------------------------------------------------------------------------------------\n",
      "                     y |      Coef.   Std. Err.      z    P>|z|     [95% Conf. Interval]\n",
      "-----------------------+----------------------------------------------------------------\n",
      "                   age |   .2752197   .3010241     0.91   0.361    -.3147766    .8652161\n",
      "                gender |  -.0286951   .5183838    -0.06   0.956    -1.044709    .9873185\n",
      "              marriage |  -.4799121   .4863378    -0.99   0.324    -1.433117    .4732924\n",
      "              student1 |   .3355041   1.065101     0.31   0.753    -1.752055    2.423063\n",
      "          company_man2 |  -2.042688   1.310695    -1.56   0.119    -4.611604    .5262272\n",
      "       public_officer3 |  -.0277882    .716082    -0.04   0.969    -1.431283    1.375707\n",
      "           profession4 |  -.0629207   1.017916    -0.06   0.951    -2.057999    1.932157\n",
      "           researcher5 |   2.109198   1.246317     1.69   0.091    -.3335384    4.551934\n",
      "                 learn |  -.0351833   .4015818    -0.09   0.930    -.8222692    .7519025\n",
      "                income |   .0259005   .1579065     0.16   0.870    -.2835906    .3353917\n",
      "          avg_distance |   .2930922   .1385047     2.12   0.034      .021628    .5645564\n",
      "           freq_use_ev |   .0255988   .1695696     0.15   0.880    -.3067515    .3579492\n",
      "           club_kepco2 |   -.329569   .4886486    -0.67   0.500    -1.287303    .6281646\n",
      "            club_jeju3 |   -1.53646   .8583389    -1.79   0.073    -3.218774    .1458529\n",
      "              ev_owner |   .7332925   .6489218     1.13   0.258    -.5385708    2.005156\n",
      "           saving_free |  -1.146868   .6484386    -1.77   0.077    -2.417784     .124048\n",
      "b_cons_num_charge_lack |  -.1094765   .2172529    -0.50   0.614    -.5352844    .3163314\n",
      "                 _cons |   1.227319   2.200801     0.56   0.577    -3.086172    5.540811\n",
      "----------------------------------------------------------------------------------------\n",
      "\n"
     ]
    }
   ],
   "source": [
    "* One concern series1. : b charging facility lack\n",
    "\n",
    "logit y age gender marriage student1 company_man2 public_officer3 profession4 researcher5 learn income avg_distance freq_use_ev club_kepco2 club_jeju3  ev_owner saving_free b_cons_num_charge_lack, nolog\n",
    "estimates store model4b"
   ]
  },
  {
   "cell_type": "code",
   "execution_count": 136,
   "metadata": {},
   "outputs": [
    {
     "name": "stdout",
     "output_type": "stream",
     "text": [
      "\n",
      "\n",
      "Logistic regression                             Number of obs     =        184\n",
      "                                                LR chi2(17)       =      41.15\n",
      "                                                Prob > chi2       =     0.0009\n",
      "Log likelihood = -99.514412                     Pseudo R2         =     0.1713\n",
      "\n",
      "-----------------------------------------------------------------------------------------\n",
      "                      y |      Coef.   Std. Err.      z    P>|z|     [95% Conf. Interval]\n",
      "------------------------+----------------------------------------------------------------\n",
      "                    age |   .2447033   .3059363     0.80   0.424    -.3549208    .8443273\n",
      "                 gender |  -.0225428    .522933    -0.04   0.966    -1.047473    1.002387\n",
      "               marriage |  -.5534917   .4946596    -1.12   0.263    -1.523007    .4160233\n",
      "               student1 |   .3565582   1.074111     0.33   0.740    -1.748661    2.461778\n",
      "           company_man2 |  -1.994135   1.314315    -1.52   0.129    -4.570146    .5818747\n",
      "        public_officer3 |  -.0050904   .7343915    -0.01   0.994    -1.444471    1.434291\n",
      "            profession4 |  -.1782785   1.033245    -0.17   0.863    -2.203402    1.846845\n",
      "            researcher5 |    2.18135   1.265232     1.72   0.085    -.2984593    4.661158\n",
      "                  learn |   .0342798   .4062044     0.08   0.933    -.7618663    .8304258\n",
      "                 income |   .0386228   .1594198     0.24   0.809    -.2738343    .3510798\n",
      "           avg_distance |   .3145533   .1417995     2.22   0.027     .0366314    .5924752\n",
      "            freq_use_ev |   .0077114   .1725258     0.04   0.964     -.330433    .3458558\n",
      "            club_kepco2 |   -.420976   .5021007    -0.84   0.402    -1.405075    .5631233\n",
      "             club_jeju3 |  -1.386832   .8648532    -1.60   0.109    -3.081913    .3082491\n",
      "               ev_owner |   .8788082   .6602557     1.33   0.183    -.4152692    2.172886\n",
      "            saving_free |  -1.076185   .6578455    -1.64   0.102    -2.365538    .2131689\n",
      "b_cons_long_charge_time |  -.4609431   .2336006    -1.97   0.048     -.918792   -.0030943\n",
      "                  _cons |   2.456363   2.212751     1.11   0.267    -1.880549    6.793275\n",
      "-----------------------------------------------------------------------------------------\n",
      "\n"
     ]
    }
   ],
   "source": [
    "* One concern series1. : b charging time\n",
    "\n",
    "logit y age gender marriage student1 company_man2 public_officer3 profession4 researcher5 learn income avg_distance freq_use_ev club_kepco2 club_jeju3  ev_owner saving_free b_cons_long_charge_time, nolog\n",
    "estimates store model5b"
   ]
  },
  {
   "cell_type": "code",
   "execution_count": 137,
   "metadata": {},
   "outputs": [
    {
     "name": "stdout",
     "output_type": "stream",
     "text": [
      "\n",
      "\n",
      "Logistic regression                             Number of obs     =        184\n",
      "                                                LR chi2(17)       =      37.90\n",
      "                                                Prob > chi2       =     0.0025\n",
      "Log likelihood = -101.13892                     Pseudo R2         =     0.1578\n",
      "\n",
      "----------------------------------------------------------------------------------\n",
      "               y |      Coef.   Std. Err.      z    P>|z|     [95% Conf. Interval]\n",
      "-----------------+----------------------------------------------------------------\n",
      "             age |   .2389226   .3047536     0.78   0.433    -.3583835    .8362287\n",
      "          gender |  -.0019761   .5169982    -0.00   0.997    -1.015274    1.011322\n",
      "        marriage |  -.4798643   .4887609    -0.98   0.326    -1.437818    .4780895\n",
      "        student1 |   .3000294   1.077559     0.28   0.781    -1.811948    2.412007\n",
      "    company_man2 |  -2.224047   1.321269    -1.68   0.092    -4.813688    .3655932\n",
      " public_officer3 |  -.0895823   .7213535    -0.12   0.901    -1.503409    1.324245\n",
      "     profession4 |   -.048444   1.022699    -0.05   0.962    -2.052896    1.956008\n",
      "     researcher5 |   2.056194    1.25249     1.64   0.101    -.3986414    4.511029\n",
      "           learn |  -.0723619   .4017388    -0.18   0.857    -.8597554    .7150316\n",
      "          income |   .0325077   .1572675     0.21   0.836    -.2757309    .3407462\n",
      "    avg_distance |   .2693892   .1391337     1.94   0.053    -.0033078    .5420863\n",
      "     freq_use_ev |    .036845   .1693778     0.22   0.828    -.2951294    .3688195\n",
      "     club_kepco2 |  -.3734523   .4915743    -0.76   0.447     -1.33692    .5900156\n",
      "      club_jeju3 |  -1.549975   .8621297    -1.80   0.072    -3.239718    .1397686\n",
      "        ev_owner |   .7323872   .6420379     1.14   0.254     -.525984    1.990758\n",
      "     saving_free |  -1.186061   .6491558    -1.83   0.068    -2.458383    .0862612\n",
      "b_cons_hill_ride |  -.1473965   .1519258    -0.97   0.332    -.4451655    .1503725\n",
      "           _cons |   1.548354    2.17542     0.71   0.477     -2.71539    5.812098\n",
      "----------------------------------------------------------------------------------\n",
      "\n"
     ]
    }
   ],
   "source": [
    " * One concern series1. : b concern on hill side\n",
    " \n",
    " logit y age gender marriage student1 company_man2 public_officer3 profession4 researcher5 learn income avg_distance freq_use_ev club_kepco2 club_jeju3  ev_owner saving_free b_cons_hill_ride, nolog\n",
    " estimates store model6b"
   ]
  },
  {
   "cell_type": "code",
   "execution_count": 138,
   "metadata": {},
   "outputs": [
    {
     "name": "stdout",
     "output_type": "stream",
     "text": [
      "\n",
      "\n",
      "Logistic regression                             Number of obs     =        184\n",
      "                                                LR chi2(17)       =      39.60\n",
      "                                                Prob > chi2       =     0.0015\n",
      "Log likelihood = -100.28838                     Pseudo R2         =     0.1649\n",
      "\n",
      "---------------------------------------------------------------------------------\n",
      "              y |      Coef.   Std. Err.      z    P>|z|     [95% Conf. Interval]\n",
      "----------------+----------------------------------------------------------------\n",
      "            age |   .2713536   .3001148     0.90   0.366    -.3168606    .8595678\n",
      "         gender |  -.0179794   .5180803    -0.03   0.972    -1.033398    .9974393\n",
      "       marriage |  -.5457615   .4934456    -1.11   0.269    -1.512897    .4213741\n",
      "       student1 |   .0272473   1.096384     0.02   0.980    -2.121626    2.176121\n",
      "   company_man2 |  -2.111383   1.319912    -1.60   0.110    -4.698363    .4755979\n",
      "public_officer3 |  -.1114137   .7262745    -0.15   0.878    -1.534885    1.312058\n",
      "    profession4 |  -.3504157   1.039063    -0.34   0.736    -2.386941     1.68611\n",
      "    researcher5 |    1.95456   1.258908     1.55   0.121    -.5128555    4.421975\n",
      "          learn |  -.0064222   .4031528    -0.02   0.987    -.7965871    .7837427\n",
      "         income |   .0181735   .1601568     0.11   0.910    -.2957281    .3320751\n",
      "   avg_distance |   .2879255   .1390113     2.07   0.038     .0154684    .5603827\n",
      "    freq_use_ev |   .0367004   .1700986     0.22   0.829    -.2966867    .3700874\n",
      "    club_kepco2 |  -.3724043   .4915937    -0.76   0.449     -1.33591    .5911017\n",
      "     club_jeju3 |  -1.396161   .8640642    -1.62   0.106    -3.089696    .2973739\n",
      "       ev_owner |   .6798735   .6434679     1.06   0.291    -.5813004    1.941047\n",
      "    saving_free |  -1.180414   .6469265    -1.82   0.068    -2.448367    .0875384\n",
      "     b_cons_hac |   -.260389   .1624495    -1.60   0.109    -.5787841    .0580061\n",
      "          _cons |   1.771712   2.106546     0.84   0.400    -2.357043    5.900466\n",
      "---------------------------------------------------------------------------------\n",
      "\n"
     ]
    }
   ],
   "source": [
    "* One concern series1. : b concern on hvac\n",
    " \n",
    " logit y age gender marriage student1 company_man2 public_officer3 profession4 researcher5 learn income avg_distance freq_use_ev club_kepco2 club_jeju3  ev_owner saving_free b_cons_hac, nolog\n",
    " estimates store model7b"
   ]
  },
  {
   "cell_type": "code",
   "execution_count": 139,
   "metadata": {},
   "outputs": [
    {
     "name": "stdout",
     "output_type": "stream",
     "text": [
      "\n",
      "\n",
      "Logistic regression                             Number of obs     =        184\n",
      "                                                LR chi2(23)       =      47.41\n",
      "                                                Prob > chi2       =     0.0020\n",
      "Log likelihood = -96.384988                     Pseudo R2         =     0.1974\n",
      "\n",
      "-----------------------------------------------------------------------------------------\n",
      "                      y |      Coef.   Std. Err.      z    P>|z|     [95% Conf. Interval]\n",
      "------------------------+----------------------------------------------------------------\n",
      "                    age |   .2026883   .3077751     0.66   0.510    -.4005398    .8059164\n",
      "                 gender |  -.0008958   .5372153    -0.00   0.999    -1.053818    1.052027\n",
      "               marriage |  -.4896003   .5126346    -0.96   0.340    -1.494346    .5151452\n",
      "               student1 |    .116532   1.126398     0.10   0.918    -2.091167    2.324231\n",
      "           company_man2 |  -2.393867   1.406472    -1.70   0.089    -5.150501    .3627674\n",
      "        public_officer3 |  -.1167694   .7634492    -0.15   0.878    -1.613102    1.379563\n",
      "            profession4 |  -.5616008   1.079223    -0.52   0.603     -2.67684    1.553638\n",
      "            researcher5 |   2.235938    1.29907     1.72   0.085    -.3101922    4.782068\n",
      "                  learn |   .1462894   .4294046     0.34   0.733    -.6953281    .9879069\n",
      "                 income |   .0440136   .1649038     0.27   0.790    -.2791919     .367219\n",
      "           avg_distance |   .3448247   .1466705     2.35   0.019     .0573557    .6322937\n",
      "            freq_use_ev |  -.0477006   .1786309    -0.27   0.789    -.3978108    .3024097\n",
      "            club_kepco2 |  -.4278665   .5194242    -0.82   0.410    -1.445919    .5901861\n",
      "             club_jeju3 |   -.736143   .9107275    -0.81   0.419    -2.521136     1.04885\n",
      "               ev_owner |   .8351093   .6659908     1.25   0.210    -.4702086    2.140427\n",
      "            saving_free |  -1.003027   .6715192    -1.49   0.135     -2.31918    .3131269\n",
      "       b_cons_short_dis |  -.3170699   .2384889    -1.33   0.184    -.7844996    .1503598\n",
      "              b_cons_as |  -.2270959   .2006697    -1.13   0.258    -.6204014    .1662095\n",
      "      b_cons_charge_fee |  -.1920307   .1878082    -1.02   0.307     -.560128    .1760666\n",
      " b_cons_num_charge_lack |   .1897604   .2600026     0.73   0.465    -.3198352    .6993561\n",
      "b_cons_long_charge_time |  -.2925494   .2865051    -1.02   0.307    -.8540891    .2689904\n",
      "             b_cons_hac |  -.1781143   .2041452    -0.87   0.383    -.5782316     .222003\n",
      "       b_cons_hill_ride |   .0865883   .1914417     0.45   0.651    -.2886305     .461807\n",
      "                  _cons |    3.68851   2.496601     1.48   0.140    -1.204738    8.581759\n",
      "-----------------------------------------------------------------------------------------\n",
      "\n"
     ]
    }
   ],
   "source": [
    "* Total Before Model \n",
    "\n",
    "logit y age gender marriage student1 company_man2 public_officer3 profession4 researcher5 learn income avg_distance freq_use_ev club_kepco2 club_jeju3  ev_owner saving_free b_cons_short_dis b_cons_as b_cons_charge_fee b_cons_num_charge_lack b_cons_long_charge_time b_cons_hac b_cons_hill_ride, nolog\n",
    "estimates store model8b"
   ]
  },
  {
   "cell_type": "code",
   "execution_count": 38,
   "metadata": {},
   "outputs": [
    {
     "name": "stdout",
     "output_type": "stream",
     "text": [
      "\n",
      "-----------------------------------------------------------------------------------------------------------------------------------------------------\n",
      "    Variable |     base         model1b        model2b        model3b        model4b        model5b        model6b        model7b        model8b     \n",
      "-------------+---------------------------------------------------------------------------------------------------------------------------------------\n",
      "         age |     0.274          0.219          0.245          0.260          0.275          0.245          0.239          0.271          0.203     \n",
      "      gender |    -0.002          0.062         -0.047         -0.024         -0.029         -0.023         -0.002         -0.018         -0.001     \n",
      "    marriage |    -0.459         -0.468         -0.501         -0.408         -0.480         -0.553         -0.480         -0.546         -0.490     \n",
      "    student1 |     0.345          0.219          0.510          0.324          0.336          0.357          0.300          0.027          0.117     \n",
      "company_man2 |    -2.067         -2.284*        -1.995         -2.238*        -2.043         -1.994         -2.224*        -2.111         -2.394*    \n",
      "public_off~3 |    -0.032         -0.000         -0.011         -0.097         -0.028         -0.005         -0.090         -0.111         -0.117     \n",
      " profession4 |    -0.040         -0.144         -0.196         -0.104         -0.063         -0.178         -0.048         -0.350         -0.562     \n",
      " researcher5 |     2.122*         2.203*         2.298*         2.100*         2.109*         2.181*         2.056          1.955          2.236*    \n",
      "       learn |    -0.055          0.078          0.044         -0.067         -0.035          0.034         -0.072         -0.006          0.146     \n",
      "      income |     0.028          0.014          0.065          0.031          0.026          0.039          0.033          0.018          0.044     \n",
      "avg_distance |     0.288**        0.332**        0.315**        0.280**        0.293**        0.315**        0.269*         0.288**        0.345**   \n",
      " freq_use_ev |     0.033         -0.021         -0.002          0.019          0.026          0.008          0.037          0.037         -0.048     \n",
      " club_kepco2 |    -0.321         -0.277         -0.391         -0.348         -0.330         -0.421         -0.373         -0.372         -0.428     \n",
      "  club_jeju3 |    -1.519*        -1.113         -1.209         -1.444*        -1.536*        -1.387         -1.550*        -1.396         -0.736     \n",
      "    ev_owner |     0.738          0.783          0.730          0.743          0.733          0.879          0.732          0.680          0.835     \n",
      " saving_free |    -1.165*        -0.957         -1.146*        -1.208*        -1.147*        -1.076         -1.186*        -1.180*        -1.003     \n",
      "b_cons_sho~s |                   -0.470**                                                                                                 -0.317     \n",
      "   b_cons_as |                                  -0.372**                                                                                  -0.227     \n",
      "b_cons_cha~e |                                                 -0.156                                                                     -0.192     \n",
      "b_cons_num~k |                                                                -0.109                                                       0.190     \n",
      "b_cons_lon~e |                                                                               -0.461**                                     -0.293     \n",
      "b_cons_hil~e |                                                                                              -0.147                         0.087     \n",
      "  b_cons_hac |                                                                                                             -0.260         -0.178     \n",
      "       _cons |     0.779          2.085          1.821          1.494          1.227          2.456          1.548          1.772          3.689     \n",
      "-------------+---------------------------------------------------------------------------------------------------------------------------------------\n",
      "          ll |  -101.614        -98.877        -99.565       -101.187       -101.485        -99.514       -101.139       -100.288        -96.385     \n",
      "-----------------------------------------------------------------------------------------------------------------------------------------------------\n",
      "                                                                                                                  legend: * p<.1; ** p<.05; *** p<.01\n"
     ]
    }
   ],
   "source": [
    "* Model1 total before table: se and star cannot be together\n",
    "\n",
    "estimates table base model1b model2b model3b model4b model5b model6b model7b model8b, b(%9.3f) star(0.01, 0.05, 0.1) eq(1) stats(ll)"
   ]
  },
  {
   "cell_type": "code",
   "execution_count": 39,
   "metadata": {},
   "outputs": [
    {
     "name": "stdout",
     "output_type": "stream",
     "text": [
      "\n",
      "--------------------------------------------------------------------------------------------------------------------------\n",
      "    Variable |   base       model1b     model2b     model3b     model4b     model5b     model6b     model7b     model8b   \n",
      "-------------+------------------------------------------------------------------------------------------------------------\n",
      "         age |     0.274       0.219       0.245       0.260       0.275       0.245       0.239       0.271       0.203  \n",
      "             |     0.300       0.303       0.305       0.301       0.301       0.306       0.305       0.300       0.308  \n",
      "      gender |    -0.002       0.062      -0.047      -0.024      -0.029      -0.023      -0.002      -0.018      -0.001  \n",
      "             |     0.515       0.527       0.521       0.514       0.518       0.523       0.517       0.518       0.537  \n",
      "    marriage |    -0.459      -0.468      -0.501      -0.408      -0.480      -0.553      -0.480      -0.546      -0.490  \n",
      "             |     0.484       0.490       0.489       0.490       0.486       0.495       0.489       0.493       0.513  \n",
      "    student1 |     0.345       0.219       0.510       0.324       0.336       0.357       0.300       0.027       0.117  \n",
      "             |     1.066       1.085       1.076       1.068       1.065       1.074       1.078       1.096       1.126  \n",
      "company_man2 |    -2.067      -2.284      -1.995      -2.238      -2.043      -1.994      -2.224      -2.111      -2.394  \n",
      "             |     1.312       1.350       1.326       1.338       1.311       1.314       1.321       1.320       1.406  \n",
      "public_off~3 |    -0.032      -0.000      -0.011      -0.097      -0.028      -0.005      -0.090      -0.111      -0.117  \n",
      "             |     0.714       0.736       0.729       0.720       0.716       0.734       0.721       0.726       0.763  \n",
      " profession4 |    -0.040      -0.144      -0.196      -0.104      -0.063      -0.178      -0.048      -0.350      -0.562  \n",
      "             |     1.013       1.041       1.025       1.019       1.018       1.033       1.023       1.039       1.079  \n",
      " researcher5 |     2.122       2.203       2.298       2.100       2.109       2.181       2.056       1.955       2.236  \n",
      "             |     1.247       1.258       1.274       1.248       1.246       1.265       1.252       1.259       1.299  \n",
      "       learn |    -0.055       0.078       0.044      -0.067      -0.035       0.034      -0.072      -0.006       0.146  \n",
      "             |     0.401       0.409       0.410       0.403       0.402       0.406       0.402       0.403       0.429  \n",
      "      income |     0.028       0.014       0.065       0.031       0.026       0.039       0.033       0.018       0.044  \n",
      "             |     0.158       0.159       0.161       0.158       0.158       0.159       0.157       0.160       0.165  \n",
      "avg_distance |     0.288       0.332       0.315       0.280       0.293       0.315       0.269       0.288       0.345  \n",
      "             |     0.138       0.143       0.140       0.138       0.139       0.142       0.139       0.139       0.147  \n",
      " freq_use_ev |     0.033      -0.021      -0.002       0.019       0.026       0.008       0.037       0.037      -0.048  \n",
      "             |     0.168       0.174       0.172       0.169       0.170       0.173       0.169       0.170       0.179  \n",
      " club_kepco2 |    -0.321      -0.277      -0.391      -0.348      -0.330      -0.421      -0.373      -0.372      -0.428  \n",
      "             |     0.488       0.499       0.499       0.490       0.489       0.502       0.492       0.492       0.519  \n",
      "  club_jeju3 |    -1.519      -1.113      -1.209      -1.444      -1.536      -1.387      -1.550      -1.396      -0.736  \n",
      "             |     0.855       0.882       0.870       0.858       0.858       0.865       0.862       0.864       0.911  \n",
      "    ev_owner |     0.738       0.783       0.730       0.743       0.733       0.879       0.732       0.680       0.835  \n",
      "             |     0.642       0.653       0.650       0.642       0.649       0.660       0.642       0.643       0.666  \n",
      " saving_free |    -1.165      -0.957      -1.146      -1.208      -1.147      -1.076      -1.186      -1.180      -1.003  \n",
      "             |     0.649       0.675       0.654       0.650       0.648       0.658       0.649       0.647       0.672  \n",
      "b_cons_sho~s |                -0.470                                                                              -0.317  \n",
      "             |                 0.211                                                                               0.238  \n",
      "   b_cons_as |                            -0.372                                                                  -0.227  \n",
      "             |                             0.189                                                                   0.201  \n",
      "b_cons_cha~e |                                        -0.156                                                      -0.192  \n",
      "             |                                         0.170                                                       0.188  \n",
      "b_cons_num~k |                                                    -0.109                                           0.190  \n",
      "             |                                                     0.217                                           0.260  \n",
      "b_cons_lon~e |                                                                -0.461                              -0.293  \n",
      "             |                                                                 0.234                               0.287  \n",
      "b_cons_hil~e |                                                                            -0.147                   0.087  \n",
      "             |                                                                             0.152                   0.191  \n",
      "  b_cons_hac |                                                                                        -0.260      -0.178  \n",
      "             |                                                                                         0.162       0.204  \n",
      "       _cons |     0.779       2.085       1.821       1.494       1.227       2.456       1.548       1.772       3.689  \n",
      "             |     2.014       2.156       2.086       2.173       2.201       2.213       2.175       2.107       2.497  \n",
      "-------------+------------------------------------------------------------------------------------------------------------\n",
      "          ll |  -101.614     -98.877     -99.565    -101.187    -101.485     -99.514    -101.139    -100.288     -96.385  \n",
      "--------------------------------------------------------------------------------------------------------------------------\n",
      "                                                                                                              legend: b/se\n"
     ]
    }
   ],
   "source": [
    " estimates table base model1b model2b model3b model4b model5b model6b model7b model8b, b(%9.3f) se(%9.3f) eq(1) stats(ll)"
   ]
  },
  {
   "cell_type": "markdown",
   "metadata": {},
   "source": [
    "---\n",
    "# <font color = blue> 4. Gap concernn\n",
    "---"
   ]
  },
  {
   "cell_type": "code",
   "execution_count": 40,
   "metadata": {},
   "outputs": [
    {
     "name": "stdout",
     "output_type": "stream",
     "text": [
      "\n",
      "\n",
      "Iteration 0:   log likelihood = -120.09018  \n",
      "Iteration 1:   log likelihood = -101.74403  \n",
      "Iteration 2:   log likelihood = -100.97846  \n",
      "Iteration 3:   log likelihood = -100.96199  \n",
      "Iteration 4:   log likelihood = -100.96193  \n",
      "Iteration 5:   log likelihood = -100.96193  \n",
      "\n",
      "Logistic regression                             Number of obs     =        184\n",
      "                                                LR chi2(17)       =      38.26\n",
      "                                                Prob > chi2       =     0.0023\n",
      "Log likelihood = -100.96193                     Pseudo R2         =     0.1593\n",
      "\n",
      "----------------------------------------------------------------------------------\n",
      "               y |      Coef.   Std. Err.      z    P>|z|     [95% Conf. Interval]\n",
      "-----------------+----------------------------------------------------------------\n",
      "             age |   .2681188   .3025017     0.89   0.375    -.3247736    .8610113\n",
      "          gender |  -.0217995   .5178823    -0.04   0.966     -1.03683    .9932311\n",
      "        marriage |  -.4738028   .4868222    -0.97   0.330    -1.427957    .4803512\n",
      "        student1 |   .3610081   1.066003     0.34   0.735    -1.728319    2.450335\n",
      "    company_man2 |   -2.09454   1.309432    -1.60   0.110     -4.66098    .4718996\n",
      " public_officer3 |  -.0466421   .7203947    -0.06   0.948     -1.45859    1.365306\n",
      "     profession4 |  -.0247994   1.018286    -0.02   0.981    -2.020604    1.971005\n",
      "     researcher5 |   2.107157    1.24914     1.69   0.092     -.341112    4.555426\n",
      "           learn |  -.0505369   .4010091    -0.13   0.900    -.8365002    .7354265\n",
      "          income |   .0186252    .157433     0.12   0.906    -.2899378    .3271881\n",
      "    avg_distance |   .2853998   .1385851     2.06   0.039      .013778    .5570216\n",
      "     freq_use_ev |   .0371724   .1689415     0.22   0.826    -.2939468    .3682917\n",
      "     club_kepco2 |  -.3215711   .4907916    -0.66   0.512    -1.283505    .6403627\n",
      "      club_jeju3 |   -1.57283   .8562581    -1.84   0.066    -3.251065    .1054046\n",
      "        ev_owner |   .6991092   .6526008     1.07   0.284    -.5799648    1.978183\n",
      "     saving_free |  -1.080103   .6564622    -1.65   0.100    -2.366745    .2065396\n",
      "g_cons_short_dis |   .1862959   .1641718     1.13   0.256    -.1354749    .5080667\n",
      "           _cons |   .8208407   2.026567     0.41   0.685    -3.151158     4.79284\n",
      "----------------------------------------------------------------------------------\n",
      "\n"
     ]
    }
   ],
   "source": [
    "* One concern series1. : g short distance\n",
    "\n",
    "logit y age gender marriage student1 company_man2 public_officer3 profession4 researcher5 learn income avg_distance freq_use_ev club_kepco2 club_jeju3  ev_owner saving_free g_cons_short_dis\n",
    "estimates store model1g"
   ]
  },
  {
   "cell_type": "code",
   "execution_count": 41,
   "metadata": {},
   "outputs": [
    {
     "name": "stdout",
     "output_type": "stream",
     "text": [
      "\n",
      "\n",
      "Iteration 0:   log likelihood = -120.09018  \n",
      "Iteration 1:   log likelihood = -102.30211  \n",
      "Iteration 2:   log likelihood = -101.54333  \n",
      "Iteration 3:   log likelihood = -101.52655  \n",
      "Iteration 4:   log likelihood = -101.52649  \n",
      "Iteration 5:   log likelihood = -101.52649  \n",
      "\n",
      "Logistic regression                             Number of obs     =        184\n",
      "                                                LR chi2(17)       =      37.13\n",
      "                                                Prob > chi2       =     0.0032\n",
      "Log likelihood = -101.52649                     Pseudo R2         =     0.1546\n",
      "\n",
      "---------------------------------------------------------------------------------\n",
      "              y |      Coef.   Std. Err.      z    P>|z|     [95% Conf. Interval]\n",
      "----------------+----------------------------------------------------------------\n",
      "            age |   .2701295   .3001065     0.90   0.368    -.3180685    .8583275\n",
      "         gender |   .0090316    .515626     0.02   0.986    -1.001577     1.01964\n",
      "       marriage |  -.4618134   .4838474    -0.95   0.340    -1.410137      .48651\n",
      "       student1 |   .3680995    1.06842     0.34   0.730    -1.725965    2.462164\n",
      "   company_man2 |  -2.065365    1.31456    -1.57   0.116    -4.641855    .5111247\n",
      "public_officer3 |  -.0129571   .7162161    -0.02   0.986    -1.416715    1.390801\n",
      "    profession4 |  -.0046193   1.015895    -0.00   0.996    -1.995737    1.986498\n",
      "    researcher5 |   2.108895   1.249208     1.69   0.091    -.3395079    4.557297\n",
      "          learn |  -.0523935   .4004397    -0.13   0.896    -.8372408    .7324539\n",
      "         income |   .0317722   .1580661     0.20   0.841    -.2780317    .3415761\n",
      "   avg_distance |   .2897965   .1382741     2.10   0.036     .0187842    .5608087\n",
      "    freq_use_ev |   .0247531    .169689     0.15   0.884    -.3078313    .3573375\n",
      "    club_kepco2 |  -.3186643   .4876503    -0.65   0.513    -1.274441    .6371126\n",
      "     club_jeju3 |  -1.557273   .8583333    -1.81   0.070    -3.239576    .1250293\n",
      "       ev_owner |   .7158361   .6439665     1.11   0.266    -.5463151    1.977987\n",
      "    saving_free |  -1.150269   .6497761    -1.77   0.077    -2.423806    .1232693\n",
      "      g_cons_as |   .0682917    .163096     0.42   0.675    -.2513705    .3879539\n",
      "          _cons |   .7849213   2.010567     0.39   0.696    -3.155717    4.725559\n",
      "---------------------------------------------------------------------------------\n",
      "\n"
     ]
    }
   ],
   "source": [
    "* One concern series1. : g AS\n",
    "\n",
    "logit y age gender marriage student1 company_man2 public_officer3 profession4 researcher5 learn income avg_distance freq_use_ev club_kepco2 club_jeju3  ev_owner saving_free g_cons_as\n",
    "estimates store model2g"
   ]
  },
  {
   "cell_type": "code",
   "execution_count": 42,
   "metadata": {},
   "outputs": [
    {
     "name": "stdout",
     "output_type": "stream",
     "text": [
      "\n",
      "\n",
      "Iteration 0:   log likelihood = -120.09018  \n",
      "Iteration 1:   log likelihood = -102.09815  \n",
      "Iteration 2:   log likelihood = -101.33524  \n",
      "Iteration 3:   log likelihood = -101.31784  \n",
      "Iteration 4:   log likelihood = -101.31778  \n",
      "Iteration 5:   log likelihood = -101.31778  \n",
      "\n",
      "Logistic regression                             Number of obs     =        184\n",
      "                                                LR chi2(17)       =      37.54\n",
      "                                                Prob > chi2       =     0.0028\n",
      "Log likelihood = -101.31778                     Pseudo R2         =     0.1563\n",
      "\n",
      "-----------------------------------------------------------------------------------\n",
      "                y |      Coef.   Std. Err.      z    P>|z|     [95% Conf. Interval]\n",
      "------------------+----------------------------------------------------------------\n",
      "              age |   .2987924   .3033177     0.99   0.325    -.2956994    .8932843\n",
      "           gender |   .0218543   .5181086     0.04   0.966    -.9936199    1.037328\n",
      "         marriage |  -.4733707   .4835158    -0.98   0.328    -1.421044     .474303\n",
      "         student1 |   .4447153   1.074109     0.41   0.679    -1.660499    2.549929\n",
      "     company_man2 |  -1.850384    1.33782    -1.38   0.167    -4.472464    .7716948\n",
      "  public_officer3 |   .0607803   .7248284     0.08   0.933    -1.359857    1.481418\n",
      "      profession4 |  -.0064993   1.015287    -0.01   0.995    -1.996425    1.983426\n",
      "      researcher5 |   2.249506   1.260562     1.78   0.074    -.2211506    4.720163\n",
      "            learn |  -.0481221   .4013345    -0.12   0.905    -.8347232     .738479\n",
      "           income |   .0352169   .1589441     0.22   0.825    -.2763078    .3467416\n",
      "     avg_distance |   .2691386   .1408064     1.91   0.056    -.0068369    .5451141\n",
      "      freq_use_ev |   .0638139   .1733543     0.37   0.713    -.2759543    .4035821\n",
      "      club_kepco2 |  -.3037455   .4892985    -0.62   0.535    -1.262753     .655262\n",
      "       club_jeju3 |  -1.498273   .8554625    -1.75   0.080    -3.174949    .1784026\n",
      "         ev_owner |   .7882394   .6459236     1.22   0.222    -.4777476    2.054226\n",
      "      saving_free |  -1.182423   .6524786    -1.81   0.070    -2.461257    .0964116\n",
      "g_cons_charge_fee |  -.1368022   .1782554    -0.77   0.443    -.4861764     .212572\n",
      "            _cons |   .5062823   2.040052     0.25   0.804    -3.492146    4.504711\n",
      "-----------------------------------------------------------------------------------\n",
      "\n"
     ]
    }
   ],
   "source": [
    "* One concern series1. : g charging fee\n",
    "\n",
    "logit y age gender marriage student1 company_man2 public_officer3 profession4 researcher5 learn income avg_distance freq_use_ev club_kepco2 club_jeju3  ev_owner saving_free g_cons_charge_fee\n",
    "estimates store model3g"
   ]
  },
  {
   "cell_type": "code",
   "execution_count": 43,
   "metadata": {},
   "outputs": [
    {
     "name": "stdout",
     "output_type": "stream",
     "text": [
      "\n",
      "\n",
      "Iteration 0:   log likelihood = -120.09018  \n",
      "Iteration 1:   log likelihood = -102.35129  \n",
      "Iteration 2:   log likelihood = -101.60688  \n",
      "Iteration 3:   log likelihood = -101.59045  \n",
      "Iteration 4:   log likelihood = -101.59039  \n",
      "Iteration 5:   log likelihood = -101.59039  \n",
      "\n",
      "Logistic regression                             Number of obs     =        184\n",
      "                                                LR chi2(17)       =      37.00\n",
      "                                                Prob > chi2       =     0.0034\n",
      "Log likelihood = -101.59039                     Pseudo R2         =     0.1540\n",
      "\n",
      "----------------------------------------------------------------------------------------\n",
      "                     y |      Coef.   Std. Err.      z    P>|z|     [95% Conf. Interval]\n",
      "-----------------------+----------------------------------------------------------------\n",
      "                   age |   .2673953   .3016901     0.89   0.375    -.3239065    .8586971\n",
      "                gender |   .0220581   .5263184     0.04   0.967    -1.009507    1.053623\n",
      "              marriage |    -.45608   .4840101    -0.94   0.346    -1.404722    .4925624\n",
      "              student1 |   .3671324   1.069207     0.34   0.731    -1.728475     2.46274\n",
      "          company_man2 |  -2.056771   1.313674    -1.57   0.117    -4.631525     .517984\n",
      "       public_officer3 |  -.0193086   .7152101    -0.03   0.978    -1.421095    1.382477\n",
      "           profession4 |  -.0418836   1.012069    -0.04   0.967    -2.025501    1.941734\n",
      "           researcher5 |   2.158995   1.258863     1.72   0.086    -.3083311    4.626321\n",
      "                 learn |  -.0740531   .4101662    -0.18   0.857     -.877964    .7298578\n",
      "                income |   .0294718   .1581341     0.19   0.852    -.2804654     .339409\n",
      "          avg_distance |   .2861345   .1383284     2.07   0.039     .0150158    .5572532\n",
      "           freq_use_ev |   .0331393   .1683979     0.20   0.844    -.2969146    .3631931\n",
      "           club_kepco2 |  -.3143021   .4889889    -0.64   0.520    -1.272703    .6440985\n",
      "            club_jeju3 |  -1.490677   .8639132    -1.73   0.084    -3.183916    .2025616\n",
      "              ev_owner |   .7462463   .6413174     1.16   0.245    -.5107128    2.003205\n",
      "           saving_free |  -1.161853   .6497108    -1.79   0.074    -2.435263    .1115566\n",
      "g_cons_num_charge_lack |  -.0416686   .1908833    -0.22   0.827     -.415793    .3324557\n",
      "                 _cons |   .8068526   2.016064     0.40   0.689     -3.14456    4.758265\n",
      "----------------------------------------------------------------------------------------\n",
      "\n"
     ]
    }
   ],
   "source": [
    "* One concern series1. : g charging facility lack\n",
    "\n",
    "logit y age gender marriage student1 company_man2 public_officer3 profession4 researcher5 learn income avg_distance freq_use_ev club_kepco2 club_jeju3  ev_owner saving_free g_cons_num_charge_lack\n",
    "estimates store model4g"
   ]
  },
  {
   "cell_type": "code",
   "execution_count": 44,
   "metadata": {},
   "outputs": [
    {
     "name": "stdout",
     "output_type": "stream",
     "text": [
      "\n",
      "\n",
      "Iteration 0:   log likelihood = -120.09018  \n",
      "Iteration 1:   log likelihood = -102.21066  \n",
      "Iteration 2:   log likelihood = -101.42774  \n",
      "Iteration 3:   log likelihood = -101.41077  \n",
      "Iteration 4:   log likelihood = -101.41071  \n",
      "Iteration 5:   log likelihood = -101.41071  \n",
      "\n",
      "Logistic regression                             Number of obs     =        184\n",
      "                                                LR chi2(17)       =      37.36\n",
      "                                                Prob > chi2       =     0.0030\n",
      "Log likelihood = -101.41071                     Pseudo R2         =     0.1555\n",
      "\n",
      "-----------------------------------------------------------------------------------------\n",
      "                      y |      Coef.   Std. Err.      z    P>|z|     [95% Conf. Interval]\n",
      "------------------------+----------------------------------------------------------------\n",
      "                    age |   .2526962   .3027777     0.83   0.404    -.3407372    .8461295\n",
      "                 gender |   -.002798   .5154976    -0.01   0.996    -1.013155    1.007559\n",
      "               marriage |  -.4478694   .4856473    -0.92   0.356    -1.399721    .5039819\n",
      "               student1 |   .3653062   1.070625     0.34   0.733    -1.733081    2.463693\n",
      "           company_man2 |  -2.065849   1.307278    -1.58   0.114    -4.628067    .4963695\n",
      "        public_officer3 |  -.0111962   .7169945    -0.02   0.988     -1.41648    1.394087\n",
      "            profession4 |   .0240786   1.019167     0.02   0.981    -1.973452    2.021609\n",
      "            researcher5 |   2.171344   1.251559     1.73   0.083    -.2816675    4.624355\n",
      "                  learn |  -.0266422   .4035161    -0.07   0.947    -.8175192    .7642347\n",
      "                 income |   .0240996   .1578172     0.15   0.879    -.2852164    .3334157\n",
      "           avg_distance |   .2959125   .1387823     2.13   0.033     .0239043    .5679207\n",
      "            freq_use_ev |   .0349731   .1686781     0.21   0.836    -.2956299    .3655761\n",
      "            club_kepco2 |   -.351058   .4915507    -0.71   0.475     -1.31448    .6123636\n",
      "             club_jeju3 |  -1.588079   .8635144    -1.84   0.066    -3.280536    .1043782\n",
      "               ev_owner |   .7055209   .6427908     1.10   0.272    -.5543259    1.965368\n",
      "            saving_free |  -1.184223   .6523458    -1.82   0.069    -2.462797    .0943514\n",
      "g_cons_long_charge_time |   .1189369   .1873459     0.63   0.526    -.2482544    .4861282\n",
      "                  _cons |   .7636107   2.024359     0.38   0.706     -3.20406    4.731281\n",
      "-----------------------------------------------------------------------------------------\n",
      "\n"
     ]
    }
   ],
   "source": [
    "* One concern series1. : g charging time\n",
    "\n",
    "logit y age gender marriage student1 company_man2 public_officer3 profession4 researcher5 learn income avg_distance freq_use_ev club_kepco2 club_jeju3  ev_owner saving_free g_cons_long_charge_time\n",
    "estimates store model5g"
   ]
  },
  {
   "cell_type": "code",
   "execution_count": 45,
   "metadata": {},
   "outputs": [
    {
     "name": "stdout",
     "output_type": "stream",
     "text": [
      "\n",
      "\n",
      "Iteration 0:   log likelihood = -120.09018  \n",
      "Iteration 1:   log likelihood = -102.28341  \n",
      "Iteration 2:   log likelihood = -101.50905  \n",
      "Iteration 3:   log likelihood = -101.49191  \n",
      "Iteration 4:   log likelihood = -101.49185  \n",
      "Iteration 5:   log likelihood = -101.49185  \n",
      "\n",
      "Logistic regression                             Number of obs     =        184\n",
      "                                                LR chi2(17)       =      37.20\n",
      "                                                Prob > chi2       =     0.0032\n",
      "Log likelihood = -101.49185                     Pseudo R2         =     0.1549\n",
      "\n",
      "----------------------------------------------------------------------------------\n",
      "               y |      Coef.   Std. Err.      z    P>|z|     [95% Conf. Interval]\n",
      "-----------------+----------------------------------------------------------------\n",
      "             age |   .2526804   .3041088     0.83   0.406    -.3433618    .8487226\n",
      "          gender |   .0016496   .5161134     0.00   0.997    -1.009914    1.013213\n",
      "        marriage |  -.4671721   .4849825    -0.96   0.335     -1.41772    .4833761\n",
      "        student1 |   .3562605   1.067949     0.33   0.739    -1.736882    2.449403\n",
      "    company_man2 |  -2.063556   1.309543    -1.58   0.115    -4.630213    .5031011\n",
      " public_officer3 |  -.0348603   .7155481    -0.05   0.961    -1.437309    1.367588\n",
      "     profession4 |  -.0078518   1.014878    -0.01   0.994    -1.996977    1.981273\n",
      "     researcher5 |    2.09182   1.250281     1.67   0.094    -.3586864    4.542326\n",
      "           learn |  -.0441427   .4009484    -0.11   0.912    -.8299871    .7417016\n",
      "          income |   .0337213   .1578033     0.21   0.831    -.2755675      .34301\n",
      "    avg_distance |   .2952936    .139033     2.12   0.034     .0227939    .5677934\n",
      "     freq_use_ev |   .0304605   .1687233     0.18   0.857     -.300231     .361152\n",
      "     club_kepco2 |  -.3311903   .4889439    -0.68   0.498    -1.289503    .6271221\n",
      "      club_jeju3 |   -1.55347   .8587708    -1.81   0.070     -3.23663    .1296896\n",
      "        ev_owner |   .7364284   .6396421     1.15   0.250    -.5172471    1.990104\n",
      "     saving_free |  -1.147424   .6516068    -1.76   0.078     -2.42455    .1297014\n",
      "g_cons_hill_ride |   .0754002   .1525122     0.49   0.621    -.2235182    .3743185\n",
      "           _cons |   .8050491   2.018675     0.40   0.690    -3.151481    4.761579\n",
      "----------------------------------------------------------------------------------\n",
      "\n"
     ]
    }
   ],
   "source": [
    " * One concern series1. : g concern on hill side\n",
    " \n",
    " logit y age gender marriage student1 company_man2 public_officer3 profession4 researcher5 learn income avg_distance freq_use_ev club_kepco2 club_jeju3  ev_owner saving_free g_cons_hill_ride\n",
    " estimates store model6g"
   ]
  },
  {
   "cell_type": "code",
   "execution_count": 46,
   "metadata": {},
   "outputs": [
    {
     "name": "stdout",
     "output_type": "stream",
     "text": [
      "\n",
      "\n",
      "Iteration 0:   log likelihood = -120.09018  \n",
      "Iteration 1:   log likelihood =  -101.5966  \n",
      "Iteration 2:   log likelihood = -100.85347  \n",
      "Iteration 3:   log likelihood = -100.83845  \n",
      "Iteration 4:   log likelihood = -100.83839  \n",
      "Iteration 5:   log likelihood = -100.83839  \n",
      "\n",
      "Logistic regression                             Number of obs     =        184\n",
      "                                                LR chi2(17)       =      38.50\n",
      "                                                Prob > chi2       =     0.0021\n",
      "Log likelihood = -100.83839                     Pseudo R2         =     0.1603\n",
      "\n",
      "---------------------------------------------------------------------------------\n",
      "              y |      Coef.   Std. Err.      z    P>|z|     [95% Conf. Interval]\n",
      "----------------+----------------------------------------------------------------\n",
      "            age |    .288734   .3031969     0.95   0.341     -.305521     .882989\n",
      "         gender |   .0438185   .5189288     0.08   0.933    -.9732632      1.0609\n",
      "       marriage |  -.4174317   .4850512    -0.86   0.389    -1.368115    .5332513\n",
      "       student1 |    .357016   1.068626     0.33   0.738    -1.737452    2.451484\n",
      "   company_man2 |  -2.190797    1.34285    -1.63   0.103    -4.822734    .4411403\n",
      "public_officer3 |   .0077109   .7165675     0.01   0.991    -1.396736    1.412157\n",
      "    profession4 |   .0145553   1.023678     0.01   0.989    -1.991817    2.020927\n",
      "    researcher5 |   2.243602   1.250443     1.79   0.073    -.2072205    4.694424\n",
      "          learn |  -.0526301   .4017735    -0.13   0.896    -.8400916    .7348315\n",
      "         income |   .0281813   .1586542     0.18   0.859    -.2827753    .3391379\n",
      "   avg_distance |   .2879985   .1389527     2.07   0.038     .0156562    .5603407\n",
      "    freq_use_ev |   .0424937   .1685402     0.25   0.801     -.287839    .3728265\n",
      "    club_kepco2 |  -.3654345    .494168    -0.74   0.460    -1.333986    .6031169\n",
      "     club_jeju3 |  -1.494318   .8612765    -1.74   0.083    -3.182389     .193753\n",
      "       ev_owner |   .7544165   .6453021     1.17   0.242    -.5103524    2.019185\n",
      "    saving_free |  -1.300488   .6655026    -1.95   0.051    -2.604849    .0038731\n",
      "     g_cons_hac |   -.187025   .1514541    -1.23   0.217    -.4838696    .1098195\n",
      "          _cons |   .7013285   2.018374     0.35   0.728    -3.254612    4.657269\n",
      "---------------------------------------------------------------------------------\n",
      "\n"
     ]
    }
   ],
   "source": [
    " * One concern series1. : g concern on hvac\n",
    " \n",
    " logit y age gender marriage student1 company_man2 public_officer3 profession4 researcher5 learn income avg_distance freq_use_ev club_kepco2 club_jeju3  ev_owner saving_free g_cons_hac\n",
    " estimates store model7g"
   ]
  },
  {
   "cell_type": "code",
   "execution_count": 47,
   "metadata": {},
   "outputs": [
    {
     "name": "stdout",
     "output_type": "stream",
     "text": [
      "\n",
      "\n",
      "Iteration 0:   log likelihood = -120.09018  \n",
      "Iteration 1:   log likelihood =  -98.93757  \n",
      "Iteration 2:   log likelihood =  -98.01825  \n",
      "Iteration 3:   log likelihood = -97.999745  \n",
      "Iteration 4:   log likelihood = -97.999695  \n",
      "Iteration 5:   log likelihood = -97.999695  \n",
      "\n",
      "Logistic regression                             Number of obs     =        184\n",
      "                                                LR chi2(23)       =      44.18\n",
      "                                                Prob > chi2       =     0.0050\n",
      "Log likelihood = -97.999695                     Pseudo R2         =     0.1839\n",
      "\n",
      "-----------------------------------------------------------------------------------------\n",
      "                      y |      Coef.   Std. Err.      z    P>|z|     [95% Conf. Interval]\n",
      "------------------------+----------------------------------------------------------------\n",
      "                    age |   .2288567   .3201341     0.71   0.475    -.3985946     .856308\n",
      "                 gender |   .1815174   .5518584     0.33   0.742    -.9001052     1.26314\n",
      "               marriage |  -.4329954   .4921615    -0.88   0.379    -1.397614    .5316234\n",
      "               student1 |     .72069   1.087692     0.66   0.508    -1.411146    2.852526\n",
      "           company_man2 |  -1.850981   1.348545    -1.37   0.170    -4.494082     .792119\n",
      "        public_officer3 |    .274416   .7440225     0.37   0.712    -1.183841    1.732673\n",
      "            profession4 |   .3452879   1.045763     0.33   0.741     -1.70437    2.394946\n",
      "            researcher5 |   2.621105   1.303089     2.01   0.044     .0670979    5.175113\n",
      "                  learn |  -.0187287   .4180343    -0.04   0.964    -.8380609    .8006034\n",
      "                 income |   .0418953   .1591011     0.26   0.792    -.2699372    .3537278\n",
      "           avg_distance |    .272662   .1462714     1.86   0.062    -.0140247    .5593488\n",
      "            freq_use_ev |   .0883844   .1790268     0.49   0.622    -.2625017    .4392705\n",
      "            club_kepco2 |  -.3952473   .5054085    -0.78   0.434     -1.38583    .5953351\n",
      "             club_jeju3 |  -1.637314   .8825417    -1.86   0.064    -3.367064    .0924357\n",
      "               ev_owner |   .7762152   .6638162     1.17   0.242    -.5248407    2.077271\n",
      "            saving_free |  -1.327662   .7127403    -1.86   0.062    -2.724607    .0692836\n",
      "       g_cons_short_dis |   .2622668   .1971003     1.33   0.183    -.1240427    .6485762\n",
      "              g_cons_as |   .0799425    .178586     0.45   0.654    -.2700797    .4299647\n",
      "      g_cons_charge_fee |  -.2334412   .1990481    -1.17   0.241    -.6235683    .1566859\n",
      " g_cons_num_charge_lack |   -.105777   .2327445    -0.45   0.649    -.5619478    .3503937\n",
      "g_cons_long_charge_time |   .1759085   .2390765     0.74   0.462    -.2926728    .6444897\n",
      "       g_cons_hill_ride |   .1842571   .1924992     0.96   0.338    -.1930344    .5615486\n",
      "             g_cons_hac |  -.3658034   .1853265    -1.97   0.048    -.7290367     -.00257\n",
      "                  _cons |    .380798   2.096928     0.18   0.856    -3.729106    4.490702\n",
      "-----------------------------------------------------------------------------------------\n",
      "\n"
     ]
    }
   ],
   "source": [
    "** gap concern\n",
    "\n",
    "logit y age gender marriage student1 company_man2 public_officer3 profession4 researcher5 learn income avg_distance freq_use_ev club_kepco2 club_jeju3   ev_owner saving_free g_cons_short_dis g_cons_as g_cons_charge_fee g_cons_num_charge_lack g_cons_long_charge_time g_cons_hill_ride g_cons_hac\n",
    "estimates store model8g"
   ]
  },
  {
   "cell_type": "code",
   "execution_count": 48,
   "metadata": {},
   "outputs": [
    {
     "name": "stdout",
     "output_type": "stream",
     "text": [
      "\n",
      "-----------------------------------------------------------------------------------------------------------------------------------------------------\n",
      "    Variable |     base         model1g        model2g        model3g        model4g        model5g        model6g        model7g        model8g     \n",
      "-------------+---------------------------------------------------------------------------------------------------------------------------------------\n",
      "         age |     0.274          0.268          0.270          0.299          0.267          0.253          0.253          0.289          0.229     \n",
      "      gender |    -0.002         -0.022          0.009          0.022          0.022         -0.003          0.002          0.044          0.182     \n",
      "    marriage |    -0.459         -0.474         -0.462         -0.473         -0.456         -0.448         -0.467         -0.417         -0.433     \n",
      "    student1 |     0.345          0.361          0.368          0.445          0.367          0.365          0.356          0.357          0.721     \n",
      "company_man2 |    -2.067         -2.095         -2.065         -1.850         -2.057         -2.066         -2.064         -2.191         -1.851     \n",
      "public_off~3 |    -0.032         -0.047         -0.013          0.061         -0.019         -0.011         -0.035          0.008          0.274     \n",
      " profession4 |    -0.040         -0.025         -0.005         -0.006         -0.042          0.024         -0.008          0.015          0.345     \n",
      " researcher5 |     2.122*         2.107*         2.109*         2.250*         2.159*         2.171*         2.092*         2.244*         2.621**   \n",
      "       learn |    -0.055         -0.051         -0.052         -0.048         -0.074         -0.027         -0.044         -0.053         -0.019     \n",
      "      income |     0.028          0.019          0.032          0.035          0.029          0.024          0.034          0.028          0.042     \n",
      "avg_distance |     0.288**        0.285**        0.290**        0.269*         0.286**        0.296**        0.295**        0.288**        0.273*    \n",
      " freq_use_ev |     0.033          0.037          0.025          0.064          0.033          0.035          0.030          0.042          0.088     \n",
      " club_kepco2 |    -0.321         -0.322         -0.319         -0.304         -0.314         -0.351         -0.331         -0.365         -0.395     \n",
      "  club_jeju3 |    -1.519*        -1.573*        -1.557*        -1.498*        -1.491*        -1.588*        -1.553*        -1.494*        -1.637*    \n",
      "    ev_owner |     0.738          0.699          0.716          0.788          0.746          0.706          0.736          0.754          0.776     \n",
      " saving_free |    -1.165*        -1.080*        -1.150*        -1.182*        -1.162*        -1.184*        -1.147*        -1.300*        -1.328*    \n",
      "g_cons_sho~s |                    0.186                                                                                                    0.262     \n",
      "   g_cons_as |                                   0.068                                                                                     0.080     \n",
      "g_cons_cha~e |                                                 -0.137                                                                     -0.233     \n",
      "g_cons_num~k |                                                                -0.042                                                      -0.106     \n",
      "g_cons_lon~e |                                                                                0.119                                        0.176     \n",
      "g_cons_hil~e |                                                                                               0.075                         0.184     \n",
      "  g_cons_hac |                                                                                                             -0.187         -0.366**   \n",
      "       _cons |     0.779          0.821          0.785          0.506          0.807          0.764          0.805          0.701          0.381     \n",
      "-------------+---------------------------------------------------------------------------------------------------------------------------------------\n",
      "          ll |  -101.614       -100.962       -101.526       -101.318       -101.590       -101.411       -101.492       -100.838        -98.000     \n",
      "-----------------------------------------------------------------------------------------------------------------------------------------------------\n",
      "                                                                                                                  legend: * p<.1; ** p<.05; *** p<.01\n"
     ]
    }
   ],
   "source": [
    "* Model1 total gap table: se and star cannot be together\n",
    "\n",
    "estimates table base model1g model2g model3g model4g model5g model6g model7g model8g, b(%9.3f) star(0.01, 0.05, 0.1) eq(1) stats(ll)"
   ]
  },
  {
   "cell_type": "code",
   "execution_count": 49,
   "metadata": {},
   "outputs": [
    {
     "name": "stdout",
     "output_type": "stream",
     "text": [
      "\n",
      "--------------------------------------------------------------------------------------------------------------------------\n",
      "    Variable |   base       model1g     model2g     model3g     model4g     model5g     model6g     model7g     model8g   \n",
      "-------------+------------------------------------------------------------------------------------------------------------\n",
      "         age |     0.274       0.268       0.270       0.299       0.267       0.253       0.253       0.289       0.229  \n",
      "             |     0.300       0.303       0.300       0.303       0.302       0.303       0.304       0.303       0.320  \n",
      "      gender |    -0.002      -0.022       0.009       0.022       0.022      -0.003       0.002       0.044       0.182  \n",
      "             |     0.515       0.518       0.516       0.518       0.526       0.515       0.516       0.519       0.552  \n",
      "    marriage |    -0.459      -0.474      -0.462      -0.473      -0.456      -0.448      -0.467      -0.417      -0.433  \n",
      "             |     0.484       0.487       0.484       0.484       0.484       0.486       0.485       0.485       0.492  \n",
      "    student1 |     0.345       0.361       0.368       0.445       0.367       0.365       0.356       0.357       0.721  \n",
      "             |     1.066       1.066       1.068       1.074       1.069       1.071       1.068       1.069       1.088  \n",
      "company_man2 |    -2.067      -2.095      -2.065      -1.850      -2.057      -2.066      -2.064      -2.191      -1.851  \n",
      "             |     1.312       1.309       1.315       1.338       1.314       1.307       1.310       1.343       1.349  \n",
      "public_off~3 |    -0.032      -0.047      -0.013       0.061      -0.019      -0.011      -0.035       0.008       0.274  \n",
      "             |     0.714       0.720       0.716       0.725       0.715       0.717       0.716       0.717       0.744  \n",
      " profession4 |    -0.040      -0.025      -0.005      -0.006      -0.042       0.024      -0.008       0.015       0.345  \n",
      "             |     1.013       1.018       1.016       1.015       1.012       1.019       1.015       1.024       1.046  \n",
      " researcher5 |     2.122       2.107       2.109       2.250       2.159       2.171       2.092       2.244       2.621  \n",
      "             |     1.247       1.249       1.249       1.261       1.259       1.252       1.250       1.250       1.303  \n",
      "       learn |    -0.055      -0.051      -0.052      -0.048      -0.074      -0.027      -0.044      -0.053      -0.019  \n",
      "             |     0.401       0.401       0.400       0.401       0.410       0.404       0.401       0.402       0.418  \n",
      "      income |     0.028       0.019       0.032       0.035       0.029       0.024       0.034       0.028       0.042  \n",
      "             |     0.158       0.157       0.158       0.159       0.158       0.158       0.158       0.159       0.159  \n",
      "avg_distance |     0.288       0.285       0.290       0.269       0.286       0.296       0.295       0.288       0.273  \n",
      "             |     0.138       0.139       0.138       0.141       0.138       0.139       0.139       0.139       0.146  \n",
      " freq_use_ev |     0.033       0.037       0.025       0.064       0.033       0.035       0.030       0.042       0.088  \n",
      "             |     0.168       0.169       0.170       0.173       0.168       0.169       0.169       0.169       0.179  \n",
      " club_kepco2 |    -0.321      -0.322      -0.319      -0.304      -0.314      -0.351      -0.331      -0.365      -0.395  \n",
      "             |     0.488       0.491       0.488       0.489       0.489       0.492       0.489       0.494       0.505  \n",
      "  club_jeju3 |    -1.519      -1.573      -1.557      -1.498      -1.491      -1.588      -1.553      -1.494      -1.637  \n",
      "             |     0.855       0.856       0.858       0.855       0.864       0.864       0.859       0.861       0.883  \n",
      "    ev_owner |     0.738       0.699       0.716       0.788       0.746       0.706       0.736       0.754       0.776  \n",
      "             |     0.642       0.653       0.644       0.646       0.641       0.643       0.640       0.645       0.664  \n",
      " saving_free |    -1.165      -1.080      -1.150      -1.182      -1.162      -1.184      -1.147      -1.300      -1.328  \n",
      "             |     0.649       0.656       0.650       0.652       0.650       0.652       0.652       0.666       0.713  \n",
      "g_cons_sho~s |                 0.186                                                                               0.262  \n",
      "             |                 0.164                                                                               0.197  \n",
      "   g_cons_as |                             0.068                                                                   0.080  \n",
      "             |                             0.163                                                                   0.179  \n",
      "g_cons_cha~e |                                        -0.137                                                      -0.233  \n",
      "             |                                         0.178                                                       0.199  \n",
      "g_cons_num~k |                                                    -0.042                                          -0.106  \n",
      "             |                                                     0.191                                           0.233  \n",
      "g_cons_lon~e |                                                                 0.119                               0.176  \n",
      "             |                                                                 0.187                               0.239  \n",
      "g_cons_hil~e |                                                                             0.075                   0.184  \n",
      "             |                                                                             0.153                   0.192  \n",
      "  g_cons_hac |                                                                                        -0.187      -0.366  \n",
      "             |                                                                                         0.151       0.185  \n",
      "       _cons |     0.779       0.821       0.785       0.506       0.807       0.764       0.805       0.701       0.381  \n",
      "             |     2.014       2.027       2.011       2.040       2.016       2.024       2.019       2.018       2.097  \n",
      "-------------+------------------------------------------------------------------------------------------------------------\n",
      "          ll |  -101.614    -100.962    -101.526    -101.318    -101.590    -101.411    -101.492    -100.838     -98.000  \n",
      "--------------------------------------------------------------------------------------------------------------------------\n",
      "                                                                                                              legend: b/se\n"
     ]
    }
   ],
   "source": [
    " estimates table base model1g model2g model3g model4g model5g model6g model7g model8g, b(%9.3f) se(%9.3f) eq(1) stats(ll)"
   ]
  },
  {
   "cell_type": "markdown",
   "metadata": {},
   "source": [
    "---\n",
    "# <font color = blue> 5. All Models\n",
    "---"
   ]
  },
  {
   "cell_type": "code",
   "execution_count": 50,
   "metadata": {},
   "outputs": [
    {
     "name": "stdout",
     "output_type": "stream",
     "text": [
      "\n",
      "--------------------------------------------------------------------------\n",
      "    Variable |     base          model8        model8b        model8g     \n",
      "-------------+------------------------------------------------------------\n",
      "         age |     0.274          0.341          0.203          0.229     \n",
      "      gender |    -0.002          0.012         -0.001          0.182     \n",
      "    marriage |    -0.459         -0.473         -0.490         -0.433     \n",
      "    student1 |     0.345          0.117          0.117          0.721     \n",
      "company_man2 |    -2.067         -2.113         -2.394*        -1.851     \n",
      "public_off~3 |    -0.032         -0.003         -0.117          0.274     \n",
      " profession4 |    -0.040         -0.521         -0.562          0.345     \n",
      " researcher5 |     2.122*         2.272*         2.236*         2.621**   \n",
      "       learn |    -0.055          0.120          0.146         -0.019     \n",
      "      income |     0.028          0.056          0.044          0.042     \n",
      "avg_distance |     0.288**        0.282*         0.345**        0.273*    \n",
      " freq_use_ev |     0.033          0.087         -0.048          0.088     \n",
      " club_kepco2 |    -0.321         -0.488         -0.428         -0.395     \n",
      "  club_jeju3 |    -1.519*        -0.980         -0.736         -1.637*    \n",
      "    ev_owner |     0.738          0.861          0.835          0.776     \n",
      " saving_free |    -1.165*        -1.482**       -1.003         -1.328*    \n",
      "a_cons_sho~s |                    0.020                                   \n",
      "   a_cons_as |                   -0.122                                   \n",
      "a_cons_cha~e |                   -0.270                                   \n",
      "a_cons_num~k |                    0.090                                   \n",
      "a_cons_lon~e |                   -0.116                                   \n",
      "a_cons_hil~e |                    0.242                                   \n",
      "  a_cons_hac |                   -0.417**                                 \n",
      "b_cons_sho~s |                                  -0.317                    \n",
      "   b_cons_as |                                  -0.227                    \n",
      "b_cons_cha~e |                                  -0.192                    \n",
      "b_cons_num~k |                                   0.190                    \n",
      "b_cons_lon~e |                                  -0.293                    \n",
      "  b_cons_hac |                                  -0.178                    \n",
      "b_cons_hil~e |                                   0.087                    \n",
      "g_cons_sho~s |                                                  0.262     \n",
      "   g_cons_as |                                                  0.080     \n",
      "g_cons_cha~e |                                                 -0.233     \n",
      "g_cons_num~k |                                                 -0.106     \n",
      "g_cons_lon~e |                                                  0.176     \n",
      "g_cons_hil~e |                                                  0.184     \n",
      "  g_cons_hac |                                                 -0.366**   \n",
      "       _cons |     0.779          2.039          3.689          0.381     \n",
      "-------------+------------------------------------------------------------\n",
      "          ll |  -101.614        -96.295        -96.385        -98.000     \n",
      "--------------------------------------------------------------------------\n",
      "                                       legend: * p<.1; ** p<.05; *** p<.01\n"
     ]
    }
   ],
   "source": [
    "** all after, before, gap\n",
    "\n",
    "estimates table base model8 model8b model8g, b(%9.3f) star(0.01, 0.05, 0.1) eq(1) stats(ll)"
   ]
  },
  {
   "cell_type": "code",
   "execution_count": 58,
   "metadata": {},
   "outputs": [
    {
     "name": "stdout",
     "output_type": "stream",
     "text": [
      "\n",
      "------------------------------------------------------------------\n",
      "    Variable |    base        model8      model8b      model8g    \n",
      "-------------+----------------------------------------------------\n",
      "         age |  .27433601    .34094403     .2026883    .22885667  \n",
      "      gender | -.00157215    .01158954    -.0008958    .18151741  \n",
      "    marriage | -.45902565   -.47313857   -.48960027   -.43299543  \n",
      "    student1 |  .34500825    .11665415    .11653204    .72069001  \n",
      "company_man2 | -2.0672433   -2.1127671   -2.3938666   -1.8509815  \n",
      "public_off~3 | -.03150926   -.00256859   -.11676944    .27441597  \n",
      " profession4 |  -.0396948   -.52058398   -.56160082    .34528793  \n",
      " researcher5 |   2.121919     2.272473    2.2359377    2.6211054  \n",
      "       learn | -.05483902    .12023159    .14628943   -.01872875  \n",
      "      income |  .02757631    .05603638    .04401357     .0418953  \n",
      "avg_distance |  .28818206    .28246135     .3448247    .27266202  \n",
      " freq_use_ev |  .03332234    .08671765   -.04770056    .08838438  \n",
      " club_kepco2 | -.32075565   -.48827049   -.42786653   -.39524729  \n",
      "  club_jeju3 |  -1.519045    -.9796557     -.736143   -1.6373142  \n",
      "    ev_owner |  .73753837    .86113988    .83510934    .77621517  \n",
      " saving_free | -1.1649292   -1.4821646   -1.0030266   -1.3276617  \n",
      "a_cons_sho~s |               .01985087                            \n",
      "   a_cons_as |              -.12234938                            \n",
      "a_cons_cha~e |              -.27002681                            \n",
      "a_cons_num~k |               .09008368                            \n",
      "a_cons_lon~e |              -.11631595                            \n",
      "a_cons_hil~e |               .24176236                            \n",
      "  a_cons_hac |              -.41722233                            \n",
      "b_cons_sho~s |                           -.31706992               \n",
      "   b_cons_as |                           -.22709594               \n",
      "b_cons_cha~e |                           -.19203069               \n",
      "b_cons_num~k |                            .18976042               \n",
      "b_cons_lon~e |                           -.29254936               \n",
      "  b_cons_hac |                           -.17811429               \n",
      "b_cons_hil~e |                            .08658827               \n",
      "g_cons_sho~s |                                         .26226676  \n",
      "   g_cons_as |                                         .07994249  \n",
      "g_cons_cha~e |                                        -.23344123  \n",
      "g_cons_num~k |                                        -.10577703  \n",
      "g_cons_lon~e |                                         .17590847  \n",
      "g_cons_hil~e |                                         .18425709  \n",
      "  g_cons_hac |                                        -.36580335  \n",
      "       _cons |  .77918613    2.0389122    3.6885104    .38079798  \n",
      "-------------+----------------------------------------------------\n",
      "          ll | -101.61422   -96.295387   -96.384988   -97.999695  \n",
      "------------------------------------------------------------------\n"
     ]
    }
   ],
   "source": [
    "estimates table base model8 model8b model8g, eq(1) stats(ll)"
   ]
  },
  {
   "cell_type": "markdown",
   "metadata": {},
   "source": [
    "---\n",
    "# <font color = blue> 6. Adding saving_free ev_owner: saving_free, researcher, avg_distance_a_cons_hac\n",
    "---"
   ]
  },
  {
   "cell_type": "code",
   "execution_count": 59,
   "metadata": {},
   "outputs": [
    {
     "name": "stdout",
     "output_type": "stream",
     "text": [
      "\n",
      "Iteration 0:   log likelihood = -120.09018  \n",
      "Iteration 1:   log likelihood = -97.234209  \n",
      "Iteration 2:   log likelihood = -96.274852  \n",
      "Iteration 3:   log likelihood = -96.261024  \n",
      "Iteration 4:   log likelihood = -96.260986  \n",
      "Iteration 5:   log likelihood = -96.260986  \n",
      "\n",
      "Logistic regression                             Number of obs     =        184\n",
      "                                                LR chi2(24)       =      47.66\n",
      "                                                Prob > chi2       =     0.0028\n",
      "Log likelihood = -96.260986                     Pseudo R2         =     0.1984\n",
      "\n",
      "-----------------------------------------------------------------------------------------\n",
      "                      y |      Coef.   Std. Err.      z    P>|z|     [95% Conf. Interval]\n",
      "------------------------+----------------------------------------------------------------\n",
      "                    age |   .3629497   .3302146     1.10   0.272     -.284259    1.010158\n",
      "                 gender |   .0124888   .5355025     0.02   0.981    -1.037077    1.062054\n",
      "               marriage |  -.4928449   .5053574    -0.98   0.329    -1.483327    .4976374\n",
      "               student1 |   .1239182   1.122806     0.11   0.912    -2.076741    2.324577\n",
      "           company_man2 |  -2.114302   1.415544    -1.49   0.135    -4.888717    .6601121\n",
      "        public_officer3 |   .0051224   .7533639     0.01   0.995    -1.471444    1.481689\n",
      "            profession4 |  -.4883932   1.077669    -0.45   0.650    -2.600587      1.6238\n",
      "            researcher5 |   2.270901   1.291126     1.76   0.079    -.2596602    4.801462\n",
      "                  learn |   .1275357    .434142     0.29   0.769    -.7233669    .9784383\n",
      "                 income |   .0570577   .1669668     0.34   0.733    -.2701912    .3843067\n",
      "           avg_distance |   .2882062   .1561855     1.85   0.065    -.0179117    .5943241\n",
      "            freq_use_ev |   .0853563   .1781081     0.48   0.632    -.2637292    .4344418\n",
      "            club_kepco2 |  -.4980306   .5175859    -0.96   0.336     -1.51248    .5164191\n",
      "             club_jeju3 |  -.9674553   .9410337    -1.03   0.304    -2.811848     .876937\n",
      "       a_cons_short_dis |   .0227753   .1987913     0.11   0.909    -.3668486    .4123991\n",
      "              a_cons_as |  -.1157006   .1879134    -0.62   0.538    -.4840041    .2526029\n",
      "      a_cons_charge_fee |  -.2705911   .1909555    -1.42   0.156    -.6448569    .1036747\n",
      " a_cons_num_charge_lack |   .0842318   .2368417     0.36   0.722    -.3799694    .5484329\n",
      "a_cons_long_charge_time |  -.1182191     .23553    -0.50   0.616    -.5798494    .3434111\n",
      "       a_cons_hill_ride |   .2468817   .1939714     1.27   0.203    -.1332953    .6270586\n",
      "             a_cons_hac |  -.4192161   .1807688    -2.32   0.020    -.7735164   -.0649157\n",
      "                num_car |  -.0945288   .3604843    -0.26   0.793    -.8010651    .6120074\n",
      "            saving_free |  -1.475505   .6878524    -2.15   0.032    -2.823671   -.1273392\n",
      "               ev_owner |   .9014288   .6855678     1.31   0.189    -.4422595    2.245117\n",
      "                  _cons |   2.012862   2.382101     0.84   0.398     -2.65597    6.681694\n",
      "-----------------------------------------------------------------------------------------\n"
     ]
    }
   ],
   "source": [
    "logit y age gender marriage student1 company_man2 public_officer3 profession4 researcher5 learn income avg_distance freq_use_ev club_kepco2 club_jeju3 a_cons_short_dis a_cons_as a_cons_charge_fee a_cons_num_charge_lack a_cons_long_charge_time a_cons_hill_ride a_cons_hac num_car saving_free ev_owner"
   ]
  },
  {
   "cell_type": "markdown",
   "metadata": {},
   "source": [
    "---\n",
    "# <font color = blue> 7. Order probit with after concern \n",
    "---"
   ]
  },
  {
   "cell_type": "code",
   "execution_count": 105,
   "metadata": {},
   "outputs": [
    {
     "name": "stdout",
     "output_type": "stream",
     "text": [
      "\n",
      "\n",
      "Ordered probit regression                       Number of obs     =        184\n",
      "                                                LR chi2(16)       =      30.86\n",
      "                                                Prob > chi2       =     0.0140\n",
      "Log likelihood =  -273.5551                     Pseudo R2         =     0.0534\n",
      "\n",
      "---------------------------------------------------------------------------------\n",
      "     a_cons_hac |      Coef.   Std. Err.      z    P>|z|     [95% Conf. Interval]\n",
      "----------------+----------------------------------------------------------------\n",
      "            age |   .0193158   .1335208     0.14   0.885    -.2423801    .2810118\n",
      "         gender |   .2252427   .2451132     0.92   0.358    -.2551703    .7056557\n",
      "       marriage |  -.0051852   .2146371    -0.02   0.981    -.4258661    .4154958\n",
      "       student1 |  -1.087608   .4994205    -2.18   0.029    -2.066454   -.1087614\n",
      "   company_man2 |  -.1792572   .5701841    -0.31   0.753    -1.296798    .9382831\n",
      "public_officer3 |  -.0551998   .3505375    -0.16   0.875    -.7422408    .6318411\n",
      "    profession4 |  -.7591568   .4781145    -1.59   0.112    -1.696244    .1779303\n",
      "    researcher5 |   .0303194   .4160135     0.07   0.942     -.785052    .8456908\n",
      "          learn |   .1232284    .187602     0.66   0.511    -.2444648    .4909216\n",
      "         income |  -.0304647   .0695175    -0.44   0.661    -.1667166    .1057872\n",
      "   avg_distance |  -.0388748   .0617486    -0.63   0.529    -.1598998    .0821502\n",
      "    freq_use_ev |   .0569555   .0794123     0.72   0.473    -.0986898    .2126008\n",
      "    club_kepco2 |   -.350661   .2093773    -1.67   0.094     -.761033    .0597109\n",
      "     club_jeju3 |   .7324936   .3939428     1.86   0.063    -.0396201    1.504607\n",
      "       ev_owner |  -.2192649    .282639    -0.78   0.438    -.7732272    .3346973\n",
      "    saving_free |  -.6457005   .2827903    -2.28   0.022    -1.199959   -.0914416\n",
      "----------------+----------------------------------------------------------------\n",
      "          /cut1 |  -1.447614   .9174344                     -3.245752    .3505247\n",
      "          /cut2 |  -.8835114   .9124277                     -2.671837    .9048141\n",
      "          /cut3 |  -.1009843   .9130668                     -1.890562    1.688594\n",
      "          /cut4 |   .7302089   .9157855                     -1.064698    2.525116\n",
      "---------------------------------------------------------------------------------\n",
      "\n"
     ]
    }
   ],
   "source": [
    "oprobit a_cons_hac age gender marriage student1 company_man2 public_officer3 profession4 researcher5 learn income avg_distance freq_use_ev club_kepco2 club_jeju3 ev_owner saving_free, nolog \n",
    "estimates store base_o"
   ]
  },
  {
   "cell_type": "code",
   "execution_count": 107,
   "metadata": {},
   "outputs": [
    {
     "name": "stdout",
     "output_type": "stream",
     "text": [
      "\n",
      "\n",
      "Ordered probit regression                       Number of obs     =        184\n",
      "                                                LR chi2(17)       =      49.70\n",
      "                                                Prob > chi2       =     0.0000\n",
      "Log likelihood = -264.13723                     Pseudo R2         =     0.0860\n",
      "\n",
      "----------------------------------------------------------------------------------\n",
      "      a_cons_hac |      Coef.   Std. Err.      z    P>|z|     [95% Conf. Interval]\n",
      "-----------------+----------------------------------------------------------------\n",
      "             age |   .0476201     .13472     0.35   0.724    -.2164263    .3116666\n",
      "          gender |   .1516266   .2469204     0.61   0.539    -.3323285    .6355816\n",
      "        marriage |  -.0357915   .2159372    -0.17   0.868    -.4590205    .3874375\n",
      "        student1 |  -.9823696   .5065341    -1.94   0.052    -1.975158     .010419\n",
      "    company_man2 |  -.2091682   .5759609    -0.36   0.716    -1.338031    .9196944\n",
      " public_officer3 |  -.1636229   .3565879    -0.46   0.646    -.8625223    .5352765\n",
      "     profession4 |   -.708426   .4832607    -1.47   0.143      -1.6556    .2387476\n",
      "     researcher5 |  -.1075994   .4225526    -0.25   0.799    -.9357873    .7205886\n",
      "           learn |   .0300777   .1900417     0.16   0.874    -.3423972    .4025526\n",
      "          income |  -.0423257   .0699893    -0.60   0.545    -.1795023    .0948508\n",
      "    avg_distance |  -.0769654   .0629608    -1.22   0.222    -.2003663    .0464355\n",
      "     freq_use_ev |   .1013926   .0804176     1.26   0.207    -.0562229    .2590082\n",
      "     club_kepco2 |  -.3769933   .2116844    -1.78   0.075    -.7918872    .0379005\n",
      "      club_jeju3 |   .3570484   .4049025     0.88   0.378    -.4365459    1.150643\n",
      "        ev_owner |  -.3339194   .2880276    -1.16   0.246    -.8984431    .2306043\n",
      "     saving_free |  -.6694244    .284287    -2.35   0.019    -1.226617   -.1122321\n",
      "a_cons_short_dis |   .3424568    .079615     4.30   0.000     .1864141    .4984994\n",
      "-----------------+----------------------------------------------------------------\n",
      "           /cut1 |  -.7451142   .9367482                     -2.581107    1.090879\n",
      "           /cut2 |  -.1601609    .932689                     -1.988198    1.667876\n",
      "           /cut3 |   .6664903   .9356071                     -1.167266    2.500247\n",
      "           /cut4 |    1.56161   .9420478                     -.2847696     3.40799\n",
      "----------------------------------------------------------------------------------\n",
      "\n"
     ]
    }
   ],
   "source": [
    "oprobit a_cons_hac age gender marriage student1 company_man2 public_officer3 profession4 researcher5 learn income avg_distance freq_use_ev club_kepco2 club_jeju3 ev_owner saving_free a_cons_short_dis, nolog\n",
    "estimates store model1o"
   ]
  },
  {
   "cell_type": "code",
   "execution_count": 108,
   "metadata": {},
   "outputs": [
    {
     "name": "stdout",
     "output_type": "stream",
     "text": [
      "\n",
      "\n",
      "Ordered probit regression                       Number of obs     =        184\n",
      "                                                LR chi2(17)       =      49.48\n",
      "                                                Prob > chi2       =     0.0001\n",
      "Log likelihood = -264.24296                     Pseudo R2         =     0.0856\n",
      "\n",
      "---------------------------------------------------------------------------------\n",
      "     a_cons_hac |      Coef.   Std. Err.      z    P>|z|     [95% Conf. Interval]\n",
      "----------------+----------------------------------------------------------------\n",
      "            age |    .021909   .1346898     0.16   0.871    -.2420781    .2858961\n",
      "         gender |    .339882   .2478069     1.37   0.170    -.1458105    .8255745\n",
      "       marriage |  -.0282188   .2157366    -0.13   0.896    -.4510549    .3946172\n",
      "       student1 |  -1.149105   .5046309    -2.28   0.023    -2.138163   -.1600462\n",
      "   company_man2 |  -.2415778   .5705992    -0.42   0.672    -1.359932    .8767762\n",
      "public_officer3 |   .0280853   .3524513     0.08   0.936    -.6627065    .7188771\n",
      "    profession4 |  -.5291275   .4849322    -1.09   0.275    -1.479577    .4213222\n",
      "    researcher5 |  -.1380242   .4201746    -0.33   0.743    -.9615513    .6855029\n",
      "          learn |   .0208782   .1901765     0.11   0.913    -.3518609    .3936174\n",
      "         income |  -.0450142   .0701496    -0.64   0.521     -.182505    .0924766\n",
      "   avg_distance |  -.0590368    .062543    -0.94   0.345    -.1816187    .0635452\n",
      "    freq_use_ev |    .074464   .0800774     0.93   0.352    -.0824848    .2314129\n",
      "    club_kepco2 |  -.2934569    .210979    -1.39   0.164    -.7069681    .1200542\n",
      "     club_jeju3 |   .2707617   .4114885     0.66   0.511     -.535741    1.077264\n",
      "       ev_owner |  -.3225697   .2882639    -1.12   0.263    -.8875566    .2424173\n",
      "    saving_free |  -.6124878   .2850482    -2.15   0.032    -1.171172   -.0538035\n",
      "      a_cons_as |   .3353655   .0781944     4.29   0.000     .1821072    .4886237\n",
      "----------------+----------------------------------------------------------------\n",
      "          /cut1 |  -.6910179   .9397389                     -2.532872    1.150837\n",
      "          /cut2 |  -.0818969   .9364266                     -1.917259    1.753466\n",
      "          /cut3 |   .7540316   .9401738                     -1.088675    2.596738\n",
      "          /cut4 |   1.617034   .9442981                     -.2337562    3.467824\n",
      "---------------------------------------------------------------------------------\n",
      "\n"
     ]
    }
   ],
   "source": [
    "oprobit a_cons_hac age gender marriage student1 company_man2 public_officer3 profession4 researcher5 learn income avg_distance freq_use_ev club_kepco2 club_jeju3 ev_owner saving_free a_cons_as, nolog\n",
    "estimates store model2o"
   ]
  },
  {
   "cell_type": "code",
   "execution_count": 111,
   "metadata": {},
   "outputs": [
    {
     "name": "stdout",
     "output_type": "stream",
     "text": [
      "\n",
      "\n",
      "Ordered probit regression                       Number of obs     =        184\n",
      "                                                LR chi2(17)       =      41.31\n",
      "                                                Prob > chi2       =     0.0008\n",
      "Log likelihood = -268.32914                     Pseudo R2         =     0.0715\n",
      "\n",
      "-----------------------------------------------------------------------------------\n",
      "       a_cons_hac |      Coef.   Std. Err.      z    P>|z|     [95% Conf. Interval]\n",
      "------------------+----------------------------------------------------------------\n",
      "              age |   .0023896   .1341525     0.02   0.986    -.2605445    .2653238\n",
      "           gender |   .2459328   .2462188     1.00   0.318    -.2366473    .7285129\n",
      "         marriage |  -.0584164   .2158698    -0.27   0.787    -.4815135    .3646807\n",
      "         student1 |  -1.256179   .5061572    -2.48   0.013    -2.248229   -.2641291\n",
      "     company_man2 |  -.3416472   .5751743    -0.59   0.553    -1.468968    .7856737\n",
      "  public_officer3 |  -.1301732   .3524195    -0.37   0.712    -.8209027    .5605564\n",
      "      profession4 |  -.7490625   .4801292    -1.56   0.119    -1.690098    .1919733\n",
      "      researcher5 |  -.1928127   .4237554    -0.46   0.649    -1.023358    .6377326\n",
      "            learn |   .1348414   .1877873     0.72   0.473    -.2332149    .5028978\n",
      "           income |    -.05282   .0700356    -0.75   0.451    -.1900871    .0844472\n",
      "     avg_distance |   .0029035   .0632074     0.05   0.963    -.1209808    .1267878\n",
      "      freq_use_ev |   .0189905   .0803769     0.24   0.813    -.1385454    .1765263\n",
      "      club_kepco2 |  -.2978463   .2103857    -1.42   0.157    -.7101946     .114502\n",
      "       club_jeju3 |   .6191356   .3966316     1.56   0.119    -.1582481    1.396519\n",
      "         ev_owner |  -.3381333   .2863774    -1.18   0.238    -.8994228    .2231562\n",
      "      saving_free |  -.5893236   .2847271    -2.07   0.038    -1.147379   -.0312687\n",
      "a_cons_charge_fee |   .2510794    .077887     3.22   0.001     .0984236    .4037351\n",
      "------------------+----------------------------------------------------------------\n",
      "            /cut1 |  -.8604716   .9369197                       -2.6968    .9758571\n",
      "            /cut2 |  -.2776548   .9327943                     -2.105898    1.550588\n",
      "            /cut3 |   .5297261   .9351094                     -1.303055    2.362507\n",
      "            /cut4 |   1.385753    .940122                     -.4568524    3.228358\n",
      "-----------------------------------------------------------------------------------\n",
      "\n"
     ]
    }
   ],
   "source": [
    "oprobit a_cons_hac age gender marriage student1 company_man2 public_officer3 profession4 researcher5 learn income avg_distance freq_use_ev club_kepco2 club_jeju3 ev_owner saving_free a_cons_charge_fee, nolog\n",
    "estimates store model3o"
   ]
  },
  {
   "cell_type": "code",
   "execution_count": 112,
   "metadata": {},
   "outputs": [
    {
     "name": "stdout",
     "output_type": "stream",
     "text": [
      "\n",
      "\n",
      "Ordered probit regression                       Number of obs     =        184\n",
      "                                                LR chi2(17)       =      38.23\n",
      "                                                Prob > chi2       =     0.0023\n",
      "Log likelihood =   -269.868                     Pseudo R2         =     0.0662\n",
      "\n",
      "----------------------------------------------------------------------------------------\n",
      "            a_cons_hac |      Coef.   Std. Err.      z    P>|z|     [95% Conf. Interval]\n",
      "-----------------------+----------------------------------------------------------------\n",
      "                   age |   .0448945   .1346036     0.33   0.739    -.2189237    .3087128\n",
      "                gender |   .1741649   .2464957     0.71   0.480    -.3089578    .6572876\n",
      "              marriage |   .0059454   .2151953     0.03   0.978    -.4158296    .4277204\n",
      "              student1 |  -1.193501   .5057725    -2.36   0.018    -2.184797    -.202205\n",
      "          company_man2 |  -.2982034   .5720645    -0.52   0.602    -1.419429    .8230224\n",
      "       public_officer3 |  -.1355667    .354238    -0.38   0.702    -.8298605    .5587271\n",
      "           profession4 |  -.6805147   .4818774    -1.41   0.158    -1.624977    .2639475\n",
      "           researcher5 |  -.1580234   .4241305    -0.37   0.709    -.9893038     .673257\n",
      "                 learn |   .1744494   .1892681     0.92   0.357    -.1965092    .5454079\n",
      "                income |  -.0393605   .0699728    -0.56   0.574    -.1765046    .0977836\n",
      "          avg_distance |  -.0394155   .0621015    -0.63   0.526    -.1611322    .0823013\n",
      "           freq_use_ev |   .0720974   .0798334     0.90   0.366    -.0843733    .2285681\n",
      "           club_kepco2 |  -.3539926   .2103668    -1.68   0.092    -.7663039    .0583186\n",
      "            club_jeju3 |   .6289367   .3975605     1.58   0.114    -.1502676    1.408141\n",
      "              ev_owner |  -.2282124   .2855534    -0.80   0.424    -.7878869    .3314621\n",
      "           saving_free |   -.687157   .2840442    -2.42   0.016    -1.243873   -.1304406\n",
      "a_cons_num_charge_lack |    .227926   .0844809     2.70   0.007     .0623465    .3935055\n",
      "-----------------------+----------------------------------------------------------------\n",
      "                 /cut1 |  -.4327605   .9944531                     -2.381853    1.516332\n",
      "                 /cut2 |   .1445232   .9915191                     -1.798818    2.087865\n",
      "                 /cut3 |   .9394855   .9939963                     -1.008711    2.887683\n",
      "                 /cut4 |   1.788761   .9995371                     -.1702957    3.747818\n",
      "----------------------------------------------------------------------------------------\n",
      "\n"
     ]
    }
   ],
   "source": [
    "oprobit a_cons_hac age gender marriage student1 company_man2 public_officer3 profession4 researcher5 learn income avg_distance freq_use_ev club_kepco2 club_jeju3 ev_owner saving_free a_cons_num_charge_lack, nolog\n",
    "estimates store model4o"
   ]
  },
  {
   "cell_type": "code",
   "execution_count": 113,
   "metadata": {},
   "outputs": [
    {
     "name": "stdout",
     "output_type": "stream",
     "text": [
      "\n",
      "\n",
      "Ordered probit regression                       Number of obs     =        184\n",
      "                                                LR chi2(17)       =      45.26\n",
      "                                                Prob > chi2       =     0.0002\n",
      "Log likelihood = -266.35774                     Pseudo R2         =     0.0783\n",
      "\n",
      "-----------------------------------------------------------------------------------------\n",
      "             a_cons_hac |      Coef.   Std. Err.      z    P>|z|     [95% Conf. Interval]\n",
      "------------------------+----------------------------------------------------------------\n",
      "                    age |  -.0268341   .1356328    -0.20   0.843    -.2926695    .2390013\n",
      "                 gender |   .2431912    .245688     0.99   0.322    -.2383483    .7247308\n",
      "               marriage |   .0498201   .2162127     0.23   0.818    -.3739489    .4735892\n",
      "               student1 |  -1.072238   .5064514    -2.12   0.034    -2.064865   -.0796115\n",
      "           company_man2 |  -.3108391   .5758247    -0.54   0.589    -1.439435    .8177566\n",
      "        public_officer3 |  -.0361556   .3546343    -0.10   0.919    -.7312261    .6589148\n",
      "            profession4 |  -.4738505   .4881577    -0.97   0.332    -1.430622     .482921\n",
      "            researcher5 |   .1032184   .4211238     0.25   0.806     -.722169    .9286059\n",
      "                  learn |   .0991077   .1887757     0.53   0.600    -.2708859    .4691013\n",
      "                 income |  -.0534327   .0703902    -0.76   0.448     -.191395    .0845296\n",
      "           avg_distance |  -.0323443   .0622331    -0.52   0.603    -.1543189    .0896303\n",
      "            freq_use_ev |   .0840561   .0800744     1.05   0.294    -.0728868     .240999\n",
      "            club_kepco2 |  -.3622683   .2110058    -1.72   0.086    -.7758322    .0512955\n",
      "             club_jeju3 |   .4255146   .4043525     1.05   0.293    -.3670017    1.218031\n",
      "               ev_owner |  -.3579023   .2909951    -1.23   0.219    -.9282422    .2124376\n",
      "            saving_free |  -.7204855   .2840387    -2.54   0.011    -1.277191   -.1637798\n",
      "a_cons_long_charge_time |   .3282766   .0875837     3.75   0.000     .1566158    .4999374\n",
      "------------------------+----------------------------------------------------------------\n",
      "                  /cut1 |  -.3796515   .9623699                     -2.265862    1.506559\n",
      "                  /cut2 |   .2128966   .9595997                     -1.667884    2.093678\n",
      "                  /cut3 |   1.018147    .962222                     -.8677733    2.904068\n",
      "                  /cut4 |   1.883774   .9682445                     -.0139506    3.781498\n",
      "-----------------------------------------------------------------------------------------\n",
      "\n"
     ]
    }
   ],
   "source": [
    "oprobit a_cons_hac age gender marriage student1 company_man2 public_officer3 profession4 researcher5 learn income avg_distance freq_use_ev club_kepco2 club_jeju3 ev_owner saving_free a_cons_long_charge_time, nolog\n",
    "estimates store model5o"
   ]
  },
  {
   "cell_type": "code",
   "execution_count": 114,
   "metadata": {},
   "outputs": [
    {
     "name": "stdout",
     "output_type": "stream",
     "text": [
      "\n",
      "\n",
      "Ordered probit regression                       Number of obs     =        184\n",
      "                                                LR chi2(17)       =      72.63\n",
      "                                                Prob > chi2       =     0.0000\n",
      "Log likelihood =  -252.6716                     Pseudo R2         =     0.1257\n",
      "\n",
      "----------------------------------------------------------------------------------\n",
      "      a_cons_hac |      Coef.   Std. Err.      z    P>|z|     [95% Conf. Interval]\n",
      "-----------------+----------------------------------------------------------------\n",
      "             age |   -.065919   .1358715    -0.49   0.628    -.3322222    .2003842\n",
      "          gender |   .3072282   .2492903     1.23   0.218    -.1813718    .7958283\n",
      "        marriage |  -.0860804   .2170671    -0.40   0.692     -.511524    .3393633\n",
      "        student1 |  -.9315159   .5132601    -1.81   0.070    -1.937487    .0744553\n",
      "    company_man2 |   .2874129   .5769876     0.50   0.618     -.843462    1.418288\n",
      " public_officer3 |   .0721076   .3573309     0.20   0.840    -.6282481    .7724633\n",
      "     profession4 |  -.6292245   .4869168    -1.29   0.196    -1.583564    .3251148\n",
      "     researcher5 |  -.0501436   .4248855    -0.12   0.906    -.8829039    .7826166\n",
      "           learn |   .2087124    .189856     1.10   0.272    -.1633986    .5808233\n",
      "          income |  -.0169526   .0703652    -0.24   0.810    -.1548659    .1209607\n",
      "    avg_distance |   .0562462   .0644972     0.87   0.383    -.0701659    .1826583\n",
      "     freq_use_ev |   .0381084   .0807581     0.47   0.637    -.1201745    .1963914\n",
      "     club_kepco2 |  -.2388172   .2128758    -1.12   0.262    -.6560461    .1784118\n",
      "      club_jeju3 |   .7121309   .4006752     1.78   0.076    -.0731781     1.49744\n",
      "        ev_owner |  -.1625402   .2868303    -0.57   0.571    -.7247172    .3996368\n",
      "     saving_free |  -.4865719   .2892473    -1.68   0.093    -1.053486    .0803423\n",
      "a_cons_hill_ride |   .4984604   .0782516     6.37   0.000       .34509    .6518308\n",
      "-----------------+----------------------------------------------------------------\n",
      "           /cut1 |   .4357244   .9724344                     -1.470212    2.341661\n",
      "           /cut2 |   1.112747   .9726127                     -.7935388    3.019033\n",
      "           /cut3 |   2.008472   .9796111                      .0884692    3.928474\n",
      "           /cut4 |   2.913437   .9870437                      .9788667    4.848007\n",
      "----------------------------------------------------------------------------------\n",
      "\n"
     ]
    }
   ],
   "source": [
    "oprobit a_cons_hac age gender marriage student1 company_man2 public_officer3 profession4 researcher5 learn income avg_distance freq_use_ev club_kepco2 club_jeju3 ev_owner saving_free a_cons_hill_ride, nolog\n",
    "estimates store model6o"
   ]
  },
  {
   "cell_type": "code",
   "execution_count": 115,
   "metadata": {},
   "outputs": [
    {
     "name": "stdout",
     "output_type": "stream",
     "text": [
      "\n",
      "\n",
      "Ordered probit regression                       Number of obs     =        184\n",
      "                                                LR chi2(22)       =     102.58\n",
      "                                                Prob > chi2       =     0.0000\n",
      "Log likelihood = -237.69745                     Pseudo R2         =     0.1775\n",
      "\n",
      "-----------------------------------------------------------------------------------------\n",
      "             a_cons_hac |      Coef.   Std. Err.      z    P>|z|     [95% Conf. Interval]\n",
      "------------------------+----------------------------------------------------------------\n",
      "                    age |  -.0663047   .1403809    -0.47   0.637    -.3414462    .2088367\n",
      "                 gender |   .2925407   .2543287     1.15   0.250    -.2059344    .7910157\n",
      "               marriage |  -.0980792   .2209631    -0.44   0.657    -.5311589    .3350005\n",
      "               student1 |  -.9877176   .5341539    -1.85   0.064     -2.03464    .0592048\n",
      "           company_man2 |   .0647339   .5919135     0.11   0.913    -1.095395    1.224863\n",
      "        public_officer3 |   .0045556   .3693792     0.01   0.990    -.7194144    .7285256\n",
      "            profession4 |  -.3540248   .5059288    -0.70   0.484    -1.345627    .6375774\n",
      "            researcher5 |  -.2731522   .4500121    -0.61   0.544     -1.15516    .6088552\n",
      "                  learn |   .0346491   .1993359     0.17   0.862     -.356042    .4253403\n",
      "                 income |  -.0485727   .0721581    -0.67   0.501    -.1899999    .0928546\n",
      "           avg_distance |   .0089097   .0681372     0.13   0.896    -.1246367    .1424561\n",
      "            freq_use_ev |   .0927793   .0840078     1.10   0.269    -.0718731    .2574316\n",
      "            club_kepco2 |  -.2301891    .218003    -1.06   0.291    -.6574672     .197089\n",
      "             club_jeju3 |   -.042817   .4337113    -0.10   0.921    -.8928756    .8072415\n",
      "               ev_owner |  -.4781744   .3061431    -1.56   0.118    -1.078204     .121855\n",
      "            saving_free |  -.5358841   .2931692    -1.83   0.068    -1.110485    .0387169\n",
      "       a_cons_short_dis |   .3075773   .0892657     3.45   0.001     .1326198    .4825348\n",
      "              a_cons_as |   .1939402   .0843389     2.30   0.021     .0286389    .3592415\n",
      "      a_cons_charge_fee |    .079908   .0853424     0.94   0.349    -.0873601    .2471761\n",
      " a_cons_num_charge_lack |  -.0004226   .1079322    -0.00   0.997    -.2119658    .2111206\n",
      "a_cons_long_charge_time |   .1561252   .1075668     1.45   0.147    -.0547018    .3669522\n",
      "       a_cons_hill_ride |   .4296546   .0852005     5.04   0.000     .2626647    .5966445\n",
      "------------------------+----------------------------------------------------------------\n",
      "                  /cut1 |   1.855978   1.058428                     -.2185038    3.930459\n",
      "                  /cut2 |   2.590308    1.06203                      .5087685    4.671848\n",
      "                  /cut3 |   3.569183   1.073202                      1.465745    5.672621\n",
      "                  /cut4 |    4.57188   1.086823                      2.441745    6.702014\n",
      "-----------------------------------------------------------------------------------------\n",
      "\n"
     ]
    }
   ],
   "source": [
    "oprobit a_cons_hac age gender marriage student1 company_man2 public_officer3 profession4 researcher5 learn income avg_distance freq_use_ev club_kepco2 club_jeju3 ev_owner saving_free a_cons_short_dis a_cons_as a_cons_charge_fee a_cons_num_charge_lack a_cons_long_charge_time a_cons_hill_ride, nolog\n",
    "estimates store model7oall"
   ]
  },
  {
   "cell_type": "markdown",
   "metadata": {},
   "source": [
    "---\n",
    "# Ordered Probit: Predicted and Marginal Analysis\n",
    "---\n",
    "* saving_free\n",
    "* a_cons_short\n",
    "* a_cons_as\n",
    "* a_cons_hill_ride\n",
    "---"
   ]
  },
  {
   "cell_type": "code",
   "execution_count": 168,
   "metadata": {},
   "outputs": [
    {
     "name": "stdout",
     "output_type": "stream",
     "text": [
      "\n",
      "\n",
      "\n",
      "Adjusted predictions                            Number of obs     =        184\n",
      "Model VCE    : OIM\n",
      "\n",
      "Expression   : Pr(a_cons_hac==1), predict(outcome(1))\n",
      "at           : age             =    2.326087 (mean)\n",
      "               gender          =     .798913 (mean)\n",
      "               marriage        =    .3967391 (mean)\n",
      "               student1        =    .0543478 (mean)\n",
      "               company_man2    =    .0271739 (mean)\n",
      "               public_off~3    =    .4836957 (mean)\n",
      "               profession4     =    .2771739 (mean)\n",
      "               researcher5     =    .0923913 (mean)\n",
      "               learn           =    3.217391 (mean)\n",
      "               income          =    2.298913 (mean)\n",
      "               avg_distance    =    3.293478 (mean)\n",
      "               freq_use_ev     =    3.119565 (mean)\n",
      "               club_kepco2     =    .5217391 (mean)\n",
      "               club_jeju3      =    .2771739 (mean)\n",
      "               ev_owner        =    .0978261 (mean)\n",
      "               saving_free     =    .8913043 (mean)\n",
      "               a_cons_sho~s    =    3.733696 (mean)\n",
      "               a_cons_as       =    3.315217 (mean)\n",
      "               a_cons_cha~e    =    2.771739 (mean)\n",
      "               a_cons_num~k    =    4.108696 (mean)\n",
      "               a_cons_lon~e    =    3.913043 (mean)\n",
      "               a_cons_hil~e    =    2.717391 (mean)\n",
      "\n",
      "------------------------------------------------------------------------------\n",
      "             |            Delta-method\n",
      "             |     Margin   Std. Err.      z    P>|z|     [95% Conf. Interval]\n",
      "-------------+----------------------------------------------------------------\n",
      "       _cons |   .0716941   .0196766     3.64   0.000     .0331286    .1102595\n",
      "------------------------------------------------------------------------------\n",
      "\n",
      "\n",
      "Adjusted predictions                            Number of obs     =        184\n",
      "Model VCE    : OIM\n",
      "\n",
      "Expression   : Pr(a_cons_hac==2), predict(outcome(2))\n",
      "at           : age             =    2.326087 (mean)\n",
      "               gender          =     .798913 (mean)\n",
      "               marriage        =    .3967391 (mean)\n",
      "               student1        =    .0543478 (mean)\n",
      "               company_man2    =    .0271739 (mean)\n",
      "               public_off~3    =    .4836957 (mean)\n",
      "               profession4     =    .2771739 (mean)\n",
      "               researcher5     =    .0923913 (mean)\n",
      "               learn           =    3.217391 (mean)\n",
      "               income          =    2.298913 (mean)\n",
      "               avg_distance    =    3.293478 (mean)\n",
      "               freq_use_ev     =    3.119565 (mean)\n",
      "               club_kepco2     =    .5217391 (mean)\n",
      "               club_jeju3      =    .2771739 (mean)\n",
      "               ev_owner        =    .0978261 (mean)\n",
      "               saving_free     =    .8913043 (mean)\n",
      "               a_cons_sho~s    =    3.733696 (mean)\n",
      "               a_cons_as       =    3.315217 (mean)\n",
      "               a_cons_cha~e    =    2.771739 (mean)\n",
      "               a_cons_num~k    =    4.108696 (mean)\n",
      "               a_cons_lon~e    =    3.913043 (mean)\n",
      "               a_cons_hil~e    =    2.717391 (mean)\n",
      "\n",
      "------------------------------------------------------------------------------\n",
      "             |            Delta-method\n",
      "             |     Margin   Std. Err.      z    P>|z|     [95% Conf. Interval]\n",
      "-------------+----------------------------------------------------------------\n",
      "       _cons |   .1613192   .0296938     5.43   0.000     .1031204     .219518\n",
      "------------------------------------------------------------------------------\n",
      "\n",
      "\n",
      "Adjusted predictions                            Number of obs     =        184\n",
      "Model VCE    : OIM\n",
      "\n",
      "Expression   : Pr(a_cons_hac==3), predict(outcome(3))\n",
      "at           : age             =    2.326087 (mean)\n",
      "               gender          =     .798913 (mean)\n",
      "               marriage        =    .3967391 (mean)\n",
      "               student1        =    .0543478 (mean)\n",
      "               company_man2    =    .0271739 (mean)\n",
      "               public_off~3    =    .4836957 (mean)\n",
      "               profession4     =    .2771739 (mean)\n",
      "               researcher5     =    .0923913 (mean)\n",
      "               learn           =    3.217391 (mean)\n",
      "               income          =    2.298913 (mean)\n",
      "               avg_distance    =    3.293478 (mean)\n",
      "               freq_use_ev     =    3.119565 (mean)\n",
      "               club_kepco2     =    .5217391 (mean)\n",
      "               club_jeju3      =    .2771739 (mean)\n",
      "               ev_owner        =    .0978261 (mean)\n",
      "               saving_free     =    .8913043 (mean)\n",
      "               a_cons_sho~s    =    3.733696 (mean)\n",
      "               a_cons_as       =    3.315217 (mean)\n",
      "               a_cons_cha~e    =    2.771739 (mean)\n",
      "               a_cons_num~k    =    4.108696 (mean)\n",
      "               a_cons_lon~e    =    3.913043 (mean)\n",
      "               a_cons_hil~e    =    2.717391 (mean)\n",
      "\n",
      "------------------------------------------------------------------------------\n",
      "             |            Delta-method\n",
      "             |     Margin   Std. Err.      z    P>|z|     [95% Conf. Interval]\n",
      "-------------+----------------------------------------------------------------\n",
      "       _cons |   .3656603   .0418513     8.74   0.000     .2836334    .4476873\n",
      "------------------------------------------------------------------------------\n",
      "\n",
      "\n",
      "Adjusted predictions                            Number of obs     =        184\n",
      "Model VCE    : OIM\n",
      "\n",
      "Expression   : Pr(a_cons_hac==4), predict(outcome(4))\n",
      "at           : age             =    2.326087 (mean)\n",
      "               gender          =     .798913 (mean)\n",
      "               marriage        =    .3967391 (mean)\n",
      "               student1        =    .0543478 (mean)\n",
      "               company_man2    =    .0271739 (mean)\n",
      "               public_off~3    =    .4836957 (mean)\n",
      "               profession4     =    .2771739 (mean)\n",
      "               researcher5     =    .0923913 (mean)\n",
      "               learn           =    3.217391 (mean)\n",
      "               income          =    2.298913 (mean)\n",
      "               avg_distance    =    3.293478 (mean)\n",
      "               freq_use_ev     =    3.119565 (mean)\n",
      "               club_kepco2     =    .5217391 (mean)\n",
      "               club_jeju3      =    .2771739 (mean)\n",
      "               ev_owner        =    .0978261 (mean)\n",
      "               saving_free     =    .8913043 (mean)\n",
      "               a_cons_sho~s    =    3.733696 (mean)\n",
      "               a_cons_as       =    3.315217 (mean)\n",
      "               a_cons_cha~e    =    2.771739 (mean)\n",
      "               a_cons_num~k    =    4.108696 (mean)\n",
      "               a_cons_lon~e    =    3.913043 (mean)\n",
      "               a_cons_hil~e    =    2.717391 (mean)\n",
      "\n",
      "------------------------------------------------------------------------------\n",
      "             |            Delta-method\n",
      "             |     Margin   Std. Err.      z    P>|z|     [95% Conf. Interval]\n",
      "-------------+----------------------------------------------------------------\n",
      "       _cons |   .2961529   .0376718     7.86   0.000     .2223176    .3699883\n",
      "------------------------------------------------------------------------------\n",
      "\n",
      "\n",
      "Adjusted predictions                            Number of obs     =        184\n",
      "Model VCE    : OIM\n",
      "\n",
      "Expression   : Pr(a_cons_hac==5), predict(outcome(5))\n",
      "at           : age             =    2.326087 (mean)\n",
      "               gender          =     .798913 (mean)\n",
      "               marriage        =    .3967391 (mean)\n",
      "               student1        =    .0543478 (mean)\n",
      "               company_man2    =    .0271739 (mean)\n",
      "               public_off~3    =    .4836957 (mean)\n",
      "               profession4     =    .2771739 (mean)\n",
      "               researcher5     =    .0923913 (mean)\n",
      "               learn           =    3.217391 (mean)\n",
      "               income          =    2.298913 (mean)\n",
      "               avg_distance    =    3.293478 (mean)\n",
      "               freq_use_ev     =    3.119565 (mean)\n",
      "               club_kepco2     =    .5217391 (mean)\n",
      "               club_jeju3      =    .2771739 (mean)\n",
      "               ev_owner        =    .0978261 (mean)\n",
      "               saving_free     =    .8913043 (mean)\n",
      "               a_cons_sho~s    =    3.733696 (mean)\n",
      "               a_cons_as       =    3.315217 (mean)\n",
      "               a_cons_cha~e    =    2.771739 (mean)\n",
      "               a_cons_num~k    =    4.108696 (mean)\n",
      "               a_cons_lon~e    =    3.913043 (mean)\n",
      "               a_cons_hil~e    =    2.717391 (mean)\n",
      "\n",
      "------------------------------------------------------------------------------\n",
      "             |            Delta-method\n",
      "             |     Margin   Std. Err.      z    P>|z|     [95% Conf. Interval]\n",
      "-------------+----------------------------------------------------------------\n",
      "       _cons |   .1051734   .0235029     4.47   0.000     .0591085    .1512383\n",
      "------------------------------------------------------------------------------\n"
     ]
    }
   ],
   "source": [
    "* (mean) The probability of opinion = 1 given that the rest of the variables are at their mean values is 7.17%\n",
    "quietly: oprobit a_cons_hac age gender marriage student1 company_man2 public_officer3 profession4 researcher5 learn income avg_distance freq_use_ev club_kepco2 club_jeju3 ev_owner saving_free a_cons_short_dis a_cons_as a_cons_charge_fee a_cons_num_charge_lack a_cons_long_charge_time a_cons_hill_ride, nolog\n",
    "margins, predict(outcome(1)) atmeans\n",
    "margins, predict(outcome(2)) atmeans\n",
    "margins, predict(outcome(3)) atmeans\n",
    "margins, predict(outcome(4)) atmeans\n",
    "margins, predict(outcome(5)) atmeans"
   ]
  },
  {
   "cell_type": "code",
   "execution_count": 160,
   "metadata": {},
   "outputs": [
    {
     "name": "stdout",
     "output_type": "stream",
     "text": [
      "\n",
      "\n",
      "\n",
      "Conditional marginal effects                    Number of obs     =        184\n",
      "Model VCE    : OIM\n",
      "\n",
      "Expression   : Pr(a_cons_hac==1), predict(outcome(1))\n",
      "dy/dx w.r.t. : age gender marriage student1 company_man2 public_officer3 profession4 researcher5 learn income avg_distance freq_use_ev club_kepco2 club_jeju3 ev_owner saving_free a_cons_short_dis a_cons_as a_cons_charge_fee a_cons_num_charge_lack\n",
      "               a_cons_long_charge_time a_cons_hill_ride\n",
      "at           : age             =    2.326087 (mean)\n",
      "               gender          =     .798913 (mean)\n",
      "               marriage        =    .3967391 (mean)\n",
      "               student1        =    .0543478 (mean)\n",
      "               company_man2    =    .0271739 (mean)\n",
      "               public_off~3    =    .4836957 (mean)\n",
      "               profession4     =    .2771739 (mean)\n",
      "               researcher5     =    .0923913 (mean)\n",
      "               learn           =    3.217391 (mean)\n",
      "               income          =    2.298913 (mean)\n",
      "               avg_distance    =    3.293478 (mean)\n",
      "               freq_use_ev     =    3.119565 (mean)\n",
      "               club_kepco2     =    .5217391 (mean)\n",
      "               club_jeju3      =    .2771739 (mean)\n",
      "               ev_owner        =    .0978261 (mean)\n",
      "               saving_free     =    .8913043 (mean)\n",
      "               a_cons_sho~s    =    3.733696 (mean)\n",
      "               a_cons_as       =    3.315217 (mean)\n",
      "               a_cons_cha~e    =    2.771739 (mean)\n",
      "               a_cons_num~k    =    4.108696 (mean)\n",
      "               a_cons_lon~e    =    3.913043 (mean)\n",
      "               a_cons_hil~e    =    2.717391 (mean)\n",
      "\n",
      "-----------------------------------------------------------------------------------------\n",
      "                        |            Delta-method\n",
      "                        |      dy/dx   Std. Err.      z    P>|z|     [95% Conf. Interval]\n",
      "------------------------+----------------------------------------------------------------\n",
      "                    age |   .0090677   .0193201     0.47   0.639    -.0287991    .0469344\n",
      "                 gender |  -.0400071   .0357535    -1.12   0.263    -.1100827    .0300685\n",
      "               marriage |   .0134131   .0303389     0.44   0.658    -.0460502    .0728763\n",
      "               student1 |   .1350777   .0769027     1.76   0.079    -.0156488    .2858041\n",
      "           company_man2 |  -.0088528   .0809668    -0.11   0.913    -.1675448    .1498391\n",
      "        public_officer3 |   -.000623   .0505154    -0.01   0.990    -.0996313    .0983853\n",
      "            profession4 |   .0484155   .0697687     0.69   0.488    -.0883287    .1851597\n",
      "            researcher5 |   .0373556   .0620153     0.60   0.547    -.0841922    .1589034\n",
      "                  learn |  -.0047385   .0272555    -0.17   0.862    -.0581584    .0486814\n",
      "                 income |   .0066427   .0099436     0.67   0.504    -.0128465    .0261318\n",
      "           avg_distance |  -.0012185   .0093151    -0.13   0.896    -.0194757    .0170388\n",
      "            freq_use_ev |  -.0126883   .0116965    -1.08   0.278     -.035613    .0102365\n",
      "            club_kepco2 |   .0314801   .0303568     1.04   0.300    -.0280183    .0909784\n",
      "             club_jeju3 |   .0058555   .0593022     0.10   0.921    -.1103747    .1220858\n",
      "               ev_owner |   .0653939   .0436981     1.50   0.135    -.0202528    .1510406\n",
      "            saving_free |   .0732861   .0421145     1.74   0.082    -.0092568     .155829\n",
      "       a_cons_short_dis |  -.0420635   .0143698    -2.93   0.003    -.0702277   -.0138993\n",
      "              a_cons_as |  -.0265227   .0123897    -2.14   0.032    -.0508062   -.0022393\n",
      "      a_cons_charge_fee |   -.010928   .0118345    -0.92   0.356    -.0341232    .0122672\n",
      " a_cons_num_charge_lack |   .0000578   .0147604     0.00   0.997    -.0288721    .0289877\n",
      "a_cons_long_charge_time |  -.0213513   .0152952    -1.40   0.163    -.0513294    .0086268\n",
      "       a_cons_hill_ride |  -.0587584   .0152479    -3.85   0.000    -.0886438   -.0288731\n",
      "-----------------------------------------------------------------------------------------\n"
     ]
    }
   ],
   "source": [
    "* (mean) Margianl Effects y= 1\n",
    "quietly: oprobit a_cons_hac age gender marriage student1 company_man2 public_officer3 profession4 researcher5 learn income avg_distance freq_use_ev club_kepco2 club_jeju3 ev_owner saving_free a_cons_short_dis a_cons_as a_cons_charge_fee a_cons_num_charge_lack a_cons_long_charge_time a_cons_hill_ride, nolog\n",
    "margins, dydx(*) predict(outcome(1)) atmeans"
   ]
  },
  {
   "cell_type": "code",
   "execution_count": 163,
   "metadata": {},
   "outputs": [
    {
     "name": "stdout",
     "output_type": "stream",
     "text": [
      "\n",
      "\n",
      "\n",
      "Conditional marginal effects                    Number of obs     =        184\n",
      "Model VCE    : OIM\n",
      "\n",
      "Expression   : Pr(a_cons_hac==2), predict(outcome(2))\n",
      "dy/dx w.r.t. : age gender marriage student1 company_man2 public_officer3 profession4 researcher5 learn income avg_distance freq_use_ev club_kepco2 club_jeju3 ev_owner saving_free a_cons_short_dis a_cons_as a_cons_charge_fee a_cons_num_charge_lack\n",
      "               a_cons_long_charge_time a_cons_hill_ride\n",
      "at           : age             =    2.326087 (mean)\n",
      "               gender          =     .798913 (mean)\n",
      "               marriage        =    .3967391 (mean)\n",
      "               student1        =    .0543478 (mean)\n",
      "               company_man2    =    .0271739 (mean)\n",
      "               public_off~3    =    .4836957 (mean)\n",
      "               profession4     =    .2771739 (mean)\n",
      "               researcher5     =    .0923913 (mean)\n",
      "               learn           =    3.217391 (mean)\n",
      "               income          =    2.298913 (mean)\n",
      "               avg_distance    =    3.293478 (mean)\n",
      "               freq_use_ev     =    3.119565 (mean)\n",
      "               club_kepco2     =    .5217391 (mean)\n",
      "               club_jeju3      =    .2771739 (mean)\n",
      "               ev_owner        =    .0978261 (mean)\n",
      "               saving_free     =    .8913043 (mean)\n",
      "               a_cons_sho~s    =    3.733696 (mean)\n",
      "               a_cons_as       =    3.315217 (mean)\n",
      "               a_cons_cha~e    =    2.771739 (mean)\n",
      "               a_cons_num~k    =    4.108696 (mean)\n",
      "               a_cons_lon~e    =    3.913043 (mean)\n",
      "               a_cons_hil~e    =    2.717391 (mean)\n",
      "\n",
      "-----------------------------------------------------------------------------------------\n",
      "                        |            Delta-method\n",
      "                        |      dy/dx   Std. Err.      z    P>|z|     [95% Conf. Interval]\n",
      "------------------------+----------------------------------------------------------------\n",
      "                    age |   .0112123   .0237942     0.47   0.637    -.0354235    .0578481\n",
      "                 gender |  -.0494693   .0434071    -1.14   0.254    -.1345457    .0356071\n",
      "               marriage |   .0165854   .0374666     0.44   0.658    -.0568479    .0900187\n",
      "               student1 |   .1670252   .0946429     1.76   0.078    -.0184714    .3525218\n",
      "           company_man2 |  -.0109466   .1001342    -0.11   0.913     -.207206    .1853127\n",
      "        public_officer3 |  -.0007704    .062466    -0.01   0.990    -.1232015    .1216607\n",
      "            profession4 |   .0598663    .086118     0.70   0.487    -.1089217    .2286544\n",
      "            researcher5 |   .0461906   .0763084     0.61   0.545     -.103371    .1957523\n",
      "                  learn |  -.0058592   .0336933    -0.17   0.862     -.071897    .0601785\n",
      "                 income |   .0082137   .0122871     0.67   0.504    -.0158686     .032296\n",
      "           avg_distance |  -.0015067   .0115238    -0.13   0.896    -.0240929    .0210796\n",
      "            freq_use_ev |  -.0156892   .0145563    -1.08   0.281     -.044219    .0128406\n",
      "            club_kepco2 |   .0389255   .0373876     1.04   0.298    -.0343529    .1122038\n",
      "             club_jeju3 |   .0072404   .0733778     0.10   0.921    -.1365773    .1510582\n",
      "               ev_owner |   .0808603   .0536371     1.51   0.132    -.0242664    .1859871\n",
      "            saving_free |   .0906191   .0517567     1.75   0.080     -.010822    .1920603\n",
      "       a_cons_short_dis |   -.052012   .0173177    -3.00   0.003    -.0859541   -.0180698\n",
      "              a_cons_as |  -.0327957   .0154219    -2.13   0.033    -.0630221   -.0025693\n",
      "      a_cons_charge_fee |  -.0135126    .014591    -0.93   0.354    -.0421105    .0150853\n",
      " a_cons_num_charge_lack |   .0000715   .0182515     0.00   0.997    -.0357008    .0358437\n",
      "a_cons_long_charge_time |  -.0264011    .018797    -1.40   0.160    -.0632426    .0104404\n",
      "       a_cons_hill_ride |  -.0726555   .0194956    -3.73   0.000    -.1108662   -.0344448\n",
      "-----------------------------------------------------------------------------------------\n"
     ]
    }
   ],
   "source": [
    "* (mean) Margianl Effects y=2\n",
    "quietly: oprobit a_cons_hac age gender marriage student1 company_man2 public_officer3 profession4 researcher5 learn income avg_distance freq_use_ev club_kepco2 club_jeju3 ev_owner saving_free a_cons_short_dis a_cons_as a_cons_charge_fee a_cons_num_charge_lack a_cons_long_charge_time a_cons_hill_ride, nolog\n",
    "margins, dydx(*) predict(outcome(2)) atmeans"
   ]
  },
  {
   "cell_type": "code",
   "execution_count": 170,
   "metadata": {},
   "outputs": [
    {
     "name": "stdout",
     "output_type": "stream",
     "text": [
      "\n",
      "\n",
      "\n",
      "Conditional marginal effects                    Number of obs     =        184\n",
      "Model VCE    : OIM\n",
      "\n",
      "Expression   : Pr(a_cons_hac==3), predict(outcome(3))\n",
      "dy/dx w.r.t. : age gender marriage student1 company_man2 public_officer3 profession4 researcher5 learn income avg_distance freq_use_ev club_kepco2 club_jeju3 ev_owner saving_free a_cons_short_dis a_cons_as a_cons_charge_fee a_cons_num_charge_lack\n",
      "               a_cons_long_charge_time a_cons_hill_ride\n",
      "at           : age             =    2.326087 (mean)\n",
      "               gender          =     .798913 (mean)\n",
      "               marriage        =    .3967391 (mean)\n",
      "               student1        =    .0543478 (mean)\n",
      "               company_man2    =    .0271739 (mean)\n",
      "               public_off~3    =    .4836957 (mean)\n",
      "               profession4     =    .2771739 (mean)\n",
      "               researcher5     =    .0923913 (mean)\n",
      "               learn           =    3.217391 (mean)\n",
      "               income          =    2.298913 (mean)\n",
      "               avg_distance    =    3.293478 (mean)\n",
      "               freq_use_ev     =    3.119565 (mean)\n",
      "               club_kepco2     =    .5217391 (mean)\n",
      "               club_jeju3      =    .2771739 (mean)\n",
      "               ev_owner        =    .0978261 (mean)\n",
      "               saving_free     =    .8913043 (mean)\n",
      "               a_cons_sho~s    =    3.733696 (mean)\n",
      "               a_cons_as       =    3.315217 (mean)\n",
      "               a_cons_cha~e    =    2.771739 (mean)\n",
      "               a_cons_num~k    =    4.108696 (mean)\n",
      "               a_cons_lon~e    =    3.913043 (mean)\n",
      "               a_cons_hil~e    =    2.717391 (mean)\n",
      "\n",
      "-----------------------------------------------------------------------------------------\n",
      "                        |            Delta-method\n",
      "                        |      dy/dx   Std. Err.      z    P>|z|     [95% Conf. Interval]\n",
      "------------------------+----------------------------------------------------------------\n",
      "                    age |   .0053585   .0115052     0.47   0.641    -.0171912    .0279083\n",
      "                 gender |  -.0236422   .0229102    -1.03   0.302    -.0685453    .0212609\n",
      "               marriage |   .0079264   .0181198     0.44   0.662    -.0275877    .0434406\n",
      "               student1 |   .0798242   .0532534     1.50   0.134    -.0245506    .1841989\n",
      "           company_man2 |  -.0052316   .0478449    -0.11   0.913    -.0990059    .0885427\n",
      "        public_officer3 |  -.0003682   .0298485    -0.01   0.990    -.0588701    .0581338\n",
      "            profession4 |   .0286111   .0424254     0.67   0.500    -.0545411    .1117634\n",
      "            researcher5 |   .0220753   .0375733     0.59   0.557     -.051567    .0957176\n",
      "                  learn |  -.0028002   .0162017    -0.17   0.863    -.0345549    .0289544\n",
      "                 income |   .0039255   .0060278     0.65   0.515    -.0078888    .0157398\n",
      "           avg_distance |  -.0007201   .0055224    -0.13   0.896    -.0115438    .0101037\n",
      "            freq_use_ev |  -.0074981   .0072862    -1.03   0.303    -.0217787    .0067825\n",
      "            club_kepco2 |   .0186031   .0191782     0.97   0.332    -.0189854    .0561917\n",
      "             club_jeju3 |   .0034603   .0350599     0.10   0.921    -.0652558    .0721765\n",
      "               ev_owner |   .0386445   .0287282     1.35   0.179    -.0176617    .0949508\n",
      "            saving_free |   .0433084   .0294266     1.47   0.141    -.0143667    .1009835\n",
      "       a_cons_short_dis |  -.0248574   .0122711    -2.03   0.043    -.0489082   -.0008066\n",
      "              a_cons_as |  -.0156736   .0091153    -1.72   0.086    -.0335394    .0021921\n",
      "      a_cons_charge_fee |  -.0064579    .007377    -0.88   0.381    -.0209166    .0080008\n",
      " a_cons_num_charge_lack |   .0000342   .0087229     0.00   0.997    -.0170624    .0171308\n",
      "a_cons_long_charge_time |  -.0126175   .0098508    -1.28   0.200    -.0319248    .0066897\n",
      "       a_cons_hill_ride |  -.0347233   .0152048    -2.28   0.022    -.0645242   -.0049224\n",
      "-----------------------------------------------------------------------------------------\n"
     ]
    }
   ],
   "source": [
    "* (mean) Margianl Effects y=3\n",
    "quietly: oprobit a_cons_hac age gender marriage student1 company_man2 public_officer3 profession4 researcher5 learn income avg_distance freq_use_ev club_kepco2 club_jeju3 ev_owner saving_free a_cons_short_dis a_cons_as a_cons_charge_fee a_cons_num_charge_lack a_cons_long_charge_time a_cons_hill_ride, nolog\n",
    "margins, dydx(*) predict(outcome(3)) atmeans"
   ]
  },
  {
   "cell_type": "code",
   "execution_count": 171,
   "metadata": {},
   "outputs": [
    {
     "name": "stdout",
     "output_type": "stream",
     "text": [
      "\n",
      "\n",
      "\n",
      "Conditional marginal effects                    Number of obs     =        184\n",
      "Model VCE    : OIM\n",
      "\n",
      "Expression   : Pr(a_cons_hac==4), predict(outcome(4))\n",
      "dy/dx w.r.t. : age gender marriage student1 company_man2 public_officer3 profession4 researcher5 learn income avg_distance freq_use_ev club_kepco2 club_jeju3 ev_owner saving_free a_cons_short_dis a_cons_as a_cons_charge_fee a_cons_num_charge_lack\n",
      "               a_cons_long_charge_time a_cons_hill_ride\n",
      "at           : age             =    2.326087 (mean)\n",
      "               gender          =     .798913 (mean)\n",
      "               marriage        =    .3967391 (mean)\n",
      "               student1        =    .0543478 (mean)\n",
      "               company_man2    =    .0271739 (mean)\n",
      "               public_off~3    =    .4836957 (mean)\n",
      "               profession4     =    .2771739 (mean)\n",
      "               researcher5     =    .0923913 (mean)\n",
      "               learn           =    3.217391 (mean)\n",
      "               income          =    2.298913 (mean)\n",
      "               avg_distance    =    3.293478 (mean)\n",
      "               freq_use_ev     =    3.119565 (mean)\n",
      "               club_kepco2     =    .5217391 (mean)\n",
      "               club_jeju3      =    .2771739 (mean)\n",
      "               ev_owner        =    .0978261 (mean)\n",
      "               saving_free     =    .8913043 (mean)\n",
      "               a_cons_sho~s    =    3.733696 (mean)\n",
      "               a_cons_as       =    3.315217 (mean)\n",
      "               a_cons_cha~e    =    2.771739 (mean)\n",
      "               a_cons_num~k    =    4.108696 (mean)\n",
      "               a_cons_lon~e    =    3.913043 (mean)\n",
      "               a_cons_hil~e    =    2.717391 (mean)\n",
      "\n",
      "-----------------------------------------------------------------------------------------\n",
      "                        |            Delta-method\n",
      "                        |      dy/dx   Std. Err.      z    P>|z|     [95% Conf. Interval]\n",
      "------------------------+----------------------------------------------------------------\n",
      "                    age |  -.0135675   .0288139    -0.47   0.638    -.0700417    .0429067\n",
      "                 gender |   .0598606   .0530926     1.13   0.260     -.044199    .1639203\n",
      "               marriage |  -.0200693   .0452946    -0.44   0.658     -.108845    .0687064\n",
      "               student1 |    -.20211   .1144038    -1.77   0.077    -.4263373    .0221173\n",
      "           company_man2 |   .0132461   .1211289     0.11   0.913    -.2241623    .2506544\n",
      "        public_officer3 |   .0009322   .0755821     0.01   0.990    -.1472061    .1490704\n",
      "            profession4 |  -.0724417    .104264    -0.69   0.487    -.2767954     .131912\n",
      "            researcher5 |  -.0558933    .092632    -0.60   0.546    -.2374488    .1256622\n",
      "                  learn |     .00709   .0408267     0.17   0.862    -.0729289    .0871089\n",
      "                 income |  -.0099391   .0148465    -0.67   0.503    -.0390378    .0191596\n",
      "           avg_distance |   .0018231   .0139419     0.13   0.896    -.0255024    .0291487\n",
      "            freq_use_ev |   .0189848   .0174652     1.09   0.277    -.0152464     .053216\n",
      "            club_kepco2 |   -.047102   .0453847    -1.04   0.299    -.1360544    .0418504\n",
      "             club_jeju3 |  -.0087614   .0887501    -0.10   0.921    -.1827084    .1651856\n",
      "               ev_owner |  -.0978456   .0646964    -1.51   0.130    -.2246481    .0289569\n",
      "            saving_free |  -.1096543   .0625422    -1.75   0.080    -.2322349    .0129262\n",
      "       a_cons_short_dis |   .0629375   .0210926     2.98   0.003     .0215967    .1042782\n",
      "              a_cons_as |   .0396847   .0183255     2.17   0.030     .0037673     .075602\n",
      "      a_cons_charge_fee |    .016351   .0176531     0.93   0.354    -.0182484    .0509504\n",
      " a_cons_num_charge_lack |  -.0000865   .0220854    -0.00   0.997     -.043373    .0432001\n",
      "a_cons_long_charge_time |   .0319468    .022612     1.41   0.158    -.0123719    .0762656\n",
      "       a_cons_hill_ride |   .0879173   .0220916     3.98   0.000     .0446186     .131216\n",
      "-----------------------------------------------------------------------------------------\n"
     ]
    }
   ],
   "source": [
    "* (mean) Margianl Effects y=4\n",
    "quietly: oprobit a_cons_hac age gender marriage student1 company_man2 public_officer3 profession4 researcher5 learn income avg_distance freq_use_ev club_kepco2 club_jeju3 ev_owner saving_free a_cons_short_dis a_cons_as a_cons_charge_fee a_cons_num_charge_lack a_cons_long_charge_time a_cons_hill_ride, nolog\n",
    "margins, dydx(*) predict(outcome(4)) atmeans"
   ]
  },
  {
   "cell_type": "code",
   "execution_count": 172,
   "metadata": {},
   "outputs": [
    {
     "name": "stdout",
     "output_type": "stream",
     "text": [
      "\n",
      "\n",
      "\n",
      "Conditional marginal effects                    Number of obs     =        184\n",
      "Model VCE    : OIM\n",
      "\n",
      "Expression   : Pr(a_cons_hac==5), predict(outcome(5))\n",
      "dy/dx w.r.t. : age gender marriage student1 company_man2 public_officer3 profession4 researcher5 learn income avg_distance freq_use_ev club_kepco2 club_jeju3 ev_owner saving_free a_cons_short_dis a_cons_as a_cons_charge_fee a_cons_num_charge_lack\n",
      "               a_cons_long_charge_time a_cons_hill_ride\n",
      "at           : age             =    2.326087 (mean)\n",
      "               gender          =     .798913 (mean)\n",
      "               marriage        =    .3967391 (mean)\n",
      "               student1        =    .0543478 (mean)\n",
      "               company_man2    =    .0271739 (mean)\n",
      "               public_off~3    =    .4836957 (mean)\n",
      "               profession4     =    .2771739 (mean)\n",
      "               researcher5     =    .0923913 (mean)\n",
      "               learn           =    3.217391 (mean)\n",
      "               income          =    2.298913 (mean)\n",
      "               avg_distance    =    3.293478 (mean)\n",
      "               freq_use_ev     =    3.119565 (mean)\n",
      "               club_kepco2     =    .5217391 (mean)\n",
      "               club_jeju3      =    .2771739 (mean)\n",
      "               ev_owner        =    .0978261 (mean)\n",
      "               saving_free     =    .8913043 (mean)\n",
      "               a_cons_sho~s    =    3.733696 (mean)\n",
      "               a_cons_as       =    3.315217 (mean)\n",
      "               a_cons_cha~e    =    2.771739 (mean)\n",
      "               a_cons_num~k    =    4.108696 (mean)\n",
      "               a_cons_lon~e    =    3.913043 (mean)\n",
      "               a_cons_hil~e    =    2.717391 (mean)\n",
      "\n",
      "-----------------------------------------------------------------------------------------\n",
      "                        |            Delta-method\n",
      "                        |      dy/dx   Std. Err.      z    P>|z|     [95% Conf. Interval]\n",
      "------------------------+----------------------------------------------------------------\n",
      "                    age |   -.012071   .0255937    -0.47   0.637    -.0622338    .0380918\n",
      "                 gender |   .0532579   .0468232     1.14   0.255    -.0385138    .1450297\n",
      "               marriage |  -.0178556   .0403364    -0.44   0.658    -.0969135    .0612023\n",
      "               student1 |   -.179817   .0991992    -1.81   0.070    -.3742439    .0146099\n",
      "           company_man2 |    .011785   .1077687     0.11   0.913    -.1994379    .2230079\n",
      "        public_officer3 |   .0008294   .0672473     0.01   0.990     -.130973    .1326317\n",
      "            profession4 |  -.0644513   .0923909    -0.70   0.485    -.2455341    .1166315\n",
      "            researcher5 |  -.0497282   .0821558    -0.61   0.545    -.2107505    .1112941\n",
      "                  learn |    .006308   .0362831     0.17   0.862    -.0648055    .0774215\n",
      "                 income |  -.0088428   .0131929    -0.67   0.503    -.0347004    .0170148\n",
      "           avg_distance |    .001622   .0124115     0.13   0.896    -.0227041    .0259482\n",
      "            freq_use_ev |   .0168908   .0153976     1.10   0.273    -.0132881    .0470696\n",
      "            club_kepco2 |  -.0419066   .0399525    -1.05   0.294    -.1202121    .0363989\n",
      "             club_jeju3 |   -.007795    .078961    -0.10   0.921    -.1625558    .1469658\n",
      "               ev_owner |  -.0870531    .056634    -1.54   0.124    -.1980538    .0239476\n",
      "            saving_free |  -.0975593    .054803    -1.78   0.075    -.2049712    .0098525\n",
      "       a_cons_short_dis |   .0559954   .0175077     3.20   0.001     .0216809    .0903098\n",
      "              a_cons_as |   .0353074   .0159847     2.21   0.027      .003978    .0666368\n",
      "      a_cons_charge_fee |   .0145475   .0156571     0.93   0.353    -.0161399    .0452349\n",
      " a_cons_num_charge_lack |  -.0000769   .0196494    -0.00   0.997    -.0385891    .0384353\n",
      "a_cons_long_charge_time |   .0284231    .019876     1.43   0.153    -.0105332    .0673794\n",
      "       a_cons_hill_ride |   .0782199   .0186404     4.20   0.000     .0416854    .1147545\n",
      "-----------------------------------------------------------------------------------------\n"
     ]
    }
   ],
   "source": [
    "* (mean) Margianl Effects y=5\n",
    "quietly: oprobit a_cons_hac age gender marriage student1 company_man2 public_officer3 profession4 researcher5 learn income avg_distance freq_use_ev club_kepco2 club_jeju3 ev_owner saving_free a_cons_short_dis a_cons_as a_cons_charge_fee a_cons_num_charge_lack a_cons_long_charge_time a_cons_hill_ride, nolog\n",
    "margins, dydx(*) predict(outcome(5)) atmeans"
   ]
  },
  {
   "cell_type": "markdown",
   "metadata": {},
   "source": [
    "# Mode"
   ]
  },
  {
   "cell_type": "code",
   "execution_count": 173,
   "metadata": {},
   "outputs": [
    {
     "name": "stdout",
     "output_type": "stream",
     "text": [
      "\n",
      "\n",
      "\n",
      "Adjusted predictions                            Number of obs     =        184\n",
      "Model VCE    : OIM\n",
      "\n",
      "Expression   : Pr(a_cons_hac==1), predict(outcome(1))\n",
      "at           : age             =           2\n",
      "               gender          =           1\n",
      "               marriage        =           1\n",
      "               student1        =           0\n",
      "               company_man2    =           0\n",
      "               public_off~3    =           1\n",
      "               profession4     =           0\n",
      "               researcher5     =           0\n",
      "               learn           =           3\n",
      "               income          =           2\n",
      "               avg_distance    =           3\n",
      "               freq_use_ev     =           3\n",
      "               club_kepco2     =           1\n",
      "               club_jeju3      =           0\n",
      "               ev_owner        =           0\n",
      "               saving_free     =           1\n",
      "               a_cons_sho~s    =           4\n",
      "               a_cons_as       =           4\n",
      "               a_cons_cha~e    =           3\n",
      "               a_cons_num~k    =           5\n",
      "               a_cons_lon~e    =           4\n",
      "               a_cons_hil~e    =           3\n",
      "\n",
      "------------------------------------------------------------------------------\n",
      "             |            Delta-method\n",
      "             |     Margin   Std. Err.      z    P>|z|     [95% Conf. Interval]\n",
      "-------------+----------------------------------------------------------------\n",
      "       _cons |   .0278503   .0167894     1.66   0.097    -.0050564     .060757\n",
      "------------------------------------------------------------------------------\n",
      "\n",
      "\n",
      "Adjusted predictions                            Number of obs     =        184\n",
      "Model VCE    : OIM\n",
      "\n",
      "Expression   : Pr(a_cons_hac==2), predict(outcome(2))\n",
      "at           : age             =           2\n",
      "               gender          =           1\n",
      "               marriage        =           1\n",
      "               student1        =           0\n",
      "               company_man2    =           0\n",
      "               public_off~3    =           1\n",
      "               profession4     =           0\n",
      "               researcher5     =           0\n",
      "               learn           =           3\n",
      "               income          =           2\n",
      "               avg_distance    =           3\n",
      "               freq_use_ev     =           3\n",
      "               club_kepco2     =           1\n",
      "               club_jeju3      =           0\n",
      "               ev_owner        =           0\n",
      "               saving_free     =           1\n",
      "               a_cons_sho~s    =           4\n",
      "               a_cons_as       =           4\n",
      "               a_cons_cha~e    =           3\n",
      "               a_cons_num~k    =           5\n",
      "               a_cons_lon~e    =           4\n",
      "               a_cons_hil~e    =           3\n",
      "\n",
      "------------------------------------------------------------------------------\n",
      "             |            Delta-method\n",
      "             |     Margin   Std. Err.      z    P>|z|     [95% Conf. Interval]\n",
      "-------------+----------------------------------------------------------------\n",
      "       _cons |   .0913407   .0340691     2.68   0.007     .0245664    .1581149\n",
      "------------------------------------------------------------------------------\n",
      "\n",
      "\n",
      "Adjusted predictions                            Number of obs     =        184\n",
      "Model VCE    : OIM\n",
      "\n",
      "Expression   : Pr(a_cons_hac==3), predict(outcome(3))\n",
      "at           : age             =           2\n",
      "               gender          =           1\n",
      "               marriage        =           1\n",
      "               student1        =           0\n",
      "               company_man2    =           0\n",
      "               public_off~3    =           1\n",
      "               profession4     =           0\n",
      "               researcher5     =           0\n",
      "               learn           =           3\n",
      "               income          =           2\n",
      "               avg_distance    =           3\n",
      "               freq_use_ev     =           3\n",
      "               club_kepco2     =           1\n",
      "               club_jeju3      =           0\n",
      "               ev_owner        =           0\n",
      "               saving_free     =           1\n",
      "               a_cons_sho~s    =           4\n",
      "               a_cons_as       =           4\n",
      "               a_cons_cha~e    =           3\n",
      "               a_cons_num~k    =           5\n",
      "               a_cons_lon~e    =           4\n",
      "               a_cons_hil~e    =           3\n",
      "\n",
      "------------------------------------------------------------------------------\n",
      "             |            Delta-method\n",
      "             |     Margin   Std. Err.      z    P>|z|     [95% Conf. Interval]\n",
      "-------------+----------------------------------------------------------------\n",
      "       _cons |   .3014844   .0539561     5.59   0.000     .1957324    .4072363\n",
      "------------------------------------------------------------------------------\n",
      "\n",
      "\n",
      "Adjusted predictions                            Number of obs     =        184\n",
      "Model VCE    : OIM\n",
      "\n",
      "Expression   : Pr(a_cons_hac==4), predict(outcome(4))\n",
      "at           : age             =           2\n",
      "               gender          =           1\n",
      "               marriage        =           1\n",
      "               student1        =           0\n",
      "               company_man2    =           0\n",
      "               public_off~3    =           1\n",
      "               profession4     =           0\n",
      "               researcher5     =           0\n",
      "               learn           =           3\n",
      "               income          =           2\n",
      "               avg_distance    =           3\n",
      "               freq_use_ev     =           3\n",
      "               club_kepco2     =           1\n",
      "               club_jeju3      =           0\n",
      "               ev_owner        =           0\n",
      "               saving_free     =           1\n",
      "               a_cons_sho~s    =           4\n",
      "               a_cons_as       =           4\n",
      "               a_cons_cha~e    =           3\n",
      "               a_cons_num~k    =           5\n",
      "               a_cons_lon~e    =           4\n",
      "               a_cons_hil~e    =           3\n",
      "\n",
      "------------------------------------------------------------------------------\n",
      "             |            Delta-method\n",
      "             |     Margin   Std. Err.      z    P>|z|     [95% Conf. Interval]\n",
      "-------------+----------------------------------------------------------------\n",
      "       _cons |   .3682016   .0479524     7.68   0.000     .2742167    .4621866\n",
      "------------------------------------------------------------------------------\n",
      "\n",
      "\n",
      "Adjusted predictions                            Number of obs     =        184\n",
      "Model VCE    : OIM\n",
      "\n",
      "Expression   : Pr(a_cons_hac==5), predict(outcome(5))\n",
      "at           : age             =           2\n",
      "               gender          =           1\n",
      "               marriage        =           1\n",
      "               student1        =           0\n",
      "               company_man2    =           0\n",
      "               public_off~3    =           1\n",
      "               profession4     =           0\n",
      "               researcher5     =           0\n",
      "               learn           =           3\n",
      "               income          =           2\n",
      "               avg_distance    =           3\n",
      "               freq_use_ev     =           3\n",
      "               club_kepco2     =           1\n",
      "               club_jeju3      =           0\n",
      "               ev_owner        =           0\n",
      "               saving_free     =           1\n",
      "               a_cons_sho~s    =           4\n",
      "               a_cons_as       =           4\n",
      "               a_cons_cha~e    =           3\n",
      "               a_cons_num~k    =           5\n",
      "               a_cons_lon~e    =           4\n",
      "               a_cons_hil~e    =           3\n",
      "\n",
      "------------------------------------------------------------------------------\n",
      "             |            Delta-method\n",
      "             |     Margin   Std. Err.      z    P>|z|     [95% Conf. Interval]\n",
      "-------------+----------------------------------------------------------------\n",
      "       _cons |    .211123   .0691096     3.05   0.002     .0756708    .3465753\n",
      "------------------------------------------------------------------------------\n"
     ]
    }
   ],
   "source": [
    "* (mode) The probability of opinion = 1 given that the rest of the variables are at their mean values is 14.27%\n",
    "quietly: oprobit a_cons_hac age gender marriage student1 company_man2 public_officer3 profession4 researcher5 learn income avg_distance freq_use_ev club_kepco2 club_jeju3 ev_owner saving_free a_cons_short_dis a_cons_as a_cons_charge_fee a_cons_num_charge_lack a_cons_long_charge_time a_cons_hill_ride, nolog\n",
    "margins, predict(outcome(1))  at(age=2  gender=1 marriage=1 student1=0 company_man2=0 public_officer3=1 profession4 =0 researcher5=0 learn=3 income=2 avg_distance=3 freq_use_ev =3  club_kepco2=1  club_jeju3  =0 ev_owner =0  saving_free = 1 a_cons_short=4 a_cons_as = 4 a_cons_charge_fee=3 a_cons_num_charge_lack =5  a_cons_long_charge_time= 4 a_cons_hill_ride =3 ) \n",
    "margins, predict(outcome(2))  at(age=2  gender=1 marriage=1 student1=0 company_man2=0 public_officer3=1 profession4 =0 researcher5=0 learn=3 income=2 avg_distance=3 freq_use_ev =3  club_kepco2=1  club_jeju3  =0 ev_owner =0  saving_free = 1 a_cons_short=4 a_cons_as = 4 a_cons_charge_fee=3 a_cons_num_charge_lack =5  a_cons_long_charge_time= 4 a_cons_hill_ride =3 ) \n",
    "margins, predict(outcome(3))  at(age=2  gender=1 marriage=1 student1=0 company_man2=0 public_officer3=1 profession4 =0 researcher5=0 learn=3 income=2 avg_distance=3 freq_use_ev =3  club_kepco2=1  club_jeju3  =0 ev_owner =0  saving_free = 1 a_cons_short=4 a_cons_as = 4 a_cons_charge_fee=3 a_cons_num_charge_lack =5  a_cons_long_charge_time= 4 a_cons_hill_ride =3 ) \n",
    "margins, predict(outcome(4))  at(age=2  gender=1 marriage=1 student1=0 company_man2=0 public_officer3=1 profession4 =0 researcher5=0 learn=3 income=2 avg_distance=3 freq_use_ev =3  club_kepco2=1  club_jeju3  =0 ev_owner =0  saving_free = 1 a_cons_short=4 a_cons_as = 4 a_cons_charge_fee=3 a_cons_num_charge_lack =5  a_cons_long_charge_time= 4 a_cons_hill_ride =3 ) \n",
    "margins, predict(outcome(5))  at(age=2  gender=1 marriage=1 student1=0 company_man2=0 public_officer3=1 profession4 =0 researcher5=0 learn=3 income=2 avg_distance=3 freq_use_ev =3  club_kepco2=1  club_jeju3  =0 ev_owner =0  saving_free = 1 a_cons_short=4 a_cons_as = 4 a_cons_charge_fee=3 a_cons_num_charge_lack =5  a_cons_long_charge_time= 4 a_cons_hill_ride =3 ) \n"
   ]
  },
  {
   "cell_type": "code",
   "execution_count": 182,
   "metadata": {},
   "outputs": [
    {
     "name": "stdout",
     "output_type": "stream",
     "text": [
      "\n",
      "\n",
      "\n",
      "Conditional marginal effects                    Number of obs     =        184\n",
      "Model VCE    : OIM\n",
      "\n",
      "Expression   : Pr(a_cons_hac==1), predict(outcome(1))\n",
      "dy/dx w.r.t. : age gender marriage student1 company_man2 public_officer3 profession4 researcher5 learn income avg_distance freq_use_ev club_kepco2 club_jeju3 ev_owner saving_free a_cons_short_dis a_cons_as a_cons_charge_fee a_cons_num_charge_lack\n",
      "               a_cons_long_charge_time a_cons_hill_ride\n",
      "at           : age             =           2\n",
      "               gender          =           1\n",
      "               marriage        =           1\n",
      "               student1        =           0\n",
      "               company_man2    =           0\n",
      "               public_off~3    =           1\n",
      "               profession4     =           0\n",
      "               researcher5     =           0\n",
      "               learn           =           3\n",
      "               income          =           2\n",
      "               avg_distance    =           3\n",
      "               freq_use_ev     =           3\n",
      "               club_kepco2     =           1\n",
      "               club_jeju3      =           0\n",
      "               ev_owner        =           0\n",
      "               saving_free     =           1\n",
      "               a_cons_sho~s    =           4\n",
      "               a_cons_as       =           4\n",
      "               a_cons_cha~e    =           3\n",
      "               a_cons_num~k    =           5\n",
      "               a_cons_lon~e    =           4\n",
      "               a_cons_hil~e    =           3\n",
      "\n",
      "-----------------------------------------------------------------------------------------\n",
      "                        |            Delta-method\n",
      "                        |      dy/dx   Std. Err.      z    P>|z|     [95% Conf. Interval]\n",
      "------------------------+----------------------------------------------------------------\n",
      "                    age |   .0042411   .0095308     0.44   0.656    -.0144389    .0229211\n",
      "                 gender |  -.0187121    .018571    -1.01   0.314    -.0551106    .0176864\n",
      "               marriage |   .0062735   .0153942     0.41   0.684    -.0238985    .0364456\n",
      "               student1 |   .0631785    .043424     1.45   0.146     -.021931     .148288\n",
      "           company_man2 |  -.0041406   .0379432    -0.11   0.913     -.078508    .0702267\n",
      "        public_officer3 |  -.0002914   .0236136    -0.01   0.990    -.0465732    .0459905\n",
      "            profession4 |   .0226449   .0341955     0.66   0.508    -.0443771    .0896668\n",
      "            researcher5 |   .0174719   .0292689     0.60   0.551     -.039894    .0748379\n",
      "                  learn |  -.0022163    .012959    -0.17   0.864    -.0276155    .0231829\n",
      "                 income |   .0031069    .004747     0.65   0.513     -.006197    .0124108\n",
      "           avg_distance |  -.0005699    .004446    -0.13   0.898    -.0092839    .0081441\n",
      "            freq_use_ev |  -.0059345   .0055736    -1.06   0.287    -.0168587    .0049896\n",
      "            club_kepco2 |   .0147238   .0171782     0.86   0.391    -.0189448    .0483924\n",
      "             club_jeju3 |   .0027388   .0275658     0.10   0.921    -.0512893    .0567668\n",
      "               ev_owner |    .030586    .021193     1.44   0.149    -.0109515    .0721235\n",
      "            saving_free |   .0342773   .0252024     1.36   0.174    -.0151184    .0836731\n",
      "       a_cons_short_dis |  -.0196739   .0109519    -1.80   0.072    -.0411392    .0017914\n",
      "              a_cons_as |  -.0124052   .0061136    -2.03   0.042    -.0243877   -.0004227\n",
      "      a_cons_charge_fee |  -.0051112   .0059492    -0.86   0.390    -.0167714    .0065489\n",
      " a_cons_num_charge_lack |    .000027   .0069069     0.00   0.997    -.0135102    .0135643\n",
      "a_cons_long_charge_time |  -.0099864   .0086386    -1.16   0.248    -.0269178     .006945\n",
      "       a_cons_hill_ride |  -.0274825   .0142901    -1.92   0.054    -.0554906    .0005257\n",
      "-----------------------------------------------------------------------------------------\n"
     ]
    }
   ],
   "source": [
    "* (mode) marginal y=1\n",
    "quietly: oprobit a_cons_hac age gender marriage student1 company_man2 public_officer3 profession4 researcher5 learn income avg_distance freq_use_ev club_kepco2 club_jeju3 ev_owner saving_free a_cons_short_dis a_cons_as a_cons_charge_fee a_cons_num_charge_lack a_cons_long_charge_time a_cons_hill_ride, nolog\n",
    "margins, dydx(*) predict(outcome(1))  at(age=2  gender=1 marriage=1 student1=0 company_man2=0 public_officer3=1 profession4 =0 researcher5=0 learn=3 income=2 avg_distance=3 freq_use_ev =3  club_kepco2=1  club_jeju3  =0 ev_owner =0  saving_free = 1 a_cons_short=4 a_cons_as = 4 a_cons_charge_fee=3 a_cons_num_charge_lack =5  a_cons_long_charge_time= 4 a_cons_hill_ride =3 ) "
   ]
  },
  {
   "cell_type": "code",
   "execution_count": 183,
   "metadata": {},
   "outputs": [
    {
     "name": "stdout",
     "output_type": "stream",
     "text": [
      "\n",
      "\n",
      "\n",
      "Conditional marginal effects                    Number of obs     =        184\n",
      "Model VCE    : OIM\n",
      "\n",
      "Expression   : Pr(a_cons_hac==2), predict(outcome(2))\n",
      "dy/dx w.r.t. : age gender marriage student1 company_man2 public_officer3 profession4 researcher5 learn income avg_distance freq_use_ev club_kepco2 club_jeju3 ev_owner saving_free a_cons_short_dis a_cons_as a_cons_charge_fee a_cons_num_charge_lack\n",
      "               a_cons_long_charge_time a_cons_hill_ride\n",
      "at           : age             =           2\n",
      "               gender          =           1\n",
      "               marriage        =           1\n",
      "               student1        =           0\n",
      "               company_man2    =           0\n",
      "               public_off~3    =           1\n",
      "               profession4     =           0\n",
      "               researcher5     =           0\n",
      "               learn           =           3\n",
      "               income          =           2\n",
      "               avg_distance    =           3\n",
      "               freq_use_ev     =           3\n",
      "               club_kepco2     =           1\n",
      "               club_jeju3      =           0\n",
      "               ev_owner        =           0\n",
      "               saving_free     =           1\n",
      "               a_cons_sho~s    =           4\n",
      "               a_cons_as       =           4\n",
      "               a_cons_cha~e    =           3\n",
      "               a_cons_num~k    =           5\n",
      "               a_cons_lon~e    =           4\n",
      "               a_cons_hil~e    =           3\n",
      "\n",
      "-----------------------------------------------------------------------------------------\n",
      "                        |            Delta-method\n",
      "                        |      dy/dx   Std. Err.      z    P>|z|     [95% Conf. Interval]\n",
      "------------------------+----------------------------------------------------------------\n",
      "                    age |   .0089594   .0193613     0.46   0.644    -.0289881    .0469069\n",
      "                 gender |  -.0395293   .0351099    -1.13   0.260    -.1083435    .0292849\n",
      "               marriage |   .0132529   .0309051     0.43   0.668      -.04732    .0738257\n",
      "               student1 |   .1334645   .0760435     1.76   0.079    -.0155781     .282507\n",
      "           company_man2 |  -.0087471   .0800592    -0.11   0.913    -.1656603     .148166\n",
      "        public_officer3 |  -.0006156   .0499028    -0.01   0.990    -.0984233    .0971921\n",
      "            profession4 |   .0478373   .0692778     0.69   0.490    -.0879447    .1836192\n",
      "            researcher5 |   .0369095   .0605251     0.61   0.542    -.0817175    .1555364\n",
      "                  learn |  -.0046819   .0270803    -0.17   0.863    -.0577584    .0483946\n",
      "                 income |   .0065633   .0097769     0.67   0.502    -.0125991    .0257258\n",
      "           avg_distance |  -.0012039   .0092838    -0.13   0.897    -.0193998    .0169919\n",
      "            freq_use_ev |  -.0125367   .0113339    -1.11   0.269    -.0347507    .0096773\n",
      "            club_kepco2 |   .0311041   .0318498     0.98   0.329    -.0313203    .0935285\n",
      "             club_jeju3 |   .0057856   .0584602     0.10   0.921    -.1087943    .1203655\n",
      "               ev_owner |   .0646129   .0406468     1.59   0.112    -.0150534    .1442792\n",
      "            saving_free |   .0724109   .0432023     1.68   0.094    -.0122642    .1570859\n",
      "       a_cons_short_dis |  -.0415611    .015188    -2.74   0.006     -.071329   -.0117933\n",
      "              a_cons_as |   -.026206   .0108443    -2.42   0.016    -.0474605   -.0049515\n",
      "      a_cons_charge_fee |  -.0107975   .0117454    -0.92   0.358     -.033818     .012223\n",
      " a_cons_num_charge_lack |   .0000571    .014587     0.00   0.997    -.0285329    .0286471\n",
      "a_cons_long_charge_time |  -.0210963   .0156664    -1.35   0.178    -.0518018    .0096093\n",
      "       a_cons_hill_ride |  -.0580567   .0183123    -3.17   0.002    -.0939482   -.0221652\n",
      "-----------------------------------------------------------------------------------------\n"
     ]
    }
   ],
   "source": [
    "* (mode) marginal y=2\n",
    "quietly: oprobit a_cons_hac age gender marriage student1 company_man2 public_officer3 profession4 researcher5 learn income avg_distance freq_use_ev club_kepco2 club_jeju3 ev_owner saving_free a_cons_short_dis a_cons_as a_cons_charge_fee a_cons_num_charge_lack a_cons_long_charge_time a_cons_hill_ride, nolog\n",
    "margins, dydx(*) predict(outcome(2))  at(age=2  gender=1 marriage=1 student1=0 company_man2=0 public_officer3=1 profession4 =0 researcher5=0 learn=3 income=2 avg_distance=3 freq_use_ev =3  club_kepco2=1  club_jeju3  =0 ev_owner =0  saving_free = 1 a_cons_short=4 a_cons_as = 4 a_cons_charge_fee=3 a_cons_num_charge_lack =5  a_cons_long_charge_time= 4 a_cons_hill_ride =3 ) "
   ]
  },
  {
   "cell_type": "code",
   "execution_count": 184,
   "metadata": {},
   "outputs": [
    {
     "name": "stdout",
     "output_type": "stream",
     "text": [
      "\n",
      "\n",
      "\n",
      "Conditional marginal effects                    Number of obs     =        184\n",
      "Model VCE    : OIM\n",
      "\n",
      "Expression   : Pr(a_cons_hac==3), predict(outcome(3))\n",
      "dy/dx w.r.t. : age gender marriage student1 company_man2 public_officer3 profession4 researcher5 learn income avg_distance freq_use_ev club_kepco2 club_jeju3 ev_owner saving_free a_cons_short_dis a_cons_as a_cons_charge_fee a_cons_num_charge_lack\n",
      "               a_cons_long_charge_time a_cons_hill_ride\n",
      "at           : age             =           2\n",
      "               gender          =           1\n",
      "               marriage        =           1\n",
      "               student1        =           0\n",
      "               company_man2    =           0\n",
      "               public_off~3    =           1\n",
      "               profession4     =           0\n",
      "               researcher5     =           0\n",
      "               learn           =           3\n",
      "               income          =           2\n",
      "               avg_distance    =           3\n",
      "               freq_use_ev     =           3\n",
      "               club_kepco2     =           1\n",
      "               club_jeju3      =           0\n",
      "               ev_owner        =           0\n",
      "               saving_free     =           1\n",
      "               a_cons_sho~s    =           4\n",
      "               a_cons_as       =           4\n",
      "               a_cons_cha~e    =           3\n",
      "               a_cons_num~k    =           5\n",
      "               a_cons_lon~e    =           4\n",
      "               a_cons_hil~e    =           3\n",
      "\n",
      "-----------------------------------------------------------------------------------------\n",
      "                        |            Delta-method\n",
      "                        |      dy/dx   Std. Err.      z    P>|z|     [95% Conf. Interval]\n",
      "------------------------+----------------------------------------------------------------\n",
      "                    age |   .0127266    .026688     0.48   0.633    -.0395809    .0650342\n",
      "                 gender |  -.0561507   .0507896    -1.11   0.269    -.1556964     .043395\n",
      "               marriage |   .0188255   .0413457     0.46   0.649    -.0622106    .0998616\n",
      "               student1 |    .189584   .1154749     1.64   0.101    -.0367427    .4159106\n",
      "           company_man2 |  -.0124251   .1135954    -0.11   0.913     -.235068    .2102178\n",
      "        public_officer3 |  -.0008744   .0709147    -0.01   0.990    -.1398647    .1381159\n",
      "            profession4 |    .067952   .0983606     0.69   0.490    -.1248312    .2607352\n",
      "            researcher5 |   .0524292   .0882666     0.59   0.553    -.1205702    .2254287\n",
      "                  learn |  -.0066506    .038111    -0.17   0.861    -.0813468    .0680455\n",
      "                 income |   .0093231   .0141482     0.66   0.510    -.0184069    .0370531\n",
      "           avg_distance |  -.0017101   .0129835    -0.13   0.895    -.0271573     .023737\n",
      "            freq_use_ev |  -.0178082   .0172592    -1.03   0.302    -.0516355    .0160192\n",
      "            club_kepco2 |   .0441828   .0408238     1.08   0.279    -.0358304     .124196\n",
      "             club_jeju3 |   .0082184   .0835214     0.10   0.922    -.1554806    .1719174\n",
      "               ev_owner |   .0917815   .0669619     1.37   0.170    -.0394613    .2230243\n",
      "            saving_free |   .1028584   .0610009     1.69   0.092    -.0167011    .2224179\n",
      "       a_cons_short_dis |  -.0590368   .0223713    -2.64   0.008    -.1028838   -.0151899\n",
      "              a_cons_as |  -.0372252   .0210249    -1.77   0.077    -.0784332    .0039828\n",
      "      a_cons_charge_fee |  -.0153377   .0168412    -0.91   0.362    -.0483457    .0176704\n",
      " a_cons_num_charge_lack |   .0000811   .0207128     0.00   0.997    -.0405153    .0406775\n",
      "a_cons_long_charge_time |  -.0299669   .0213634    -1.40   0.161    -.0718384    .0119046\n",
      "       a_cons_hill_ride |  -.0824685   .0250552    -3.29   0.001    -.1315758   -.0333612\n",
      "-----------------------------------------------------------------------------------------\n"
     ]
    }
   ],
   "source": [
    "* (mode) marginal y=3\n",
    "quietly: oprobit a_cons_hac age gender marriage student1 company_man2 public_officer3 profession4 researcher5 learn income avg_distance freq_use_ev club_kepco2 club_jeju3 ev_owner saving_free a_cons_short_dis a_cons_as a_cons_charge_fee a_cons_num_charge_lack a_cons_long_charge_time a_cons_hill_ride, nolog\n",
    "margins, dydx(*) predict(outcome(3))  at(age=2  gender=1 marriage=1 student1=0 company_man2=0 public_officer3=1 profession4 =0 researcher5=0 learn=3 income=2 avg_distance=3 freq_use_ev =3  club_kepco2=1  club_jeju3  =0 ev_owner =0  saving_free = 1 a_cons_short=4 a_cons_as = 4 a_cons_charge_fee=3 a_cons_num_charge_lack =5  a_cons_long_charge_time= 4 a_cons_hill_ride =3 ) "
   ]
  },
  {
   "cell_type": "code",
   "execution_count": 185,
   "metadata": {},
   "outputs": [
    {
     "name": "stdout",
     "output_type": "stream",
     "text": [
      "\n",
      "\n",
      "\n",
      "Conditional marginal effects                    Number of obs     =        184\n",
      "Model VCE    : OIM\n",
      "\n",
      "Expression   : Pr(a_cons_hac==4), predict(outcome(4))\n",
      "dy/dx w.r.t. : age gender marriage student1 company_man2 public_officer3 profession4 researcher5 learn income avg_distance freq_use_ev club_kepco2 club_jeju3 ev_owner saving_free a_cons_short_dis a_cons_as a_cons_charge_fee a_cons_num_charge_lack\n",
      "               a_cons_long_charge_time a_cons_hill_ride\n",
      "at           : age             =           2\n",
      "               gender          =           1\n",
      "               marriage        =           1\n",
      "               student1        =           0\n",
      "               company_man2    =           0\n",
      "               public_off~3    =           1\n",
      "               profession4     =           0\n",
      "               researcher5     =           0\n",
      "               learn           =           3\n",
      "               income          =           2\n",
      "               avg_distance    =           3\n",
      "               freq_use_ev     =           3\n",
      "               club_kepco2     =           1\n",
      "               club_jeju3      =           0\n",
      "               ev_owner        =           0\n",
      "               saving_free     =           1\n",
      "               a_cons_sho~s    =           4\n",
      "               a_cons_as       =           4\n",
      "               a_cons_cha~e    =           3\n",
      "               a_cons_num~k    =           5\n",
      "               a_cons_lon~e    =           4\n",
      "               a_cons_hil~e    =           3\n",
      "\n",
      "-----------------------------------------------------------------------------------------\n",
      "                        |            Delta-method\n",
      "                        |      dy/dx   Std. Err.      z    P>|z|     [95% Conf. Interval]\n",
      "------------------------+----------------------------------------------------------------\n",
      "                    age |  -.0067581   .0158119    -0.43   0.669    -.0377489    .0242327\n",
      "                 gender |   .0298172   .0329378     0.91   0.365    -.0347398    .0943742\n",
      "               marriage |  -.0099967   .0258202    -0.39   0.699    -.0606034      .04061\n",
      "               student1 |  -.1006731   .0856452    -1.18   0.240    -.2685345    .0671884\n",
      "           company_man2 |    .006598    .060592     0.11   0.913    -.1121602    .1253562\n",
      "        public_officer3 |   .0004643   .0376157     0.01   0.990    -.0732611    .0741897\n",
      "            profession4 |   -.036084   .0576864    -0.63   0.532    -.1491472    .0769793\n",
      "            researcher5 |   -.027841    .047949    -0.58   0.561    -.1218194    .0661373\n",
      "                  learn |   .0035316   .0209216     0.17   0.866    -.0374739    .0445371\n",
      "                 income |  -.0049508   .0078791    -0.63   0.530    -.0203936     .010492\n",
      "           avg_distance |   .0009081   .0071757     0.13   0.899     -.013156    .0149723\n",
      "            freq_use_ev |   .0094565   .0097918     0.97   0.334     -.009735    .0286481\n",
      "            club_kepco2 |   -.023462   .0312287    -0.75   0.452    -.0846691    .0377451\n",
      "             club_jeju3 |  -.0043641    .043833    -0.10   0.921    -.0902753     .081547\n",
      "               ev_owner |  -.0487379   .0393697    -1.24   0.216    -.1259012    .0284253\n",
      "            saving_free |    -.05462   .0494157    -1.11   0.269     -.151473    .0422331\n",
      "       a_cons_short_dis |   .0313498   .0238941     1.31   0.190    -.0154817    .0781813\n",
      "              a_cons_as |   .0197673   .0127832     1.55   0.122    -.0052873     .044822\n",
      "      a_cons_charge_fee |   .0081446   .0103377     0.79   0.431    -.0121169    .0284061\n",
      " a_cons_num_charge_lack |  -.0000431   .0110089    -0.00   0.997    -.0216201    .0215339\n",
      "a_cons_long_charge_time |   .0159131    .016193     0.98   0.326    -.0158247    .0476508\n",
      "       a_cons_hill_ride |   .0437925   .0324169     1.35   0.177    -.0197434    .1073285\n",
      "-----------------------------------------------------------------------------------------\n"
     ]
    }
   ],
   "source": [
    "* (mode) marginal y=4\n",
    "quietly: oprobit a_cons_hac age gender marriage student1 company_man2 public_officer3 profession4 researcher5 learn income avg_distance freq_use_ev club_kepco2 club_jeju3 ev_owner saving_free a_cons_short_dis a_cons_as a_cons_charge_fee a_cons_num_charge_lack a_cons_long_charge_time a_cons_hill_ride, nolog\n",
    "margins, dydx(*) predict(outcome(4))  at(age=2  gender=1 marriage=1 student1=0 company_man2=0 public_officer3=1 profession4 =0 researcher5=0 learn=3 income=2 avg_distance=3 freq_use_ev =3  club_kepco2=1  club_jeju3  =0 ev_owner =0  saving_free = 1 a_cons_short=4 a_cons_as = 4 a_cons_charge_fee=3 a_cons_num_charge_lack =5  a_cons_long_charge_time= 4 a_cons_hill_ride =3 ) "
   ]
  },
  {
   "cell_type": "code",
   "execution_count": 186,
   "metadata": {},
   "outputs": [
    {
     "name": "stdout",
     "output_type": "stream",
     "text": [
      "\n",
      "\n",
      "\n",
      "Conditional marginal effects                    Number of obs     =        184\n",
      "Model VCE    : OIM\n",
      "\n",
      "Expression   : Pr(a_cons_hac==5), predict(outcome(5))\n",
      "dy/dx w.r.t. : age gender marriage student1 company_man2 public_officer3 profession4 researcher5 learn income avg_distance freq_use_ev club_kepco2 club_jeju3 ev_owner saving_free a_cons_short_dis a_cons_as a_cons_charge_fee a_cons_num_charge_lack\n",
      "               a_cons_long_charge_time a_cons_hill_ride\n",
      "at           : age             =           2\n",
      "               gender          =           1\n",
      "               marriage        =           1\n",
      "               student1        =           0\n",
      "               company_man2    =           0\n",
      "               public_off~3    =           1\n",
      "               profession4     =           0\n",
      "               researcher5     =           0\n",
      "               learn           =           3\n",
      "               income          =           2\n",
      "               avg_distance    =           3\n",
      "               freq_use_ev     =           3\n",
      "               club_kepco2     =           1\n",
      "               club_jeju3      =           0\n",
      "               ev_owner        =           0\n",
      "               saving_free     =           1\n",
      "               a_cons_sho~s    =           4\n",
      "               a_cons_as       =           4\n",
      "               a_cons_cha~e    =           3\n",
      "               a_cons_num~k    =           5\n",
      "               a_cons_lon~e    =           4\n",
      "               a_cons_hil~e    =           3\n",
      "\n",
      "-----------------------------------------------------------------------------------------\n",
      "                        |            Delta-method\n",
      "                        |      dy/dx   Std. Err.      z    P>|z|     [95% Conf. Interval]\n",
      "------------------------+----------------------------------------------------------------\n",
      "                    age |   -.019169    .040144    -0.48   0.633    -.0978498    .0595118\n",
      "                 gender |   .0845749    .075443     1.12   0.262    -.0632907    .2324405\n",
      "               marriage |  -.0283552   .0622552    -0.46   0.649     -.150373    .0936627\n",
      "               student1 |  -.2855538   .1673579    -1.71   0.088    -.6135693    .0424617\n",
      "           company_man2 |   .0187149   .1711037     0.11   0.913    -.3166421    .3540719\n",
      "        public_officer3 |    .001317   .1068162     0.01   0.990    -.2080389     .210673\n",
      "            profession4 |  -.1023502   .1472877    -0.69   0.487    -.3910289    .1863284\n",
      "            researcher5 |  -.0789696   .1323728    -0.60   0.551    -.3384155    .1804763\n",
      "                  learn |   .0100172   .0573049     0.17   0.861    -.1022984    .1223328\n",
      "                 income |  -.0140426   .0212303    -0.66   0.508    -.0556532    .0275681\n",
      "           avg_distance |   .0025758   .0195509     0.13   0.895    -.0357432    .0408948\n",
      "            freq_use_ev |   .0268229   .0257117     1.04   0.297    -.0235711    .0772169\n",
      "            club_kepco2 |  -.0665488    .060611    -1.10   0.272    -.1853441    .0522465\n",
      "             club_jeju3 |  -.0123786   .1257722    -0.10   0.922    -.2588875    .2341303\n",
      "               ev_owner |  -.1382425   .0987849    -1.40   0.162    -.3318574    .0553724\n",
      "            saving_free |  -.1549266   .0885935    -1.75   0.080    -.3285667    .0187134\n",
      "       a_cons_short_dis |   .0889221   .0304932     2.92   0.004     .0291566    .1486876\n",
      "              a_cons_as |    .056069   .0304125     1.84   0.065    -.0035383    .1156764\n",
      "      a_cons_charge_fee |   .0231018   .0251094     0.92   0.358    -.0261117    .0723153\n",
      " a_cons_num_charge_lack |  -.0001222   .0311978    -0.00   0.997    -.0612688    .0610245\n",
      "a_cons_long_charge_time |   .0451365   .0316518     1.43   0.154    -.0168999     .107173\n",
      "       a_cons_hill_ride |   .1242152   .0329824     3.77   0.000     .0595709    .1888594\n",
      "-----------------------------------------------------------------------------------------\n"
     ]
    }
   ],
   "source": [
    "* (mode) marginal y=5\n",
    "quietly: oprobit a_cons_hac age gender marriage student1 company_man2 public_officer3 profession4 researcher5 learn income avg_distance freq_use_ev club_kepco2 club_jeju3 ev_owner saving_free a_cons_short_dis a_cons_as a_cons_charge_fee a_cons_num_charge_lack a_cons_long_charge_time a_cons_hill_ride, nolog\n",
    "margins, dydx(*) predict(outcome(5))  at(age=2  gender=1 marriage=1 student1=0 company_man2=0 public_officer3=1 profession4 =0 researcher5=0 learn=3 income=2 avg_distance=3 freq_use_ev =3  club_kepco2=1  club_jeju3  =0 ev_owner =0  saving_free = 1 a_cons_short=4 a_cons_as = 4 a_cons_charge_fee=3 a_cons_num_charge_lack =5  a_cons_long_charge_time= 4 a_cons_hill_ride =3 ) "
   ]
  },
  {
   "cell_type": "markdown",
   "metadata": {},
   "source": [
    "---\n",
    "### student1\n",
    "---"
   ]
  },
  {
   "cell_type": "code",
   "execution_count": 177,
   "metadata": {},
   "outputs": [
    {
     "name": "stdout",
     "output_type": "stream",
     "text": [
      "\n",
      "\n",
      "\n",
      "Conditional marginal effects                    Number of obs     =        184\n",
      "Model VCE    : OIM\n",
      "\n",
      "dy/dx w.r.t. : student1\n",
      "1._predict   : Pr(a_cons_hac==1), predict(pr outcome(1))\n",
      "2._predict   : Pr(a_cons_hac==2), predict(pr outcome(2))\n",
      "3._predict   : Pr(a_cons_hac==3), predict(pr outcome(3))\n",
      "4._predict   : Pr(a_cons_hac==4), predict(pr outcome(4))\n",
      "5._predict   : Pr(a_cons_hac==5), predict(pr outcome(5))\n",
      "at           : age             =    2.326087 (mean)\n",
      "               gender          =     .798913 (mean)\n",
      "               marriage        =    .3967391 (mean)\n",
      "               student1        =    .0543478 (mean)\n",
      "               company_man2    =    .0271739 (mean)\n",
      "               public_off~3    =    .4836957 (mean)\n",
      "               profession4     =    .2771739 (mean)\n",
      "               researcher5     =    .0923913 (mean)\n",
      "               learn           =    3.217391 (mean)\n",
      "               income          =    2.298913 (mean)\n",
      "               avg_distance    =    3.293478 (mean)\n",
      "               freq_use_ev     =    3.119565 (mean)\n",
      "               club_kepco2     =    .5217391 (mean)\n",
      "               club_jeju3      =    .2771739 (mean)\n",
      "               ev_owner        =    .0978261 (mean)\n",
      "               saving_free     =    .8913043 (mean)\n",
      "               a_cons_sho~s    =    3.733696 (mean)\n",
      "               a_cons_as       =    3.315217 (mean)\n",
      "               a_cons_cha~e    =    2.771739 (mean)\n",
      "               a_cons_num~k    =    4.108696 (mean)\n",
      "               a_cons_lon~e    =    3.913043 (mean)\n",
      "               a_cons_hil~e    =    2.717391 (mean)\n",
      "\n",
      "------------------------------------------------------------------------------\n",
      "             |            Delta-method\n",
      "             |      dy/dx   Std. Err.      z    P>|z|     [95% Conf. Interval]\n",
      "-------------+----------------------------------------------------------------\n",
      "student1     |\n",
      "    _predict |\n",
      "          1  |   .1350777   .0769027     1.76   0.079    -.0156488    .2858041\n",
      "          2  |   .1670252   .0946429     1.76   0.078    -.0184714    .3525218\n",
      "          3  |   .0798242   .0532534     1.50   0.134    -.0245506    .1841989\n",
      "          4  |    -.20211   .1144038    -1.77   0.077    -.4263373    .0221173\n",
      "          5  |   -.179817   .0991992    -1.81   0.070    -.3742439    .0146099\n",
      "------------------------------------------------------------------------------\n"
     ]
    }
   ],
   "source": [
    "* change from students \n",
    "quietly: oprobit a_cons_hac age gender marriage student1 company_man2 public_officer3 profession4 researcher5 learn income avg_distance freq_use_ev club_kepco2 club_jeju3 ev_owner saving_free a_cons_short_dis a_cons_as a_cons_charge_fee a_cons_num_charge_lack a_cons_long_charge_time a_cons_hill_ride, nolog\n",
    "margins, dydx(student1) atmeans"
   ]
  },
  {
   "cell_type": "code",
   "execution_count": 178,
   "metadata": {},
   "outputs": [
    {
     "name": "stdout",
     "output_type": "stream",
     "text": [
      "\n",
      "  Variables that uniquely identify margins: _outcome\n"
     ]
    },
    {
     "data": {
      "application/pdf": "[encoded data removed]",
      "image/svg+xml": [
       "<?xml version=\"1.0\" encoding=\"UTF-8\" standalone=\"no\"?>\n",
       "<!-- This is a Stata 14.2 generated SVG file (http://www.stata.com) -->\n",
       "\n",
       "<svg version=\"1.1\" width=\"600px\" height=\"436px\" viewBox=\"0 0 3960 2880\" xmlns=\"http://www.w3.org/2000/svg\">\n",
       "\t<desc>Stata Graph - Graph</desc>\n",
       "\t<rect x=\"0.00\" y=\"0.00\" width=\"3959.88\" height=\"2880.00\" style=\"fill:#EAF2F3;stroke:#EAF2F3;stroke-width:5.76\"/>\n",
       "\t<rect x=\"390.80\" y=\"261.37\" width=\"3468.22\" height=\"2227.82\" style=\"fill:#FFFFFF;stroke:#FFFFFF;stroke-width:5.76\"/>\n",
       "\t<line x1=\"390.80\" y1=\"2358.87\" x2=\"3859.02\" y2=\"2358.87\" style=\"stroke:#EAF2F3;stroke-width:8.64\"/>\n",
       "\t<line x1=\"390.80\" y1=\"1850.37\" x2=\"3859.02\" y2=\"1850.37\" style=\"stroke:#EAF2F3;stroke-width:8.64\"/>\n",
       "\t<line x1=\"390.80\" y1=\"1341.74\" x2=\"3859.02\" y2=\"1341.74\" style=\"stroke:#EAF2F3;stroke-width:8.64\"/>\n",
       "\t<line x1=\"390.80\" y1=\"833.23\" x2=\"3859.02\" y2=\"833.23\" style=\"stroke:#EAF2F3;stroke-width:8.64\"/>\n",
       "\t<line x1=\"390.80\" y1=\"324.73\" x2=\"3859.02\" y2=\"324.73\" style=\"stroke:#EAF2F3;stroke-width:8.64\"/>\n",
       "\t<line x1=\"454.16\" y1=\"1381.59\" x2=\"454.16\" y2=\"615.06\" style=\"stroke:#1A476F;stroke-width:8.64\"/>\n",
       "\t<line x1=\"432.13\" y1=\"615.06\" x2=\"476.19\" y2=\"615.06\" stroke-linecap=\"round\" style=\"stroke:#1A476F;stroke-width:8.64\"/>\n",
       "\t<line x1=\"432.13\" y1=\"1381.59\" x2=\"476.19\" y2=\"1381.59\" stroke-linecap=\"round\" style=\"stroke:#1A476F;stroke-width:8.64\"/>\n",
       "\t<line x1=\"1289.47\" y1=\"1388.77\" x2=\"1289.47\" y2=\"445.39\" style=\"stroke:#1A476F;stroke-width:8.64\"/>\n",
       "\t<line x1=\"1267.45\" y1=\"445.39\" x2=\"1311.50\" y2=\"445.39\" stroke-linecap=\"round\" style=\"stroke:#1A476F;stroke-width:8.64\"/>\n",
       "\t<line x1=\"1267.45\" y1=\"1388.77\" x2=\"1311.50\" y2=\"1388.77\" stroke-linecap=\"round\" style=\"stroke:#1A476F;stroke-width:8.64\"/>\n",
       "\t<line x1=\"2124.91\" y1=\"1404.24\" x2=\"2124.91\" y2=\"873.45\" style=\"stroke:#1A476F;stroke-width:8.64\"/>\n",
       "\t<line x1=\"2102.88\" y1=\"873.45\" x2=\"2146.94\" y2=\"873.45\" stroke-linecap=\"round\" style=\"stroke:#1A476F;stroke-width:8.64\"/>\n",
       "\t<line x1=\"2102.88\" y1=\"1404.24\" x2=\"2146.94\" y2=\"1404.24\" stroke-linecap=\"round\" style=\"stroke:#1A476F;stroke-width:8.64\"/>\n",
       "\t<line x1=\"2960.35\" y1=\"2425.82\" x2=\"2960.35\" y2=\"1285.56\" style=\"stroke:#1A476F;stroke-width:8.64\"/>\n",
       "\t<line x1=\"2938.32\" y1=\"1285.56\" x2=\"2982.38\" y2=\"1285.56\" stroke-linecap=\"round\" style=\"stroke:#1A476F;stroke-width:8.64\"/>\n",
       "\t<line x1=\"2938.32\" y1=\"2425.82\" x2=\"2982.38\" y2=\"2425.82\" stroke-linecap=\"round\" style=\"stroke:#1A476F;stroke-width:8.64\"/>\n",
       "\t<line x1=\"3795.66\" y1=\"2293.41\" x2=\"3795.66\" y2=\"1304.61\" style=\"stroke:#1A476F;stroke-width:8.64\"/>\n",
       "\t<line x1=\"3773.63\" y1=\"1304.61\" x2=\"3817.69\" y2=\"1304.61\" stroke-linecap=\"round\" style=\"stroke:#1A476F;stroke-width:8.64\"/>\n",
       "\t<line x1=\"3773.63\" y1=\"2293.41\" x2=\"3817.69\" y2=\"2293.41\" stroke-linecap=\"round\" style=\"stroke:#1A476F;stroke-width:8.64\"/>\n",
       "\t<line x1=\"454.04\" y1=\"998.45\" x2=\"1289.47\" y2=\"917.14\" stroke-linecap=\"round\" style=\"stroke:#1A476F;stroke-width:8.64\"/>\n",
       "\t<line x1=\"1289.47\" y1=\"917.14\" x2=\"2124.91\" y2=\"1138.91\" stroke-linecap=\"round\" style=\"stroke:#1A476F;stroke-width:8.64\"/>\n",
       "\t<line x1=\"2124.91\" y1=\"1138.91\" x2=\"2960.22\" y2=\"1855.81\" stroke-linecap=\"round\" style=\"stroke:#1A476F;stroke-width:8.64\"/>\n",
       "\t<line x1=\"2960.22\" y1=\"1855.81\" x2=\"3795.66\" y2=\"1799.13\" stroke-linecap=\"round\" style=\"stroke:#1A476F;stroke-width:8.64\"/>\n",
       "\t<circle cx=\"454.04\" cy=\"998.45\" r=\"22.03\" style=\"fill:#1A476F;stroke:#1A476F;stroke-width:8.64\"/>\n",
       "\t<circle cx=\"1289.47\" cy=\"917.14\" r=\"22.03\" style=\"fill:#1A476F;stroke:#1A476F;stroke-width:8.64\"/>\n",
       "\t<circle cx=\"2124.91\" cy=\"1138.91\" r=\"22.03\" style=\"fill:#1A476F;stroke:#1A476F;stroke-width:8.64\"/>\n",
       "\t<circle cx=\"2960.22\" cy=\"1855.81\" r=\"22.03\" style=\"fill:#1A476F;stroke:#1A476F;stroke-width:8.64\"/>\n",
       "\t<circle cx=\"3795.66\" cy=\"1799.13\" r=\"22.03\" style=\"fill:#1A476F;stroke:#1A476F;stroke-width:8.64\"/>\n",
       "\t<line x1=\"390.80\" y1=\"2489.19\" x2=\"390.80\" y2=\"261.37\" style=\"stroke:#000000;stroke-width:5.76\"/>\n",
       "\t<line x1=\"390.80\" y1=\"2358.87\" x2=\"350.83\" y2=\"2358.87\" style=\"stroke:#000000;stroke-width:5.76\"/>\n",
       "\t<text x=\"300.72\" y=\"2358.87\" style=\"font-family:'Helvetica';font-size:99.99px;fill:#000000\" transform=\"rotate(-90 300.72,2358.87)\" text-anchor=\"middle\">-.4</text>\n",
       "\t<line x1=\"390.80\" y1=\"1850.37\" x2=\"350.83\" y2=\"1850.37\" style=\"stroke:#000000;stroke-width:5.76\"/>\n",
       "\t<text x=\"300.72\" y=\"1850.37\" style=\"font-family:'Helvetica';font-size:99.99px;fill:#000000\" transform=\"rotate(-90 300.72,1850.37)\" text-anchor=\"middle\">-.2</text>\n",
       "\t<line x1=\"390.80\" y1=\"1341.74\" x2=\"350.83\" y2=\"1341.74\" style=\"stroke:#000000;stroke-width:5.76\"/>\n",
       "\t<text x=\"300.72\" y=\"1341.74\" style=\"font-family:'Helvetica';font-size:99.99px;fill:#000000\" transform=\"rotate(-90 300.72,1341.74)\" text-anchor=\"middle\">0</text>\n",
       "\t<line x1=\"390.80\" y1=\"833.23\" x2=\"350.83\" y2=\"833.23\" style=\"stroke:#000000;stroke-width:5.76\"/>\n",
       "\t<text x=\"300.72\" y=\"833.23\" style=\"font-family:'Helvetica';font-size:99.99px;fill:#000000\" transform=\"rotate(-90 300.72,833.23)\" text-anchor=\"middle\">.2</text>\n",
       "\t<line x1=\"390.80\" y1=\"324.73\" x2=\"350.83\" y2=\"324.73\" style=\"stroke:#000000;stroke-width:5.76\"/>\n",
       "\t<text x=\"300.72\" y=\"324.73\" style=\"font-family:'Helvetica';font-size:99.99px;fill:#000000\" transform=\"rotate(-90 300.72,324.73)\" text-anchor=\"middle\">.4</text>\n",
       "\t<text x=\"190.71\" y=\"1375.28\" style=\"font-family:'Helvetica';font-size:99.99px;fill:#000000\" transform=\"rotate(-90 190.71,1375.28)\" text-anchor=\"middle\">Effects on Probability</text>\n",
       "\t<line x1=\"390.80\" y1=\"2489.19\" x2=\"3859.02\" y2=\"2489.19\" style=\"stroke:#000000;stroke-width:5.76\"/>\n",
       "\t<line x1=\"454.16\" y1=\"2489.19\" x2=\"454.16\" y2=\"2529.16\" style=\"stroke:#000000;stroke-width:5.76\"/>\n",
       "\t<text x=\"454.16\" y=\"2619.14\" style=\"font-family:'Helvetica';font-size:99.99px;fill:#000000\" text-anchor=\"middle\">1</text>\n",
       "\t<line x1=\"1289.47\" y1=\"2489.19\" x2=\"1289.47\" y2=\"2529.16\" style=\"stroke:#000000;stroke-width:5.76\"/>\n",
       "\t<text x=\"1289.47\" y=\"2619.14\" style=\"font-family:'Helvetica';font-size:99.99px;fill:#000000\" text-anchor=\"middle\">2</text>\n",
       "\t<line x1=\"2124.91\" y1=\"2489.19\" x2=\"2124.91\" y2=\"2529.16\" style=\"stroke:#000000;stroke-width:5.76\"/>\n",
       "\t<text x=\"2124.91\" y=\"2619.14\" style=\"font-family:'Helvetica';font-size:99.99px;fill:#000000\" text-anchor=\"middle\">3</text>\n",
       "\t<line x1=\"2960.35\" y1=\"2489.19\" x2=\"2960.35\" y2=\"2529.16\" style=\"stroke:#000000;stroke-width:5.76\"/>\n",
       "\t<text x=\"2960.35\" y=\"2619.14\" style=\"font-family:'Helvetica';font-size:99.99px;fill:#000000\" text-anchor=\"middle\">4</text>\n",
       "\t<line x1=\"3795.66\" y1=\"2489.19\" x2=\"3795.66\" y2=\"2529.16\" style=\"stroke:#000000;stroke-width:5.76\"/>\n",
       "\t<text x=\"3795.66\" y=\"2619.14\" style=\"font-family:'Helvetica';font-size:99.99px;fill:#000000\" text-anchor=\"middle\">5</text>\n",
       "\t<text x=\"2124.91\" y=\"2729.16\" style=\"font-family:'Helvetica';font-size:99.99px;fill:#000000\" text-anchor=\"middle\">Outcome</text>\n",
       "\t<text x=\"1980.00\" y=\"206.19\" style=\"font-family:'Helvetica';font-size:125.98px;fill:#1E2D53\" text-anchor=\"middle\">Conditional Marginal Effects of student1 with 95% CIs</text>\n",
       "</svg>\n"
      ],
      "text/html": [
       "                <iframe frameborder=\"0\" scrolling=\"no\" height=\"436\" width=\"600\"                srcdoc=\"<html><body>&lt;?xml version=&quot;1.0&quot; encoding=&quot;UTF-8&quot; standalone=&quot;no&quot;?&gt;\n",
       "&lt;!-- This is a Stata 14.2 generated SVG file (http://www.stata.com) --&gt;\n",
       "\n",
       "&lt;svg version=&quot;1.1&quot; width=&quot;600px&quot; height=&quot;436px&quot; viewBox=&quot;0 0 3960 2880&quot; xmlns=&quot;http://www.w3.org/2000/svg&quot;&gt;\n",
       "\t&lt;desc&gt;Stata Graph - Graph&lt;/desc&gt;\n",
       "\t&lt;rect x=&quot;0.00&quot; y=&quot;0.00&quot; width=&quot;3959.88&quot; height=&quot;2880.00&quot; style=&quot;fill:#EAF2F3;stroke:#EAF2F3;stroke-width:5.76&quot;/&gt;\n",
       "\t&lt;rect x=&quot;390.80&quot; y=&quot;261.37&quot; width=&quot;3468.22&quot; height=&quot;2227.82&quot; style=&quot;fill:#FFFFFF;stroke:#FFFFFF;stroke-width:5.76&quot;/&gt;\n",
       "\t&lt;line x1=&quot;390.80&quot; y1=&quot;2358.87&quot; x2=&quot;3859.02&quot; y2=&quot;2358.87&quot; style=&quot;stroke:#EAF2F3;stroke-width:8.64&quot;/&gt;\n",
       "\t&lt;line x1=&quot;390.80&quot; y1=&quot;1850.37&quot; x2=&quot;3859.02&quot; y2=&quot;1850.37&quot; style=&quot;stroke:#EAF2F3;stroke-width:8.64&quot;/&gt;\n",
       "\t&lt;line x1=&quot;390.80&quot; y1=&quot;1341.74&quot; x2=&quot;3859.02&quot; y2=&quot;1341.74&quot; style=&quot;stroke:#EAF2F3;stroke-width:8.64&quot;/&gt;\n",
       "\t&lt;line x1=&quot;390.80&quot; y1=&quot;833.23&quot; x2=&quot;3859.02&quot; y2=&quot;833.23&quot; style=&quot;stroke:#EAF2F3;stroke-width:8.64&quot;/&gt;\n",
       "\t&lt;line x1=&quot;390.80&quot; y1=&quot;324.73&quot; x2=&quot;3859.02&quot; y2=&quot;324.73&quot; style=&quot;stroke:#EAF2F3;stroke-width:8.64&quot;/&gt;\n",
       "\t&lt;line x1=&quot;454.16&quot; y1=&quot;1381.59&quot; x2=&quot;454.16&quot; y2=&quot;615.06&quot; style=&quot;stroke:#1A476F;stroke-width:8.64&quot;/&gt;\n",
       "\t&lt;line x1=&quot;432.13&quot; y1=&quot;615.06&quot; x2=&quot;476.19&quot; y2=&quot;615.06&quot; stroke-linecap=&quot;round&quot; style=&quot;stroke:#1A476F;stroke-width:8.64&quot;/&gt;\n",
       "\t&lt;line x1=&quot;432.13&quot; y1=&quot;1381.59&quot; x2=&quot;476.19&quot; y2=&quot;1381.59&quot; stroke-linecap=&quot;round&quot; style=&quot;stroke:#1A476F;stroke-width:8.64&quot;/&gt;\n",
       "\t&lt;line x1=&quot;1289.47&quot; y1=&quot;1388.77&quot; x2=&quot;1289.47&quot; y2=&quot;445.39&quot; style=&quot;stroke:#1A476F;stroke-width:8.64&quot;/&gt;\n",
       "\t&lt;line x1=&quot;1267.45&quot; y1=&quot;445.39&quot; x2=&quot;1311.50&quot; y2=&quot;445.39&quot; stroke-linecap=&quot;round&quot; style=&quot;stroke:#1A476F;stroke-width:8.64&quot;/&gt;\n",
       "\t&lt;line x1=&quot;1267.45&quot; y1=&quot;1388.77&quot; x2=&quot;1311.50&quot; y2=&quot;1388.77&quot; stroke-linecap=&quot;round&quot; style=&quot;stroke:#1A476F;stroke-width:8.64&quot;/&gt;\n",
       "\t&lt;line x1=&quot;2124.91&quot; y1=&quot;1404.24&quot; x2=&quot;2124.91&quot; y2=&quot;873.45&quot; style=&quot;stroke:#1A476F;stroke-width:8.64&quot;/&gt;\n",
       "\t&lt;line x1=&quot;2102.88&quot; y1=&quot;873.45&quot; x2=&quot;2146.94&quot; y2=&quot;873.45&quot; stroke-linecap=&quot;round&quot; style=&quot;stroke:#1A476F;stroke-width:8.64&quot;/&gt;\n",
       "\t&lt;line x1=&quot;2102.88&quot; y1=&quot;1404.24&quot; x2=&quot;2146.94&quot; y2=&quot;1404.24&quot; stroke-linecap=&quot;round&quot; style=&quot;stroke:#1A476F;stroke-width:8.64&quot;/&gt;\n",
       "\t&lt;line x1=&quot;2960.35&quot; y1=&quot;2425.82&quot; x2=&quot;2960.35&quot; y2=&quot;1285.56&quot; style=&quot;stroke:#1A476F;stroke-width:8.64&quot;/&gt;\n",
       "\t&lt;line x1=&quot;2938.32&quot; y1=&quot;1285.56&quot; x2=&quot;2982.38&quot; y2=&quot;1285.56&quot; stroke-linecap=&quot;round&quot; style=&quot;stroke:#1A476F;stroke-width:8.64&quot;/&gt;\n",
       "\t&lt;line x1=&quot;2938.32&quot; y1=&quot;2425.82&quot; x2=&quot;2982.38&quot; y2=&quot;2425.82&quot; stroke-linecap=&quot;round&quot; style=&quot;stroke:#1A476F;stroke-width:8.64&quot;/&gt;\n",
       "\t&lt;line x1=&quot;3795.66&quot; y1=&quot;2293.41&quot; x2=&quot;3795.66&quot; y2=&quot;1304.61&quot; style=&quot;stroke:#1A476F;stroke-width:8.64&quot;/&gt;\n",
       "\t&lt;line x1=&quot;3773.63&quot; y1=&quot;1304.61&quot; x2=&quot;3817.69&quot; y2=&quot;1304.61&quot; stroke-linecap=&quot;round&quot; style=&quot;stroke:#1A476F;stroke-width:8.64&quot;/&gt;\n",
       "\t&lt;line x1=&quot;3773.63&quot; y1=&quot;2293.41&quot; x2=&quot;3817.69&quot; y2=&quot;2293.41&quot; stroke-linecap=&quot;round&quot; style=&quot;stroke:#1A476F;stroke-width:8.64&quot;/&gt;\n",
       "\t&lt;line x1=&quot;454.04&quot; y1=&quot;998.45&quot; x2=&quot;1289.47&quot; y2=&quot;917.14&quot; stroke-linecap=&quot;round&quot; style=&quot;stroke:#1A476F;stroke-width:8.64&quot;/&gt;\n",
       "\t&lt;line x1=&quot;1289.47&quot; y1=&quot;917.14&quot; x2=&quot;2124.91&quot; y2=&quot;1138.91&quot; stroke-linecap=&quot;round&quot; style=&quot;stroke:#1A476F;stroke-width:8.64&quot;/&gt;\n",
       "\t&lt;line x1=&quot;2124.91&quot; y1=&quot;1138.91&quot; x2=&quot;2960.22&quot; y2=&quot;1855.81&quot; stroke-linecap=&quot;round&quot; style=&quot;stroke:#1A476F;stroke-width:8.64&quot;/&gt;\n",
       "\t&lt;line x1=&quot;2960.22&quot; y1=&quot;1855.81&quot; x2=&quot;3795.66&quot; y2=&quot;1799.13&quot; stroke-linecap=&quot;round&quot; style=&quot;stroke:#1A476F;stroke-width:8.64&quot;/&gt;\n",
       "\t&lt;circle cx=&quot;454.04&quot; cy=&quot;998.45&quot; r=&quot;22.03&quot; style=&quot;fill:#1A476F;stroke:#1A476F;stroke-width:8.64&quot;/&gt;\n",
       "\t&lt;circle cx=&quot;1289.47&quot; cy=&quot;917.14&quot; r=&quot;22.03&quot; style=&quot;fill:#1A476F;stroke:#1A476F;stroke-width:8.64&quot;/&gt;\n",
       "\t&lt;circle cx=&quot;2124.91&quot; cy=&quot;1138.91&quot; r=&quot;22.03&quot; style=&quot;fill:#1A476F;stroke:#1A476F;stroke-width:8.64&quot;/&gt;\n",
       "\t&lt;circle cx=&quot;2960.22&quot; cy=&quot;1855.81&quot; r=&quot;22.03&quot; style=&quot;fill:#1A476F;stroke:#1A476F;stroke-width:8.64&quot;/&gt;\n",
       "\t&lt;circle cx=&quot;3795.66&quot; cy=&quot;1799.13&quot; r=&quot;22.03&quot; style=&quot;fill:#1A476F;stroke:#1A476F;stroke-width:8.64&quot;/&gt;\n",
       "\t&lt;line x1=&quot;390.80&quot; y1=&quot;2489.19&quot; x2=&quot;390.80&quot; y2=&quot;261.37&quot; style=&quot;stroke:#000000;stroke-width:5.76&quot;/&gt;\n",
       "\t&lt;line x1=&quot;390.80&quot; y1=&quot;2358.87&quot; x2=&quot;350.83&quot; y2=&quot;2358.87&quot; style=&quot;stroke:#000000;stroke-width:5.76&quot;/&gt;\n",
       "\t&lt;text x=&quot;300.72&quot; y=&quot;2358.87&quot; style=&quot;font-family:&#x27;Helvetica&#x27;;font-size:99.99px;fill:#000000&quot; transform=&quot;rotate(-90 300.72,2358.87)&quot; text-anchor=&quot;middle&quot;&gt;-.4&lt;/text&gt;\n",
       "\t&lt;line x1=&quot;390.80&quot; y1=&quot;1850.37&quot; x2=&quot;350.83&quot; y2=&quot;1850.37&quot; style=&quot;stroke:#000000;stroke-width:5.76&quot;/&gt;\n",
       "\t&lt;text x=&quot;300.72&quot; y=&quot;1850.37&quot; style=&quot;font-family:&#x27;Helvetica&#x27;;font-size:99.99px;fill:#000000&quot; transform=&quot;rotate(-90 300.72,1850.37)&quot; text-anchor=&quot;middle&quot;&gt;-.2&lt;/text&gt;\n",
       "\t&lt;line x1=&quot;390.80&quot; y1=&quot;1341.74&quot; x2=&quot;350.83&quot; y2=&quot;1341.74&quot; style=&quot;stroke:#000000;stroke-width:5.76&quot;/&gt;\n",
       "\t&lt;text x=&quot;300.72&quot; y=&quot;1341.74&quot; style=&quot;font-family:&#x27;Helvetica&#x27;;font-size:99.99px;fill:#000000&quot; transform=&quot;rotate(-90 300.72,1341.74)&quot; text-anchor=&quot;middle&quot;&gt;0&lt;/text&gt;\n",
       "\t&lt;line x1=&quot;390.80&quot; y1=&quot;833.23&quot; x2=&quot;350.83&quot; y2=&quot;833.23&quot; style=&quot;stroke:#000000;stroke-width:5.76&quot;/&gt;\n",
       "\t&lt;text x=&quot;300.72&quot; y=&quot;833.23&quot; style=&quot;font-family:&#x27;Helvetica&#x27;;font-size:99.99px;fill:#000000&quot; transform=&quot;rotate(-90 300.72,833.23)&quot; text-anchor=&quot;middle&quot;&gt;.2&lt;/text&gt;\n",
       "\t&lt;line x1=&quot;390.80&quot; y1=&quot;324.73&quot; x2=&quot;350.83&quot; y2=&quot;324.73&quot; style=&quot;stroke:#000000;stroke-width:5.76&quot;/&gt;\n",
       "\t&lt;text x=&quot;300.72&quot; y=&quot;324.73&quot; style=&quot;font-family:&#x27;Helvetica&#x27;;font-size:99.99px;fill:#000000&quot; transform=&quot;rotate(-90 300.72,324.73)&quot; text-anchor=&quot;middle&quot;&gt;.4&lt;/text&gt;\n",
       "\t&lt;text x=&quot;190.71&quot; y=&quot;1375.28&quot; style=&quot;font-family:&#x27;Helvetica&#x27;;font-size:99.99px;fill:#000000&quot; transform=&quot;rotate(-90 190.71,1375.28)&quot; text-anchor=&quot;middle&quot;&gt;Effects on Probability&lt;/text&gt;\n",
       "\t&lt;line x1=&quot;390.80&quot; y1=&quot;2489.19&quot; x2=&quot;3859.02&quot; y2=&quot;2489.19&quot; style=&quot;stroke:#000000;stroke-width:5.76&quot;/&gt;\n",
       "\t&lt;line x1=&quot;454.16&quot; y1=&quot;2489.19&quot; x2=&quot;454.16&quot; y2=&quot;2529.16&quot; style=&quot;stroke:#000000;stroke-width:5.76&quot;/&gt;\n",
       "\t&lt;text x=&quot;454.16&quot; y=&quot;2619.14&quot; style=&quot;font-family:&#x27;Helvetica&#x27;;font-size:99.99px;fill:#000000&quot; text-anchor=&quot;middle&quot;&gt;1&lt;/text&gt;\n",
       "\t&lt;line x1=&quot;1289.47&quot; y1=&quot;2489.19&quot; x2=&quot;1289.47&quot; y2=&quot;2529.16&quot; style=&quot;stroke:#000000;stroke-width:5.76&quot;/&gt;\n",
       "\t&lt;text x=&quot;1289.47&quot; y=&quot;2619.14&quot; style=&quot;font-family:&#x27;Helvetica&#x27;;font-size:99.99px;fill:#000000&quot; text-anchor=&quot;middle&quot;&gt;2&lt;/text&gt;\n",
       "\t&lt;line x1=&quot;2124.91&quot; y1=&quot;2489.19&quot; x2=&quot;2124.91&quot; y2=&quot;2529.16&quot; style=&quot;stroke:#000000;stroke-width:5.76&quot;/&gt;\n",
       "\t&lt;text x=&quot;2124.91&quot; y=&quot;2619.14&quot; style=&quot;font-family:&#x27;Helvetica&#x27;;font-size:99.99px;fill:#000000&quot; text-anchor=&quot;middle&quot;&gt;3&lt;/text&gt;\n",
       "\t&lt;line x1=&quot;2960.35&quot; y1=&quot;2489.19&quot; x2=&quot;2960.35&quot; y2=&quot;2529.16&quot; style=&quot;stroke:#000000;stroke-width:5.76&quot;/&gt;\n",
       "\t&lt;text x=&quot;2960.35&quot; y=&quot;2619.14&quot; style=&quot;font-family:&#x27;Helvetica&#x27;;font-size:99.99px;fill:#000000&quot; text-anchor=&quot;middle&quot;&gt;4&lt;/text&gt;\n",
       "\t&lt;line x1=&quot;3795.66&quot; y1=&quot;2489.19&quot; x2=&quot;3795.66&quot; y2=&quot;2529.16&quot; style=&quot;stroke:#000000;stroke-width:5.76&quot;/&gt;\n",
       "\t&lt;text x=&quot;3795.66&quot; y=&quot;2619.14&quot; style=&quot;font-family:&#x27;Helvetica&#x27;;font-size:99.99px;fill:#000000&quot; text-anchor=&quot;middle&quot;&gt;5&lt;/text&gt;\n",
       "\t&lt;text x=&quot;2124.91&quot; y=&quot;2729.16&quot; style=&quot;font-family:&#x27;Helvetica&#x27;;font-size:99.99px;fill:#000000&quot; text-anchor=&quot;middle&quot;&gt;Outcome&lt;/text&gt;\n",
       "\t&lt;text x=&quot;1980.00&quot; y=&quot;206.19&quot; style=&quot;font-family:&#x27;Helvetica&#x27;;font-size:125.98px;fill:#1E2D53&quot; text-anchor=&quot;middle&quot;&gt;Conditional Marginal Effects of student1 with 95% CIs&lt;/text&gt;\n",
       "&lt;/svg&gt;\n",
       "</body></html>\"></iframe>\n"
      ],
      "text/plain": [
       "This front-end cannot display the desired image type."
      ]
     },
     "metadata": {
      "image/svg+xml": {
       "height": 436,
       "width": 600
      },
      "text/html": {
       "height": 436,
       "width": 600
      }
     },
     "output_type": "display_data"
    },
    {
     "name": "stdout",
     "output_type": "stream",
     "text": [
      "\n",
      "\n"
     ]
    }
   ],
   "source": [
    "marginsplot"
   ]
  },
  {
   "cell_type": "code",
   "execution_count": 180,
   "metadata": {},
   "outputs": [
    {
     "name": "stdout",
     "output_type": "stream",
     "text": [
      "\n",
      "\n",
      "\n",
      "Conditional marginal effects                    Number of obs     =        184\n",
      "Model VCE    : OIM\n",
      "\n",
      "dy/dx w.r.t. : student1\n",
      "1._predict   : Pr(a_cons_hac==1), predict(pr outcome(1))\n",
      "2._predict   : Pr(a_cons_hac==2), predict(pr outcome(2))\n",
      "3._predict   : Pr(a_cons_hac==3), predict(pr outcome(3))\n",
      "4._predict   : Pr(a_cons_hac==4), predict(pr outcome(4))\n",
      "5._predict   : Pr(a_cons_hac==5), predict(pr outcome(5))\n",
      "at           : age             =           2\n",
      "               gender          =           1\n",
      "               marriage        =           1\n",
      "               student1        =           0\n",
      "               company_man2    =           0\n",
      "               public_off~3    =           1\n",
      "               profession4     =           0\n",
      "               researcher5     =           0\n",
      "               learn           =           3\n",
      "               income          =           2\n",
      "               avg_distance    =           3\n",
      "               freq_use_ev     =           3\n",
      "               club_kepco2     =           1\n",
      "               club_jeju3      =           0\n",
      "               ev_owner        =           0\n",
      "               saving_free     =           1\n",
      "               a_cons_sho~s    =           4\n",
      "               a_cons_as       =           4\n",
      "               a_cons_cha~e    =           3\n",
      "               a_cons_num~k    =           5\n",
      "               a_cons_lon~e    =           4\n",
      "               a_cons_hil~e    =           3\n",
      "\n",
      "------------------------------------------------------------------------------\n",
      "             |            Delta-method\n",
      "             |      dy/dx   Std. Err.      z    P>|z|     [95% Conf. Interval]\n",
      "-------------+----------------------------------------------------------------\n",
      "student1     |\n",
      "    _predict |\n",
      "          1  |   .0631785    .043424     1.45   0.146     -.021931     .148288\n",
      "          2  |   .1334645   .0760435     1.76   0.079    -.0155781     .282507\n",
      "          3  |    .189584   .1154749     1.64   0.101    -.0367427    .4159106\n",
      "          4  |  -.1006731   .0856452    -1.18   0.240    -.2685345    .0671884\n",
      "          5  |  -.2855538   .1673579    -1.71   0.088    -.6135693    .0424617\n",
      "------------------------------------------------------------------------------\n"
     ]
    }
   ],
   "source": [
    "* (Mode) change from students \n",
    "quietly: oprobit a_cons_hac age gender marriage student1 company_man2 public_officer3 profession4 researcher5 learn income avg_distance freq_use_ev club_kepco2 club_jeju3 ev_owner saving_free a_cons_short_dis a_cons_as a_cons_charge_fee a_cons_num_charge_lack a_cons_long_charge_time a_cons_hill_ride, nolog\n",
    "margins, dydx(student1) at(age=2  gender=1 marriage=1 student1=0 company_man2=0 public_officer3=1 profession4 =0 researcher5=0 learn=3 income=2 avg_distance=3 freq_use_ev =3  club_kepco2=1  club_jeju3  =0 ev_owner =0  saving_free = 1 a_cons_short=4 a_cons_as = 4 a_cons_charge_fee=3 a_cons_num_charge_lack =5  a_cons_long_charge_time= 4 a_cons_hill_ride =3 )"
   ]
  },
  {
   "cell_type": "code",
   "execution_count": 181,
   "metadata": {},
   "outputs": [
    {
     "name": "stdout",
     "output_type": "stream",
     "text": [
      "\n",
      "  Variables that uniquely identify margins: _outcome\n"
     ]
    },
    {
     "data": {
      "application/pdf": "[encoded data removed]",
      "image/svg+xml": [
       "<?xml version=\"1.0\" encoding=\"UTF-8\" standalone=\"no\"?>\n",
       "<!-- This is a Stata 14.2 generated SVG file (http://www.stata.com) -->\n",
       "\n",
       "<svg version=\"1.1\" width=\"600px\" height=\"436px\" viewBox=\"0 0 3960 2880\" xmlns=\"http://www.w3.org/2000/svg\">\n",
       "\t<desc>Stata Graph - Graph</desc>\n",
       "\t<rect x=\"0.00\" y=\"0.00\" width=\"3959.88\" height=\"2880.00\" style=\"fill:#EAF2F3;stroke:#EAF2F3;stroke-width:5.76\"/>\n",
       "\t<rect x=\"390.80\" y=\"261.37\" width=\"3468.22\" height=\"2227.82\" style=\"fill:#FFFFFF;stroke:#FFFFFF;stroke-width:5.76\"/>\n",
       "\t<line x1=\"390.80\" y1=\"2398.10\" x2=\"3859.02\" y2=\"2398.10\" style=\"stroke:#EAF2F3;stroke-width:8.64\"/>\n",
       "\t<line x1=\"390.80\" y1=\"1989.96\" x2=\"3859.02\" y2=\"1989.96\" style=\"stroke:#EAF2F3;stroke-width:8.64\"/>\n",
       "\t<line x1=\"390.80\" y1=\"1581.82\" x2=\"3859.02\" y2=\"1581.82\" style=\"stroke:#EAF2F3;stroke-width:8.64\"/>\n",
       "\t<line x1=\"390.80\" y1=\"1173.56\" x2=\"3859.02\" y2=\"1173.56\" style=\"stroke:#EAF2F3;stroke-width:8.64\"/>\n",
       "\t<line x1=\"390.80\" y1=\"765.42\" x2=\"3859.02\" y2=\"765.42\" style=\"stroke:#EAF2F3;stroke-width:8.64\"/>\n",
       "\t<line x1=\"390.80\" y1=\"357.15\" x2=\"3859.02\" y2=\"357.15\" style=\"stroke:#EAF2F3;stroke-width:8.64\"/>\n",
       "\t<line x1=\"454.16\" y1=\"1218.36\" x2=\"454.16\" y2=\"870.98\" style=\"stroke:#1A476F;stroke-width:8.64\"/>\n",
       "\t<line x1=\"432.13\" y1=\"870.98\" x2=\"476.19\" y2=\"870.98\" stroke-linecap=\"round\" style=\"stroke:#1A476F;stroke-width:8.64\"/>\n",
       "\t<line x1=\"432.13\" y1=\"1218.36\" x2=\"476.19\" y2=\"1218.36\" stroke-linecap=\"round\" style=\"stroke:#1A476F;stroke-width:8.64\"/>\n",
       "\t<line x1=\"1289.47\" y1=\"1205.36\" x2=\"1289.47\" y2=\"596.99\" style=\"stroke:#1A476F;stroke-width:8.64\"/>\n",
       "\t<line x1=\"1267.45\" y1=\"596.99\" x2=\"1311.50\" y2=\"596.99\" stroke-linecap=\"round\" style=\"stroke:#1A476F;stroke-width:8.64\"/>\n",
       "\t<line x1=\"1267.45\" y1=\"1205.36\" x2=\"1311.50\" y2=\"1205.36\" stroke-linecap=\"round\" style=\"stroke:#1A476F;stroke-width:8.64\"/>\n",
       "\t<line x1=\"2124.91\" y1=\"1248.55\" x2=\"2124.91\" y2=\"324.73\" style=\"stroke:#1A476F;stroke-width:8.64\"/>\n",
       "\t<line x1=\"2102.88\" y1=\"324.73\" x2=\"2146.94\" y2=\"324.73\" stroke-linecap=\"round\" style=\"stroke:#1A476F;stroke-width:8.64\"/>\n",
       "\t<line x1=\"2102.88\" y1=\"1248.55\" x2=\"2146.94\" y2=\"1248.55\" stroke-linecap=\"round\" style=\"stroke:#1A476F;stroke-width:8.64\"/>\n",
       "\t<line x1=\"2960.35\" y1=\"1721.66\" x2=\"2960.35\" y2=\"1036.44\" style=\"stroke:#1A476F;stroke-width:8.64\"/>\n",
       "\t<line x1=\"2938.32\" y1=\"1036.44\" x2=\"2982.38\" y2=\"1036.44\" stroke-linecap=\"round\" style=\"stroke:#1A476F;stroke-width:8.64\"/>\n",
       "\t<line x1=\"2938.32\" y1=\"1721.66\" x2=\"2982.38\" y2=\"1721.66\" stroke-linecap=\"round\" style=\"stroke:#1A476F;stroke-width:8.64\"/>\n",
       "\t<line x1=\"3795.66\" y1=\"2425.82\" x2=\"3795.66\" y2=\"1086.93\" style=\"stroke:#1A476F;stroke-width:8.64\"/>\n",
       "\t<line x1=\"3773.63\" y1=\"1086.93\" x2=\"3817.69\" y2=\"1086.93\" stroke-linecap=\"round\" style=\"stroke:#1A476F;stroke-width:8.64\"/>\n",
       "\t<line x1=\"3773.63\" y1=\"2425.82\" x2=\"3817.69\" y2=\"2425.82\" stroke-linecap=\"round\" style=\"stroke:#1A476F;stroke-width:8.64\"/>\n",
       "\t<line x1=\"454.04\" y1=\"1044.73\" x2=\"1289.47\" y2=\"901.30\" stroke-linecap=\"round\" style=\"stroke:#1A476F;stroke-width:8.64\"/>\n",
       "\t<line x1=\"1289.47\" y1=\"901.30\" x2=\"2124.91\" y2=\"786.70\" stroke-linecap=\"round\" style=\"stroke:#1A476F;stroke-width:8.64\"/>\n",
       "\t<line x1=\"2124.91\" y1=\"786.70\" x2=\"2960.22\" y2=\"1379.11\" stroke-linecap=\"round\" style=\"stroke:#1A476F;stroke-width:8.64\"/>\n",
       "\t<line x1=\"2960.22\" y1=\"1379.11\" x2=\"3795.66\" y2=\"1756.44\" stroke-linecap=\"round\" style=\"stroke:#1A476F;stroke-width:8.64\"/>\n",
       "\t<circle cx=\"454.04\" cy=\"1044.73\" r=\"22.03\" style=\"fill:#1A476F;stroke:#1A476F;stroke-width:8.64\"/>\n",
       "\t<circle cx=\"1289.47\" cy=\"901.30\" r=\"22.03\" style=\"fill:#1A476F;stroke:#1A476F;stroke-width:8.64\"/>\n",
       "\t<circle cx=\"2124.91\" cy=\"786.70\" r=\"22.03\" style=\"fill:#1A476F;stroke:#1A476F;stroke-width:8.64\"/>\n",
       "\t<circle cx=\"2960.22\" cy=\"1379.11\" r=\"22.03\" style=\"fill:#1A476F;stroke:#1A476F;stroke-width:8.64\"/>\n",
       "\t<circle cx=\"3795.66\" cy=\"1756.44\" r=\"22.03\" style=\"fill:#1A476F;stroke:#1A476F;stroke-width:8.64\"/>\n",
       "\t<line x1=\"390.80\" y1=\"2489.19\" x2=\"390.80\" y2=\"261.37\" style=\"stroke:#000000;stroke-width:5.76\"/>\n",
       "\t<line x1=\"390.80\" y1=\"2398.10\" x2=\"350.83\" y2=\"2398.10\" style=\"stroke:#000000;stroke-width:5.76\"/>\n",
       "\t<text x=\"300.72\" y=\"2398.10\" style=\"font-family:'Helvetica';font-size:99.99px;fill:#000000\" transform=\"rotate(-90 300.72,2398.10)\" text-anchor=\"middle\">-.6</text>\n",
       "\t<line x1=\"390.80\" y1=\"1989.96\" x2=\"350.83\" y2=\"1989.96\" style=\"stroke:#000000;stroke-width:5.76\"/>\n",
       "\t<text x=\"300.72\" y=\"1989.96\" style=\"font-family:'Helvetica';font-size:99.99px;fill:#000000\" transform=\"rotate(-90 300.72,1989.96)\" text-anchor=\"middle\">-.4</text>\n",
       "\t<line x1=\"390.80\" y1=\"1581.82\" x2=\"350.83\" y2=\"1581.82\" style=\"stroke:#000000;stroke-width:5.76\"/>\n",
       "\t<text x=\"300.72\" y=\"1581.82\" style=\"font-family:'Helvetica';font-size:99.99px;fill:#000000\" transform=\"rotate(-90 300.72,1581.82)\" text-anchor=\"middle\">-.2</text>\n",
       "\t<line x1=\"390.80\" y1=\"1173.56\" x2=\"350.83\" y2=\"1173.56\" style=\"stroke:#000000;stroke-width:5.76\"/>\n",
       "\t<text x=\"300.72\" y=\"1173.56\" style=\"font-family:'Helvetica';font-size:99.99px;fill:#000000\" transform=\"rotate(-90 300.72,1173.56)\" text-anchor=\"middle\">0</text>\n",
       "\t<line x1=\"390.80\" y1=\"765.42\" x2=\"350.83\" y2=\"765.42\" style=\"stroke:#000000;stroke-width:5.76\"/>\n",
       "\t<text x=\"300.72\" y=\"765.42\" style=\"font-family:'Helvetica';font-size:99.99px;fill:#000000\" transform=\"rotate(-90 300.72,765.42)\" text-anchor=\"middle\">.2</text>\n",
       "\t<line x1=\"390.80\" y1=\"357.15\" x2=\"350.83\" y2=\"357.15\" style=\"stroke:#000000;stroke-width:5.76\"/>\n",
       "\t<text x=\"300.72\" y=\"357.15\" style=\"font-family:'Helvetica';font-size:99.99px;fill:#000000\" transform=\"rotate(-90 300.72,357.15)\" text-anchor=\"middle\">.4</text>\n",
       "\t<text x=\"190.71\" y=\"1375.28\" style=\"font-family:'Helvetica';font-size:99.99px;fill:#000000\" transform=\"rotate(-90 190.71,1375.28)\" text-anchor=\"middle\">Effects on Probability</text>\n",
       "\t<line x1=\"390.80\" y1=\"2489.19\" x2=\"3859.02\" y2=\"2489.19\" style=\"stroke:#000000;stroke-width:5.76\"/>\n",
       "\t<line x1=\"454.16\" y1=\"2489.19\" x2=\"454.16\" y2=\"2529.16\" style=\"stroke:#000000;stroke-width:5.76\"/>\n",
       "\t<text x=\"454.16\" y=\"2619.14\" style=\"font-family:'Helvetica';font-size:99.99px;fill:#000000\" text-anchor=\"middle\">1</text>\n",
       "\t<line x1=\"1289.47\" y1=\"2489.19\" x2=\"1289.47\" y2=\"2529.16\" style=\"stroke:#000000;stroke-width:5.76\"/>\n",
       "\t<text x=\"1289.47\" y=\"2619.14\" style=\"font-family:'Helvetica';font-size:99.99px;fill:#000000\" text-anchor=\"middle\">2</text>\n",
       "\t<line x1=\"2124.91\" y1=\"2489.19\" x2=\"2124.91\" y2=\"2529.16\" style=\"stroke:#000000;stroke-width:5.76\"/>\n",
       "\t<text x=\"2124.91\" y=\"2619.14\" style=\"font-family:'Helvetica';font-size:99.99px;fill:#000000\" text-anchor=\"middle\">3</text>\n",
       "\t<line x1=\"2960.35\" y1=\"2489.19\" x2=\"2960.35\" y2=\"2529.16\" style=\"stroke:#000000;stroke-width:5.76\"/>\n",
       "\t<text x=\"2960.35\" y=\"2619.14\" style=\"font-family:'Helvetica';font-size:99.99px;fill:#000000\" text-anchor=\"middle\">4</text>\n",
       "\t<line x1=\"3795.66\" y1=\"2489.19\" x2=\"3795.66\" y2=\"2529.16\" style=\"stroke:#000000;stroke-width:5.76\"/>\n",
       "\t<text x=\"3795.66\" y=\"2619.14\" style=\"font-family:'Helvetica';font-size:99.99px;fill:#000000\" text-anchor=\"middle\">5</text>\n",
       "\t<text x=\"2124.91\" y=\"2729.16\" style=\"font-family:'Helvetica';font-size:99.99px;fill:#000000\" text-anchor=\"middle\">Outcome</text>\n",
       "\t<text x=\"1980.00\" y=\"206.19\" style=\"font-family:'Helvetica';font-size:125.98px;fill:#1E2D53\" text-anchor=\"middle\">Conditional Marginal Effects of student1 with 95% CIs</text>\n",
       "</svg>\n"
      ],
      "text/html": [
       "                <iframe frameborder=\"0\" scrolling=\"no\" height=\"436\" width=\"600\"                srcdoc=\"<html><body>&lt;?xml version=&quot;1.0&quot; encoding=&quot;UTF-8&quot; standalone=&quot;no&quot;?&gt;\n",
       "&lt;!-- This is a Stata 14.2 generated SVG file (http://www.stata.com) --&gt;\n",
       "\n",
       "&lt;svg version=&quot;1.1&quot; width=&quot;600px&quot; height=&quot;436px&quot; viewBox=&quot;0 0 3960 2880&quot; xmlns=&quot;http://www.w3.org/2000/svg&quot;&gt;\n",
       "\t&lt;desc&gt;Stata Graph - Graph&lt;/desc&gt;\n",
       "\t&lt;rect x=&quot;0.00&quot; y=&quot;0.00&quot; width=&quot;3959.88&quot; height=&quot;2880.00&quot; style=&quot;fill:#EAF2F3;stroke:#EAF2F3;stroke-width:5.76&quot;/&gt;\n",
       "\t&lt;rect x=&quot;390.80&quot; y=&quot;261.37&quot; width=&quot;3468.22&quot; height=&quot;2227.82&quot; style=&quot;fill:#FFFFFF;stroke:#FFFFFF;stroke-width:5.76&quot;/&gt;\n",
       "\t&lt;line x1=&quot;390.80&quot; y1=&quot;2398.10&quot; x2=&quot;3859.02&quot; y2=&quot;2398.10&quot; style=&quot;stroke:#EAF2F3;stroke-width:8.64&quot;/&gt;\n",
       "\t&lt;line x1=&quot;390.80&quot; y1=&quot;1989.96&quot; x2=&quot;3859.02&quot; y2=&quot;1989.96&quot; style=&quot;stroke:#EAF2F3;stroke-width:8.64&quot;/&gt;\n",
       "\t&lt;line x1=&quot;390.80&quot; y1=&quot;1581.82&quot; x2=&quot;3859.02&quot; y2=&quot;1581.82&quot; style=&quot;stroke:#EAF2F3;stroke-width:8.64&quot;/&gt;\n",
       "\t&lt;line x1=&quot;390.80&quot; y1=&quot;1173.56&quot; x2=&quot;3859.02&quot; y2=&quot;1173.56&quot; style=&quot;stroke:#EAF2F3;stroke-width:8.64&quot;/&gt;\n",
       "\t&lt;line x1=&quot;390.80&quot; y1=&quot;765.42&quot; x2=&quot;3859.02&quot; y2=&quot;765.42&quot; style=&quot;stroke:#EAF2F3;stroke-width:8.64&quot;/&gt;\n",
       "\t&lt;line x1=&quot;390.80&quot; y1=&quot;357.15&quot; x2=&quot;3859.02&quot; y2=&quot;357.15&quot; style=&quot;stroke:#EAF2F3;stroke-width:8.64&quot;/&gt;\n",
       "\t&lt;line x1=&quot;454.16&quot; y1=&quot;1218.36&quot; x2=&quot;454.16&quot; y2=&quot;870.98&quot; style=&quot;stroke:#1A476F;stroke-width:8.64&quot;/&gt;\n",
       "\t&lt;line x1=&quot;432.13&quot; y1=&quot;870.98&quot; x2=&quot;476.19&quot; y2=&quot;870.98&quot; stroke-linecap=&quot;round&quot; style=&quot;stroke:#1A476F;stroke-width:8.64&quot;/&gt;\n",
       "\t&lt;line x1=&quot;432.13&quot; y1=&quot;1218.36&quot; x2=&quot;476.19&quot; y2=&quot;1218.36&quot; stroke-linecap=&quot;round&quot; style=&quot;stroke:#1A476F;stroke-width:8.64&quot;/&gt;\n",
       "\t&lt;line x1=&quot;1289.47&quot; y1=&quot;1205.36&quot; x2=&quot;1289.47&quot; y2=&quot;596.99&quot; style=&quot;stroke:#1A476F;stroke-width:8.64&quot;/&gt;\n",
       "\t&lt;line x1=&quot;1267.45&quot; y1=&quot;596.99&quot; x2=&quot;1311.50&quot; y2=&quot;596.99&quot; stroke-linecap=&quot;round&quot; style=&quot;stroke:#1A476F;stroke-width:8.64&quot;/&gt;\n",
       "\t&lt;line x1=&quot;1267.45&quot; y1=&quot;1205.36&quot; x2=&quot;1311.50&quot; y2=&quot;1205.36&quot; stroke-linecap=&quot;round&quot; style=&quot;stroke:#1A476F;stroke-width:8.64&quot;/&gt;\n",
       "\t&lt;line x1=&quot;2124.91&quot; y1=&quot;1248.55&quot; x2=&quot;2124.91&quot; y2=&quot;324.73&quot; style=&quot;stroke:#1A476F;stroke-width:8.64&quot;/&gt;\n",
       "\t&lt;line x1=&quot;2102.88&quot; y1=&quot;324.73&quot; x2=&quot;2146.94&quot; y2=&quot;324.73&quot; stroke-linecap=&quot;round&quot; style=&quot;stroke:#1A476F;stroke-width:8.64&quot;/&gt;\n",
       "\t&lt;line x1=&quot;2102.88&quot; y1=&quot;1248.55&quot; x2=&quot;2146.94&quot; y2=&quot;1248.55&quot; stroke-linecap=&quot;round&quot; style=&quot;stroke:#1A476F;stroke-width:8.64&quot;/&gt;\n",
       "\t&lt;line x1=&quot;2960.35&quot; y1=&quot;1721.66&quot; x2=&quot;2960.35&quot; y2=&quot;1036.44&quot; style=&quot;stroke:#1A476F;stroke-width:8.64&quot;/&gt;\n",
       "\t&lt;line x1=&quot;2938.32&quot; y1=&quot;1036.44&quot; x2=&quot;2982.38&quot; y2=&quot;1036.44&quot; stroke-linecap=&quot;round&quot; style=&quot;stroke:#1A476F;stroke-width:8.64&quot;/&gt;\n",
       "\t&lt;line x1=&quot;2938.32&quot; y1=&quot;1721.66&quot; x2=&quot;2982.38&quot; y2=&quot;1721.66&quot; stroke-linecap=&quot;round&quot; style=&quot;stroke:#1A476F;stroke-width:8.64&quot;/&gt;\n",
       "\t&lt;line x1=&quot;3795.66&quot; y1=&quot;2425.82&quot; x2=&quot;3795.66&quot; y2=&quot;1086.93&quot; style=&quot;stroke:#1A476F;stroke-width:8.64&quot;/&gt;\n",
       "\t&lt;line x1=&quot;3773.63&quot; y1=&quot;1086.93&quot; x2=&quot;3817.69&quot; y2=&quot;1086.93&quot; stroke-linecap=&quot;round&quot; style=&quot;stroke:#1A476F;stroke-width:8.64&quot;/&gt;\n",
       "\t&lt;line x1=&quot;3773.63&quot; y1=&quot;2425.82&quot; x2=&quot;3817.69&quot; y2=&quot;2425.82&quot; stroke-linecap=&quot;round&quot; style=&quot;stroke:#1A476F;stroke-width:8.64&quot;/&gt;\n",
       "\t&lt;line x1=&quot;454.04&quot; y1=&quot;1044.73&quot; x2=&quot;1289.47&quot; y2=&quot;901.30&quot; stroke-linecap=&quot;round&quot; style=&quot;stroke:#1A476F;stroke-width:8.64&quot;/&gt;\n",
       "\t&lt;line x1=&quot;1289.47&quot; y1=&quot;901.30&quot; x2=&quot;2124.91&quot; y2=&quot;786.70&quot; stroke-linecap=&quot;round&quot; style=&quot;stroke:#1A476F;stroke-width:8.64&quot;/&gt;\n",
       "\t&lt;line x1=&quot;2124.91&quot; y1=&quot;786.70&quot; x2=&quot;2960.22&quot; y2=&quot;1379.11&quot; stroke-linecap=&quot;round&quot; style=&quot;stroke:#1A476F;stroke-width:8.64&quot;/&gt;\n",
       "\t&lt;line x1=&quot;2960.22&quot; y1=&quot;1379.11&quot; x2=&quot;3795.66&quot; y2=&quot;1756.44&quot; stroke-linecap=&quot;round&quot; style=&quot;stroke:#1A476F;stroke-width:8.64&quot;/&gt;\n",
       "\t&lt;circle cx=&quot;454.04&quot; cy=&quot;1044.73&quot; r=&quot;22.03&quot; style=&quot;fill:#1A476F;stroke:#1A476F;stroke-width:8.64&quot;/&gt;\n",
       "\t&lt;circle cx=&quot;1289.47&quot; cy=&quot;901.30&quot; r=&quot;22.03&quot; style=&quot;fill:#1A476F;stroke:#1A476F;stroke-width:8.64&quot;/&gt;\n",
       "\t&lt;circle cx=&quot;2124.91&quot; cy=&quot;786.70&quot; r=&quot;22.03&quot; style=&quot;fill:#1A476F;stroke:#1A476F;stroke-width:8.64&quot;/&gt;\n",
       "\t&lt;circle cx=&quot;2960.22&quot; cy=&quot;1379.11&quot; r=&quot;22.03&quot; style=&quot;fill:#1A476F;stroke:#1A476F;stroke-width:8.64&quot;/&gt;\n",
       "\t&lt;circle cx=&quot;3795.66&quot; cy=&quot;1756.44&quot; r=&quot;22.03&quot; style=&quot;fill:#1A476F;stroke:#1A476F;stroke-width:8.64&quot;/&gt;\n",
       "\t&lt;line x1=&quot;390.80&quot; y1=&quot;2489.19&quot; x2=&quot;390.80&quot; y2=&quot;261.37&quot; style=&quot;stroke:#000000;stroke-width:5.76&quot;/&gt;\n",
       "\t&lt;line x1=&quot;390.80&quot; y1=&quot;2398.10&quot; x2=&quot;350.83&quot; y2=&quot;2398.10&quot; style=&quot;stroke:#000000;stroke-width:5.76&quot;/&gt;\n",
       "\t&lt;text x=&quot;300.72&quot; y=&quot;2398.10&quot; style=&quot;font-family:&#x27;Helvetica&#x27;;font-size:99.99px;fill:#000000&quot; transform=&quot;rotate(-90 300.72,2398.10)&quot; text-anchor=&quot;middle&quot;&gt;-.6&lt;/text&gt;\n",
       "\t&lt;line x1=&quot;390.80&quot; y1=&quot;1989.96&quot; x2=&quot;350.83&quot; y2=&quot;1989.96&quot; style=&quot;stroke:#000000;stroke-width:5.76&quot;/&gt;\n",
       "\t&lt;text x=&quot;300.72&quot; y=&quot;1989.96&quot; style=&quot;font-family:&#x27;Helvetica&#x27;;font-size:99.99px;fill:#000000&quot; transform=&quot;rotate(-90 300.72,1989.96)&quot; text-anchor=&quot;middle&quot;&gt;-.4&lt;/text&gt;\n",
       "\t&lt;line x1=&quot;390.80&quot; y1=&quot;1581.82&quot; x2=&quot;350.83&quot; y2=&quot;1581.82&quot; style=&quot;stroke:#000000;stroke-width:5.76&quot;/&gt;\n",
       "\t&lt;text x=&quot;300.72&quot; y=&quot;1581.82&quot; style=&quot;font-family:&#x27;Helvetica&#x27;;font-size:99.99px;fill:#000000&quot; transform=&quot;rotate(-90 300.72,1581.82)&quot; text-anchor=&quot;middle&quot;&gt;-.2&lt;/text&gt;\n",
       "\t&lt;line x1=&quot;390.80&quot; y1=&quot;1173.56&quot; x2=&quot;350.83&quot; y2=&quot;1173.56&quot; style=&quot;stroke:#000000;stroke-width:5.76&quot;/&gt;\n",
       "\t&lt;text x=&quot;300.72&quot; y=&quot;1173.56&quot; style=&quot;font-family:&#x27;Helvetica&#x27;;font-size:99.99px;fill:#000000&quot; transform=&quot;rotate(-90 300.72,1173.56)&quot; text-anchor=&quot;middle&quot;&gt;0&lt;/text&gt;\n",
       "\t&lt;line x1=&quot;390.80&quot; y1=&quot;765.42&quot; x2=&quot;350.83&quot; y2=&quot;765.42&quot; style=&quot;stroke:#000000;stroke-width:5.76&quot;/&gt;\n",
       "\t&lt;text x=&quot;300.72&quot; y=&quot;765.42&quot; style=&quot;font-family:&#x27;Helvetica&#x27;;font-size:99.99px;fill:#000000&quot; transform=&quot;rotate(-90 300.72,765.42)&quot; text-anchor=&quot;middle&quot;&gt;.2&lt;/text&gt;\n",
       "\t&lt;line x1=&quot;390.80&quot; y1=&quot;357.15&quot; x2=&quot;350.83&quot; y2=&quot;357.15&quot; style=&quot;stroke:#000000;stroke-width:5.76&quot;/&gt;\n",
       "\t&lt;text x=&quot;300.72&quot; y=&quot;357.15&quot; style=&quot;font-family:&#x27;Helvetica&#x27;;font-size:99.99px;fill:#000000&quot; transform=&quot;rotate(-90 300.72,357.15)&quot; text-anchor=&quot;middle&quot;&gt;.4&lt;/text&gt;\n",
       "\t&lt;text x=&quot;190.71&quot; y=&quot;1375.28&quot; style=&quot;font-family:&#x27;Helvetica&#x27;;font-size:99.99px;fill:#000000&quot; transform=&quot;rotate(-90 190.71,1375.28)&quot; text-anchor=&quot;middle&quot;&gt;Effects on Probability&lt;/text&gt;\n",
       "\t&lt;line x1=&quot;390.80&quot; y1=&quot;2489.19&quot; x2=&quot;3859.02&quot; y2=&quot;2489.19&quot; style=&quot;stroke:#000000;stroke-width:5.76&quot;/&gt;\n",
       "\t&lt;line x1=&quot;454.16&quot; y1=&quot;2489.19&quot; x2=&quot;454.16&quot; y2=&quot;2529.16&quot; style=&quot;stroke:#000000;stroke-width:5.76&quot;/&gt;\n",
       "\t&lt;text x=&quot;454.16&quot; y=&quot;2619.14&quot; style=&quot;font-family:&#x27;Helvetica&#x27;;font-size:99.99px;fill:#000000&quot; text-anchor=&quot;middle&quot;&gt;1&lt;/text&gt;\n",
       "\t&lt;line x1=&quot;1289.47&quot; y1=&quot;2489.19&quot; x2=&quot;1289.47&quot; y2=&quot;2529.16&quot; style=&quot;stroke:#000000;stroke-width:5.76&quot;/&gt;\n",
       "\t&lt;text x=&quot;1289.47&quot; y=&quot;2619.14&quot; style=&quot;font-family:&#x27;Helvetica&#x27;;font-size:99.99px;fill:#000000&quot; text-anchor=&quot;middle&quot;&gt;2&lt;/text&gt;\n",
       "\t&lt;line x1=&quot;2124.91&quot; y1=&quot;2489.19&quot; x2=&quot;2124.91&quot; y2=&quot;2529.16&quot; style=&quot;stroke:#000000;stroke-width:5.76&quot;/&gt;\n",
       "\t&lt;text x=&quot;2124.91&quot; y=&quot;2619.14&quot; style=&quot;font-family:&#x27;Helvetica&#x27;;font-size:99.99px;fill:#000000&quot; text-anchor=&quot;middle&quot;&gt;3&lt;/text&gt;\n",
       "\t&lt;line x1=&quot;2960.35&quot; y1=&quot;2489.19&quot; x2=&quot;2960.35&quot; y2=&quot;2529.16&quot; style=&quot;stroke:#000000;stroke-width:5.76&quot;/&gt;\n",
       "\t&lt;text x=&quot;2960.35&quot; y=&quot;2619.14&quot; style=&quot;font-family:&#x27;Helvetica&#x27;;font-size:99.99px;fill:#000000&quot; text-anchor=&quot;middle&quot;&gt;4&lt;/text&gt;\n",
       "\t&lt;line x1=&quot;3795.66&quot; y1=&quot;2489.19&quot; x2=&quot;3795.66&quot; y2=&quot;2529.16&quot; style=&quot;stroke:#000000;stroke-width:5.76&quot;/&gt;\n",
       "\t&lt;text x=&quot;3795.66&quot; y=&quot;2619.14&quot; style=&quot;font-family:&#x27;Helvetica&#x27;;font-size:99.99px;fill:#000000&quot; text-anchor=&quot;middle&quot;&gt;5&lt;/text&gt;\n",
       "\t&lt;text x=&quot;2124.91&quot; y=&quot;2729.16&quot; style=&quot;font-family:&#x27;Helvetica&#x27;;font-size:99.99px;fill:#000000&quot; text-anchor=&quot;middle&quot;&gt;Outcome&lt;/text&gt;\n",
       "\t&lt;text x=&quot;1980.00&quot; y=&quot;206.19&quot; style=&quot;font-family:&#x27;Helvetica&#x27;;font-size:125.98px;fill:#1E2D53&quot; text-anchor=&quot;middle&quot;&gt;Conditional Marginal Effects of student1 with 95% CIs&lt;/text&gt;\n",
       "&lt;/svg&gt;\n",
       "</body></html>\"></iframe>\n"
      ],
      "text/plain": [
       "This front-end cannot display the desired image type."
      ]
     },
     "metadata": {
      "image/svg+xml": {
       "height": 436,
       "width": 600
      },
      "text/html": {
       "height": 436,
       "width": 600
      }
     },
     "output_type": "display_data"
    },
    {
     "name": "stdout",
     "output_type": "stream",
     "text": [
      "\n",
      "\n"
     ]
    }
   ],
   "source": [
    "marginsplot"
   ]
  },
  {
   "cell_type": "markdown",
   "metadata": {},
   "source": [
    "---\n",
    "### a_cons_short\n",
    "---"
   ]
  },
  {
   "cell_type": "code",
   "execution_count": 187,
   "metadata": {},
   "outputs": [
    {
     "name": "stdout",
     "output_type": "stream",
     "text": [
      "\n",
      "\n",
      "\n",
      "Conditional marginal effects                    Number of obs     =        184\n",
      "Model VCE    : OIM\n",
      "\n",
      "dy/dx w.r.t. : a_cons_short_dis\n",
      "1._predict   : Pr(a_cons_hac==1), predict(pr outcome(1))\n",
      "2._predict   : Pr(a_cons_hac==2), predict(pr outcome(2))\n",
      "3._predict   : Pr(a_cons_hac==3), predict(pr outcome(3))\n",
      "4._predict   : Pr(a_cons_hac==4), predict(pr outcome(4))\n",
      "5._predict   : Pr(a_cons_hac==5), predict(pr outcome(5))\n",
      "at           : age             =    2.326087 (mean)\n",
      "               gender          =     .798913 (mean)\n",
      "               marriage        =    .3967391 (mean)\n",
      "               student1        =    .0543478 (mean)\n",
      "               company_man2    =    .0271739 (mean)\n",
      "               public_off~3    =    .4836957 (mean)\n",
      "               profession4     =    .2771739 (mean)\n",
      "               researcher5     =    .0923913 (mean)\n",
      "               learn           =    3.217391 (mean)\n",
      "               income          =    2.298913 (mean)\n",
      "               avg_distance    =    3.293478 (mean)\n",
      "               freq_use_ev     =    3.119565 (mean)\n",
      "               club_kepco2     =    .5217391 (mean)\n",
      "               club_jeju3      =    .2771739 (mean)\n",
      "               ev_owner        =    .0978261 (mean)\n",
      "               saving_free     =    .8913043 (mean)\n",
      "               a_cons_sho~s    =    3.733696 (mean)\n",
      "               a_cons_as       =    3.315217 (mean)\n",
      "               a_cons_cha~e    =    2.771739 (mean)\n",
      "               a_cons_num~k    =    4.108696 (mean)\n",
      "               a_cons_lon~e    =    3.913043 (mean)\n",
      "               a_cons_hil~e    =    2.717391 (mean)\n",
      "\n",
      "----------------------------------------------------------------------------------\n",
      "                 |            Delta-method\n",
      "                 |      dy/dx   Std. Err.      z    P>|z|     [95% Conf. Interval]\n",
      "-----------------+----------------------------------------------------------------\n",
      "a_cons_short_dis |\n",
      "        _predict |\n",
      "              1  |  -.0420635   .0143698    -2.93   0.003    -.0702277   -.0138993\n",
      "              2  |   -.052012   .0173177    -3.00   0.003    -.0859541   -.0180698\n",
      "              3  |  -.0248574   .0122711    -2.03   0.043    -.0489082   -.0008066\n",
      "              4  |   .0629375   .0210926     2.98   0.003     .0215967    .1042782\n",
      "              5  |   .0559954   .0175077     3.20   0.001     .0216809    .0903098\n",
      "----------------------------------------------------------------------------------\n"
     ]
    }
   ],
   "source": [
    "* mean marginal effect\n",
    "quietly: oprobit a_cons_hac age gender marriage student1 company_man2 public_officer3 profession4 researcher5 learn income avg_distance freq_use_ev club_kepco2 club_jeju3 ev_owner saving_free a_cons_short_dis a_cons_as a_cons_charge_fee a_cons_num_charge_lack a_cons_long_charge_time a_cons_hill_ride, nolog\n",
    "margins, dydx(a_cons_short) atmeans"
   ]
  },
  {
   "cell_type": "code",
   "execution_count": 188,
   "metadata": {},
   "outputs": [
    {
     "name": "stdout",
     "output_type": "stream",
     "text": [
      "\n",
      "  Variables that uniquely identify margins: _outcome\n"
     ]
    },
    {
     "data": {
      "application/pdf": "[encoded data removed]",
      "image/svg+xml": [
       "<?xml version=\"1.0\" encoding=\"UTF-8\" standalone=\"no\"?>\n",
       "<!-- This is a Stata 14.2 generated SVG file (http://www.stata.com) -->\n",
       "\n",
       "<svg version=\"1.1\" width=\"600px\" height=\"436px\" viewBox=\"0 0 3960 2880\" xmlns=\"http://www.w3.org/2000/svg\">\n",
       "\t<desc>Stata Graph - Graph</desc>\n",
       "\t<rect x=\"0.00\" y=\"0.00\" width=\"3959.88\" height=\"2880.00\" style=\"fill:#EAF2F3;stroke:#EAF2F3;stroke-width:5.76\"/>\n",
       "\t<rect x=\"390.80\" y=\"261.37\" width=\"3468.22\" height=\"2227.82\" style=\"fill:#FFFFFF;stroke:#FFFFFF;stroke-width:5.76\"/>\n",
       "\t<line x1=\"390.80\" y1=\"2425.82\" x2=\"3859.02\" y2=\"2425.82\" style=\"stroke:#EAF2F3;stroke-width:8.64\"/>\n",
       "\t<line x1=\"390.80\" y1=\"1911.63\" x2=\"3859.02\" y2=\"1911.63\" style=\"stroke:#EAF2F3;stroke-width:8.64\"/>\n",
       "\t<line x1=\"390.80\" y1=\"1397.30\" x2=\"3859.02\" y2=\"1397.30\" style=\"stroke:#EAF2F3;stroke-width:8.64\"/>\n",
       "\t<line x1=\"390.80\" y1=\"882.98\" x2=\"3859.02\" y2=\"882.98\" style=\"stroke:#EAF2F3;stroke-width:8.64\"/>\n",
       "\t<line x1=\"390.80\" y1=\"368.66\" x2=\"3859.02\" y2=\"368.66\" style=\"stroke:#EAF2F3;stroke-width:8.64\"/>\n",
       "\t<line x1=\"454.16\" y1=\"2119.66\" x2=\"454.16\" y2=\"1540.24\" style=\"stroke:#1A476F;stroke-width:8.64\"/>\n",
       "\t<line x1=\"432.13\" y1=\"1540.24\" x2=\"476.19\" y2=\"1540.24\" stroke-linecap=\"round\" style=\"stroke:#1A476F;stroke-width:8.64\"/>\n",
       "\t<line x1=\"432.13\" y1=\"2119.66\" x2=\"476.19\" y2=\"2119.66\" stroke-linecap=\"round\" style=\"stroke:#1A476F;stroke-width:8.64\"/>\n",
       "\t<line x1=\"1289.47\" y1=\"2281.40\" x2=\"1289.47\" y2=\"1583.18\" style=\"stroke:#1A476F;stroke-width:8.64\"/>\n",
       "\t<line x1=\"1267.45\" y1=\"1583.18\" x2=\"1311.50\" y2=\"1583.18\" stroke-linecap=\"round\" style=\"stroke:#1A476F;stroke-width:8.64\"/>\n",
       "\t<line x1=\"1267.45\" y1=\"2281.40\" x2=\"1311.50\" y2=\"2281.40\" stroke-linecap=\"round\" style=\"stroke:#1A476F;stroke-width:8.64\"/>\n",
       "\t<line x1=\"2124.91\" y1=\"1900.36\" x2=\"2124.91\" y2=\"1405.60\" style=\"stroke:#1A476F;stroke-width:8.64\"/>\n",
       "\t<line x1=\"2102.88\" y1=\"1405.60\" x2=\"2146.94\" y2=\"1405.60\" stroke-linecap=\"round\" style=\"stroke:#1A476F;stroke-width:8.64\"/>\n",
       "\t<line x1=\"2102.88\" y1=\"1900.36\" x2=\"2146.94\" y2=\"1900.36\" stroke-linecap=\"round\" style=\"stroke:#1A476F;stroke-width:8.64\"/>\n",
       "\t<line x1=\"2960.35\" y1=\"1175.17\" x2=\"2960.35\" y2=\"324.73\" style=\"stroke:#1A476F;stroke-width:8.64\"/>\n",
       "\t<line x1=\"2938.32\" y1=\"324.73\" x2=\"2982.38\" y2=\"324.73\" stroke-linecap=\"round\" style=\"stroke:#1A476F;stroke-width:8.64\"/>\n",
       "\t<line x1=\"2938.32\" y1=\"1175.17\" x2=\"2982.38\" y2=\"1175.17\" stroke-linecap=\"round\" style=\"stroke:#1A476F;stroke-width:8.64\"/>\n",
       "\t<line x1=\"3795.66\" y1=\"1174.30\" x2=\"3795.66\" y2=\"468.41\" style=\"stroke:#1A476F;stroke-width:8.64\"/>\n",
       "\t<line x1=\"3773.63\" y1=\"468.41\" x2=\"3817.69\" y2=\"468.41\" stroke-linecap=\"round\" style=\"stroke:#1A476F;stroke-width:8.64\"/>\n",
       "\t<line x1=\"3773.63\" y1=\"1174.30\" x2=\"3817.69\" y2=\"1174.30\" stroke-linecap=\"round\" style=\"stroke:#1A476F;stroke-width:8.64\"/>\n",
       "\t<line x1=\"454.04\" y1=\"1829.95\" x2=\"1289.47\" y2=\"1932.29\" stroke-linecap=\"round\" style=\"stroke:#1A476F;stroke-width:8.64\"/>\n",
       "\t<line x1=\"1289.47\" y1=\"1932.29\" x2=\"2124.91\" y2=\"1652.98\" stroke-linecap=\"round\" style=\"stroke:#1A476F;stroke-width:8.64\"/>\n",
       "\t<line x1=\"2124.91\" y1=\"1652.98\" x2=\"2960.22\" y2=\"749.95\" stroke-linecap=\"round\" style=\"stroke:#1A476F;stroke-width:8.64\"/>\n",
       "\t<line x1=\"2960.22\" y1=\"749.95\" x2=\"3795.66\" y2=\"821.35\" stroke-linecap=\"round\" style=\"stroke:#1A476F;stroke-width:8.64\"/>\n",
       "\t<circle cx=\"454.04\" cy=\"1829.95\" r=\"22.03\" style=\"fill:#1A476F;stroke:#1A476F;stroke-width:8.64\"/>\n",
       "\t<circle cx=\"1289.47\" cy=\"1932.29\" r=\"22.03\" style=\"fill:#1A476F;stroke:#1A476F;stroke-width:8.64\"/>\n",
       "\t<circle cx=\"2124.91\" cy=\"1652.98\" r=\"22.03\" style=\"fill:#1A476F;stroke:#1A476F;stroke-width:8.64\"/>\n",
       "\t<circle cx=\"2960.22\" cy=\"749.95\" r=\"22.03\" style=\"fill:#1A476F;stroke:#1A476F;stroke-width:8.64\"/>\n",
       "\t<circle cx=\"3795.66\" cy=\"821.35\" r=\"22.03\" style=\"fill:#1A476F;stroke:#1A476F;stroke-width:8.64\"/>\n",
       "\t<line x1=\"390.80\" y1=\"2489.19\" x2=\"390.80\" y2=\"261.37\" style=\"stroke:#000000;stroke-width:5.76\"/>\n",
       "\t<line x1=\"390.80\" y1=\"2425.82\" x2=\"350.83\" y2=\"2425.82\" style=\"stroke:#000000;stroke-width:5.76\"/>\n",
       "\t<text x=\"300.72\" y=\"2425.82\" style=\"font-family:'Helvetica';font-size:99.99px;fill:#000000\" transform=\"rotate(-90 300.72,2425.82)\" text-anchor=\"middle\">-.1</text>\n",
       "\t<line x1=\"390.80\" y1=\"1911.63\" x2=\"350.83\" y2=\"1911.63\" style=\"stroke:#000000;stroke-width:5.76\"/>\n",
       "\t<text x=\"300.72\" y=\"1911.63\" style=\"font-family:'Helvetica';font-size:99.99px;fill:#000000\" transform=\"rotate(-90 300.72,1911.63)\" text-anchor=\"middle\">-.05</text>\n",
       "\t<line x1=\"390.80\" y1=\"1397.30\" x2=\"350.83\" y2=\"1397.30\" style=\"stroke:#000000;stroke-width:5.76\"/>\n",
       "\t<text x=\"300.72\" y=\"1397.30\" style=\"font-family:'Helvetica';font-size:99.99px;fill:#000000\" transform=\"rotate(-90 300.72,1397.30)\" text-anchor=\"middle\">0</text>\n",
       "\t<line x1=\"390.80\" y1=\"882.98\" x2=\"350.83\" y2=\"882.98\" style=\"stroke:#000000;stroke-width:5.76\"/>\n",
       "\t<text x=\"300.72\" y=\"882.98\" style=\"font-family:'Helvetica';font-size:99.99px;fill:#000000\" transform=\"rotate(-90 300.72,882.98)\" text-anchor=\"middle\">.05</text>\n",
       "\t<line x1=\"390.80\" y1=\"368.66\" x2=\"350.83\" y2=\"368.66\" style=\"stroke:#000000;stroke-width:5.76\"/>\n",
       "\t<text x=\"300.72\" y=\"368.66\" style=\"font-family:'Helvetica';font-size:99.99px;fill:#000000\" transform=\"rotate(-90 300.72,368.66)\" text-anchor=\"middle\">.1</text>\n",
       "\t<text x=\"190.71\" y=\"1375.28\" style=\"font-family:'Helvetica';font-size:99.99px;fill:#000000\" transform=\"rotate(-90 190.71,1375.28)\" text-anchor=\"middle\">Effects on Probability</text>\n",
       "\t<line x1=\"390.80\" y1=\"2489.19\" x2=\"3859.02\" y2=\"2489.19\" style=\"stroke:#000000;stroke-width:5.76\"/>\n",
       "\t<line x1=\"454.16\" y1=\"2489.19\" x2=\"454.16\" y2=\"2529.16\" style=\"stroke:#000000;stroke-width:5.76\"/>\n",
       "\t<text x=\"454.16\" y=\"2619.14\" style=\"font-family:'Helvetica';font-size:99.99px;fill:#000000\" text-anchor=\"middle\">1</text>\n",
       "\t<line x1=\"1289.47\" y1=\"2489.19\" x2=\"1289.47\" y2=\"2529.16\" style=\"stroke:#000000;stroke-width:5.76\"/>\n",
       "\t<text x=\"1289.47\" y=\"2619.14\" style=\"font-family:'Helvetica';font-size:99.99px;fill:#000000\" text-anchor=\"middle\">2</text>\n",
       "\t<line x1=\"2124.91\" y1=\"2489.19\" x2=\"2124.91\" y2=\"2529.16\" style=\"stroke:#000000;stroke-width:5.76\"/>\n",
       "\t<text x=\"2124.91\" y=\"2619.14\" style=\"font-family:'Helvetica';font-size:99.99px;fill:#000000\" text-anchor=\"middle\">3</text>\n",
       "\t<line x1=\"2960.35\" y1=\"2489.19\" x2=\"2960.35\" y2=\"2529.16\" style=\"stroke:#000000;stroke-width:5.76\"/>\n",
       "\t<text x=\"2960.35\" y=\"2619.14\" style=\"font-family:'Helvetica';font-size:99.99px;fill:#000000\" text-anchor=\"middle\">4</text>\n",
       "\t<line x1=\"3795.66\" y1=\"2489.19\" x2=\"3795.66\" y2=\"2529.16\" style=\"stroke:#000000;stroke-width:5.76\"/>\n",
       "\t<text x=\"3795.66\" y=\"2619.14\" style=\"font-family:'Helvetica';font-size:99.99px;fill:#000000\" text-anchor=\"middle\">5</text>\n",
       "\t<text x=\"2124.91\" y=\"2729.16\" style=\"font-family:'Helvetica';font-size:99.99px;fill:#000000\" text-anchor=\"middle\">Outcome</text>\n",
       "\t<text x=\"1980.00\" y=\"206.19\" style=\"font-family:'Helvetica';font-size:125.98px;fill:#1E2D53\" text-anchor=\"middle\">Conditional Marginal Effects of a_cons_short_dis with 95% CIs</text>\n",
       "</svg>\n"
      ],
      "text/html": [
       "                <iframe frameborder=\"0\" scrolling=\"no\" height=\"436\" width=\"600\"                srcdoc=\"<html><body>&lt;?xml version=&quot;1.0&quot; encoding=&quot;UTF-8&quot; standalone=&quot;no&quot;?&gt;\n",
       "&lt;!-- This is a Stata 14.2 generated SVG file (http://www.stata.com) --&gt;\n",
       "\n",
       "&lt;svg version=&quot;1.1&quot; width=&quot;600px&quot; height=&quot;436px&quot; viewBox=&quot;0 0 3960 2880&quot; xmlns=&quot;http://www.w3.org/2000/svg&quot;&gt;\n",
       "\t&lt;desc&gt;Stata Graph - Graph&lt;/desc&gt;\n",
       "\t&lt;rect x=&quot;0.00&quot; y=&quot;0.00&quot; width=&quot;3959.88&quot; height=&quot;2880.00&quot; style=&quot;fill:#EAF2F3;stroke:#EAF2F3;stroke-width:5.76&quot;/&gt;\n",
       "\t&lt;rect x=&quot;390.80&quot; y=&quot;261.37&quot; width=&quot;3468.22&quot; height=&quot;2227.82&quot; style=&quot;fill:#FFFFFF;stroke:#FFFFFF;stroke-width:5.76&quot;/&gt;\n",
       "\t&lt;line x1=&quot;390.80&quot; y1=&quot;2425.82&quot; x2=&quot;3859.02&quot; y2=&quot;2425.82&quot; style=&quot;stroke:#EAF2F3;stroke-width:8.64&quot;/&gt;\n",
       "\t&lt;line x1=&quot;390.80&quot; y1=&quot;1911.63&quot; x2=&quot;3859.02&quot; y2=&quot;1911.63&quot; style=&quot;stroke:#EAF2F3;stroke-width:8.64&quot;/&gt;\n",
       "\t&lt;line x1=&quot;390.80&quot; y1=&quot;1397.30&quot; x2=&quot;3859.02&quot; y2=&quot;1397.30&quot; style=&quot;stroke:#EAF2F3;stroke-width:8.64&quot;/&gt;\n",
       "\t&lt;line x1=&quot;390.80&quot; y1=&quot;882.98&quot; x2=&quot;3859.02&quot; y2=&quot;882.98&quot; style=&quot;stroke:#EAF2F3;stroke-width:8.64&quot;/&gt;\n",
       "\t&lt;line x1=&quot;390.80&quot; y1=&quot;368.66&quot; x2=&quot;3859.02&quot; y2=&quot;368.66&quot; style=&quot;stroke:#EAF2F3;stroke-width:8.64&quot;/&gt;\n",
       "\t&lt;line x1=&quot;454.16&quot; y1=&quot;2119.66&quot; x2=&quot;454.16&quot; y2=&quot;1540.24&quot; style=&quot;stroke:#1A476F;stroke-width:8.64&quot;/&gt;\n",
       "\t&lt;line x1=&quot;432.13&quot; y1=&quot;1540.24&quot; x2=&quot;476.19&quot; y2=&quot;1540.24&quot; stroke-linecap=&quot;round&quot; style=&quot;stroke:#1A476F;stroke-width:8.64&quot;/&gt;\n",
       "\t&lt;line x1=&quot;432.13&quot; y1=&quot;2119.66&quot; x2=&quot;476.19&quot; y2=&quot;2119.66&quot; stroke-linecap=&quot;round&quot; style=&quot;stroke:#1A476F;stroke-width:8.64&quot;/&gt;\n",
       "\t&lt;line x1=&quot;1289.47&quot; y1=&quot;2281.40&quot; x2=&quot;1289.47&quot; y2=&quot;1583.18&quot; style=&quot;stroke:#1A476F;stroke-width:8.64&quot;/&gt;\n",
       "\t&lt;line x1=&quot;1267.45&quot; y1=&quot;1583.18&quot; x2=&quot;1311.50&quot; y2=&quot;1583.18&quot; stroke-linecap=&quot;round&quot; style=&quot;stroke:#1A476F;stroke-width:8.64&quot;/&gt;\n",
       "\t&lt;line x1=&quot;1267.45&quot; y1=&quot;2281.40&quot; x2=&quot;1311.50&quot; y2=&quot;2281.40&quot; stroke-linecap=&quot;round&quot; style=&quot;stroke:#1A476F;stroke-width:8.64&quot;/&gt;\n",
       "\t&lt;line x1=&quot;2124.91&quot; y1=&quot;1900.36&quot; x2=&quot;2124.91&quot; y2=&quot;1405.60&quot; style=&quot;stroke:#1A476F;stroke-width:8.64&quot;/&gt;\n",
       "\t&lt;line x1=&quot;2102.88&quot; y1=&quot;1405.60&quot; x2=&quot;2146.94&quot; y2=&quot;1405.60&quot; stroke-linecap=&quot;round&quot; style=&quot;stroke:#1A476F;stroke-width:8.64&quot;/&gt;\n",
       "\t&lt;line x1=&quot;2102.88&quot; y1=&quot;1900.36&quot; x2=&quot;2146.94&quot; y2=&quot;1900.36&quot; stroke-linecap=&quot;round&quot; style=&quot;stroke:#1A476F;stroke-width:8.64&quot;/&gt;\n",
       "\t&lt;line x1=&quot;2960.35&quot; y1=&quot;1175.17&quot; x2=&quot;2960.35&quot; y2=&quot;324.73&quot; style=&quot;stroke:#1A476F;stroke-width:8.64&quot;/&gt;\n",
       "\t&lt;line x1=&quot;2938.32&quot; y1=&quot;324.73&quot; x2=&quot;2982.38&quot; y2=&quot;324.73&quot; stroke-linecap=&quot;round&quot; style=&quot;stroke:#1A476F;stroke-width:8.64&quot;/&gt;\n",
       "\t&lt;line x1=&quot;2938.32&quot; y1=&quot;1175.17&quot; x2=&quot;2982.38&quot; y2=&quot;1175.17&quot; stroke-linecap=&quot;round&quot; style=&quot;stroke:#1A476F;stroke-width:8.64&quot;/&gt;\n",
       "\t&lt;line x1=&quot;3795.66&quot; y1=&quot;1174.30&quot; x2=&quot;3795.66&quot; y2=&quot;468.41&quot; style=&quot;stroke:#1A476F;stroke-width:8.64&quot;/&gt;\n",
       "\t&lt;line x1=&quot;3773.63&quot; y1=&quot;468.41&quot; x2=&quot;3817.69&quot; y2=&quot;468.41&quot; stroke-linecap=&quot;round&quot; style=&quot;stroke:#1A476F;stroke-width:8.64&quot;/&gt;\n",
       "\t&lt;line x1=&quot;3773.63&quot; y1=&quot;1174.30&quot; x2=&quot;3817.69&quot; y2=&quot;1174.30&quot; stroke-linecap=&quot;round&quot; style=&quot;stroke:#1A476F;stroke-width:8.64&quot;/&gt;\n",
       "\t&lt;line x1=&quot;454.04&quot; y1=&quot;1829.95&quot; x2=&quot;1289.47&quot; y2=&quot;1932.29&quot; stroke-linecap=&quot;round&quot; style=&quot;stroke:#1A476F;stroke-width:8.64&quot;/&gt;\n",
       "\t&lt;line x1=&quot;1289.47&quot; y1=&quot;1932.29&quot; x2=&quot;2124.91&quot; y2=&quot;1652.98&quot; stroke-linecap=&quot;round&quot; style=&quot;stroke:#1A476F;stroke-width:8.64&quot;/&gt;\n",
       "\t&lt;line x1=&quot;2124.91&quot; y1=&quot;1652.98&quot; x2=&quot;2960.22&quot; y2=&quot;749.95&quot; stroke-linecap=&quot;round&quot; style=&quot;stroke:#1A476F;stroke-width:8.64&quot;/&gt;\n",
       "\t&lt;line x1=&quot;2960.22&quot; y1=&quot;749.95&quot; x2=&quot;3795.66&quot; y2=&quot;821.35&quot; stroke-linecap=&quot;round&quot; style=&quot;stroke:#1A476F;stroke-width:8.64&quot;/&gt;\n",
       "\t&lt;circle cx=&quot;454.04&quot; cy=&quot;1829.95&quot; r=&quot;22.03&quot; style=&quot;fill:#1A476F;stroke:#1A476F;stroke-width:8.64&quot;/&gt;\n",
       "\t&lt;circle cx=&quot;1289.47&quot; cy=&quot;1932.29&quot; r=&quot;22.03&quot; style=&quot;fill:#1A476F;stroke:#1A476F;stroke-width:8.64&quot;/&gt;\n",
       "\t&lt;circle cx=&quot;2124.91&quot; cy=&quot;1652.98&quot; r=&quot;22.03&quot; style=&quot;fill:#1A476F;stroke:#1A476F;stroke-width:8.64&quot;/&gt;\n",
       "\t&lt;circle cx=&quot;2960.22&quot; cy=&quot;749.95&quot; r=&quot;22.03&quot; style=&quot;fill:#1A476F;stroke:#1A476F;stroke-width:8.64&quot;/&gt;\n",
       "\t&lt;circle cx=&quot;3795.66&quot; cy=&quot;821.35&quot; r=&quot;22.03&quot; style=&quot;fill:#1A476F;stroke:#1A476F;stroke-width:8.64&quot;/&gt;\n",
       "\t&lt;line x1=&quot;390.80&quot; y1=&quot;2489.19&quot; x2=&quot;390.80&quot; y2=&quot;261.37&quot; style=&quot;stroke:#000000;stroke-width:5.76&quot;/&gt;\n",
       "\t&lt;line x1=&quot;390.80&quot; y1=&quot;2425.82&quot; x2=&quot;350.83&quot; y2=&quot;2425.82&quot; style=&quot;stroke:#000000;stroke-width:5.76&quot;/&gt;\n",
       "\t&lt;text x=&quot;300.72&quot; y=&quot;2425.82&quot; style=&quot;font-family:&#x27;Helvetica&#x27;;font-size:99.99px;fill:#000000&quot; transform=&quot;rotate(-90 300.72,2425.82)&quot; text-anchor=&quot;middle&quot;&gt;-.1&lt;/text&gt;\n",
       "\t&lt;line x1=&quot;390.80&quot; y1=&quot;1911.63&quot; x2=&quot;350.83&quot; y2=&quot;1911.63&quot; style=&quot;stroke:#000000;stroke-width:5.76&quot;/&gt;\n",
       "\t&lt;text x=&quot;300.72&quot; y=&quot;1911.63&quot; style=&quot;font-family:&#x27;Helvetica&#x27;;font-size:99.99px;fill:#000000&quot; transform=&quot;rotate(-90 300.72,1911.63)&quot; text-anchor=&quot;middle&quot;&gt;-.05&lt;/text&gt;\n",
       "\t&lt;line x1=&quot;390.80&quot; y1=&quot;1397.30&quot; x2=&quot;350.83&quot; y2=&quot;1397.30&quot; style=&quot;stroke:#000000;stroke-width:5.76&quot;/&gt;\n",
       "\t&lt;text x=&quot;300.72&quot; y=&quot;1397.30&quot; style=&quot;font-family:&#x27;Helvetica&#x27;;font-size:99.99px;fill:#000000&quot; transform=&quot;rotate(-90 300.72,1397.30)&quot; text-anchor=&quot;middle&quot;&gt;0&lt;/text&gt;\n",
       "\t&lt;line x1=&quot;390.80&quot; y1=&quot;882.98&quot; x2=&quot;350.83&quot; y2=&quot;882.98&quot; style=&quot;stroke:#000000;stroke-width:5.76&quot;/&gt;\n",
       "\t&lt;text x=&quot;300.72&quot; y=&quot;882.98&quot; style=&quot;font-family:&#x27;Helvetica&#x27;;font-size:99.99px;fill:#000000&quot; transform=&quot;rotate(-90 300.72,882.98)&quot; text-anchor=&quot;middle&quot;&gt;.05&lt;/text&gt;\n",
       "\t&lt;line x1=&quot;390.80&quot; y1=&quot;368.66&quot; x2=&quot;350.83&quot; y2=&quot;368.66&quot; style=&quot;stroke:#000000;stroke-width:5.76&quot;/&gt;\n",
       "\t&lt;text x=&quot;300.72&quot; y=&quot;368.66&quot; style=&quot;font-family:&#x27;Helvetica&#x27;;font-size:99.99px;fill:#000000&quot; transform=&quot;rotate(-90 300.72,368.66)&quot; text-anchor=&quot;middle&quot;&gt;.1&lt;/text&gt;\n",
       "\t&lt;text x=&quot;190.71&quot; y=&quot;1375.28&quot; style=&quot;font-family:&#x27;Helvetica&#x27;;font-size:99.99px;fill:#000000&quot; transform=&quot;rotate(-90 190.71,1375.28)&quot; text-anchor=&quot;middle&quot;&gt;Effects on Probability&lt;/text&gt;\n",
       "\t&lt;line x1=&quot;390.80&quot; y1=&quot;2489.19&quot; x2=&quot;3859.02&quot; y2=&quot;2489.19&quot; style=&quot;stroke:#000000;stroke-width:5.76&quot;/&gt;\n",
       "\t&lt;line x1=&quot;454.16&quot; y1=&quot;2489.19&quot; x2=&quot;454.16&quot; y2=&quot;2529.16&quot; style=&quot;stroke:#000000;stroke-width:5.76&quot;/&gt;\n",
       "\t&lt;text x=&quot;454.16&quot; y=&quot;2619.14&quot; style=&quot;font-family:&#x27;Helvetica&#x27;;font-size:99.99px;fill:#000000&quot; text-anchor=&quot;middle&quot;&gt;1&lt;/text&gt;\n",
       "\t&lt;line x1=&quot;1289.47&quot; y1=&quot;2489.19&quot; x2=&quot;1289.47&quot; y2=&quot;2529.16&quot; style=&quot;stroke:#000000;stroke-width:5.76&quot;/&gt;\n",
       "\t&lt;text x=&quot;1289.47&quot; y=&quot;2619.14&quot; style=&quot;font-family:&#x27;Helvetica&#x27;;font-size:99.99px;fill:#000000&quot; text-anchor=&quot;middle&quot;&gt;2&lt;/text&gt;\n",
       "\t&lt;line x1=&quot;2124.91&quot; y1=&quot;2489.19&quot; x2=&quot;2124.91&quot; y2=&quot;2529.16&quot; style=&quot;stroke:#000000;stroke-width:5.76&quot;/&gt;\n",
       "\t&lt;text x=&quot;2124.91&quot; y=&quot;2619.14&quot; style=&quot;font-family:&#x27;Helvetica&#x27;;font-size:99.99px;fill:#000000&quot; text-anchor=&quot;middle&quot;&gt;3&lt;/text&gt;\n",
       "\t&lt;line x1=&quot;2960.35&quot; y1=&quot;2489.19&quot; x2=&quot;2960.35&quot; y2=&quot;2529.16&quot; style=&quot;stroke:#000000;stroke-width:5.76&quot;/&gt;\n",
       "\t&lt;text x=&quot;2960.35&quot; y=&quot;2619.14&quot; style=&quot;font-family:&#x27;Helvetica&#x27;;font-size:99.99px;fill:#000000&quot; text-anchor=&quot;middle&quot;&gt;4&lt;/text&gt;\n",
       "\t&lt;line x1=&quot;3795.66&quot; y1=&quot;2489.19&quot; x2=&quot;3795.66&quot; y2=&quot;2529.16&quot; style=&quot;stroke:#000000;stroke-width:5.76&quot;/&gt;\n",
       "\t&lt;text x=&quot;3795.66&quot; y=&quot;2619.14&quot; style=&quot;font-family:&#x27;Helvetica&#x27;;font-size:99.99px;fill:#000000&quot; text-anchor=&quot;middle&quot;&gt;5&lt;/text&gt;\n",
       "\t&lt;text x=&quot;2124.91&quot; y=&quot;2729.16&quot; style=&quot;font-family:&#x27;Helvetica&#x27;;font-size:99.99px;fill:#000000&quot; text-anchor=&quot;middle&quot;&gt;Outcome&lt;/text&gt;\n",
       "\t&lt;text x=&quot;1980.00&quot; y=&quot;206.19&quot; style=&quot;font-family:&#x27;Helvetica&#x27;;font-size:125.98px;fill:#1E2D53&quot; text-anchor=&quot;middle&quot;&gt;Conditional Marginal Effects of a_cons_short_dis with 95% CIs&lt;/text&gt;\n",
       "&lt;/svg&gt;\n",
       "</body></html>\"></iframe>\n"
      ],
      "text/plain": [
       "This front-end cannot display the desired image type."
      ]
     },
     "metadata": {
      "image/svg+xml": {
       "height": 436,
       "width": 600
      },
      "text/html": {
       "height": 436,
       "width": 600
      }
     },
     "output_type": "display_data"
    },
    {
     "name": "stdout",
     "output_type": "stream",
     "text": [
      "\n",
      "\n"
     ]
    }
   ],
   "source": [
    "marginsplot"
   ]
  },
  {
   "cell_type": "code",
   "execution_count": 189,
   "metadata": {},
   "outputs": [
    {
     "name": "stdout",
     "output_type": "stream",
     "text": [
      "\n",
      "\n",
      "\n",
      "Conditional marginal effects                    Number of obs     =        184\n",
      "Model VCE    : OIM\n",
      "\n",
      "dy/dx w.r.t. : a_cons_short_dis\n",
      "1._predict   : Pr(a_cons_hac==1), predict(pr outcome(1))\n",
      "2._predict   : Pr(a_cons_hac==2), predict(pr outcome(2))\n",
      "3._predict   : Pr(a_cons_hac==3), predict(pr outcome(3))\n",
      "4._predict   : Pr(a_cons_hac==4), predict(pr outcome(4))\n",
      "5._predict   : Pr(a_cons_hac==5), predict(pr outcome(5))\n",
      "at           : age             =           2\n",
      "               gender          =           1\n",
      "               marriage        =           1\n",
      "               student1        =           0\n",
      "               company_man2    =           0\n",
      "               public_off~3    =           1\n",
      "               profession4     =           0\n",
      "               researcher5     =           0\n",
      "               learn           =           3\n",
      "               income          =           2\n",
      "               avg_distance    =           3\n",
      "               freq_use_ev     =           3\n",
      "               club_kepco2     =           1\n",
      "               club_jeju3      =           0\n",
      "               ev_owner        =           0\n",
      "               saving_free     =           1\n",
      "               a_cons_sho~s    =           4\n",
      "               a_cons_as       =           4\n",
      "               a_cons_cha~e    =           3\n",
      "               a_cons_num~k    =           5\n",
      "               a_cons_lon~e    =           4\n",
      "               a_cons_hil~e    =           3\n",
      "\n",
      "----------------------------------------------------------------------------------\n",
      "                 |            Delta-method\n",
      "                 |      dy/dx   Std. Err.      z    P>|z|     [95% Conf. Interval]\n",
      "-----------------+----------------------------------------------------------------\n",
      "a_cons_short_dis |\n",
      "        _predict |\n",
      "              1  |  -.0196739   .0109519    -1.80   0.072    -.0411392    .0017914\n",
      "              2  |  -.0415611    .015188    -2.74   0.006     -.071329   -.0117933\n",
      "              3  |  -.0590368   .0223713    -2.64   0.008    -.1028838   -.0151899\n",
      "              4  |   .0313498   .0238941     1.31   0.190    -.0154817    .0781813\n",
      "              5  |   .0889221   .0304932     2.92   0.004     .0291566    .1486876\n",
      "----------------------------------------------------------------------------------\n"
     ]
    }
   ],
   "source": [
    "quietly: oprobit a_cons_hac age gender marriage student1 company_man2 public_officer3 profession4 researcher5 learn income avg_distance freq_use_ev club_kepco2 club_jeju3 ev_owner saving_free a_cons_short_dis a_cons_as a_cons_charge_fee a_cons_num_charge_lack a_cons_long_charge_time a_cons_hill_ride, nolog\n",
    "margins, dydx(a_cons_short) at(age=2  gender=1 marriage=1 student1=0 company_man2=0 public_officer3=1 profession4 =0 researcher5=0 learn=3 income=2 avg_distance=3 freq_use_ev =3  club_kepco2=1  club_jeju3  =0 ev_owner =0  saving_free = 1 a_cons_short=4 a_cons_as = 4 a_cons_charge_fee=3 a_cons_num_charge_lack =5  a_cons_long_charge_time= 4 a_cons_hill_ride =3 )"
   ]
  },
  {
   "cell_type": "code",
   "execution_count": 190,
   "metadata": {},
   "outputs": [
    {
     "name": "stdout",
     "output_type": "stream",
     "text": [
      "\n",
      "  Variables that uniquely identify margins: _outcome\n"
     ]
    },
    {
     "data": {
      "application/pdf": "[encoded data removed]",
      "image/svg+xml": [
       "<?xml version=\"1.0\" encoding=\"UTF-8\" standalone=\"no\"?>\n",
       "<!-- This is a Stata 14.2 generated SVG file (http://www.stata.com) -->\n",
       "\n",
       "<svg version=\"1.1\" width=\"600px\" height=\"436px\" viewBox=\"0 0 3960 2880\" xmlns=\"http://www.w3.org/2000/svg\">\n",
       "\t<desc>Stata Graph - Graph</desc>\n",
       "\t<rect x=\"0.00\" y=\"0.00\" width=\"3959.88\" height=\"2880.00\" style=\"fill:#EAF2F3;stroke:#EAF2F3;stroke-width:5.76\"/>\n",
       "\t<rect x=\"390.80\" y=\"261.37\" width=\"3468.22\" height=\"2227.82\" style=\"fill:#FFFFFF;stroke:#FFFFFF;stroke-width:5.76\"/>\n",
       "\t<line x1=\"390.80\" y1=\"2401.94\" x2=\"3859.02\" y2=\"2401.94\" style=\"stroke:#EAF2F3;stroke-width:8.64\"/>\n",
       "\t<line x1=\"390.80\" y1=\"1986.50\" x2=\"3859.02\" y2=\"1986.50\" style=\"stroke:#EAF2F3;stroke-width:8.64\"/>\n",
       "\t<line x1=\"390.80\" y1=\"1571.06\" x2=\"3859.02\" y2=\"1571.06\" style=\"stroke:#EAF2F3;stroke-width:8.64\"/>\n",
       "\t<line x1=\"390.80\" y1=\"1155.61\" x2=\"3859.02\" y2=\"1155.61\" style=\"stroke:#EAF2F3;stroke-width:8.64\"/>\n",
       "\t<line x1=\"390.80\" y1=\"740.17\" x2=\"3859.02\" y2=\"740.17\" style=\"stroke:#EAF2F3;stroke-width:8.64\"/>\n",
       "\t<line x1=\"390.80\" y1=\"324.73\" x2=\"3859.02\" y2=\"324.73\" style=\"stroke:#EAF2F3;stroke-width:8.64\"/>\n",
       "\t<line x1=\"454.16\" y1=\"1912.86\" x2=\"454.16\" y2=\"1556.08\" style=\"stroke:#1A476F;stroke-width:8.64\"/>\n",
       "\t<line x1=\"432.13\" y1=\"1556.08\" x2=\"476.19\" y2=\"1556.08\" stroke-linecap=\"round\" style=\"stroke:#1A476F;stroke-width:8.64\"/>\n",
       "\t<line x1=\"432.13\" y1=\"1912.86\" x2=\"476.19\" y2=\"1912.86\" stroke-linecap=\"round\" style=\"stroke:#1A476F;stroke-width:8.64\"/>\n",
       "\t<line x1=\"1289.47\" y1=\"2163.71\" x2=\"1289.47\" y2=\"1668.94\" style=\"stroke:#1A476F;stroke-width:8.64\"/>\n",
       "\t<line x1=\"1267.45\" y1=\"1668.94\" x2=\"1311.50\" y2=\"1668.94\" stroke-linecap=\"round\" style=\"stroke:#1A476F;stroke-width:8.64\"/>\n",
       "\t<line x1=\"1267.45\" y1=\"2163.71\" x2=\"1311.50\" y2=\"2163.71\" stroke-linecap=\"round\" style=\"stroke:#1A476F;stroke-width:8.64\"/>\n",
       "\t<line x1=\"2124.91\" y1=\"2425.82\" x2=\"2124.91\" y2=\"1697.28\" style=\"stroke:#1A476F;stroke-width:8.64\"/>\n",
       "\t<line x1=\"2102.88\" y1=\"1697.28\" x2=\"2146.94\" y2=\"1697.28\" stroke-linecap=\"round\" style=\"stroke:#1A476F;stroke-width:8.64\"/>\n",
       "\t<line x1=\"2102.88\" y1=\"2425.82\" x2=\"2146.94\" y2=\"2425.82\" stroke-linecap=\"round\" style=\"stroke:#1A476F;stroke-width:8.64\"/>\n",
       "\t<line x1=\"2960.35\" y1=\"1699.64\" x2=\"2960.35\" y2=\"921.47\" style=\"stroke:#1A476F;stroke-width:8.64\"/>\n",
       "\t<line x1=\"2938.32\" y1=\"921.47\" x2=\"2982.38\" y2=\"921.47\" stroke-linecap=\"round\" style=\"stroke:#1A476F;stroke-width:8.64\"/>\n",
       "\t<line x1=\"2938.32\" y1=\"1699.64\" x2=\"2982.38\" y2=\"1699.64\" stroke-linecap=\"round\" style=\"stroke:#1A476F;stroke-width:8.64\"/>\n",
       "\t<line x1=\"3795.66\" y1=\"1328.75\" x2=\"3795.66\" y2=\"335.62\" style=\"stroke:#1A476F;stroke-width:8.64\"/>\n",
       "\t<line x1=\"3773.63\" y1=\"335.62\" x2=\"3817.69\" y2=\"335.62\" stroke-linecap=\"round\" style=\"stroke:#1A476F;stroke-width:8.64\"/>\n",
       "\t<line x1=\"3773.63\" y1=\"1328.75\" x2=\"3817.69\" y2=\"1328.75\" stroke-linecap=\"round\" style=\"stroke:#1A476F;stroke-width:8.64\"/>\n",
       "\t<line x1=\"454.04\" y1=\"1734.53\" x2=\"1289.47\" y2=\"1916.45\" stroke-linecap=\"round\" style=\"stroke:#1A476F;stroke-width:8.64\"/>\n",
       "\t<line x1=\"1289.47\" y1=\"1916.45\" x2=\"2124.91\" y2=\"2061.62\" stroke-linecap=\"round\" style=\"stroke:#1A476F;stroke-width:8.64\"/>\n",
       "\t<line x1=\"2124.91\" y1=\"2061.62\" x2=\"2960.22\" y2=\"1310.55\" stroke-linecap=\"round\" style=\"stroke:#1A476F;stroke-width:8.64\"/>\n",
       "\t<line x1=\"2960.22\" y1=\"1310.55\" x2=\"3795.66\" y2=\"832.24\" stroke-linecap=\"round\" style=\"stroke:#1A476F;stroke-width:8.64\"/>\n",
       "\t<circle cx=\"454.04\" cy=\"1734.53\" r=\"22.03\" style=\"fill:#1A476F;stroke:#1A476F;stroke-width:8.64\"/>\n",
       "\t<circle cx=\"1289.47\" cy=\"1916.45\" r=\"22.03\" style=\"fill:#1A476F;stroke:#1A476F;stroke-width:8.64\"/>\n",
       "\t<circle cx=\"2124.91\" cy=\"2061.62\" r=\"22.03\" style=\"fill:#1A476F;stroke:#1A476F;stroke-width:8.64\"/>\n",
       "\t<circle cx=\"2960.22\" cy=\"1310.55\" r=\"22.03\" style=\"fill:#1A476F;stroke:#1A476F;stroke-width:8.64\"/>\n",
       "\t<circle cx=\"3795.66\" cy=\"832.24\" r=\"22.03\" style=\"fill:#1A476F;stroke:#1A476F;stroke-width:8.64\"/>\n",
       "\t<line x1=\"390.80\" y1=\"2489.19\" x2=\"390.80\" y2=\"261.37\" style=\"stroke:#000000;stroke-width:5.76\"/>\n",
       "\t<line x1=\"390.80\" y1=\"2401.94\" x2=\"350.83\" y2=\"2401.94\" style=\"stroke:#000000;stroke-width:5.76\"/>\n",
       "\t<text x=\"300.72\" y=\"2401.94\" style=\"font-family:'Helvetica';font-size:99.99px;fill:#000000\" transform=\"rotate(-90 300.72,2401.94)\" text-anchor=\"middle\">-.1</text>\n",
       "\t<line x1=\"390.80\" y1=\"1986.50\" x2=\"350.83\" y2=\"1986.50\" style=\"stroke:#000000;stroke-width:5.76\"/>\n",
       "\t<text x=\"300.72\" y=\"1986.50\" style=\"font-family:'Helvetica';font-size:99.99px;fill:#000000\" transform=\"rotate(-90 300.72,1986.50)\" text-anchor=\"middle\">-.05</text>\n",
       "\t<line x1=\"390.80\" y1=\"1571.06\" x2=\"350.83\" y2=\"1571.06\" style=\"stroke:#000000;stroke-width:5.76\"/>\n",
       "\t<text x=\"300.72\" y=\"1571.06\" style=\"font-family:'Helvetica';font-size:99.99px;fill:#000000\" transform=\"rotate(-90 300.72,1571.06)\" text-anchor=\"middle\">0</text>\n",
       "\t<line x1=\"390.80\" y1=\"1155.61\" x2=\"350.83\" y2=\"1155.61\" style=\"stroke:#000000;stroke-width:5.76\"/>\n",
       "\t<text x=\"300.72\" y=\"1155.61\" style=\"font-family:'Helvetica';font-size:99.99px;fill:#000000\" transform=\"rotate(-90 300.72,1155.61)\" text-anchor=\"middle\">.05</text>\n",
       "\t<line x1=\"390.80\" y1=\"740.17\" x2=\"350.83\" y2=\"740.17\" style=\"stroke:#000000;stroke-width:5.76\"/>\n",
       "\t<text x=\"300.72\" y=\"740.17\" style=\"font-family:'Helvetica';font-size:99.99px;fill:#000000\" transform=\"rotate(-90 300.72,740.17)\" text-anchor=\"middle\">.1</text>\n",
       "\t<line x1=\"390.80\" y1=\"324.73\" x2=\"350.83\" y2=\"324.73\" style=\"stroke:#000000;stroke-width:5.76\"/>\n",
       "\t<text x=\"300.72\" y=\"324.73\" style=\"font-family:'Helvetica';font-size:99.99px;fill:#000000\" transform=\"rotate(-90 300.72,324.73)\" text-anchor=\"middle\">.15</text>\n",
       "\t<text x=\"190.71\" y=\"1375.28\" style=\"font-family:'Helvetica';font-size:99.99px;fill:#000000\" transform=\"rotate(-90 190.71,1375.28)\" text-anchor=\"middle\">Effects on Probability</text>\n",
       "\t<line x1=\"390.80\" y1=\"2489.19\" x2=\"3859.02\" y2=\"2489.19\" style=\"stroke:#000000;stroke-width:5.76\"/>\n",
       "\t<line x1=\"454.16\" y1=\"2489.19\" x2=\"454.16\" y2=\"2529.16\" style=\"stroke:#000000;stroke-width:5.76\"/>\n",
       "\t<text x=\"454.16\" y=\"2619.14\" style=\"font-family:'Helvetica';font-size:99.99px;fill:#000000\" text-anchor=\"middle\">1</text>\n",
       "\t<line x1=\"1289.47\" y1=\"2489.19\" x2=\"1289.47\" y2=\"2529.16\" style=\"stroke:#000000;stroke-width:5.76\"/>\n",
       "\t<text x=\"1289.47\" y=\"2619.14\" style=\"font-family:'Helvetica';font-size:99.99px;fill:#000000\" text-anchor=\"middle\">2</text>\n",
       "\t<line x1=\"2124.91\" y1=\"2489.19\" x2=\"2124.91\" y2=\"2529.16\" style=\"stroke:#000000;stroke-width:5.76\"/>\n",
       "\t<text x=\"2124.91\" y=\"2619.14\" style=\"font-family:'Helvetica';font-size:99.99px;fill:#000000\" text-anchor=\"middle\">3</text>\n",
       "\t<line x1=\"2960.35\" y1=\"2489.19\" x2=\"2960.35\" y2=\"2529.16\" style=\"stroke:#000000;stroke-width:5.76\"/>\n",
       "\t<text x=\"2960.35\" y=\"2619.14\" style=\"font-family:'Helvetica';font-size:99.99px;fill:#000000\" text-anchor=\"middle\">4</text>\n",
       "\t<line x1=\"3795.66\" y1=\"2489.19\" x2=\"3795.66\" y2=\"2529.16\" style=\"stroke:#000000;stroke-width:5.76\"/>\n",
       "\t<text x=\"3795.66\" y=\"2619.14\" style=\"font-family:'Helvetica';font-size:99.99px;fill:#000000\" text-anchor=\"middle\">5</text>\n",
       "\t<text x=\"2124.91\" y=\"2729.16\" style=\"font-family:'Helvetica';font-size:99.99px;fill:#000000\" text-anchor=\"middle\">Outcome</text>\n",
       "\t<text x=\"1980.00\" y=\"206.19\" style=\"font-family:'Helvetica';font-size:125.98px;fill:#1E2D53\" text-anchor=\"middle\">Conditional Marginal Effects of a_cons_short_dis with 95% CIs</text>\n",
       "</svg>\n"
      ],
      "text/html": [
       "                <iframe frameborder=\"0\" scrolling=\"no\" height=\"436\" width=\"600\"                srcdoc=\"<html><body>&lt;?xml version=&quot;1.0&quot; encoding=&quot;UTF-8&quot; standalone=&quot;no&quot;?&gt;\n",
       "&lt;!-- This is a Stata 14.2 generated SVG file (http://www.stata.com) --&gt;\n",
       "\n",
       "&lt;svg version=&quot;1.1&quot; width=&quot;600px&quot; height=&quot;436px&quot; viewBox=&quot;0 0 3960 2880&quot; xmlns=&quot;http://www.w3.org/2000/svg&quot;&gt;\n",
       "\t&lt;desc&gt;Stata Graph - Graph&lt;/desc&gt;\n",
       "\t&lt;rect x=&quot;0.00&quot; y=&quot;0.00&quot; width=&quot;3959.88&quot; height=&quot;2880.00&quot; style=&quot;fill:#EAF2F3;stroke:#EAF2F3;stroke-width:5.76&quot;/&gt;\n",
       "\t&lt;rect x=&quot;390.80&quot; y=&quot;261.37&quot; width=&quot;3468.22&quot; height=&quot;2227.82&quot; style=&quot;fill:#FFFFFF;stroke:#FFFFFF;stroke-width:5.76&quot;/&gt;\n",
       "\t&lt;line x1=&quot;390.80&quot; y1=&quot;2401.94&quot; x2=&quot;3859.02&quot; y2=&quot;2401.94&quot; style=&quot;stroke:#EAF2F3;stroke-width:8.64&quot;/&gt;\n",
       "\t&lt;line x1=&quot;390.80&quot; y1=&quot;1986.50&quot; x2=&quot;3859.02&quot; y2=&quot;1986.50&quot; style=&quot;stroke:#EAF2F3;stroke-width:8.64&quot;/&gt;\n",
       "\t&lt;line x1=&quot;390.80&quot; y1=&quot;1571.06&quot; x2=&quot;3859.02&quot; y2=&quot;1571.06&quot; style=&quot;stroke:#EAF2F3;stroke-width:8.64&quot;/&gt;\n",
       "\t&lt;line x1=&quot;390.80&quot; y1=&quot;1155.61&quot; x2=&quot;3859.02&quot; y2=&quot;1155.61&quot; style=&quot;stroke:#EAF2F3;stroke-width:8.64&quot;/&gt;\n",
       "\t&lt;line x1=&quot;390.80&quot; y1=&quot;740.17&quot; x2=&quot;3859.02&quot; y2=&quot;740.17&quot; style=&quot;stroke:#EAF2F3;stroke-width:8.64&quot;/&gt;\n",
       "\t&lt;line x1=&quot;390.80&quot; y1=&quot;324.73&quot; x2=&quot;3859.02&quot; y2=&quot;324.73&quot; style=&quot;stroke:#EAF2F3;stroke-width:8.64&quot;/&gt;\n",
       "\t&lt;line x1=&quot;454.16&quot; y1=&quot;1912.86&quot; x2=&quot;454.16&quot; y2=&quot;1556.08&quot; style=&quot;stroke:#1A476F;stroke-width:8.64&quot;/&gt;\n",
       "\t&lt;line x1=&quot;432.13&quot; y1=&quot;1556.08&quot; x2=&quot;476.19&quot; y2=&quot;1556.08&quot; stroke-linecap=&quot;round&quot; style=&quot;stroke:#1A476F;stroke-width:8.64&quot;/&gt;\n",
       "\t&lt;line x1=&quot;432.13&quot; y1=&quot;1912.86&quot; x2=&quot;476.19&quot; y2=&quot;1912.86&quot; stroke-linecap=&quot;round&quot; style=&quot;stroke:#1A476F;stroke-width:8.64&quot;/&gt;\n",
       "\t&lt;line x1=&quot;1289.47&quot; y1=&quot;2163.71&quot; x2=&quot;1289.47&quot; y2=&quot;1668.94&quot; style=&quot;stroke:#1A476F;stroke-width:8.64&quot;/&gt;\n",
       "\t&lt;line x1=&quot;1267.45&quot; y1=&quot;1668.94&quot; x2=&quot;1311.50&quot; y2=&quot;1668.94&quot; stroke-linecap=&quot;round&quot; style=&quot;stroke:#1A476F;stroke-width:8.64&quot;/&gt;\n",
       "\t&lt;line x1=&quot;1267.45&quot; y1=&quot;2163.71&quot; x2=&quot;1311.50&quot; y2=&quot;2163.71&quot; stroke-linecap=&quot;round&quot; style=&quot;stroke:#1A476F;stroke-width:8.64&quot;/&gt;\n",
       "\t&lt;line x1=&quot;2124.91&quot; y1=&quot;2425.82&quot; x2=&quot;2124.91&quot; y2=&quot;1697.28&quot; style=&quot;stroke:#1A476F;stroke-width:8.64&quot;/&gt;\n",
       "\t&lt;line x1=&quot;2102.88&quot; y1=&quot;1697.28&quot; x2=&quot;2146.94&quot; y2=&quot;1697.28&quot; stroke-linecap=&quot;round&quot; style=&quot;stroke:#1A476F;stroke-width:8.64&quot;/&gt;\n",
       "\t&lt;line x1=&quot;2102.88&quot; y1=&quot;2425.82&quot; x2=&quot;2146.94&quot; y2=&quot;2425.82&quot; stroke-linecap=&quot;round&quot; style=&quot;stroke:#1A476F;stroke-width:8.64&quot;/&gt;\n",
       "\t&lt;line x1=&quot;2960.35&quot; y1=&quot;1699.64&quot; x2=&quot;2960.35&quot; y2=&quot;921.47&quot; style=&quot;stroke:#1A476F;stroke-width:8.64&quot;/&gt;\n",
       "\t&lt;line x1=&quot;2938.32&quot; y1=&quot;921.47&quot; x2=&quot;2982.38&quot; y2=&quot;921.47&quot; stroke-linecap=&quot;round&quot; style=&quot;stroke:#1A476F;stroke-width:8.64&quot;/&gt;\n",
       "\t&lt;line x1=&quot;2938.32&quot; y1=&quot;1699.64&quot; x2=&quot;2982.38&quot; y2=&quot;1699.64&quot; stroke-linecap=&quot;round&quot; style=&quot;stroke:#1A476F;stroke-width:8.64&quot;/&gt;\n",
       "\t&lt;line x1=&quot;3795.66&quot; y1=&quot;1328.75&quot; x2=&quot;3795.66&quot; y2=&quot;335.62&quot; style=&quot;stroke:#1A476F;stroke-width:8.64&quot;/&gt;\n",
       "\t&lt;line x1=&quot;3773.63&quot; y1=&quot;335.62&quot; x2=&quot;3817.69&quot; y2=&quot;335.62&quot; stroke-linecap=&quot;round&quot; style=&quot;stroke:#1A476F;stroke-width:8.64&quot;/&gt;\n",
       "\t&lt;line x1=&quot;3773.63&quot; y1=&quot;1328.75&quot; x2=&quot;3817.69&quot; y2=&quot;1328.75&quot; stroke-linecap=&quot;round&quot; style=&quot;stroke:#1A476F;stroke-width:8.64&quot;/&gt;\n",
       "\t&lt;line x1=&quot;454.04&quot; y1=&quot;1734.53&quot; x2=&quot;1289.47&quot; y2=&quot;1916.45&quot; stroke-linecap=&quot;round&quot; style=&quot;stroke:#1A476F;stroke-width:8.64&quot;/&gt;\n",
       "\t&lt;line x1=&quot;1289.47&quot; y1=&quot;1916.45&quot; x2=&quot;2124.91&quot; y2=&quot;2061.62&quot; stroke-linecap=&quot;round&quot; style=&quot;stroke:#1A476F;stroke-width:8.64&quot;/&gt;\n",
       "\t&lt;line x1=&quot;2124.91&quot; y1=&quot;2061.62&quot; x2=&quot;2960.22&quot; y2=&quot;1310.55&quot; stroke-linecap=&quot;round&quot; style=&quot;stroke:#1A476F;stroke-width:8.64&quot;/&gt;\n",
       "\t&lt;line x1=&quot;2960.22&quot; y1=&quot;1310.55&quot; x2=&quot;3795.66&quot; y2=&quot;832.24&quot; stroke-linecap=&quot;round&quot; style=&quot;stroke:#1A476F;stroke-width:8.64&quot;/&gt;\n",
       "\t&lt;circle cx=&quot;454.04&quot; cy=&quot;1734.53&quot; r=&quot;22.03&quot; style=&quot;fill:#1A476F;stroke:#1A476F;stroke-width:8.64&quot;/&gt;\n",
       "\t&lt;circle cx=&quot;1289.47&quot; cy=&quot;1916.45&quot; r=&quot;22.03&quot; style=&quot;fill:#1A476F;stroke:#1A476F;stroke-width:8.64&quot;/&gt;\n",
       "\t&lt;circle cx=&quot;2124.91&quot; cy=&quot;2061.62&quot; r=&quot;22.03&quot; style=&quot;fill:#1A476F;stroke:#1A476F;stroke-width:8.64&quot;/&gt;\n",
       "\t&lt;circle cx=&quot;2960.22&quot; cy=&quot;1310.55&quot; r=&quot;22.03&quot; style=&quot;fill:#1A476F;stroke:#1A476F;stroke-width:8.64&quot;/&gt;\n",
       "\t&lt;circle cx=&quot;3795.66&quot; cy=&quot;832.24&quot; r=&quot;22.03&quot; style=&quot;fill:#1A476F;stroke:#1A476F;stroke-width:8.64&quot;/&gt;\n",
       "\t&lt;line x1=&quot;390.80&quot; y1=&quot;2489.19&quot; x2=&quot;390.80&quot; y2=&quot;261.37&quot; style=&quot;stroke:#000000;stroke-width:5.76&quot;/&gt;\n",
       "\t&lt;line x1=&quot;390.80&quot; y1=&quot;2401.94&quot; x2=&quot;350.83&quot; y2=&quot;2401.94&quot; style=&quot;stroke:#000000;stroke-width:5.76&quot;/&gt;\n",
       "\t&lt;text x=&quot;300.72&quot; y=&quot;2401.94&quot; style=&quot;font-family:&#x27;Helvetica&#x27;;font-size:99.99px;fill:#000000&quot; transform=&quot;rotate(-90 300.72,2401.94)&quot; text-anchor=&quot;middle&quot;&gt;-.1&lt;/text&gt;\n",
       "\t&lt;line x1=&quot;390.80&quot; y1=&quot;1986.50&quot; x2=&quot;350.83&quot; y2=&quot;1986.50&quot; style=&quot;stroke:#000000;stroke-width:5.76&quot;/&gt;\n",
       "\t&lt;text x=&quot;300.72&quot; y=&quot;1986.50&quot; style=&quot;font-family:&#x27;Helvetica&#x27;;font-size:99.99px;fill:#000000&quot; transform=&quot;rotate(-90 300.72,1986.50)&quot; text-anchor=&quot;middle&quot;&gt;-.05&lt;/text&gt;\n",
       "\t&lt;line x1=&quot;390.80&quot; y1=&quot;1571.06&quot; x2=&quot;350.83&quot; y2=&quot;1571.06&quot; style=&quot;stroke:#000000;stroke-width:5.76&quot;/&gt;\n",
       "\t&lt;text x=&quot;300.72&quot; y=&quot;1571.06&quot; style=&quot;font-family:&#x27;Helvetica&#x27;;font-size:99.99px;fill:#000000&quot; transform=&quot;rotate(-90 300.72,1571.06)&quot; text-anchor=&quot;middle&quot;&gt;0&lt;/text&gt;\n",
       "\t&lt;line x1=&quot;390.80&quot; y1=&quot;1155.61&quot; x2=&quot;350.83&quot; y2=&quot;1155.61&quot; style=&quot;stroke:#000000;stroke-width:5.76&quot;/&gt;\n",
       "\t&lt;text x=&quot;300.72&quot; y=&quot;1155.61&quot; style=&quot;font-family:&#x27;Helvetica&#x27;;font-size:99.99px;fill:#000000&quot; transform=&quot;rotate(-90 300.72,1155.61)&quot; text-anchor=&quot;middle&quot;&gt;.05&lt;/text&gt;\n",
       "\t&lt;line x1=&quot;390.80&quot; y1=&quot;740.17&quot; x2=&quot;350.83&quot; y2=&quot;740.17&quot; style=&quot;stroke:#000000;stroke-width:5.76&quot;/&gt;\n",
       "\t&lt;text x=&quot;300.72&quot; y=&quot;740.17&quot; style=&quot;font-family:&#x27;Helvetica&#x27;;font-size:99.99px;fill:#000000&quot; transform=&quot;rotate(-90 300.72,740.17)&quot; text-anchor=&quot;middle&quot;&gt;.1&lt;/text&gt;\n",
       "\t&lt;line x1=&quot;390.80&quot; y1=&quot;324.73&quot; x2=&quot;350.83&quot; y2=&quot;324.73&quot; style=&quot;stroke:#000000;stroke-width:5.76&quot;/&gt;\n",
       "\t&lt;text x=&quot;300.72&quot; y=&quot;324.73&quot; style=&quot;font-family:&#x27;Helvetica&#x27;;font-size:99.99px;fill:#000000&quot; transform=&quot;rotate(-90 300.72,324.73)&quot; text-anchor=&quot;middle&quot;&gt;.15&lt;/text&gt;\n",
       "\t&lt;text x=&quot;190.71&quot; y=&quot;1375.28&quot; style=&quot;font-family:&#x27;Helvetica&#x27;;font-size:99.99px;fill:#000000&quot; transform=&quot;rotate(-90 190.71,1375.28)&quot; text-anchor=&quot;middle&quot;&gt;Effects on Probability&lt;/text&gt;\n",
       "\t&lt;line x1=&quot;390.80&quot; y1=&quot;2489.19&quot; x2=&quot;3859.02&quot; y2=&quot;2489.19&quot; style=&quot;stroke:#000000;stroke-width:5.76&quot;/&gt;\n",
       "\t&lt;line x1=&quot;454.16&quot; y1=&quot;2489.19&quot; x2=&quot;454.16&quot; y2=&quot;2529.16&quot; style=&quot;stroke:#000000;stroke-width:5.76&quot;/&gt;\n",
       "\t&lt;text x=&quot;454.16&quot; y=&quot;2619.14&quot; style=&quot;font-family:&#x27;Helvetica&#x27;;font-size:99.99px;fill:#000000&quot; text-anchor=&quot;middle&quot;&gt;1&lt;/text&gt;\n",
       "\t&lt;line x1=&quot;1289.47&quot; y1=&quot;2489.19&quot; x2=&quot;1289.47&quot; y2=&quot;2529.16&quot; style=&quot;stroke:#000000;stroke-width:5.76&quot;/&gt;\n",
       "\t&lt;text x=&quot;1289.47&quot; y=&quot;2619.14&quot; style=&quot;font-family:&#x27;Helvetica&#x27;;font-size:99.99px;fill:#000000&quot; text-anchor=&quot;middle&quot;&gt;2&lt;/text&gt;\n",
       "\t&lt;line x1=&quot;2124.91&quot; y1=&quot;2489.19&quot; x2=&quot;2124.91&quot; y2=&quot;2529.16&quot; style=&quot;stroke:#000000;stroke-width:5.76&quot;/&gt;\n",
       "\t&lt;text x=&quot;2124.91&quot; y=&quot;2619.14&quot; style=&quot;font-family:&#x27;Helvetica&#x27;;font-size:99.99px;fill:#000000&quot; text-anchor=&quot;middle&quot;&gt;3&lt;/text&gt;\n",
       "\t&lt;line x1=&quot;2960.35&quot; y1=&quot;2489.19&quot; x2=&quot;2960.35&quot; y2=&quot;2529.16&quot; style=&quot;stroke:#000000;stroke-width:5.76&quot;/&gt;\n",
       "\t&lt;text x=&quot;2960.35&quot; y=&quot;2619.14&quot; style=&quot;font-family:&#x27;Helvetica&#x27;;font-size:99.99px;fill:#000000&quot; text-anchor=&quot;middle&quot;&gt;4&lt;/text&gt;\n",
       "\t&lt;line x1=&quot;3795.66&quot; y1=&quot;2489.19&quot; x2=&quot;3795.66&quot; y2=&quot;2529.16&quot; style=&quot;stroke:#000000;stroke-width:5.76&quot;/&gt;\n",
       "\t&lt;text x=&quot;3795.66&quot; y=&quot;2619.14&quot; style=&quot;font-family:&#x27;Helvetica&#x27;;font-size:99.99px;fill:#000000&quot; text-anchor=&quot;middle&quot;&gt;5&lt;/text&gt;\n",
       "\t&lt;text x=&quot;2124.91&quot; y=&quot;2729.16&quot; style=&quot;font-family:&#x27;Helvetica&#x27;;font-size:99.99px;fill:#000000&quot; text-anchor=&quot;middle&quot;&gt;Outcome&lt;/text&gt;\n",
       "\t&lt;text x=&quot;1980.00&quot; y=&quot;206.19&quot; style=&quot;font-family:&#x27;Helvetica&#x27;;font-size:125.98px;fill:#1E2D53&quot; text-anchor=&quot;middle&quot;&gt;Conditional Marginal Effects of a_cons_short_dis with 95% CIs&lt;/text&gt;\n",
       "&lt;/svg&gt;\n",
       "</body></html>\"></iframe>\n"
      ],
      "text/plain": [
       "This front-end cannot display the desired image type."
      ]
     },
     "metadata": {
      "image/svg+xml": {
       "height": 436,
       "width": 600
      },
      "text/html": {
       "height": 436,
       "width": 600
      }
     },
     "output_type": "display_data"
    },
    {
     "name": "stdout",
     "output_type": "stream",
     "text": [
      "\n",
      "\n"
     ]
    }
   ],
   "source": [
    "marginsplot"
   ]
  },
  {
   "cell_type": "markdown",
   "metadata": {},
   "source": [
    "---\n",
    "### a_cons_as\n",
    "---"
   ]
  },
  {
   "cell_type": "code",
   "execution_count": 191,
   "metadata": {},
   "outputs": [
    {
     "name": "stdout",
     "output_type": "stream",
     "text": [
      "\n",
      "\n",
      "\n",
      "Conditional marginal effects                    Number of obs     =        184\n",
      "Model VCE    : OIM\n",
      "\n",
      "dy/dx w.r.t. : a_cons_as\n",
      "1._predict   : Pr(a_cons_hac==1), predict(pr outcome(1))\n",
      "2._predict   : Pr(a_cons_hac==2), predict(pr outcome(2))\n",
      "3._predict   : Pr(a_cons_hac==3), predict(pr outcome(3))\n",
      "4._predict   : Pr(a_cons_hac==4), predict(pr outcome(4))\n",
      "5._predict   : Pr(a_cons_hac==5), predict(pr outcome(5))\n",
      "at           : age             =    2.326087 (mean)\n",
      "               gender          =     .798913 (mean)\n",
      "               marriage        =    .3967391 (mean)\n",
      "               student1        =    .0543478 (mean)\n",
      "               company_man2    =    .0271739 (mean)\n",
      "               public_off~3    =    .4836957 (mean)\n",
      "               profession4     =    .2771739 (mean)\n",
      "               researcher5     =    .0923913 (mean)\n",
      "               learn           =    3.217391 (mean)\n",
      "               income          =    2.298913 (mean)\n",
      "               avg_distance    =    3.293478 (mean)\n",
      "               freq_use_ev     =    3.119565 (mean)\n",
      "               club_kepco2     =    .5217391 (mean)\n",
      "               club_jeju3      =    .2771739 (mean)\n",
      "               ev_owner        =    .0978261 (mean)\n",
      "               saving_free     =    .8913043 (mean)\n",
      "               a_cons_sho~s    =    3.733696 (mean)\n",
      "               a_cons_as       =    3.315217 (mean)\n",
      "               a_cons_cha~e    =    2.771739 (mean)\n",
      "               a_cons_num~k    =    4.108696 (mean)\n",
      "               a_cons_lon~e    =    3.913043 (mean)\n",
      "               a_cons_hil~e    =    2.717391 (mean)\n",
      "\n",
      "------------------------------------------------------------------------------\n",
      "             |            Delta-method\n",
      "             |      dy/dx   Std. Err.      z    P>|z|     [95% Conf. Interval]\n",
      "-------------+----------------------------------------------------------------\n",
      "a_cons_as    |\n",
      "    _predict |\n",
      "          1  |  -.0265227   .0123897    -2.14   0.032    -.0508062   -.0022393\n",
      "          2  |  -.0327957   .0154219    -2.13   0.033    -.0630221   -.0025693\n",
      "          3  |  -.0156736   .0091153    -1.72   0.086    -.0335394    .0021921\n",
      "          4  |   .0396847   .0183255     2.17   0.030     .0037673     .075602\n",
      "          5  |   .0353074   .0159847     2.21   0.027      .003978    .0666368\n",
      "------------------------------------------------------------------------------\n"
     ]
    }
   ],
   "source": [
    "quietly: oprobit a_cons_hac age gender marriage student1 company_man2 public_officer3 profession4 researcher5 learn income avg_distance freq_use_ev club_kepco2 club_jeju3 ev_owner saving_free a_cons_short_dis a_cons_as a_cons_charge_fee a_cons_num_charge_lack a_cons_long_charge_time a_cons_hill_ride, nolog\n",
    "margins, dydx(  a_cons_as  ) atmeans"
   ]
  },
  {
   "cell_type": "code",
   "execution_count": 192,
   "metadata": {},
   "outputs": [
    {
     "name": "stdout",
     "output_type": "stream",
     "text": [
      "\n",
      "  Variables that uniquely identify margins: _outcome\n"
     ]
    },
    {
     "data": {
      "application/pdf": "[encoded data removed]",
      "image/svg+xml": [
       "<?xml version=\"1.0\" encoding=\"UTF-8\" standalone=\"no\"?>\n",
       "<!-- This is a Stata 14.2 generated SVG file (http://www.stata.com) -->\n",
       "\n",
       "<svg version=\"1.1\" width=\"600px\" height=\"436px\" viewBox=\"0 0 3960 2880\" xmlns=\"http://www.w3.org/2000/svg\">\n",
       "\t<desc>Stata Graph - Graph</desc>\n",
       "\t<rect x=\"0.00\" y=\"0.00\" width=\"3959.88\" height=\"2880.00\" style=\"fill:#EAF2F3;stroke:#EAF2F3;stroke-width:5.76\"/>\n",
       "\t<rect x=\"390.80\" y=\"261.37\" width=\"3468.22\" height=\"2227.82\" style=\"fill:#FFFFFF;stroke:#FFFFFF;stroke-width:5.76\"/>\n",
       "\t<line x1=\"390.80\" y1=\"2258.01\" x2=\"3859.02\" y2=\"2258.01\" style=\"stroke:#EAF2F3;stroke-width:8.64\"/>\n",
       "\t<line x1=\"390.80\" y1=\"1613.63\" x2=\"3859.02\" y2=\"1613.63\" style=\"stroke:#EAF2F3;stroke-width:8.64\"/>\n",
       "\t<line x1=\"390.80\" y1=\"969.12\" x2=\"3859.02\" y2=\"969.12\" style=\"stroke:#EAF2F3;stroke-width:8.64\"/>\n",
       "\t<line x1=\"390.80\" y1=\"324.73\" x2=\"3859.02\" y2=\"324.73\" style=\"stroke:#EAF2F3;stroke-width:8.64\"/>\n",
       "\t<line x1=\"454.16\" y1=\"2268.41\" x2=\"454.16\" y2=\"1642.46\" style=\"stroke:#1A476F;stroke-width:8.64\"/>\n",
       "\t<line x1=\"432.13\" y1=\"1642.46\" x2=\"476.19\" y2=\"1642.46\" stroke-linecap=\"round\" style=\"stroke:#1A476F;stroke-width:8.64\"/>\n",
       "\t<line x1=\"432.13\" y1=\"2268.41\" x2=\"476.19\" y2=\"2268.41\" stroke-linecap=\"round\" style=\"stroke:#1A476F;stroke-width:8.64\"/>\n",
       "\t<line x1=\"1289.47\" y1=\"2425.82\" x2=\"1289.47\" y2=\"1646.67\" style=\"stroke:#1A476F;stroke-width:8.64\"/>\n",
       "\t<line x1=\"1267.45\" y1=\"1646.67\" x2=\"1311.50\" y2=\"1646.67\" stroke-linecap=\"round\" style=\"stroke:#1A476F;stroke-width:8.64\"/>\n",
       "\t<line x1=\"1267.45\" y1=\"2425.82\" x2=\"1311.50\" y2=\"2425.82\" stroke-linecap=\"round\" style=\"stroke:#1A476F;stroke-width:8.64\"/>\n",
       "\t<line x1=\"2124.91\" y1=\"2045.90\" x2=\"2124.91\" y2=\"1585.29\" style=\"stroke:#1A476F;stroke-width:8.64\"/>\n",
       "\t<line x1=\"2102.88\" y1=\"1585.29\" x2=\"2146.94\" y2=\"1585.29\" stroke-linecap=\"round\" style=\"stroke:#1A476F;stroke-width:8.64\"/>\n",
       "\t<line x1=\"2102.88\" y1=\"2045.90\" x2=\"2146.94\" y2=\"2045.90\" stroke-linecap=\"round\" style=\"stroke:#1A476F;stroke-width:8.64\"/>\n",
       "\t<line x1=\"2960.35\" y1=\"1564.99\" x2=\"2960.35\" y2=\"639.19\" style=\"stroke:#1A476F;stroke-width:8.64\"/>\n",
       "\t<line x1=\"2938.32\" y1=\"639.19\" x2=\"2982.38\" y2=\"639.19\" stroke-linecap=\"round\" style=\"stroke:#1A476F;stroke-width:8.64\"/>\n",
       "\t<line x1=\"2938.32\" y1=\"1564.99\" x2=\"2982.38\" y2=\"1564.99\" stroke-linecap=\"round\" style=\"stroke:#1A476F;stroke-width:8.64\"/>\n",
       "\t<line x1=\"3795.66\" y1=\"1562.27\" x2=\"3795.66\" y2=\"754.77\" style=\"stroke:#1A476F;stroke-width:8.64\"/>\n",
       "\t<line x1=\"3773.63\" y1=\"754.77\" x2=\"3817.69\" y2=\"754.77\" stroke-linecap=\"round\" style=\"stroke:#1A476F;stroke-width:8.64\"/>\n",
       "\t<line x1=\"3773.63\" y1=\"1562.27\" x2=\"3817.69\" y2=\"1562.27\" stroke-linecap=\"round\" style=\"stroke:#1A476F;stroke-width:8.64\"/>\n",
       "\t<line x1=\"454.04\" y1=\"1955.43\" x2=\"1289.47\" y2=\"2036.37\" stroke-linecap=\"round\" style=\"stroke:#1A476F;stroke-width:8.64\"/>\n",
       "\t<line x1=\"1289.47\" y1=\"2036.37\" x2=\"2124.91\" y2=\"1815.59\" stroke-linecap=\"round\" style=\"stroke:#1A476F;stroke-width:8.64\"/>\n",
       "\t<line x1=\"2124.91\" y1=\"1815.59\" x2=\"2960.22\" y2=\"1102.15\" stroke-linecap=\"round\" style=\"stroke:#1A476F;stroke-width:8.64\"/>\n",
       "\t<line x1=\"2960.22\" y1=\"1102.15\" x2=\"3795.66\" y2=\"1158.58\" stroke-linecap=\"round\" style=\"stroke:#1A476F;stroke-width:8.64\"/>\n",
       "\t<circle cx=\"454.04\" cy=\"1955.43\" r=\"22.03\" style=\"fill:#1A476F;stroke:#1A476F;stroke-width:8.64\"/>\n",
       "\t<circle cx=\"1289.47\" cy=\"2036.37\" r=\"22.03\" style=\"fill:#1A476F;stroke:#1A476F;stroke-width:8.64\"/>\n",
       "\t<circle cx=\"2124.91\" cy=\"1815.59\" r=\"22.03\" style=\"fill:#1A476F;stroke:#1A476F;stroke-width:8.64\"/>\n",
       "\t<circle cx=\"2960.22\" cy=\"1102.15\" r=\"22.03\" style=\"fill:#1A476F;stroke:#1A476F;stroke-width:8.64\"/>\n",
       "\t<circle cx=\"3795.66\" cy=\"1158.58\" r=\"22.03\" style=\"fill:#1A476F;stroke:#1A476F;stroke-width:8.64\"/>\n",
       "\t<line x1=\"390.80\" y1=\"2489.19\" x2=\"390.80\" y2=\"261.37\" style=\"stroke:#000000;stroke-width:5.76\"/>\n",
       "\t<line x1=\"390.80\" y1=\"2258.01\" x2=\"350.83\" y2=\"2258.01\" style=\"stroke:#000000;stroke-width:5.76\"/>\n",
       "\t<text x=\"300.72\" y=\"2258.01\" style=\"font-family:'Helvetica';font-size:99.99px;fill:#000000\" transform=\"rotate(-90 300.72,2258.01)\" text-anchor=\"middle\">-.05</text>\n",
       "\t<line x1=\"390.80\" y1=\"1613.63\" x2=\"350.83\" y2=\"1613.63\" style=\"stroke:#000000;stroke-width:5.76\"/>\n",
       "\t<text x=\"300.72\" y=\"1613.63\" style=\"font-family:'Helvetica';font-size:99.99px;fill:#000000\" transform=\"rotate(-90 300.72,1613.63)\" text-anchor=\"middle\">0</text>\n",
       "\t<line x1=\"390.80\" y1=\"969.12\" x2=\"350.83\" y2=\"969.12\" style=\"stroke:#000000;stroke-width:5.76\"/>\n",
       "\t<text x=\"300.72\" y=\"969.12\" style=\"font-family:'Helvetica';font-size:99.99px;fill:#000000\" transform=\"rotate(-90 300.72,969.12)\" text-anchor=\"middle\">.05</text>\n",
       "\t<line x1=\"390.80\" y1=\"324.73\" x2=\"350.83\" y2=\"324.73\" style=\"stroke:#000000;stroke-width:5.76\"/>\n",
       "\t<text x=\"300.72\" y=\"324.73\" style=\"font-family:'Helvetica';font-size:99.99px;fill:#000000\" transform=\"rotate(-90 300.72,324.73)\" text-anchor=\"middle\">.1</text>\n",
       "\t<text x=\"190.71\" y=\"1375.28\" style=\"font-family:'Helvetica';font-size:99.99px;fill:#000000\" transform=\"rotate(-90 190.71,1375.28)\" text-anchor=\"middle\">Effects on Probability</text>\n",
       "\t<line x1=\"390.80\" y1=\"2489.19\" x2=\"3859.02\" y2=\"2489.19\" style=\"stroke:#000000;stroke-width:5.76\"/>\n",
       "\t<line x1=\"454.16\" y1=\"2489.19\" x2=\"454.16\" y2=\"2529.16\" style=\"stroke:#000000;stroke-width:5.76\"/>\n",
       "\t<text x=\"454.16\" y=\"2619.14\" style=\"font-family:'Helvetica';font-size:99.99px;fill:#000000\" text-anchor=\"middle\">1</text>\n",
       "\t<line x1=\"1289.47\" y1=\"2489.19\" x2=\"1289.47\" y2=\"2529.16\" style=\"stroke:#000000;stroke-width:5.76\"/>\n",
       "\t<text x=\"1289.47\" y=\"2619.14\" style=\"font-family:'Helvetica';font-size:99.99px;fill:#000000\" text-anchor=\"middle\">2</text>\n",
       "\t<line x1=\"2124.91\" y1=\"2489.19\" x2=\"2124.91\" y2=\"2529.16\" style=\"stroke:#000000;stroke-width:5.76\"/>\n",
       "\t<text x=\"2124.91\" y=\"2619.14\" style=\"font-family:'Helvetica';font-size:99.99px;fill:#000000\" text-anchor=\"middle\">3</text>\n",
       "\t<line x1=\"2960.35\" y1=\"2489.19\" x2=\"2960.35\" y2=\"2529.16\" style=\"stroke:#000000;stroke-width:5.76\"/>\n",
       "\t<text x=\"2960.35\" y=\"2619.14\" style=\"font-family:'Helvetica';font-size:99.99px;fill:#000000\" text-anchor=\"middle\">4</text>\n",
       "\t<line x1=\"3795.66\" y1=\"2489.19\" x2=\"3795.66\" y2=\"2529.16\" style=\"stroke:#000000;stroke-width:5.76\"/>\n",
       "\t<text x=\"3795.66\" y=\"2619.14\" style=\"font-family:'Helvetica';font-size:99.99px;fill:#000000\" text-anchor=\"middle\">5</text>\n",
       "\t<text x=\"2124.91\" y=\"2729.16\" style=\"font-family:'Helvetica';font-size:99.99px;fill:#000000\" text-anchor=\"middle\">Outcome</text>\n",
       "\t<text x=\"1979.88\" y=\"206.19\" style=\"font-family:'Helvetica';font-size:125.98px;fill:#1E2D53\" text-anchor=\"middle\">Conditional Marginal Effects of a_cons_as with 95% CIs</text>\n",
       "</svg>\n"
      ],
      "text/html": [
       "                <iframe frameborder=\"0\" scrolling=\"no\" height=\"436\" width=\"600\"                srcdoc=\"<html><body>&lt;?xml version=&quot;1.0&quot; encoding=&quot;UTF-8&quot; standalone=&quot;no&quot;?&gt;\n",
       "&lt;!-- This is a Stata 14.2 generated SVG file (http://www.stata.com) --&gt;\n",
       "\n",
       "&lt;svg version=&quot;1.1&quot; width=&quot;600px&quot; height=&quot;436px&quot; viewBox=&quot;0 0 3960 2880&quot; xmlns=&quot;http://www.w3.org/2000/svg&quot;&gt;\n",
       "\t&lt;desc&gt;Stata Graph - Graph&lt;/desc&gt;\n",
       "\t&lt;rect x=&quot;0.00&quot; y=&quot;0.00&quot; width=&quot;3959.88&quot; height=&quot;2880.00&quot; style=&quot;fill:#EAF2F3;stroke:#EAF2F3;stroke-width:5.76&quot;/&gt;\n",
       "\t&lt;rect x=&quot;390.80&quot; y=&quot;261.37&quot; width=&quot;3468.22&quot; height=&quot;2227.82&quot; style=&quot;fill:#FFFFFF;stroke:#FFFFFF;stroke-width:5.76&quot;/&gt;\n",
       "\t&lt;line x1=&quot;390.80&quot; y1=&quot;2258.01&quot; x2=&quot;3859.02&quot; y2=&quot;2258.01&quot; style=&quot;stroke:#EAF2F3;stroke-width:8.64&quot;/&gt;\n",
       "\t&lt;line x1=&quot;390.80&quot; y1=&quot;1613.63&quot; x2=&quot;3859.02&quot; y2=&quot;1613.63&quot; style=&quot;stroke:#EAF2F3;stroke-width:8.64&quot;/&gt;\n",
       "\t&lt;line x1=&quot;390.80&quot; y1=&quot;969.12&quot; x2=&quot;3859.02&quot; y2=&quot;969.12&quot; style=&quot;stroke:#EAF2F3;stroke-width:8.64&quot;/&gt;\n",
       "\t&lt;line x1=&quot;390.80&quot; y1=&quot;324.73&quot; x2=&quot;3859.02&quot; y2=&quot;324.73&quot; style=&quot;stroke:#EAF2F3;stroke-width:8.64&quot;/&gt;\n",
       "\t&lt;line x1=&quot;454.16&quot; y1=&quot;2268.41&quot; x2=&quot;454.16&quot; y2=&quot;1642.46&quot; style=&quot;stroke:#1A476F;stroke-width:8.64&quot;/&gt;\n",
       "\t&lt;line x1=&quot;432.13&quot; y1=&quot;1642.46&quot; x2=&quot;476.19&quot; y2=&quot;1642.46&quot; stroke-linecap=&quot;round&quot; style=&quot;stroke:#1A476F;stroke-width:8.64&quot;/&gt;\n",
       "\t&lt;line x1=&quot;432.13&quot; y1=&quot;2268.41&quot; x2=&quot;476.19&quot; y2=&quot;2268.41&quot; stroke-linecap=&quot;round&quot; style=&quot;stroke:#1A476F;stroke-width:8.64&quot;/&gt;\n",
       "\t&lt;line x1=&quot;1289.47&quot; y1=&quot;2425.82&quot; x2=&quot;1289.47&quot; y2=&quot;1646.67&quot; style=&quot;stroke:#1A476F;stroke-width:8.64&quot;/&gt;\n",
       "\t&lt;line x1=&quot;1267.45&quot; y1=&quot;1646.67&quot; x2=&quot;1311.50&quot; y2=&quot;1646.67&quot; stroke-linecap=&quot;round&quot; style=&quot;stroke:#1A476F;stroke-width:8.64&quot;/&gt;\n",
       "\t&lt;line x1=&quot;1267.45&quot; y1=&quot;2425.82&quot; x2=&quot;1311.50&quot; y2=&quot;2425.82&quot; stroke-linecap=&quot;round&quot; style=&quot;stroke:#1A476F;stroke-width:8.64&quot;/&gt;\n",
       "\t&lt;line x1=&quot;2124.91&quot; y1=&quot;2045.90&quot; x2=&quot;2124.91&quot; y2=&quot;1585.29&quot; style=&quot;stroke:#1A476F;stroke-width:8.64&quot;/&gt;\n",
       "\t&lt;line x1=&quot;2102.88&quot; y1=&quot;1585.29&quot; x2=&quot;2146.94&quot; y2=&quot;1585.29&quot; stroke-linecap=&quot;round&quot; style=&quot;stroke:#1A476F;stroke-width:8.64&quot;/&gt;\n",
       "\t&lt;line x1=&quot;2102.88&quot; y1=&quot;2045.90&quot; x2=&quot;2146.94&quot; y2=&quot;2045.90&quot; stroke-linecap=&quot;round&quot; style=&quot;stroke:#1A476F;stroke-width:8.64&quot;/&gt;\n",
       "\t&lt;line x1=&quot;2960.35&quot; y1=&quot;1564.99&quot; x2=&quot;2960.35&quot; y2=&quot;639.19&quot; style=&quot;stroke:#1A476F;stroke-width:8.64&quot;/&gt;\n",
       "\t&lt;line x1=&quot;2938.32&quot; y1=&quot;639.19&quot; x2=&quot;2982.38&quot; y2=&quot;639.19&quot; stroke-linecap=&quot;round&quot; style=&quot;stroke:#1A476F;stroke-width:8.64&quot;/&gt;\n",
       "\t&lt;line x1=&quot;2938.32&quot; y1=&quot;1564.99&quot; x2=&quot;2982.38&quot; y2=&quot;1564.99&quot; stroke-linecap=&quot;round&quot; style=&quot;stroke:#1A476F;stroke-width:8.64&quot;/&gt;\n",
       "\t&lt;line x1=&quot;3795.66&quot; y1=&quot;1562.27&quot; x2=&quot;3795.66&quot; y2=&quot;754.77&quot; style=&quot;stroke:#1A476F;stroke-width:8.64&quot;/&gt;\n",
       "\t&lt;line x1=&quot;3773.63&quot; y1=&quot;754.77&quot; x2=&quot;3817.69&quot; y2=&quot;754.77&quot; stroke-linecap=&quot;round&quot; style=&quot;stroke:#1A476F;stroke-width:8.64&quot;/&gt;\n",
       "\t&lt;line x1=&quot;3773.63&quot; y1=&quot;1562.27&quot; x2=&quot;3817.69&quot; y2=&quot;1562.27&quot; stroke-linecap=&quot;round&quot; style=&quot;stroke:#1A476F;stroke-width:8.64&quot;/&gt;\n",
       "\t&lt;line x1=&quot;454.04&quot; y1=&quot;1955.43&quot; x2=&quot;1289.47&quot; y2=&quot;2036.37&quot; stroke-linecap=&quot;round&quot; style=&quot;stroke:#1A476F;stroke-width:8.64&quot;/&gt;\n",
       "\t&lt;line x1=&quot;1289.47&quot; y1=&quot;2036.37&quot; x2=&quot;2124.91&quot; y2=&quot;1815.59&quot; stroke-linecap=&quot;round&quot; style=&quot;stroke:#1A476F;stroke-width:8.64&quot;/&gt;\n",
       "\t&lt;line x1=&quot;2124.91&quot; y1=&quot;1815.59&quot; x2=&quot;2960.22&quot; y2=&quot;1102.15&quot; stroke-linecap=&quot;round&quot; style=&quot;stroke:#1A476F;stroke-width:8.64&quot;/&gt;\n",
       "\t&lt;line x1=&quot;2960.22&quot; y1=&quot;1102.15&quot; x2=&quot;3795.66&quot; y2=&quot;1158.58&quot; stroke-linecap=&quot;round&quot; style=&quot;stroke:#1A476F;stroke-width:8.64&quot;/&gt;\n",
       "\t&lt;circle cx=&quot;454.04&quot; cy=&quot;1955.43&quot; r=&quot;22.03&quot; style=&quot;fill:#1A476F;stroke:#1A476F;stroke-width:8.64&quot;/&gt;\n",
       "\t&lt;circle cx=&quot;1289.47&quot; cy=&quot;2036.37&quot; r=&quot;22.03&quot; style=&quot;fill:#1A476F;stroke:#1A476F;stroke-width:8.64&quot;/&gt;\n",
       "\t&lt;circle cx=&quot;2124.91&quot; cy=&quot;1815.59&quot; r=&quot;22.03&quot; style=&quot;fill:#1A476F;stroke:#1A476F;stroke-width:8.64&quot;/&gt;\n",
       "\t&lt;circle cx=&quot;2960.22&quot; cy=&quot;1102.15&quot; r=&quot;22.03&quot; style=&quot;fill:#1A476F;stroke:#1A476F;stroke-width:8.64&quot;/&gt;\n",
       "\t&lt;circle cx=&quot;3795.66&quot; cy=&quot;1158.58&quot; r=&quot;22.03&quot; style=&quot;fill:#1A476F;stroke:#1A476F;stroke-width:8.64&quot;/&gt;\n",
       "\t&lt;line x1=&quot;390.80&quot; y1=&quot;2489.19&quot; x2=&quot;390.80&quot; y2=&quot;261.37&quot; style=&quot;stroke:#000000;stroke-width:5.76&quot;/&gt;\n",
       "\t&lt;line x1=&quot;390.80&quot; y1=&quot;2258.01&quot; x2=&quot;350.83&quot; y2=&quot;2258.01&quot; style=&quot;stroke:#000000;stroke-width:5.76&quot;/&gt;\n",
       "\t&lt;text x=&quot;300.72&quot; y=&quot;2258.01&quot; style=&quot;font-family:&#x27;Helvetica&#x27;;font-size:99.99px;fill:#000000&quot; transform=&quot;rotate(-90 300.72,2258.01)&quot; text-anchor=&quot;middle&quot;&gt;-.05&lt;/text&gt;\n",
       "\t&lt;line x1=&quot;390.80&quot; y1=&quot;1613.63&quot; x2=&quot;350.83&quot; y2=&quot;1613.63&quot; style=&quot;stroke:#000000;stroke-width:5.76&quot;/&gt;\n",
       "\t&lt;text x=&quot;300.72&quot; y=&quot;1613.63&quot; style=&quot;font-family:&#x27;Helvetica&#x27;;font-size:99.99px;fill:#000000&quot; transform=&quot;rotate(-90 300.72,1613.63)&quot; text-anchor=&quot;middle&quot;&gt;0&lt;/text&gt;\n",
       "\t&lt;line x1=&quot;390.80&quot; y1=&quot;969.12&quot; x2=&quot;350.83&quot; y2=&quot;969.12&quot; style=&quot;stroke:#000000;stroke-width:5.76&quot;/&gt;\n",
       "\t&lt;text x=&quot;300.72&quot; y=&quot;969.12&quot; style=&quot;font-family:&#x27;Helvetica&#x27;;font-size:99.99px;fill:#000000&quot; transform=&quot;rotate(-90 300.72,969.12)&quot; text-anchor=&quot;middle&quot;&gt;.05&lt;/text&gt;\n",
       "\t&lt;line x1=&quot;390.80&quot; y1=&quot;324.73&quot; x2=&quot;350.83&quot; y2=&quot;324.73&quot; style=&quot;stroke:#000000;stroke-width:5.76&quot;/&gt;\n",
       "\t&lt;text x=&quot;300.72&quot; y=&quot;324.73&quot; style=&quot;font-family:&#x27;Helvetica&#x27;;font-size:99.99px;fill:#000000&quot; transform=&quot;rotate(-90 300.72,324.73)&quot; text-anchor=&quot;middle&quot;&gt;.1&lt;/text&gt;\n",
       "\t&lt;text x=&quot;190.71&quot; y=&quot;1375.28&quot; style=&quot;font-family:&#x27;Helvetica&#x27;;font-size:99.99px;fill:#000000&quot; transform=&quot;rotate(-90 190.71,1375.28)&quot; text-anchor=&quot;middle&quot;&gt;Effects on Probability&lt;/text&gt;\n",
       "\t&lt;line x1=&quot;390.80&quot; y1=&quot;2489.19&quot; x2=&quot;3859.02&quot; y2=&quot;2489.19&quot; style=&quot;stroke:#000000;stroke-width:5.76&quot;/&gt;\n",
       "\t&lt;line x1=&quot;454.16&quot; y1=&quot;2489.19&quot; x2=&quot;454.16&quot; y2=&quot;2529.16&quot; style=&quot;stroke:#000000;stroke-width:5.76&quot;/&gt;\n",
       "\t&lt;text x=&quot;454.16&quot; y=&quot;2619.14&quot; style=&quot;font-family:&#x27;Helvetica&#x27;;font-size:99.99px;fill:#000000&quot; text-anchor=&quot;middle&quot;&gt;1&lt;/text&gt;\n",
       "\t&lt;line x1=&quot;1289.47&quot; y1=&quot;2489.19&quot; x2=&quot;1289.47&quot; y2=&quot;2529.16&quot; style=&quot;stroke:#000000;stroke-width:5.76&quot;/&gt;\n",
       "\t&lt;text x=&quot;1289.47&quot; y=&quot;2619.14&quot; style=&quot;font-family:&#x27;Helvetica&#x27;;font-size:99.99px;fill:#000000&quot; text-anchor=&quot;middle&quot;&gt;2&lt;/text&gt;\n",
       "\t&lt;line x1=&quot;2124.91&quot; y1=&quot;2489.19&quot; x2=&quot;2124.91&quot; y2=&quot;2529.16&quot; style=&quot;stroke:#000000;stroke-width:5.76&quot;/&gt;\n",
       "\t&lt;text x=&quot;2124.91&quot; y=&quot;2619.14&quot; style=&quot;font-family:&#x27;Helvetica&#x27;;font-size:99.99px;fill:#000000&quot; text-anchor=&quot;middle&quot;&gt;3&lt;/text&gt;\n",
       "\t&lt;line x1=&quot;2960.35&quot; y1=&quot;2489.19&quot; x2=&quot;2960.35&quot; y2=&quot;2529.16&quot; style=&quot;stroke:#000000;stroke-width:5.76&quot;/&gt;\n",
       "\t&lt;text x=&quot;2960.35&quot; y=&quot;2619.14&quot; style=&quot;font-family:&#x27;Helvetica&#x27;;font-size:99.99px;fill:#000000&quot; text-anchor=&quot;middle&quot;&gt;4&lt;/text&gt;\n",
       "\t&lt;line x1=&quot;3795.66&quot; y1=&quot;2489.19&quot; x2=&quot;3795.66&quot; y2=&quot;2529.16&quot; style=&quot;stroke:#000000;stroke-width:5.76&quot;/&gt;\n",
       "\t&lt;text x=&quot;3795.66&quot; y=&quot;2619.14&quot; style=&quot;font-family:&#x27;Helvetica&#x27;;font-size:99.99px;fill:#000000&quot; text-anchor=&quot;middle&quot;&gt;5&lt;/text&gt;\n",
       "\t&lt;text x=&quot;2124.91&quot; y=&quot;2729.16&quot; style=&quot;font-family:&#x27;Helvetica&#x27;;font-size:99.99px;fill:#000000&quot; text-anchor=&quot;middle&quot;&gt;Outcome&lt;/text&gt;\n",
       "\t&lt;text x=&quot;1979.88&quot; y=&quot;206.19&quot; style=&quot;font-family:&#x27;Helvetica&#x27;;font-size:125.98px;fill:#1E2D53&quot; text-anchor=&quot;middle&quot;&gt;Conditional Marginal Effects of a_cons_as with 95% CIs&lt;/text&gt;\n",
       "&lt;/svg&gt;\n",
       "</body></html>\"></iframe>\n"
      ],
      "text/plain": [
       "This front-end cannot display the desired image type."
      ]
     },
     "metadata": {
      "image/svg+xml": {
       "height": 436,
       "width": 600
      },
      "text/html": {
       "height": 436,
       "width": 600
      }
     },
     "output_type": "display_data"
    },
    {
     "name": "stdout",
     "output_type": "stream",
     "text": [
      "\n",
      "\n"
     ]
    }
   ],
   "source": [
    "marginsplot"
   ]
  },
  {
   "cell_type": "code",
   "execution_count": 193,
   "metadata": {},
   "outputs": [
    {
     "name": "stdout",
     "output_type": "stream",
     "text": [
      "\n",
      "\n",
      "\n",
      "Conditional marginal effects                    Number of obs     =        184\n",
      "Model VCE    : OIM\n",
      "\n",
      "dy/dx w.r.t. : a_cons_as\n",
      "1._predict   : Pr(a_cons_hac==1), predict(pr outcome(1))\n",
      "2._predict   : Pr(a_cons_hac==2), predict(pr outcome(2))\n",
      "3._predict   : Pr(a_cons_hac==3), predict(pr outcome(3))\n",
      "4._predict   : Pr(a_cons_hac==4), predict(pr outcome(4))\n",
      "5._predict   : Pr(a_cons_hac==5), predict(pr outcome(5))\n",
      "at           : age             =           2\n",
      "               gender          =           1\n",
      "               marriage        =           1\n",
      "               student1        =           0\n",
      "               company_man2    =           0\n",
      "               public_off~3    =           1\n",
      "               profession4     =           0\n",
      "               researcher5     =           0\n",
      "               learn           =           3\n",
      "               income          =           2\n",
      "               avg_distance    =           3\n",
      "               freq_use_ev     =           3\n",
      "               club_kepco2     =           1\n",
      "               club_jeju3      =           0\n",
      "               ev_owner        =           0\n",
      "               saving_free     =           1\n",
      "               a_cons_sho~s    =           4\n",
      "               a_cons_as       =           4\n",
      "               a_cons_cha~e    =           3\n",
      "               a_cons_num~k    =           5\n",
      "               a_cons_lon~e    =           4\n",
      "               a_cons_hil~e    =           3\n",
      "\n",
      "------------------------------------------------------------------------------\n",
      "             |            Delta-method\n",
      "             |      dy/dx   Std. Err.      z    P>|z|     [95% Conf. Interval]\n",
      "-------------+----------------------------------------------------------------\n",
      "a_cons_as    |\n",
      "    _predict |\n",
      "          1  |  -.0124052   .0061136    -2.03   0.042    -.0243877   -.0004227\n",
      "          2  |   -.026206   .0108443    -2.42   0.016    -.0474605   -.0049515\n",
      "          3  |  -.0372252   .0210249    -1.77   0.077    -.0784332    .0039828\n",
      "          4  |   .0197673   .0127832     1.55   0.122    -.0052873     .044822\n",
      "          5  |    .056069   .0304125     1.84   0.065    -.0035383    .1156764\n",
      "------------------------------------------------------------------------------\n"
     ]
    }
   ],
   "source": [
    "quietly: oprobit a_cons_hac age gender marriage student1 company_man2 public_officer3 profession4 researcher5 learn income avg_distance freq_use_ev club_kepco2 club_jeju3 ev_owner saving_free a_cons_short_dis a_cons_as a_cons_charge_fee a_cons_num_charge_lack a_cons_long_charge_time a_cons_hill_ride, nolog\n",
    "margins, dydx(a_cons_as) at(age=2  gender=1 marriage=1 student1=0 company_man2=0 public_officer3=1 profession4 =0 researcher5=0 learn=3 income=2 avg_distance=3 freq_use_ev =3  club_kepco2=1  club_jeju3  =0 ev_owner =0  saving_free = 1 a_cons_short=4 a_cons_as = 4 a_cons_charge_fee=3 a_cons_num_charge_lack =5  a_cons_long_charge_time= 4 a_cons_hill_ride =3 )"
   ]
  },
  {
   "cell_type": "code",
   "execution_count": 194,
   "metadata": {},
   "outputs": [
    {
     "name": "stdout",
     "output_type": "stream",
     "text": [
      "\n",
      "  Variables that uniquely identify margins: _outcome\n"
     ]
    },
    {
     "data": {
      "application/pdf": "[encoded data removed]",
      "image/svg+xml": [
       "<?xml version=\"1.0\" encoding=\"UTF-8\" standalone=\"no\"?>\n",
       "<!-- This is a Stata 14.2 generated SVG file (http://www.stata.com) -->\n",
       "\n",
       "<svg version=\"1.1\" width=\"600px\" height=\"436px\" viewBox=\"0 0 3960 2880\" xmlns=\"http://www.w3.org/2000/svg\">\n",
       "\t<desc>Stata Graph - Graph</desc>\n",
       "\t<rect x=\"0.00\" y=\"0.00\" width=\"3959.88\" height=\"2880.00\" style=\"fill:#EAF2F3;stroke:#EAF2F3;stroke-width:5.76\"/>\n",
       "\t<rect x=\"390.80\" y=\"261.37\" width=\"3468.22\" height=\"2227.82\" style=\"fill:#FFFFFF;stroke:#FFFFFF;stroke-width:5.76\"/>\n",
       "\t<line x1=\"390.80\" y1=\"2425.82\" x2=\"3859.02\" y2=\"2425.82\" style=\"stroke:#EAF2F3;stroke-width:8.64\"/>\n",
       "\t<line x1=\"390.80\" y1=\"1938.73\" x2=\"3859.02\" y2=\"1938.73\" style=\"stroke:#EAF2F3;stroke-width:8.64\"/>\n",
       "\t<line x1=\"390.80\" y1=\"1451.63\" x2=\"3859.02\" y2=\"1451.63\" style=\"stroke:#EAF2F3;stroke-width:8.64\"/>\n",
       "\t<line x1=\"390.80\" y1=\"964.54\" x2=\"3859.02\" y2=\"964.54\" style=\"stroke:#EAF2F3;stroke-width:8.64\"/>\n",
       "\t<line x1=\"390.80\" y1=\"477.44\" x2=\"3859.02\" y2=\"477.44\" style=\"stroke:#EAF2F3;stroke-width:8.64\"/>\n",
       "\t<line x1=\"454.16\" y1=\"1689.24\" x2=\"454.16\" y2=\"1455.72\" style=\"stroke:#1A476F;stroke-width:8.64\"/>\n",
       "\t<line x1=\"432.13\" y1=\"1455.72\" x2=\"476.19\" y2=\"1455.72\" stroke-linecap=\"round\" style=\"stroke:#1A476F;stroke-width:8.64\"/>\n",
       "\t<line x1=\"432.13\" y1=\"1689.24\" x2=\"476.19\" y2=\"1689.24\" stroke-linecap=\"round\" style=\"stroke:#1A476F;stroke-width:8.64\"/>\n",
       "\t<line x1=\"1289.47\" y1=\"1913.98\" x2=\"1289.47\" y2=\"1499.90\" style=\"stroke:#1A476F;stroke-width:8.64\"/>\n",
       "\t<line x1=\"1267.45\" y1=\"1499.90\" x2=\"1311.50\" y2=\"1499.90\" stroke-linecap=\"round\" style=\"stroke:#1A476F;stroke-width:8.64\"/>\n",
       "\t<line x1=\"1267.45\" y1=\"1913.98\" x2=\"1311.50\" y2=\"1913.98\" stroke-linecap=\"round\" style=\"stroke:#1A476F;stroke-width:8.64\"/>\n",
       "\t<line x1=\"2124.91\" y1=\"2215.69\" x2=\"2124.91\" y2=\"1412.90\" style=\"stroke:#1A476F;stroke-width:8.64\"/>\n",
       "\t<line x1=\"2102.88\" y1=\"1412.90\" x2=\"2146.94\" y2=\"1412.90\" stroke-linecap=\"round\" style=\"stroke:#1A476F;stroke-width:8.64\"/>\n",
       "\t<line x1=\"2102.88\" y1=\"2215.69\" x2=\"2146.94\" y2=\"2215.69\" stroke-linecap=\"round\" style=\"stroke:#1A476F;stroke-width:8.64\"/>\n",
       "\t<line x1=\"2960.35\" y1=\"1503.11\" x2=\"2960.35\" y2=\"1015.03\" style=\"stroke:#1A476F;stroke-width:8.64\"/>\n",
       "\t<line x1=\"2938.32\" y1=\"1015.03\" x2=\"2982.38\" y2=\"1015.03\" stroke-linecap=\"round\" style=\"stroke:#1A476F;stroke-width:8.64\"/>\n",
       "\t<line x1=\"2938.32\" y1=\"1503.11\" x2=\"2982.38\" y2=\"1503.11\" stroke-linecap=\"round\" style=\"stroke:#1A476F;stroke-width:8.64\"/>\n",
       "\t<line x1=\"3795.66\" y1=\"1486.16\" x2=\"3795.66\" y2=\"324.73\" style=\"stroke:#1A476F;stroke-width:8.64\"/>\n",
       "\t<line x1=\"3773.63\" y1=\"324.73\" x2=\"3817.69\" y2=\"324.73\" stroke-linecap=\"round\" style=\"stroke:#1A476F;stroke-width:8.64\"/>\n",
       "\t<line x1=\"3773.63\" y1=\"1486.16\" x2=\"3817.69\" y2=\"1486.16\" stroke-linecap=\"round\" style=\"stroke:#1A476F;stroke-width:8.64\"/>\n",
       "\t<line x1=\"454.04\" y1=\"1572.54\" x2=\"1289.47\" y2=\"1707.06\" stroke-linecap=\"round\" style=\"stroke:#1A476F;stroke-width:8.64\"/>\n",
       "\t<line x1=\"1289.47\" y1=\"1707.06\" x2=\"2124.91\" y2=\"1814.36\" stroke-linecap=\"round\" style=\"stroke:#1A476F;stroke-width:8.64\"/>\n",
       "\t<line x1=\"2124.91\" y1=\"1814.36\" x2=\"2960.22\" y2=\"1259.07\" stroke-linecap=\"round\" style=\"stroke:#1A476F;stroke-width:8.64\"/>\n",
       "\t<line x1=\"2960.22\" y1=\"1259.07\" x2=\"3795.66\" y2=\"905.51\" stroke-linecap=\"round\" style=\"stroke:#1A476F;stroke-width:8.64\"/>\n",
       "\t<circle cx=\"454.04\" cy=\"1572.54\" r=\"22.03\" style=\"fill:#1A476F;stroke:#1A476F;stroke-width:8.64\"/>\n",
       "\t<circle cx=\"1289.47\" cy=\"1707.06\" r=\"22.03\" style=\"fill:#1A476F;stroke:#1A476F;stroke-width:8.64\"/>\n",
       "\t<circle cx=\"2124.91\" cy=\"1814.36\" r=\"22.03\" style=\"fill:#1A476F;stroke:#1A476F;stroke-width:8.64\"/>\n",
       "\t<circle cx=\"2960.22\" cy=\"1259.07\" r=\"22.03\" style=\"fill:#1A476F;stroke:#1A476F;stroke-width:8.64\"/>\n",
       "\t<circle cx=\"3795.66\" cy=\"905.51\" r=\"22.03\" style=\"fill:#1A476F;stroke:#1A476F;stroke-width:8.64\"/>\n",
       "\t<line x1=\"390.80\" y1=\"2489.19\" x2=\"390.80\" y2=\"261.37\" style=\"stroke:#000000;stroke-width:5.76\"/>\n",
       "\t<line x1=\"390.80\" y1=\"2425.82\" x2=\"350.83\" y2=\"2425.82\" style=\"stroke:#000000;stroke-width:5.76\"/>\n",
       "\t<text x=\"300.72\" y=\"2425.82\" style=\"font-family:'Helvetica';font-size:99.99px;fill:#000000\" transform=\"rotate(-90 300.72,2425.82)\" text-anchor=\"middle\">-.1</text>\n",
       "\t<line x1=\"390.80\" y1=\"1938.73\" x2=\"350.83\" y2=\"1938.73\" style=\"stroke:#000000;stroke-width:5.76\"/>\n",
       "\t<text x=\"300.72\" y=\"1938.73\" style=\"font-family:'Helvetica';font-size:99.99px;fill:#000000\" transform=\"rotate(-90 300.72,1938.73)\" text-anchor=\"middle\">-.05</text>\n",
       "\t<line x1=\"390.80\" y1=\"1451.63\" x2=\"350.83\" y2=\"1451.63\" style=\"stroke:#000000;stroke-width:5.76\"/>\n",
       "\t<text x=\"300.72\" y=\"1451.63\" style=\"font-family:'Helvetica';font-size:99.99px;fill:#000000\" transform=\"rotate(-90 300.72,1451.63)\" text-anchor=\"middle\">0</text>\n",
       "\t<line x1=\"390.80\" y1=\"964.54\" x2=\"350.83\" y2=\"964.54\" style=\"stroke:#000000;stroke-width:5.76\"/>\n",
       "\t<text x=\"300.72\" y=\"964.54\" style=\"font-family:'Helvetica';font-size:99.99px;fill:#000000\" transform=\"rotate(-90 300.72,964.54)\" text-anchor=\"middle\">.05</text>\n",
       "\t<line x1=\"390.80\" y1=\"477.44\" x2=\"350.83\" y2=\"477.44\" style=\"stroke:#000000;stroke-width:5.76\"/>\n",
       "\t<text x=\"300.72\" y=\"477.44\" style=\"font-family:'Helvetica';font-size:99.99px;fill:#000000\" transform=\"rotate(-90 300.72,477.44)\" text-anchor=\"middle\">.1</text>\n",
       "\t<text x=\"190.71\" y=\"1375.28\" style=\"font-family:'Helvetica';font-size:99.99px;fill:#000000\" transform=\"rotate(-90 190.71,1375.28)\" text-anchor=\"middle\">Effects on Probability</text>\n",
       "\t<line x1=\"390.80\" y1=\"2489.19\" x2=\"3859.02\" y2=\"2489.19\" style=\"stroke:#000000;stroke-width:5.76\"/>\n",
       "\t<line x1=\"454.16\" y1=\"2489.19\" x2=\"454.16\" y2=\"2529.16\" style=\"stroke:#000000;stroke-width:5.76\"/>\n",
       "\t<text x=\"454.16\" y=\"2619.14\" style=\"font-family:'Helvetica';font-size:99.99px;fill:#000000\" text-anchor=\"middle\">1</text>\n",
       "\t<line x1=\"1289.47\" y1=\"2489.19\" x2=\"1289.47\" y2=\"2529.16\" style=\"stroke:#000000;stroke-width:5.76\"/>\n",
       "\t<text x=\"1289.47\" y=\"2619.14\" style=\"font-family:'Helvetica';font-size:99.99px;fill:#000000\" text-anchor=\"middle\">2</text>\n",
       "\t<line x1=\"2124.91\" y1=\"2489.19\" x2=\"2124.91\" y2=\"2529.16\" style=\"stroke:#000000;stroke-width:5.76\"/>\n",
       "\t<text x=\"2124.91\" y=\"2619.14\" style=\"font-family:'Helvetica';font-size:99.99px;fill:#000000\" text-anchor=\"middle\">3</text>\n",
       "\t<line x1=\"2960.35\" y1=\"2489.19\" x2=\"2960.35\" y2=\"2529.16\" style=\"stroke:#000000;stroke-width:5.76\"/>\n",
       "\t<text x=\"2960.35\" y=\"2619.14\" style=\"font-family:'Helvetica';font-size:99.99px;fill:#000000\" text-anchor=\"middle\">4</text>\n",
       "\t<line x1=\"3795.66\" y1=\"2489.19\" x2=\"3795.66\" y2=\"2529.16\" style=\"stroke:#000000;stroke-width:5.76\"/>\n",
       "\t<text x=\"3795.66\" y=\"2619.14\" style=\"font-family:'Helvetica';font-size:99.99px;fill:#000000\" text-anchor=\"middle\">5</text>\n",
       "\t<text x=\"2124.91\" y=\"2729.16\" style=\"font-family:'Helvetica';font-size:99.99px;fill:#000000\" text-anchor=\"middle\">Outcome</text>\n",
       "\t<text x=\"1979.88\" y=\"206.19\" style=\"font-family:'Helvetica';font-size:125.98px;fill:#1E2D53\" text-anchor=\"middle\">Conditional Marginal Effects of a_cons_as with 95% CIs</text>\n",
       "</svg>\n"
      ],
      "text/html": [
       "                <iframe frameborder=\"0\" scrolling=\"no\" height=\"436\" width=\"600\"                srcdoc=\"<html><body>&lt;?xml version=&quot;1.0&quot; encoding=&quot;UTF-8&quot; standalone=&quot;no&quot;?&gt;\n",
       "&lt;!-- This is a Stata 14.2 generated SVG file (http://www.stata.com) --&gt;\n",
       "\n",
       "&lt;svg version=&quot;1.1&quot; width=&quot;600px&quot; height=&quot;436px&quot; viewBox=&quot;0 0 3960 2880&quot; xmlns=&quot;http://www.w3.org/2000/svg&quot;&gt;\n",
       "\t&lt;desc&gt;Stata Graph - Graph&lt;/desc&gt;\n",
       "\t&lt;rect x=&quot;0.00&quot; y=&quot;0.00&quot; width=&quot;3959.88&quot; height=&quot;2880.00&quot; style=&quot;fill:#EAF2F3;stroke:#EAF2F3;stroke-width:5.76&quot;/&gt;\n",
       "\t&lt;rect x=&quot;390.80&quot; y=&quot;261.37&quot; width=&quot;3468.22&quot; height=&quot;2227.82&quot; style=&quot;fill:#FFFFFF;stroke:#FFFFFF;stroke-width:5.76&quot;/&gt;\n",
       "\t&lt;line x1=&quot;390.80&quot; y1=&quot;2425.82&quot; x2=&quot;3859.02&quot; y2=&quot;2425.82&quot; style=&quot;stroke:#EAF2F3;stroke-width:8.64&quot;/&gt;\n",
       "\t&lt;line x1=&quot;390.80&quot; y1=&quot;1938.73&quot; x2=&quot;3859.02&quot; y2=&quot;1938.73&quot; style=&quot;stroke:#EAF2F3;stroke-width:8.64&quot;/&gt;\n",
       "\t&lt;line x1=&quot;390.80&quot; y1=&quot;1451.63&quot; x2=&quot;3859.02&quot; y2=&quot;1451.63&quot; style=&quot;stroke:#EAF2F3;stroke-width:8.64&quot;/&gt;\n",
       "\t&lt;line x1=&quot;390.80&quot; y1=&quot;964.54&quot; x2=&quot;3859.02&quot; y2=&quot;964.54&quot; style=&quot;stroke:#EAF2F3;stroke-width:8.64&quot;/&gt;\n",
       "\t&lt;line x1=&quot;390.80&quot; y1=&quot;477.44&quot; x2=&quot;3859.02&quot; y2=&quot;477.44&quot; style=&quot;stroke:#EAF2F3;stroke-width:8.64&quot;/&gt;\n",
       "\t&lt;line x1=&quot;454.16&quot; y1=&quot;1689.24&quot; x2=&quot;454.16&quot; y2=&quot;1455.72&quot; style=&quot;stroke:#1A476F;stroke-width:8.64&quot;/&gt;\n",
       "\t&lt;line x1=&quot;432.13&quot; y1=&quot;1455.72&quot; x2=&quot;476.19&quot; y2=&quot;1455.72&quot; stroke-linecap=&quot;round&quot; style=&quot;stroke:#1A476F;stroke-width:8.64&quot;/&gt;\n",
       "\t&lt;line x1=&quot;432.13&quot; y1=&quot;1689.24&quot; x2=&quot;476.19&quot; y2=&quot;1689.24&quot; stroke-linecap=&quot;round&quot; style=&quot;stroke:#1A476F;stroke-width:8.64&quot;/&gt;\n",
       "\t&lt;line x1=&quot;1289.47&quot; y1=&quot;1913.98&quot; x2=&quot;1289.47&quot; y2=&quot;1499.90&quot; style=&quot;stroke:#1A476F;stroke-width:8.64&quot;/&gt;\n",
       "\t&lt;line x1=&quot;1267.45&quot; y1=&quot;1499.90&quot; x2=&quot;1311.50&quot; y2=&quot;1499.90&quot; stroke-linecap=&quot;round&quot; style=&quot;stroke:#1A476F;stroke-width:8.64&quot;/&gt;\n",
       "\t&lt;line x1=&quot;1267.45&quot; y1=&quot;1913.98&quot; x2=&quot;1311.50&quot; y2=&quot;1913.98&quot; stroke-linecap=&quot;round&quot; style=&quot;stroke:#1A476F;stroke-width:8.64&quot;/&gt;\n",
       "\t&lt;line x1=&quot;2124.91&quot; y1=&quot;2215.69&quot; x2=&quot;2124.91&quot; y2=&quot;1412.90&quot; style=&quot;stroke:#1A476F;stroke-width:8.64&quot;/&gt;\n",
       "\t&lt;line x1=&quot;2102.88&quot; y1=&quot;1412.90&quot; x2=&quot;2146.94&quot; y2=&quot;1412.90&quot; stroke-linecap=&quot;round&quot; style=&quot;stroke:#1A476F;stroke-width:8.64&quot;/&gt;\n",
       "\t&lt;line x1=&quot;2102.88&quot; y1=&quot;2215.69&quot; x2=&quot;2146.94&quot; y2=&quot;2215.69&quot; stroke-linecap=&quot;round&quot; style=&quot;stroke:#1A476F;stroke-width:8.64&quot;/&gt;\n",
       "\t&lt;line x1=&quot;2960.35&quot; y1=&quot;1503.11&quot; x2=&quot;2960.35&quot; y2=&quot;1015.03&quot; style=&quot;stroke:#1A476F;stroke-width:8.64&quot;/&gt;\n",
       "\t&lt;line x1=&quot;2938.32&quot; y1=&quot;1015.03&quot; x2=&quot;2982.38&quot; y2=&quot;1015.03&quot; stroke-linecap=&quot;round&quot; style=&quot;stroke:#1A476F;stroke-width:8.64&quot;/&gt;\n",
       "\t&lt;line x1=&quot;2938.32&quot; y1=&quot;1503.11&quot; x2=&quot;2982.38&quot; y2=&quot;1503.11&quot; stroke-linecap=&quot;round&quot; style=&quot;stroke:#1A476F;stroke-width:8.64&quot;/&gt;\n",
       "\t&lt;line x1=&quot;3795.66&quot; y1=&quot;1486.16&quot; x2=&quot;3795.66&quot; y2=&quot;324.73&quot; style=&quot;stroke:#1A476F;stroke-width:8.64&quot;/&gt;\n",
       "\t&lt;line x1=&quot;3773.63&quot; y1=&quot;324.73&quot; x2=&quot;3817.69&quot; y2=&quot;324.73&quot; stroke-linecap=&quot;round&quot; style=&quot;stroke:#1A476F;stroke-width:8.64&quot;/&gt;\n",
       "\t&lt;line x1=&quot;3773.63&quot; y1=&quot;1486.16&quot; x2=&quot;3817.69&quot; y2=&quot;1486.16&quot; stroke-linecap=&quot;round&quot; style=&quot;stroke:#1A476F;stroke-width:8.64&quot;/&gt;\n",
       "\t&lt;line x1=&quot;454.04&quot; y1=&quot;1572.54&quot; x2=&quot;1289.47&quot; y2=&quot;1707.06&quot; stroke-linecap=&quot;round&quot; style=&quot;stroke:#1A476F;stroke-width:8.64&quot;/&gt;\n",
       "\t&lt;line x1=&quot;1289.47&quot; y1=&quot;1707.06&quot; x2=&quot;2124.91&quot; y2=&quot;1814.36&quot; stroke-linecap=&quot;round&quot; style=&quot;stroke:#1A476F;stroke-width:8.64&quot;/&gt;\n",
       "\t&lt;line x1=&quot;2124.91&quot; y1=&quot;1814.36&quot; x2=&quot;2960.22&quot; y2=&quot;1259.07&quot; stroke-linecap=&quot;round&quot; style=&quot;stroke:#1A476F;stroke-width:8.64&quot;/&gt;\n",
       "\t&lt;line x1=&quot;2960.22&quot; y1=&quot;1259.07&quot; x2=&quot;3795.66&quot; y2=&quot;905.51&quot; stroke-linecap=&quot;round&quot; style=&quot;stroke:#1A476F;stroke-width:8.64&quot;/&gt;\n",
       "\t&lt;circle cx=&quot;454.04&quot; cy=&quot;1572.54&quot; r=&quot;22.03&quot; style=&quot;fill:#1A476F;stroke:#1A476F;stroke-width:8.64&quot;/&gt;\n",
       "\t&lt;circle cx=&quot;1289.47&quot; cy=&quot;1707.06&quot; r=&quot;22.03&quot; style=&quot;fill:#1A476F;stroke:#1A476F;stroke-width:8.64&quot;/&gt;\n",
       "\t&lt;circle cx=&quot;2124.91&quot; cy=&quot;1814.36&quot; r=&quot;22.03&quot; style=&quot;fill:#1A476F;stroke:#1A476F;stroke-width:8.64&quot;/&gt;\n",
       "\t&lt;circle cx=&quot;2960.22&quot; cy=&quot;1259.07&quot; r=&quot;22.03&quot; style=&quot;fill:#1A476F;stroke:#1A476F;stroke-width:8.64&quot;/&gt;\n",
       "\t&lt;circle cx=&quot;3795.66&quot; cy=&quot;905.51&quot; r=&quot;22.03&quot; style=&quot;fill:#1A476F;stroke:#1A476F;stroke-width:8.64&quot;/&gt;\n",
       "\t&lt;line x1=&quot;390.80&quot; y1=&quot;2489.19&quot; x2=&quot;390.80&quot; y2=&quot;261.37&quot; style=&quot;stroke:#000000;stroke-width:5.76&quot;/&gt;\n",
       "\t&lt;line x1=&quot;390.80&quot; y1=&quot;2425.82&quot; x2=&quot;350.83&quot; y2=&quot;2425.82&quot; style=&quot;stroke:#000000;stroke-width:5.76&quot;/&gt;\n",
       "\t&lt;text x=&quot;300.72&quot; y=&quot;2425.82&quot; style=&quot;font-family:&#x27;Helvetica&#x27;;font-size:99.99px;fill:#000000&quot; transform=&quot;rotate(-90 300.72,2425.82)&quot; text-anchor=&quot;middle&quot;&gt;-.1&lt;/text&gt;\n",
       "\t&lt;line x1=&quot;390.80&quot; y1=&quot;1938.73&quot; x2=&quot;350.83&quot; y2=&quot;1938.73&quot; style=&quot;stroke:#000000;stroke-width:5.76&quot;/&gt;\n",
       "\t&lt;text x=&quot;300.72&quot; y=&quot;1938.73&quot; style=&quot;font-family:&#x27;Helvetica&#x27;;font-size:99.99px;fill:#000000&quot; transform=&quot;rotate(-90 300.72,1938.73)&quot; text-anchor=&quot;middle&quot;&gt;-.05&lt;/text&gt;\n",
       "\t&lt;line x1=&quot;390.80&quot; y1=&quot;1451.63&quot; x2=&quot;350.83&quot; y2=&quot;1451.63&quot; style=&quot;stroke:#000000;stroke-width:5.76&quot;/&gt;\n",
       "\t&lt;text x=&quot;300.72&quot; y=&quot;1451.63&quot; style=&quot;font-family:&#x27;Helvetica&#x27;;font-size:99.99px;fill:#000000&quot; transform=&quot;rotate(-90 300.72,1451.63)&quot; text-anchor=&quot;middle&quot;&gt;0&lt;/text&gt;\n",
       "\t&lt;line x1=&quot;390.80&quot; y1=&quot;964.54&quot; x2=&quot;350.83&quot; y2=&quot;964.54&quot; style=&quot;stroke:#000000;stroke-width:5.76&quot;/&gt;\n",
       "\t&lt;text x=&quot;300.72&quot; y=&quot;964.54&quot; style=&quot;font-family:&#x27;Helvetica&#x27;;font-size:99.99px;fill:#000000&quot; transform=&quot;rotate(-90 300.72,964.54)&quot; text-anchor=&quot;middle&quot;&gt;.05&lt;/text&gt;\n",
       "\t&lt;line x1=&quot;390.80&quot; y1=&quot;477.44&quot; x2=&quot;350.83&quot; y2=&quot;477.44&quot; style=&quot;stroke:#000000;stroke-width:5.76&quot;/&gt;\n",
       "\t&lt;text x=&quot;300.72&quot; y=&quot;477.44&quot; style=&quot;font-family:&#x27;Helvetica&#x27;;font-size:99.99px;fill:#000000&quot; transform=&quot;rotate(-90 300.72,477.44)&quot; text-anchor=&quot;middle&quot;&gt;.1&lt;/text&gt;\n",
       "\t&lt;text x=&quot;190.71&quot; y=&quot;1375.28&quot; style=&quot;font-family:&#x27;Helvetica&#x27;;font-size:99.99px;fill:#000000&quot; transform=&quot;rotate(-90 190.71,1375.28)&quot; text-anchor=&quot;middle&quot;&gt;Effects on Probability&lt;/text&gt;\n",
       "\t&lt;line x1=&quot;390.80&quot; y1=&quot;2489.19&quot; x2=&quot;3859.02&quot; y2=&quot;2489.19&quot; style=&quot;stroke:#000000;stroke-width:5.76&quot;/&gt;\n",
       "\t&lt;line x1=&quot;454.16&quot; y1=&quot;2489.19&quot; x2=&quot;454.16&quot; y2=&quot;2529.16&quot; style=&quot;stroke:#000000;stroke-width:5.76&quot;/&gt;\n",
       "\t&lt;text x=&quot;454.16&quot; y=&quot;2619.14&quot; style=&quot;font-family:&#x27;Helvetica&#x27;;font-size:99.99px;fill:#000000&quot; text-anchor=&quot;middle&quot;&gt;1&lt;/text&gt;\n",
       "\t&lt;line x1=&quot;1289.47&quot; y1=&quot;2489.19&quot; x2=&quot;1289.47&quot; y2=&quot;2529.16&quot; style=&quot;stroke:#000000;stroke-width:5.76&quot;/&gt;\n",
       "\t&lt;text x=&quot;1289.47&quot; y=&quot;2619.14&quot; style=&quot;font-family:&#x27;Helvetica&#x27;;font-size:99.99px;fill:#000000&quot; text-anchor=&quot;middle&quot;&gt;2&lt;/text&gt;\n",
       "\t&lt;line x1=&quot;2124.91&quot; y1=&quot;2489.19&quot; x2=&quot;2124.91&quot; y2=&quot;2529.16&quot; style=&quot;stroke:#000000;stroke-width:5.76&quot;/&gt;\n",
       "\t&lt;text x=&quot;2124.91&quot; y=&quot;2619.14&quot; style=&quot;font-family:&#x27;Helvetica&#x27;;font-size:99.99px;fill:#000000&quot; text-anchor=&quot;middle&quot;&gt;3&lt;/text&gt;\n",
       "\t&lt;line x1=&quot;2960.35&quot; y1=&quot;2489.19&quot; x2=&quot;2960.35&quot; y2=&quot;2529.16&quot; style=&quot;stroke:#000000;stroke-width:5.76&quot;/&gt;\n",
       "\t&lt;text x=&quot;2960.35&quot; y=&quot;2619.14&quot; style=&quot;font-family:&#x27;Helvetica&#x27;;font-size:99.99px;fill:#000000&quot; text-anchor=&quot;middle&quot;&gt;4&lt;/text&gt;\n",
       "\t&lt;line x1=&quot;3795.66&quot; y1=&quot;2489.19&quot; x2=&quot;3795.66&quot; y2=&quot;2529.16&quot; style=&quot;stroke:#000000;stroke-width:5.76&quot;/&gt;\n",
       "\t&lt;text x=&quot;3795.66&quot; y=&quot;2619.14&quot; style=&quot;font-family:&#x27;Helvetica&#x27;;font-size:99.99px;fill:#000000&quot; text-anchor=&quot;middle&quot;&gt;5&lt;/text&gt;\n",
       "\t&lt;text x=&quot;2124.91&quot; y=&quot;2729.16&quot; style=&quot;font-family:&#x27;Helvetica&#x27;;font-size:99.99px;fill:#000000&quot; text-anchor=&quot;middle&quot;&gt;Outcome&lt;/text&gt;\n",
       "\t&lt;text x=&quot;1979.88&quot; y=&quot;206.19&quot; style=&quot;font-family:&#x27;Helvetica&#x27;;font-size:125.98px;fill:#1E2D53&quot; text-anchor=&quot;middle&quot;&gt;Conditional Marginal Effects of a_cons_as with 95% CIs&lt;/text&gt;\n",
       "&lt;/svg&gt;\n",
       "</body></html>\"></iframe>\n"
      ],
      "text/plain": [
       "This front-end cannot display the desired image type."
      ]
     },
     "metadata": {
      "image/svg+xml": {
       "height": 436,
       "width": 600
      },
      "text/html": {
       "height": 436,
       "width": 600
      }
     },
     "output_type": "display_data"
    },
    {
     "name": "stdout",
     "output_type": "stream",
     "text": [
      "\n",
      "\n"
     ]
    }
   ],
   "source": [
    "marginsplot"
   ]
  },
  {
   "cell_type": "markdown",
   "metadata": {},
   "source": [
    "---\n",
    "### a_cons_hill_ride\n",
    "---"
   ]
  },
  {
   "cell_type": "code",
   "execution_count": 195,
   "metadata": {},
   "outputs": [
    {
     "name": "stdout",
     "output_type": "stream",
     "text": [
      "\n",
      "\n",
      "\n",
      "Conditional marginal effects                    Number of obs     =        184\n",
      "Model VCE    : OIM\n",
      "\n",
      "dy/dx w.r.t. : a_cons_hill_ride\n",
      "1._predict   : Pr(a_cons_hac==1), predict(pr outcome(1))\n",
      "2._predict   : Pr(a_cons_hac==2), predict(pr outcome(2))\n",
      "3._predict   : Pr(a_cons_hac==3), predict(pr outcome(3))\n",
      "4._predict   : Pr(a_cons_hac==4), predict(pr outcome(4))\n",
      "5._predict   : Pr(a_cons_hac==5), predict(pr outcome(5))\n",
      "at           : age             =    2.326087 (mean)\n",
      "               gender          =     .798913 (mean)\n",
      "               marriage        =    .3967391 (mean)\n",
      "               student1        =    .0543478 (mean)\n",
      "               company_man2    =    .0271739 (mean)\n",
      "               public_off~3    =    .4836957 (mean)\n",
      "               profession4     =    .2771739 (mean)\n",
      "               researcher5     =    .0923913 (mean)\n",
      "               learn           =    3.217391 (mean)\n",
      "               income          =    2.298913 (mean)\n",
      "               avg_distance    =    3.293478 (mean)\n",
      "               freq_use_ev     =    3.119565 (mean)\n",
      "               club_kepco2     =    .5217391 (mean)\n",
      "               club_jeju3      =    .2771739 (mean)\n",
      "               ev_owner        =    .0978261 (mean)\n",
      "               saving_free     =    .8913043 (mean)\n",
      "               a_cons_sho~s    =    3.733696 (mean)\n",
      "               a_cons_as       =    3.315217 (mean)\n",
      "               a_cons_cha~e    =    2.771739 (mean)\n",
      "               a_cons_num~k    =    4.108696 (mean)\n",
      "               a_cons_lon~e    =    3.913043 (mean)\n",
      "               a_cons_hil~e    =    2.717391 (mean)\n",
      "\n",
      "----------------------------------------------------------------------------------\n",
      "                 |            Delta-method\n",
      "                 |      dy/dx   Std. Err.      z    P>|z|     [95% Conf. Interval]\n",
      "-----------------+----------------------------------------------------------------\n",
      "a_cons_hill_ride |\n",
      "        _predict |\n",
      "              1  |  -.0587584   .0152479    -3.85   0.000    -.0886438   -.0288731\n",
      "              2  |  -.0726555   .0194956    -3.73   0.000    -.1108662   -.0344448\n",
      "              3  |  -.0347233   .0152048    -2.28   0.022    -.0645242   -.0049224\n",
      "              4  |   .0879173   .0220916     3.98   0.000     .0446186     .131216\n",
      "              5  |   .0782199   .0186404     4.20   0.000     .0416854    .1147545\n",
      "----------------------------------------------------------------------------------\n"
     ]
    }
   ],
   "source": [
    "quietly: oprobit a_cons_hac age gender marriage student1 company_man2 public_officer3 profession4 researcher5 learn income avg_distance freq_use_ev club_kepco2 club_jeju3 ev_owner saving_free a_cons_short_dis a_cons_as a_cons_charge_fee a_cons_num_charge_lack a_cons_long_charge_time a_cons_hill_ride, nolog\n",
    "margins, dydx(a_cons_hill_ride) atmeans"
   ]
  },
  {
   "cell_type": "code",
   "execution_count": 196,
   "metadata": {},
   "outputs": [
    {
     "name": "stdout",
     "output_type": "stream",
     "text": [
      "\n",
      "  Variables that uniquely identify margins: _outcome\n"
     ]
    },
    {
     "data": {
      "application/pdf": "[encoded data removed]",
      "image/svg+xml": [
       "<?xml version=\"1.0\" encoding=\"UTF-8\" standalone=\"no\"?>\n",
       "<!-- This is a Stata 14.2 generated SVG file (http://www.stata.com) -->\n",
       "\n",
       "<svg version=\"1.1\" width=\"600px\" height=\"436px\" viewBox=\"0 0 3960 2880\" xmlns=\"http://www.w3.org/2000/svg\">\n",
       "\t<desc>Stata Graph - Graph</desc>\n",
       "\t<rect x=\"0.00\" y=\"0.00\" width=\"3959.88\" height=\"2880.00\" style=\"fill:#EAF2F3;stroke:#EAF2F3;stroke-width:5.76\"/>\n",
       "\t<rect x=\"390.80\" y=\"261.37\" width=\"3468.22\" height=\"2227.82\" style=\"fill:#FFFFFF;stroke:#FFFFFF;stroke-width:5.76\"/>\n",
       "\t<line x1=\"390.80\" y1=\"2338.33\" x2=\"3859.02\" y2=\"2338.33\" style=\"stroke:#EAF2F3;stroke-width:8.64\"/>\n",
       "\t<line x1=\"390.80\" y1=\"1935.63\" x2=\"3859.02\" y2=\"1935.63\" style=\"stroke:#EAF2F3;stroke-width:8.64\"/>\n",
       "\t<line x1=\"390.80\" y1=\"1532.94\" x2=\"3859.02\" y2=\"1532.94\" style=\"stroke:#EAF2F3;stroke-width:8.64\"/>\n",
       "\t<line x1=\"390.80\" y1=\"1130.12\" x2=\"3859.02\" y2=\"1130.12\" style=\"stroke:#EAF2F3;stroke-width:8.64\"/>\n",
       "\t<line x1=\"390.80\" y1=\"727.43\" x2=\"3859.02\" y2=\"727.43\" style=\"stroke:#EAF2F3;stroke-width:8.64\"/>\n",
       "\t<line x1=\"390.80\" y1=\"324.73\" x2=\"3859.02\" y2=\"324.73\" style=\"stroke:#EAF2F3;stroke-width:8.64\"/>\n",
       "\t<line x1=\"454.16\" y1=\"2246.88\" x2=\"454.16\" y2=\"1765.47\" style=\"stroke:#1A476F;stroke-width:8.64\"/>\n",
       "\t<line x1=\"432.13\" y1=\"1765.47\" x2=\"476.19\" y2=\"1765.47\" stroke-linecap=\"round\" style=\"stroke:#1A476F;stroke-width:8.64\"/>\n",
       "\t<line x1=\"432.13\" y1=\"2246.88\" x2=\"476.19\" y2=\"2246.88\" stroke-linecap=\"round\" style=\"stroke:#1A476F;stroke-width:8.64\"/>\n",
       "\t<line x1=\"1289.47\" y1=\"2425.82\" x2=\"1289.47\" y2=\"1810.27\" style=\"stroke:#1A476F;stroke-width:8.64\"/>\n",
       "\t<line x1=\"1267.45\" y1=\"1810.27\" x2=\"1311.50\" y2=\"1810.27\" stroke-linecap=\"round\" style=\"stroke:#1A476F;stroke-width:8.64\"/>\n",
       "\t<line x1=\"1267.45\" y1=\"2425.82\" x2=\"1311.50\" y2=\"2425.82\" stroke-linecap=\"round\" style=\"stroke:#1A476F;stroke-width:8.64\"/>\n",
       "\t<line x1=\"2124.91\" y1=\"2052.58\" x2=\"2124.91\" y2=\"1572.54\" style=\"stroke:#1A476F;stroke-width:8.64\"/>\n",
       "\t<line x1=\"2102.88\" y1=\"1572.54\" x2=\"2146.94\" y2=\"1572.54\" stroke-linecap=\"round\" style=\"stroke:#1A476F;stroke-width:8.64\"/>\n",
       "\t<line x1=\"2102.88\" y1=\"2052.58\" x2=\"2146.94\" y2=\"2052.58\" stroke-linecap=\"round\" style=\"stroke:#1A476F;stroke-width:8.64\"/>\n",
       "\t<line x1=\"2960.35\" y1=\"1173.56\" x2=\"2960.35\" y2=\"475.96\" style=\"stroke:#1A476F;stroke-width:8.64\"/>\n",
       "\t<line x1=\"2938.32\" y1=\"475.96\" x2=\"2982.38\" y2=\"475.96\" stroke-linecap=\"round\" style=\"stroke:#1A476F;stroke-width:8.64\"/>\n",
       "\t<line x1=\"2938.32\" y1=\"1173.56\" x2=\"2982.38\" y2=\"1173.56\" stroke-linecap=\"round\" style=\"stroke:#1A476F;stroke-width:8.64\"/>\n",
       "\t<line x1=\"3795.66\" y1=\"1197.07\" x2=\"3795.66\" y2=\"608.62\" style=\"stroke:#1A476F;stroke-width:8.64\"/>\n",
       "\t<line x1=\"3773.63\" y1=\"608.62\" x2=\"3817.69\" y2=\"608.62\" stroke-linecap=\"round\" style=\"stroke:#1A476F;stroke-width:8.64\"/>\n",
       "\t<line x1=\"3773.63\" y1=\"1197.07\" x2=\"3817.69\" y2=\"1197.07\" stroke-linecap=\"round\" style=\"stroke:#1A476F;stroke-width:8.64\"/>\n",
       "\t<line x1=\"454.04\" y1=\"2006.17\" x2=\"1289.47\" y2=\"2118.17\" stroke-linecap=\"round\" style=\"stroke:#1A476F;stroke-width:8.64\"/>\n",
       "\t<line x1=\"1289.47\" y1=\"2118.17\" x2=\"2124.91\" y2=\"1812.62\" stroke-linecap=\"round\" style=\"stroke:#1A476F;stroke-width:8.64\"/>\n",
       "\t<line x1=\"2124.91\" y1=\"1812.62\" x2=\"2960.22\" y2=\"824.82\" stroke-linecap=\"round\" style=\"stroke:#1A476F;stroke-width:8.64\"/>\n",
       "\t<line x1=\"2960.22\" y1=\"824.82\" x2=\"3795.66\" y2=\"902.91\" stroke-linecap=\"round\" style=\"stroke:#1A476F;stroke-width:8.64\"/>\n",
       "\t<circle cx=\"454.04\" cy=\"2006.17\" r=\"22.03\" style=\"fill:#1A476F;stroke:#1A476F;stroke-width:8.64\"/>\n",
       "\t<circle cx=\"1289.47\" cy=\"2118.17\" r=\"22.03\" style=\"fill:#1A476F;stroke:#1A476F;stroke-width:8.64\"/>\n",
       "\t<circle cx=\"2124.91\" cy=\"1812.62\" r=\"22.03\" style=\"fill:#1A476F;stroke:#1A476F;stroke-width:8.64\"/>\n",
       "\t<circle cx=\"2960.22\" cy=\"824.82\" r=\"22.03\" style=\"fill:#1A476F;stroke:#1A476F;stroke-width:8.64\"/>\n",
       "\t<circle cx=\"3795.66\" cy=\"902.91\" r=\"22.03\" style=\"fill:#1A476F;stroke:#1A476F;stroke-width:8.64\"/>\n",
       "\t<line x1=\"390.80\" y1=\"2489.19\" x2=\"390.80\" y2=\"261.37\" style=\"stroke:#000000;stroke-width:5.76\"/>\n",
       "\t<line x1=\"390.80\" y1=\"2338.33\" x2=\"350.83\" y2=\"2338.33\" style=\"stroke:#000000;stroke-width:5.76\"/>\n",
       "\t<text x=\"300.72\" y=\"2338.33\" style=\"font-family:'Helvetica';font-size:99.99px;fill:#000000\" transform=\"rotate(-90 300.72,2338.33)\" text-anchor=\"middle\">-.1</text>\n",
       "\t<line x1=\"390.80\" y1=\"1935.63\" x2=\"350.83\" y2=\"1935.63\" style=\"stroke:#000000;stroke-width:5.76\"/>\n",
       "\t<text x=\"300.72\" y=\"1935.63\" style=\"font-family:'Helvetica';font-size:99.99px;fill:#000000\" transform=\"rotate(-90 300.72,1935.63)\" text-anchor=\"middle\">-.05</text>\n",
       "\t<line x1=\"390.80\" y1=\"1532.94\" x2=\"350.83\" y2=\"1532.94\" style=\"stroke:#000000;stroke-width:5.76\"/>\n",
       "\t<text x=\"300.72\" y=\"1532.94\" style=\"font-family:'Helvetica';font-size:99.99px;fill:#000000\" transform=\"rotate(-90 300.72,1532.94)\" text-anchor=\"middle\">0</text>\n",
       "\t<line x1=\"390.80\" y1=\"1130.12\" x2=\"350.83\" y2=\"1130.12\" style=\"stroke:#000000;stroke-width:5.76\"/>\n",
       "\t<text x=\"300.72\" y=\"1130.12\" style=\"font-family:'Helvetica';font-size:99.99px;fill:#000000\" transform=\"rotate(-90 300.72,1130.12)\" text-anchor=\"middle\">.05</text>\n",
       "\t<line x1=\"390.80\" y1=\"727.43\" x2=\"350.83\" y2=\"727.43\" style=\"stroke:#000000;stroke-width:5.76\"/>\n",
       "\t<text x=\"300.72\" y=\"727.43\" style=\"font-family:'Helvetica';font-size:99.99px;fill:#000000\" transform=\"rotate(-90 300.72,727.43)\" text-anchor=\"middle\">.1</text>\n",
       "\t<line x1=\"390.80\" y1=\"324.73\" x2=\"350.83\" y2=\"324.73\" style=\"stroke:#000000;stroke-width:5.76\"/>\n",
       "\t<text x=\"300.72\" y=\"324.73\" style=\"font-family:'Helvetica';font-size:99.99px;fill:#000000\" transform=\"rotate(-90 300.72,324.73)\" text-anchor=\"middle\">.15</text>\n",
       "\t<text x=\"190.71\" y=\"1375.28\" style=\"font-family:'Helvetica';font-size:99.99px;fill:#000000\" transform=\"rotate(-90 190.71,1375.28)\" text-anchor=\"middle\">Effects on Probability</text>\n",
       "\t<line x1=\"390.80\" y1=\"2489.19\" x2=\"3859.02\" y2=\"2489.19\" style=\"stroke:#000000;stroke-width:5.76\"/>\n",
       "\t<line x1=\"454.16\" y1=\"2489.19\" x2=\"454.16\" y2=\"2529.16\" style=\"stroke:#000000;stroke-width:5.76\"/>\n",
       "\t<text x=\"454.16\" y=\"2619.14\" style=\"font-family:'Helvetica';font-size:99.99px;fill:#000000\" text-anchor=\"middle\">1</text>\n",
       "\t<line x1=\"1289.47\" y1=\"2489.19\" x2=\"1289.47\" y2=\"2529.16\" style=\"stroke:#000000;stroke-width:5.76\"/>\n",
       "\t<text x=\"1289.47\" y=\"2619.14\" style=\"font-family:'Helvetica';font-size:99.99px;fill:#000000\" text-anchor=\"middle\">2</text>\n",
       "\t<line x1=\"2124.91\" y1=\"2489.19\" x2=\"2124.91\" y2=\"2529.16\" style=\"stroke:#000000;stroke-width:5.76\"/>\n",
       "\t<text x=\"2124.91\" y=\"2619.14\" style=\"font-family:'Helvetica';font-size:99.99px;fill:#000000\" text-anchor=\"middle\">3</text>\n",
       "\t<line x1=\"2960.35\" y1=\"2489.19\" x2=\"2960.35\" y2=\"2529.16\" style=\"stroke:#000000;stroke-width:5.76\"/>\n",
       "\t<text x=\"2960.35\" y=\"2619.14\" style=\"font-family:'Helvetica';font-size:99.99px;fill:#000000\" text-anchor=\"middle\">4</text>\n",
       "\t<line x1=\"3795.66\" y1=\"2489.19\" x2=\"3795.66\" y2=\"2529.16\" style=\"stroke:#000000;stroke-width:5.76\"/>\n",
       "\t<text x=\"3795.66\" y=\"2619.14\" style=\"font-family:'Helvetica';font-size:99.99px;fill:#000000\" text-anchor=\"middle\">5</text>\n",
       "\t<text x=\"2124.91\" y=\"2729.16\" style=\"font-family:'Helvetica';font-size:99.99px;fill:#000000\" text-anchor=\"middle\">Outcome</text>\n",
       "\t<text x=\"1980.00\" y=\"206.19\" style=\"font-family:'Helvetica';font-size:125.98px;fill:#1E2D53\" text-anchor=\"middle\">Conditional Marginal Effects of a_cons_hill_ride with 95% CIs</text>\n",
       "</svg>\n"
      ],
      "text/html": [
       "                <iframe frameborder=\"0\" scrolling=\"no\" height=\"436\" width=\"600\"                srcdoc=\"<html><body>&lt;?xml version=&quot;1.0&quot; encoding=&quot;UTF-8&quot; standalone=&quot;no&quot;?&gt;\n",
       "&lt;!-- This is a Stata 14.2 generated SVG file (http://www.stata.com) --&gt;\n",
       "\n",
       "&lt;svg version=&quot;1.1&quot; width=&quot;600px&quot; height=&quot;436px&quot; viewBox=&quot;0 0 3960 2880&quot; xmlns=&quot;http://www.w3.org/2000/svg&quot;&gt;\n",
       "\t&lt;desc&gt;Stata Graph - Graph&lt;/desc&gt;\n",
       "\t&lt;rect x=&quot;0.00&quot; y=&quot;0.00&quot; width=&quot;3959.88&quot; height=&quot;2880.00&quot; style=&quot;fill:#EAF2F3;stroke:#EAF2F3;stroke-width:5.76&quot;/&gt;\n",
       "\t&lt;rect x=&quot;390.80&quot; y=&quot;261.37&quot; width=&quot;3468.22&quot; height=&quot;2227.82&quot; style=&quot;fill:#FFFFFF;stroke:#FFFFFF;stroke-width:5.76&quot;/&gt;\n",
       "\t&lt;line x1=&quot;390.80&quot; y1=&quot;2338.33&quot; x2=&quot;3859.02&quot; y2=&quot;2338.33&quot; style=&quot;stroke:#EAF2F3;stroke-width:8.64&quot;/&gt;\n",
       "\t&lt;line x1=&quot;390.80&quot; y1=&quot;1935.63&quot; x2=&quot;3859.02&quot; y2=&quot;1935.63&quot; style=&quot;stroke:#EAF2F3;stroke-width:8.64&quot;/&gt;\n",
       "\t&lt;line x1=&quot;390.80&quot; y1=&quot;1532.94&quot; x2=&quot;3859.02&quot; y2=&quot;1532.94&quot; style=&quot;stroke:#EAF2F3;stroke-width:8.64&quot;/&gt;\n",
       "\t&lt;line x1=&quot;390.80&quot; y1=&quot;1130.12&quot; x2=&quot;3859.02&quot; y2=&quot;1130.12&quot; style=&quot;stroke:#EAF2F3;stroke-width:8.64&quot;/&gt;\n",
       "\t&lt;line x1=&quot;390.80&quot; y1=&quot;727.43&quot; x2=&quot;3859.02&quot; y2=&quot;727.43&quot; style=&quot;stroke:#EAF2F3;stroke-width:8.64&quot;/&gt;\n",
       "\t&lt;line x1=&quot;390.80&quot; y1=&quot;324.73&quot; x2=&quot;3859.02&quot; y2=&quot;324.73&quot; style=&quot;stroke:#EAF2F3;stroke-width:8.64&quot;/&gt;\n",
       "\t&lt;line x1=&quot;454.16&quot; y1=&quot;2246.88&quot; x2=&quot;454.16&quot; y2=&quot;1765.47&quot; style=&quot;stroke:#1A476F;stroke-width:8.64&quot;/&gt;\n",
       "\t&lt;line x1=&quot;432.13&quot; y1=&quot;1765.47&quot; x2=&quot;476.19&quot; y2=&quot;1765.47&quot; stroke-linecap=&quot;round&quot; style=&quot;stroke:#1A476F;stroke-width:8.64&quot;/&gt;\n",
       "\t&lt;line x1=&quot;432.13&quot; y1=&quot;2246.88&quot; x2=&quot;476.19&quot; y2=&quot;2246.88&quot; stroke-linecap=&quot;round&quot; style=&quot;stroke:#1A476F;stroke-width:8.64&quot;/&gt;\n",
       "\t&lt;line x1=&quot;1289.47&quot; y1=&quot;2425.82&quot; x2=&quot;1289.47&quot; y2=&quot;1810.27&quot; style=&quot;stroke:#1A476F;stroke-width:8.64&quot;/&gt;\n",
       "\t&lt;line x1=&quot;1267.45&quot; y1=&quot;1810.27&quot; x2=&quot;1311.50&quot; y2=&quot;1810.27&quot; stroke-linecap=&quot;round&quot; style=&quot;stroke:#1A476F;stroke-width:8.64&quot;/&gt;\n",
       "\t&lt;line x1=&quot;1267.45&quot; y1=&quot;2425.82&quot; x2=&quot;1311.50&quot; y2=&quot;2425.82&quot; stroke-linecap=&quot;round&quot; style=&quot;stroke:#1A476F;stroke-width:8.64&quot;/&gt;\n",
       "\t&lt;line x1=&quot;2124.91&quot; y1=&quot;2052.58&quot; x2=&quot;2124.91&quot; y2=&quot;1572.54&quot; style=&quot;stroke:#1A476F;stroke-width:8.64&quot;/&gt;\n",
       "\t&lt;line x1=&quot;2102.88&quot; y1=&quot;1572.54&quot; x2=&quot;2146.94&quot; y2=&quot;1572.54&quot; stroke-linecap=&quot;round&quot; style=&quot;stroke:#1A476F;stroke-width:8.64&quot;/&gt;\n",
       "\t&lt;line x1=&quot;2102.88&quot; y1=&quot;2052.58&quot; x2=&quot;2146.94&quot; y2=&quot;2052.58&quot; stroke-linecap=&quot;round&quot; style=&quot;stroke:#1A476F;stroke-width:8.64&quot;/&gt;\n",
       "\t&lt;line x1=&quot;2960.35&quot; y1=&quot;1173.56&quot; x2=&quot;2960.35&quot; y2=&quot;475.96&quot; style=&quot;stroke:#1A476F;stroke-width:8.64&quot;/&gt;\n",
       "\t&lt;line x1=&quot;2938.32&quot; y1=&quot;475.96&quot; x2=&quot;2982.38&quot; y2=&quot;475.96&quot; stroke-linecap=&quot;round&quot; style=&quot;stroke:#1A476F;stroke-width:8.64&quot;/&gt;\n",
       "\t&lt;line x1=&quot;2938.32&quot; y1=&quot;1173.56&quot; x2=&quot;2982.38&quot; y2=&quot;1173.56&quot; stroke-linecap=&quot;round&quot; style=&quot;stroke:#1A476F;stroke-width:8.64&quot;/&gt;\n",
       "\t&lt;line x1=&quot;3795.66&quot; y1=&quot;1197.07&quot; x2=&quot;3795.66&quot; y2=&quot;608.62&quot; style=&quot;stroke:#1A476F;stroke-width:8.64&quot;/&gt;\n",
       "\t&lt;line x1=&quot;3773.63&quot; y1=&quot;608.62&quot; x2=&quot;3817.69&quot; y2=&quot;608.62&quot; stroke-linecap=&quot;round&quot; style=&quot;stroke:#1A476F;stroke-width:8.64&quot;/&gt;\n",
       "\t&lt;line x1=&quot;3773.63&quot; y1=&quot;1197.07&quot; x2=&quot;3817.69&quot; y2=&quot;1197.07&quot; stroke-linecap=&quot;round&quot; style=&quot;stroke:#1A476F;stroke-width:8.64&quot;/&gt;\n",
       "\t&lt;line x1=&quot;454.04&quot; y1=&quot;2006.17&quot; x2=&quot;1289.47&quot; y2=&quot;2118.17&quot; stroke-linecap=&quot;round&quot; style=&quot;stroke:#1A476F;stroke-width:8.64&quot;/&gt;\n",
       "\t&lt;line x1=&quot;1289.47&quot; y1=&quot;2118.17&quot; x2=&quot;2124.91&quot; y2=&quot;1812.62&quot; stroke-linecap=&quot;round&quot; style=&quot;stroke:#1A476F;stroke-width:8.64&quot;/&gt;\n",
       "\t&lt;line x1=&quot;2124.91&quot; y1=&quot;1812.62&quot; x2=&quot;2960.22&quot; y2=&quot;824.82&quot; stroke-linecap=&quot;round&quot; style=&quot;stroke:#1A476F;stroke-width:8.64&quot;/&gt;\n",
       "\t&lt;line x1=&quot;2960.22&quot; y1=&quot;824.82&quot; x2=&quot;3795.66&quot; y2=&quot;902.91&quot; stroke-linecap=&quot;round&quot; style=&quot;stroke:#1A476F;stroke-width:8.64&quot;/&gt;\n",
       "\t&lt;circle cx=&quot;454.04&quot; cy=&quot;2006.17&quot; r=&quot;22.03&quot; style=&quot;fill:#1A476F;stroke:#1A476F;stroke-width:8.64&quot;/&gt;\n",
       "\t&lt;circle cx=&quot;1289.47&quot; cy=&quot;2118.17&quot; r=&quot;22.03&quot; style=&quot;fill:#1A476F;stroke:#1A476F;stroke-width:8.64&quot;/&gt;\n",
       "\t&lt;circle cx=&quot;2124.91&quot; cy=&quot;1812.62&quot; r=&quot;22.03&quot; style=&quot;fill:#1A476F;stroke:#1A476F;stroke-width:8.64&quot;/&gt;\n",
       "\t&lt;circle cx=&quot;2960.22&quot; cy=&quot;824.82&quot; r=&quot;22.03&quot; style=&quot;fill:#1A476F;stroke:#1A476F;stroke-width:8.64&quot;/&gt;\n",
       "\t&lt;circle cx=&quot;3795.66&quot; cy=&quot;902.91&quot; r=&quot;22.03&quot; style=&quot;fill:#1A476F;stroke:#1A476F;stroke-width:8.64&quot;/&gt;\n",
       "\t&lt;line x1=&quot;390.80&quot; y1=&quot;2489.19&quot; x2=&quot;390.80&quot; y2=&quot;261.37&quot; style=&quot;stroke:#000000;stroke-width:5.76&quot;/&gt;\n",
       "\t&lt;line x1=&quot;390.80&quot; y1=&quot;2338.33&quot; x2=&quot;350.83&quot; y2=&quot;2338.33&quot; style=&quot;stroke:#000000;stroke-width:5.76&quot;/&gt;\n",
       "\t&lt;text x=&quot;300.72&quot; y=&quot;2338.33&quot; style=&quot;font-family:&#x27;Helvetica&#x27;;font-size:99.99px;fill:#000000&quot; transform=&quot;rotate(-90 300.72,2338.33)&quot; text-anchor=&quot;middle&quot;&gt;-.1&lt;/text&gt;\n",
       "\t&lt;line x1=&quot;390.80&quot; y1=&quot;1935.63&quot; x2=&quot;350.83&quot; y2=&quot;1935.63&quot; style=&quot;stroke:#000000;stroke-width:5.76&quot;/&gt;\n",
       "\t&lt;text x=&quot;300.72&quot; y=&quot;1935.63&quot; style=&quot;font-family:&#x27;Helvetica&#x27;;font-size:99.99px;fill:#000000&quot; transform=&quot;rotate(-90 300.72,1935.63)&quot; text-anchor=&quot;middle&quot;&gt;-.05&lt;/text&gt;\n",
       "\t&lt;line x1=&quot;390.80&quot; y1=&quot;1532.94&quot; x2=&quot;350.83&quot; y2=&quot;1532.94&quot; style=&quot;stroke:#000000;stroke-width:5.76&quot;/&gt;\n",
       "\t&lt;text x=&quot;300.72&quot; y=&quot;1532.94&quot; style=&quot;font-family:&#x27;Helvetica&#x27;;font-size:99.99px;fill:#000000&quot; transform=&quot;rotate(-90 300.72,1532.94)&quot; text-anchor=&quot;middle&quot;&gt;0&lt;/text&gt;\n",
       "\t&lt;line x1=&quot;390.80&quot; y1=&quot;1130.12&quot; x2=&quot;350.83&quot; y2=&quot;1130.12&quot; style=&quot;stroke:#000000;stroke-width:5.76&quot;/&gt;\n",
       "\t&lt;text x=&quot;300.72&quot; y=&quot;1130.12&quot; style=&quot;font-family:&#x27;Helvetica&#x27;;font-size:99.99px;fill:#000000&quot; transform=&quot;rotate(-90 300.72,1130.12)&quot; text-anchor=&quot;middle&quot;&gt;.05&lt;/text&gt;\n",
       "\t&lt;line x1=&quot;390.80&quot; y1=&quot;727.43&quot; x2=&quot;350.83&quot; y2=&quot;727.43&quot; style=&quot;stroke:#000000;stroke-width:5.76&quot;/&gt;\n",
       "\t&lt;text x=&quot;300.72&quot; y=&quot;727.43&quot; style=&quot;font-family:&#x27;Helvetica&#x27;;font-size:99.99px;fill:#000000&quot; transform=&quot;rotate(-90 300.72,727.43)&quot; text-anchor=&quot;middle&quot;&gt;.1&lt;/text&gt;\n",
       "\t&lt;line x1=&quot;390.80&quot; y1=&quot;324.73&quot; x2=&quot;350.83&quot; y2=&quot;324.73&quot; style=&quot;stroke:#000000;stroke-width:5.76&quot;/&gt;\n",
       "\t&lt;text x=&quot;300.72&quot; y=&quot;324.73&quot; style=&quot;font-family:&#x27;Helvetica&#x27;;font-size:99.99px;fill:#000000&quot; transform=&quot;rotate(-90 300.72,324.73)&quot; text-anchor=&quot;middle&quot;&gt;.15&lt;/text&gt;\n",
       "\t&lt;text x=&quot;190.71&quot; y=&quot;1375.28&quot; style=&quot;font-family:&#x27;Helvetica&#x27;;font-size:99.99px;fill:#000000&quot; transform=&quot;rotate(-90 190.71,1375.28)&quot; text-anchor=&quot;middle&quot;&gt;Effects on Probability&lt;/text&gt;\n",
       "\t&lt;line x1=&quot;390.80&quot; y1=&quot;2489.19&quot; x2=&quot;3859.02&quot; y2=&quot;2489.19&quot; style=&quot;stroke:#000000;stroke-width:5.76&quot;/&gt;\n",
       "\t&lt;line x1=&quot;454.16&quot; y1=&quot;2489.19&quot; x2=&quot;454.16&quot; y2=&quot;2529.16&quot; style=&quot;stroke:#000000;stroke-width:5.76&quot;/&gt;\n",
       "\t&lt;text x=&quot;454.16&quot; y=&quot;2619.14&quot; style=&quot;font-family:&#x27;Helvetica&#x27;;font-size:99.99px;fill:#000000&quot; text-anchor=&quot;middle&quot;&gt;1&lt;/text&gt;\n",
       "\t&lt;line x1=&quot;1289.47&quot; y1=&quot;2489.19&quot; x2=&quot;1289.47&quot; y2=&quot;2529.16&quot; style=&quot;stroke:#000000;stroke-width:5.76&quot;/&gt;\n",
       "\t&lt;text x=&quot;1289.47&quot; y=&quot;2619.14&quot; style=&quot;font-family:&#x27;Helvetica&#x27;;font-size:99.99px;fill:#000000&quot; text-anchor=&quot;middle&quot;&gt;2&lt;/text&gt;\n",
       "\t&lt;line x1=&quot;2124.91&quot; y1=&quot;2489.19&quot; x2=&quot;2124.91&quot; y2=&quot;2529.16&quot; style=&quot;stroke:#000000;stroke-width:5.76&quot;/&gt;\n",
       "\t&lt;text x=&quot;2124.91&quot; y=&quot;2619.14&quot; style=&quot;font-family:&#x27;Helvetica&#x27;;font-size:99.99px;fill:#000000&quot; text-anchor=&quot;middle&quot;&gt;3&lt;/text&gt;\n",
       "\t&lt;line x1=&quot;2960.35&quot; y1=&quot;2489.19&quot; x2=&quot;2960.35&quot; y2=&quot;2529.16&quot; style=&quot;stroke:#000000;stroke-width:5.76&quot;/&gt;\n",
       "\t&lt;text x=&quot;2960.35&quot; y=&quot;2619.14&quot; style=&quot;font-family:&#x27;Helvetica&#x27;;font-size:99.99px;fill:#000000&quot; text-anchor=&quot;middle&quot;&gt;4&lt;/text&gt;\n",
       "\t&lt;line x1=&quot;3795.66&quot; y1=&quot;2489.19&quot; x2=&quot;3795.66&quot; y2=&quot;2529.16&quot; style=&quot;stroke:#000000;stroke-width:5.76&quot;/&gt;\n",
       "\t&lt;text x=&quot;3795.66&quot; y=&quot;2619.14&quot; style=&quot;font-family:&#x27;Helvetica&#x27;;font-size:99.99px;fill:#000000&quot; text-anchor=&quot;middle&quot;&gt;5&lt;/text&gt;\n",
       "\t&lt;text x=&quot;2124.91&quot; y=&quot;2729.16&quot; style=&quot;font-family:&#x27;Helvetica&#x27;;font-size:99.99px;fill:#000000&quot; text-anchor=&quot;middle&quot;&gt;Outcome&lt;/text&gt;\n",
       "\t&lt;text x=&quot;1980.00&quot; y=&quot;206.19&quot; style=&quot;font-family:&#x27;Helvetica&#x27;;font-size:125.98px;fill:#1E2D53&quot; text-anchor=&quot;middle&quot;&gt;Conditional Marginal Effects of a_cons_hill_ride with 95% CIs&lt;/text&gt;\n",
       "&lt;/svg&gt;\n",
       "</body></html>\"></iframe>\n"
      ],
      "text/plain": [
       "This front-end cannot display the desired image type."
      ]
     },
     "metadata": {
      "image/svg+xml": {
       "height": 436,
       "width": 600
      },
      "text/html": {
       "height": 436,
       "width": 600
      }
     },
     "output_type": "display_data"
    },
    {
     "name": "stdout",
     "output_type": "stream",
     "text": [
      "\n",
      "\n"
     ]
    }
   ],
   "source": [
    "marginsplot"
   ]
  },
  {
   "cell_type": "code",
   "execution_count": 197,
   "metadata": {},
   "outputs": [
    {
     "name": "stdout",
     "output_type": "stream",
     "text": [
      "\n",
      "\n",
      "\n",
      "Conditional marginal effects                    Number of obs     =        184\n",
      "Model VCE    : OIM\n",
      "\n",
      "dy/dx w.r.t. : a_cons_hill_ride\n",
      "1._predict   : Pr(a_cons_hac==1), predict(pr outcome(1))\n",
      "2._predict   : Pr(a_cons_hac==2), predict(pr outcome(2))\n",
      "3._predict   : Pr(a_cons_hac==3), predict(pr outcome(3))\n",
      "4._predict   : Pr(a_cons_hac==4), predict(pr outcome(4))\n",
      "5._predict   : Pr(a_cons_hac==5), predict(pr outcome(5))\n",
      "at           : age             =           2\n",
      "               gender          =           1\n",
      "               marriage        =           1\n",
      "               student1        =           0\n",
      "               company_man2    =           0\n",
      "               public_off~3    =           1\n",
      "               profession4     =           0\n",
      "               researcher5     =           0\n",
      "               learn           =           3\n",
      "               income          =           2\n",
      "               avg_distance    =           3\n",
      "               freq_use_ev     =           3\n",
      "               club_kepco2     =           1\n",
      "               club_jeju3      =           0\n",
      "               ev_owner        =           0\n",
      "               saving_free     =           1\n",
      "               a_cons_sho~s    =           4\n",
      "               a_cons_as       =           4\n",
      "               a_cons_cha~e    =           3\n",
      "               a_cons_num~k    =           5\n",
      "               a_cons_lon~e    =           4\n",
      "               a_cons_hil~e    =           3\n",
      "\n",
      "----------------------------------------------------------------------------------\n",
      "                 |            Delta-method\n",
      "                 |      dy/dx   Std. Err.      z    P>|z|     [95% Conf. Interval]\n",
      "-----------------+----------------------------------------------------------------\n",
      "a_cons_hill_ride |\n",
      "        _predict |\n",
      "              1  |  -.0274825   .0142901    -1.92   0.054    -.0554906    .0005257\n",
      "              2  |  -.0580567   .0183123    -3.17   0.002    -.0939482   -.0221652\n",
      "              3  |  -.0824685   .0250552    -3.29   0.001    -.1315758   -.0333612\n",
      "              4  |   .0437925   .0324169     1.35   0.177    -.0197434    .1073285\n",
      "              5  |   .1242152   .0329824     3.77   0.000     .0595709    .1888594\n",
      "----------------------------------------------------------------------------------\n"
     ]
    }
   ],
   "source": [
    "quietly: oprobit a_cons_hac age gender marriage student1 company_man2 public_officer3 profession4 researcher5 learn income avg_distance freq_use_ev club_kepco2 club_jeju3 ev_owner saving_free a_cons_short_dis a_cons_as a_cons_charge_fee a_cons_num_charge_lack a_cons_long_charge_time a_cons_hill_ride, nolog\n",
    "margins, dydx(a_cons_hill_ride) at(age=2  gender=1 marriage=1 student1=0 company_man2=0 public_officer3=1 profession4 =0 researcher5=0 learn=3 income=2 avg_distance=3 freq_use_ev =3  club_kepco2=1  club_jeju3  =0 ev_owner =0  saving_free = 1 a_cons_short=4 a_cons_as = 4 a_cons_charge_fee=3 a_cons_num_charge_lack =5  a_cons_long_charge_time= 4 a_cons_hill_ride =3 )"
   ]
  },
  {
   "cell_type": "code",
   "execution_count": 198,
   "metadata": {},
   "outputs": [
    {
     "name": "stdout",
     "output_type": "stream",
     "text": [
      "\n",
      "  Variables that uniquely identify margins: _outcome\n"
     ]
    },
    {
     "data": {
      "application/pdf": "[encoded data removed]",
      "image/svg+xml": [
       "<?xml version=\"1.0\" encoding=\"UTF-8\" standalone=\"no\"?>\n",
       "<!-- This is a Stata 14.2 generated SVG file (http://www.stata.com) -->\n",
       "\n",
       "<svg version=\"1.1\" width=\"600px\" height=\"436px\" viewBox=\"0 0 3960 2880\" xmlns=\"http://www.w3.org/2000/svg\">\n",
       "\t<desc>Stata Graph - Graph</desc>\n",
       "\t<rect x=\"0.00\" y=\"0.00\" width=\"3959.88\" height=\"2880.00\" style=\"fill:#EAF2F3;stroke:#EAF2F3;stroke-width:5.76\"/>\n",
       "\t<rect x=\"390.80\" y=\"261.37\" width=\"3468.22\" height=\"2227.82\" style=\"fill:#FFFFFF;stroke:#FFFFFF;stroke-width:5.76\"/>\n",
       "\t<line x1=\"390.80\" y1=\"1900.61\" x2=\"3859.02\" y2=\"1900.61\" style=\"stroke:#EAF2F3;stroke-width:8.64\"/>\n",
       "\t<line x1=\"390.80\" y1=\"1375.28\" x2=\"3859.02\" y2=\"1375.28\" style=\"stroke:#EAF2F3;stroke-width:8.64\"/>\n",
       "\t<line x1=\"390.80\" y1=\"849.94\" x2=\"3859.02\" y2=\"849.94\" style=\"stroke:#EAF2F3;stroke-width:8.64\"/>\n",
       "\t<line x1=\"390.80\" y1=\"324.73\" x2=\"3859.02\" y2=\"324.73\" style=\"stroke:#EAF2F3;stroke-width:8.64\"/>\n",
       "\t<line x1=\"454.16\" y1=\"1666.72\" x2=\"454.16\" y2=\"1372.55\" style=\"stroke:#1A476F;stroke-width:8.64\"/>\n",
       "\t<line x1=\"432.13\" y1=\"1372.55\" x2=\"476.19\" y2=\"1372.55\" stroke-linecap=\"round\" style=\"stroke:#1A476F;stroke-width:8.64\"/>\n",
       "\t<line x1=\"432.13\" y1=\"1666.72\" x2=\"476.19\" y2=\"1666.72\" stroke-linecap=\"round\" style=\"stroke:#1A476F;stroke-width:8.64\"/>\n",
       "\t<line x1=\"1289.47\" y1=\"1868.81\" x2=\"1289.47\" y2=\"1491.73\" style=\"stroke:#1A476F;stroke-width:8.64\"/>\n",
       "\t<line x1=\"1267.45\" y1=\"1491.73\" x2=\"1311.50\" y2=\"1491.73\" stroke-linecap=\"round\" style=\"stroke:#1A476F;stroke-width:8.64\"/>\n",
       "\t<line x1=\"1267.45\" y1=\"1868.81\" x2=\"1311.50\" y2=\"1868.81\" stroke-linecap=\"round\" style=\"stroke:#1A476F;stroke-width:8.64\"/>\n",
       "\t<line x1=\"2124.91\" y1=\"2066.44\" x2=\"2124.91\" y2=\"1550.51\" style=\"stroke:#1A476F;stroke-width:8.64\"/>\n",
       "\t<line x1=\"2102.88\" y1=\"1550.51\" x2=\"2146.94\" y2=\"1550.51\" stroke-linecap=\"round\" style=\"stroke:#1A476F;stroke-width:8.64\"/>\n",
       "\t<line x1=\"2102.88\" y1=\"2066.44\" x2=\"2146.94\" y2=\"2066.44\" stroke-linecap=\"round\" style=\"stroke:#1A476F;stroke-width:8.64\"/>\n",
       "\t<line x1=\"2960.35\" y1=\"1478.98\" x2=\"2960.35\" y2=\"811.45\" style=\"stroke:#1A476F;stroke-width:8.64\"/>\n",
       "\t<line x1=\"2938.32\" y1=\"811.45\" x2=\"2982.38\" y2=\"811.45\" stroke-linecap=\"round\" style=\"stroke:#1A476F;stroke-width:8.64\"/>\n",
       "\t<line x1=\"2938.32\" y1=\"1478.98\" x2=\"2982.38\" y2=\"1478.98\" stroke-linecap=\"round\" style=\"stroke:#1A476F;stroke-width:8.64\"/>\n",
       "\t<line x1=\"3795.66\" y1=\"1062.43\" x2=\"3795.66\" y2=\"383.27\" style=\"stroke:#1A476F;stroke-width:8.64\"/>\n",
       "\t<line x1=\"3773.63\" y1=\"383.27\" x2=\"3817.69\" y2=\"383.27\" stroke-linecap=\"round\" style=\"stroke:#1A476F;stroke-width:8.64\"/>\n",
       "\t<line x1=\"3773.63\" y1=\"1062.43\" x2=\"3817.69\" y2=\"1062.43\" stroke-linecap=\"round\" style=\"stroke:#1A476F;stroke-width:8.64\"/>\n",
       "\t<line x1=\"454.04\" y1=\"1519.70\" x2=\"1289.47\" y2=\"1680.33\" stroke-linecap=\"round\" style=\"stroke:#1A476F;stroke-width:8.64\"/>\n",
       "\t<line x1=\"1289.47\" y1=\"1680.33\" x2=\"2124.91\" y2=\"1808.54\" stroke-linecap=\"round\" style=\"stroke:#1A476F;stroke-width:8.64\"/>\n",
       "\t<line x1=\"2124.91\" y1=\"1808.54\" x2=\"2960.22\" y2=\"1145.34\" stroke-linecap=\"round\" style=\"stroke:#1A476F;stroke-width:8.64\"/>\n",
       "\t<line x1=\"2960.22\" y1=\"1145.34\" x2=\"3795.66\" y2=\"722.85\" stroke-linecap=\"round\" style=\"stroke:#1A476F;stroke-width:8.64\"/>\n",
       "\t<circle cx=\"454.04\" cy=\"1519.70\" r=\"22.03\" style=\"fill:#1A476F;stroke:#1A476F;stroke-width:8.64\"/>\n",
       "\t<circle cx=\"1289.47\" cy=\"1680.33\" r=\"22.03\" style=\"fill:#1A476F;stroke:#1A476F;stroke-width:8.64\"/>\n",
       "\t<circle cx=\"2124.91\" cy=\"1808.54\" r=\"22.03\" style=\"fill:#1A476F;stroke:#1A476F;stroke-width:8.64\"/>\n",
       "\t<circle cx=\"2960.22\" cy=\"1145.34\" r=\"22.03\" style=\"fill:#1A476F;stroke:#1A476F;stroke-width:8.64\"/>\n",
       "\t<circle cx=\"3795.66\" cy=\"722.85\" r=\"22.03\" style=\"fill:#1A476F;stroke:#1A476F;stroke-width:8.64\"/>\n",
       "\t<line x1=\"390.80\" y1=\"2489.19\" x2=\"390.80\" y2=\"261.37\" style=\"stroke:#000000;stroke-width:5.76\"/>\n",
       "\t<line x1=\"390.80\" y1=\"2425.82\" x2=\"350.83\" y2=\"2425.82\" style=\"stroke:#000000;stroke-width:5.76\"/>\n",
       "\t<text x=\"300.72\" y=\"2425.82\" style=\"font-family:'Helvetica';font-size:99.99px;fill:#000000\" transform=\"rotate(-90 300.72,2425.82)\" text-anchor=\"middle\">-.2</text>\n",
       "\t<line x1=\"390.80\" y1=\"1900.61\" x2=\"350.83\" y2=\"1900.61\" style=\"stroke:#000000;stroke-width:5.76\"/>\n",
       "\t<text x=\"300.72\" y=\"1900.61\" style=\"font-family:'Helvetica';font-size:99.99px;fill:#000000\" transform=\"rotate(-90 300.72,1900.61)\" text-anchor=\"middle\">-.1</text>\n",
       "\t<line x1=\"390.80\" y1=\"1375.28\" x2=\"350.83\" y2=\"1375.28\" style=\"stroke:#000000;stroke-width:5.76\"/>\n",
       "\t<text x=\"300.72\" y=\"1375.28\" style=\"font-family:'Helvetica';font-size:99.99px;fill:#000000\" transform=\"rotate(-90 300.72,1375.28)\" text-anchor=\"middle\">0</text>\n",
       "\t<line x1=\"390.80\" y1=\"849.94\" x2=\"350.83\" y2=\"849.94\" style=\"stroke:#000000;stroke-width:5.76\"/>\n",
       "\t<text x=\"300.72\" y=\"849.94\" style=\"font-family:'Helvetica';font-size:99.99px;fill:#000000\" transform=\"rotate(-90 300.72,849.94)\" text-anchor=\"middle\">.1</text>\n",
       "\t<line x1=\"390.80\" y1=\"324.73\" x2=\"350.83\" y2=\"324.73\" style=\"stroke:#000000;stroke-width:5.76\"/>\n",
       "\t<text x=\"300.72\" y=\"324.73\" style=\"font-family:'Helvetica';font-size:99.99px;fill:#000000\" transform=\"rotate(-90 300.72,324.73)\" text-anchor=\"middle\">.2</text>\n",
       "\t<text x=\"190.71\" y=\"1375.28\" style=\"font-family:'Helvetica';font-size:99.99px;fill:#000000\" transform=\"rotate(-90 190.71,1375.28)\" text-anchor=\"middle\">Effects on Probability</text>\n",
       "\t<line x1=\"390.80\" y1=\"2489.19\" x2=\"3859.02\" y2=\"2489.19\" style=\"stroke:#000000;stroke-width:5.76\"/>\n",
       "\t<line x1=\"454.16\" y1=\"2489.19\" x2=\"454.16\" y2=\"2529.16\" style=\"stroke:#000000;stroke-width:5.76\"/>\n",
       "\t<text x=\"454.16\" y=\"2619.14\" style=\"font-family:'Helvetica';font-size:99.99px;fill:#000000\" text-anchor=\"middle\">1</text>\n",
       "\t<line x1=\"1289.47\" y1=\"2489.19\" x2=\"1289.47\" y2=\"2529.16\" style=\"stroke:#000000;stroke-width:5.76\"/>\n",
       "\t<text x=\"1289.47\" y=\"2619.14\" style=\"font-family:'Helvetica';font-size:99.99px;fill:#000000\" text-anchor=\"middle\">2</text>\n",
       "\t<line x1=\"2124.91\" y1=\"2489.19\" x2=\"2124.91\" y2=\"2529.16\" style=\"stroke:#000000;stroke-width:5.76\"/>\n",
       "\t<text x=\"2124.91\" y=\"2619.14\" style=\"font-family:'Helvetica';font-size:99.99px;fill:#000000\" text-anchor=\"middle\">3</text>\n",
       "\t<line x1=\"2960.35\" y1=\"2489.19\" x2=\"2960.35\" y2=\"2529.16\" style=\"stroke:#000000;stroke-width:5.76\"/>\n",
       "\t<text x=\"2960.35\" y=\"2619.14\" style=\"font-family:'Helvetica';font-size:99.99px;fill:#000000\" text-anchor=\"middle\">4</text>\n",
       "\t<line x1=\"3795.66\" y1=\"2489.19\" x2=\"3795.66\" y2=\"2529.16\" style=\"stroke:#000000;stroke-width:5.76\"/>\n",
       "\t<text x=\"3795.66\" y=\"2619.14\" style=\"font-family:'Helvetica';font-size:99.99px;fill:#000000\" text-anchor=\"middle\">5</text>\n",
       "\t<text x=\"2124.91\" y=\"2729.16\" style=\"font-family:'Helvetica';font-size:99.99px;fill:#000000\" text-anchor=\"middle\">Outcome</text>\n",
       "\t<text x=\"1980.00\" y=\"206.19\" style=\"font-family:'Helvetica';font-size:125.98px;fill:#1E2D53\" text-anchor=\"middle\">Conditional Marginal Effects of a_cons_hill_ride with 95% CIs</text>\n",
       "</svg>\n"
      ],
      "text/html": [
       "                <iframe frameborder=\"0\" scrolling=\"no\" height=\"436\" width=\"600\"                srcdoc=\"<html><body>&lt;?xml version=&quot;1.0&quot; encoding=&quot;UTF-8&quot; standalone=&quot;no&quot;?&gt;\n",
       "&lt;!-- This is a Stata 14.2 generated SVG file (http://www.stata.com) --&gt;\n",
       "\n",
       "&lt;svg version=&quot;1.1&quot; width=&quot;600px&quot; height=&quot;436px&quot; viewBox=&quot;0 0 3960 2880&quot; xmlns=&quot;http://www.w3.org/2000/svg&quot;&gt;\n",
       "\t&lt;desc&gt;Stata Graph - Graph&lt;/desc&gt;\n",
       "\t&lt;rect x=&quot;0.00&quot; y=&quot;0.00&quot; width=&quot;3959.88&quot; height=&quot;2880.00&quot; style=&quot;fill:#EAF2F3;stroke:#EAF2F3;stroke-width:5.76&quot;/&gt;\n",
       "\t&lt;rect x=&quot;390.80&quot; y=&quot;261.37&quot; width=&quot;3468.22&quot; height=&quot;2227.82&quot; style=&quot;fill:#FFFFFF;stroke:#FFFFFF;stroke-width:5.76&quot;/&gt;\n",
       "\t&lt;line x1=&quot;390.80&quot; y1=&quot;1900.61&quot; x2=&quot;3859.02&quot; y2=&quot;1900.61&quot; style=&quot;stroke:#EAF2F3;stroke-width:8.64&quot;/&gt;\n",
       "\t&lt;line x1=&quot;390.80&quot; y1=&quot;1375.28&quot; x2=&quot;3859.02&quot; y2=&quot;1375.28&quot; style=&quot;stroke:#EAF2F3;stroke-width:8.64&quot;/&gt;\n",
       "\t&lt;line x1=&quot;390.80&quot; y1=&quot;849.94&quot; x2=&quot;3859.02&quot; y2=&quot;849.94&quot; style=&quot;stroke:#EAF2F3;stroke-width:8.64&quot;/&gt;\n",
       "\t&lt;line x1=&quot;390.80&quot; y1=&quot;324.73&quot; x2=&quot;3859.02&quot; y2=&quot;324.73&quot; style=&quot;stroke:#EAF2F3;stroke-width:8.64&quot;/&gt;\n",
       "\t&lt;line x1=&quot;454.16&quot; y1=&quot;1666.72&quot; x2=&quot;454.16&quot; y2=&quot;1372.55&quot; style=&quot;stroke:#1A476F;stroke-width:8.64&quot;/&gt;\n",
       "\t&lt;line x1=&quot;432.13&quot; y1=&quot;1372.55&quot; x2=&quot;476.19&quot; y2=&quot;1372.55&quot; stroke-linecap=&quot;round&quot; style=&quot;stroke:#1A476F;stroke-width:8.64&quot;/&gt;\n",
       "\t&lt;line x1=&quot;432.13&quot; y1=&quot;1666.72&quot; x2=&quot;476.19&quot; y2=&quot;1666.72&quot; stroke-linecap=&quot;round&quot; style=&quot;stroke:#1A476F;stroke-width:8.64&quot;/&gt;\n",
       "\t&lt;line x1=&quot;1289.47&quot; y1=&quot;1868.81&quot; x2=&quot;1289.47&quot; y2=&quot;1491.73&quot; style=&quot;stroke:#1A476F;stroke-width:8.64&quot;/&gt;\n",
       "\t&lt;line x1=&quot;1267.45&quot; y1=&quot;1491.73&quot; x2=&quot;1311.50&quot; y2=&quot;1491.73&quot; stroke-linecap=&quot;round&quot; style=&quot;stroke:#1A476F;stroke-width:8.64&quot;/&gt;\n",
       "\t&lt;line x1=&quot;1267.45&quot; y1=&quot;1868.81&quot; x2=&quot;1311.50&quot; y2=&quot;1868.81&quot; stroke-linecap=&quot;round&quot; style=&quot;stroke:#1A476F;stroke-width:8.64&quot;/&gt;\n",
       "\t&lt;line x1=&quot;2124.91&quot; y1=&quot;2066.44&quot; x2=&quot;2124.91&quot; y2=&quot;1550.51&quot; style=&quot;stroke:#1A476F;stroke-width:8.64&quot;/&gt;\n",
       "\t&lt;line x1=&quot;2102.88&quot; y1=&quot;1550.51&quot; x2=&quot;2146.94&quot; y2=&quot;1550.51&quot; stroke-linecap=&quot;round&quot; style=&quot;stroke:#1A476F;stroke-width:8.64&quot;/&gt;\n",
       "\t&lt;line x1=&quot;2102.88&quot; y1=&quot;2066.44&quot; x2=&quot;2146.94&quot; y2=&quot;2066.44&quot; stroke-linecap=&quot;round&quot; style=&quot;stroke:#1A476F;stroke-width:8.64&quot;/&gt;\n",
       "\t&lt;line x1=&quot;2960.35&quot; y1=&quot;1478.98&quot; x2=&quot;2960.35&quot; y2=&quot;811.45&quot; style=&quot;stroke:#1A476F;stroke-width:8.64&quot;/&gt;\n",
       "\t&lt;line x1=&quot;2938.32&quot; y1=&quot;811.45&quot; x2=&quot;2982.38&quot; y2=&quot;811.45&quot; stroke-linecap=&quot;round&quot; style=&quot;stroke:#1A476F;stroke-width:8.64&quot;/&gt;\n",
       "\t&lt;line x1=&quot;2938.32&quot; y1=&quot;1478.98&quot; x2=&quot;2982.38&quot; y2=&quot;1478.98&quot; stroke-linecap=&quot;round&quot; style=&quot;stroke:#1A476F;stroke-width:8.64&quot;/&gt;\n",
       "\t&lt;line x1=&quot;3795.66&quot; y1=&quot;1062.43&quot; x2=&quot;3795.66&quot; y2=&quot;383.27&quot; style=&quot;stroke:#1A476F;stroke-width:8.64&quot;/&gt;\n",
       "\t&lt;line x1=&quot;3773.63&quot; y1=&quot;383.27&quot; x2=&quot;3817.69&quot; y2=&quot;383.27&quot; stroke-linecap=&quot;round&quot; style=&quot;stroke:#1A476F;stroke-width:8.64&quot;/&gt;\n",
       "\t&lt;line x1=&quot;3773.63&quot; y1=&quot;1062.43&quot; x2=&quot;3817.69&quot; y2=&quot;1062.43&quot; stroke-linecap=&quot;round&quot; style=&quot;stroke:#1A476F;stroke-width:8.64&quot;/&gt;\n",
       "\t&lt;line x1=&quot;454.04&quot; y1=&quot;1519.70&quot; x2=&quot;1289.47&quot; y2=&quot;1680.33&quot; stroke-linecap=&quot;round&quot; style=&quot;stroke:#1A476F;stroke-width:8.64&quot;/&gt;\n",
       "\t&lt;line x1=&quot;1289.47&quot; y1=&quot;1680.33&quot; x2=&quot;2124.91&quot; y2=&quot;1808.54&quot; stroke-linecap=&quot;round&quot; style=&quot;stroke:#1A476F;stroke-width:8.64&quot;/&gt;\n",
       "\t&lt;line x1=&quot;2124.91&quot; y1=&quot;1808.54&quot; x2=&quot;2960.22&quot; y2=&quot;1145.34&quot; stroke-linecap=&quot;round&quot; style=&quot;stroke:#1A476F;stroke-width:8.64&quot;/&gt;\n",
       "\t&lt;line x1=&quot;2960.22&quot; y1=&quot;1145.34&quot; x2=&quot;3795.66&quot; y2=&quot;722.85&quot; stroke-linecap=&quot;round&quot; style=&quot;stroke:#1A476F;stroke-width:8.64&quot;/&gt;\n",
       "\t&lt;circle cx=&quot;454.04&quot; cy=&quot;1519.70&quot; r=&quot;22.03&quot; style=&quot;fill:#1A476F;stroke:#1A476F;stroke-width:8.64&quot;/&gt;\n",
       "\t&lt;circle cx=&quot;1289.47&quot; cy=&quot;1680.33&quot; r=&quot;22.03&quot; style=&quot;fill:#1A476F;stroke:#1A476F;stroke-width:8.64&quot;/&gt;\n",
       "\t&lt;circle cx=&quot;2124.91&quot; cy=&quot;1808.54&quot; r=&quot;22.03&quot; style=&quot;fill:#1A476F;stroke:#1A476F;stroke-width:8.64&quot;/&gt;\n",
       "\t&lt;circle cx=&quot;2960.22&quot; cy=&quot;1145.34&quot; r=&quot;22.03&quot; style=&quot;fill:#1A476F;stroke:#1A476F;stroke-width:8.64&quot;/&gt;\n",
       "\t&lt;circle cx=&quot;3795.66&quot; cy=&quot;722.85&quot; r=&quot;22.03&quot; style=&quot;fill:#1A476F;stroke:#1A476F;stroke-width:8.64&quot;/&gt;\n",
       "\t&lt;line x1=&quot;390.80&quot; y1=&quot;2489.19&quot; x2=&quot;390.80&quot; y2=&quot;261.37&quot; style=&quot;stroke:#000000;stroke-width:5.76&quot;/&gt;\n",
       "\t&lt;line x1=&quot;390.80&quot; y1=&quot;2425.82&quot; x2=&quot;350.83&quot; y2=&quot;2425.82&quot; style=&quot;stroke:#000000;stroke-width:5.76&quot;/&gt;\n",
       "\t&lt;text x=&quot;300.72&quot; y=&quot;2425.82&quot; style=&quot;font-family:&#x27;Helvetica&#x27;;font-size:99.99px;fill:#000000&quot; transform=&quot;rotate(-90 300.72,2425.82)&quot; text-anchor=&quot;middle&quot;&gt;-.2&lt;/text&gt;\n",
       "\t&lt;line x1=&quot;390.80&quot; y1=&quot;1900.61&quot; x2=&quot;350.83&quot; y2=&quot;1900.61&quot; style=&quot;stroke:#000000;stroke-width:5.76&quot;/&gt;\n",
       "\t&lt;text x=&quot;300.72&quot; y=&quot;1900.61&quot; style=&quot;font-family:&#x27;Helvetica&#x27;;font-size:99.99px;fill:#000000&quot; transform=&quot;rotate(-90 300.72,1900.61)&quot; text-anchor=&quot;middle&quot;&gt;-.1&lt;/text&gt;\n",
       "\t&lt;line x1=&quot;390.80&quot; y1=&quot;1375.28&quot; x2=&quot;350.83&quot; y2=&quot;1375.28&quot; style=&quot;stroke:#000000;stroke-width:5.76&quot;/&gt;\n",
       "\t&lt;text x=&quot;300.72&quot; y=&quot;1375.28&quot; style=&quot;font-family:&#x27;Helvetica&#x27;;font-size:99.99px;fill:#000000&quot; transform=&quot;rotate(-90 300.72,1375.28)&quot; text-anchor=&quot;middle&quot;&gt;0&lt;/text&gt;\n",
       "\t&lt;line x1=&quot;390.80&quot; y1=&quot;849.94&quot; x2=&quot;350.83&quot; y2=&quot;849.94&quot; style=&quot;stroke:#000000;stroke-width:5.76&quot;/&gt;\n",
       "\t&lt;text x=&quot;300.72&quot; y=&quot;849.94&quot; style=&quot;font-family:&#x27;Helvetica&#x27;;font-size:99.99px;fill:#000000&quot; transform=&quot;rotate(-90 300.72,849.94)&quot; text-anchor=&quot;middle&quot;&gt;.1&lt;/text&gt;\n",
       "\t&lt;line x1=&quot;390.80&quot; y1=&quot;324.73&quot; x2=&quot;350.83&quot; y2=&quot;324.73&quot; style=&quot;stroke:#000000;stroke-width:5.76&quot;/&gt;\n",
       "\t&lt;text x=&quot;300.72&quot; y=&quot;324.73&quot; style=&quot;font-family:&#x27;Helvetica&#x27;;font-size:99.99px;fill:#000000&quot; transform=&quot;rotate(-90 300.72,324.73)&quot; text-anchor=&quot;middle&quot;&gt;.2&lt;/text&gt;\n",
       "\t&lt;text x=&quot;190.71&quot; y=&quot;1375.28&quot; style=&quot;font-family:&#x27;Helvetica&#x27;;font-size:99.99px;fill:#000000&quot; transform=&quot;rotate(-90 190.71,1375.28)&quot; text-anchor=&quot;middle&quot;&gt;Effects on Probability&lt;/text&gt;\n",
       "\t&lt;line x1=&quot;390.80&quot; y1=&quot;2489.19&quot; x2=&quot;3859.02&quot; y2=&quot;2489.19&quot; style=&quot;stroke:#000000;stroke-width:5.76&quot;/&gt;\n",
       "\t&lt;line x1=&quot;454.16&quot; y1=&quot;2489.19&quot; x2=&quot;454.16&quot; y2=&quot;2529.16&quot; style=&quot;stroke:#000000;stroke-width:5.76&quot;/&gt;\n",
       "\t&lt;text x=&quot;454.16&quot; y=&quot;2619.14&quot; style=&quot;font-family:&#x27;Helvetica&#x27;;font-size:99.99px;fill:#000000&quot; text-anchor=&quot;middle&quot;&gt;1&lt;/text&gt;\n",
       "\t&lt;line x1=&quot;1289.47&quot; y1=&quot;2489.19&quot; x2=&quot;1289.47&quot; y2=&quot;2529.16&quot; style=&quot;stroke:#000000;stroke-width:5.76&quot;/&gt;\n",
       "\t&lt;text x=&quot;1289.47&quot; y=&quot;2619.14&quot; style=&quot;font-family:&#x27;Helvetica&#x27;;font-size:99.99px;fill:#000000&quot; text-anchor=&quot;middle&quot;&gt;2&lt;/text&gt;\n",
       "\t&lt;line x1=&quot;2124.91&quot; y1=&quot;2489.19&quot; x2=&quot;2124.91&quot; y2=&quot;2529.16&quot; style=&quot;stroke:#000000;stroke-width:5.76&quot;/&gt;\n",
       "\t&lt;text x=&quot;2124.91&quot; y=&quot;2619.14&quot; style=&quot;font-family:&#x27;Helvetica&#x27;;font-size:99.99px;fill:#000000&quot; text-anchor=&quot;middle&quot;&gt;3&lt;/text&gt;\n",
       "\t&lt;line x1=&quot;2960.35&quot; y1=&quot;2489.19&quot; x2=&quot;2960.35&quot; y2=&quot;2529.16&quot; style=&quot;stroke:#000000;stroke-width:5.76&quot;/&gt;\n",
       "\t&lt;text x=&quot;2960.35&quot; y=&quot;2619.14&quot; style=&quot;font-family:&#x27;Helvetica&#x27;;font-size:99.99px;fill:#000000&quot; text-anchor=&quot;middle&quot;&gt;4&lt;/text&gt;\n",
       "\t&lt;line x1=&quot;3795.66&quot; y1=&quot;2489.19&quot; x2=&quot;3795.66&quot; y2=&quot;2529.16&quot; style=&quot;stroke:#000000;stroke-width:5.76&quot;/&gt;\n",
       "\t&lt;text x=&quot;3795.66&quot; y=&quot;2619.14&quot; style=&quot;font-family:&#x27;Helvetica&#x27;;font-size:99.99px;fill:#000000&quot; text-anchor=&quot;middle&quot;&gt;5&lt;/text&gt;\n",
       "\t&lt;text x=&quot;2124.91&quot; y=&quot;2729.16&quot; style=&quot;font-family:&#x27;Helvetica&#x27;;font-size:99.99px;fill:#000000&quot; text-anchor=&quot;middle&quot;&gt;Outcome&lt;/text&gt;\n",
       "\t&lt;text x=&quot;1980.00&quot; y=&quot;206.19&quot; style=&quot;font-family:&#x27;Helvetica&#x27;;font-size:125.98px;fill:#1E2D53&quot; text-anchor=&quot;middle&quot;&gt;Conditional Marginal Effects of a_cons_hill_ride with 95% CIs&lt;/text&gt;\n",
       "&lt;/svg&gt;\n",
       "</body></html>\"></iframe>\n"
      ],
      "text/plain": [
       "This front-end cannot display the desired image type."
      ]
     },
     "metadata": {
      "image/svg+xml": {
       "height": 436,
       "width": 600
      },
      "text/html": {
       "height": 436,
       "width": 600
      }
     },
     "output_type": "display_data"
    },
    {
     "name": "stdout",
     "output_type": "stream",
     "text": [
      "\n",
      "\n"
     ]
    }
   ],
   "source": [
    "marginsplot"
   ]
  },
  {
   "cell_type": "markdown",
   "metadata": {},
   "source": [
    "---\n",
    "### Overall\n",
    "---"
   ]
  },
  {
   "cell_type": "code",
   "execution_count": 68,
   "metadata": {},
   "outputs": [
    {
     "name": "stdout",
     "output_type": "stream",
     "text": [
      "\n",
      "--------------------------------------------------------------------------------------------------------------------------------------\n",
      "    Variable |    base_o        model1o        model2o        model3o        model4o        model5o        model6o       model7oall   \n",
      "-------------+------------------------------------------------------------------------------------------------------------------------\n",
      "#1           |\n",
      "         age |     0.019          0.048          0.022          0.002          0.045         -0.027         -0.066         -0.066     \n",
      "      gender |     0.225          0.152          0.340          0.246          0.174          0.243          0.307          0.293     \n",
      "    marriage |    -0.005         -0.036         -0.028         -0.058          0.006          0.050         -0.086         -0.098     \n",
      "    student1 |    -1.088**       -0.982*        -1.149**       -1.256**       -1.194**       -1.072**       -0.932*        -0.988*    \n",
      "company_man2 |    -0.179         -0.209         -0.242         -0.342         -0.298         -0.311          0.287          0.065     \n",
      "public_off~3 |    -0.055         -0.164          0.028         -0.130         -0.136         -0.036          0.072          0.005     \n",
      " profession4 |    -0.759         -0.708         -0.529         -0.749         -0.681         -0.474         -0.629         -0.354     \n",
      " researcher5 |     0.030         -0.108         -0.138         -0.193         -0.158          0.103         -0.050         -0.273     \n",
      "       learn |     0.123          0.030          0.021          0.135          0.174          0.099          0.209          0.035     \n",
      "      income |    -0.030         -0.042         -0.045         -0.053         -0.039         -0.053         -0.017         -0.049     \n",
      "avg_distance |    -0.039         -0.077         -0.059          0.003         -0.039         -0.032          0.056          0.009     \n",
      " freq_use_ev |     0.057          0.101          0.074          0.019          0.072          0.084          0.038          0.093     \n",
      " club_kepco2 |    -0.351*        -0.377*        -0.293         -0.298         -0.354*        -0.362*        -0.239         -0.230     \n",
      "  club_jeju3 |     0.732*         0.357          0.271          0.619          0.629          0.426          0.712*        -0.043     \n",
      "    ev_owner |    -0.219         -0.334         -0.323         -0.338         -0.228         -0.358         -0.163         -0.478     \n",
      " saving_free |    -0.646**       -0.669**       -0.612**       -0.589**       -0.687**       -0.720**       -0.487*        -0.536*    \n",
      "a_cons_sho~s |                    0.342***                                                                                  0.308***  \n",
      "   a_cons_as |                                   0.335***                                                                   0.194**   \n",
      "a_cons_cha~e |                                                  0.251***                                                    0.080     \n",
      "a_cons_num~k |                                                                 0.228***                                    -0.000     \n",
      "a_cons_lon~e |                                                                                0.328***                      0.156     \n",
      "a_cons_hil~e |                                                                                               0.498***       0.430***  \n",
      "-------------+------------------------------------------------------------------------------------------------------------------------\n",
      "cut1         |\n",
      "       _cons |    -1.448         -0.745         -0.691         -0.860         -0.433         -0.380          0.436          1.856*    \n",
      "-------------+------------------------------------------------------------------------------------------------------------------------\n",
      "cut2         |\n",
      "       _cons |    -0.884         -0.160         -0.082         -0.278          0.145          0.213          1.113          2.590**   \n",
      "-------------+------------------------------------------------------------------------------------------------------------------------\n",
      "cut3         |\n",
      "       _cons |    -0.101          0.666          0.754          0.530          0.939          1.018          2.008**        3.569***  \n",
      "-------------+------------------------------------------------------------------------------------------------------------------------\n",
      "cut4         |\n",
      "       _cons |     0.730          1.562*         1.617*         1.386          1.789*         1.884*         2.913***       4.572***  \n",
      "-------------+------------------------------------------------------------------------------------------------------------------------\n",
      "Statistics   |                                                                                                                        \n",
      "          ll |  -273.555       -264.137       -264.243       -268.329       -269.868       -266.358       -252.672       -237.697     \n",
      "--------------------------------------------------------------------------------------------------------------------------------------\n",
      "                                                                                                   legend: * p<.1; ** p<.05; *** p<.01\n"
     ]
    }
   ],
   "source": [
    "estimates table base_o model1o  model2o model3o model4o  model5o model6o model7oall, b(%9.3f) star(0.01, 0.05, 0.1) eq(1) stats(ll)"
   ]
  },
  {
   "cell_type": "code",
   "execution_count": 70,
   "metadata": {},
   "outputs": [
    {
     "name": "stdout",
     "output_type": "stream",
     "text": [
      "\n",
      "----------------------------------------------------------------------------------------------------------------------\n",
      "    Variable |   base_o      model1o      model2o      model3o      model4o      model5o      model6o     model7oall  \n",
      "-------------+--------------------------------------------------------------------------------------------------------\n",
      "#1           |\n",
      "         age |  .01931584    .04762013      .021909    .00238964    .04489453    -.0268341   -.06591898   -.06630475  \n",
      "      gender |  .22524268    .15162658    .33988202    .24593281    .17416492    .24319121    .30722824    .29254068  \n",
      "    marriage | -.00518517    -.0357915   -.02821881    -.0584164    .00594536    .04982013   -.08608036    -.0980792  \n",
      "    student1 | -1.0876077   -.98236959   -1.1491046   -1.2561791    -1.193501    -1.072238   -.93151594   -.98771761  \n",
      "company_man2 | -.17925718   -.20916816   -.24157777   -.34164718   -.29820344   -.31083913    .28741291    .06473394  \n",
      "public_off~3 | -.05519985   -.16362293    .02808528   -.13017316   -.13556671   -.03615563    .07210759    .00455559  \n",
      " profession4 | -.75915684   -.70842602   -.52912746   -.74906254   -.68051473   -.47385054   -.62922454   -.35402479  \n",
      " researcher5 |  .03031939   -.10759937   -.13802421   -.19281267   -.15802337    .10321843   -.05014364   -.27315223  \n",
      "       learn |  .12322839    .03007768    .02087821    .13484143    .17444937    .09910772    .20871237    .03464914  \n",
      "      income | -.03046471   -.04232575   -.04501419   -.05281998   -.03936051    -.0534327   -.01695262   -.04857266  \n",
      "avg_distance | -.03887482   -.07696537   -.05903678    .00290349   -.03941547   -.03234428    .05624621    .00890972  \n",
      " freq_use_ev |  .05695547    .10139264    .07446404    .01899047    .07209738     .0840561    .03810844    .09277928  \n",
      " club_kepco2 | -.35066103   -.37699331   -.29345693   -.29784633   -.35399262   -.36226834   -.23881715    -.2301891  \n",
      "  club_jeju3 |  .73249362    .35704843    .27076168    .61913558    .62893666    .42551463    .71213089   -.04281702  \n",
      "    ev_owner | -.21926494   -.33391941   -.32256965   -.33813331   -.22821239   -.35790231   -.16254016   -.47817443  \n",
      " saving_free |  -.6457005   -.66942442   -.61248779   -.58932363     -.687157   -.72048546    -.4865719    -.5358841  \n",
      "a_cons_sho~s |               .34245675                                                                     .30757732  \n",
      "   a_cons_as |                            .33536547                                                        .19394017  \n",
      "a_cons_cha~e |                                         .25107935                                           .07990801  \n",
      "a_cons_num~k |                                                      .22792597                             -.00042259  \n",
      "a_cons_lon~e |                                                                   .32827659                 .15612519  \n",
      "a_cons_hil~e |                                                                                .49846041    .42965459  \n",
      "-------------+--------------------------------------------------------------------------------------------------------\n",
      "cut1         |\n",
      "       _cons | -1.4476137   -.74511417   -.69101794   -.86047163   -.43276049   -.37965148    .43572436    1.8559778  \n",
      "-------------+--------------------------------------------------------------------------------------------------------\n",
      "cut2         |\n",
      "       _cons | -.88351139   -.16016089   -.08189691   -.27765485     .1445232    .21289663    1.1127471    2.5903082  \n",
      "-------------+--------------------------------------------------------------------------------------------------------\n",
      "cut3         |\n",
      "       _cons | -.10098429    .66649034    .75403157    .52972609    .93948554    1.0181472    2.0084716    3.5691829  \n",
      "-------------+--------------------------------------------------------------------------------------------------------\n",
      "cut4         |\n",
      "       _cons |  .73020895    1.5616102     1.617034     1.385753    1.7887609    1.8837738    2.9134369    4.5718796  \n",
      "-------------+--------------------------------------------------------------------------------------------------------\n",
      "Statistics   |                                                                                                        \n",
      "          ll |  -273.5551   -264.13723   -264.24296   -268.32914     -269.868   -266.35774    -252.6716   -237.69745  \n",
      "----------------------------------------------------------------------------------------------------------------------\n"
     ]
    }
   ],
   "source": [
    "estimates table base_o model1o model2o model3o  model4o  model5o model6o model7oall ,  eq(1) stats(ll)"
   ]
  },
  {
   "cell_type": "markdown",
   "metadata": {},
   "source": [
    "---\n",
    "# <font color = blue>  8. Order probit with gap concern \n",
    "---"
   ]
  },
  {
   "cell_type": "code",
   "execution_count": 209,
   "metadata": {},
   "outputs": [
    {
     "name": "stdout",
     "output_type": "stream",
     "text": [
      "\n",
      "\n",
      "Ordered probit regression                       Number of obs     =        184\n",
      "                                                LR chi2(16)       =      17.05\n",
      "                                                Prob > chi2       =     0.3821\n",
      "Log likelihood = -281.98369                     Pseudo R2         =     0.0294\n",
      "\n",
      "---------------------------------------------------------------------------------\n",
      "     g_cons_hac |      Coef.   Std. Err.      z    P>|z|     [95% Conf. Interval]\n",
      "----------------+----------------------------------------------------------------\n",
      "            age |   .0437017    .132008     0.33   0.741    -.2150292    .3024326\n",
      "         gender |   .1803827    .240235     0.75   0.453    -.2904692    .6512346\n",
      "       marriage |   .1937332   .2120611     0.91   0.361    -.2218989    .6093654\n",
      "       student1 |  -.0772974   .4839806    -0.16   0.873    -1.025882    .8712871\n",
      "   company_man2 |   -.100128   .5580366    -0.18   0.858     -1.19386    .9936037\n",
      "public_officer3 |   .0834866   .3421922     0.24   0.807    -.5871977    .7541709\n",
      "    profession4 |   .1637346   .4621727     0.35   0.723    -.7421072    1.069576\n",
      "    researcher5 |   .5894388   .4101415     1.44   0.151    -.2144237    1.393301\n",
      "          learn |   .0504236   .1837495     0.27   0.784    -.3097188     .410566\n",
      "         income |   .0305814   .0685303     0.45   0.655    -.1037355    .1648982\n",
      "   avg_distance |  -.0176234   .0603705    -0.29   0.770    -.1359474    .1007005\n",
      "    freq_use_ev |    .072824   .0785466     0.93   0.354    -.0811245    .2267726\n",
      "    club_kepco2 |  -.2332887   .2060179    -1.13   0.257    -.6370763     .170499\n",
      "     club_jeju3 |    .144908   .3830321     0.38   0.705    -.6058211    .8956371\n",
      "       ev_owner |  -.0121167   .2766422    -0.04   0.965    -.5543256    .5300921\n",
      "    saving_free |  -.4379502   .2743795    -1.60   0.110     -.975724    .0998237\n",
      "----------------+----------------------------------------------------------------\n",
      "          /cut1 |  -1.866047   .9235925                     -3.676255   -.0558394\n",
      "          /cut2 |  -1.472945   .9040714                     -3.244892    .2990026\n",
      "          /cut3 |  -.8162868   .8961634                     -2.572735    .9401611\n",
      "          /cut4 |   .0778201   .8949047                     -1.676161    1.831801\n",
      "          /cut5 |   1.258773   .8968726                     -.4990647    3.016611\n",
      "          /cut6 |   1.816217   .9026751                      .0470068    3.585428\n",
      "          /cut7 |   2.817406   .9425872                      .9699686    4.664842\n",
      "          /cut8 |   3.090539   .9771429                      1.175374    5.005704\n",
      "---------------------------------------------------------------------------------\n",
      "\n"
     ]
    }
   ],
   "source": [
    "oprobit g_cons_hac age gender marriage student1 company_man2 public_officer3 profession4 researcher5 learn income avg_distance freq_use_ev club_kepco2 club_jeju3 ev_owner saving_free, nolog \n",
    "estimates store base_og"
   ]
  },
  {
   "cell_type": "code",
   "execution_count": 208,
   "metadata": {},
   "outputs": [
    {
     "name": "stdout",
     "output_type": "stream",
     "text": [
      "\n",
      "\n",
      "Ordered probit regression                       Number of obs     =        184\n",
      "                                                LR chi2(17)       =      28.67\n",
      "                                                Prob > chi2       =     0.0377\n",
      "Log likelihood = -276.17612                     Pseudo R2         =     0.0493\n",
      "\n",
      "----------------------------------------------------------------------------------\n",
      "      g_cons_hac |      Coef.   Std. Err.      z    P>|z|     [95% Conf. Interval]\n",
      "-----------------+----------------------------------------------------------------\n",
      "             age |   .0233628   .1325138     0.18   0.860    -.2363595    .2830851\n",
      "          gender |   .1614849   .2409547     0.67   0.503    -.3107776    .6337474\n",
      "        marriage |   .1755992   .2126573     0.83   0.409    -.2412015    .5923998\n",
      "        student1 |  -.0369137   .4858007    -0.08   0.939    -.9890657    .9152382\n",
      "    company_man2 |  -.1510718   .5591581    -0.27   0.787    -1.247001    .9448579\n",
      " public_officer3 |    .071331   .3434972     0.21   0.835    -.6019111    .7445731\n",
      "     profession4 |   .2224443   .4640421     0.48   0.632    -.6870614     1.13195\n",
      "     researcher5 |   .6023998   .4116524     1.46   0.143    -.2044241    1.409224\n",
      "           learn |   .0370491   .1844005     0.20   0.841    -.3243692    .3984674\n",
      "          income |    .020359   .0688044     0.30   0.767    -.1144951    .1552131\n",
      "    avg_distance |  -.0271392   .0606189    -0.45   0.654    -.1459501    .0916717\n",
      "     freq_use_ev |   .0712947   .0787715     0.91   0.365    -.0830947    .2256841\n",
      "     club_kepco2 |   -.212024   .2066766    -1.03   0.305    -.6171027    .1930548\n",
      "      club_jeju3 |   .1124953   .3843679     0.29   0.770    -.6408519    .8658426\n",
      "        ev_owner |  -.0965494   .2784743    -0.35   0.729     -.642349    .4492503\n",
      "     saving_free |  -.3076673   .2777938    -1.11   0.268    -.8521331    .2367984\n",
      "g_cons_short_dis |   .2574198   .0757376     3.40   0.001     .1089768    .4058628\n",
      "-----------------+----------------------------------------------------------------\n",
      "           /cut1 |  -2.084285   .9322803                     -3.911521   -.2570493\n",
      "           /cut2 |  -1.658324   .9089619                     -3.439856    .1232087\n",
      "           /cut3 |  -.9713628   .8998753                     -2.735086    .7923604\n",
      "           /cut4 |  -.0484751   .8986197                     -1.809737    1.712787\n",
      "           /cut5 |    1.17038   .9000479                     -.5936813    2.934442\n",
      "           /cut6 |   1.743549   .9058353                     -.0318554    3.518954\n",
      "           /cut7 |   2.794846   .9501896                       .932509    4.657184\n",
      "           /cut8 |    3.08362   .9867095                      1.149705    5.017535\n",
      "----------------------------------------------------------------------------------\n",
      "\n"
     ]
    }
   ],
   "source": [
    "oprobit g_cons_hac age gender marriage student1 company_man2 public_officer3 profession4 researcher5 learn income avg_distance freq_use_ev club_kepco2 club_jeju3 ev_owner saving_free g_cons_short_dis, nolog\n",
    "estimates store model1og"
   ]
  },
  {
   "cell_type": "code",
   "execution_count": 207,
   "metadata": {},
   "outputs": [
    {
     "name": "stdout",
     "output_type": "stream",
     "text": [
      "\n",
      "\n",
      "Ordered probit regression                       Number of obs     =        184\n",
      "                                                LR chi2(17)       =      26.52\n",
      "                                                Prob > chi2       =     0.0655\n",
      "Log likelihood = -277.25023                     Pseudo R2         =     0.0456\n",
      "\n",
      "---------------------------------------------------------------------------------\n",
      "     g_cons_hac |      Coef.   Std. Err.      z    P>|z|     [95% Conf. Interval]\n",
      "----------------+----------------------------------------------------------------\n",
      "            age |   .0256869    .132397     0.19   0.846    -.2338065    .2851803\n",
      "         gender |   .2257452   .2412034     0.94   0.349    -.2470048    .6984952\n",
      "       marriage |   .1712495   .2125184     0.81   0.420    -.2452789    .5877778\n",
      "       student1 |   .0177373   .4858183     0.04   0.971    -.9344491    .9699236\n",
      "   company_man2 |  -.0739677     .55826    -0.13   0.895    -1.168137    1.020202\n",
      "public_officer3 |   .1639354   .3437483     0.48   0.633    -.5097988    .8376696\n",
      "    profession4 |   .2713891   .4644199     0.58   0.559    -.6388571    1.181635\n",
      "    researcher5 |   .5427502    .411376     1.32   0.187    -.2635318    1.349032\n",
      "          learn |   .0496974   .1840596     0.27   0.787    -.3110529    .4104477\n",
      "         income |   .0326248    .068707     0.47   0.635    -.1020384     .167288\n",
      "   avg_distance |  -.0170717   .0604729    -0.28   0.778    -.1355965    .1014531\n",
      "    freq_use_ev |   .0532053    .078959     0.67   0.500    -.1015516    .2079622\n",
      "    club_kepco2 |  -.2129535   .2065757    -1.03   0.303    -.6178344    .1919274\n",
      "     club_jeju3 |   .0282576   .3856689     0.07   0.942    -.7276395    .7841547\n",
      "       ev_owner |  -.0827272   .2780833    -0.30   0.766    -.6277605    .4623061\n",
      "    saving_free |  -.3993569   .2753477    -1.45   0.147    -.9390285    .1403147\n",
      "      g_cons_as |   .2231996   .0727058     3.07   0.002     .0806989    .3657003\n",
      "----------------+----------------------------------------------------------------\n",
      "          /cut1 |   -1.99959   .9277135                     -3.817876   -.1813054\n",
      "          /cut2 |  -1.592593   .9074793                      -3.37122    .1860336\n",
      "          /cut3 |  -.8993122   .8981788                      -2.65971    .8610859\n",
      "          /cut4 |   .0162535   .8963437                     -1.740548    1.773055\n",
      "          /cut5 |   1.215031    .898695                     -.5463787    2.976441\n",
      "          /cut6 |   1.788381   .9045115                      .0155712    3.561191\n",
      "          /cut7 |   2.876025   .9512544                        1.0116    4.740449\n",
      "          /cut8 |     3.1971    .997032                      1.242953    5.151247\n",
      "---------------------------------------------------------------------------------\n",
      "\n"
     ]
    }
   ],
   "source": [
    "oprobit g_cons_hac age gender marriage student1 company_man2 public_officer3 profession4 researcher5 learn income avg_distance freq_use_ev club_kepco2 club_jeju3 ev_owner saving_free g_cons_as, nolog\n",
    "estimates store model2og"
   ]
  },
  {
   "cell_type": "code",
   "execution_count": 206,
   "metadata": {},
   "outputs": [
    {
     "name": "stdout",
     "output_type": "stream",
     "text": [
      "\n",
      "\n",
      "Ordered probit regression                       Number of obs     =        184\n",
      "                                                LR chi2(17)       =      17.82\n",
      "                                                Prob > chi2       =     0.4005\n",
      "Log likelihood = -281.60222                     Pseudo R2         =     0.0307\n",
      "\n",
      "-----------------------------------------------------------------------------------\n",
      "       g_cons_hac |      Coef.   Std. Err.      z    P>|z|     [95% Conf. Interval]\n",
      "------------------+----------------------------------------------------------------\n",
      "              age |   .0333336   .1325544     0.25   0.801    -.2264684    .2931355\n",
      "           gender |   .1736156   .2403609     0.72   0.470    -.2974831    .6447143\n",
      "         marriage |   .2028203   .2123262     0.96   0.339    -.2133314     .618972\n",
      "         student1 |  -.1253719   .4872223    -0.26   0.797     -1.08031    .8295663\n",
      "     company_man2 |  -.2059525   .5708089    -0.36   0.718    -1.324717    .9128124\n",
      "  public_officer3 |   .0372885   .3463509     0.11   0.914    -.6415467    .7161238\n",
      "      profession4 |   .1549767   .4623968     0.34   0.738    -.7513043    1.061258\n",
      "      researcher5 |   .5379077   .4144226     1.30   0.194    -.2743458    1.350161\n",
      "            learn |   .0500996   .1837796     0.27   0.785    -.3101017    .4103009\n",
      "           income |   .0268263   .0686755     0.39   0.696    -.1077752    .1614278\n",
      "     avg_distance |  -.0088068   .0612106    -0.14   0.886    -.1287774    .1111638\n",
      "      freq_use_ev |   .0566936   .0806836     0.70   0.482    -.1014433    .2148305\n",
      "      club_kepco2 |  -.2341128   .2060376    -1.14   0.256     -.637939    .1697135\n",
      "       club_jeju3 |   .1359355   .3831781     0.35   0.723    -.6150798    .8869507\n",
      "         ev_owner |  -.0386112   .2783307    -0.14   0.890    -.5841294    .5069071\n",
      "      saving_free |   -.428008   .2746421    -1.56   0.119    -.9662965    .1102806\n",
      "g_cons_charge_fee |   .0697634   .0798793     0.87   0.382     -.086797    .2263239\n",
      "------------------+----------------------------------------------------------------\n",
      "            /cut1 |  -1.999927    .937018                     -3.836449   -.1634056\n",
      "            /cut2 |   -1.60146   .9163329                     -3.397439      .19452\n",
      "            /cut3 |   -.934768   .9065348                     -2.711544    .8420077\n",
      "            /cut4 |  -.0350947   .9043955                     -1.807677    1.737488\n",
      "            /cut5 |   1.144384   .9064321                     -.6321906    2.920958\n",
      "            /cut6 |   1.699999    .912441                     -.0883523    3.488351\n",
      "            /cut7 |   2.702244   .9522185                      .8359305    4.568558\n",
      "            /cut8 |   2.978649   .9865867                      1.044974    4.912323\n",
      "-----------------------------------------------------------------------------------\n",
      "\n"
     ]
    }
   ],
   "source": [
    "oprobit g_cons_hac age gender marriage student1 company_man2 public_officer3 profession4 researcher5 learn income avg_distance freq_use_ev club_kepco2 club_jeju3 ev_owner saving_free g_cons_charge_fee, nolog\n",
    "estimates store model3og"
   ]
  },
  {
   "cell_type": "code",
   "execution_count": 205,
   "metadata": {},
   "outputs": [
    {
     "name": "stdout",
     "output_type": "stream",
     "text": [
      "\n",
      "\n",
      "Ordered probit regression                       Number of obs     =        184\n",
      "                                                LR chi2(17)       =      24.20\n",
      "                                                Prob > chi2       =     0.1140\n",
      "Log likelihood = -278.40832                     Pseudo R2         =     0.0417\n",
      "\n",
      "----------------------------------------------------------------------------------------\n",
      "            g_cons_hac |      Coef.   Std. Err.      z    P>|z|     [95% Conf. Interval]\n",
      "-----------------------+----------------------------------------------------------------\n",
      "                   age |   .0736468   .1326842     0.56   0.579    -.1864095    .3337031\n",
      "                gender |   .0756476   .2437321     0.31   0.756    -.4020585    .5533536\n",
      "              marriage |   .1688294   .2125745     0.79   0.427    -.2478089    .5854678\n",
      "              student1 |  -.1832991   .4866252    -0.38   0.706    -1.137067    .7704688\n",
      "          company_man2 |  -.1784844   .5591134    -0.32   0.750    -1.274326    .9173577\n",
      "       public_officer3 |   .0242818   .3436121     0.07   0.944    -.6491856    .6977492\n",
      "           profession4 |   .2285803   .4636158     0.49   0.622    -.6800901    1.137251\n",
      "           researcher5 |   .4299619   .4151898     1.04   0.300     -.383795    1.243719\n",
      "                 learn |   .1483004   .1877352     0.79   0.430    -.2196537    .5162546\n",
      "                income |    .017699   .0688207     0.26   0.797    -.1171871    .1525852\n",
      "          avg_distance |  -.0093561   .0605556    -0.15   0.877    -.1280429    .1093307\n",
      "           freq_use_ev |   .0740065   .0786922     0.94   0.347    -.0802274    .2282405\n",
      "           club_kepco2 |  -.2661688   .2066897    -1.29   0.198    -.6712732    .1389356\n",
      "            club_jeju3 |  -.0373259   .3896803    -0.10   0.924    -.8010853    .7264336\n",
      "              ev_owner |  -.0701437   .2779341    -0.25   0.801    -.6148846    .4745972\n",
      "           saving_free |  -.4658091    .274932    -1.69   0.090    -1.004666    .0730477\n",
      "g_cons_num_charge_lack |   .2342547   .0877389     2.67   0.008     .0622898    .4062197\n",
      "-----------------------+----------------------------------------------------------------\n",
      "                 /cut1 |  -1.824273   .9280611                     -3.643239   -.0053062\n",
      "                 /cut2 |  -1.406272   .9065616                       -3.1831    .3705561\n",
      "                 /cut3 |  -.7236886   .8983189                     -2.484361    1.036984\n",
      "                 /cut4 |   .1899502   .8976471                     -1.569406    1.949306\n",
      "                 /cut5 |   1.393848   .9001853                     -.3704824    3.158179\n",
      "                 /cut6 |   1.960236   .9062045                      .1841078    3.736364\n",
      "                 /cut7 |   2.964643   .9462947                      1.109939    4.819347\n",
      "                 /cut8 |    3.23909   .9809626                      1.316439    5.161742\n",
      "----------------------------------------------------------------------------------------\n",
      "\n"
     ]
    }
   ],
   "source": [
    "oprobit g_cons_hac age gender marriage student1 company_man2 public_officer3 profession4 researcher5 learn income avg_distance freq_use_ev club_kepco2 club_jeju3 ev_owner saving_free g_cons_num_charge_lack, nolog \n",
    "estimates store model4og"
   ]
  },
  {
   "cell_type": "code",
   "execution_count": 204,
   "metadata": {},
   "outputs": [
    {
     "name": "stdout",
     "output_type": "stream",
     "text": [
      "\n",
      "\n",
      "Ordered probit regression                       Number of obs     =        184\n",
      "                                                LR chi2(17)       =      42.34\n",
      "                                                Prob > chi2       =     0.0006\n",
      "Log likelihood = -269.33913                     Pseudo R2         =     0.0729\n",
      "\n",
      "-----------------------------------------------------------------------------------------\n",
      "             g_cons_hac |      Coef.   Std. Err.      z    P>|z|     [95% Conf. Interval]\n",
      "------------------------+----------------------------------------------------------------\n",
      "                    age |  -.0374585   .1337118    -0.28   0.779    -.2995287    .2246117\n",
      "                 gender |    .208573   .2416326     0.86   0.388    -.2650182    .6821642\n",
      "               marriage |   .2144949   .2131068     1.01   0.314    -.2031868    .6321766\n",
      "               student1 |   .0122879   .4868429     0.03   0.980    -.9419066    .9664824\n",
      "           company_man2 |  -.1930681   .5620472    -0.34   0.731     -1.29466    .9085241\n",
      "        public_officer3 |   .1794815   .3445897     0.52   0.602    -.4959019    .8548649\n",
      "            profession4 |   .4612043    .468745     0.98   0.325    -.4575189    1.379928\n",
      "            researcher5 |   .8143469   .4160088     1.96   0.050    -.0010154    1.629709\n",
      "                  learn |   .1227056   .1854075     0.66   0.508    -.2406864    .4860975\n",
      "                 income |  -.0042678   .0693404    -0.06   0.951    -.1401726     .131637\n",
      "           avg_distance |   .0015685   .0608767     0.03   0.979    -.1177477    .1208847\n",
      "            freq_use_ev |   .0740401   .0789754     0.94   0.348    -.0807488    .2288291\n",
      "            club_kepco2 |  -.2663775   .2078455    -1.28   0.200    -.6737473    .1409922\n",
      "             club_jeju3 |  -.0426062   .3875039    -0.11   0.912       -.8021    .7168875\n",
      "               ev_owner |  -.0732953   .2781801    -0.26   0.792    -.6185183    .4719277\n",
      "            saving_free |  -.4968767   .2766002    -1.80   0.072    -1.039003    .0452497\n",
      "g_cons_long_charge_time |   .4131442   .0830917     4.97   0.000     .2502873     .576001\n",
      "------------------------+----------------------------------------------------------------\n",
      "                  /cut1 |  -2.082946   .9399217                     -3.925159   -.2407337\n",
      "                  /cut2 |  -1.604773   .9113448                     -3.390976    .1814299\n",
      "                  /cut3 |  -.8766474   .9013164                     -2.643195    .8899002\n",
      "                  /cut4 |   .0611246   .9003939                     -1.703615    1.825864\n",
      "                  /cut5 |   1.295377   .9025443                     -.4735778    3.064331\n",
      "                  /cut6 |   1.902696   .9093115                      .1204785    3.684914\n",
      "                  /cut7 |   3.165179   .9775288                      1.249258      5.0811\n",
      "                  /cut8 |   3.640006    1.06342                      1.555741     5.72427\n",
      "-----------------------------------------------------------------------------------------\n",
      "\n"
     ]
    }
   ],
   "source": [
    "oprobit g_cons_hac age gender marriage student1 company_man2 public_officer3 profession4 researcher5 learn income avg_distance freq_use_ev club_kepco2 club_jeju3 ev_owner saving_free g_cons_long_charge_time, nolog\n",
    "estimates store model5og"
   ]
  },
  {
   "cell_type": "code",
   "execution_count": 203,
   "metadata": {},
   "outputs": [
    {
     "name": "stdout",
     "output_type": "stream",
     "text": [
      "\n",
      "\n",
      "Ordered probit regression                       Number of obs     =        184\n",
      "                                                LR chi2(17)       =      80.45\n",
      "                                                Prob > chi2       =     0.0000\n",
      "Log likelihood = -250.28379                     Pseudo R2         =     0.1385\n",
      "\n",
      "----------------------------------------------------------------------------------\n",
      "      g_cons_hac |      Coef.   Std. Err.      z    P>|z|     [95% Conf. Interval]\n",
      "-----------------+----------------------------------------------------------------\n",
      "             age |   -.166436   .1370399    -1.21   0.225    -.4350293    .1021572\n",
      "          gender |   .3406769   .2452827     1.39   0.165    -.1400684    .8214221\n",
      "        marriage |   .0972822   .2155191     0.45   0.652    -.3251276    .5196919\n",
      "        student1 |   .0529926   .4929275     0.11   0.914    -.9131275    1.019113\n",
      "    company_man2 |   -.240538   .5709077    -0.42   0.674    -1.359497    .8784205\n",
      " public_officer3 |   .1349414   .3486273     0.39   0.699    -.5483556    .8182384\n",
      "     profession4 |   .5002086   .4724451     1.06   0.290    -.4257667    1.426184\n",
      "     researcher5 |   .4345636   .4188441     1.04   0.299    -.3863557    1.255483\n",
      "           learn |    .082209   .1868206     0.44   0.660    -.2839527    .4483706\n",
      "          income |   .0516119   .0699132     0.74   0.460    -.0854155    .1886393\n",
      "    avg_distance |   .0234862   .0616217     0.38   0.703    -.0972902    .1442626\n",
      "     freq_use_ev |   .0588335   .0798214     0.74   0.461    -.0976135    .2152805\n",
      "     club_kepco2 |   -.286561   .2101222    -1.36   0.173    -.6983929     .125271\n",
      "      club_jeju3 |   .0187442   .3897556     0.05   0.962    -.7451627    .7826511\n",
      "        ev_owner |   .0573311   .2807418     0.20   0.838    -.4929127     .607575\n",
      "     saving_free |  -.3182444   .2796073    -1.14   0.255    -.8662647    .2297758\n",
      "g_cons_hill_ride |   .6008113   .0777293     7.73   0.000     .4484646     .753158\n",
      "-----------------+----------------------------------------------------------------\n",
      "           /cut1 |  -2.791703   .9668423                     -4.686679   -.8967266\n",
      "           /cut2 |   -2.21897   .9288826                     -4.039546   -.3983931\n",
      "           /cut3 |  -1.347329   .9131543                     -3.137078    .4424207\n",
      "           /cut4 |  -.2735129   .9114245                     -2.059872    1.512846\n",
      "           /cut5 |   1.066547   .9111876                     -.7193478    2.852442\n",
      "           /cut6 |   1.716376   .9184334                     -.0837206    3.516472\n",
      "           /cut7 |   3.214385   1.006257                      1.242158    5.186612\n",
      "           /cut8 |   3.782101    1.10957                      1.607385    5.956818\n",
      "----------------------------------------------------------------------------------\n",
      "\n"
     ]
    }
   ],
   "source": [
    "oprobit g_cons_hac age gender marriage student1 company_man2 public_officer3 profession4 researcher5 learn income avg_distance freq_use_ev club_kepco2 club_jeju3 ev_owner saving_free g_cons_hill_ride, nolog\n",
    "estimates store model6og"
   ]
  },
  {
   "cell_type": "code",
   "execution_count": 79,
   "metadata": {},
   "outputs": [
    {
     "name": "stdout",
     "output_type": "stream",
     "text": [
      "\n",
      "\n",
      "Iteration 0:   log likelihood = -290.51059  \n",
      "Iteration 1:   log likelihood = -244.98002  \n",
      "Iteration 2:   log likelihood = -244.27779  \n",
      "Iteration 3:   log likelihood = -244.26825  \n",
      "Iteration 4:   log likelihood = -244.26824  \n",
      "\n",
      "Ordered probit regression                       Number of obs     =        184\n",
      "                                                LR chi2(22)       =      92.48\n",
      "                                                Prob > chi2       =     0.0000\n",
      "Log likelihood = -244.26824                     Pseudo R2         =     0.1592\n",
      "\n",
      "-----------------------------------------------------------------------------------------\n",
      "             g_cons_hac |      Coef.   Std. Err.      z    P>|z|     [95% Conf. Interval]\n",
      "------------------------+----------------------------------------------------------------\n",
      "                    age |  -.1564773    .139277    -1.12   0.261    -.4294552    .1165007\n",
      "                 gender |     .29795   .2504538     1.19   0.234    -.1929304    .7888304\n",
      "               marriage |   .0770572   .2171424     0.35   0.723    -.3485342    .5026486\n",
      "               student1 |   .1581632   .5022378     0.31   0.753    -.8262048    1.142531\n",
      "           company_man2 |   -.140821   .5852016    -0.24   0.810    -1.287795    1.006153\n",
      "        public_officer3 |   .2436798   .3582616     0.68   0.496    -.4585001    .9458596\n",
      "            profession4 |    .702814   .4798597     1.46   0.143    -.2376937    1.643322\n",
      "            researcher5 |   .5595411   .4405156     1.27   0.204    -.3038536    1.422936\n",
      "                  learn |   .1515685   .1926182     0.79   0.431    -.2259563    .5290933\n",
      "                 income |   .0331917   .0707362     0.47   0.639    -.1054487    .1718321\n",
      "           avg_distance |   .0128603   .0629483     0.20   0.838    -.1105162    .1362368\n",
      "            freq_use_ev |   .0815134   .0831244     0.98   0.327    -.0814076    .2444343\n",
      "            club_kepco2 |  -.3010651   .2122634    -1.42   0.156    -.7170936    .1149635\n",
      "             club_jeju3 |  -.1835608   .4006507    -0.46   0.647    -.9688218    .6017002\n",
      "               ev_owner |  -.0246126   .2858983    -0.09   0.931    -.5849631    .5357378\n",
      "            saving_free |  -.3190206   .2869317    -1.11   0.266    -.8813964    .2433552\n",
      "       g_cons_short_dis |   .1098097    .087166     1.26   0.208    -.0610326     .280652\n",
      "              g_cons_as |   .0802931   .0770484     1.04   0.297    -.0707189    .2313052\n",
      "      g_cons_charge_fee |  -.1132949   .0895781    -1.26   0.206    -.2888648     .062275\n",
      " g_cons_num_charge_lack |   .1188064    .099693     1.19   0.233    -.0765883    .3142011\n",
      "g_cons_long_charge_time |   .1735837   .1050658     1.65   0.099    -.0323416    .3795089\n",
      "       g_cons_hill_ride |   .5229743   .0850001     6.15   0.000     .3563771    .6895715\n",
      "------------------------+----------------------------------------------------------------\n",
      "                  /cut1 |  -2.694022   .9947483                     -4.643693   -.7443509\n",
      "                  /cut2 |  -2.059139    .950268                      -3.92163   -.1966481\n",
      "                  /cut3 |  -1.151565   .9316378                     -2.977542    .6744113\n",
      "                  /cut4 |  -.0592914   .9296157                     -1.881305    1.762722\n",
      "                  /cut5 |   1.320082   .9313976                     -.5054234    3.145588\n",
      "                  /cut6 |   2.003516   .9407673                      .1596463    3.847386\n",
      "                  /cut7 |   3.658138   1.055081                      1.590218    5.726058\n",
      "                  /cut8 |    4.39446   1.203941                      2.034779    6.754141\n",
      "-----------------------------------------------------------------------------------------\n",
      "\n"
     ]
    }
   ],
   "source": [
    "** order all\n",
    "\n",
    "oprobit g_cons_hac age gender marriage student1 company_man2 public_officer3 profession4 researcher5 learn income avg_distance freq_use_ev club_kepco2 club_jeju3 ev_owner saving_free g_cons_short_dis g_cons_as g_cons_charge_fee g_cons_num_charge_lack g_cons_long_charge_time g_cons_hill_ride\n",
    "estimates store model7oallg"
   ]
  },
  {
   "cell_type": "code",
   "execution_count": 80,
   "metadata": {},
   "outputs": [
    {
     "name": "stdout",
     "output_type": "stream",
     "text": [
      "\n",
      "--------------------------------------------------------------------------------------------------------------------------------------\n",
      "    Variable |   base_og        model1og       model2og       model3og       model4og       model5og       model6og     model7oallg   \n",
      "-------------+------------------------------------------------------------------------------------------------------------------------\n",
      "#1           |\n",
      "         age |     0.044          0.023          0.026          0.033          0.074         -0.037         -0.166         -0.156     \n",
      "      gender |     0.180          0.161          0.226          0.174          0.076          0.209          0.341          0.298     \n",
      "    marriage |     0.194          0.176          0.171          0.203          0.169          0.214          0.097          0.077     \n",
      "    student1 |    -0.077         -0.037          0.018         -0.125         -0.183          0.012          0.053          0.158     \n",
      "company_man2 |    -0.100         -0.151         -0.074         -0.206         -0.178         -0.193         -0.241         -0.141     \n",
      "public_off~3 |     0.083          0.071          0.164          0.037          0.024          0.179          0.135          0.244     \n",
      " profession4 |     0.164          0.222          0.271          0.155          0.229          0.461          0.500          0.703     \n",
      " researcher5 |     0.589          0.602          0.543          0.538          0.430          0.814*         0.435          0.560     \n",
      "       learn |     0.050          0.037          0.050          0.050          0.148          0.123          0.082          0.152     \n",
      "      income |     0.031          0.020          0.033          0.027          0.018         -0.004          0.052          0.033     \n",
      "avg_distance |    -0.018         -0.027         -0.017         -0.009         -0.009          0.002          0.023          0.013     \n",
      " freq_use_ev |     0.073          0.071          0.053          0.057          0.074          0.074          0.059          0.082     \n",
      " club_kepco2 |    -0.233         -0.212         -0.213         -0.234         -0.266         -0.266         -0.287         -0.301     \n",
      "  club_jeju3 |     0.145          0.112          0.028          0.136         -0.037         -0.043          0.019         -0.184     \n",
      "    ev_owner |    -0.012         -0.097         -0.083         -0.039         -0.070         -0.073          0.057         -0.025     \n",
      " saving_free |    -0.438         -0.308         -0.399         -0.428         -0.466*        -0.497*        -0.318         -0.319     \n",
      "g_cons_sho~s |                    0.257***                                                                                  0.110     \n",
      "   g_cons_as |                                   0.223***                                                                   0.080     \n",
      "g_cons_cha~e |                                                  0.070                                                      -0.113     \n",
      "g_cons_num~k |                                                                 0.234***                                     0.119     \n",
      "g_cons_lon~e |                                                                                0.413***                      0.174*    \n",
      "g_cons_hil~e |                                                                                               0.601***       0.523***  \n",
      "-------------+------------------------------------------------------------------------------------------------------------------------\n",
      "cut1         |\n",
      "       _cons |    -1.866**       -2.084**       -2.000**       -2.000**       -1.824**       -2.083**       -2.792***      -2.694***  \n",
      "-------------+------------------------------------------------------------------------------------------------------------------------\n",
      "cut2         |\n",
      "       _cons |    -1.473         -1.658*        -1.593*        -1.601*        -1.406         -1.605*        -2.219**       -2.059**   \n",
      "-------------+------------------------------------------------------------------------------------------------------------------------\n",
      "cut3         |\n",
      "       _cons |    -0.816         -0.971         -0.899         -0.935         -0.724         -0.877         -1.347         -1.152     \n",
      "-------------+------------------------------------------------------------------------------------------------------------------------\n",
      "cut4         |\n",
      "       _cons |     0.078         -0.048          0.016         -0.035          0.190          0.061         -0.274         -0.059     \n",
      "-------------+------------------------------------------------------------------------------------------------------------------------\n",
      "cut5         |\n",
      "       _cons |     1.259          1.170          1.215          1.144          1.394          1.295          1.067          1.320     \n",
      "-------------+------------------------------------------------------------------------------------------------------------------------\n",
      "cut6         |\n",
      "       _cons |     1.816**        1.744*         1.788**        1.700*         1.960**        1.903**        1.716*         2.004**   \n",
      "-------------+------------------------------------------------------------------------------------------------------------------------\n",
      "cut7         |\n",
      "       _cons |     2.817***       2.795***       2.876***       2.702***       2.965***       3.165***       3.214***       3.658***  \n",
      "-------------+------------------------------------------------------------------------------------------------------------------------\n",
      "cut8         |\n",
      "       _cons |     3.091***       3.084***       3.197***       2.979***       3.239***       3.640***       3.782***       4.394***  \n",
      "-------------+------------------------------------------------------------------------------------------------------------------------\n",
      "Statistics   |                                                                                                                        \n",
      "          ll |  -281.984       -276.176       -277.250       -281.602       -278.408       -269.339       -250.284       -244.268     \n",
      "--------------------------------------------------------------------------------------------------------------------------------------\n",
      "                                                                                                   legend: * p<.1; ** p<.05; *** p<.01\n"
     ]
    }
   ],
   "source": [
    "*** ordered one table \n",
    "estimates table base_og model1og  model2og model3og model4og  model5og model6og model7oallg, b(%9.3f) star(0.01, 0.05, 0.1) eq(1) stats(ll)"
   ]
  },
  {
   "cell_type": "code",
   "execution_count": 82,
   "metadata": {},
   "outputs": [
    {
     "name": "stdout",
     "output_type": "stream",
     "text": [
      "\n",
      "----------------------------------------------------------------------------------------------------------------------\n",
      "    Variable |  base_og      model1og     model2og     model3og     model4og     model5og     model6og    model7oa~g  \n",
      "-------------+--------------------------------------------------------------------------------------------------------\n",
      "#1           |\n",
      "         age |  .04370171    .02336282    .02568689    .03333355     .0736468   -.03745849   -.16643604   -.15647727  \n",
      "      gender |  .18038271    .16148489    .22574517    .17361561    .07564757    .20857303    .34067685    .29795002  \n",
      "    marriage |  .19373323    .17559916    .17124946    .20282031    .16882944    .21449492    .09728216     .0770572  \n",
      "    student1 |  -.0772974   -.03691373    .01773725   -.12537193   -.18329909    .01228794    .05299255    .15816321  \n",
      "company_man2 | -.10012799   -.15107179   -.07396768   -.20595255   -.17848439   -.19306812   -.24053803   -.14082099  \n",
      "public_off~3 |  .08348661    .07133099    .16393542    .03728854    .02428183    .17948148    .13494141    .24367977  \n",
      " profession4 |  .16373457    .22244433    .27138914    .15497671    .22858025    .46120435    .50020859    .70281403  \n",
      " researcher5 |   .5894388    .60239976    .54275023    .53790767    .42996194    .81434692     .4345636    .55954115  \n",
      "       learn |  .05042361    .03704914     .0496974    .05009963    .14830042    .12270555    .08220896    .15156854  \n",
      "      income |  .03058138    .02035902    .03262478    .02682629    .01769903   -.00426782    .05161191    .03319172  \n",
      "avg_distance | -.01762344    -.0271392   -.01707168   -.00880679    -.0093561    .00156851     .0234862    .01286031  \n",
      " freq_use_ev |  .07282404    .07129468    .05320529    .05669362    .07400654    .07404013     .0588335    .08151336  \n",
      " club_kepco2 | -.23328867   -.21202397   -.21295347   -.23411275   -.26616883   -.26637751   -.28656097   -.30106505  \n",
      "  club_jeju3 |  .14490801    .11249533    .02825762    .13593547   -.03732587   -.04260622    .01874421   -.18356077  \n",
      "    ev_owner | -.01211675   -.09654937   -.08272724   -.03861118   -.07014371   -.07329532    .05733112   -.02461265  \n",
      " saving_free | -.43795017   -.30766732   -.39935689   -.42800795   -.46580911    -.4968767   -.31824444   -.31902061  \n",
      "g_cons_sho~s |               .25741979                                                                     .10980972  \n",
      "   g_cons_as |                            .22319959                                                        .08029314  \n",
      "g_cons_cha~e |                                         .06976343                                          -.11329489  \n",
      "g_cons_num~k |                                                      .23425474                              .11880638  \n",
      "g_cons_lon~e |                                                                   .41314417                 .17358365  \n",
      "g_cons_hil~e |                                                                                 .6008113    .52297432  \n",
      "-------------+--------------------------------------------------------------------------------------------------------\n",
      "cut1         |\n",
      "       _cons | -1.8660474   -2.0842851   -1.9995905   -1.9999272   -1.8242725   -2.0829463   -2.7917027   -2.6940218  \n",
      "-------------+--------------------------------------------------------------------------------------------------------\n",
      "cut2         |\n",
      "       _cons | -1.4729447   -1.6583238    -1.592593   -1.6014596   -1.4062719   -1.6047731   -2.2189695   -2.0591391  \n",
      "-------------+--------------------------------------------------------------------------------------------------------\n",
      "cut3         |\n",
      "       _cons | -.81628685   -.97136282   -.89931219   -.93476799   -.72368855   -.87664743   -1.3473288   -1.1515652  \n",
      "-------------+--------------------------------------------------------------------------------------------------------\n",
      "cut4         |\n",
      "       _cons |   .0778201   -.04847506    .01625349    -.0350947    .18995017    .06112461   -.27351288   -.05929137  \n",
      "-------------+--------------------------------------------------------------------------------------------------------\n",
      "cut5         |\n",
      "       _cons |  1.2587733    1.1703801    1.2150313    1.1443836    1.3938484    1.2953765    1.0665471    1.3200824  \n",
      "-------------+--------------------------------------------------------------------------------------------------------\n",
      "cut6         |\n",
      "       _cons |  1.8162174    1.7435492    1.7883813    1.6999993     1.960236    1.9026963    1.7163757    2.0035163  \n",
      "-------------+--------------------------------------------------------------------------------------------------------\n",
      "cut7         |\n",
      "       _cons |  2.8174055    2.7948464    2.8760246    2.7022443    2.9646431    3.1651789    3.2143852    3.6581378  \n",
      "-------------+--------------------------------------------------------------------------------------------------------\n",
      "cut8         |\n",
      "       _cons |  3.0905391    3.0836199    3.1971002    2.9786487    3.2390902    3.6400058    3.7821015    4.3944596  \n",
      "-------------+--------------------------------------------------------------------------------------------------------\n",
      "Statistics   |                                                                                                        \n",
      "          ll | -281.98369   -276.17612   -277.25023   -281.60222   -278.40832   -269.33913   -250.28379   -244.26824  \n",
      "----------------------------------------------------------------------------------------------------------------------\n"
     ]
    }
   ],
   "source": [
    "estimates table base_og model1og model2og model3og  model4og  model5og model6og model7oallg , eq(1) stats(ll)"
   ]
  },
  {
   "cell_type": "markdown",
   "metadata": {},
   "source": [
    "---\n",
    "# <font color = blue>  9. Post Analysis\n",
    "---"
   ]
  },
  {
   "cell_type": "markdown",
   "metadata": {},
   "source": [
    "#### a_cons_hac\n",
    "----"
   ]
  },
  {
   "cell_type": "code",
   "execution_count": 83,
   "metadata": {},
   "outputs": [
    {
     "name": "stdout",
     "output_type": "stream",
     "text": [
      "\n",
      " a_cons_hac |      Freq.     Percent        Cum.\n",
      "------------+-----------------------------------\n",
      "          1 |         26       14.13       14.13\n",
      "          2 |         27       14.67       28.80\n",
      "          3 |         51       27.72       56.52\n",
      "          4 |         47       25.54       82.07\n",
      "          5 |         33       17.93      100.00\n",
      "------------+-----------------------------------\n",
      "      Total |        184      100.00\n"
     ]
    }
   ],
   "source": [
    " tab a_cons_hac"
   ]
  },
  {
   "cell_type": "code",
   "execution_count": 84,
   "metadata": {},
   "outputs": [
    {
     "name": "stdout",
     "output_type": "stream",
     "text": [
      "\n",
      " b_cons_hac |      Freq.     Percent        Cum.\n",
      "------------+-----------------------------------\n",
      "          1 |         11        5.98        5.98\n",
      "          2 |         25       13.59       19.57\n",
      "          3 |         58       31.52       51.09\n",
      "          4 |         51       27.72       78.80\n",
      "          5 |         39       21.20      100.00\n",
      "------------+-----------------------------------\n",
      "      Total |        184      100.00\n"
     ]
    }
   ],
   "source": [
    " tab b_cons_hac"
   ]
  },
  {
   "cell_type": "code",
   "execution_count": 85,
   "metadata": {},
   "outputs": [
    {
     "name": "stdout",
     "output_type": "stream",
     "text": [
      "\n",
      " g_cons_hac |      Freq.     Percent        Cum.\n",
      "------------+-----------------------------------\n",
      "         -4 |          3        1.63        1.63\n",
      "         -3 |          4        2.17        3.80\n",
      "         -2 |         16        8.70       12.50\n",
      "         -1 |         48       26.09       38.59\n",
      "          0 |         76       41.30       79.89\n",
      "          1 |         21       11.41       91.30\n",
      "          2 |         14        7.61       98.91\n",
      "          3 |          1        0.54       99.46\n",
      "          4 |          1        0.54      100.00\n",
      "------------+-----------------------------------\n",
      "      Total |        184      100.00\n"
     ]
    }
   ],
   "source": [
    " tab g_cons_hac"
   ]
  },
  {
   "cell_type": "code",
   "execution_count": null,
   "metadata": {},
   "outputs": [],
   "source": [
    "# Need to do more post analysis"
   ]
  },
  {
   "cell_type": "markdown",
   "metadata": {},
   "source": [
    "# The following Part is the practice code\n",
    "* For standard error check"
   ]
  },
  {
   "cell_type": "code",
   "execution_count": 86,
   "metadata": {},
   "outputs": [
    {
     "name": "stdout",
     "output_type": "stream",
     "text": [
      "\n",
      "\n",
      "(est1 stored)\n",
      "\n",
      "(est2 stored)\n",
      "\n",
      "(est3 stored)\n"
     ]
    }
   ],
   "source": [
    "eststo clear\n",
    "eststo: qui logit y age\n",
    "eststo: qui logit y age marriage\t\n",
    "eststo: qui logit y age marriage student1"
   ]
  },
  {
   "cell_type": "code",
   "execution_count": 87,
   "metadata": {},
   "outputs": [
    {
     "data": {
      "text/html": [
       "\n",
       "<table border=\"0\" width=\"*\">\n",
       "<caption>table</caption>\n",
       "<tr><td colspan=4><hr></td></tr>\n",
       "<tr><td>                    </td><td>         (1)              </td><td>         (2)              </td><td>         (3)              </td></tr>\n",
       "<tr><td>                    </td><td>           y              </td><td>           y              </td><td>           y              </td></tr>\n",
       "<tr><td colspan=4><hr></td></tr>\n",
       "<tr><td>y                   </td><td>                          </td><td>                          </td><td>                          </td></tr>\n",
       "<tr><td>age                 </td><td>       0.233              </td><td>       0.151              </td><td>       0.145              </td></tr>\n",
       "<tr><td>                    </td><td>      (1.21)              </td><td>      (0.64)              </td><td>      (0.61)              </td></tr>\n",
       "<tr><td colspan=4>&nbsp;</td></tr>\n",
       "<tr><td>marriage            </td><td>                          </td><td>      -0.225              </td><td>      -0.228              </td></tr>\n",
       "<tr><td>                    </td><td>                          </td><td>     (-0.58)              </td><td>     (-0.59)              </td></tr>\n",
       "<tr><td colspan=4>&nbsp;</td></tr>\n",
       "<tr><td>student1            </td><td>                          </td><td>                          </td><td>       0.204              </td></tr>\n",
       "<tr><td>                    </td><td>                          </td><td>                          </td><td>      (0.29)              </td></tr>\n",
       "<tr><td colspan=4>&nbsp;</td></tr>\n",
       "<tr><td>Constant            </td><td>      0.0455              </td><td>       0.324              </td><td>       0.330              </td></tr>\n",
       "<tr><td>                    </td><td>      (0.10)              </td><td>      (0.49)              </td><td>      (0.49)              </td></tr>\n",
       "<tr><td colspan=4><hr></td></tr>\n",
       "<tr><td>Observations        </td><td>         184              </td><td>         184              </td><td>         184              </td></tr>\n",
       "<tr><td colspan=4><hr></td></tr>\n",
       "<tr><td colspan=4>\n",
       "<i>t</i> statistics in parentheses\n",
       "<br /><sup>*</sup> <i>p</i> < 0.05, <sup>**</sup> <i>p</i> < 0.01, <sup>***</sup> <i>p</i> < 0.001\n",
       "</td></tr>\n",
       "</table>\n",
       "\n"
      ],
      "text/plain": [
       "This front-end or document format cannot display HTML"
      ]
     },
     "metadata": {},
     "output_type": "display_data"
    }
   ],
   "source": [
    "%html\n",
    "esttab, label title(\"table\") html"
   ]
  },
  {
   "cell_type": "code",
   "execution_count": 88,
   "metadata": {},
   "outputs": [
    {
     "name": "stdout",
     "output_type": "stream",
     "text": [
      "\n",
      "table\n",
      "--------------------------------------------------------------------\n",
      "                              (1)             (2)             (3)   \n",
      "                                y               y               y   \n",
      "--------------------------------------------------------------------\n",
      "y                                                                   \n",
      "age                         0.233           0.151           0.145   \n",
      "                           (1.21)          (0.64)          (0.61)   \n",
      "\n",
      "marriage                                   -0.225          -0.228   \n",
      "                                          (-0.58)         (-0.59)   \n",
      "\n",
      "student1                                                    0.204   \n",
      "                                                           (0.29)   \n",
      "\n",
      "Constant                   0.0455           0.324           0.330   \n",
      "                           (0.10)          (0.49)          (0.49)   \n",
      "--------------------------------------------------------------------\n",
      "Observations                  184             184             184   \n",
      "--------------------------------------------------------------------\n",
      "t statistics in parentheses\n",
      "* p<0.05, ** p<0.01, *** p<0.001\n"
     ]
    }
   ],
   "source": [
    "esttab, label title(\"table\") "
   ]
  },
  {
   "cell_type": "code",
   "execution_count": null,
   "metadata": {},
   "outputs": [],
   "source": [
    "#"
   ]
  }
 ],
 "metadata": {
  "kernelspec": {
   "display_name": "Stata",
   "language": "stata",
   "name": "stata"
  },
  "language_info": {
   "codemirror_mode": "stata",
   "file_extension": ".do",
   "mimetype": "text/x-stata",
   "name": "stata",
   "version": "15.1"
  }
 },
 "nbformat": 4,
 "nbformat_minor": 4
}
