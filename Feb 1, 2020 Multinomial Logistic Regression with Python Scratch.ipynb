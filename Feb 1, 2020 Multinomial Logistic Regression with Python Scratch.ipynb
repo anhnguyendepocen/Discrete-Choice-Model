{
 "cells": [
  {
   "cell_type": "markdown",
   "metadata": {},
   "source": [
    "---\n",
    "# Feb 1, 2020 Multinomial Logistic Regression with Python Scratch\n",
    "---\n",
    "* Name: Jikhan Jeong\n",
    "* Logistics: All the code and answer are in one Jupyter notebook file\n",
    "* Data is from 2020 Metric 3 HW1 so I will not upload the dataset due to academic honesty, just see the logic of multinomial logistic regress from scractch \n",
    "* Ref: http://learningwithdata.com/logistic-regression-and-optimization.html\n",
    "* Ref: https://cran.r-project.org/web/packages/mlogit/vignettes/e2nlogit.html\n",
    "* Ref: Thttps://www.cambridge.org/core/books/discrete-choice-methods-with-simulation/49CABD00F3DDDA088A8FBFAAAD7E9546\n",
    "---"
   ]
  },
  {
   "cell_type": "markdown",
   "metadata": {},
   "source": [
    "# 0. Load data and Preparing \n",
    "---"
   ]
  },
  {
   "cell_type": "code",
   "execution_count": 78,
   "metadata": {},
   "outputs": [
    {
     "name": "stdout",
     "output_type": "stream",
     "text": [
      "/data/cahnrs/jikhan.jeong/metric3_2020\n"
     ]
    }
   ],
   "source": [
    "import os\n",
    "os.chdir('/data/cahnrs/jikhan.jeong/metric3_2020')\n",
    "print(os.getcwd())"
   ]
  },
  {
   "cell_type": "code",
   "execution_count": 79,
   "metadata": {},
   "outputs": [],
   "source": [
    "import matplotlib.pyplot as plt\n",
    "import pandas as pd\n",
    "import numpy as np\n",
    "from scipy.optimize import minimize # optimization BFGS\n",
    "from scipy import stats # to derive p-value\n",
    "\n",
    "np.set_printoptions(linewidth=np.inf) # For display in one row : ref: https://stackoverflow.com/questions/56204072/numpy-print-matrix-one-row-one-line\n",
    "np.set_printoptions(threshold=np.inf) # For display in all column : ref: https://stackoverflow.com/questions/1987694/how-to-print-the-full-numpy-array-without-truncation"
   ]
  },
  {
   "cell_type": "code",
   "execution_count": 80,
   "metadata": {},
   "outputs": [],
   "source": [
    "# Pre-defined function by me for pandas data handling\n",
    "def unique_value_list(df, var):\n",
    "    u_list = df[var].unique()\n",
    "    u_list = sorted(u_list)\n",
    "    return u_list \n",
    "\n",
    "def print_full(x):\n",
    "    pd.set_option('display.max_rows', len(x))\n",
    "    print(x)\n",
    "    pd.reset_option('display.max_rows')\n",
    "\n",
    "def unique_value_distribution(df,var_name): \n",
    "    category_distribution = pd.DataFrame(df[var_name].value_counts())\n",
    "    print_full(category_distribution)\n",
    "\n",
    "def df_add_var_dummy(df, var):\n",
    "    df = pd.concat([df, pd.get_dummies(df[var])],axis=1)\n",
    "    return df \n",
    "\n",
    "def select_by_var_value(df, var, value):\n",
    "    sub_df = df[df[var] == value]\n",
    "    return sub_df\n",
    "\n",
    "def sum_df(df):\n",
    "    print('type: ', type(df))\n",
    "    print('shape: ', df.shape)\n",
    "\n",
    "def column_name(df):\n",
    "    print(len(df.columns.tolist()))\n",
    "    print(df.columns.tolist())\n",
    "\n",
    "def count(df):\n",
    "    return df.count()\n",
    "\n",
    "def head(df, num=1):\n",
    "    print('shape: ', df.shape)\n",
    "    return df.head(num)\n",
    "\n",
    "def tail(df, num=1):\n",
    "    print('shape: ',df.shape)\n",
    "    return df.tail(num)\n",
    "\n",
    "def re_index(df):\n",
    "    df = df.reset_index(drop=True)\n",
    "    return df\n",
    "\n",
    "# load pandas dataframe or save \n",
    "# df.to_csv('df.txt', header = True)\n",
    "# df = pd.read_csv('df.csv', index_col=[0])"
   ]
  },
  {
   "cell_type": "code",
   "execution_count": 81,
   "metadata": {},
   "outputs": [],
   "source": [
    "# pandas dataframe to numpy array\n",
    "# df.values\n",
    "# Ref: https://stackoverflow.com/questions/13187778/convert-pandas-dataframe-to-numpy-array"
   ]
  },
  {
   "cell_type": "code",
   "execution_count": 82,
   "metadata": {},
   "outputs": [],
   "source": [
    "df = pd.read_csv('hw1_data.txt', sep='\\t') # index_col=[0]"
   ]
  },
  {
   "cell_type": "code",
   "execution_count": 83,
   "metadata": {},
   "outputs": [
    {
     "name": "stdout",
     "output_type": "stream",
     "text": [
      "shape:  (438, 12)\n"
     ]
    },
    {
     "data": {
      "text/html": [
       "<div>\n",
       "<style scoped>\n",
       "    .dataframe tbody tr th:only-of-type {\n",
       "        vertical-align: middle;\n",
       "    }\n",
       "\n",
       "    .dataframe tbody tr th {\n",
       "        vertical-align: top;\n",
       "    }\n",
       "\n",
       "    .dataframe thead th {\n",
       "        text-align: right;\n",
       "    }\n",
       "</style>\n",
       "<table border=\"1\" class=\"dataframe\">\n",
       "  <thead>\n",
       "    <tr style=\"text-align: right;\">\n",
       "      <th></th>\n",
       "      <th>id</th>\n",
       "      <th>route</th>\n",
       "      <th>toll</th>\n",
       "      <th>median</th>\n",
       "      <th>female</th>\n",
       "      <th>age3050</th>\n",
       "      <th>distance</th>\n",
       "      <th>householdsize</th>\n",
       "      <th>high_income</th>\n",
       "      <th>med_income</th>\n",
       "      <th>occupanc</th>\n",
       "      <th>trans</th>\n",
       "    </tr>\n",
       "  </thead>\n",
       "  <tbody>\n",
       "    <tr>\n",
       "      <td>0</td>\n",
       "      <td>1000169</td>\n",
       "      <td>1</td>\n",
       "      <td>3.250</td>\n",
       "      <td>-4.152752</td>\n",
       "      <td>1</td>\n",
       "      <td>1</td>\n",
       "      <td>34.58</td>\n",
       "      <td>2</td>\n",
       "      <td>1</td>\n",
       "      <td>0</td>\n",
       "      <td>1</td>\n",
       "      <td>1</td>\n",
       "    </tr>\n",
       "    <tr>\n",
       "      <td>1</td>\n",
       "      <td>1000187</td>\n",
       "      <td>0</td>\n",
       "      <td>3.250</td>\n",
       "      <td>-4.849391</td>\n",
       "      <td>0</td>\n",
       "      <td>1</td>\n",
       "      <td>26.44</td>\n",
       "      <td>1</td>\n",
       "      <td>0</td>\n",
       "      <td>0</td>\n",
       "      <td>1</td>\n",
       "      <td>0</td>\n",
       "    </tr>\n",
       "    <tr>\n",
       "      <td>2</td>\n",
       "      <td>1000201</td>\n",
       "      <td>1</td>\n",
       "      <td>1.625</td>\n",
       "      <td>-4.849391</td>\n",
       "      <td>0</td>\n",
       "      <td>1</td>\n",
       "      <td>24.09</td>\n",
       "      <td>5</td>\n",
       "      <td>0</td>\n",
       "      <td>1</td>\n",
       "      <td>3</td>\n",
       "      <td>1</td>\n",
       "    </tr>\n",
       "    <tr>\n",
       "      <td>3</td>\n",
       "      <td>1000209</td>\n",
       "      <td>0</td>\n",
       "      <td>2.900</td>\n",
       "      <td>-3.243314</td>\n",
       "      <td>0</td>\n",
       "      <td>0</td>\n",
       "      <td>26.46</td>\n",
       "      <td>7</td>\n",
       "      <td>0</td>\n",
       "      <td>0</td>\n",
       "      <td>1</td>\n",
       "      <td>0</td>\n",
       "    </tr>\n",
       "    <tr>\n",
       "      <td>4</td>\n",
       "      <td>1000282</td>\n",
       "      <td>1</td>\n",
       "      <td>2.900</td>\n",
       "      <td>-2.246180</td>\n",
       "      <td>0</td>\n",
       "      <td>1</td>\n",
       "      <td>45.88</td>\n",
       "      <td>3</td>\n",
       "      <td>0</td>\n",
       "      <td>1</td>\n",
       "      <td>1</td>\n",
       "      <td>1</td>\n",
       "    </tr>\n",
       "    <tr>\n",
       "      <td>5</td>\n",
       "      <td>1000412</td>\n",
       "      <td>0</td>\n",
       "      <td>3.250</td>\n",
       "      <td>-5.615552</td>\n",
       "      <td>0</td>\n",
       "      <td>1</td>\n",
       "      <td>37.07</td>\n",
       "      <td>4</td>\n",
       "      <td>0</td>\n",
       "      <td>0</td>\n",
       "      <td>1</td>\n",
       "      <td>0</td>\n",
       "    </tr>\n",
       "    <tr>\n",
       "      <td>6</td>\n",
       "      <td>1000438</td>\n",
       "      <td>1</td>\n",
       "      <td>1.450</td>\n",
       "      <td>-1.583941</td>\n",
       "      <td>1</td>\n",
       "      <td>1</td>\n",
       "      <td>26.85</td>\n",
       "      <td>6</td>\n",
       "      <td>0</td>\n",
       "      <td>1</td>\n",
       "      <td>3</td>\n",
       "      <td>1</td>\n",
       "    </tr>\n",
       "    <tr>\n",
       "      <td>7</td>\n",
       "      <td>1000445</td>\n",
       "      <td>0</td>\n",
       "      <td>3.250</td>\n",
       "      <td>-4.594528</td>\n",
       "      <td>1</td>\n",
       "      <td>0</td>\n",
       "      <td>33.12</td>\n",
       "      <td>3</td>\n",
       "      <td>0</td>\n",
       "      <td>0</td>\n",
       "      <td>1</td>\n",
       "      <td>0</td>\n",
       "    </tr>\n",
       "    <tr>\n",
       "      <td>8</td>\n",
       "      <td>1000468</td>\n",
       "      <td>0</td>\n",
       "      <td>1.650</td>\n",
       "      <td>-0.357715</td>\n",
       "      <td>0</td>\n",
       "      <td>1</td>\n",
       "      <td>43.61</td>\n",
       "      <td>4</td>\n",
       "      <td>0</td>\n",
       "      <td>1</td>\n",
       "      <td>1</td>\n",
       "      <td>0</td>\n",
       "    </tr>\n",
       "    <tr>\n",
       "      <td>9</td>\n",
       "      <td>1000479</td>\n",
       "      <td>0</td>\n",
       "      <td>2.900</td>\n",
       "      <td>-1.871945</td>\n",
       "      <td>0</td>\n",
       "      <td>0</td>\n",
       "      <td>33.69</td>\n",
       "      <td>1</td>\n",
       "      <td>0</td>\n",
       "      <td>1</td>\n",
       "      <td>1</td>\n",
       "      <td>1</td>\n",
       "    </tr>\n",
       "  </tbody>\n",
       "</table>\n",
       "</div>"
      ],
      "text/plain": [
       "        id  route   toll    median  female  age3050  distance  householdsize  \\\n",
       "0  1000169      1  3.250 -4.152752       1        1     34.58              2   \n",
       "1  1000187      0  3.250 -4.849391       0        1     26.44              1   \n",
       "2  1000201      1  1.625 -4.849391       0        1     24.09              5   \n",
       "3  1000209      0  2.900 -3.243314       0        0     26.46              7   \n",
       "4  1000282      1  2.900 -2.246180       0        1     45.88              3   \n",
       "5  1000412      0  3.250 -5.615552       0        1     37.07              4   \n",
       "6  1000438      1  1.450 -1.583941       1        1     26.85              6   \n",
       "7  1000445      0  3.250 -4.594528       1        0     33.12              3   \n",
       "8  1000468      0  1.650 -0.357715       0        1     43.61              4   \n",
       "9  1000479      0  2.900 -1.871945       0        0     33.69              1   \n",
       "\n",
       "   high_income  med_income  occupanc  trans  \n",
       "0            1           0         1      1  \n",
       "1            0           0         1      0  \n",
       "2            0           1         3      1  \n",
       "3            0           0         1      0  \n",
       "4            0           1         1      1  \n",
       "5            0           0         1      0  \n",
       "6            0           1         3      1  \n",
       "7            0           0         1      0  \n",
       "8            0           1         1      0  \n",
       "9            0           1         1      1  "
      ]
     },
     "execution_count": 83,
     "metadata": {},
     "output_type": "execute_result"
    }
   ],
   "source": [
    "# dataform is wideform\n",
    "head(df,10)"
   ]
  },
  {
   "cell_type": "code",
   "execution_count": 84,
   "metadata": {},
   "outputs": [
    {
     "data": {
      "text/html": [
       "<div>\n",
       "<style scoped>\n",
       "    .dataframe tbody tr th:only-of-type {\n",
       "        vertical-align: middle;\n",
       "    }\n",
       "\n",
       "    .dataframe tbody tr th {\n",
       "        vertical-align: top;\n",
       "    }\n",
       "\n",
       "    .dataframe thead th {\n",
       "        text-align: right;\n",
       "    }\n",
       "</style>\n",
       "<table border=\"1\" class=\"dataframe\">\n",
       "  <thead>\n",
       "    <tr style=\"text-align: right;\">\n",
       "      <th></th>\n",
       "      <th>id</th>\n",
       "      <th>route</th>\n",
       "      <th>toll</th>\n",
       "      <th>median</th>\n",
       "      <th>female</th>\n",
       "      <th>age3050</th>\n",
       "      <th>distance</th>\n",
       "      <th>householdsize</th>\n",
       "      <th>high_income</th>\n",
       "      <th>med_income</th>\n",
       "      <th>occupanc</th>\n",
       "      <th>trans</th>\n",
       "    </tr>\n",
       "  </thead>\n",
       "  <tbody>\n",
       "    <tr>\n",
       "      <td>count</td>\n",
       "      <td>4.380000e+02</td>\n",
       "      <td>438.000000</td>\n",
       "      <td>438.000000</td>\n",
       "      <td>438.000000</td>\n",
       "      <td>438.000000</td>\n",
       "      <td>438.000000</td>\n",
       "      <td>438.000000</td>\n",
       "      <td>438.000000</td>\n",
       "      <td>438.000000</td>\n",
       "      <td>438.000000</td>\n",
       "      <td>438.000000</td>\n",
       "      <td>438.000000</td>\n",
       "    </tr>\n",
       "    <tr>\n",
       "      <td>mean</td>\n",
       "      <td>2.559637e+06</td>\n",
       "      <td>0.262557</td>\n",
       "      <td>2.650228</td>\n",
       "      <td>-3.026842</td>\n",
       "      <td>0.319635</td>\n",
       "      <td>0.616438</td>\n",
       "      <td>34.225434</td>\n",
       "      <td>3.529680</td>\n",
       "      <td>0.226027</td>\n",
       "      <td>0.394977</td>\n",
       "      <td>1.376712</td>\n",
       "      <td>0.589041</td>\n",
       "    </tr>\n",
       "    <tr>\n",
       "      <td>std</td>\n",
       "      <td>1.401819e+06</td>\n",
       "      <td>0.440527</td>\n",
       "      <td>0.625612</td>\n",
       "      <td>1.505077</td>\n",
       "      <td>0.466868</td>\n",
       "      <td>0.486809</td>\n",
       "      <td>14.185353</td>\n",
       "      <td>1.507505</td>\n",
       "      <td>0.418735</td>\n",
       "      <td>0.489405</td>\n",
       "      <td>0.636140</td>\n",
       "      <td>0.492570</td>\n",
       "    </tr>\n",
       "    <tr>\n",
       "      <td>min</td>\n",
       "      <td>1.000169e+06</td>\n",
       "      <td>0.000000</td>\n",
       "      <td>0.825000</td>\n",
       "      <td>-5.628882</td>\n",
       "      <td>0.000000</td>\n",
       "      <td>0.000000</td>\n",
       "      <td>10.180000</td>\n",
       "      <td>1.000000</td>\n",
       "      <td>0.000000</td>\n",
       "      <td>0.000000</td>\n",
       "      <td>1.000000</td>\n",
       "      <td>0.000000</td>\n",
       "    </tr>\n",
       "    <tr>\n",
       "      <td>25%</td>\n",
       "      <td>1.005516e+06</td>\n",
       "      <td>0.000000</td>\n",
       "      <td>1.950000</td>\n",
       "      <td>-4.002749</td>\n",
       "      <td>0.000000</td>\n",
       "      <td>0.000000</td>\n",
       "      <td>23.820000</td>\n",
       "      <td>2.000000</td>\n",
       "      <td>0.000000</td>\n",
       "      <td>0.000000</td>\n",
       "      <td>1.000000</td>\n",
       "      <td>0.000000</td>\n",
       "    </tr>\n",
       "    <tr>\n",
       "      <td>50%</td>\n",
       "      <td>2.057630e+06</td>\n",
       "      <td>0.000000</td>\n",
       "      <td>2.900000</td>\n",
       "      <td>-3.409326</td>\n",
       "      <td>0.000000</td>\n",
       "      <td>1.000000</td>\n",
       "      <td>31.100000</td>\n",
       "      <td>3.000000</td>\n",
       "      <td>0.000000</td>\n",
       "      <td>0.000000</td>\n",
       "      <td>1.000000</td>\n",
       "      <td>1.000000</td>\n",
       "    </tr>\n",
       "    <tr>\n",
       "      <td>75%</td>\n",
       "      <td>4.003429e+06</td>\n",
       "      <td>1.000000</td>\n",
       "      <td>3.000000</td>\n",
       "      <td>-1.465565</td>\n",
       "      <td>1.000000</td>\n",
       "      <td>1.000000</td>\n",
       "      <td>43.022500</td>\n",
       "      <td>4.000000</td>\n",
       "      <td>0.000000</td>\n",
       "      <td>1.000000</td>\n",
       "      <td>2.000000</td>\n",
       "      <td>1.000000</td>\n",
       "    </tr>\n",
       "    <tr>\n",
       "      <td>max</td>\n",
       "      <td>5.011583e+06</td>\n",
       "      <td>1.000000</td>\n",
       "      <td>3.250000</td>\n",
       "      <td>-0.134897</td>\n",
       "      <td>1.000000</td>\n",
       "      <td>1.000000</td>\n",
       "      <td>82.050000</td>\n",
       "      <td>10.000000</td>\n",
       "      <td>1.000000</td>\n",
       "      <td>1.000000</td>\n",
       "      <td>3.000000</td>\n",
       "      <td>1.000000</td>\n",
       "    </tr>\n",
       "  </tbody>\n",
       "</table>\n",
       "</div>"
      ],
      "text/plain": [
       "                 id       route        toll      median      female  \\\n",
       "count  4.380000e+02  438.000000  438.000000  438.000000  438.000000   \n",
       "mean   2.559637e+06    0.262557    2.650228   -3.026842    0.319635   \n",
       "std    1.401819e+06    0.440527    0.625612    1.505077    0.466868   \n",
       "min    1.000169e+06    0.000000    0.825000   -5.628882    0.000000   \n",
       "25%    1.005516e+06    0.000000    1.950000   -4.002749    0.000000   \n",
       "50%    2.057630e+06    0.000000    2.900000   -3.409326    0.000000   \n",
       "75%    4.003429e+06    1.000000    3.000000   -1.465565    1.000000   \n",
       "max    5.011583e+06    1.000000    3.250000   -0.134897    1.000000   \n",
       "\n",
       "          age3050    distance  householdsize  high_income  med_income  \\\n",
       "count  438.000000  438.000000     438.000000   438.000000  438.000000   \n",
       "mean     0.616438   34.225434       3.529680     0.226027    0.394977   \n",
       "std      0.486809   14.185353       1.507505     0.418735    0.489405   \n",
       "min      0.000000   10.180000       1.000000     0.000000    0.000000   \n",
       "25%      0.000000   23.820000       2.000000     0.000000    0.000000   \n",
       "50%      1.000000   31.100000       3.000000     0.000000    0.000000   \n",
       "75%      1.000000   43.022500       4.000000     0.000000    1.000000   \n",
       "max      1.000000   82.050000      10.000000     1.000000    1.000000   \n",
       "\n",
       "         occupanc       trans  \n",
       "count  438.000000  438.000000  \n",
       "mean     1.376712    0.589041  \n",
       "std      0.636140    0.492570  \n",
       "min      1.000000    0.000000  \n",
       "25%      1.000000    0.000000  \n",
       "50%      1.000000    1.000000  \n",
       "75%      2.000000    1.000000  \n",
       "max      3.000000    1.000000  "
      ]
     },
     "execution_count": 84,
     "metadata": {},
     "output_type": "execute_result"
    }
   ],
   "source": [
    "df.describe()"
   ]
  },
  {
   "cell_type": "code",
   "execution_count": 85,
   "metadata": {},
   "outputs": [
    {
     "name": "stdout",
     "output_type": "stream",
     "text": [
      "12\n",
      "['id', 'route', 'toll', 'median', 'female', 'age3050', 'distance', 'householdsize', 'high_income', 'med_income', 'occupanc', 'trans']\n"
     ]
    }
   ],
   "source": [
    "column_name(df)"
   ]
  },
  {
   "cell_type": "code",
   "execution_count": 86,
   "metadata": {},
   "outputs": [],
   "source": [
    "# From pandas dataframe to numpy array\n",
    "array = df.values"
   ]
  },
  {
   "cell_type": "code",
   "execution_count": 87,
   "metadata": {},
   "outputs": [
    {
     "data": {
      "text/plain": [
       "(438, 12)"
      ]
     },
     "execution_count": 87,
     "metadata": {},
     "output_type": "execute_result"
    }
   ],
   "source": [
    "array.shape # shape is attribute, do not use () in the end"
   ]
  },
  {
   "cell_type": "markdown",
   "metadata": {},
   "source": [
    "---\n",
    "# <font color = blue> 1. Simplify the problem\n",
    "---\n",
    "* It is not a product level, the no alternative specific price and features are in there. So, I put alternative specific constant to capture unseenable altenative charateristics\n",
    "* Skip 1. if we can solve 2, then 1 is okay.\n",
    "* Done problem 2 = **Multinomial Logit** = Dependent **occupanc** : 1 = {solo driving} 2 = {carpool} 3 ={carpool with more people} \n",
    "* Not Done problem 3 = **Nested Logit**      = **1st trans** = 1 or 0, **2st opp** = 1 or 0\n",
    "---"
   ]
  },
  {
   "cell_type": "markdown",
   "metadata": {},
   "source": [
    "---\n",
    "# <font color = blue> 2. Problem 2 = Multinomial Logit \n",
    "---\n",
    "* There are no alternative specific features...such as price_choice, choice= 1,2,3. Do it as a practice\n",
    "* Dependent : **'occupanc'** : 1 = {solo driving} 2 = {carpool} 3 ={carpool with more people} # ignore route to simply the problem\n",
    "* Indpendent:  1. 'toll', 2. 'median', 3. 'female', 4. 'age3050', 5. 'distance', 6. 'householdsize', 7. 'high_income', 8. 'med_income'\n",
    "* 2.1 Solving it with long form to easy calculation\n",
    "* 2.2 Get a utility per each choices\n",
    "* 2.3 Get an actual and sum of utility\n",
    "* 2.4 Get a probability\n",
    "* 2.5 Get a negative loglikelihood\n",
    "* Optimize and get a parameters\n",
    "* Compare it with stata output\n",
    "---"
   ]
  },
  {
   "cell_type": "code",
   "execution_count": 88,
   "metadata": {},
   "outputs": [
    {
     "name": "stdout",
     "output_type": "stream",
     "text": [
      "type:  <class 'pandas.core.frame.DataFrame'>\n",
      "shape:  (438, 11)\n"
     ]
    }
   ],
   "source": [
    "#  (438, 11)\n",
    "df2 = df[['id', 'occupanc', 'route', 'toll', 'median', 'female', 'age3050', 'distance', 'householdsize', 'high_income', 'med_income']]\n",
    "sum_df(df2)"
   ]
  },
  {
   "cell_type": "code",
   "execution_count": 89,
   "metadata": {},
   "outputs": [
    {
     "data": {
      "text/html": [
       "<div>\n",
       "<style scoped>\n",
       "    .dataframe tbody tr th:only-of-type {\n",
       "        vertical-align: middle;\n",
       "    }\n",
       "\n",
       "    .dataframe tbody tr th {\n",
       "        vertical-align: top;\n",
       "    }\n",
       "\n",
       "    .dataframe thead th {\n",
       "        text-align: right;\n",
       "    }\n",
       "</style>\n",
       "<table border=\"1\" class=\"dataframe\">\n",
       "  <thead>\n",
       "    <tr style=\"text-align: right;\">\n",
       "      <th></th>\n",
       "      <th>id</th>\n",
       "      <th>occupanc</th>\n",
       "      <th>route</th>\n",
       "      <th>toll</th>\n",
       "      <th>median</th>\n",
       "      <th>female</th>\n",
       "      <th>age3050</th>\n",
       "      <th>distance</th>\n",
       "      <th>householdsize</th>\n",
       "      <th>high_income</th>\n",
       "      <th>med_income</th>\n",
       "      <th>1</th>\n",
       "      <th>2</th>\n",
       "      <th>3</th>\n",
       "    </tr>\n",
       "  </thead>\n",
       "  <tbody>\n",
       "    <tr>\n",
       "      <td>0</td>\n",
       "      <td>1000169</td>\n",
       "      <td>1</td>\n",
       "      <td>1</td>\n",
       "      <td>3.250</td>\n",
       "      <td>-4.152752</td>\n",
       "      <td>1</td>\n",
       "      <td>1</td>\n",
       "      <td>34.58</td>\n",
       "      <td>2</td>\n",
       "      <td>1</td>\n",
       "      <td>0</td>\n",
       "      <td>1</td>\n",
       "      <td>0</td>\n",
       "      <td>0</td>\n",
       "    </tr>\n",
       "    <tr>\n",
       "      <td>1</td>\n",
       "      <td>1000187</td>\n",
       "      <td>1</td>\n",
       "      <td>0</td>\n",
       "      <td>3.250</td>\n",
       "      <td>-4.849391</td>\n",
       "      <td>0</td>\n",
       "      <td>1</td>\n",
       "      <td>26.44</td>\n",
       "      <td>1</td>\n",
       "      <td>0</td>\n",
       "      <td>0</td>\n",
       "      <td>1</td>\n",
       "      <td>0</td>\n",
       "      <td>0</td>\n",
       "    </tr>\n",
       "    <tr>\n",
       "      <td>2</td>\n",
       "      <td>1000201</td>\n",
       "      <td>3</td>\n",
       "      <td>1</td>\n",
       "      <td>1.625</td>\n",
       "      <td>-4.849391</td>\n",
       "      <td>0</td>\n",
       "      <td>1</td>\n",
       "      <td>24.09</td>\n",
       "      <td>5</td>\n",
       "      <td>0</td>\n",
       "      <td>1</td>\n",
       "      <td>0</td>\n",
       "      <td>0</td>\n",
       "      <td>1</td>\n",
       "    </tr>\n",
       "    <tr>\n",
       "      <td>3</td>\n",
       "      <td>1000209</td>\n",
       "      <td>1</td>\n",
       "      <td>0</td>\n",
       "      <td>2.900</td>\n",
       "      <td>-3.243314</td>\n",
       "      <td>0</td>\n",
       "      <td>0</td>\n",
       "      <td>26.46</td>\n",
       "      <td>7</td>\n",
       "      <td>0</td>\n",
       "      <td>0</td>\n",
       "      <td>1</td>\n",
       "      <td>0</td>\n",
       "      <td>0</td>\n",
       "    </tr>\n",
       "    <tr>\n",
       "      <td>4</td>\n",
       "      <td>1000282</td>\n",
       "      <td>1</td>\n",
       "      <td>1</td>\n",
       "      <td>2.900</td>\n",
       "      <td>-2.246180</td>\n",
       "      <td>0</td>\n",
       "      <td>1</td>\n",
       "      <td>45.88</td>\n",
       "      <td>3</td>\n",
       "      <td>0</td>\n",
       "      <td>1</td>\n",
       "      <td>1</td>\n",
       "      <td>0</td>\n",
       "      <td>0</td>\n",
       "    </tr>\n",
       "    <tr>\n",
       "      <td>...</td>\n",
       "      <td>...</td>\n",
       "      <td>...</td>\n",
       "      <td>...</td>\n",
       "      <td>...</td>\n",
       "      <td>...</td>\n",
       "      <td>...</td>\n",
       "      <td>...</td>\n",
       "      <td>...</td>\n",
       "      <td>...</td>\n",
       "      <td>...</td>\n",
       "      <td>...</td>\n",
       "      <td>...</td>\n",
       "      <td>...</td>\n",
       "      <td>...</td>\n",
       "    </tr>\n",
       "    <tr>\n",
       "      <td>433</td>\n",
       "      <td>5004374</td>\n",
       "      <td>3</td>\n",
       "      <td>0</td>\n",
       "      <td>1.450</td>\n",
       "      <td>-2.249893</td>\n",
       "      <td>0</td>\n",
       "      <td>1</td>\n",
       "      <td>27.97</td>\n",
       "      <td>6</td>\n",
       "      <td>0</td>\n",
       "      <td>0</td>\n",
       "      <td>0</td>\n",
       "      <td>0</td>\n",
       "      <td>1</td>\n",
       "    </tr>\n",
       "    <tr>\n",
       "      <td>434</td>\n",
       "      <td>5006382</td>\n",
       "      <td>1</td>\n",
       "      <td>0</td>\n",
       "      <td>1.950</td>\n",
       "      <td>-1.206373</td>\n",
       "      <td>1</td>\n",
       "      <td>0</td>\n",
       "      <td>33.47</td>\n",
       "      <td>5</td>\n",
       "      <td>1</td>\n",
       "      <td>0</td>\n",
       "      <td>1</td>\n",
       "      <td>0</td>\n",
       "      <td>0</td>\n",
       "    </tr>\n",
       "    <tr>\n",
       "      <td>435</td>\n",
       "      <td>5006513</td>\n",
       "      <td>1</td>\n",
       "      <td>0</td>\n",
       "      <td>2.900</td>\n",
       "      <td>-2.595311</td>\n",
       "      <td>0</td>\n",
       "      <td>1</td>\n",
       "      <td>44.56</td>\n",
       "      <td>4</td>\n",
       "      <td>0</td>\n",
       "      <td>0</td>\n",
       "      <td>1</td>\n",
       "      <td>0</td>\n",
       "      <td>0</td>\n",
       "    </tr>\n",
       "    <tr>\n",
       "      <td>436</td>\n",
       "      <td>5006568</td>\n",
       "      <td>1</td>\n",
       "      <td>0</td>\n",
       "      <td>2.900</td>\n",
       "      <td>-2.422315</td>\n",
       "      <td>0</td>\n",
       "      <td>0</td>\n",
       "      <td>61.02</td>\n",
       "      <td>1</td>\n",
       "      <td>0</td>\n",
       "      <td>0</td>\n",
       "      <td>1</td>\n",
       "      <td>0</td>\n",
       "      <td>0</td>\n",
       "    </tr>\n",
       "    <tr>\n",
       "      <td>437</td>\n",
       "      <td>5011583</td>\n",
       "      <td>1</td>\n",
       "      <td>0</td>\n",
       "      <td>2.900</td>\n",
       "      <td>-1.165325</td>\n",
       "      <td>0</td>\n",
       "      <td>0</td>\n",
       "      <td>63.60</td>\n",
       "      <td>2</td>\n",
       "      <td>1</td>\n",
       "      <td>0</td>\n",
       "      <td>1</td>\n",
       "      <td>0</td>\n",
       "      <td>0</td>\n",
       "    </tr>\n",
       "  </tbody>\n",
       "</table>\n",
       "<p>438 rows × 14 columns</p>\n",
       "</div>"
      ],
      "text/plain": [
       "          id  occupanc  route   toll    median  female  age3050  distance  \\\n",
       "0    1000169         1      1  3.250 -4.152752       1        1     34.58   \n",
       "1    1000187         1      0  3.250 -4.849391       0        1     26.44   \n",
       "2    1000201         3      1  1.625 -4.849391       0        1     24.09   \n",
       "3    1000209         1      0  2.900 -3.243314       0        0     26.46   \n",
       "4    1000282         1      1  2.900 -2.246180       0        1     45.88   \n",
       "..       ...       ...    ...    ...       ...     ...      ...       ...   \n",
       "433  5004374         3      0  1.450 -2.249893       0        1     27.97   \n",
       "434  5006382         1      0  1.950 -1.206373       1        0     33.47   \n",
       "435  5006513         1      0  2.900 -2.595311       0        1     44.56   \n",
       "436  5006568         1      0  2.900 -2.422315       0        0     61.02   \n",
       "437  5011583         1      0  2.900 -1.165325       0        0     63.60   \n",
       "\n",
       "     householdsize  high_income  med_income  1  2  3  \n",
       "0                2            1           0  1  0  0  \n",
       "1                1            0           0  1  0  0  \n",
       "2                5            0           1  0  0  1  \n",
       "3                7            0           0  1  0  0  \n",
       "4                3            0           1  1  0  0  \n",
       "..             ...          ...         ... .. .. ..  \n",
       "433              6            0           0  0  0  1  \n",
       "434              5            1           0  1  0  0  \n",
       "435              4            0           0  1  0  0  \n",
       "436              1            0           0  1  0  0  \n",
       "437              2            1           0  1  0  0  \n",
       "\n",
       "[438 rows x 14 columns]"
      ]
     },
     "execution_count": 89,
     "metadata": {},
     "output_type": "execute_result"
    }
   ],
   "source": [
    "# Alternative Specific constant added : not exlcuding 1 term underconsideration of DF, we capture all variance by excluding base group\n",
    "df2 = df_add_var_dummy(df2, 'occupanc')\n",
    "df2"
   ]
  },
  {
   "cell_type": "code",
   "execution_count": 90,
   "metadata": {},
   "outputs": [],
   "source": [
    "df2.to_csv('df_Q2_wide_mlogit.csv', header = True)"
   ]
  },
  {
   "cell_type": "markdown",
   "metadata": {},
   "source": [
    "### Pandas Value as a numpy value "
   ]
  },
  {
   "cell_type": "code",
   "execution_count": 91,
   "metadata": {},
   "outputs": [],
   "source": [
    "data2 = df2.values"
   ]
  },
  {
   "cell_type": "code",
   "execution_count": 92,
   "metadata": {},
   "outputs": [],
   "source": [
    "dev = data2[:, -3:]   # (438, 3) 1 dependent = occupanc, three possible choices {choice 1 : sole, choice 2 : carpool , choice 3: carpool_2} eg. array([1., 0., 0.])\n",
    "inv = data2[:, 2:-3]  # (438, 9) 9 independents including attribute specific constants (438, 9) # array([ 1.      ,  3.25    , -4.152752,  1.      ,  1.      , 34.58    ,  2.      ,  1.      ,  0.      ,  1.      ,  0.      ,  0.      ])"
   ]
  },
  {
   "cell_type": "code",
   "execution_count": 122,
   "metadata": {},
   "outputs": [],
   "source": [
    "# coefficient for independent variables including constant values\n",
    "coe = 0.001*np.ones(11).T # 11 = 9 independent + 2 constants for alternative specific constant (ASC) exlcuding base group = carpool_2 due to degree of freedom"
   ]
  },
  {
   "cell_type": "code",
   "execution_count": 94,
   "metadata": {},
   "outputs": [],
   "source": [
    "num_of_sample = dev.shape[0]    \n",
    "constant = np.ones((num_of_sample, 1)) # (438, 1)"
   ]
  },
  {
   "cell_type": "code",
   "execution_count": 95,
   "metadata": {},
   "outputs": [],
   "source": [
    "dev1_X = np.hstack((constant,inv))  # dev1.shape (438, 10)\n",
    "dev2_X = np.hstack((constant,inv))  # dev2.shape (438, 10)\n",
    "dev3_X = inv                        # dev3.shape (438,  9) # no constant = base group \n",
    "# numpy.hstack(tup) : stack arrays in sequence horizontally (column wise).   "
   ]
  },
  {
   "cell_type": "code",
   "execution_count": 96,
   "metadata": {},
   "outputs": [],
   "source": [
    "coe1 = np.hstack((coe[0], coe[2:])).reshape(10,1) # coe1.shape (10,1)\n",
    "coe2 = np.hstack((coe[1], coe[2:])).reshape(10,1) # coe2.shape (10,1)\n",
    "coe3 = coe[2:].reshape(9,1)                      # coe3.shape (9,1)"
   ]
  },
  {
   "cell_type": "markdown",
   "metadata": {},
   "source": [
    "---\n",
    "### Derive Probability \n",
    "* Step1: Get V(Y = {1,2,3}| U = V + error, V = X*coefficients)\n",
    "* Step2: Get Exp(V)\n",
    "* Step3: Get Sum(Exp(V)) -- Denominators\n",
    "* Step4: Get Probability(Y) = Exp(V(Y=i)) / Sum(Exp(V(Y=i)))\n",
    "--- "
   ]
  },
  {
   "cell_type": "markdown",
   "metadata": {},
   "source": [
    "#### Step1: Get V(Y = {1,2,3}| U = V + error, V = X*coefficients)"
   ]
  },
  {
   "cell_type": "code",
   "execution_count": 97,
   "metadata": {},
   "outputs": [],
   "source": [
    "observed_utility_choice1 = np.dot(dev1_X, coe1)\n",
    "observed_utility_choice2 = np.dot(dev2_X, coe2)\n",
    "observed_utility_choice3 = np.dot(dev3_X, coe3)"
   ]
  },
  {
   "cell_type": "markdown",
   "metadata": {},
   "source": [
    "#### Step2: Get Exp(V)"
   ]
  },
  {
   "cell_type": "code",
   "execution_count": 98,
   "metadata": {},
   "outputs": [],
   "source": [
    "exp_v1 =  np.exp(observed_utility_choice1)\n",
    "exp_v2 =  np.exp(observed_utility_choice2)\n",
    "exp_v3 =  np.exp(observed_utility_choice3)"
   ]
  },
  {
   "cell_type": "markdown",
   "metadata": {},
   "source": [
    "#### Step3: Get Sum(Exp(V)) -- Denominators"
   ]
  },
  {
   "cell_type": "code",
   "execution_count": 99,
   "metadata": {},
   "outputs": [],
   "source": [
    "exp_v_sum = exp_v1 + exp_v2 + exp_v3  # Denominator (438, 1)"
   ]
  },
  {
   "cell_type": "markdown",
   "metadata": {},
   "source": [
    "#### Step4: Get Probability(Y) = Exp(V(Y=i)) / Sum(Exp(V(Y=i)))"
   ]
  },
  {
   "cell_type": "code",
   "execution_count": 100,
   "metadata": {},
   "outputs": [],
   "source": [
    "p_dev1 = exp_v1/exp_v_sum # (438, 1)\n",
    "p_dev2 = exp_v2/exp_v_sum\n",
    "p_dev3 = exp_v3/exp_v_sum"
   ]
  },
  {
   "cell_type": "code",
   "execution_count": 101,
   "metadata": {},
   "outputs": [],
   "source": [
    "likelihood = np.multiply(p_dev1, dev[:,0].reshape(438,1))  + np.multiply(p_dev2, dev[:,1].reshape(438,1)) + np.multiply(p_dev3, dev[:,2].reshape(438,1)) # (438, 1)\n",
    "                                                                               \n",
    "# np.multiply: Multiply arguments element-wise.\n",
    "# Ref: https://docs.scipy.org/doc/numpy/reference/generated/numpy.multiply.html"
   ]
  },
  {
   "cell_type": "code",
   "execution_count": 102,
   "metadata": {},
   "outputs": [],
   "source": [
    "# nll: engative log likelihood to optimize it with minimization\n",
    "# likelihood function itself, negative definite = concave function\n",
    "negative_log_likelihood = -np.sum(np.log(likelihood))"
   ]
  },
  {
   "cell_type": "markdown",
   "metadata": {},
   "source": [
    "---\n",
    "# Make a function for minimization : using scipy.optimize\n",
    "---\n",
    "* no gradient information: minimize(f, x0, method='bfgs'). bfgs giving an inverse hessian matrix to get se, t-value, and p-values, no requires for jacobian \n",
    "* with gradient, you can either have a callable which returns the function and the gradient: minimize(fnc_and_jac, x0, method='bfgs', jac=True), fnc_and_jac in here defines jacobian (inside of function)\n",
    "* set jac to a callable, which should have the same signature as the cost function and return the gradient: minimize(f, x0, method='bfgs', jac=jac). making anddition function jac for jacobain (outside of f function) \n",
    "* Ref: https://stackoverflow.com/questions/29324222/how-can-i-do-a-maximum-likelihood-regression-using-scipy-optimize-minimize\n",
    "* Ref: https://stackoverflow.com/questions/27259842/logistic-regression-and-scipy-optimization-with-fmin-bfgs\n",
    "---"
   ]
  },
  {
   "cell_type": "code",
   "execution_count": 103,
   "metadata": {},
   "outputs": [],
   "source": [
    "from scipy.optimize import minimize # optimization BFGS"
   ]
  },
  {
   "cell_type": "code",
   "execution_count": 116,
   "metadata": {},
   "outputs": [],
   "source": [
    "def nll(coe): # dev = dev(438,3) inv = inv (438,9), coe = coe ( 11 parameters  = 2 constant + 9 variables )\n",
    "    \n",
    "    num_of_sample = dev.shape[0]                        #  438\n",
    "    constant = np.ones((num_of_sample, 1))              # (438, 1)\n",
    "    \n",
    "    dev1_X = np.hstack((constant,inv))                  # dev1.shape (438, 10)\n",
    "    dev2_X = np.hstack((constant,inv))                  # dev2.shape (438, 10)\n",
    "    dev3_X = inv                                        # dev3.shape (438,  9) # no constant = base group \n",
    "                                                        # numpy.hstack(tup) : stack arrays in sequence horizontally (column wise). \n",
    "    \n",
    "    coe1 = np.hstack((coe[0], coe[2:])).reshape(inv.shape[1]+1,1)   # coe1.shape (10,1)\n",
    "    coe2 = np.hstack((coe[1], coe[2:])).reshape(inv.shape[1]+1,1)   # coe2.shape (10,1)\n",
    "    coe3 = coe[2:].reshape(inv.shape[1],1)                          # coe3.shape (9,1)\n",
    "    \n",
    "    observed_utility_choice1 = np.dot(dev1_X, coe1)\n",
    "    observed_utility_choice2 = np.dot(dev2_X, coe2)\n",
    "    observed_utility_choice3 = np.dot(dev3_X, coe3)\n",
    "    \n",
    "    exp_v1 =  np.exp(observed_utility_choice1)\n",
    "    exp_v2 =  np.exp(observed_utility_choice2)\n",
    "    exp_v3 =  np.exp(observed_utility_choice3)\n",
    "    \n",
    "    exp_v_sum = exp_v1 + exp_v2 + exp_v3                             # Denominator (438, 1)\n",
    "    \n",
    "    p_dev1 = exp_v1/exp_v_sum                                        # (438, 1)\n",
    "    p_dev2 = exp_v2/exp_v_sum\n",
    "    p_dev3 = exp_v3/exp_v_sum\n",
    "    \n",
    "    likelihood = np.multiply(p_dev1, dev[:,0].reshape(num_of_sample,1))  + np.multiply(p_dev2, dev[:,1].reshape(num_of_sample,1)) + np.multiply(p_dev3, dev[:,2].reshape(num_of_sample,1))\n",
    "    \n",
    "    negative_log_likelihood = -np.sum(np.log(likelihood))\n",
    "    \n",
    "    return negative_log_likelihood"
   ]
  },
  {
   "cell_type": "code",
   "execution_count": 152,
   "metadata": {},
   "outputs": [
    {
     "name": "stdout",
     "output_type": "stream",
     "text": [
      "      fun: 341.5822926654646\n",
      " hess_inv: array([[ 2.98725454e-02,  2.64220305e-02, -1.80146034e-06, -6.88516518e-04, -6.88516518e-04,  0.00000000e+00, -1.84565544e-06, -6.88516518e-04, -6.88516518e-04, -6.88472322e-04,  0.00000000e+00],\n",
      "       [ 2.64220305e-02,  3.70333321e-02, -1.47027777e-06, -2.41094255e-04, -2.41094255e-04,  0.00000000e+00, -1.48158340e-06, -2.41094255e-04, -2.41094255e-04, -2.41082950e-04,  0.00000000e+00],\n",
      "       [-1.80146034e-06, -1.47027777e-06,  9.99999996e-01,  4.02573243e-08,  4.02573243e-08,  0.00000000e+00, -4.46605876e-09,  4.02573243e-08,  4.02573243e-08,  4.02544087e-08,  0.00000000e+00],\n",
      "       [-6.88516518e-04, -2.41094255e-04,  4.02573243e-08,  1.00000009e+00,  8.85110634e-08,  0.00000000e+00,  4.20239677e-08,  8.85110634e-08,  8.85110634e-08,  8.67444199e-08,  0.00000000e+00],\n",
      "       [-6.88516518e-04, -2.41094255e-04,  4.02573243e-08,  8.85110634e-08,  1.00000009e+00,  0.00000000e+00,  4.20239677e-08,  8.85110634e-08,  8.85110634e-08,  8.67444199e-08,  0.00000000e+00],\n",
      "       [ 0.00000000e+00,  0.00000000e+00,  0.00000000e+00,  0.00000000e+00,  0.00000000e+00,  1.00000000e+00,  0.00000000e+00,  0.00000000e+00,  0.00000000e+00,  0.00000000e+00,  0.00000000e+00],\n",
      "       [-1.84565544e-06, -1.48158340e-06, -4.46605876e-09,  4.20239677e-08,  4.20239677e-08,  0.00000000e+00,  9.99999996e-01,  4.20239677e-08,  4.20239677e-08,  4.20210369e-08,  0.00000000e+00],\n",
      "       [-6.88516518e-04, -2.41094255e-04,  4.02573243e-08,  8.85110634e-08,  8.85110634e-08,  0.00000000e+00,  4.20239677e-08,  1.00000009e+00,  8.85110634e-08,  8.67444199e-08,  0.00000000e+00],\n",
      "       [-6.88516518e-04, -2.41094255e-04,  4.02573243e-08,  8.85110634e-08,  8.85110634e-08,  0.00000000e+00,  4.20239677e-08,  8.85110634e-08,  1.00000009e+00,  8.67444199e-08,  0.00000000e+00],\n",
      "       [-6.88472322e-04, -2.41082950e-04,  4.02544087e-08,  8.67444199e-08,  8.67444199e-08,  0.00000000e+00,  4.20210369e-08,  8.67444199e-08,  8.67444199e-08,  1.00000008e+00,  0.00000000e+00],\n",
      "       [ 0.00000000e+00,  0.00000000e+00,  0.00000000e+00,  0.00000000e+00,  0.00000000e+00,  0.00000000e+00,  0.00000000e+00,  0.00000000e+00,  0.00000000e+00,  0.00000000e+00,  1.00000000e+00]])\n",
      "      jac: array([-3.81469727e-06, -3.81469727e-06,  0.00000000e+00,  0.00000000e+00,  0.00000000e+00,  0.00000000e+00,  0.00000000e+00,  0.00000000e+00,  0.00000000e+00,  0.00000000e+00,  0.00000000e+00])\n",
      "  message: 'Optimization terminated successfully.'\n",
      "     nfev: 130\n",
      "      nit: 8\n",
      "     njev: 10\n",
      "   status: 0\n",
      "  success: True\n",
      "        x: array([2.12565424e+00, 8.99941439e-01, 9.96045108e-04, 9.90874696e-04, 9.90874696e-04, 1.00000000e-03, 9.94723011e-04, 9.90874696e-04, 9.90874696e-04, 9.92196793e-04, 1.00000000e-03])\n"
     ]
    }
   ],
   "source": [
    "optimization_output = minimize(nll, x0=coe, method='bfgs')\n",
    "print(optimization_output)"
   ]
  },
  {
   "cell_type": "code",
   "execution_count": 153,
   "metadata": {},
   "outputs": [
    {
     "name": "stdout",
     "output_type": "stream",
     "text": [
      "coefficient :\n",
      " [2.12565424e+00 8.99941439e-01 9.96045108e-04 9.90874696e-04 9.90874696e-04 1.00000000e-03 9.94723011e-04 9.90874696e-04 9.90874696e-04 9.92196793e-04 1.00000000e-03]\n"
     ]
    }
   ],
   "source": [
    "print('coefficient :\\n', optimization_output.x)"
   ]
  },
  {
   "cell_type": "code",
   "execution_count": 154,
   "metadata": {},
   "outputs": [
    {
     "name": "stdout",
     "output_type": "stream",
     "text": [
      "inverse hessian matrix :\n",
      " [[ 2.98725454e-02  2.64220305e-02 -1.80146034e-06 -6.88516518e-04 -6.88516518e-04  0.00000000e+00 -1.84565544e-06 -6.88516518e-04 -6.88516518e-04 -6.88472322e-04  0.00000000e+00]\n",
      " [ 2.64220305e-02  3.70333321e-02 -1.47027777e-06 -2.41094255e-04 -2.41094255e-04  0.00000000e+00 -1.48158340e-06 -2.41094255e-04 -2.41094255e-04 -2.41082950e-04  0.00000000e+00]\n",
      " [-1.80146034e-06 -1.47027777e-06  9.99999996e-01  4.02573243e-08  4.02573243e-08  0.00000000e+00 -4.46605876e-09  4.02573243e-08  4.02573243e-08  4.02544087e-08  0.00000000e+00]\n",
      " [-6.88516518e-04 -2.41094255e-04  4.02573243e-08  1.00000009e+00  8.85110634e-08  0.00000000e+00  4.20239677e-08  8.85110634e-08  8.85110634e-08  8.67444199e-08  0.00000000e+00]\n",
      " [-6.88516518e-04 -2.41094255e-04  4.02573243e-08  8.85110634e-08  1.00000009e+00  0.00000000e+00  4.20239677e-08  8.85110634e-08  8.85110634e-08  8.67444199e-08  0.00000000e+00]\n",
      " [ 0.00000000e+00  0.00000000e+00  0.00000000e+00  0.00000000e+00  0.00000000e+00  1.00000000e+00  0.00000000e+00  0.00000000e+00  0.00000000e+00  0.00000000e+00  0.00000000e+00]\n",
      " [-1.84565544e-06 -1.48158340e-06 -4.46605876e-09  4.20239677e-08  4.20239677e-08  0.00000000e+00  9.99999996e-01  4.20239677e-08  4.20239677e-08  4.20210369e-08  0.00000000e+00]\n",
      " [-6.88516518e-04 -2.41094255e-04  4.02573243e-08  8.85110634e-08  8.85110634e-08  0.00000000e+00  4.20239677e-08  1.00000009e+00  8.85110634e-08  8.67444199e-08  0.00000000e+00]\n",
      " [-6.88516518e-04 -2.41094255e-04  4.02573243e-08  8.85110634e-08  8.85110634e-08  0.00000000e+00  4.20239677e-08  8.85110634e-08  1.00000009e+00  8.67444199e-08  0.00000000e+00]\n",
      " [-6.88472322e-04 -2.41082950e-04  4.02544087e-08  8.67444199e-08  8.67444199e-08  0.00000000e+00  4.20210369e-08  8.67444199e-08  8.67444199e-08  1.00000008e+00  0.00000000e+00]\n",
      " [ 0.00000000e+00  0.00000000e+00  0.00000000e+00  0.00000000e+00  0.00000000e+00  0.00000000e+00  0.00000000e+00  0.00000000e+00  0.00000000e+00  0.00000000e+00  1.00000000e+00]]\n"
     ]
    }
   ],
   "source": [
    "print('inverse hessian matrix :\\n', optimization_output.hess_inv)"
   ]
  },
  {
   "cell_type": "code",
   "execution_count": 155,
   "metadata": {},
   "outputs": [
    {
     "name": "stdout",
     "output_type": "stream",
     "text": [
      "stand error of coefficient :\n",
      " [0.17283676 0.19244046 1.         1.00000004 1.00000004 1.         1.         1.00000004 1.00000004 1.00000004 1.        ]\n"
     ]
    }
   ],
   "source": [
    "print('stand error of coefficient :\\n', np.sqrt(optimization_output.hess_inv.diagonal()))"
   ]
  },
  {
   "cell_type": "code",
   "execution_count": 156,
   "metadata": {},
   "outputs": [
    {
     "name": "stdout",
     "output_type": "stream",
     "text": [
      "t-value :\n",
      " [1.22986235e+01 4.67646680e+00 9.96045111e-04 9.90874652e-04 9.90874652e-04 1.00000000e-03 9.94723013e-04 9.90874652e-04 9.90874652e-04 9.92196751e-04 1.00000000e-03]\n"
     ]
    }
   ],
   "source": [
    "print('t-value :\\n', optimization_output.x / np.sqrt(optimization_output.hess_inv.diagonal()))"
   ]
  },
  {
   "cell_type": "code",
   "execution_count": 157,
   "metadata": {},
   "outputs": [
    {
     "name": "stdout",
     "output_type": "stream",
     "text": [
      "pvalue:  [0.0, 0.0, 0.9992, 0.9992, 0.9992, 0.9992, 0.9992, 0.9992, 0.9992, 0.9992, 0.9992]\n"
     ]
    }
   ],
   "source": [
    "from scipy import stats\n",
    "\n",
    "tt = optimization_output.x / np.sqrt(optimization_output.hess_inv.diagonal())\n",
    "p_value_list = []\n",
    "for i in range(len(tt)):\n",
    "    pval = stats.t.sf(np.abs(tt[i]), num_of_sample-1)*2  # two-sided pvalue = Prob(abs(t)>tt)\n",
    "    pval = round(pval, 4)\n",
    "    p_value_list.append(pval)\n",
    "p_values = np.asarray(p_value_list, dtype=np.float32)\n",
    "print('pvalue: ', p_value_list)"
   ]
  },
  {
   "cell_type": "code",
   "execution_count": 158,
   "metadata": {},
   "outputs": [
    {
     "data": {
      "text/plain": [
       "[array([2.12565424e+00, 8.99941439e-01, 9.96045108e-04, 9.90874696e-04, 9.90874696e-04, 1.00000000e-03, 9.94723011e-04, 9.90874696e-04, 9.90874696e-04, 9.92196793e-04, 1.00000000e-03]),\n",
       " array([0.17283676, 0.19244046, 1.        , 1.00000004, 1.00000004, 1.        , 1.        , 1.00000004, 1.00000004, 1.00000004, 1.        ]),\n",
       " array([1.22986235e+01, 4.67646680e+00, 9.96045111e-04, 9.90874652e-04, 9.90874652e-04, 1.00000000e-03, 9.94723013e-04, 9.90874652e-04, 9.90874652e-04, 9.92196751e-04, 1.00000000e-03]),\n",
       " array([0.    , 0.    , 0.9992, 0.9992, 0.9992, 0.9992, 0.9992, 0.9992, 0.9992, 0.9992, 0.9992], dtype=float32)]"
      ]
     },
     "execution_count": 158,
     "metadata": {},
     "output_type": "execute_result"
    }
   ],
   "source": [
    "table =[]\n",
    "table.append(optimization_output.x)\n",
    "table.append(np.sqrt(optimization_output.hess_inv.diagonal()))\n",
    "table.append(optimization_output.x / np.sqrt(optimization_output.hess_inv.diagonal()))\n",
    "table.append(p_values)\n",
    "table"
   ]
  },
  {
   "cell_type": "code",
   "execution_count": 159,
   "metadata": {},
   "outputs": [
    {
     "data": {
      "text/html": [
       "<div>\n",
       "<style scoped>\n",
       "    .dataframe tbody tr th:only-of-type {\n",
       "        vertical-align: middle;\n",
       "    }\n",
       "\n",
       "    .dataframe tbody tr th {\n",
       "        vertical-align: top;\n",
       "    }\n",
       "\n",
       "    .dataframe thead th {\n",
       "        text-align: right;\n",
       "    }\n",
       "</style>\n",
       "<table border=\"1\" class=\"dataframe\">\n",
       "  <thead>\n",
       "    <tr style=\"text-align: right;\">\n",
       "      <th></th>\n",
       "      <th>constant1</th>\n",
       "      <th>constant2</th>\n",
       "      <th>route</th>\n",
       "      <th>toll</th>\n",
       "      <th>median</th>\n",
       "      <th>female</th>\n",
       "      <th>age3050</th>\n",
       "      <th>distance</th>\n",
       "      <th>householdsize</th>\n",
       "      <th>high_income</th>\n",
       "      <th>med_income</th>\n",
       "    </tr>\n",
       "  </thead>\n",
       "  <tbody>\n",
       "    <tr>\n",
       "      <td>coefficient</td>\n",
       "      <td>2.125654</td>\n",
       "      <td>0.899941</td>\n",
       "      <td>0.000996</td>\n",
       "      <td>0.000991</td>\n",
       "      <td>0.000991</td>\n",
       "      <td>0.0010</td>\n",
       "      <td>0.000995</td>\n",
       "      <td>0.000991</td>\n",
       "      <td>0.000991</td>\n",
       "      <td>0.000992</td>\n",
       "      <td>0.0010</td>\n",
       "    </tr>\n",
       "    <tr>\n",
       "      <td>standard error</td>\n",
       "      <td>0.172837</td>\n",
       "      <td>0.192440</td>\n",
       "      <td>1.000000</td>\n",
       "      <td>1.000000</td>\n",
       "      <td>1.000000</td>\n",
       "      <td>1.0000</td>\n",
       "      <td>1.000000</td>\n",
       "      <td>1.000000</td>\n",
       "      <td>1.000000</td>\n",
       "      <td>1.000000</td>\n",
       "      <td>1.0000</td>\n",
       "    </tr>\n",
       "    <tr>\n",
       "      <td>t-value</td>\n",
       "      <td>12.298624</td>\n",
       "      <td>4.676467</td>\n",
       "      <td>0.000996</td>\n",
       "      <td>0.000991</td>\n",
       "      <td>0.000991</td>\n",
       "      <td>0.0010</td>\n",
       "      <td>0.000995</td>\n",
       "      <td>0.000991</td>\n",
       "      <td>0.000991</td>\n",
       "      <td>0.000992</td>\n",
       "      <td>0.0010</td>\n",
       "    </tr>\n",
       "    <tr>\n",
       "      <td>p-value</td>\n",
       "      <td>0.000000</td>\n",
       "      <td>0.000000</td>\n",
       "      <td>0.999200</td>\n",
       "      <td>0.999200</td>\n",
       "      <td>0.999200</td>\n",
       "      <td>0.9992</td>\n",
       "      <td>0.999200</td>\n",
       "      <td>0.999200</td>\n",
       "      <td>0.999200</td>\n",
       "      <td>0.999200</td>\n",
       "      <td>0.9992</td>\n",
       "    </tr>\n",
       "  </tbody>\n",
       "</table>\n",
       "</div>"
      ],
      "text/plain": [
       "                 constant1  constant2     route      toll    median  female  \\\n",
       "coefficient       2.125654   0.899941  0.000996  0.000991  0.000991  0.0010   \n",
       "standard error    0.172837   0.192440  1.000000  1.000000  1.000000  1.0000   \n",
       "t-value          12.298624   4.676467  0.000996  0.000991  0.000991  0.0010   \n",
       "p-value           0.000000   0.000000  0.999200  0.999200  0.999200  0.9992   \n",
       "\n",
       "                  age3050  distance  householdsize  high_income  med_income  \n",
       "coefficient      0.000995  0.000991       0.000991     0.000992      0.0010  \n",
       "standard error   1.000000  1.000000       1.000000     1.000000      1.0000  \n",
       "t-value          0.000995  0.000991       0.000991     0.000992      0.0010  \n",
       "p-value          0.999200  0.999200       0.999200     0.999200      0.9992  "
      ]
     },
     "execution_count": 159,
     "metadata": {},
     "output_type": "execute_result"
    }
   ],
   "source": [
    "mlogit_output_df = pd.DataFrame(table, columns = ['constant1' , 'constant2', 'route', 'toll', 'median', 'female', 'age3050', 'distance', 'householdsize', 'high_income', 'med_income'], index=['coefficient', 'standard error ', 't-value' , 'p-value'])\n",
    "mlogit_output_df"
   ]
  },
  {
   "cell_type": "markdown",
   "metadata": {},
   "source": [
    "---\n",
    "# Interpretation"
   ]
  },
  {
   "cell_type": "markdown",
   "metadata": {},
   "source": [
    "* Only ASC is significant, it may not converge, coding is reasonable but model should be redefined but this is homework so it is okay\n",
    "* It should put something more alternative specific feature variables, even though the same alternative the toll(=financial cost) are not following the variation of \n",
    "  alternative changes. \n",
    "* It may better to apply this model with alternative specific price and feature can be comparable such as food1, food2, food3. or car1, car2. car3. \n",
    "---"
   ]
  }
 ],
 "metadata": {
  "kernelspec": {
   "display_name": "Python 3",
   "language": "python",
   "name": "python3"
  },
  "language_info": {
   "codemirror_mode": {
    "name": "ipython",
    "version": 3
   },
   "file_extension": ".py",
   "mimetype": "text/x-python",
   "name": "python",
   "nbconvert_exporter": "python",
   "pygments_lexer": "ipython3",
   "version": "3.7.6"
  }
 },
 "nbformat": 4,
 "nbformat_minor": 4
}
