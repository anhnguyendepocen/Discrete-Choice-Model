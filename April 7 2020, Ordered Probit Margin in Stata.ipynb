{
 "cells": [
  {
   "cell_type": "markdown",
   "metadata": {},
   "source": [
    "---\n",
    "# April 7 2020, Ordered Probit Margin in Stata\n",
    "---\n",
    "* Name: Jikhan Jeong\n",
    "* This is for preliminary test\n",
    "---\n",
    "* Margins: using **spost13**\n",
    "* Ref: https://www3.nd.edu/~rwilliam/stats3/Margins05.pdf\n",
    "---"
   ]
  },
  {
   "cell_type": "markdown",
   "metadata": {},
   "source": [
    "# download package : spost13_ado"
   ]
  },
  {
   "cell_type": "code",
   "execution_count": 16,
   "metadata": {},
   "outputs": [
    {
     "name": "stdout",
     "output_type": "stream",
     "text": [
      "\n",
      "Search of official help files, FAQs, Examples, SJs, and STBs\n",
      "------------------------------------------------------------\n",
      "\n",
      "Web resources from Stata and other users\n",
      "----------------------------------------\n",
      "\n",
      "(contacting http://www.stata.com)\n",
      "\n",
      "2 packages found (Stata Journal and STB listed first)\n",
      "-----------------------------------------------------\n",
      "\n",
      "spost13_ado from https://jslsoc.sitehost.iu.edu/stata\n",
      "    Distribution-date: 05Apr2019 / spost13_ado | SPost13 commands from Long\n",
      "    and Freese (2014) / Regression Models for Categorical Outcomes using\n",
      "    Stata, 3rd Edition. / Support www.indiana.edu/~jslsoc/spost.htm / Scott\n",
      "    Long (jslong@indiana.edu) & Jeremy Freese (jfreese@northwestern.edu)\n",
      "\n",
      "spost9_legacy from https://jslsoc.sitehost.iu.edu/stata\n",
      "    Distribution-date: 18Feb2014 / spost9_legacy | SPost9 commands not\n",
      "    included in spost13_ado. / From Long and Freese, 2014, Regression Models\n",
      "    for Categorical Outcomes / using Stata, 3rd Edition. / Support\n",
      "    www.indiana.edu/~jslsoc/spost.htm / Scott Long (jslong@indiana.edu) &\n",
      "\n",
      "\n",
      "(end of search)\n"
     ]
    }
   ],
   "source": [
    "findit spost13_ado"
   ]
  },
  {
   "cell_type": "code",
   "execution_count": 17,
   "metadata": {},
   "outputs": [
    {
     "name": "stdout",
     "output_type": "stream",
     "text": [
      "\n",
      "Search of official help files, FAQs, Examples, SJs, and STBs\n",
      "------------------------------------------------------------\n",
      "\n",
      "Web resources from Stata and other users\n",
      "----------------------------------------\n",
      "\n",
      "(contacting http://www.stata.com)\n",
      "\n",
      "3 packages found (Stata Journal and STB listed first)\n",
      "-----------------------------------------------------\n",
      "\n",
      "st0403_1 from http://www.stata-journal.com/software/sj16-2\n",
      "    SJ16-2 st0403_1. Update: Creates tables of summary... / Update: Creates\n",
      "    tables of summary statistics / by Lauren J Scott, Clinical Trials and /\n",
      "    Evaluation Unit, University of Bristol, / Bristol, UK / Chris A Rogers,\n",
      "    Clinical Trials and / Evaluation Unit, University of Bristol, / Bristol,\n",
      "\n",
      "st0403 from http://www.stata-journal.com/software/sj15-3\n",
      "    SJ15-3 st0403. Creates tables of summary... / Creates tables of summary\n",
      "    statistics / by Lauren J Scott, Clinical Trials and / Evaluation Unit,\n",
      "    University of Bristol, / Bristol, UK / Chris A Rogers, Clinical Trials and\n",
      "    / Evaluation Unit, University of Bristol, / Bristol, UK / Support:\n",
      "\n",
      "spost13_ado from https://jslsoc.sitehost.iu.edu/stata\n",
      "    Distribution-date: 05Apr2019 / spost13_ado | SPost13 commands from Long\n",
      "    and Freese (2014) / Regression Models for Categorical Outcomes using\n",
      "    Stata, 3rd Edition. / Support www.indiana.edu/~jslsoc/spost.htm / Scott\n",
      "    Long (jslong@indiana.edu) & Jeremy Freese (jfreese@northwestern.edu)\n",
      "\n",
      "\n",
      "(end of search)\n"
     ]
    }
   ],
   "source": [
    "findit mtable"
   ]
  },
  {
   "cell_type": "markdown",
   "metadata": {},
   "source": [
    "# Load Data from web"
   ]
  },
  {
   "cell_type": "code",
   "execution_count": 1,
   "metadata": {},
   "outputs": [],
   "source": [
    "webuse nhanes2f, clear"
   ]
  },
  {
   "cell_type": "code",
   "execution_count": 3,
   "metadata": {},
   "outputs": [
    {
     "name": "stdout",
     "output_type": "stream",
     "text": [
      "(2 observations deleted)\n"
     ]
    }
   ],
   "source": [
    "keep if !missing(diabetes, black, female, age)"
   ]
  },
  {
   "cell_type": "code",
   "execution_count": null,
   "metadata": {},
   "outputs": [],
   "source": [
    "label define black 0 \"white\" 1 \"black\"\n",
    "label define feman 0 \"boy\"   1 \"girl\"\n",
    "label values black black\n",
    "label values female female"
   ]
  },
  {
   "cell_type": "code",
   "execution_count": 9,
   "metadata": {},
   "outputs": [
    {
     "name": "stdout",
     "output_type": "stream",
     "text": [
      "\n",
      "1=poor,..., |\n",
      "5=excellent |      Freq.     Percent        Cum.\n",
      "------------+-----------------------------------\n",
      "       poor |        729        7.05        7.05\n",
      "       fair |      1,670       16.16       23.21\n",
      "    average |      2,938       28.43       51.64\n",
      "       good |      2,591       25.07       76.71\n",
      "  excellent |      2,407       23.29      100.00\n",
      "------------+-----------------------------------\n",
      "      Total |     10,335      100.00\n"
     ]
    }
   ],
   "source": [
    "tab health"
   ]
  },
  {
   "cell_type": "code",
   "execution_count": 11,
   "metadata": {},
   "outputs": [
    {
     "name": "stdout",
     "output_type": "stream",
     "text": [
      "\n",
      "    Variable |        Obs        Mean    Std. Dev.       Min        Max\n",
      "-------------+---------------------------------------------------------\n",
      "       sampl |     10,335     33613.1     18412.9       1400      64709\n",
      "     stratid |     10,335    16.65776    9.498987          1         32\n",
      "       psuid |     10,335    1.482148    .4997054          1          2\n",
      "      region |     10,335    2.582293    1.074619          1          4\n",
      "        smsa |     10,335     2.65612    1.282365          1          4\n",
      "-------------+---------------------------------------------------------\n",
      "    location |     10,335    33.05302    18.41314          1         64\n",
      "     houssiz |     10,335    2.944461    1.695693          1         14\n",
      "         sex |     10,335    1.525012    .4993982          1          2\n",
      "        race |     10,335    1.143783    .4022794          1          3\n",
      "         age |     10,335    47.56584    17.21752         20         74\n",
      "-------------+---------------------------------------------------------\n",
      "      height |     10,335     167.653    9.659783      135.5        200\n",
      "      weight |     10,335    71.90313    15.35578      30.84     175.88\n",
      "    bpsystol |     10,335    130.8876    23.34097         65        300\n",
      "     bpdiast |     10,335    81.71959    12.93227         35        150\n",
      "    tcresult |     10,335    217.6625    49.39867         80        828\n",
      "-------------+---------------------------------------------------------\n",
      "    tgresult |      5,043     143.929    96.51059         16       2238\n",
      "    hdresult |      8,706    49.63956    14.29412         15        187\n",
      "         hgb |     10,335    14.26014    1.385079        6.9       20.2\n",
      "         hct |     10,335    41.98609    3.674507       20.2       60.7\n",
      "        tibc |     10,335    367.0129    55.60782        157        792\n",
      "-------------+---------------------------------------------------------\n",
      "        iron |     10,335    99.45235    34.07746         16        321\n",
      "      health |     10,335    3.413836    1.206196          1          5\n",
      "    heartatk |     10,335    .0457668    .2089891          0          1\n",
      "    diabetes |     10,335    .0482825     .214373          0          1\n",
      "    sizplace |     10,335    5.165554    2.660591          1          8\n",
      "-------------+---------------------------------------------------------\n",
      "    finalwgt |     10,335    11320.49    7305.111       2000      79634\n",
      "      leadwt |     10,335    11284.05    15012.99          0      81601\n",
      "    corpuscl |     10,246    89.96682    5.528002       58.3      125.9\n",
      "    trnsfern |     10,335    27.60291    10.04086        3.1       94.3\n",
      "     albumin |     10,004    4.669102    .3312085          3        5.8\n",
      "-------------+---------------------------------------------------------\n",
      "    vitaminc |      9,957     1.03482    .5815375         .1       18.1\n",
      "        zinc |      9,188    86.51382    14.48209         43        240\n",
      "      copper |      9,116    125.6266    32.52586         37        346\n",
      "    porphyrn |     10,255    53.67216    25.72928         20       1307\n",
      "        lead |      4,940    14.32287    6.167599          2         80\n",
      "-------------+---------------------------------------------------------\n",
      "      female |     10,335    .5250121    .4993982          0          1\n",
      "       black |     10,335    .1050798    .3066711          0          1\n",
      "       orace |     10,335    .0193517    .1377645          0          1\n",
      "      fhtatk |      5,426    .0291191    .1681557          0          1\n",
      "      hsizgp |     10,335    2.791485    1.332393          1          5\n",
      "-------------+---------------------------------------------------------\n",
      "       hsiz1 |     10,335    .1670053    .3729987          0          1\n",
      "       hsiz2 |     10,335    .3506531    .4771976          0          1\n",
      "       hsiz3 |     10,335    .1680697    .3739462          0          1\n",
      "       hsiz4 |     10,335    .1523948    .3594205          0          1\n",
      "       hsiz5 |     10,335    .1618771    .3683559          0          1\n",
      "-------------+---------------------------------------------------------\n",
      "     region1 |     10,335    .2017417    .4013198          0          1\n",
      "     region2 |     10,335    .2682148    .4430515          0          1\n",
      "     region3 |     10,335    .2760522    .4470646          0          1\n",
      "     region4 |     10,335    .2539913    .4353137          0          1\n",
      "       smsa1 |     10,335    .2541848    .4354231          0          1\n",
      "-------------+---------------------------------------------------------\n",
      "       smsa2 |     10,335    .2906628    .4540902          0          1\n",
      "       smsa3 |     10,335    .4551524    .4980087          0          1\n",
      "       rural |     10,335    .3672956    .4820913          0          1\n",
      "     loglead |      4,940    2.577931     .411551   .6931472   4.382027\n",
      "      highbp |     10,335    .4230285    .4940638          0          1\n",
      "-------------+---------------------------------------------------------\n",
      "      agegrp |     10,335    3.356846    1.736067          1          6\n",
      "    highlead |      4,940    .0593117    .2362311          0          1\n",
      "        age2 |     10,335    2558.924    1616.804        400       5476\n"
     ]
    }
   ],
   "source": [
    "sum"
   ]
  },
  {
   "cell_type": "markdown",
   "metadata": {},
   "source": [
    "# Ordered Probit"
   ]
  },
  {
   "cell_type": "code",
   "execution_count": 22,
   "metadata": {},
   "outputs": [
    {
     "name": "stdout",
     "output_type": "stream",
     "text": [
      "\n",
      "Ordered probit regression                       Number of obs     =     10,335\n",
      "                                                LR chi2(4)        =    1776.81\n",
      "                                                Prob > chi2       =     0.0000\n",
      "Log likelihood = -14875.994                     Pseudo R2         =     0.0564\n",
      "\n",
      "------------------------------------------------------------------------------\n",
      "      health |      Coef.   Std. Err.      z    P>|z|     [95% Conf. Interval]\n",
      "-------------+----------------------------------------------------------------\n",
      "    1.female |   .1158121   .0297706     3.89   0.000     .0574629    .1741613\n",
      "     1.black |  -.5194143   .0339751   -15.29   0.000    -.5860043   -.4528243\n",
      "         age |  -.0230313   .0006503   -35.42   0.000    -.0243058   -.0217568\n",
      "      height |   .0134183   .0015762     8.51   0.000     .0103291    .0165075\n",
      "-------------+----------------------------------------------------------------\n",
      "       /cut1 |  -.4679502   .2853278                     -1.027182     .091282\n",
      "       /cut2 |   .3512896   .2850358                     -.2073703    .9099496\n",
      "       /cut3 |   1.213525   .2851684                      .6546054    1.772445\n",
      "       /cut4 |   1.967917   .2854572                      1.408431    2.527403\n",
      "------------------------------------------------------------------------------\n"
     ]
    }
   ],
   "source": [
    "oprobit health i.female i.black c.age height, nolog"
   ]
  },
  {
   "cell_type": "markdown",
   "metadata": {},
   "source": [
    "---\n",
    "# Margin \n",
    "---\n",
    "* Average Adjusted Predictions (AAP)\n",
    "* All other things are equal than in the case of health 1, white's predicted prediction is 0.06, black's predicted predcition is 0.14"
   ]
  },
  {
   "cell_type": "code",
   "execution_count": 23,
   "metadata": {},
   "outputs": [
    {
     "name": "stdout",
     "output_type": "stream",
     "text": [
      "\n",
      "Predictive margins                              Number of obs     =     10,335\n",
      "Model VCE    : OIM\n",
      "\n",
      "1._predict   : Pr(health==1), predict(pr outcome(1))\n",
      "2._predict   : Pr(health==2), predict(pr outcome(2))\n",
      "3._predict   : Pr(health==3), predict(pr outcome(3))\n",
      "4._predict   : Pr(health==4), predict(pr outcome(4))\n",
      "5._predict   : Pr(health==5), predict(pr outcome(5))\n",
      "\n",
      "--------------------------------------------------------------------------------\n",
      "               |            Delta-method\n",
      "               |     Margin   Std. Err.      z    P>|z|     [95% Conf. Interval]\n",
      "---------------+----------------------------------------------------------------\n",
      "_predict#black |\n",
      "          1 0  |    .061223    .002286    26.78   0.000     .0567424    .0657035\n",
      "          1 1  |   .1434628   .0073469    19.53   0.000     .1290631    .1578626\n",
      "          2 0  |   .1537535   .0034582    44.46   0.000     .1469754    .1605315\n",
      "          2 1  |   .2334829   .0063836    36.58   0.000     .2209712    .2459945\n",
      "          3 0  |   .2849093   .0043937    64.85   0.000     .2762979    .2935207\n",
      "          3 1  |   .3052929   .0047344    64.48   0.000     .2960136    .3145722\n",
      "          4 0  |   .2546002   .0043051    59.14   0.000     .2461624     .263038\n",
      "          4 1  |    .195615   .0054814    35.69   0.000     .1848716    .2063584\n",
      "          5 0  |    .245514   .0041643    58.96   0.000     .2373521    .2536759\n",
      "          5 1  |   .1221464   .0063287    19.30   0.000     .1097424    .1345504\n",
      "--------------------------------------------------------------------------------\n"
     ]
    }
   ],
   "source": [
    "margins black"
   ]
  },
  {
   "cell_type": "markdown",
   "metadata": {},
   "source": [
    "# AMEs (Average Marginal Effect)"
   ]
  },
  {
   "cell_type": "code",
   "execution_count": 27,
   "metadata": {},
   "outputs": [
    {
     "name": "stdout",
     "output_type": "stream",
     "text": [
      "\n",
      "Average marginal effects                        Number of obs     =     10,335\n",
      "Model VCE    : OIM\n",
      "\n",
      "dy/dx w.r.t. : 1.black\n",
      "1._predict   : Pr(health==1), predict(pr outcome(1))\n",
      "2._predict   : Pr(health==2), predict(pr outcome(2))\n",
      "3._predict   : Pr(health==3), predict(pr outcome(3))\n",
      "4._predict   : Pr(health==4), predict(pr outcome(4))\n",
      "5._predict   : Pr(health==5), predict(pr outcome(5))\n",
      "\n",
      "------------------------------------------------------------------------------\n",
      "             |            Delta-method\n",
      "             |      dy/dx   Std. Err.      z    P>|z|     [95% Conf. Interval]\n",
      "-------------+----------------------------------------------------------------\n",
      "1.black      |\n",
      "    _predict |\n",
      "          1  |   .0822399   .0068773    11.96   0.000     .0687607    .0957191\n",
      "          2  |   .0797294   .0051358    15.52   0.000     .0696634    .0897954\n",
      "          3  |   .0203835   .0014629    13.93   0.000     .0175163    .0232508\n",
      "          4  |  -.0589852   .0047444   -12.43   0.000    -.0682841   -.0496863\n",
      "          5  |  -.1233676   .0067561   -18.26   0.000    -.1366092    -.110126\n",
      "------------------------------------------------------------------------------\n",
      "Note: dy/dx for factor levels is the discrete change from the base level.\n"
     ]
    }
   ],
   "source": [
    "* (Binary dummy) changing race from 0 white to 1 black, how much predicted prob of each level of ordered dependent variable changes\n",
    "margins,dydx(black)"
   ]
  },
  {
   "cell_type": "code",
   "execution_count": 35,
   "metadata": {},
   "outputs": [
    {
     "name": "stdout",
     "output_type": "stream",
     "text": [
      "\n",
      "Average marginal effects                        Number of obs     =     10,335\n",
      "Model VCE    : OIM\n",
      "\n",
      "dy/dx w.r.t. : height\n",
      "1._predict   : Pr(health==1), predict(pr outcome(1))\n",
      "2._predict   : Pr(health==2), predict(pr outcome(2))\n",
      "3._predict   : Pr(health==3), predict(pr outcome(3))\n",
      "4._predict   : Pr(health==4), predict(pr outcome(4))\n",
      "5._predict   : Pr(health==5), predict(pr outcome(5))\n",
      "\n",
      "------------------------------------------------------------------------------\n",
      "             |            Delta-method\n",
      "             |      dy/dx   Std. Err.      z    P>|z|     [95% Conf. Interval]\n",
      "-------------+----------------------------------------------------------------\n",
      "height       |\n",
      "    _predict |\n",
      "          1  |  -.0016369   .0001971    -8.30   0.000    -.0020232   -.0012506\n",
      "          2  |  -.0020785    .000245    -8.48   0.000    -.0025588   -.0015983\n",
      "          3  |  -.0011276   .0001365    -8.26   0.000     -.001395   -.0008601\n",
      "          4  |    .001125   .0001347     8.35   0.000     .0008609    .0013891\n",
      "          5  |    .003718    .000436     8.53   0.000     .0028635    .0045726\n",
      "------------------------------------------------------------------------------\n"
     ]
    }
   ],
   "source": [
    "* (CTS variable)\n",
    "margins,dydx(height)"
   ]
  },
  {
   "cell_type": "code",
   "execution_count": 36,
   "metadata": {},
   "outputs": [
    {
     "name": "stdout",
     "output_type": "stream",
     "text": [
      "\n",
      "Adjusted predictions                            Number of obs     =     10,335\n",
      "Model VCE    : OIM\n",
      "\n",
      "1._predict   : Pr(health==1), predict(pr outcome(1))\n",
      "2._predict   : Pr(health==2), predict(pr outcome(2))\n",
      "3._predict   : Pr(health==3), predict(pr outcome(3))\n",
      "4._predict   : Pr(health==4), predict(pr outcome(4))\n",
      "5._predict   : Pr(health==5), predict(pr outcome(5))\n",
      "at           : 0.female        =    .4749879 (mean)\n",
      "               1.female        =    .5250121 (mean)\n",
      "               0.black         =    .8949202 (mean)\n",
      "               1.black         =    .1050798 (mean)\n",
      "               age             =    47.56584 (mean)\n",
      "               height          =     167.653 (mean)\n",
      "\n",
      "------------------------------------------------------------------------------\n",
      "             |            Delta-method\n",
      "             |     Margin   Std. Err.      z    P>|z|     [95% Conf. Interval]\n",
      "-------------+----------------------------------------------------------------\n",
      "    _predict |\n",
      "          1  |   .0517314   .0021285    24.30   0.000     .0475595    .0559032\n",
      "          2  |   .1575109   .0036324    43.36   0.000     .1503914    .1646303\n",
      "          3  |   .3119645   .0048097    64.86   0.000     .3025375    .3213914\n",
      "          4  |   .2691253   .0045488    59.16   0.000     .2602099    .2780407\n",
      "          5  |    .209668   .0040938    51.22   0.000     .2016443    .2176917\n",
      "------------------------------------------------------------------------------\n"
     ]
    }
   ],
   "source": [
    "* predicted probability at mean values of all indepedent varaibles (female, race, age, height) \n",
    "margins, atmean"
   ]
  }
 ],
 "metadata": {
  "kernelspec": {
   "display_name": "Stata",
   "language": "stata",
   "name": "stata"
  },
  "language_info": {
   "codemirror_mode": "stata",
   "file_extension": ".do",
   "mimetype": "text/x-stata",
   "name": "stata",
   "version": "15.1"
  }
 },
 "nbformat": 4,
 "nbformat_minor": 4
}
