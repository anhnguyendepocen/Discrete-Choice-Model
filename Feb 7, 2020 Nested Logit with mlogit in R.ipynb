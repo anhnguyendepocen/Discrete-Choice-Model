{
 "cells": [
  {
   "cell_type": "markdown",
   "metadata": {},
   "source": [
    "----\n",
    "# Feb 7, 2020 Nested Logit with mlogit in R\n",
    "* Name: Jikhan Jeong\n",
    "* Ref: https://cran.r-project.org/web/packages/mlogit/vignettes/e2nlogit.html (Author: Kenneth Train and Yves Croissant)\n",
    "* This is a repo of the above example, no modification. This is for understanding the structure of nested logit\n",
    "----"
   ]
  },
  {
   "cell_type": "code",
   "execution_count": 2,
   "metadata": {},
   "outputs": [],
   "source": [
    "library(mlogit)\n",
    "library(lmtest)"
   ]
  },
  {
   "cell_type": "markdown",
   "metadata": {},
   "source": [
    "---\n",
    "# Problem \n",
    "* The choice of heating and central cooling system for 250 (n=250)\n",
    "### Dependent Seven Alternatives as follows:\n",
    "* 1. **gccGas** : central heat with cooling,\n",
    "* 2. **ecc**    : Electric central resistence heat with cooling \n",
    "* 3. **erc**    : Electric room resistence heat with cooling \n",
    "* 4. **hpc**    : Electric heat pump, which provides cooling also\n",
    "* 5. **gc**     : Gas central heat without cooling\n",
    "* 6. **ec**     : Electric central resistence heat without cooling\n",
    "* 7. **er**     : Electric room resistence heat without cooling \n",
    "---\n",
    "### Independent \n",
    "* 1. **depvar** gives the name of the chosen alternative (dependent varaibles)\n",
    "* 2. **ich.alt** are the installation cost for the heating portion of the system,\n",
    "* 3. **icca** is the installation cost for cooling\n",
    "* 4. **och.alt** are the operating cost for the heating portion of the system\n",
    "* 5. **occa** is the operating cost for cooling\n",
    "* 6. **income** is the annual income of the household\n",
    "---"
   ]
  },
  {
   "cell_type": "markdown",
   "metadata": {},
   "source": [
    "- <font color = blue> **Q1**. Run a nested logit model on the data for two nests and one log-sum coefficient that applies to both nests. \n",
    "- Nest 1: (gcc,ecc, erc, hpc)  \n",
    "- Nest 2: (gc,ec,er}) "
   ]
  },
  {
   "cell_type": "code",
   "execution_count": 6,
   "metadata": {},
   "outputs": [],
   "source": [
    "data(\"HC\", package = \"mlogit\")"
   ]
  },
  {
   "cell_type": "code",
   "execution_count": 8,
   "metadata": {},
   "outputs": [],
   "source": [
    "HC <- mlogit.data(HC, varying = c(2:8, 10:16), choice = \"depvar\", shape = \"wide\")"
   ]
  },
  {
   "cell_type": "code",
   "execution_count": 10,
   "metadata": {},
   "outputs": [],
   "source": [
    "cooling.modes <- index(HC)$alt %in% c('gcc', 'ecc', 'erc', 'hpc')\n",
    "room.modes <- index(HC)$alt %in% c('erc', 'er')"
   ]
  },
  {
   "cell_type": "code",
   "execution_count": null,
   "metadata": {},
   "outputs": [],
   "source": [
    "# installation / operating costs for cooling are constants, \n",
    "# only relevant for mixed systems"
   ]
  },
  {
   "cell_type": "code",
   "execution_count": 11,
   "metadata": {},
   "outputs": [],
   "source": [
    "HC$icca[!cooling.modes] <- 0\n",
    "HC$occa[!cooling.modes] <- 0"
   ]
  },
  {
   "cell_type": "code",
   "execution_count": 12,
   "metadata": {},
   "outputs": [],
   "source": [
    "# create income variables for two sets cooling and rooms\n",
    "HC$inc.cooling <- HC$inc.room <- 0\n",
    "HC$inc.cooling[cooling.modes] <- HC$income[cooling.modes]\n",
    "HC$inc.room[room.modes] <- HC$income[room.modes]"
   ]
  },
  {
   "cell_type": "code",
   "execution_count": 13,
   "metadata": {},
   "outputs": [],
   "source": [
    "# create an intercet for cooling modes\n",
    "HC$int.cooling <- as.numeric(cooling.modes)"
   ]
  },
  {
   "cell_type": "code",
   "execution_count": 14,
   "metadata": {},
   "outputs": [
    {
     "data": {
      "text/plain": [
       "\n",
       "Call:\n",
       "mlogit(formula = depvar ~ ich + och + icca + occa + inc.room + \n",
       "    inc.cooling + int.cooling | 0, data = HC, nests = list(cooling = c(\"gcc\", \n",
       "    \"ecc\", \"erc\", \"hpc\"), other = c(\"gc\", \"ec\", \"er\")), un.nest.el = TRUE)\n",
       "\n",
       "Frequencies of alternatives:\n",
       "   ec   ecc    er   erc    gc   gcc   hpc \n",
       "0.004 0.016 0.032 0.004 0.096 0.744 0.104 \n",
       "\n",
       "bfgs method\n",
       "11 iterations, 0h:0m:0s \n",
       "g'(-H)^-1g = 7.26E-06 \n",
       "successive function values within tolerance limits \n",
       "\n",
       "Coefficients :\n",
       "             Estimate Std. Error z-value  Pr(>|z|)    \n",
       "ich         -0.554878   0.144205 -3.8478 0.0001192 ***\n",
       "och         -0.857886   0.255313 -3.3601 0.0007791 ***\n",
       "icca        -0.225079   0.144423 -1.5585 0.1191212    \n",
       "occa        -1.089458   1.219821 -0.8931 0.3717882    \n",
       "inc.room    -0.378971   0.099631 -3.8038 0.0001425 ***\n",
       "inc.cooling  0.249575   0.059213  4.2149 2.499e-05 ***\n",
       "int.cooling -6.000415   5.562423 -1.0787 0.2807030    \n",
       "iv           0.585922   0.179708  3.2604 0.0011125 ** \n",
       "---\n",
       "Signif. codes:  0 ‘***’ 0.001 ‘**’ 0.01 ‘*’ 0.05 ‘.’ 0.1 ‘ ’ 1\n",
       "\n",
       "Log-Likelihood: -178.12"
      ]
     },
     "metadata": {},
     "output_type": "display_data"
    }
   ],
   "source": [
    "# estimate the model with only one nest elasticity\n",
    "nl <- mlogit(depvar ~ ich + och +icca + occa + inc.room + inc.cooling + int.cooling | 0, HC,\n",
    "             nests = list(cooling = c('gcc','ecc','erc','hpc'), \n",
    "             other = c('gc', 'ec', 'er')), un.nest.el = TRUE) # un.nest.el = True = the same log sume\n",
    "summary(nl)"
   ]
  },
  {
   "cell_type": "markdown",
   "metadata": {},
   "source": [
    "---\n",
    "#### A. The estimated log-sum coefficient is −0.59. What does this estimate tell you about the degree of correlation in unobserved factors over alternatives within each nest?\n",
    "* (Ans) The correlation is approximately 1−0.59=0.41. It’s a moderate correlation.\n",
    "---"
   ]
  },
  {
   "cell_type": "markdown",
   "metadata": {},
   "source": [
    "#### B. Test the hypothesis that the log-sum coefficient is 1.0 (the value that it takes for a standard logit model.) Can the hypothesis that the true model is standard logit be rejected?\n",
    "* T-test\n",
    "* The critical value of t for 95% confidence is 1.96. So we can reject the hypothesis at 95% confidence.\n",
    "---"
   ]
  },
  {
   "cell_type": "code",
   "execution_count": 16,
   "metadata": {},
   "outputs": [
    {
     "data": {
      "text/html": [
       "<strong>iv:</strong> -2.30417141089605"
      ],
      "text/latex": [
       "\\textbf{iv:} -2.30417141089605"
      ],
      "text/markdown": [
       "**iv:** -2.30417141089605"
      ],
      "text/plain": [
       "       iv \n",
       "-2.304171 "
      ]
     },
     "metadata": {},
     "output_type": "display_data"
    }
   ],
   "source": [
    "(coef(nl)['iv'] - 1) / sqrt(vcov(nl)['iv', 'iv'])\n",
    "# vcov :  variance-covariance matrix of the main parameters of a fitted model object."
   ]
  },
  {
   "cell_type": "markdown",
   "metadata": {},
   "source": [
    "---\n",
    "#### <font color = 'blue' > Q2. the model that has the cooling alternatives in one nest and the non-cooling alternatives in the other nest (like for exercise 1), with a separate log-sum coefficient for each nest.\n",
    "* Two log sum coefficients : for each nests\n",
    "---"
   ]
  },
  {
   "cell_type": "code",
   "execution_count": 17,
   "metadata": {},
   "outputs": [],
   "source": [
    "nl3 <- update(nl, un.nest.el = FALSE)"
   ]
  },
  {
   "cell_type": "code",
   "execution_count": 18,
   "metadata": {},
   "outputs": [
    {
     "data": {
      "text/html": [
       "<table>\n",
       "<thead><tr><th scope=col>#Df</th><th scope=col>LogLik</th><th scope=col>Df</th><th scope=col>Chisq</th><th scope=col>Pr(&gt;Chisq)</th></tr></thead>\n",
       "<tbody>\n",
       "\t<tr><td>8        </td><td>-178.1247</td><td>NA       </td><td>       NA</td><td>       NA</td></tr>\n",
       "\t<tr><td>9        </td><td>-178.0368</td><td> 1       </td><td>0.1758243</td><td>0.6749866</td></tr>\n",
       "</tbody>\n",
       "</table>\n"
      ],
      "text/latex": [
       "\\begin{tabular}{r|lllll}\n",
       " \\#Df & LogLik & Df & Chisq & Pr(>Chisq)\\\\\n",
       "\\hline\n",
       "\t 8         & -178.1247 & NA        &        NA &        NA\\\\\n",
       "\t 9         & -178.0368 &  1        & 0.1758243 & 0.6749866\\\\\n",
       "\\end{tabular}\n"
      ],
      "text/markdown": [
       "\n",
       "| #Df | LogLik | Df | Chisq | Pr(>Chisq) |\n",
       "|---|---|---|---|---|\n",
       "| 8         | -178.1247 | NA        |        NA |        NA |\n",
       "| 9         | -178.0368 |  1        | 0.1758243 | 0.6749866 |\n",
       "\n"
      ],
      "text/plain": [
       "  #Df LogLik    Df Chisq     Pr(>Chisq)\n",
       "1 8   -178.1247 NA        NA        NA \n",
       "2 9   -178.0368  1 0.1758243 0.6749866 "
      ]
     },
     "metadata": {},
     "output_type": "display_data"
    }
   ],
   "source": [
    "lrtest(nl, nl3)"
   ]
  },
  {
   "cell_type": "code",
   "execution_count": 19,
   "metadata": {},
   "outputs": [
    {
     "data": {
      "text/plain": [
       "\n",
       "Call:\n",
       "mlogit(formula = depvar ~ ich + och + icca + occa + inc.room + \n",
       "    inc.cooling + int.cooling | 0, data = HC, nests = list(cooling = c(\"gcc\", \n",
       "    \"ecc\", \"erc\", \"hpc\"), other = c(\"gc\", \"ec\", \"er\")), un.nest.el = FALSE)\n",
       "\n",
       "Frequencies of alternatives:\n",
       "   ec   ecc    er   erc    gc   gcc   hpc \n",
       "0.004 0.016 0.032 0.004 0.096 0.744 0.104 \n",
       "\n",
       "bfgs method\n",
       "4 iterations, 0h:0m:0s \n",
       "g'(-H)^-1g =  1.18 \n",
       "last step couldn't find higher value \n",
       "\n",
       "Coefficients :\n",
       "             Estimate Std. Error z-value  Pr(>|z|)    \n",
       "ich         -0.562283   0.146145 -3.8474 0.0001194 ***\n",
       "och         -0.895493   0.271861 -3.2939 0.0009880 ***\n",
       "icca        -0.267062   0.150310 -1.7767 0.0756103 .  \n",
       "occa        -1.338514   1.264215 -1.0588 0.2897042    \n",
       "inc.room    -0.381441   0.096658 -3.9463 7.937e-05 ***\n",
       "inc.cooling  0.259932   0.062085  4.1867 2.830e-05 ***\n",
       "int.cooling -4.821927   5.528796 -0.8721 0.3831277    \n",
       "iv:cooling   0.611529   0.188736  3.2401 0.0011947 ** \n",
       "iv:other     0.378394   0.133617  2.8319 0.0046270 ** \n",
       "---\n",
       "Signif. codes:  0 ‘***’ 0.001 ‘**’ 0.01 ‘*’ 0.05 ‘.’ 0.1 ‘ ’ 1\n",
       "\n",
       "Log-Likelihood: -178.04"
      ]
     },
     "metadata": {},
     "output_type": "display_data"
    }
   ],
   "source": [
    "summary(nl3)"
   ]
  }
 ],
 "metadata": {
  "kernelspec": {
   "display_name": "R",
   "language": "R",
   "name": "ir"
  },
  "language_info": {
   "codemirror_mode": "r",
   "file_extension": ".r",
   "mimetype": "text/x-r-source",
   "name": "R",
   "pygments_lexer": "r",
   "version": "3.6.1"
  }
 },
 "nbformat": 4,
 "nbformat_minor": 4
}
