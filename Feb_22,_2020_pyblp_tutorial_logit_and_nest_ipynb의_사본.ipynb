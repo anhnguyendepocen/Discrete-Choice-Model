{
  "nbformat": 4,
  "nbformat_minor": 0,
  "metadata": {
    "colab": {
      "name": "Feb 22, 2020 pyblp tutorial logit and nest.ipynb의 사본",
      "provenance": [],
      "collapsed_sections": [],
      "authorship_tag": "ABX9TyMy8OdBK8Y3Mv7giWgdZ82l",
      "include_colab_link": true
    },
    "kernelspec": {
      "name": "python3",
      "display_name": "Python 3"
    }
  },
  "cells": [
    {
      "cell_type": "markdown",
      "metadata": {
        "id": "view-in-github",
        "colab_type": "text"
      },
      "source": [
        "<a href=\"https://colab.research.google.com/github/Jikhan-Jeong/Discrete-Choice-Model/blob/master/Feb_22%2C_2020_pyblp_tutorial_logit_and_nest_ipynb%EC%9D%98_%EC%82%AC%EB%B3%B8.ipynb\" target=\"_parent\"><img src=\"https://colab.research.google.com/assets/colab-badge.svg\" alt=\"Open In Colab\"/></a>"
      ]
    },
    {
      "cell_type": "markdown",
      "metadata": {
        "id": "ZgI6sbh-ReYE",
        "colab_type": "text"
      },
      "source": [
        "---\n",
        "# **Feb 22, 2020 Pyblp Tutorial**\n",
        "---\n",
        "* Name: Jikhan Jeong\n",
        "* Random Coefficients Logit Tutorial with the Automobile Data \n",
        "\n",
        "* This is for checking the result of BLP before repliation for BLP(1995) before actual replication. In sum, it is just a learning purpose and all orginal content belongs prof. Chris Conlon. I just modifies some part to easier understadning in learning purpose. Persoanlly, thank for great work to Prof. Chris Conlon\n",
        "---\n",
        "* **Part1. pyBLP Tutorial: Logit and Nested Logit Demand Estimation**\n",
        "* Ref: https://notes.quantecon.org/submission/5cd236014174bb001a39a904\n",
        "* **Part2. Random Coefficients Demand Estimation (Nero 2000 data)**\n",
        "* Ref: https://notes.quantecon.org/submission/5cd2364c4174bb001a39a905\n",
        "* **Part3. Random Coefficients Estimation of Simultaneous Supply and Demand (BLP 1995 Data)**\n",
        "* Ref: https://notes.quantecon.org/submission/5cd236974174bb001a39a906\n",
        "* **Part4. Post Estimation Counterfactuals**\n",
        "* Ref: https://notes.quantecon.org/submission/5cd236ee4174bb001a39a907\n",
        "---"
      ]
    },
    {
      "cell_type": "markdown",
      "metadata": {
        "id": "-J1hLg5sFPRq",
        "colab_type": "text"
      },
      "source": [
        "# <font color = blue> **Part1. pyBLP Tutorial: Logit and Nested Logit Demand Estimation**  </blue>\n",
        "---\n",
        "\n",
        "* Compare two simple models, the plain (IIA) logit model and the nested logit (GEV) model \n",
        "* Dataset: Fake cereal dataset of Nevo (2000).\n",
        "* Ref: https://notes.quantecon.org/submission/5cd236014174bb001a39a904\n",
        "---\n"
      ]
    },
    {
      "cell_type": "code",
      "metadata": {
        "id": "Jmdx0XKMeG_r",
        "colab_type": "code",
        "outputId": "0d8d1c56-c907-4d3d-ad1b-8c9e09de8d1e",
        "colab": {
          "base_uri": "https://localhost:8080/",
          "height": 215
        }
      },
      "source": [
        "! pip install pyblp"
      ],
      "execution_count": 0,
      "outputs": [
        {
          "output_type": "stream",
          "text": [
            "Collecting pyblp\n",
            "\u001b[?25l  Downloading https://files.pythonhosted.org/packages/cb/68/6f2b2f8ac1c77f27e22d83093fb451d24e9910ddf540b4c0a4749a545c8f/pyblp-0.8.1-py3-none-any.whl (1.6MB)\n",
            "\r\u001b[K     |▏                               | 10kB 16.1MB/s eta 0:00:01\r\u001b[K     |▍                               | 20kB 3.2MB/s eta 0:00:01\r\u001b[K     |▋                               | 30kB 4.6MB/s eta 0:00:01\r\u001b[K     |▉                               | 40kB 3.0MB/s eta 0:00:01\r\u001b[K     |█                               | 51kB 3.6MB/s eta 0:00:01\r\u001b[K     |█▎                              | 61kB 4.3MB/s eta 0:00:01\r\u001b[K     |█▌                              | 71kB 5.0MB/s eta 0:00:01\r\u001b[K     |█▊                              | 81kB 5.6MB/s eta 0:00:01\r\u001b[K     |██                              | 92kB 6.2MB/s eta 0:00:01\r\u001b[K     |██                              | 102kB 4.9MB/s eta 0:00:01\r\u001b[K     |██▎                             | 112kB 4.9MB/s eta 0:00:01\r\u001b[K     |██▌                             | 122kB 4.9MB/s eta 0:00:01\r\u001b[K     |██▊                             | 133kB 4.9MB/s eta 0:00:01\r\u001b[K     |███                             | 143kB 4.9MB/s eta 0:00:01\r\u001b[K     |███▏                            | 153kB 4.9MB/s eta 0:00:01\r\u001b[K     |███▍                            | 163kB 4.9MB/s eta 0:00:01\r\u001b[K     |███▋                            | 174kB 4.9MB/s eta 0:00:01\r\u001b[K     |███▉                            | 184kB 4.9MB/s eta 0:00:01\r\u001b[K     |████                            | 194kB 4.9MB/s eta 0:00:01\r\u001b[K     |████▏                           | 204kB 4.9MB/s eta 0:00:01\r\u001b[K     |████▍                           | 215kB 4.9MB/s eta 0:00:01\r\u001b[K     |████▋                           | 225kB 4.9MB/s eta 0:00:01\r\u001b[K     |████▉                           | 235kB 4.9MB/s eta 0:00:01\r\u001b[K     |█████                           | 245kB 4.9MB/s eta 0:00:01\r\u001b[K     |█████▎                          | 256kB 4.9MB/s eta 0:00:01\r\u001b[K     |█████▌                          | 266kB 4.9MB/s eta 0:00:01\r\u001b[K     |█████▊                          | 276kB 4.9MB/s eta 0:00:01\r\u001b[K     |██████                          | 286kB 4.9MB/s eta 0:00:01\r\u001b[K     |██████                          | 296kB 4.9MB/s eta 0:00:01\r\u001b[K     |██████▎                         | 307kB 4.9MB/s eta 0:00:01\r\u001b[K     |██████▌                         | 317kB 4.9MB/s eta 0:00:01\r\u001b[K     |██████▊                         | 327kB 4.9MB/s eta 0:00:01\r\u001b[K     |███████                         | 337kB 4.9MB/s eta 0:00:01\r\u001b[K     |███████▏                        | 348kB 4.9MB/s eta 0:00:01\r\u001b[K     |███████▍                        | 358kB 4.9MB/s eta 0:00:01\r\u001b[K     |███████▋                        | 368kB 4.9MB/s eta 0:00:01\r\u001b[K     |███████▉                        | 378kB 4.9MB/s eta 0:00:01\r\u001b[K     |████████                        | 389kB 4.9MB/s eta 0:00:01\r\u001b[K     |████████▏                       | 399kB 4.9MB/s eta 0:00:01\r\u001b[K     |████████▍                       | 409kB 4.9MB/s eta 0:00:01\r\u001b[K     |████████▋                       | 419kB 4.9MB/s eta 0:00:01\r\u001b[K     |████████▉                       | 430kB 4.9MB/s eta 0:00:01\r\u001b[K     |█████████                       | 440kB 4.9MB/s eta 0:00:01\r\u001b[K     |█████████▎                      | 450kB 4.9MB/s eta 0:00:01\r\u001b[K     |█████████▌                      | 460kB 4.9MB/s eta 0:00:01\r\u001b[K     |█████████▊                      | 471kB 4.9MB/s eta 0:00:01\r\u001b[K     |██████████                      | 481kB 4.9MB/s eta 0:00:01\r\u001b[K     |██████████                      | 491kB 4.9MB/s eta 0:00:01\r\u001b[K     |██████████▎                     | 501kB 4.9MB/s eta 0:00:01\r\u001b[K     |██████████▌                     | 512kB 4.9MB/s eta 0:00:01\r\u001b[K     |██████████▊                     | 522kB 4.9MB/s eta 0:00:01\r\u001b[K     |███████████                     | 532kB 4.9MB/s eta 0:00:01\r\u001b[K     |███████████▏                    | 542kB 4.9MB/s eta 0:00:01\r\u001b[K     |███████████▍                    | 552kB 4.9MB/s eta 0:00:01\r\u001b[K     |███████████▋                    | 563kB 4.9MB/s eta 0:00:01\r\u001b[K     |███████████▉                    | 573kB 4.9MB/s eta 0:00:01\r\u001b[K     |████████████                    | 583kB 4.9MB/s eta 0:00:01\r\u001b[K     |████████████▏                   | 593kB 4.9MB/s eta 0:00:01\r\u001b[K     |████████████▍                   | 604kB 4.9MB/s eta 0:00:01\r\u001b[K     |████████████▋                   | 614kB 4.9MB/s eta 0:00:01\r\u001b[K     |████████████▉                   | 624kB 4.9MB/s eta 0:00:01\r\u001b[K     |█████████████                   | 634kB 4.9MB/s eta 0:00:01\r\u001b[K     |█████████████▎                  | 645kB 4.9MB/s eta 0:00:01\r\u001b[K     |█████████████▌                  | 655kB 4.9MB/s eta 0:00:01\r\u001b[K     |█████████████▊                  | 665kB 4.9MB/s eta 0:00:01\r\u001b[K     |██████████████                  | 675kB 4.9MB/s eta 0:00:01\r\u001b[K     |██████████████                  | 686kB 4.9MB/s eta 0:00:01\r\u001b[K     |██████████████▎                 | 696kB 4.9MB/s eta 0:00:01\r\u001b[K     |██████████████▌                 | 706kB 4.9MB/s eta 0:00:01\r\u001b[K     |██████████████▊                 | 716kB 4.9MB/s eta 0:00:01\r\u001b[K     |███████████████                 | 727kB 4.9MB/s eta 0:00:01\r\u001b[K     |███████████████▏                | 737kB 4.9MB/s eta 0:00:01\r\u001b[K     |███████████████▍                | 747kB 4.9MB/s eta 0:00:01\r\u001b[K     |███████████████▋                | 757kB 4.9MB/s eta 0:00:01\r\u001b[K     |███████████████▉                | 768kB 4.9MB/s eta 0:00:01\r\u001b[K     |████████████████                | 778kB 4.9MB/s eta 0:00:01\r\u001b[K     |████████████████▏               | 788kB 4.9MB/s eta 0:00:01\r\u001b[K     |████████████████▍               | 798kB 4.9MB/s eta 0:00:01\r\u001b[K     |████████████████▋               | 808kB 4.9MB/s eta 0:00:01\r\u001b[K     |████████████████▉               | 819kB 4.9MB/s eta 0:00:01\r\u001b[K     |█████████████████               | 829kB 4.9MB/s eta 0:00:01\r\u001b[K     |█████████████████▎              | 839kB 4.9MB/s eta 0:00:01\r\u001b[K     |█████████████████▌              | 849kB 4.9MB/s eta 0:00:01\r\u001b[K     |█████████████████▊              | 860kB 4.9MB/s eta 0:00:01\r\u001b[K     |██████████████████              | 870kB 4.9MB/s eta 0:00:01\r\u001b[K     |██████████████████▏             | 880kB 4.9MB/s eta 0:00:01\r\u001b[K     |██████████████████▎             | 890kB 4.9MB/s eta 0:00:01\r\u001b[K     |██████████████████▌             | 901kB 4.9MB/s eta 0:00:01\r\u001b[K     |██████████████████▊             | 911kB 4.9MB/s eta 0:00:01\r\u001b[K     |███████████████████             | 921kB 4.9MB/s eta 0:00:01\r\u001b[K     |███████████████████▏            | 931kB 4.9MB/s eta 0:00:01\r\u001b[K     |███████████████████▍            | 942kB 4.9MB/s eta 0:00:01\r\u001b[K     |███████████████████▋            | 952kB 4.9MB/s eta 0:00:01\r\u001b[K     |███████████████████▉            | 962kB 4.9MB/s eta 0:00:01\r\u001b[K     |████████████████████            | 972kB 4.9MB/s eta 0:00:01\r\u001b[K     |████████████████████▏           | 983kB 4.9MB/s eta 0:00:01\r\u001b[K     |████████████████████▍           | 993kB 4.9MB/s eta 0:00:01\r\u001b[K     |████████████████████▋           | 1.0MB 4.9MB/s eta 0:00:01\r\u001b[K     |████████████████████▉           | 1.0MB 4.9MB/s eta 0:00:01\r\u001b[K     |█████████████████████           | 1.0MB 4.9MB/s eta 0:00:01\r\u001b[K     |█████████████████████▎          | 1.0MB 4.9MB/s eta 0:00:01\r\u001b[K     |█████████████████████▌          | 1.0MB 4.9MB/s eta 0:00:01\r\u001b[K     |█████████████████████▊          | 1.1MB 4.9MB/s eta 0:00:01\r\u001b[K     |██████████████████████          | 1.1MB 4.9MB/s eta 0:00:01\r\u001b[K     |██████████████████████▏         | 1.1MB 4.9MB/s eta 0:00:01\r\u001b[K     |██████████████████████▎         | 1.1MB 4.9MB/s eta 0:00:01\r\u001b[K     |██████████████████████▌         | 1.1MB 4.9MB/s eta 0:00:01\r\u001b[K     |██████████████████████▊         | 1.1MB 4.9MB/s eta 0:00:01\r\u001b[K     |███████████████████████         | 1.1MB 4.9MB/s eta 0:00:01\r\u001b[K     |███████████████████████▏        | 1.1MB 4.9MB/s eta 0:00:01\r\u001b[K     |███████████████████████▍        | 1.1MB 4.9MB/s eta 0:00:01\r\u001b[K     |███████████████████████▋        | 1.1MB 4.9MB/s eta 0:00:01\r\u001b[K     |███████████████████████▉        | 1.2MB 4.9MB/s eta 0:00:01\r\u001b[K     |████████████████████████        | 1.2MB 4.9MB/s eta 0:00:01\r\u001b[K     |████████████████████████▏       | 1.2MB 4.9MB/s eta 0:00:01\r\u001b[K     |████████████████████████▍       | 1.2MB 4.9MB/s eta 0:00:01\r\u001b[K     |████████████████████████▋       | 1.2MB 4.9MB/s eta 0:00:01\r\u001b[K     |████████████████████████▉       | 1.2MB 4.9MB/s eta 0:00:01\r\u001b[K     |█████████████████████████       | 1.2MB 4.9MB/s eta 0:00:01\r\u001b[K     |█████████████████████████▎      | 1.2MB 4.9MB/s eta 0:00:01\r\u001b[K     |█████████████████████████▌      | 1.2MB 4.9MB/s eta 0:00:01\r\u001b[K     |█████████████████████████▊      | 1.2MB 4.9MB/s eta 0:00:01\r\u001b[K     |██████████████████████████      | 1.3MB 4.9MB/s eta 0:00:01\r\u001b[K     |██████████████████████████▏     | 1.3MB 4.9MB/s eta 0:00:01\r\u001b[K     |██████████████████████████▎     | 1.3MB 4.9MB/s eta 0:00:01\r\u001b[K     |██████████████████████████▌     | 1.3MB 4.9MB/s eta 0:00:01\r\u001b[K     |██████████████████████████▊     | 1.3MB 4.9MB/s eta 0:00:01\r\u001b[K     |███████████████████████████     | 1.3MB 4.9MB/s eta 0:00:01\r\u001b[K     |███████████████████████████▏    | 1.3MB 4.9MB/s eta 0:00:01\r\u001b[K     |███████████████████████████▍    | 1.3MB 4.9MB/s eta 0:00:01\r\u001b[K     |███████████████████████████▋    | 1.3MB 4.9MB/s eta 0:00:01\r\u001b[K     |███████████████████████████▉    | 1.4MB 4.9MB/s eta 0:00:01\r\u001b[K     |████████████████████████████    | 1.4MB 4.9MB/s eta 0:00:01\r\u001b[K     |████████████████████████████▏   | 1.4MB 4.9MB/s eta 0:00:01\r\u001b[K     |████████████████████████████▍   | 1.4MB 4.9MB/s eta 0:00:01\r\u001b[K     |████████████████████████████▋   | 1.4MB 4.9MB/s eta 0:00:01\r\u001b[K     |████████████████████████████▉   | 1.4MB 4.9MB/s eta 0:00:01\r\u001b[K     |█████████████████████████████   | 1.4MB 4.9MB/s eta 0:00:01\r\u001b[K     |█████████████████████████████▎  | 1.4MB 4.9MB/s eta 0:00:01\r\u001b[K     |█████████████████████████████▌  | 1.4MB 4.9MB/s eta 0:00:01\r\u001b[K     |█████████████████████████████▊  | 1.4MB 4.9MB/s eta 0:00:01\r\u001b[K     |██████████████████████████████  | 1.5MB 4.9MB/s eta 0:00:01\r\u001b[K     |██████████████████████████████▏ | 1.5MB 4.9MB/s eta 0:00:01\r\u001b[K     |██████████████████████████████▎ | 1.5MB 4.9MB/s eta 0:00:01\r\u001b[K     |██████████████████████████████▌ | 1.5MB 4.9MB/s eta 0:00:01\r\u001b[K     |██████████████████████████████▊ | 1.5MB 4.9MB/s eta 0:00:01\r\u001b[K     |███████████████████████████████ | 1.5MB 4.9MB/s eta 0:00:01\r\u001b[K     |███████████████████████████████▏| 1.5MB 4.9MB/s eta 0:00:01\r\u001b[K     |███████████████████████████████▍| 1.5MB 4.9MB/s eta 0:00:01\r\u001b[K     |███████████████████████████████▋| 1.5MB 4.9MB/s eta 0:00:01\r\u001b[K     |███████████████████████████████▉| 1.5MB 4.9MB/s eta 0:00:01\r\u001b[K     |████████████████████████████████| 1.6MB 4.9MB/s \n",
            "\u001b[?25hRequirement already satisfied: sympy>=1.1.0 in /usr/local/lib/python3.6/dist-packages (from pyblp) (1.1.1)\n",
            "Requirement already satisfied: numpy>=1.16.0 in /usr/local/lib/python3.6/dist-packages (from pyblp) (1.17.5)\n",
            "Requirement already satisfied: patsy>=0.5.1 in /usr/local/lib/python3.6/dist-packages (from pyblp) (0.5.1)\n",
            "Requirement already satisfied: scipy>=1.2.0 in /usr/local/lib/python3.6/dist-packages (from pyblp) (1.4.1)\n",
            "Requirement already satisfied: mpmath>=0.19 in /usr/local/lib/python3.6/dist-packages (from sympy>=1.1.0->pyblp) (1.1.0)\n",
            "Requirement already satisfied: six in /usr/local/lib/python3.6/dist-packages (from patsy>=0.5.1->pyblp) (1.12.0)\n",
            "Installing collected packages: pyblp\n",
            "Successfully installed pyblp-0.8.1\n"
          ],
          "name": "stdout"
        }
      ]
    },
    {
      "cell_type": "code",
      "metadata": {
        "id": "8nSKJfm0FaLF",
        "colab_type": "code",
        "outputId": "03006e66-e443-4f30-d6a0-9e295149d0f0",
        "colab": {
          "base_uri": "https://localhost:8080/",
          "height": 35
        }
      },
      "source": [
        "import pyblp\n",
        "import numpy as np\n",
        "import pandas as pd\n",
        "\n",
        "pyblp.options.digits = 2\n",
        "pyblp.options.verbose = False\n",
        "pyblp.__version__"
      ],
      "execution_count": 0,
      "outputs": [
        {
          "output_type": "execute_result",
          "data": {
            "text/plain": [
              "'0.8.1'"
            ]
          },
          "metadata": {
            "tags": []
          },
          "execution_count": 3
        }
      ]
    },
    {
      "cell_type": "markdown",
      "metadata": {
        "id": "c3m90SY1abZJ",
        "colab_type": "text"
      },
      "source": [
        "---\n",
        "# <font color = blue> Part 1 Logit Estimation Process </font>\n",
        "* Ref: https://notes.quantecon.org/submission/5cd236014174bb001a39a904 (all from here)\n",
        "--- \n",
        "1. Load the product data which at a minimum consists of market_ids, shares, prices, and at least a single column of demand instruments, demand_instruments0.\n",
        "\n",
        "2. Define a Formulation for the X1 (linear) demand model.\n",
        "\n",
        "- This and all other formulas are similar to R and **patsy formulas**.\n",
        "- It includes a constant by default. To exclude the constant, specify either a 0 or a -1.\n",
        "- To efficiently include **fixed effects**, use the **absorb **option and specify which categorical variables you would like to absorb.\n",
        "- Some model reduction may happen automatically. The constant will be excluded if you include **fixed effects** and some precautions are taken against collinearity. However, you will have to make sure that differently-named variables are not collinear.\n",
        "3. Combine the **Formulation** and **product data **to construct a **Problem**.\n",
        "4. Use **Problem.solve** to estimate paramters.\n",
        "----"
      ]
    },
    {
      "cell_type": "markdown",
      "metadata": {
        "id": "DWymgncubI2P",
        "colab_type": "text"
      },
      "source": [
        "# Loading the Data as a pd dataframe : Nero Dataset not BLP(1995)\n",
        "* market_ids, \n",
        "* product_ids, \n",
        "* firm_ids,\n",
        "* shares, \n",
        "* prices, \n",
        "* a number of other IDs \n",
        "* product characteristics \n",
        "* pre-computed excluded demand_instruments0, demand_instruments1  (19 IVs) \n",
        "* product_ids will be incorporated as fixed effects."
      ]
    },
    {
      "cell_type": "code",
      "metadata": {
        "id": "g7q79_8BFaCl",
        "colab_type": "code",
        "outputId": "0abf1d33-8675-4b76-b30a-6fbc2c2be072",
        "colab": {
          "base_uri": "https://localhost:8080/",
          "height": 379
        }
      },
      "source": [
        "product_data = pd.read_csv(pyblp.data.NEVO_PRODUCTS_LOCATION)\n",
        "product_data.head(10)"
      ],
      "execution_count": 0,
      "outputs": [
        {
          "output_type": "execute_result",
          "data": {
            "text/html": [
              "<div>\n",
              "<style scoped>\n",
              "    .dataframe tbody tr th:only-of-type {\n",
              "        vertical-align: middle;\n",
              "    }\n",
              "\n",
              "    .dataframe tbody tr th {\n",
              "        vertical-align: top;\n",
              "    }\n",
              "\n",
              "    .dataframe thead th {\n",
              "        text-align: right;\n",
              "    }\n",
              "</style>\n",
              "<table border=\"1\" class=\"dataframe\">\n",
              "  <thead>\n",
              "    <tr style=\"text-align: right;\">\n",
              "      <th></th>\n",
              "      <th>market_ids</th>\n",
              "      <th>city_ids</th>\n",
              "      <th>quarter</th>\n",
              "      <th>product_ids</th>\n",
              "      <th>firm_ids</th>\n",
              "      <th>brand_ids</th>\n",
              "      <th>shares</th>\n",
              "      <th>prices</th>\n",
              "      <th>sugar</th>\n",
              "      <th>mushy</th>\n",
              "      <th>demand_instruments0</th>\n",
              "      <th>demand_instruments1</th>\n",
              "      <th>demand_instruments2</th>\n",
              "      <th>demand_instruments3</th>\n",
              "      <th>demand_instruments4</th>\n",
              "      <th>demand_instruments5</th>\n",
              "      <th>demand_instruments6</th>\n",
              "      <th>demand_instruments7</th>\n",
              "      <th>demand_instruments8</th>\n",
              "      <th>demand_instruments9</th>\n",
              "      <th>demand_instruments10</th>\n",
              "      <th>demand_instruments11</th>\n",
              "      <th>demand_instruments12</th>\n",
              "      <th>demand_instruments13</th>\n",
              "      <th>demand_instruments14</th>\n",
              "      <th>demand_instruments15</th>\n",
              "      <th>demand_instruments16</th>\n",
              "      <th>demand_instruments17</th>\n",
              "      <th>demand_instruments18</th>\n",
              "      <th>demand_instruments19</th>\n",
              "    </tr>\n",
              "  </thead>\n",
              "  <tbody>\n",
              "    <tr>\n",
              "      <th>0</th>\n",
              "      <td>C01Q1</td>\n",
              "      <td>1</td>\n",
              "      <td>1</td>\n",
              "      <td>F1B04</td>\n",
              "      <td>1</td>\n",
              "      <td>4</td>\n",
              "      <td>0.012417</td>\n",
              "      <td>0.072088</td>\n",
              "      <td>2</td>\n",
              "      <td>1</td>\n",
              "      <td>-0.215973</td>\n",
              "      <td>0.040573</td>\n",
              "      <td>-3.247948</td>\n",
              "      <td>-0.523938</td>\n",
              "      <td>-0.232460</td>\n",
              "      <td>0.006833</td>\n",
              "      <td>3.139740</td>\n",
              "      <td>-0.574786</td>\n",
              "      <td>0.206220</td>\n",
              "      <td>0.177466</td>\n",
              "      <td>2.116358</td>\n",
              "      <td>-0.154708</td>\n",
              "      <td>-0.005796</td>\n",
              "      <td>0.014538</td>\n",
              "      <td>0.126244</td>\n",
              "      <td>0.067345</td>\n",
              "      <td>0.068423</td>\n",
              "      <td>0.034800</td>\n",
              "      <td>0.126346</td>\n",
              "      <td>0.035484</td>\n",
              "    </tr>\n",
              "    <tr>\n",
              "      <th>1</th>\n",
              "      <td>C01Q1</td>\n",
              "      <td>1</td>\n",
              "      <td>1</td>\n",
              "      <td>F1B06</td>\n",
              "      <td>1</td>\n",
              "      <td>6</td>\n",
              "      <td>0.007809</td>\n",
              "      <td>0.114178</td>\n",
              "      <td>18</td>\n",
              "      <td>1</td>\n",
              "      <td>-0.245239</td>\n",
              "      <td>0.054742</td>\n",
              "      <td>-19.832461</td>\n",
              "      <td>-0.180520</td>\n",
              "      <td>0.014689</td>\n",
              "      <td>0.000799</td>\n",
              "      <td>0.287654</td>\n",
              "      <td>0.032940</td>\n",
              "      <td>0.105121</td>\n",
              "      <td>-0.287562</td>\n",
              "      <td>-7.374091</td>\n",
              "      <td>-0.576412</td>\n",
              "      <td>0.012991</td>\n",
              "      <td>0.076143</td>\n",
              "      <td>0.029736</td>\n",
              "      <td>0.087867</td>\n",
              "      <td>0.110501</td>\n",
              "      <td>0.087784</td>\n",
              "      <td>0.049872</td>\n",
              "      <td>0.072579</td>\n",
              "    </tr>\n",
              "    <tr>\n",
              "      <th>2</th>\n",
              "      <td>C01Q1</td>\n",
              "      <td>1</td>\n",
              "      <td>1</td>\n",
              "      <td>F1B07</td>\n",
              "      <td>1</td>\n",
              "      <td>7</td>\n",
              "      <td>0.012995</td>\n",
              "      <td>0.132391</td>\n",
              "      <td>4</td>\n",
              "      <td>1</td>\n",
              "      <td>-0.176459</td>\n",
              "      <td>0.046596</td>\n",
              "      <td>-2.878531</td>\n",
              "      <td>-0.284219</td>\n",
              "      <td>-0.215537</td>\n",
              "      <td>-0.031869</td>\n",
              "      <td>2.886274</td>\n",
              "      <td>-0.749765</td>\n",
              "      <td>-0.478956</td>\n",
              "      <td>0.214739</td>\n",
              "      <td>2.187872</td>\n",
              "      <td>-0.207346</td>\n",
              "      <td>0.003509</td>\n",
              "      <td>0.091781</td>\n",
              "      <td>0.163773</td>\n",
              "      <td>0.111881</td>\n",
              "      <td>0.108226</td>\n",
              "      <td>0.086439</td>\n",
              "      <td>0.122347</td>\n",
              "      <td>0.101842</td>\n",
              "    </tr>\n",
              "    <tr>\n",
              "      <th>3</th>\n",
              "      <td>C01Q1</td>\n",
              "      <td>1</td>\n",
              "      <td>1</td>\n",
              "      <td>F1B09</td>\n",
              "      <td>1</td>\n",
              "      <td>9</td>\n",
              "      <td>0.005770</td>\n",
              "      <td>0.130344</td>\n",
              "      <td>3</td>\n",
              "      <td>0</td>\n",
              "      <td>-0.121401</td>\n",
              "      <td>0.048760</td>\n",
              "      <td>-2.059918</td>\n",
              "      <td>-0.328412</td>\n",
              "      <td>-0.222070</td>\n",
              "      <td>-0.031474</td>\n",
              "      <td>4.453110</td>\n",
              "      <td>0.255675</td>\n",
              "      <td>-0.472967</td>\n",
              "      <td>0.356098</td>\n",
              "      <td>2.704576</td>\n",
              "      <td>0.040748</td>\n",
              "      <td>-0.003724</td>\n",
              "      <td>0.094732</td>\n",
              "      <td>0.135274</td>\n",
              "      <td>0.088090</td>\n",
              "      <td>0.101767</td>\n",
              "      <td>0.101777</td>\n",
              "      <td>0.110741</td>\n",
              "      <td>0.104332</td>\n",
              "    </tr>\n",
              "    <tr>\n",
              "      <th>4</th>\n",
              "      <td>C01Q1</td>\n",
              "      <td>1</td>\n",
              "      <td>1</td>\n",
              "      <td>F1B11</td>\n",
              "      <td>1</td>\n",
              "      <td>11</td>\n",
              "      <td>0.017934</td>\n",
              "      <td>0.154823</td>\n",
              "      <td>12</td>\n",
              "      <td>0</td>\n",
              "      <td>-0.132611</td>\n",
              "      <td>0.039628</td>\n",
              "      <td>-6.137598</td>\n",
              "      <td>-0.138625</td>\n",
              "      <td>-0.189365</td>\n",
              "      <td>-0.043747</td>\n",
              "      <td>-3.554651</td>\n",
              "      <td>0.138821</td>\n",
              "      <td>-0.688678</td>\n",
              "      <td>0.260273</td>\n",
              "      <td>1.261242</td>\n",
              "      <td>0.034836</td>\n",
              "      <td>-0.000568</td>\n",
              "      <td>0.102451</td>\n",
              "      <td>0.130640</td>\n",
              "      <td>0.084818</td>\n",
              "      <td>0.101075</td>\n",
              "      <td>0.125169</td>\n",
              "      <td>0.133464</td>\n",
              "      <td>0.121111</td>\n",
              "    </tr>\n",
              "    <tr>\n",
              "      <th>5</th>\n",
              "      <td>C01Q1</td>\n",
              "      <td>1</td>\n",
              "      <td>1</td>\n",
              "      <td>F1B13</td>\n",
              "      <td>1</td>\n",
              "      <td>13</td>\n",
              "      <td>0.026602</td>\n",
              "      <td>0.137049</td>\n",
              "      <td>14</td>\n",
              "      <td>0</td>\n",
              "      <td>-0.153500</td>\n",
              "      <td>0.042988</td>\n",
              "      <td>-8.417332</td>\n",
              "      <td>0.007829</td>\n",
              "      <td>-0.138501</td>\n",
              "      <td>-0.021058</td>\n",
              "      <td>-2.759480</td>\n",
              "      <td>0.050201</td>\n",
              "      <td>-0.273444</td>\n",
              "      <td>0.127306</td>\n",
              "      <td>0.337554</td>\n",
              "      <td>0.023510</td>\n",
              "      <td>0.000264</td>\n",
              "      <td>0.086280</td>\n",
              "      <td>0.072336</td>\n",
              "      <td>0.022251</td>\n",
              "      <td>0.105644</td>\n",
              "      <td>0.116037</td>\n",
              "      <td>0.099651</td>\n",
              "      <td>0.105727</td>\n",
              "    </tr>\n",
              "    <tr>\n",
              "      <th>6</th>\n",
              "      <td>C01Q1</td>\n",
              "      <td>1</td>\n",
              "      <td>1</td>\n",
              "      <td>F1B17</td>\n",
              "      <td>1</td>\n",
              "      <td>17</td>\n",
              "      <td>0.025015</td>\n",
              "      <td>0.144209</td>\n",
              "      <td>3</td>\n",
              "      <td>1</td>\n",
              "      <td>-0.164352</td>\n",
              "      <td>0.044922</td>\n",
              "      <td>-2.389348</td>\n",
              "      <td>-0.156970</td>\n",
              "      <td>-0.215145</td>\n",
              "      <td>-0.045543</td>\n",
              "      <td>4.344100</td>\n",
              "      <td>-0.858740</td>\n",
              "      <td>-0.733705</td>\n",
              "      <td>0.246524</td>\n",
              "      <td>2.617504</td>\n",
              "      <td>-0.195578</td>\n",
              "      <td>0.004489</td>\n",
              "      <td>0.094150</td>\n",
              "      <td>0.138474</td>\n",
              "      <td>0.110273</td>\n",
              "      <td>0.101192</td>\n",
              "      <td>0.106082</td>\n",
              "      <td>0.143585</td>\n",
              "      <td>0.120973</td>\n",
              "    </tr>\n",
              "    <tr>\n",
              "      <th>7</th>\n",
              "      <td>C01Q1</td>\n",
              "      <td>1</td>\n",
              "      <td>1</td>\n",
              "      <td>F1B30</td>\n",
              "      <td>1</td>\n",
              "      <td>30</td>\n",
              "      <td>0.005058</td>\n",
              "      <td>0.128191</td>\n",
              "      <td>4</td>\n",
              "      <td>0</td>\n",
              "      <td>-0.118166</td>\n",
              "      <td>0.049645</td>\n",
              "      <td>-2.314019</td>\n",
              "      <td>-0.317537</td>\n",
              "      <td>-0.223526</td>\n",
              "      <td>-0.029128</td>\n",
              "      <td>3.275057</td>\n",
              "      <td>0.235487</td>\n",
              "      <td>-0.429212</td>\n",
              "      <td>0.367439</td>\n",
              "      <td>2.591142</td>\n",
              "      <td>0.044275</td>\n",
              "      <td>-0.004563</td>\n",
              "      <td>0.108831</td>\n",
              "      <td>0.135491</td>\n",
              "      <td>0.128176</td>\n",
              "      <td>0.059036</td>\n",
              "      <td>0.085440</td>\n",
              "      <td>0.044623</td>\n",
              "      <td>0.097111</td>\n",
              "    </tr>\n",
              "    <tr>\n",
              "      <th>8</th>\n",
              "      <td>C01Q1</td>\n",
              "      <td>1</td>\n",
              "      <td>1</td>\n",
              "      <td>F1B45</td>\n",
              "      <td>1</td>\n",
              "      <td>45</td>\n",
              "      <td>0.005332</td>\n",
              "      <td>0.149611</td>\n",
              "      <td>14</td>\n",
              "      <td>0</td>\n",
              "      <td>-0.144381</td>\n",
              "      <td>0.042091</td>\n",
              "      <td>-8.164721</td>\n",
              "      <td>-0.022463</td>\n",
              "      <td>-0.152652</td>\n",
              "      <td>-0.029185</td>\n",
              "      <td>-3.326924</td>\n",
              "      <td>0.072494</td>\n",
              "      <td>-0.416244</td>\n",
              "      <td>0.158720</td>\n",
              "      <td>0.489811</td>\n",
              "      <td>0.026016</td>\n",
              "      <td>-0.000066</td>\n",
              "      <td>0.114297</td>\n",
              "      <td>0.116368</td>\n",
              "      <td>0.141625</td>\n",
              "      <td>0.095104</td>\n",
              "      <td>0.122102</td>\n",
              "      <td>0.131221</td>\n",
              "      <td>0.119009</td>\n",
              "    </tr>\n",
              "    <tr>\n",
              "      <th>9</th>\n",
              "      <td>C01Q1</td>\n",
              "      <td>1</td>\n",
              "      <td>1</td>\n",
              "      <td>F2B05</td>\n",
              "      <td>2</td>\n",
              "      <td>5</td>\n",
              "      <td>0.038068</td>\n",
              "      <td>0.108514</td>\n",
              "      <td>1</td>\n",
              "      <td>0</td>\n",
              "      <td>-0.116467</td>\n",
              "      <td>0.060361</td>\n",
              "      <td>-2.509960</td>\n",
              "      <td>-0.325799</td>\n",
              "      <td>-0.228135</td>\n",
              "      <td>-0.007080</td>\n",
              "      <td>6.473079</td>\n",
              "      <td>0.255249</td>\n",
              "      <td>-0.018390</td>\n",
              "      <td>0.379260</td>\n",
              "      <td>2.727929</td>\n",
              "      <td>0.035499</td>\n",
              "      <td>-0.007844</td>\n",
              "      <td>0.083079</td>\n",
              "      <td>0.020242</td>\n",
              "      <td>-0.020562</td>\n",
              "      <td>0.064436</td>\n",
              "      <td>0.082678</td>\n",
              "      <td>-0.007339</td>\n",
              "      <td>0.072053</td>\n",
              "    </tr>\n",
              "  </tbody>\n",
              "</table>\n",
              "</div>"
            ],
            "text/plain": [
              "  market_ids  city_ids  ...  demand_instruments18 demand_instruments19\n",
              "0      C01Q1         1  ...              0.126346             0.035484\n",
              "1      C01Q1         1  ...              0.049872             0.072579\n",
              "2      C01Q1         1  ...              0.122347             0.101842\n",
              "3      C01Q1         1  ...              0.110741             0.104332\n",
              "4      C01Q1         1  ...              0.133464             0.121111\n",
              "5      C01Q1         1  ...              0.099651             0.105727\n",
              "6      C01Q1         1  ...              0.143585             0.120973\n",
              "7      C01Q1         1  ...              0.044623             0.097111\n",
              "8      C01Q1         1  ...              0.131221             0.119009\n",
              "9      C01Q1         1  ...             -0.007339             0.072053\n",
              "\n",
              "[10 rows x 30 columns]"
            ]
          },
          "metadata": {
            "tags": []
          },
          "execution_count": 33
        }
      ]
    },
    {
      "cell_type": "code",
      "metadata": {
        "id": "8l8f2xGJFZ63",
        "colab_type": "code",
        "outputId": "b572423e-bbbb-43f8-d293-3b529c5302c4",
        "colab": {
          "base_uri": "https://localhost:8080/",
          "height": 53
        }
      },
      "source": [
        "print(type(product_data)) \n",
        "print(product_data.shape) # N = 2256, K = 30"
      ],
      "execution_count": 0,
      "outputs": [
        {
          "output_type": "stream",
          "text": [
            "<class 'pandas.core.frame.DataFrame'>\n",
            "(2256, 30)\n"
          ],
          "name": "stdout"
        }
      ]
    },
    {
      "cell_type": "code",
      "metadata": {
        "id": "-IB8kDr2FZyl",
        "colab_type": "code",
        "outputId": "f0f81542-6182-4caa-af89-080c75361469",
        "colab": {
          "base_uri": "https://localhost:8080/",
          "height": 215
        }
      },
      "source": [
        "print(product_data.columns.shape)\n",
        "product_data.columns "
      ],
      "execution_count": 0,
      "outputs": [
        {
          "output_type": "stream",
          "text": [
            "(30,)\n"
          ],
          "name": "stdout"
        },
        {
          "output_type": "execute_result",
          "data": {
            "text/plain": [
              "Index(['market_ids', 'city_ids', 'quarter', 'product_ids', 'firm_ids',\n",
              "       'brand_ids', 'shares', 'prices', 'sugar', 'mushy',\n",
              "       'demand_instruments0', 'demand_instruments1', 'demand_instruments2',\n",
              "       'demand_instruments3', 'demand_instruments4', 'demand_instruments5',\n",
              "       'demand_instruments6', 'demand_instruments7', 'demand_instruments8',\n",
              "       'demand_instruments9', 'demand_instruments10', 'demand_instruments11',\n",
              "       'demand_instruments12', 'demand_instruments13', 'demand_instruments14',\n",
              "       'demand_instruments15', 'demand_instruments16', 'demand_instruments17',\n",
              "       'demand_instruments18', 'demand_instruments19'],\n",
              "      dtype='object')"
            ]
          },
          "metadata": {
            "tags": []
          },
          "execution_count": 22
        }
      ]
    },
    {
      "cell_type": "markdown",
      "metadata": {
        "id": "riaN2FsAcQ4P",
        "colab_type": "text"
      },
      "source": [
        "---\n",
        "# Logit Model: Setting Up the Problem\n",
        "#### A. **Formulation** and B. **product_data** to construct a Problem.\n",
        "#### A. **Formulation** : 1 price variable with fixed effect terms\n",
        "* **$X_1$** is the linear component of utility for demand and depends only on prices (after the fixed effects are removed).\n",
        "#### B. **product_data**\n",
        "* **T** is the number of markets. = 94 markets\n",
        "* **N** is the length of the dataset (the number of products across all markets) = 2256 products.\n",
        "* **F** is the number of firms, which we won't use in this example. = 5 firms\n",
        "* **$K_1$** is the dimension of the linear demand parameters. = 1 price variable\n",
        "* **MD** is the dim of the IVs (excluded IVs and exogenous regressors). = 19 + 1\n",
        "* **ED** is the number of fixed effect dimensions (1 dim fixed effects, 2dim fixed effects, etc.). = 1 fixed effect (= product level)\n",
        "---"
      ]
    },
    {
      "cell_type": "code",
      "metadata": {
        "id": "1TtX4-uoFZqj",
        "colab_type": "code",
        "outputId": "01c84e3e-b9c8-413c-9cb9-ffb8e9fca7f1",
        "colab": {
          "base_uri": "https://localhost:8080/",
          "height": 35
        }
      },
      "source": [
        "logit_formulation = pyblp.Formulation('prices', absorb='C(product_ids)')\n",
        "logit_formulation"
      ],
      "execution_count": 0,
      "outputs": [
        {
          "output_type": "execute_result",
          "data": {
            "text/plain": [
              "prices + Absorb[C(product_ids)]"
            ]
          },
          "metadata": {
            "tags": []
          },
          "execution_count": 23
        }
      ]
    },
    {
      "cell_type": "code",
      "metadata": {
        "id": "mY8B-DUEFZhX",
        "colab_type": "code",
        "outputId": "790466bf-bccc-4f84-c556-682429ce0004",
        "colab": {
          "base_uri": "https://localhost:8080/",
          "height": 251
        }
      },
      "source": [
        "problem = pyblp.Problem(logit_formulation, product_data)\n",
        "problem"
      ],
      "execution_count": 0,
      "outputs": [
        {
          "output_type": "execute_result",
          "data": {
            "text/plain": [
              "Dimensions:\n",
              "================================\n",
              " T    N     F    K1    MD    ED \n",
              "---  ----  ---  ----  ----  ----\n",
              "94   2256   5    1     20    1  \n",
              "================================\n",
              "\n",
              "Formulations:\n",
              "==================================\n",
              "     Column Indices:          0   \n",
              "--------------------------  ------\n",
              "X1: Linear Characteristics  prices\n",
              "=================================="
            ]
          },
          "metadata": {
            "tags": []
          },
          "execution_count": 24
        }
      ]
    },
    {
      "cell_type": "code",
      "metadata": {
        "id": "a0kjHGNGFZV4",
        "colab_type": "code",
        "outputId": "42978933-e7f7-43c0-bf33-b383ba615856",
        "colab": {
          "base_uri": "https://localhost:8080/",
          "height": 431
        }
      },
      "source": [
        "logit_results = problem.solve()\n",
        "logit_results"
      ],
      "execution_count": 0,
      "outputs": [
        {
          "output_type": "execute_result",
          "data": {
            "text/plain": [
              "Problem Results Summary:\n",
              "=================================\n",
              "GMM   Objective  Weighting Matrix\n",
              "Step    Value    Condition Number\n",
              "----  ---------  ----------------\n",
              " 2    +8.3E-02       +5.7E+07    \n",
              "=================================\n",
              "\n",
              "Cumulative Statistics:\n",
              "========================\n",
              "Computation   Objective \n",
              "   Time      Evaluations\n",
              "-----------  -----------\n",
              " 00:00:00         2     \n",
              "========================\n",
              "\n",
              "Beta Estimates (Robust SEs in Parentheses):\n",
              "==========\n",
              "  prices  \n",
              "----------\n",
              " -3.0E+01 \n",
              "(+1.0E+00)\n",
              "=========="
            ]
          },
          "metadata": {
            "tags": []
          },
          "execution_count": 25
        }
      ]
    },
    {
      "cell_type": "markdown",
      "metadata": {
        "id": "PXbUI-iLf_hc",
        "colab_type": "text"
      },
      "source": [
        "---\n",
        "#  <font color = blue> Part 1-2: Nested Logit </font>\n",
        "---\n",
        "## Theory of Nested Logit\n",
        "\n",
        "We can extend the logit model to allow for correlation within a group $h$ so that\n",
        "\n",
        "$$U_{jti} = \\alpha p_{jt} + x_{jt} \\beta^x + \\xi_{jt} + \\bar{\\epsilon}_{h(j)ti} + (1 - \\rho) \\bar{\\epsilon}_{jti}.$$\n",
        "\n",
        "Now, we require that $\\epsilon_{jti} = \\bar{\\epsilon}_{h(j)ti} + (1 - \\rho) \\bar{\\epsilon}_{jti}$ is distributed IID with the Type I Extreme Value (Gumbel) distribution. As $\\rho \\rightarrow 1$, all consumers stay within their group. As $\\rho \\rightarrow 0$, this collapses to the IIA logit. Note that if we wanted, we could allow $\\rho$ to differ between groups with the notation $\\rho_{h(j)}$.\n",
        "\n",
        "This gives us aggregate marketshares as the product of two logits, the within group logit and the across group logit:\n",
        "\n",
        "$$s_{jt} = \\frac{\\exp[V_{jt} / (1 - \\rho)]}{\\exp[V_{h(j)t} / (1 - \\rho)]}\\cdot\\frac{\\exp V_{h(j)t}}{1 + \\sum_h \\exp V_{ht}},$$\n",
        "\n",
        "where $V_{jt} = \\alpha p_{jt} + x_{jt} \\beta^x + \\xi_{jt}$.\n",
        "\n",
        "After some work we again obtain the linear estimating equation:\n",
        "\n",
        "$$\\log s_{jt} - \\log s_{0t} = \\alpha p_{jt}+ x_{jt} \\beta^x +\\rho \\log s_{j|h(j)t} + \\xi_{jt},$$\n",
        "\n",
        "where $s_{j|h(j)t} = s_{jt} / s_{h(j)t}$ and $s_{h(j)t}$ is the share of group $h$ in market $t$. See [Berry (1994)](https://pyblp.readthedocs.io/en/stable/references.html#berry-1994) or [Cardell (1997)](https://pyblp.readthedocs.io/en/stable/references.html#cardell-1997) for more information.\n",
        "\n",
        "Again, the left hand side is data, though the $\\ln s_{j|h(j)t}$ is clearly endogenous which means we must instrument for it. Rather than include $\\ln s_{j|h(j)t}$ along with the linear components of utility, $X_1$, whenever `nesting_ids` are included in `product_data`, $\\rho$ is treated as a nonlinear $X_2$ parameter. This means that the linear component is given instead by\n",
        "\n",
        "$$\\log s_{jt} - \\log s_{0t} - \\rho \\log s_{j|h(j)t} = \\alpha p_{jt} + x_{jt} \\beta^x + \\xi_{jt}.$$\n",
        "\n",
        "This is done for two reasons:\n",
        "\n",
        "1. It forces the user to treat $\\rho$ as an endogenous parameter.\n",
        "2. It extends much more easily to the RCNL model of [Brenkers and Verboven (2006)](https://pyblp.readthedocs.io/en/stable/references.html#brenkers-and-verboven-2006).\n",
        "\n",
        "A common choice for an additional instrument is the number of products per nest.\n",
        "\n",
        "---"
      ]
    },
    {
      "cell_type": "code",
      "metadata": {
        "id": "jbOXcHM3f-9d",
        "colab_type": "code",
        "colab": {}
      },
      "source": [
        "def solve_nl(df):\n",
        "    groups = df.groupby(['market_ids', 'nesting_ids'])\n",
        "    df['demand_instruments20'] = groups['shares'].transform(np.size) # each market nest id level shares as a IV 20\n",
        "    nl_formulation = pyblp.Formulation('0 + prices')    \n",
        "    problem = pyblp.Problem(nl_formulation, df)\n",
        "    return problem.solve(rho=0.7)"
      ],
      "execution_count": 0,
      "outputs": []
    },
    {
      "cell_type": "code",
      "metadata": {
        "id": "RxK2wlX449JK",
        "colab_type": "code",
        "outputId": "3de4320b-cb8a-43a3-816a-4c5dd2a1a1a4",
        "colab": {
          "base_uri": "https://localhost:8080/",
          "height": 575
        }
      },
      "source": [
        "df1 = product_data.copy()\n",
        "df1['nesting_ids'] = 1\n",
        "nl_results1 = solve_nl(df1)\n",
        "nl_results1"
      ],
      "execution_count": 0,
      "outputs": [
        {
          "output_type": "execute_result",
          "data": {
            "text/plain": [
              "Problem Results Summary:\n",
              "=============================================================================\n",
              "GMM   Objective    Projected    Reduced   Weighting Matrix  Covariance Matrix\n",
              "Step    Value    Gradient Norm  Hessian   Condition Number  Condition Number \n",
              "----  ---------  -------------  --------  ----------------  -----------------\n",
              " 2    +9.0E-02     +3.7E-13     +4.8E+00      +2.0E+09          +3.0E+04     \n",
              "=============================================================================\n",
              "\n",
              "Cumulative Statistics:\n",
              "======================================\n",
              "Computation  Optimization   Objective \n",
              "   Time       Iterations   Evaluations\n",
              "-----------  ------------  -----------\n",
              " 00:00:03         3             8     \n",
              "======================================\n",
              "\n",
              "Rho Estimates (Robust SEs in Parentheses):\n",
              "==========\n",
              "All Groups\n",
              "----------\n",
              " +9.8E-01 \n",
              "(+1.4E-02)\n",
              "==========\n",
              "\n",
              "Beta Estimates (Robust SEs in Parentheses):\n",
              "==========\n",
              "  prices  \n",
              "----------\n",
              " -1.2E+00 \n",
              "(+4.0E-01)\n",
              "=========="
            ]
          },
          "metadata": {
            "tags": []
          },
          "execution_count": 27
        }
      ]
    },
    {
      "cell_type": "code",
      "metadata": {
        "id": "49PDpjkq4877",
        "colab_type": "code",
        "outputId": "ce40b829-7904-41a5-c679-6a583448615f",
        "colab": {
          "base_uri": "https://localhost:8080/",
          "height": 251
        }
      },
      "source": [
        "# H = 1\n",
        "nl_results1.problem"
      ],
      "execution_count": 0,
      "outputs": [
        {
          "output_type": "execute_result",
          "data": {
            "text/plain": [
              "Dimensions:\n",
              "===============================\n",
              " T    N     F    K1    MD    H \n",
              "---  ----  ---  ----  ----  ---\n",
              "94   2256   5    1     21    1 \n",
              "===============================\n",
              "\n",
              "Formulations:\n",
              "==================================\n",
              "     Column Indices:          0   \n",
              "--------------------------  ------\n",
              "X1: Linear Characteristics  prices\n",
              "=================================="
            ]
          },
          "metadata": {
            "tags": []
          },
          "execution_count": 28
        }
      ]
    },
    {
      "cell_type": "code",
      "metadata": {
        "id": "yN2FUu3C48d7",
        "colab_type": "code",
        "outputId": "373f0a9b-efa1-46ad-a5e3-c7a28e1812e5",
        "colab": {
          "base_uri": "https://localhost:8080/",
          "height": 575
        }
      },
      "source": [
        "# we'll solve the problem when there are two nests for mushy and non-mushy.\n",
        "df2 = product_data.copy()\n",
        "df2['nesting_ids'] = df2['mushy']\n",
        "nl_results2 = solve_nl(df2)\n",
        "nl_results2"
      ],
      "execution_count": 0,
      "outputs": [
        {
          "output_type": "execute_result",
          "data": {
            "text/plain": [
              "Problem Results Summary:\n",
              "=============================================================================\n",
              "GMM   Objective    Projected    Reduced   Weighting Matrix  Covariance Matrix\n",
              "Step    Value    Gradient Norm  Hessian   Condition Number  Condition Number \n",
              "----  ---------  -------------  --------  ----------------  -----------------\n",
              " 2    +3.1E-01     +1.2E-11     +2.5E+00      +5.1E+08          +2.0E+04     \n",
              "=============================================================================\n",
              "\n",
              "Cumulative Statistics:\n",
              "======================================\n",
              "Computation  Optimization   Objective \n",
              "   Time       Iterations   Evaluations\n",
              "-----------  ------------  -----------\n",
              " 00:00:03         3             8     \n",
              "======================================\n",
              "\n",
              "Rho Estimates (Robust SEs in Parentheses):\n",
              "==========\n",
              "All Groups\n",
              "----------\n",
              " +8.9E-01 \n",
              "(+1.9E-02)\n",
              "==========\n",
              "\n",
              "Beta Estimates (Robust SEs in Parentheses):\n",
              "==========\n",
              "  prices  \n",
              "----------\n",
              " -7.8E+00 \n",
              "(+4.8E-01)\n",
              "=========="
            ]
          },
          "metadata": {
            "tags": []
          },
          "execution_count": 29
        }
      ]
    },
    {
      "cell_type": "code",
      "metadata": {
        "id": "5v5sI02f89n5",
        "colab_type": "code",
        "outputId": "3e7c570a-5c82-4506-9664-5f92dd97b3f2",
        "colab": {
          "base_uri": "https://localhost:8080/",
          "height": 251
        }
      },
      "source": [
        "# H is 2\n",
        "nl_results2.problem"
      ],
      "execution_count": 0,
      "outputs": [
        {
          "output_type": "execute_result",
          "data": {
            "text/plain": [
              "Dimensions:\n",
              "===============================\n",
              " T    N     F    K1    MD    H \n",
              "---  ----  ---  ----  ----  ---\n",
              "94   2256   5    1     21    2 \n",
              "===============================\n",
              "\n",
              "Formulations:\n",
              "==================================\n",
              "     Column Indices:          0   \n",
              "--------------------------  ------\n",
              "X1: Linear Characteristics  prices\n",
              "=================================="
            ]
          },
          "metadata": {
            "tags": []
          },
          "execution_count": 30
        }
      ]
    },
    {
      "cell_type": "code",
      "metadata": {
        "id": "ruYSRmAb91_s",
        "colab_type": "code",
        "outputId": "93f84074-57fb-48ee-ab99-b7540a8333e0",
        "colab": {
          "base_uri": "https://localhost:8080/",
          "height": 35
        }
      },
      "source": [
        "nl_results1.beta[0] / (1 - nl_results1.rho)"
      ],
      "execution_count": 0,
      "outputs": [
        {
          "output_type": "execute_result",
          "data": {
            "text/plain": [
              "array([[-67.39338888]])"
            ]
          },
          "metadata": {
            "tags": []
          },
          "execution_count": 31
        }
      ]
    },
    {
      "cell_type": "code",
      "metadata": {
        "id": "YPakl-zU93OQ",
        "colab_type": "code",
        "outputId": "3822691d-d67a-44b5-cc76-2de5d020626d",
        "colab": {
          "base_uri": "https://localhost:8080/",
          "height": 35
        }
      },
      "source": [
        "nl_results2.beta[0] / (1 - nl_results2.rho)"
      ],
      "execution_count": 0,
      "outputs": [
        {
          "output_type": "execute_result",
          "data": {
            "text/plain": [
              "array([[-72.27074638]])"
            ]
          },
          "metadata": {
            "tags": []
          },
          "execution_count": 32
        }
      ]
    }
  ]
}