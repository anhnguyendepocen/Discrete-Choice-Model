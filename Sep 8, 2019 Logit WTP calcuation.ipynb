{
 "cells": [
  {
   "cell_type": "markdown",
   "metadata": {},
   "source": [
    "# Sep 8, 2019 WTP for logit"
   ]
  },
  {
   "cell_type": "markdown",
   "metadata": {},
   "source": [
    "# Importing Data"
   ]
  },
  {
   "cell_type": "code",
   "execution_count": 3,
   "metadata": {},
   "outputs": [],
   "source": [
    "import os\n",
    "import numpy as np\n",
    "import pandas as pd"
   ]
  },
  {
   "cell_type": "code",
   "execution_count": 4,
   "metadata": {},
   "outputs": [
    {
     "data": {
      "text/plain": [
       "['.ipynb_checkpoints', 'home_heating.xlsx', 'Sep 8, 2019 Econ 581 HW1.ipynb']"
      ]
     },
     "execution_count": 4,
     "metadata": {},
     "output_type": "execute_result"
    }
   ],
   "source": [
    "os.listdir() "
   ]
  },
  {
   "cell_type": "code",
   "execution_count": 7,
   "metadata": {},
   "outputs": [],
   "source": [
    "data=pd.read_excel('home_heating.xlsx')"
   ]
  },
  {
   "cell_type": "code",
   "execution_count": 8,
   "metadata": {},
   "outputs": [
    {
     "data": {
      "text/plain": [
       "pandas.core.frame.DataFrame"
      ]
     },
     "execution_count": 8,
     "metadata": {},
     "output_type": "execute_result"
    }
   ],
   "source": [
    "type(data)"
   ]
  },
  {
   "cell_type": "code",
   "execution_count": 185,
   "metadata": {},
   "outputs": [
    {
     "data": {
      "text/html": [
       "<div>\n",
       "<style scoped>\n",
       "    .dataframe tbody tr th:only-of-type {\n",
       "        vertical-align: middle;\n",
       "    }\n",
       "\n",
       "    .dataframe tbody tr th {\n",
       "        vertical-align: top;\n",
       "    }\n",
       "\n",
       "    .dataframe thead th {\n",
       "        text-align: right;\n",
       "    }\n",
       "</style>\n",
       "<table border=\"1\" class=\"dataframe\">\n",
       "  <thead>\n",
       "    <tr style=\"text-align: right;\">\n",
       "      <th></th>\n",
       "      <th>id</th>\n",
       "      <th>choice</th>\n",
       "      <th>ic1</th>\n",
       "      <th>ic2</th>\n",
       "      <th>ic3</th>\n",
       "      <th>ic4</th>\n",
       "      <th>ic5</th>\n",
       "      <th>oc1</th>\n",
       "      <th>oc2</th>\n",
       "      <th>oc3</th>\n",
       "      <th>oc4</th>\n",
       "      <th>oc5</th>\n",
       "    </tr>\n",
       "  </thead>\n",
       "  <tbody>\n",
       "    <tr>\n",
       "      <th>0</th>\n",
       "      <td>1</td>\n",
       "      <td>1</td>\n",
       "      <td>8.6600</td>\n",
       "      <td>9.6264</td>\n",
       "      <td>8.5990</td>\n",
       "      <td>9.9576</td>\n",
       "      <td>11.355</td>\n",
       "      <td>1.9969</td>\n",
       "      <td>1.5172</td>\n",
       "      <td>5.5334</td>\n",
       "      <td>5.0560</td>\n",
       "      <td>2.3788</td>\n",
       "    </tr>\n",
       "    <tr>\n",
       "      <th>1</th>\n",
       "      <td>2</td>\n",
       "      <td>1</td>\n",
       "      <td>7.2793</td>\n",
       "      <td>7.5889</td>\n",
       "      <td>7.9682</td>\n",
       "      <td>8.9469</td>\n",
       "      <td>9.689</td>\n",
       "      <td>1.6866</td>\n",
       "      <td>1.6866</td>\n",
       "      <td>5.2024</td>\n",
       "      <td>4.8649</td>\n",
       "      <td>1.9919</td>\n",
       "    </tr>\n",
       "    <tr>\n",
       "      <th>2</th>\n",
       "      <td>3</td>\n",
       "      <td>1</td>\n",
       "      <td>5.9948</td>\n",
       "      <td>7.8305</td>\n",
       "      <td>7.1986</td>\n",
       "      <td>9.0011</td>\n",
       "      <td>10.483</td>\n",
       "      <td>1.6558</td>\n",
       "      <td>1.3780</td>\n",
       "      <td>4.3906</td>\n",
       "      <td>4.0474</td>\n",
       "      <td>1.7147</td>\n",
       "    </tr>\n",
       "  </tbody>\n",
       "</table>\n",
       "</div>"
      ],
      "text/plain": [
       "   id  choice     ic1     ic2     ic3     ic4     ic5     oc1     oc2     oc3  \\\n",
       "0   1       1  8.6600  9.6264  8.5990  9.9576  11.355  1.9969  1.5172  5.5334   \n",
       "1   2       1  7.2793  7.5889  7.9682  8.9469   9.689  1.6866  1.6866  5.2024   \n",
       "2   3       1  5.9948  7.8305  7.1986  9.0011  10.483  1.6558  1.3780  4.3906   \n",
       "\n",
       "      oc4     oc5  \n",
       "0  5.0560  2.3788  \n",
       "1  4.8649  1.9919  \n",
       "2  4.0474  1.7147  "
      ]
     },
     "execution_count": 185,
     "metadata": {},
     "output_type": "execute_result"
    }
   ],
   "source": [
    "data.head(3)"
   ]
  },
  {
   "cell_type": "code",
   "execution_count": 186,
   "metadata": {},
   "outputs": [],
   "source": [
    "df = data.iloc[[2,13,20],]"
   ]
  },
  {
   "cell_type": "code",
   "execution_count": 187,
   "metadata": {},
   "outputs": [],
   "source": [
    "df = df.drop(['choice'], axis=1)"
   ]
  },
  {
   "cell_type": "markdown",
   "metadata": {},
   "source": [
    "# (a) Interpret the ration of the coefficient on $ic_{ij}$ over the coefficient on $oc_{ij}$.\n",
    "$v_{ij}$ = -0.6231 X $ic_{ij}$ $-$ -0.458 X $ic_{ij}$, $j=alternative ={1,..,5}$"
   ]
  },
  {
   "cell_type": "markdown",
   "metadata": {},
   "source": [
    "# Marginal Willingness to pay = $\\frac{\\partial OC}{\\partial IC} = \\frac{ \\frac{\\partial U}{\\partial IC}} {\\frac{\\partial U}{\\partial OC}}= \\frac{-0.6231}{-0.4580}=1.3604$ ------------(1)"
   ]
  },
  {
   "cell_type": "code",
   "execution_count": 47,
   "metadata": {},
   "outputs": [
    {
     "data": {
      "text/plain": [
       "1.3604803493449782"
      ]
     },
     "execution_count": 47,
     "metadata": {},
     "output_type": "execute_result"
    }
   ],
   "source": [
    "-0.6231/-0.4580"
   ]
  },
  {
   "cell_type": "markdown",
   "metadata": {},
   "source": [
    "* Average of marginal willingness to install a heating device is 1.36 "
   ]
  },
  {
   "cell_type": "markdown",
   "metadata": {},
   "source": [
    "# (b) compute the probability of choice for each alternative    \n",
    "# &nbsp; &nbsp; &nbsp; person combination\n",
    "* using the equation $ Pr_{in} = \\frac{exp(V_{in})}{\\sum_{j}exp(V_{ij}) }, n \\in j $"
   ]
  },
  {
   "cell_type": "code",
   "execution_count": 82,
   "metadata": {},
   "outputs": [
    {
     "data": {
      "text/html": [
       "<div>\n",
       "<style scoped>\n",
       "    .dataframe tbody tr th:only-of-type {\n",
       "        vertical-align: middle;\n",
       "    }\n",
       "\n",
       "    .dataframe tbody tr th {\n",
       "        vertical-align: top;\n",
       "    }\n",
       "\n",
       "    .dataframe thead th {\n",
       "        text-align: right;\n",
       "    }\n",
       "</style>\n",
       "<table border=\"1\" class=\"dataframe\">\n",
       "  <thead>\n",
       "    <tr style=\"text-align: right;\">\n",
       "      <th></th>\n",
       "      <th>id</th>\n",
       "      <th>ic1</th>\n",
       "      <th>ic2</th>\n",
       "      <th>ic3</th>\n",
       "      <th>ic4</th>\n",
       "      <th>ic5</th>\n",
       "      <th>oc1</th>\n",
       "      <th>oc2</th>\n",
       "      <th>oc3</th>\n",
       "      <th>oc4</th>\n",
       "      <th>oc5</th>\n",
       "    </tr>\n",
       "  </thead>\n",
       "  <tbody>\n",
       "    <tr>\n",
       "      <th>2</th>\n",
       "      <td>3.0</td>\n",
       "      <td>5.9948</td>\n",
       "      <td>7.8305</td>\n",
       "      <td>7.1986</td>\n",
       "      <td>9.0011</td>\n",
       "      <td>10.483</td>\n",
       "      <td>1.6558</td>\n",
       "      <td>1.378</td>\n",
       "      <td>4.3906</td>\n",
       "      <td>4.0474</td>\n",
       "      <td>1.7147</td>\n",
       "    </tr>\n",
       "  </tbody>\n",
       "</table>\n",
       "</div>"
      ],
      "text/plain": [
       "    id     ic1     ic2     ic3     ic4     ic5     oc1    oc2     oc3     oc4  \\\n",
       "2  3.0  5.9948  7.8305  7.1986  9.0011  10.483  1.6558  1.378  4.3906  4.0474   \n",
       "\n",
       "      oc5  \n",
       "2  1.7147  "
      ]
     },
     "execution_count": 82,
     "metadata": {},
     "output_type": "execute_result"
    }
   ],
   "source": [
    "df3 = df.iloc[0,:]\n",
    "df3 =pd.DataFrame(df3).transpose()\n",
    "df3"
   ]
  },
  {
   "cell_type": "code",
   "execution_count": 153,
   "metadata": {},
   "outputs": [
    {
     "data": {
      "text/plain": [
       "1.6558"
      ]
     },
     "execution_count": 153,
     "metadata": {},
     "output_type": "execute_result"
    }
   ],
   "source": [
    "df3.iloc[0][5+1]"
   ]
  },
  {
   "cell_type": "code",
   "execution_count": 154,
   "metadata": {},
   "outputs": [
    {
     "data": {
      "text/plain": [
       "5.9948"
      ]
     },
     "execution_count": 154,
     "metadata": {},
     "output_type": "execute_result"
    }
   ],
   "source": [
    "df3.iloc[0][1]"
   ]
  },
  {
   "cell_type": "code",
   "execution_count": 80,
   "metadata": {},
   "outputs": [
    {
     "data": {
      "text/html": [
       "<div>\n",
       "<style scoped>\n",
       "    .dataframe tbody tr th:only-of-type {\n",
       "        vertical-align: middle;\n",
       "    }\n",
       "\n",
       "    .dataframe tbody tr th {\n",
       "        vertical-align: top;\n",
       "    }\n",
       "\n",
       "    .dataframe thead th {\n",
       "        text-align: right;\n",
       "    }\n",
       "</style>\n",
       "<table border=\"1\" class=\"dataframe\">\n",
       "  <thead>\n",
       "    <tr style=\"text-align: right;\">\n",
       "      <th></th>\n",
       "      <th>id</th>\n",
       "      <th>ic1</th>\n",
       "      <th>ic2</th>\n",
       "      <th>ic3</th>\n",
       "      <th>ic4</th>\n",
       "      <th>ic5</th>\n",
       "      <th>oc1</th>\n",
       "      <th>oc2</th>\n",
       "      <th>oc3</th>\n",
       "      <th>oc4</th>\n",
       "      <th>oc5</th>\n",
       "    </tr>\n",
       "  </thead>\n",
       "  <tbody>\n",
       "    <tr>\n",
       "      <th>13</th>\n",
       "      <td>14.0</td>\n",
       "      <td>5.6844</td>\n",
       "      <td>6.1743</td>\n",
       "      <td>6.8718</td>\n",
       "      <td>7.1872</td>\n",
       "      <td>7.7554</td>\n",
       "      <td>1.1945</td>\n",
       "      <td>1.1186</td>\n",
       "      <td>3.6592</td>\n",
       "      <td>3.9514</td>\n",
       "      <td>1.7353</td>\n",
       "    </tr>\n",
       "  </tbody>\n",
       "</table>\n",
       "</div>"
      ],
      "text/plain": [
       "      id     ic1     ic2     ic3     ic4     ic5     oc1     oc2     oc3  \\\n",
       "13  14.0  5.6844  6.1743  6.8718  7.1872  7.7554  1.1945  1.1186  3.6592   \n",
       "\n",
       "       oc4     oc5  \n",
       "13  3.9514  1.7353  "
      ]
     },
     "execution_count": 80,
     "metadata": {},
     "output_type": "execute_result"
    }
   ],
   "source": [
    "df14 = df.iloc[1,:]\n",
    "df14 =pd.DataFrame(df14).transpose()\n",
    "df14"
   ]
  },
  {
   "cell_type": "code",
   "execution_count": 81,
   "metadata": {},
   "outputs": [
    {
     "data": {
      "text/html": [
       "<div>\n",
       "<style scoped>\n",
       "    .dataframe tbody tr th:only-of-type {\n",
       "        vertical-align: middle;\n",
       "    }\n",
       "\n",
       "    .dataframe tbody tr th {\n",
       "        vertical-align: top;\n",
       "    }\n",
       "\n",
       "    .dataframe thead th {\n",
       "        text-align: right;\n",
       "    }\n",
       "</style>\n",
       "<table border=\"1\" class=\"dataframe\">\n",
       "  <thead>\n",
       "    <tr style=\"text-align: right;\">\n",
       "      <th></th>\n",
       "      <th>id</th>\n",
       "      <th>ic1</th>\n",
       "      <th>ic2</th>\n",
       "      <th>ic3</th>\n",
       "      <th>ic4</th>\n",
       "      <th>ic5</th>\n",
       "      <th>oc1</th>\n",
       "      <th>oc2</th>\n",
       "      <th>oc3</th>\n",
       "      <th>oc4</th>\n",
       "      <th>oc5</th>\n",
       "    </tr>\n",
       "  </thead>\n",
       "  <tbody>\n",
       "    <tr>\n",
       "      <th>20</th>\n",
       "      <td>21.0</td>\n",
       "      <td>6.5754</td>\n",
       "      <td>8.9216</td>\n",
       "      <td>7.8807</td>\n",
       "      <td>7.9952</td>\n",
       "      <td>10.831</td>\n",
       "      <td>1.7615</td>\n",
       "      <td>1.4893</td>\n",
       "      <td>4.4099</td>\n",
       "      <td>2.8629</td>\n",
       "      <td>2.0387</td>\n",
       "    </tr>\n",
       "  </tbody>\n",
       "</table>\n",
       "</div>"
      ],
      "text/plain": [
       "      id     ic1     ic2     ic3     ic4     ic5     oc1     oc2     oc3  \\\n",
       "20  21.0  6.5754  8.9216  7.8807  7.9952  10.831  1.7615  1.4893  4.4099   \n",
       "\n",
       "       oc4     oc5  \n",
       "20  2.8629  2.0387  "
      ]
     },
     "execution_count": 81,
     "metadata": {},
     "output_type": "execute_result"
    }
   ],
   "source": [
    "df21 = df.iloc[2,:]\n",
    "df21 =pd.DataFrame(df21).transpose()\n",
    "df21"
   ]
  },
  {
   "cell_type": "code",
   "execution_count": 147,
   "metadata": {},
   "outputs": [],
   "source": [
    "def value_function(dataframe,j):\n",
    "    observed_value =  -0.6231*dataframe.iloc[0][j]*- -0.458*dataframe.iloc[0][5+j]\n",
    "    return np.exp(observed_value)"
   ]
  },
  {
   "cell_type": "code",
   "execution_count": 148,
   "metadata": {
    "scrolled": true
   },
   "outputs": [
    {
     "name": "stdout",
     "output_type": "stream",
     "text": [
      "id =3 person choose j=1, than exp value fucntion is 0.05885172868379539\n",
      "id =3 person choose j=2, than exp value fucntion is 0.045988198491830876\n",
      "id =14 person choose j=2, than exp value fucntion is 0.14403004562443908\n",
      "id =14 person choose j=2, than exp value fucntion is 0.13931800817658552\n"
     ]
    }
   ],
   "source": [
    "print('id =3 person choose j=1, than exp value fucntion is {}'.format(value_function(df3,1)))\n",
    "print('id =3 person choose j=2, than exp value fucntion is {}'.format(value_function(df3,2)))\n",
    "print('id =14 person choose j=2, than exp value fucntion is {}'.format(value_function(df14,1)))\n",
    "print('id =14 person choose j=2, than exp value fucntion is {}'.format(value_function(df14,2)))\n",
    "numerator_id3_j1 = value_function(df3,1)\n",
    "numerator_id3_j2 = value_function(df3,2)\n",
    "numerator_id14_j1 = value_function(df14,1)\n",
    "numerator_id14_j2 = value_function(df14,2)"
   ]
  },
  {
   "cell_type": "code",
   "execution_count": 152,
   "metadata": {},
   "outputs": [
    {
     "name": "stdout",
     "output_type": "stream",
     "text": [
      "0.05885172868379539\n",
      "0.045988198491830876\n",
      "0.00012099475321512345\n",
      "3.0533492151338645e-05\n",
      "0.005917986480380779\n"
     ]
    }
   ],
   "source": [
    "print(value_function(df3,1))\n",
    "print(value_function(df3,2))\n",
    "print(value_function(df3,3))\n",
    "print(value_function(df3,4))\n",
    "print(value_function(df3,5))"
   ]
  },
  {
   "cell_type": "code",
   "execution_count": 169,
   "metadata": {},
   "outputs": [],
   "source": [
    "def total_value_function(dataframe):\n",
    "    empty =[]\n",
    "    for i in range(1,6):\n",
    "        each_value = value_function(dataframe,i)\n",
    "        empty.append(each_value)\n",
    "    return sum(empty)"
   ]
  },
  {
   "cell_type": "code",
   "execution_count": 170,
   "metadata": {},
   "outputs": [
    {
     "data": {
      "text/plain": [
       "0.1109094419013735"
      ]
     },
     "execution_count": 170,
     "metadata": {},
     "output_type": "execute_result"
    }
   ],
   "source": [
    "total_value_function(df3)"
   ]
  },
  {
   "cell_type": "code",
   "execution_count": 171,
   "metadata": {},
   "outputs": [
    {
     "name": "stdout",
     "output_type": "stream",
     "text": [
      "id =3 person total values all possible j is 0.1109094419013735\n",
      "id =14 person total values all possible j is 0.30589509346942606\n"
     ]
    }
   ],
   "source": [
    "print('id =3 person total values all possible j is {}'.format(total_value_function(df3)))\n",
    "print('id =14 person total values all possible j is {}'.format(total_value_function(df14)))\n",
    "denominator_id3 = total_value_function(df3)\n",
    "denominator_id14= total_value_function(df14)"
   ]
  },
  {
   "cell_type": "code",
   "execution_count": 178,
   "metadata": {},
   "outputs": [],
   "source": [
    "def predict_prob(dataframe,j):\n",
    "    numerator = value_function(dataframe,j)\n",
    "    denominator = total_value_function(dataframe)\n",
    "    value = numerator/denominator\n",
    "    return value"
   ]
  },
  {
   "cell_type": "code",
   "execution_count": 179,
   "metadata": {},
   "outputs": [],
   "source": [
    "# Predicted Probability of id =3,14,21 in different j={1,2,3,4,5}"
   ]
  },
  {
   "cell_type": "code",
   "execution_count": 180,
   "metadata": {},
   "outputs": [
    {
     "name": "stdout",
     "output_type": "stream",
     "text": [
      "id=3 choise j=1 probability with: 0.53062866131929\n",
      "id=3 choise j=2 probability with: 0.4146463790948114\n",
      "id=3 choise j=3 probability with: 0.0010909328470223333\n",
      "id=3 choise j=4 probability with: 0.0002753011071725582\n",
      "id=3 choise j=5 probability with: 0.053358725631703775\n"
     ]
    }
   ],
   "source": [
    "print('id=3 choise j=1 probability with:', predict_prob(df3,1))\n",
    "print('id=3 choise j=2 probability with:', predict_prob(df3,2))\n",
    "print('id=3 choise j=3 probability with:', predict_prob(df3,3))\n",
    "print('id=3 choise j=4 probability with:', predict_prob(df3,4))\n",
    "print('id=3 choise j=5 probability with:', predict_prob(df3,5))"
   ]
  },
  {
   "cell_type": "code",
   "execution_count": 181,
   "metadata": {},
   "outputs": [
    {
     "name": "stdout",
     "output_type": "stream",
     "text": [
      "id=14 choise j=1 probability with: 0.4708478452232342\n",
      "id=14 choise j=2 probability with: 0.455443749020153\n",
      "id=14 choise j=3 probability with: 0.002500049059887786\n",
      "id=14 choise j=4 probability with: 0.0009877003891237339\n",
      "id=14 choise j=5 probability with: 0.07022065630760146\n"
     ]
    }
   ],
   "source": [
    "print('id=14 choise j=1 probability with:', predict_prob(df14,1))\n",
    "print('id=14 choise j=2 probability with:', predict_prob(df14,2))\n",
    "print('id=14 choise j=3 probability with:', predict_prob(df14,3))\n",
    "print('id=14 choise j=4 probability with:', predict_prob(df14,4))\n",
    "print('id=14 choise j=5 probability with:', predict_prob(df14,5))"
   ]
  },
  {
   "cell_type": "code",
   "execution_count": 182,
   "metadata": {},
   "outputs": [
    {
     "name": "stdout",
     "output_type": "stream",
     "text": [
      "id=21 choise j=1 probability with: 0.5862173948312379\n",
      "id=21 choise j=2 probability with: 0.3604298777803232\n",
      "id=21 choise j=3 probability with: 0.0007876424483728273\n",
      "id=21 choise j=4 probability with: 0.02326458890946419\n",
      "id=21 choise j=5 probability with: 0.029300496030601794\n"
     ]
    }
   ],
   "source": [
    "print('id=21 choise j=1 probability with:', predict_prob(df21,1))\n",
    "print('id=21 choise j=2 probability with:', predict_prob(df21,2))\n",
    "print('id=21 choise j=3 probability with:', predict_prob(df21,3))\n",
    "print('id=21 choise j=4 probability with:', predict_prob(df21,4))\n",
    "print('id=21 choise j=5 probability with:', predict_prob(df21,5))"
   ]
  },
  {
   "cell_type": "markdown",
   "metadata": {},
   "source": [
    "# 16.4 1time WTP for 15% reduction in the installation cost of alternative j=5, \n",
    "# &nbsp; &nbsp; &nbsp; &nbsp; for each of the three people"
   ]
  },
  {
   "cell_type": "code",
   "execution_count": 198,
   "metadata": {},
   "outputs": [
    {
     "data": {
      "text/html": [
       "<div>\n",
       "<style scoped>\n",
       "    .dataframe tbody tr th:only-of-type {\n",
       "        vertical-align: middle;\n",
       "    }\n",
       "\n",
       "    .dataframe tbody tr th {\n",
       "        vertical-align: top;\n",
       "    }\n",
       "\n",
       "    .dataframe thead th {\n",
       "        text-align: right;\n",
       "    }\n",
       "</style>\n",
       "<table border=\"1\" class=\"dataframe\">\n",
       "  <thead>\n",
       "    <tr style=\"text-align: right;\">\n",
       "      <th></th>\n",
       "      <th>id</th>\n",
       "      <th>ic5</th>\n",
       "      <th>oc5</th>\n",
       "    </tr>\n",
       "  </thead>\n",
       "  <tbody>\n",
       "    <tr>\n",
       "      <th>2</th>\n",
       "      <td>3</td>\n",
       "      <td>10.4830</td>\n",
       "      <td>1.7147</td>\n",
       "    </tr>\n",
       "    <tr>\n",
       "      <th>13</th>\n",
       "      <td>14</td>\n",
       "      <td>7.7554</td>\n",
       "      <td>1.7353</td>\n",
       "    </tr>\n",
       "    <tr>\n",
       "      <th>20</th>\n",
       "      <td>21</td>\n",
       "      <td>10.8310</td>\n",
       "      <td>2.0387</td>\n",
       "    </tr>\n",
       "  </tbody>\n",
       "</table>\n",
       "</div>"
      ],
      "text/plain": [
       "    id      ic5     oc5\n",
       "2    3  10.4830  1.7147\n",
       "13  14   7.7554  1.7353\n",
       "20  21  10.8310  2.0387"
      ]
     },
     "execution_count": 198,
     "metadata": {},
     "output_type": "execute_result"
    }
   ],
   "source": [
    "df15WTP = df.iloc[:,[0,5,10]]\n",
    "df15WTP "
   ]
  },
  {
   "cell_type": "markdown",
   "metadata": {},
   "source": [
    "* From (1), MWTP is 1.36 and the unit of cost is $100\n",
    "* 1 time willingenss to pay = cost reduction for j=5 X marginal willingness to pay "
   ]
  },
  {
   "cell_type": "code",
   "execution_count": 204,
   "metadata": {},
   "outputs": [
    {
     "data": {
      "text/plain": [
       "10.483"
      ]
     },
     "execution_count": 204,
     "metadata": {},
     "output_type": "execute_result"
    }
   ],
   "source": [
    "df15WTP.iloc[0][1] "
   ]
  },
  {
   "cell_type": "code",
   "execution_count": 220,
   "metadata": {},
   "outputs": [],
   "source": [
    "# id3 = 0, id14=1, id21=2\n",
    "def cost_reduction_mwtp(id):\n",
    "    mwtp_cost_reduction = df15WTP.iloc[id][1]*0.15*1.36*100\n",
    "    return mwtp_cost_reduction"
   ]
  },
  {
   "cell_type": "markdown",
   "metadata": {},
   "source": [
    "# 1 time WTP to install j=5 in the cost reduction in different persona are:"
   ]
  },
  {
   "cell_type": "code",
   "execution_count": 229,
   "metadata": {},
   "outputs": [
    {
     "name": "stdout",
     "output_type": "stream",
     "text": [
      "id=3 persons WTP in cost redution for j=5 is: $ 213.853\n"
     ]
    }
   ],
   "source": [
    "print('id=3 person''s WTP in cost redution for j=5 is: $', round(cost_reduction_mwtp(0),3))"
   ]
  },
  {
   "cell_type": "code",
   "execution_count": 227,
   "metadata": {},
   "outputs": [
    {
     "name": "stdout",
     "output_type": "stream",
     "text": [
      "id=14 persons WTP in cost redution for j=5 is: $ 158.21\n"
     ]
    }
   ],
   "source": [
    "print('id=14 person''s WTP in cost redution for j=5 is: $', round(cost_reduction_mwtp(1),3))"
   ]
  },
  {
   "cell_type": "code",
   "execution_count": 228,
   "metadata": {},
   "outputs": [
    {
     "name": "stdout",
     "output_type": "stream",
     "text": [
      "id=21 persons WTP in cost redution for j=5 is: $ 220.952\n"
     ]
    }
   ],
   "source": [
    "print('id=21 person''s WTP in cost redution for j=5 is: $',  round(cost_reduction_mwtp(2),3))"
   ]
  }
 ],
 "metadata": {
  "kernelspec": {
   "display_name": "Python 3",
   "language": "python",
   "name": "python3"
  },
  "language_info": {
   "codemirror_mode": {
    "name": "ipython",
    "version": 3
   },
   "file_extension": ".py",
   "mimetype": "text/x-python",
   "name": "python",
   "nbconvert_exporter": "python",
   "pygments_lexer": "ipython3",
   "version": "3.7.3"
  }
 },
 "nbformat": 4,
 "nbformat_minor": 2
}
