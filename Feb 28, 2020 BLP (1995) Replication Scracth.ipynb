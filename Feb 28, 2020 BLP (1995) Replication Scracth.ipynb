{
 "cells": [
  {
   "cell_type": "markdown",
   "metadata": {},
   "source": [
    "---\n",
    "# Feb 28, 2020 Metric 3 HW1 BLP (1995)\n",
    "---\n",
    "* Name: Jikhan Jeong\n",
    "* Logistics:  Due to the limited capcity and low understanding, **the most of code is from online resources and modified by me**.\n",
    "* Env: All the code and answer are in one Jupyter notebook file\n",
    "* Paper: Berry, Steven, James Levinsohn, and Ariel Pakes. \"Automobile prices in market equilibrium.\" Econometrica: Journal of the Econometric Society (1995): 841-890.\n",
    "* Data: cardata.txt (https://kohei-kawaguchi.github.io/EmpiricalIO/assignment4.html, data source)\n",
    "* Ref: https://mark-ponder.com/tutorials/static-discrete-choice-models/random-coefficients-blp/ (Julia)\n",
    "* Ref: https://kohei-kawaguchi.github.io/EmpiricalIO/assignment4.html (R)\n",
    "* Ref: https://jeffgortmaker.com/files/pyblp.pdf (Python Package)\n",
    "* Ref: https://hktosun.github.io/coursework/blp.html (R & Python)\n",
    "* Ref: http://www.ivan-li.com/code/blp_1995 (Python)\n",
    "* Ref: https://python.quantecon.org/ols.html (2sls, Python statsmodel package)\n",
    "---"
   ]
  },
  {
   "cell_type": "markdown",
   "metadata": {},
   "source": [
    "# 0. Load data \n",
    "---"
   ]
  },
  {
   "cell_type": "code",
   "execution_count": 324,
   "metadata": {},
   "outputs": [
    {
     "name": "stdout",
     "output_type": "stream",
     "text": [
      "/data/cahnrs/jikhan.jeong/metric3_2020\n"
     ]
    }
   ],
   "source": [
    "import os\n",
    "os.chdir('/data/cahnrs/jikhan.jeong/metric3_2020')\n",
    "print(os.getcwd())"
   ]
  },
  {
   "cell_type": "markdown",
   "metadata": {},
   "source": [
    "---\n",
    "### 0-1: Matlab Data Load\n",
    "* Data structure equires more datawork. so I gave up to use it\n",
    "* Using alterative txt format dataset\n",
    "---"
   ]
  },
  {
   "cell_type": "code",
   "execution_count": 325,
   "metadata": {},
   "outputs": [
    {
     "data": {
      "text/html": [
       "<div>\n",
       "<style scoped>\n",
       "    .dataframe tbody tr th:only-of-type {\n",
       "        vertical-align: middle;\n",
       "    }\n",
       "\n",
       "    .dataframe tbody tr th {\n",
       "        vertical-align: top;\n",
       "    }\n",
       "\n",
       "    .dataframe thead th {\n",
       "        text-align: right;\n",
       "    }\n",
       "</style>\n",
       "<table border=\"1\" class=\"dataframe\">\n",
       "  <thead>\n",
       "    <tr style=\"text-align: right;\">\n",
       "      <th></th>\n",
       "      <th>model_id</th>\n",
       "      <th>own_dummies</th>\n",
       "      <th>id</th>\n",
       "      <th>product</th>\n",
       "      <th>const</th>\n",
       "      <th>mpd</th>\n",
       "      <th>air</th>\n",
       "      <th>mpg</th>\n",
       "      <th>trend</th>\n",
       "      <th>space</th>\n",
       "      <th>hpwt</th>\n",
       "      <th>cdindex</th>\n",
       "      <th>cdid</th>\n",
       "      <th>outshr</th>\n",
       "      <th>firmid</th>\n",
       "      <th>share</th>\n",
       "      <th>price</th>\n",
       "    </tr>\n",
       "  </thead>\n",
       "  <tbody>\n",
       "    <tr>\n",
       "      <td>0</td>\n",
       "      <td>[23]</td>\n",
       "      <td>[0, 0, 0, 0, 0, 0, 0, 0, 0, 0, 0, 0, 0, 0, 1, ...</td>\n",
       "      <td>[129]</td>\n",
       "      <td>[1]</td>\n",
       "      <td>[1]</td>\n",
       "      <td>[1.8881456043956044]</td>\n",
       "      <td>[0]</td>\n",
       "      <td>[1.6969999999999998]</td>\n",
       "      <td>[0]</td>\n",
       "      <td>[1.1502000000000001]</td>\n",
       "      <td>[0.5289968652037618]</td>\n",
       "      <td>[92]</td>\n",
       "      <td>[1]</td>\n",
       "      <td>[0.8801062901193832]</td>\n",
       "      <td>[15]</td>\n",
       "      <td>[0.0010512928190053391]</td>\n",
       "      <td>[4.935802469135802]</td>\n",
       "    </tr>\n",
       "  </tbody>\n",
       "</table>\n",
       "</div>"
      ],
      "text/plain": [
       "  model_id                                        own_dummies     id product  \\\n",
       "0     [23]  [0, 0, 0, 0, 0, 0, 0, 0, 0, 0, 0, 0, 0, 0, 1, ...  [129]     [1]   \n",
       "\n",
       "  const                   mpd  air                   mpg trend  \\\n",
       "0   [1]  [1.8881456043956044]  [0]  [1.6969999999999998]   [0]   \n",
       "\n",
       "                  space                  hpwt cdindex cdid  \\\n",
       "0  [1.1502000000000001]  [0.5289968652037618]    [92]  [1]   \n",
       "\n",
       "                 outshr firmid                    share                price  \n",
       "0  [0.8801062901193832]   [15]  [0.0010512928190053391]  [4.935802469135802]  "
      ]
     },
     "execution_count": 325,
     "metadata": {},
     "output_type": "execute_result"
    }
   ],
   "source": [
    "import mat4py as mtp\n",
    "raw = mtp.loadmat('BLP_data.mat')\n",
    "raw = pd.DataFrame.from_dict(raw, orient ='index').T\n",
    "raw.head(1)\n",
    "# Give up to use this dataset.\n",
    "# Ref: https://stackoverflow.com/questions/40828797/writing-python-numpy-arrays-to-mat-file (mat4py)"
   ]
  },
  {
   "cell_type": "markdown",
   "metadata": {},
   "source": [
    "# Loading Package and Pre-defined functions"
   ]
  },
  {
   "cell_type": "code",
   "execution_count": 327,
   "metadata": {},
   "outputs": [],
   "source": [
    "import numpy as np\n",
    "import pandas as pd\n",
    "from numba import jit\n",
    "from numpy.linalg import inv # inverse matrix for 2sls coefficients\n",
    "import matplotlib.pyplot as plt\n",
    "from scipy.optimize import minimize # optimization BFGS\n",
    "from scipy import stats # to derive p-value\n",
    "import pyblp # used for replication study and not used in here\n",
    "\n",
    "np.set_printoptions(linewidth=np.inf) # For display in one row : ref: https://stackoverflow.com/questions/56204072/numpy-print-matrix-one-row-one-line\n",
    "np.set_printoptions(threshold=np.inf) # For display in all column : ref: https://stackoverflow.com/questions/1987694/how-to-print-the-full-numpy-array-without-truncation"
   ]
  },
  {
   "cell_type": "code",
   "execution_count": 328,
   "metadata": {},
   "outputs": [],
   "source": [
    "# Pre-defined function by me for pandas data handling\n",
    "def unique_value_list(df, var):\n",
    "    u_list = df[var].unique()\n",
    "    u_list = sorted(u_list)\n",
    "    return u_list \n",
    "\n",
    "def print_full(x):\n",
    "    pd.set_option('display.max_rows', len(x))\n",
    "    print(x)\n",
    "    pd.reset_option('display.max_rows')\n",
    "\n",
    "def unique_value_distribution(df,var_name): \n",
    "    category_distribution = pd.DataFrame(df[var_name].value_counts())\n",
    "    print_full(category_distribution)\n",
    "\n",
    "def df_add_var_dummy(df, var):\n",
    "    df = pd.concat([df, pd.get_dummies(df[var])],axis=1)\n",
    "    return df \n",
    "\n",
    "def select_by_var_value(df, var, value):\n",
    "    sub_df = df[df[var] == value]\n",
    "    return sub_df\n",
    "\n",
    "def sum_df(df):\n",
    "    print('type: ', type(df))\n",
    "    print('shape: ', df.shape)\n",
    "\n",
    "def column_name(df):\n",
    "    print(len(df.columns.tolist()))\n",
    "    print(df.columns.tolist())\n",
    "\n",
    "def count(df):\n",
    "    return df.count()\n",
    "\n",
    "def head(df, num=1):\n",
    "    print('shape: ', df.shape)\n",
    "    return df.head(num)\n",
    "\n",
    "def tail(df, num=1):\n",
    "    print('shape: ',df.shape)\n",
    "    return df.tail(num)\n",
    "\n",
    "def re_index(df):\n",
    "    df = df.reset_index(drop=True)\n",
    "    return df\n",
    "\n",
    "# load pandas dataframe or save \n",
    "# df.to_csv('df.txt', header = True)\n",
    "# df = pd.read_csv('df.csv', index_col=[0])"
   ]
  },
  {
   "cell_type": "code",
   "execution_count": null,
   "metadata": {},
   "outputs": [],
   "source": [
    "# pandas dataframe to numpy array\n",
    "# df.values\n",
    "# Ref: https://stackoverflow.com/questions/13187778/convert-pandas-dataframe-to-numpy-array"
   ]
  },
  {
   "cell_type": "markdown",
   "metadata": {},
   "source": [
    "---\n",
    "# Loading Raw Data (BLP, 1995)\n",
    "* I relies on replication of BLP with following on-line note: https://kohei-kawaguchi.github.io/EmpiricalIO/assignment4.html, R and Python base)\n",
    "* Ref: Data: cardata.txt (https://kohei-kawaguchi.github.io/EmpiricalIO/assignment4.html, data source)\n",
    "---"
   ]
  },
  {
   "cell_type": "code",
   "execution_count": 329,
   "metadata": {},
   "outputs": [
    {
     "name": "stdout",
     "output_type": "stream",
     "text": [
      "shape:  (2217, 9)\n"
     ]
    },
    {
     "data": {
      "text/html": [
       "<div>\n",
       "<style scoped>\n",
       "    .dataframe tbody tr th:only-of-type {\n",
       "        vertical-align: middle;\n",
       "    }\n",
       "\n",
       "    .dataframe tbody tr th {\n",
       "        vertical-align: top;\n",
       "    }\n",
       "\n",
       "    .dataframe thead th {\n",
       "        text-align: right;\n",
       "    }\n",
       "</style>\n",
       "<table border=\"1\" class=\"dataframe\">\n",
       "  <thead>\n",
       "    <tr style=\"text-align: right;\">\n",
       "      <th></th>\n",
       "      <th>car_id</th>\n",
       "      <th>year</th>\n",
       "      <th>hpwt</th>\n",
       "      <th>size</th>\n",
       "      <th>air</th>\n",
       "      <th>mpd</th>\n",
       "      <th>price</th>\n",
       "      <th>share</th>\n",
       "      <th>firm_id</th>\n",
       "    </tr>\n",
       "  </thead>\n",
       "  <tbody>\n",
       "    <tr>\n",
       "      <td>0</td>\n",
       "      <td>AD100L</td>\n",
       "      <td>71</td>\n",
       "      <td>0.487908</td>\n",
       "      <td>1.2627</td>\n",
       "      <td>0</td>\n",
       "      <td>1.982720</td>\n",
       "      <td>8.876543</td>\n",
       "      <td>0.000281</td>\n",
       "      <td>7</td>\n",
       "    </tr>\n",
       "    <tr>\n",
       "      <td>1</td>\n",
       "      <td>ADSUPE</td>\n",
       "      <td>71</td>\n",
       "      <td>0.465766</td>\n",
       "      <td>1.1136</td>\n",
       "      <td>0</td>\n",
       "      <td>2.201909</td>\n",
       "      <td>7.641975</td>\n",
       "      <td>0.000038</td>\n",
       "      <td>7</td>\n",
       "    </tr>\n",
       "    <tr>\n",
       "      <td>2</td>\n",
       "      <td>AMAMBS</td>\n",
       "      <td>71</td>\n",
       "      <td>0.452489</td>\n",
       "      <td>1.6458</td>\n",
       "      <td>0</td>\n",
       "      <td>1.504286</td>\n",
       "      <td>8.928395</td>\n",
       "      <td>0.000442</td>\n",
       "      <td>15</td>\n",
       "    </tr>\n",
       "  </tbody>\n",
       "</table>\n",
       "</div>"
      ],
      "text/plain": [
       "   car_id  year      hpwt    size  air       mpd     price     share  firm_id\n",
       "0  AD100L    71  0.487908  1.2627    0  1.982720  8.876543  0.000281        7\n",
       "1  ADSUPE    71  0.465766  1.1136    0  2.201909  7.641975  0.000038        7\n",
       "2  AMAMBS    71  0.452489  1.6458    0  1.504286  8.928395  0.000442       15"
      ]
     },
     "execution_count": 329,
     "metadata": {},
     "output_type": "execute_result"
    }
   ],
   "source": [
    "df = pd.read_csv('cardata.txt', sep='\\t')# index_col=[0]\n",
    "df.columns = [\"car_id\", \"year\", \"hpwt\",\"size\",\"air\",\"mpd\",\"price\",\"share\",\"firm_id\"]\n",
    "head(df,3)"
   ]
  },
  {
   "cell_type": "code",
   "execution_count": 331,
   "metadata": {},
   "outputs": [
    {
     "data": {
      "text/html": [
       "<div>\n",
       "<style scoped>\n",
       "    .dataframe tbody tr th:only-of-type {\n",
       "        vertical-align: middle;\n",
       "    }\n",
       "\n",
       "    .dataframe tbody tr th {\n",
       "        vertical-align: top;\n",
       "    }\n",
       "\n",
       "    .dataframe thead th {\n",
       "        text-align: right;\n",
       "    }\n",
       "</style>\n",
       "<table border=\"1\" class=\"dataframe\">\n",
       "  <thead>\n",
       "    <tr style=\"text-align: right;\">\n",
       "      <th></th>\n",
       "      <th>year</th>\n",
       "      <th>hpwt</th>\n",
       "      <th>size</th>\n",
       "      <th>air</th>\n",
       "      <th>mpd</th>\n",
       "      <th>price</th>\n",
       "      <th>share</th>\n",
       "      <th>firm_id</th>\n",
       "    </tr>\n",
       "  </thead>\n",
       "  <tbody>\n",
       "    <tr>\n",
       "      <td>count</td>\n",
       "      <td>2217.000000</td>\n",
       "      <td>2217.000000</td>\n",
       "      <td>2217.000000</td>\n",
       "      <td>2217.000000</td>\n",
       "      <td>2217.000000</td>\n",
       "      <td>2217.000000</td>\n",
       "      <td>2.217000e+03</td>\n",
       "      <td>2217.000000</td>\n",
       "    </tr>\n",
       "    <tr>\n",
       "      <td>mean</td>\n",
       "      <td>81.540370</td>\n",
       "      <td>0.394375</td>\n",
       "      <td>1.310159</td>\n",
       "      <td>0.241768</td>\n",
       "      <td>2.084870</td>\n",
       "      <td>11.761420</td>\n",
       "      <td>9.732479e-04</td>\n",
       "      <td>13.743798</td>\n",
       "    </tr>\n",
       "    <tr>\n",
       "      <td>std</td>\n",
       "      <td>5.740816</td>\n",
       "      <td>0.096643</td>\n",
       "      <td>0.237637</td>\n",
       "      <td>0.428251</td>\n",
       "      <td>0.698056</td>\n",
       "      <td>8.643777</td>\n",
       "      <td>1.144919e-03</td>\n",
       "      <td>6.259090</td>\n",
       "    </tr>\n",
       "    <tr>\n",
       "      <td>min</td>\n",
       "      <td>71.000000</td>\n",
       "      <td>0.170455</td>\n",
       "      <td>0.756000</td>\n",
       "      <td>0.000000</td>\n",
       "      <td>0.846069</td>\n",
       "      <td>3.393267</td>\n",
       "      <td>7.000000e-07</td>\n",
       "      <td>1.000000</td>\n",
       "    </tr>\n",
       "    <tr>\n",
       "      <td>25%</td>\n",
       "      <td>77.000000</td>\n",
       "      <td>0.336585</td>\n",
       "      <td>1.131279</td>\n",
       "      <td>0.000000</td>\n",
       "      <td>1.557015</td>\n",
       "      <td>6.713755</td>\n",
       "      <td>1.863000e-04</td>\n",
       "      <td>8.000000</td>\n",
       "    </tr>\n",
       "    <tr>\n",
       "      <td>50%</td>\n",
       "      <td>82.000000</td>\n",
       "      <td>0.375049</td>\n",
       "      <td>1.269827</td>\n",
       "      <td>0.000000</td>\n",
       "      <td>2.010417</td>\n",
       "      <td>8.728650</td>\n",
       "      <td>5.698000e-04</td>\n",
       "      <td>16.000000</td>\n",
       "    </tr>\n",
       "    <tr>\n",
       "      <td>75%</td>\n",
       "      <td>87.000000</td>\n",
       "      <td>0.427509</td>\n",
       "      <td>1.452700</td>\n",
       "      <td>0.000000</td>\n",
       "      <td>2.482848</td>\n",
       "      <td>13.074074</td>\n",
       "      <td>1.285500e-03</td>\n",
       "      <td>19.000000</td>\n",
       "    </tr>\n",
       "    <tr>\n",
       "      <td>max</td>\n",
       "      <td>90.000000</td>\n",
       "      <td>0.947581</td>\n",
       "      <td>1.888000</td>\n",
       "      <td>1.000000</td>\n",
       "      <td>6.436827</td>\n",
       "      <td>68.596774</td>\n",
       "      <td>9.472800e-03</td>\n",
       "      <td>26.000000</td>\n",
       "    </tr>\n",
       "  </tbody>\n",
       "</table>\n",
       "</div>"
      ],
      "text/plain": [
       "              year         hpwt         size          air          mpd  \\\n",
       "count  2217.000000  2217.000000  2217.000000  2217.000000  2217.000000   \n",
       "mean     81.540370     0.394375     1.310159     0.241768     2.084870   \n",
       "std       5.740816     0.096643     0.237637     0.428251     0.698056   \n",
       "min      71.000000     0.170455     0.756000     0.000000     0.846069   \n",
       "25%      77.000000     0.336585     1.131279     0.000000     1.557015   \n",
       "50%      82.000000     0.375049     1.269827     0.000000     2.010417   \n",
       "75%      87.000000     0.427509     1.452700     0.000000     2.482848   \n",
       "max      90.000000     0.947581     1.888000     1.000000     6.436827   \n",
       "\n",
       "             price         share      firm_id  \n",
       "count  2217.000000  2.217000e+03  2217.000000  \n",
       "mean     11.761420  9.732479e-04    13.743798  \n",
       "std       8.643777  1.144919e-03     6.259090  \n",
       "min       3.393267  7.000000e-07     1.000000  \n",
       "25%       6.713755  1.863000e-04     8.000000  \n",
       "50%       8.728650  5.698000e-04    16.000000  \n",
       "75%      13.074074  1.285500e-03    19.000000  \n",
       "max      68.596774  9.472800e-03    26.000000  "
      ]
     },
     "execution_count": 331,
     "metadata": {},
     "output_type": "execute_result"
    }
   ],
   "source": [
    "df.describe()"
   ]
  },
  {
   "cell_type": "markdown",
   "metadata": {},
   "source": [
    "---\n",
    "# <font color = blue> Table 3. OLS and 2SLS with IVs\n",
    "---"
   ]
  },
  {
   "cell_type": "markdown",
   "metadata": {},
   "source": [
    "---\n",
    "### OLS\n",
    "---\n",
    "* Using a statsmodel, the values is slightly different; however, the overall it makes sense\n",
    "* Without considering endogenous variable (=price)\n",
    "* $\\delta_{jt} = \\ln(s_{jt}) - \\ln(s_{0t})$ , where j = product, t = year\n",
    "---"
   ]
  },
  {
   "cell_type": "code",
   "execution_count": 332,
   "metadata": {},
   "outputs": [
    {
     "name": "stdout",
     "output_type": "stream",
     "text": [
      "Index(['year', 'share', 's0', 'log_s0'], dtype='object')\n"
     ]
    },
    {
     "data": {
      "text/html": [
       "<div>\n",
       "<style scoped>\n",
       "    .dataframe tbody tr th:only-of-type {\n",
       "        vertical-align: middle;\n",
       "    }\n",
       "\n",
       "    .dataframe tbody tr th {\n",
       "        vertical-align: top;\n",
       "    }\n",
       "\n",
       "    .dataframe thead th {\n",
       "        text-align: right;\n",
       "    }\n",
       "</style>\n",
       "<table border=\"1\" class=\"dataframe\">\n",
       "  <thead>\n",
       "    <tr style=\"text-align: right;\">\n",
       "      <th></th>\n",
       "      <th>year</th>\n",
       "      <th>share</th>\n",
       "      <th>s0</th>\n",
       "      <th>log_s0</th>\n",
       "    </tr>\n",
       "  </thead>\n",
       "  <tbody>\n",
       "    <tr>\n",
       "      <td>0</td>\n",
       "      <td>71</td>\n",
       "      <td>0.119894</td>\n",
       "      <td>0.880107</td>\n",
       "      <td>-0.127712</td>\n",
       "    </tr>\n",
       "    <tr>\n",
       "      <td>1</td>\n",
       "      <td>72</td>\n",
       "      <td>0.128604</td>\n",
       "      <td>0.871395</td>\n",
       "      <td>-0.137659</td>\n",
       "    </tr>\n",
       "    <tr>\n",
       "      <td>2</td>\n",
       "      <td>73</td>\n",
       "      <td>0.114224</td>\n",
       "      <td>0.885776</td>\n",
       "      <td>-0.121291</td>\n",
       "    </tr>\n",
       "  </tbody>\n",
       "</table>\n",
       "</div>"
      ],
      "text/plain": [
       "   year     share        s0    log_s0\n",
       "0    71  0.119894  0.880107 -0.127712\n",
       "1    72  0.128604  0.871395 -0.137659\n",
       "2    73  0.114224  0.885776 -0.121291"
      ]
     },
     "execution_count": 332,
     "metadata": {},
     "output_type": "execute_result"
    }
   ],
   "source": [
    "df_share = df.groupby('year', as_index=False)['share'].sum()\n",
    "df_share['s0'] = 1-year_share.share\n",
    "df_share['log_s0'] = np.log(df_share.s0)\n",
    "print(df_share.columns)\n",
    "df_share.head(3)"
   ]
  },
  {
   "cell_type": "code",
   "execution_count": 333,
   "metadata": {},
   "outputs": [
    {
     "name": "stdout",
     "output_type": "stream",
     "text": [
      "shape:  (2217, 14)\n"
     ]
    },
    {
     "data": {
      "text/html": [
       "<div>\n",
       "<style scoped>\n",
       "    .dataframe tbody tr th:only-of-type {\n",
       "        vertical-align: middle;\n",
       "    }\n",
       "\n",
       "    .dataframe tbody tr th {\n",
       "        vertical-align: top;\n",
       "    }\n",
       "\n",
       "    .dataframe thead th {\n",
       "        text-align: right;\n",
       "    }\n",
       "</style>\n",
       "<table border=\"1\" class=\"dataframe\">\n",
       "  <thead>\n",
       "    <tr style=\"text-align: right;\">\n",
       "      <th></th>\n",
       "      <th>car_id</th>\n",
       "      <th>year</th>\n",
       "      <th>hpwt</th>\n",
       "      <th>size</th>\n",
       "      <th>air</th>\n",
       "      <th>mpd</th>\n",
       "      <th>price</th>\n",
       "      <th>share</th>\n",
       "      <th>firm_id</th>\n",
       "      <th>share_year</th>\n",
       "      <th>s0</th>\n",
       "      <th>log_s0</th>\n",
       "      <th>log_share_jt</th>\n",
       "      <th>log_dif</th>\n",
       "    </tr>\n",
       "  </thead>\n",
       "  <tbody>\n",
       "    <tr>\n",
       "      <td>0</td>\n",
       "      <td>AD100L</td>\n",
       "      <td>71</td>\n",
       "      <td>0.487908</td>\n",
       "      <td>1.2627</td>\n",
       "      <td>0</td>\n",
       "      <td>1.982720</td>\n",
       "      <td>8.876543</td>\n",
       "      <td>0.000281</td>\n",
       "      <td>7</td>\n",
       "      <td>0.119894</td>\n",
       "      <td>0.880107</td>\n",
       "      <td>-0.127712</td>\n",
       "      <td>-8.177156</td>\n",
       "      <td>-8.049444</td>\n",
       "    </tr>\n",
       "    <tr>\n",
       "      <td>1</td>\n",
       "      <td>ADSUPE</td>\n",
       "      <td>71</td>\n",
       "      <td>0.465766</td>\n",
       "      <td>1.1136</td>\n",
       "      <td>0</td>\n",
       "      <td>2.201909</td>\n",
       "      <td>7.641975</td>\n",
       "      <td>0.000038</td>\n",
       "      <td>7</td>\n",
       "      <td>0.119894</td>\n",
       "      <td>0.880107</td>\n",
       "      <td>-0.127712</td>\n",
       "      <td>-10.188507</td>\n",
       "      <td>-10.060794</td>\n",
       "    </tr>\n",
       "    <tr>\n",
       "      <td>2</td>\n",
       "      <td>AMAMBS</td>\n",
       "      <td>71</td>\n",
       "      <td>0.452489</td>\n",
       "      <td>1.6458</td>\n",
       "      <td>0</td>\n",
       "      <td>1.504286</td>\n",
       "      <td>8.928395</td>\n",
       "      <td>0.000442</td>\n",
       "      <td>15</td>\n",
       "      <td>0.119894</td>\n",
       "      <td>0.880107</td>\n",
       "      <td>-0.127712</td>\n",
       "      <td>-7.723296</td>\n",
       "      <td>-7.595584</td>\n",
       "    </tr>\n",
       "  </tbody>\n",
       "</table>\n",
       "</div>"
      ],
      "text/plain": [
       "   car_id  year      hpwt    size  air       mpd     price     share  firm_id  \\\n",
       "0  AD100L    71  0.487908  1.2627    0  1.982720  8.876543  0.000281        7   \n",
       "1  ADSUPE    71  0.465766  1.1136    0  2.201909  7.641975  0.000038        7   \n",
       "2  AMAMBS    71  0.452489  1.6458    0  1.504286  8.928395  0.000442       15   \n",
       "\n",
       "   share_year        s0    log_s0  log_share_jt    log_dif  \n",
       "0    0.119894  0.880107 -0.127712     -8.177156  -8.049444  \n",
       "1    0.119894  0.880107 -0.127712    -10.188507 -10.060794  \n",
       "2    0.119894  0.880107 -0.127712     -7.723296  -7.595584  "
      ]
     },
     "execution_count": 333,
     "metadata": {},
     "output_type": "execute_result"
    }
   ],
   "source": [
    "df = pd.merge(df, df_share, how='left', on = 'year')\n",
    "df = df.rename(columns={'share_x': 'share', 'share_y': 'share_year'})\n",
    "df['log_share_jt'] = np.log(df.share)\n",
    "df['log_dif'] = df['log_share_jt'] - df['log_s0']\n",
    "head(df,3)"
   ]
  },
  {
   "cell_type": "code",
   "execution_count": 334,
   "metadata": {},
   "outputs": [
    {
     "name": "stdout",
     "output_type": "stream",
     "text": [
      "                            OLS Regression Results                            \n",
      "==============================================================================\n",
      "Dep. Variable:                log_dif   R-squared:                       0.387\n",
      "Model:                            OLS   Adj. R-squared:                  0.386\n",
      "Method:                 Least Squares   F-statistic:                     279.2\n",
      "Date:                Fri, 28 Feb 2020   Prob (F-statistic):          6.52e-232\n",
      "Time:                        20:28:27   Log-Likelihood:                -3319.3\n",
      "No. Observations:                2217   AIC:                             6651.\n",
      "Df Residuals:                    2211   BIC:                             6685.\n",
      "Df Model:                           5                                         \n",
      "Covariance Type:            nonrobust                                         \n",
      "==============================================================================\n",
      "                 coef    std err          t      P>|t|      [0.025      0.975]\n",
      "------------------------------------------------------------------------------\n",
      "Intercept    -10.0716      0.253    -39.823      0.000     -10.568      -9.576\n",
      "hpwt          -0.1242      0.277     -0.448      0.654      -0.668       0.420\n",
      "air           -0.0343      0.073     -0.472      0.637      -0.177       0.108\n",
      "mpd            0.2650      0.043      6.145      0.000       0.180       0.350\n",
      "size           2.3421      0.125     18.707      0.000       2.097       2.588\n",
      "price         -0.0886      0.004    -22.015      0.000      -0.097      -0.081\n",
      "==============================================================================\n",
      "Omnibus:                      157.932   Durbin-Watson:                   1.417\n",
      "Prob(Omnibus):                  0.000   Jarque-Bera (JB):              205.482\n",
      "Skew:                          -0.632   Prob(JB):                     2.40e-45\n",
      "Kurtosis:                       3.792   Cond. No.                         203.\n",
      "==============================================================================\n",
      "\n",
      "Warnings:\n",
      "[1] Standard Errors assume that the covariance matrix of the errors is correctly specified.\n"
     ]
    }
   ],
   "source": [
    "import statsmodels.formula.api as sm\n",
    "ols = sm.ols(formula=\"log_dif ~ hpwt + air + mpd + size + price\", data=df).fit()\n",
    "print(ols.summary())"
   ]
  },
  {
   "cell_type": "markdown",
   "metadata": {},
   "source": [
    "---\n",
    "# Interpretation\n",
    "* constant, mpd, size, price are significant at 1% level\n",
    "* price coefficient is negative (= law of demand, normal good)\n",
    "* R squre is 0.386 so that the variation of Y (=log(s_jt) - log(s0)) is 61.4% explained by unobserved terms (=need to consider undobserved charateristics) \n",
    "---"
   ]
  },
  {
   "cell_type": "markdown",
   "metadata": {},
   "source": [
    "---\n",
    "### 2SLS\n",
    "---\n",
    "* Personally, I think using R or Stata may better for econometric part such as conventional methods rather than Python for sure.\n",
    "* Just changing kernel from python to stata or R, it is okay in jupter notebook; however, this is a homework so as it requires I am usin python only. \n",
    "* Ref: https://python.quantecon.org/ols.html (2sls)\n",
    "* Package: https://pypi.org/project/linearmodels/  (llinearmodels, extened version of statmodels for IV2SLS)\n",
    "* Package: https://github.com/bashtage/linearmodels/blob/master/examples/iv_basic-examples.ipynb (IV2SLS, example)\n",
    "---"
   ]
  },
  {
   "cell_type": "markdown",
   "metadata": {},
   "source": [
    "#### Optimal IVs for 2SLS\n",
    "---\n",
    "* (5.8) Optimal IVs (paper, 861 page)\n",
    "* $ z_{jtk}, \\sum_{r\\neq j, r\\in F_{f}} z_{rtk} , \\sum_{r\\neq  j, r\\notin F_{f}} z_{rtk}$ \n",
    "* $F_{f}$ : is the set of products produced by firm f  \n",
    "* The second term implies the sum of kth product caharteristics own firm product exlcuding product j \n",
    "* The thrid term implies the sum of kth product caharteristics other firm product exlcuding product j\n",
    "* The number of own firm products, the nubmer of rival-firm products become instruments (in paper)\n",
    "---"
   ]
  },
  {
   "cell_type": "code",
   "execution_count": 335,
   "metadata": {},
   "outputs": [
    {
     "data": {
      "text/html": [
       "<div>\n",
       "<style scoped>\n",
       "    .dataframe tbody tr th:only-of-type {\n",
       "        vertical-align: middle;\n",
       "    }\n",
       "\n",
       "    .dataframe tbody tr th {\n",
       "        vertical-align: top;\n",
       "    }\n",
       "\n",
       "    .dataframe thead th {\n",
       "        text-align: right;\n",
       "    }\n",
       "</style>\n",
       "<table border=\"1\" class=\"dataframe\">\n",
       "  <thead>\n",
       "    <tr style=\"text-align: right;\">\n",
       "      <th></th>\n",
       "      <th>year</th>\n",
       "      <th>firm_id</th>\n",
       "      <th>sum_hpwt_tf</th>\n",
       "      <th>sum_air_tf</th>\n",
       "      <th>sum_mpd_tf</th>\n",
       "      <th>sum_size_tf</th>\n",
       "      <th>own_count</th>\n",
       "    </tr>\n",
       "  </thead>\n",
       "  <tbody>\n",
       "    <tr>\n",
       "      <td>0</td>\n",
       "      <td>71</td>\n",
       "      <td>1</td>\n",
       "      <td>2.230527</td>\n",
       "      <td>0</td>\n",
       "      <td>11.381168</td>\n",
       "      <td>5.3569</td>\n",
       "      <td>5</td>\n",
       "    </tr>\n",
       "    <tr>\n",
       "      <td>1</td>\n",
       "      <td>71</td>\n",
       "      <td>2</td>\n",
       "      <td>0.867832</td>\n",
       "      <td>0</td>\n",
       "      <td>5.267225</td>\n",
       "      <td>1.8980</td>\n",
       "      <td>2</td>\n",
       "    </tr>\n",
       "    <tr>\n",
       "      <td>2</td>\n",
       "      <td>71</td>\n",
       "      <td>3</td>\n",
       "      <td>0.243750</td>\n",
       "      <td>0</td>\n",
       "      <td>2.836113</td>\n",
       "      <td>0.8586</td>\n",
       "      <td>1</td>\n",
       "    </tr>\n",
       "  </tbody>\n",
       "</table>\n",
       "</div>"
      ],
      "text/plain": [
       "   year  firm_id  sum_hpwt_tf  sum_air_tf  sum_mpd_tf  sum_size_tf  own_count\n",
       "0    71        1     2.230527           0   11.381168       5.3569          5\n",
       "1    71        2     0.867832           0    5.267225       1.8980          2\n",
       "2    71        3     0.243750           0    2.836113       0.8586          1"
      ]
     },
     "execution_count": 335,
     "metadata": {},
     "output_type": "execute_result"
    }
   ],
   "source": [
    "df_iv_year_firm = df.groupby(['year','firm_id'], as_index=False)[ 'hpwt', 'air',  'mpd',  'size'].sum()\n",
    "df_iv_year_firm['own_count'] = df.groupby(['year','firm_id'], as_index=False).car_id.count()['car_id']\n",
    "df_iv_year_firm  = df_iv_year_firm.rename(columns={'hpwt': 'sum_hpwt_tf', 'air':'sum_air_tf', 'mpd':'sum_mpd_tf', 'size':'sum_size_tf'})\n",
    "df_iv_year_firm.head(3)"
   ]
  },
  {
   "cell_type": "code",
   "execution_count": 336,
   "metadata": {},
   "outputs": [
    {
     "data": {
      "text/html": [
       "<div>\n",
       "<style scoped>\n",
       "    .dataframe tbody tr th:only-of-type {\n",
       "        vertical-align: middle;\n",
       "    }\n",
       "\n",
       "    .dataframe tbody tr th {\n",
       "        vertical-align: top;\n",
       "    }\n",
       "\n",
       "    .dataframe thead th {\n",
       "        text-align: right;\n",
       "    }\n",
       "</style>\n",
       "<table border=\"1\" class=\"dataframe\">\n",
       "  <thead>\n",
       "    <tr style=\"text-align: right;\">\n",
       "      <th></th>\n",
       "      <th>car_id</th>\n",
       "      <th>year</th>\n",
       "      <th>hpwt</th>\n",
       "      <th>size</th>\n",
       "      <th>air</th>\n",
       "      <th>mpd</th>\n",
       "      <th>price</th>\n",
       "      <th>share</th>\n",
       "      <th>firm_id</th>\n",
       "      <th>share_year</th>\n",
       "      <th>s0</th>\n",
       "      <th>log_s0</th>\n",
       "      <th>log_share_jt</th>\n",
       "      <th>log_dif</th>\n",
       "      <th>sum_hpwt_tf</th>\n",
       "      <th>sum_air_tf</th>\n",
       "      <th>sum_mpd_tf</th>\n",
       "      <th>sum_size_tf</th>\n",
       "      <th>own_count</th>\n",
       "    </tr>\n",
       "  </thead>\n",
       "  <tbody>\n",
       "    <tr>\n",
       "      <td>0</td>\n",
       "      <td>AD100L</td>\n",
       "      <td>71</td>\n",
       "      <td>0.487908</td>\n",
       "      <td>1.2627</td>\n",
       "      <td>0</td>\n",
       "      <td>1.982720</td>\n",
       "      <td>8.876543</td>\n",
       "      <td>0.000281</td>\n",
       "      <td>7</td>\n",
       "      <td>0.119894</td>\n",
       "      <td>0.880107</td>\n",
       "      <td>-0.127712</td>\n",
       "      <td>-8.177156</td>\n",
       "      <td>-8.049444</td>\n",
       "      <td>1.841746</td>\n",
       "      <td>0</td>\n",
       "      <td>11.417885</td>\n",
       "      <td>5.6416</td>\n",
       "      <td>5</td>\n",
       "    </tr>\n",
       "    <tr>\n",
       "      <td>1</td>\n",
       "      <td>ADSUPE</td>\n",
       "      <td>71</td>\n",
       "      <td>0.465766</td>\n",
       "      <td>1.1136</td>\n",
       "      <td>0</td>\n",
       "      <td>2.201909</td>\n",
       "      <td>7.641975</td>\n",
       "      <td>0.000038</td>\n",
       "      <td>7</td>\n",
       "      <td>0.119894</td>\n",
       "      <td>0.880107</td>\n",
       "      <td>-0.127712</td>\n",
       "      <td>-10.188507</td>\n",
       "      <td>-10.060794</td>\n",
       "      <td>1.841746</td>\n",
       "      <td>0</td>\n",
       "      <td>11.417885</td>\n",
       "      <td>5.6416</td>\n",
       "      <td>5</td>\n",
       "    </tr>\n",
       "    <tr>\n",
       "      <td>2</td>\n",
       "      <td>VW411</td>\n",
       "      <td>71</td>\n",
       "      <td>0.328294</td>\n",
       "      <td>1.1946</td>\n",
       "      <td>0</td>\n",
       "      <td>2.060604</td>\n",
       "      <td>7.404938</td>\n",
       "      <td>0.000372</td>\n",
       "      <td>7</td>\n",
       "      <td>0.119894</td>\n",
       "      <td>0.880107</td>\n",
       "      <td>-0.127712</td>\n",
       "      <td>-7.897693</td>\n",
       "      <td>-7.769980</td>\n",
       "      <td>1.841746</td>\n",
       "      <td>0</td>\n",
       "      <td>11.417885</td>\n",
       "      <td>5.6416</td>\n",
       "      <td>5</td>\n",
       "    </tr>\n",
       "  </tbody>\n",
       "</table>\n",
       "</div>"
      ],
      "text/plain": [
       "   car_id  year      hpwt    size  air       mpd     price     share  firm_id  \\\n",
       "0  AD100L    71  0.487908  1.2627    0  1.982720  8.876543  0.000281        7   \n",
       "1  ADSUPE    71  0.465766  1.1136    0  2.201909  7.641975  0.000038        7   \n",
       "2   VW411    71  0.328294  1.1946    0  2.060604  7.404938  0.000372        7   \n",
       "\n",
       "   share_year        s0    log_s0  log_share_jt    log_dif  sum_hpwt_tf  \\\n",
       "0    0.119894  0.880107 -0.127712     -8.177156  -8.049444     1.841746   \n",
       "1    0.119894  0.880107 -0.127712    -10.188507 -10.060794     1.841746   \n",
       "2    0.119894  0.880107 -0.127712     -7.897693  -7.769980     1.841746   \n",
       "\n",
       "   sum_air_tf  sum_mpd_tf  sum_size_tf  own_count  \n",
       "0           0   11.417885       5.6416          5  \n",
       "1           0   11.417885       5.6416          5  \n",
       "2           0   11.417885       5.6416          5  "
      ]
     },
     "execution_count": 336,
     "metadata": {},
     "output_type": "execute_result"
    }
   ],
   "source": [
    "df = pd.merge(df, df_iv_year_firm, how='inner', on =['year', 'firm_id'])\n",
    "df.head(3)"
   ]
  },
  {
   "cell_type": "code",
   "execution_count": 337,
   "metadata": {},
   "outputs": [
    {
     "data": {
      "text/html": [
       "<div>\n",
       "<style scoped>\n",
       "    .dataframe tbody tr th:only-of-type {\n",
       "        vertical-align: middle;\n",
       "    }\n",
       "\n",
       "    .dataframe tbody tr th {\n",
       "        vertical-align: top;\n",
       "    }\n",
       "\n",
       "    .dataframe thead th {\n",
       "        text-align: right;\n",
       "    }\n",
       "</style>\n",
       "<table border=\"1\" class=\"dataframe\">\n",
       "  <thead>\n",
       "    <tr style=\"text-align: right;\">\n",
       "      <th></th>\n",
       "      <th>year</th>\n",
       "      <th>sum_hpwt_t</th>\n",
       "      <th>sum_air_t</th>\n",
       "      <th>sum_mpd_t</th>\n",
       "      <th>sum_size_t</th>\n",
       "      <th>year_all_count</th>\n",
       "    </tr>\n",
       "  </thead>\n",
       "  <tbody>\n",
       "    <tr>\n",
       "      <td>0</td>\n",
       "      <td>71</td>\n",
       "      <td>46.925503</td>\n",
       "      <td>0</td>\n",
       "      <td>176.058173</td>\n",
       "      <td>132.7013</td>\n",
       "      <td>92</td>\n",
       "    </tr>\n",
       "    <tr>\n",
       "      <td>1</td>\n",
       "      <td>72</td>\n",
       "      <td>36.227952</td>\n",
       "      <td>4</td>\n",
       "      <td>168.302316</td>\n",
       "      <td>129.7578</td>\n",
       "      <td>89</td>\n",
       "    </tr>\n",
       "    <tr>\n",
       "      <td>2</td>\n",
       "      <td>73</td>\n",
       "      <td>33.112552</td>\n",
       "      <td>6</td>\n",
       "      <td>159.925826</td>\n",
       "      <td>126.1010</td>\n",
       "      <td>86</td>\n",
       "    </tr>\n",
       "    <tr>\n",
       "      <td>3</td>\n",
       "      <td>74</td>\n",
       "      <td>26.496995</td>\n",
       "      <td>9</td>\n",
       "      <td>108.976167</td>\n",
       "      <td>102.6927</td>\n",
       "      <td>72</td>\n",
       "    </tr>\n",
       "    <tr>\n",
       "      <td>4</td>\n",
       "      <td>75</td>\n",
       "      <td>32.959320</td>\n",
       "      <td>10</td>\n",
       "      <td>143.561553</td>\n",
       "      <td>131.7138</td>\n",
       "      <td>93</td>\n",
       "    </tr>\n",
       "  </tbody>\n",
       "</table>\n",
       "</div>"
      ],
      "text/plain": [
       "   year  sum_hpwt_t  sum_air_t   sum_mpd_t  sum_size_t  year_all_count\n",
       "0    71   46.925503          0  176.058173    132.7013              92\n",
       "1    72   36.227952          4  168.302316    129.7578              89\n",
       "2    73   33.112552          6  159.925826    126.1010              86\n",
       "3    74   26.496995          9  108.976167    102.6927              72\n",
       "4    75   32.959320         10  143.561553    131.7138              93"
      ]
     },
     "execution_count": 337,
     "metadata": {},
     "output_type": "execute_result"
    }
   ],
   "source": [
    "df_iv_year = df.groupby(['year'], as_index=False)[ 'hpwt', 'air',  'mpd',  'size'].sum()\n",
    "df_iv_year['year_all_count'] = df.groupby(['year'], as_index=False).car_id.count()['car_id']\n",
    "df_iv_year = df_iv_year.rename(columns={'hpwt': 'sum_hpwt_t', 'air':'sum_air_t', 'mpd':'sum_mpd_t', 'size':'sum_size_t'})\n",
    "df_iv_year.head(5)"
   ]
  },
  {
   "cell_type": "code",
   "execution_count": 338,
   "metadata": {},
   "outputs": [],
   "source": [
    "df = pd.merge(df, df_iv_year, how='inner', on =['year'])"
   ]
  },
  {
   "cell_type": "code",
   "execution_count": 339,
   "metadata": {},
   "outputs": [
    {
     "data": {
      "text/html": [
       "<div>\n",
       "<style scoped>\n",
       "    .dataframe tbody tr th:only-of-type {\n",
       "        vertical-align: middle;\n",
       "    }\n",
       "\n",
       "    .dataframe tbody tr th {\n",
       "        vertical-align: top;\n",
       "    }\n",
       "\n",
       "    .dataframe thead th {\n",
       "        text-align: right;\n",
       "    }\n",
       "</style>\n",
       "<table border=\"1\" class=\"dataframe\">\n",
       "  <thead>\n",
       "    <tr style=\"text-align: right;\">\n",
       "      <th></th>\n",
       "      <th>car_id</th>\n",
       "      <th>year</th>\n",
       "      <th>hpwt</th>\n",
       "      <th>size</th>\n",
       "      <th>air</th>\n",
       "      <th>mpd</th>\n",
       "      <th>price</th>\n",
       "      <th>share</th>\n",
       "      <th>firm_id</th>\n",
       "      <th>share_year</th>\n",
       "      <th>...</th>\n",
       "      <th>sum_hpwt_tf</th>\n",
       "      <th>sum_air_tf</th>\n",
       "      <th>sum_mpd_tf</th>\n",
       "      <th>sum_size_tf</th>\n",
       "      <th>own_count</th>\n",
       "      <th>sum_hpwt_t</th>\n",
       "      <th>sum_air_t</th>\n",
       "      <th>sum_mpd_t</th>\n",
       "      <th>sum_size_t</th>\n",
       "      <th>year_all_count</th>\n",
       "    </tr>\n",
       "  </thead>\n",
       "  <tbody>\n",
       "    <tr>\n",
       "      <td>0</td>\n",
       "      <td>AD100L</td>\n",
       "      <td>71</td>\n",
       "      <td>0.487908</td>\n",
       "      <td>1.2627</td>\n",
       "      <td>0</td>\n",
       "      <td>1.982720</td>\n",
       "      <td>8.876543</td>\n",
       "      <td>0.000281</td>\n",
       "      <td>7</td>\n",
       "      <td>0.119894</td>\n",
       "      <td>...</td>\n",
       "      <td>1.841746</td>\n",
       "      <td>0</td>\n",
       "      <td>11.417885</td>\n",
       "      <td>5.6416</td>\n",
       "      <td>5</td>\n",
       "      <td>46.925503</td>\n",
       "      <td>0</td>\n",
       "      <td>176.058173</td>\n",
       "      <td>132.7013</td>\n",
       "      <td>92</td>\n",
       "    </tr>\n",
       "    <tr>\n",
       "      <td>1</td>\n",
       "      <td>ADSUPE</td>\n",
       "      <td>71</td>\n",
       "      <td>0.465766</td>\n",
       "      <td>1.1136</td>\n",
       "      <td>0</td>\n",
       "      <td>2.201909</td>\n",
       "      <td>7.641975</td>\n",
       "      <td>0.000038</td>\n",
       "      <td>7</td>\n",
       "      <td>0.119894</td>\n",
       "      <td>...</td>\n",
       "      <td>1.841746</td>\n",
       "      <td>0</td>\n",
       "      <td>11.417885</td>\n",
       "      <td>5.6416</td>\n",
       "      <td>5</td>\n",
       "      <td>46.925503</td>\n",
       "      <td>0</td>\n",
       "      <td>176.058173</td>\n",
       "      <td>132.7013</td>\n",
       "      <td>92</td>\n",
       "    </tr>\n",
       "    <tr>\n",
       "      <td>2</td>\n",
       "      <td>VW411</td>\n",
       "      <td>71</td>\n",
       "      <td>0.328294</td>\n",
       "      <td>1.1946</td>\n",
       "      <td>0</td>\n",
       "      <td>2.060604</td>\n",
       "      <td>7.404938</td>\n",
       "      <td>0.000372</td>\n",
       "      <td>7</td>\n",
       "      <td>0.119894</td>\n",
       "      <td>...</td>\n",
       "      <td>1.841746</td>\n",
       "      <td>0</td>\n",
       "      <td>11.417885</td>\n",
       "      <td>5.6416</td>\n",
       "      <td>5</td>\n",
       "      <td>46.925503</td>\n",
       "      <td>0</td>\n",
       "      <td>176.058173</td>\n",
       "      <td>132.7013</td>\n",
       "      <td>92</td>\n",
       "    </tr>\n",
       "  </tbody>\n",
       "</table>\n",
       "<p>3 rows × 24 columns</p>\n",
       "</div>"
      ],
      "text/plain": [
       "   car_id  year      hpwt    size  air       mpd     price     share  firm_id  \\\n",
       "0  AD100L    71  0.487908  1.2627    0  1.982720  8.876543  0.000281        7   \n",
       "1  ADSUPE    71  0.465766  1.1136    0  2.201909  7.641975  0.000038        7   \n",
       "2   VW411    71  0.328294  1.1946    0  2.060604  7.404938  0.000372        7   \n",
       "\n",
       "   share_year  ...  sum_hpwt_tf  sum_air_tf  sum_mpd_tf  sum_size_tf  \\\n",
       "0    0.119894  ...     1.841746           0   11.417885       5.6416   \n",
       "1    0.119894  ...     1.841746           0   11.417885       5.6416   \n",
       "2    0.119894  ...     1.841746           0   11.417885       5.6416   \n",
       "\n",
       "   own_count  sum_hpwt_t  sum_air_t   sum_mpd_t  sum_size_t  year_all_count  \n",
       "0          5   46.925503          0  176.058173    132.7013              92  \n",
       "1          5   46.925503          0  176.058173    132.7013              92  \n",
       "2          5   46.925503          0  176.058173    132.7013              92  \n",
       "\n",
       "[3 rows x 24 columns]"
      ]
     },
     "execution_count": 339,
     "metadata": {},
     "output_type": "execute_result"
    }
   ],
   "source": [
    "df.head(3)"
   ]
  },
  {
   "cell_type": "code",
   "execution_count": 340,
   "metadata": {},
   "outputs": [],
   "source": [
    "df['own_hpwt'] = df.sum_hpwt_tf - df.hpwt\n",
    "df['own_size'] = df.sum_size_tf - df.size\n",
    "df['own_air'] = df.sum_air_tf - df.air\n",
    "df['own_mpd'] = df.sum_mpd_tf - df.mpd"
   ]
  },
  {
   "cell_type": "code",
   "execution_count": 341,
   "metadata": {},
   "outputs": [],
   "source": [
    "df['rival_hpwt'] = df.sum_hpwt_t - df.hpwt -df.own_hpwt\n",
    "df['rival_size'] = df.sum_size_t - df.size -df.own_size\n",
    "df['rival_air'] = df.sum_air_t - df.air - df.own_air\n",
    "df['rival_mpd'] = df.sum_mpd_t - df.mpd - df.own_mpd"
   ]
  },
  {
   "cell_type": "code",
   "execution_count": 342,
   "metadata": {},
   "outputs": [],
   "source": [
    "df['rival_count'] = df.year_all_count - df.own_count"
   ]
  },
  {
   "cell_type": "code",
   "execution_count": 343,
   "metadata": {},
   "outputs": [],
   "source": [
    "df_iv = df[['car_id', 'year', 'firm_id', 'share_year', 's0', 'log_s0', 'log_share_jt', 'log_dif', 'hpwt', 'size', 'air', 'mpd', 'price', 'share', 'own_hpwt', 'own_size', 'own_air', 'own_mpd', 'rival_hpwt', 'rival_size', 'rival_air', 'rival_mpd', 'own_count', 'rival_count']]  "
   ]
  },
  {
   "cell_type": "code",
   "execution_count": 344,
   "metadata": {},
   "outputs": [
    {
     "name": "stderr",
     "output_type": "stream",
     "text": [
      "/opt/apps/anaconda3/19.10.0/lib/python3.7/site-packages/ipykernel_launcher.py:1: SettingWithCopyWarning: \n",
      "A value is trying to be set on a copy of a slice from a DataFrame.\n",
      "Try using .loc[row_indexer,col_indexer] = value instead\n",
      "\n",
      "See the caveats in the documentation: http://pandas.pydata.org/pandas-docs/stable/user_guide/indexing.html#returning-a-view-versus-a-copy\n",
      "  \"\"\"Entry point for launching an IPython kernel.\n"
     ]
    }
   ],
   "source": [
    "df_iv['cons'] = 1"
   ]
  },
  {
   "cell_type": "code",
   "execution_count": 345,
   "metadata": {},
   "outputs": [
    {
     "name": "stdout",
     "output_type": "stream",
     "text": [
      "shape:  (2217, 25)\n"
     ]
    },
    {
     "data": {
      "text/html": [
       "<div>\n",
       "<style scoped>\n",
       "    .dataframe tbody tr th:only-of-type {\n",
       "        vertical-align: middle;\n",
       "    }\n",
       "\n",
       "    .dataframe tbody tr th {\n",
       "        vertical-align: top;\n",
       "    }\n",
       "\n",
       "    .dataframe thead th {\n",
       "        text-align: right;\n",
       "    }\n",
       "</style>\n",
       "<table border=\"1\" class=\"dataframe\">\n",
       "  <thead>\n",
       "    <tr style=\"text-align: right;\">\n",
       "      <th></th>\n",
       "      <th>car_id</th>\n",
       "      <th>year</th>\n",
       "      <th>firm_id</th>\n",
       "      <th>share_year</th>\n",
       "      <th>s0</th>\n",
       "      <th>log_s0</th>\n",
       "      <th>log_share_jt</th>\n",
       "      <th>log_dif</th>\n",
       "      <th>hpwt</th>\n",
       "      <th>size</th>\n",
       "      <th>...</th>\n",
       "      <th>own_size</th>\n",
       "      <th>own_air</th>\n",
       "      <th>own_mpd</th>\n",
       "      <th>rival_hpwt</th>\n",
       "      <th>rival_size</th>\n",
       "      <th>rival_air</th>\n",
       "      <th>rival_mpd</th>\n",
       "      <th>own_count</th>\n",
       "      <th>rival_count</th>\n",
       "      <th>cons</th>\n",
       "    </tr>\n",
       "  </thead>\n",
       "  <tbody>\n",
       "    <tr>\n",
       "      <td>0</td>\n",
       "      <td>AD100L</td>\n",
       "      <td>71</td>\n",
       "      <td>7</td>\n",
       "      <td>0.119894</td>\n",
       "      <td>0.880107</td>\n",
       "      <td>-0.127712</td>\n",
       "      <td>-8.177156</td>\n",
       "      <td>-8.049444</td>\n",
       "      <td>0.487908</td>\n",
       "      <td>1.2627</td>\n",
       "      <td>...</td>\n",
       "      <td>-55419.3584</td>\n",
       "      <td>0</td>\n",
       "      <td>9.435165</td>\n",
       "      <td>45.083756</td>\n",
       "      <td>-8740.9403</td>\n",
       "      <td>0</td>\n",
       "      <td>164.640289</td>\n",
       "      <td>5</td>\n",
       "      <td>87</td>\n",
       "      <td>1</td>\n",
       "    </tr>\n",
       "  </tbody>\n",
       "</table>\n",
       "<p>1 rows × 25 columns</p>\n",
       "</div>"
      ],
      "text/plain": [
       "   car_id  year  firm_id  share_year        s0    log_s0  log_share_jt  \\\n",
       "0  AD100L    71        7    0.119894  0.880107 -0.127712     -8.177156   \n",
       "\n",
       "    log_dif      hpwt    size  ...    own_size  own_air   own_mpd  rival_hpwt  \\\n",
       "0 -8.049444  0.487908  1.2627  ... -55419.3584        0  9.435165   45.083756   \n",
       "\n",
       "   rival_size  rival_air   rival_mpd  own_count  rival_count  cons  \n",
       "0  -8740.9403          0  164.640289          5           87     1  \n",
       "\n",
       "[1 rows x 25 columns]"
      ]
     },
     "execution_count": 345,
     "metadata": {},
     "output_type": "execute_result"
    }
   ],
   "source": [
    "head(df_iv,1)"
   ]
  },
  {
   "cell_type": "code",
   "execution_count": 346,
   "metadata": {},
   "outputs": [
    {
     "data": {
      "text/plain": [
       "Index(['car_id', 'year', 'firm_id', 'share_year', 's0', 'log_s0',\n",
       "       'log_share_jt', 'log_dif', 'hpwt', 'size', 'air', 'mpd', 'price',\n",
       "       'share', 'own_hpwt', 'own_size', 'own_air', 'own_mpd', 'rival_hpwt',\n",
       "       'rival_size', 'rival_air', 'rival_mpd', 'own_count', 'rival_count',\n",
       "       'cons'],\n",
       "      dtype='object')"
      ]
     },
     "execution_count": 346,
     "metadata": {},
     "output_type": "execute_result"
    }
   ],
   "source": [
    "df_iv.columns"
   ]
  },
  {
   "cell_type": "code",
   "execution_count": 347,
   "metadata": {},
   "outputs": [],
   "source": [
    "import statsmodels.api as sm\n",
    "from statsmodels.iolib.summary2 import summary_col\n",
    "from linearmodels.iv import IV2SLS # https://pypi.org/project/linearmodels/ \n",
    "# (install) pip install --user linearmodels"
   ]
  },
  {
   "cell_type": "code",
   "execution_count": 348,
   "metadata": {},
   "outputs": [
    {
     "name": "stdout",
     "output_type": "stream",
     "text": [
      "                          IV-2SLS Estimation Summary                          \n",
      "==============================================================================\n",
      "Dep. Variable:                log_dif   R-squared:                      0.3492\n",
      "Estimator:                    IV-2SLS   Adj. R-squared:                 0.3477\n",
      "No. Observations:                2217   F-statistic:                    1020.0\n",
      "Date:                Fri, Feb 28 2020   P-value (F-stat)                0.0000\n",
      "Time:                        20:28:59   Distribution:                  chi2(5)\n",
      "Cov. Estimator:            unadjusted                                         \n",
      "                                                                              \n",
      "                             Parameter Estimates                              \n",
      "==============================================================================\n",
      "            Parameter  Std. Err.     T-stat    P-value    Lower CI    Upper CI\n",
      "------------------------------------------------------------------------------\n",
      "cons          -9.9153     0.2623    -37.796     0.0000     -10.429     -9.4011\n",
      "hpwt           1.2260     0.4031     3.0414     0.0024      0.4359      2.0160\n",
      "air            0.4863     0.1329     3.6583     0.0003      0.2257      0.7468\n",
      "mpd            0.1715     0.0486     3.5331     0.0004      0.0764      0.2667\n",
      "size           2.2916     0.1293     17.727     0.0000      2.0382      2.5449\n",
      "price         -0.1357     0.0108    -12.616     0.0000     -0.1568     -0.1146\n",
      "==============================================================================\n",
      "\n",
      "Endogenous: price\n",
      "Instruments: own_hpwt, own_size, own_air, own_mpd, rival_hpwt, rival_size, rival_air, rival_mpd, own_count, rival_count\n",
      "Unadjusted Covariance (Homoskedastic)\n",
      "Debiased: False\n"
     ]
    }
   ],
   "source": [
    "iv = IV2SLS(dependent=df_iv['log_dif'],\n",
    "            exog =  df_iv[['cons', 'hpwt', 'air', 'mpd' , 'size']],\n",
    "            endog= df_iv['price'],\n",
    "            instruments=df_iv[['own_hpwt', 'own_size', 'own_air', 'own_mpd',\n",
    "                               'rival_hpwt', 'rival_size', 'rival_air', 'rival_mpd', \n",
    "                               'own_count', 'rival_count']]).fit(cov_type='unadjusted') # 14 IVs, it is less than paper, pyblp supports 19 ivs\n",
    "print(iv.summary)"
   ]
  },
  {
   "cell_type": "markdown",
   "metadata": {},
   "source": [
    "---\n",
    "# Interpretation\n",
    "---\n",
    "* There are limitation using Python for 2sls. \n",
    "* IVs is not 19s like Pyblp, I used 14s and it is based on Homoskedastic assumption in 2SLS in over-identification case.\n",
    "* It is obvious it is not Homoskedastic and over-identification so that using GMM Estimator will be better.\n",
    "* However, anyway, the coefficient of price is much higher in the case of considering endogendity in price variable.\n",
    "---"
   ]
  },
  {
   "cell_type": "markdown",
   "metadata": {},
   "source": [
    "---\n",
    "# <font color = blue> Table 4. Estimated Parameters of tmhe Demand and Pricing Equations\n",
    "* DF: df_iv\n",
    "* IVs:  'hpwt', 'air', 'mpd' , 'size', 'own_hpwt', 'own_size', 'own_air', 'own_mpd','rival_hpwt', 'rival_size', 'rival_air', 'rival_mpd', 'own_count', 'rival_count'\n",
    "* True Market Share: 'share'\n",
    "---"
   ]
  },
  {
   "cell_type": "markdown",
   "metadata": {},
   "source": [
    "#### GMM Estimation\n",
    "* $ \\delta_{jt} = x_{jt}\\beta + \\xi_{jt}$"
   ]
  },
  {
   "cell_type": "code",
   "execution_count": 398,
   "metadata": {},
   "outputs": [],
   "source": [
    "ns = 50000\n",
    "nrow = 2217\n",
    "tol = 1e-6"
   ]
  },
  {
   "cell_type": "code",
   "execution_count": 399,
   "metadata": {},
   "outputs": [
    {
     "name": "stdout",
     "output_type": "stream",
     "text": [
      "(2217, 5)\n",
      "Covariate number:  5\n"
     ]
    }
   ],
   "source": [
    "X = df_iv[[\"cons\", \"hpwt\", \"air\", \"mpd\", \"size\"]]\n",
    "X = np.asarray(X)\n",
    "print(X.shape)\n",
    "print('Covariate number: ', X.shape[1]) # column number = 5"
   ]
  },
  {
   "cell_type": "code",
   "execution_count": 400,
   "metadata": {},
   "outputs": [
    {
     "name": "stdout",
     "output_type": "stream",
     "text": [
      "IV dimneion including covariate exlcuding price : (2217, 15)\n"
     ]
    }
   ],
   "source": [
    "Z = df_iv[[\"cons\", \"hpwt\", \"air\", \"mpd\", \"size\", \"own_count\", \"own_hpwt\", \"own_air\", \"own_mpd\", \"own_size\", \"rival_count\", \"rival_hpwt\", \"rival_air\", \"rival_mpd\", \"rival_size\"]]\n",
    "print('IV dimneion including covariate exlcuding price :', Z.shape)\n",
    "Z = np.asarray(Z)"
   ]
  },
  {
   "cell_type": "code",
   "execution_count": 410,
   "metadata": {},
   "outputs": [
    {
     "data": {
      "text/plain": [
       "(5, 2217)"
      ]
     },
     "execution_count": 410,
     "metadata": {},
     "output_type": "execute_result"
    }
   ],
   "source": [
    "# 2SLS projection matrix (=not coefficent) beta_2sls = p_delta @ delta \n",
    "# @ matrix innuer product in python \n",
    "# weight = Z.T @ Z : (15, 15) Postive definite sysmetric matrix\n",
    "weight = np.dot(Z.T,Z)\n",
    "projection_matrix_delta  = inv(X.T @ Z @ inv(weight) @ Z.T @ X) @ X.T @ Z @ inv(weight) @ Z.T\n",
    "projection_matrix_delta.shape"
   ]
  },
  {
   "cell_type": "code",
   "execution_count": 402,
   "metadata": {},
   "outputs": [
    {
     "name": "stdout",
     "output_type": "stream",
     "text": [
      "number of years:  20\n"
     ]
    }
   ],
   "source": [
    "# year from 71-90: 20 years\n",
    "print('number of years: ', df_iv.year.nunique())\n",
    "n_years = df_iv.year.nunique()"
   ]
  },
  {
   "cell_type": "code",
   "execution_count": 403,
   "metadata": {},
   "outputs": [
    {
     "name": "stdout",
     "output_type": "stream",
     "text": [
      "year dummy:  (2217, 20)\n",
      "year * year_T shape :  (2217, 2217)\n"
     ]
    }
   ],
   "source": [
    "Y = np.asarray(pd.get_dummies(df_iv[\"year\"]), dtype = np.float32)\n",
    "print('year dummy: ', Y.shape)\n",
    "YY_T =  np.dot(Y,Y.T)\n",
    "print('year * year_T shape : ', YY_T.shape)"
   ]
  },
  {
   "cell_type": "code",
   "execution_count": 404,
   "metadata": {},
   "outputs": [
    {
     "name": "stdout",
     "output_type": "stream",
     "text": [
      "50,000 draws in Xs format : (50000, 5)\n"
     ]
    }
   ],
   "source": [
    "np.random.seed(11)\n",
    "v = np.random.randn(ns, X.shape[1]) # ns = number of simulation = 50,000\n",
    "print('50,000 draws in Xs format :', v.shape)"
   ]
  },
  {
   "cell_type": "code",
   "execution_count": 405,
   "metadata": {},
   "outputs": [],
   "source": [
    "np.random.seed(12)\n",
    "\n",
    "year_mean = np.array([2.01156, 2.06526, 2.07843, 2.05775, 2.02915, 2.05346, 2.06745, 2.09805, 2.10404,2.07208, \n",
    "                   2.06019, 2.06561, 2.07672, 2.10437, 2.12608, 2.16426, 2.18071, 2.18856, 2.21250, 2.18377]).reshape(20,1)\n",
    "y_sigma = 1.72"
   ]
  },
  {
   "cell_type": "code",
   "execution_count": 406,
   "metadata": {},
   "outputs": [
    {
     "data": {
      "text/plain": [
       "(2217, 50000)"
      ]
     },
     "execution_count": 406,
     "metadata": {},
     "output_type": "execute_result"
    }
   ],
   "source": [
    "np.random.seed(18)\n",
    "\n",
    "ar = np.random.randn(n_years,ns) # (20, 50,000)\n",
    "\n",
    "y = Y @ np.exp(year_mean + y_sigma*ar) # mean + y_sigma * ar\n",
    "y.shape"
   ]
  },
  {
   "cell_type": "code",
   "execution_count": 408,
   "metadata": {},
   "outputs": [
    {
     "data": {
      "text/plain": [
       "(2217, 1)"
      ]
     },
     "execution_count": 408,
     "metadata": {},
     "output_type": "execute_result"
    }
   ],
   "source": [
    "s_true = np.asarray(df_iv[\"share\"]).reshape(nrow,1)\n",
    "s_true.shape"
   ]
  },
  {
   "cell_type": "code",
   "execution_count": 409,
   "metadata": {},
   "outputs": [
    {
     "data": {
      "text/plain": [
       "(2217, 1)"
      ]
     },
     "execution_count": 409,
     "metadata": {},
     "output_type": "execute_result"
    }
   ],
   "source": [
    "price = np.asarray(df_iv[\"price\"]).reshape(nrow,1)\n",
    "price.shape"
   ]
  },
  {
   "cell_type": "code",
   "execution_count": 360,
   "metadata": {},
   "outputs": [
    {
     "data": {
      "text/plain": [
       "(2217, 50000)"
      ]
     },
     "execution_count": 360,
     "metadata": {},
     "output_type": "execute_result"
    }
   ],
   "source": [
    "# real price = p/y\n",
    "real_price = np.dot(price,np.ones((1,ns)))/y\n",
    "real_price.shape"
   ]
  },
  {
   "cell_type": "code",
   "execution_count": 362,
   "metadata": {},
   "outputs": [
    {
     "data": {
      "text/plain": [
       "(2217, 1)"
      ]
     },
     "execution_count": 362,
     "metadata": {},
     "output_type": "execute_result"
    }
   ],
   "source": [
    "global deltam\n",
    "deltam = np.exp(df_iv[\"log_dif\"]) # log s_jk -  log s0\n",
    "deltam = np.asarray(deltam).reshape(nrow,1)\n",
    "deltam.shape"
   ]
  },
  {
   "cell_type": "markdown",
   "metadata": {},
   "source": [
    "---\n",
    "### Estimated Market Share\n",
    "* Probability (product j being sold in year t) = $\\approx \\frac{1}{ns}\\sum_{i=1}^{ns}\\frac{exp(\\delta_{jt}+\\mu_{ijt})}{1+\\sum_{k=1}^{J_t} \\exp(\\delta_{kt}+\\mu_{ikt})}$\n",
    "* $ \\delta_{jt} = x_{jt}\\beta + \\xi_{jt}$\n",
    "* $ \\mu_{ijt} = -\\alpha \\frac{p_{jt}}{y_{it}} + \\sum_{k=1}^{K}\\sigma_k v_{ik} x_{jkt}$, where the real price concept is from BLP(1999)\n",
    "* $ u_{ijt} = \\delta_{jt} + \\mu_{ijt} + \\epsilon_{ijt} $ \n",
    "---"
   ]
  },
  {
   "cell_type": "markdown",
   "metadata": {},
   "source": [
    "---\n",
    "### Market share prediction\n",
    "---"
   ]
  },
  {
   "cell_type": "code",
   "execution_count": 411,
   "metadata": {},
   "outputs": [],
   "source": [
    "# This function used for contraction mapping\n",
    "\n",
    "def s_hat(exp_delta0, exp_mu):\n",
    "    numerator   = exp_delta0 @ np.ones((1, ns)) * exp_mu       # exp_delta0 (2217, 1) x (1, 50,000) x (50,000, )\n",
    "    denominator = np.dot(Y, np.dot(Y.T,numerator))           # Y = year dummy = (2217, 20) x Y.T (=20, 2217) x (2217)\n",
    "    fraction    = numerator/(1+denominator)\n",
    "    s_estimated = (1/ns)*(fraction.sum(1))\n",
    "    return(s_estimated)"
   ]
  },
  {
   "cell_type": "markdown",
   "metadata": {},
   "source": [
    "---\n",
    "### Contraction Mapping:\n",
    "* As a result : $\\delta$ converge and multiply by projection matrx of 2SLS\n",
    "---\n",
    "* $ \\delta^{n+1} = \\delta^{n}  + \\log(s^{estimated}) - \\log(s(\\theta)) $ : until converge, criteria of convergence is tol\n",
    "* $ \\theta = (\\beta, \\alpha, \\sigma)$  : parameter to be estimated\n",
    "* $ \\sigma = (\\sigma_0,..., \\sigma_k)$ : coefficient with attribute of product and consumer preference\n",
    "---\n",
    "* $ \\delta_{jt} = x_{jt}\\beta + \\xi_{jt}$\n",
    "* $ \\mu_{ijt} = -\\alpha \\frac{p_{jt}}{y_{it}} + \\sum_{k=1}^{K}\\sigma_k v_{ik} x_{jkt}$, where the real price concept is from BLP(1999)\n",
    "* $ u_{ijt} = \\delta_{jt} + \\mu_{ijt} + \\epsilon_{ijt} $ \n",
    "---\n",
    "\n"
   ]
  },
  {
   "cell_type": "code",
   "execution_count": 412,
   "metadata": {},
   "outputs": [],
   "source": [
    "ns = 50000\n",
    "nrow = 2217\n",
    "tol = 1e-6"
   ]
  },
  {
   "cell_type": "code",
   "execution_count": 413,
   "metadata": {},
   "outputs": [],
   "source": [
    "# input : X, output : delta\n",
    "def contraction_mapping(sigma, alpha):\n",
    "    \n",
    "    exp_delta0 = deltam # from global variable\n",
    "    \n",
    "    draws = v * np.kron(np.ones((ns,1)), sigma) # v = (50000, 5)\n",
    "    \n",
    "    # Kronecker product: https://en.wikipedia.org/wiki/Kronecker_product\n",
    "    # np.kron : https://docs.scipy.org/doc/numpy/reference/generated/numpy.kron.html    \n",
    "    \n",
    "    exp_mu = (- real_price * alpha + np.exp(np.dot(X, draws.T) )) # real_price (2217, 50000) * alpha + exp(X x draws')\n",
    "    \n",
    "    difference = 1\n",
    "    iteration = 0\n",
    "    \n",
    "    while(difference > tol and iteration < 1000):\n",
    "        \n",
    "        ratio = s_true/s_hat(exp_delta0, exp_mu)\n",
    "        ratio.reshape(nrow,1)\n",
    "        \n",
    "        exp_delta1 = exp_delta0 * ratio # interation part exp(theta1) = exp(theta0)*exp(log(true_s) - log(s_hat)) = exp(theta0)*(true_s/s_hat)\n",
    "        \n",
    "        difference = (abs(exp_delta1/exp_delta0-1)).max()\n",
    " \n",
    "        exp_delta0 = exp_delta1\n",
    "        iteration += 1\n",
    "        \n",
    "    return(np.log(exp_delta0)) # np.log(exp(theta0) =  theta come out"
   ]
  },
  {
   "cell_type": "markdown",
   "metadata": {},
   "source": [
    "### GMM"
   ]
  },
  {
   "cell_type": "code",
   "execution_count": 414,
   "metadata": {},
   "outputs": [],
   "source": [
    "def gmm_criteria(params):\n",
    "    \n",
    "    sigma = params[0:5]\n",
    "    alpha = params[5]\n",
    "    \n",
    "    delta = contraction_mapping(sigma,alpha)\n",
    "    \n",
    "    beta = np.dot(projection_matrix_delta,delta)\n",
    "    deltam = delta\n",
    "    \n",
    "    xi = delta - np.dot(X,beta)\n",
    "    g = (1/nrow)* (np.dot(Z.T,xi)) # moment condition\n",
    "    \n",
    "    object_value = np.dot(g.T,g)\n",
    "    object_value = object_value[0,0]\n",
    "    return(object_value)"
   ]
  },
  {
   "cell_type": "code",
   "execution_count": 415,
   "metadata": {},
   "outputs": [],
   "source": [
    "start_point = np.array([3.612, 4.628, 1.818, 1.050, 2.056, 43.501])"
   ]
  },
  {
   "cell_type": "code",
   "execution_count": 416,
   "metadata": {},
   "outputs": [
    {
     "ename": "ValueError",
     "evalue": "cannot reshape array of size 4915089 into shape (2217,1)",
     "output_type": "error",
     "traceback": [
      "\u001b[0;31m---------------------------------------------------------------------------\u001b[0m",
      "\u001b[0;31mValueError\u001b[0m                                Traceback (most recent call last)",
      "\u001b[0;32m<ipython-input-416-e4f90e7c55d0>\u001b[0m in \u001b[0;36m<module>\u001b[0;34m\u001b[0m\n\u001b[0;32m----> 1\u001b[0;31m \u001b[0mgmm_min\u001b[0m \u001b[0;34m=\u001b[0m \u001b[0mminimize\u001b[0m\u001b[0;34m(\u001b[0m\u001b[0mgmm_criteria\u001b[0m\u001b[0;34m,\u001b[0m \u001b[0mstart_point\u001b[0m\u001b[0;34m,\u001b[0m \u001b[0mmethod\u001b[0m\u001b[0;34m=\u001b[0m\u001b[0;34m\"L-BFGS-B\"\u001b[0m\u001b[0;34m,\u001b[0m \u001b[0mtol\u001b[0m \u001b[0;34m=\u001b[0m \u001b[0;36m1e-2\u001b[0m\u001b[0;34m,\u001b[0m \u001b[0moptions\u001b[0m\u001b[0;34m=\u001b[0m\u001b[0;34m{\u001b[0m\u001b[0;34m'disp'\u001b[0m\u001b[0;34m:\u001b[0m \u001b[0;32mTrue\u001b[0m\u001b[0;34m}\u001b[0m\u001b[0;34m)\u001b[0m\u001b[0;34m\u001b[0m\u001b[0;34m\u001b[0m\u001b[0m\n\u001b[0m\u001b[1;32m      2\u001b[0m \u001b[0mprint\u001b[0m\u001b[0;34m(\u001b[0m\u001b[0mgmm_min\u001b[0m\u001b[0;34m)\u001b[0m\u001b[0;34m\u001b[0m\u001b[0;34m\u001b[0m\u001b[0m\n",
      "\u001b[0;32m/opt/apps/anaconda3/19.10.0/lib/python3.7/site-packages/scipy/optimize/_minimize.py\u001b[0m in \u001b[0;36mminimize\u001b[0;34m(fun, x0, args, method, jac, hess, hessp, bounds, constraints, tol, callback, options)\u001b[0m\n\u001b[1;32m    598\u001b[0m     \u001b[0;32melif\u001b[0m \u001b[0mmeth\u001b[0m \u001b[0;34m==\u001b[0m \u001b[0;34m'l-bfgs-b'\u001b[0m\u001b[0;34m:\u001b[0m\u001b[0;34m\u001b[0m\u001b[0;34m\u001b[0m\u001b[0m\n\u001b[1;32m    599\u001b[0m         return _minimize_lbfgsb(fun, x0, args, jac, bounds,\n\u001b[0;32m--> 600\u001b[0;31m                                 callback=callback, **options)\n\u001b[0m\u001b[1;32m    601\u001b[0m     \u001b[0;32melif\u001b[0m \u001b[0mmeth\u001b[0m \u001b[0;34m==\u001b[0m \u001b[0;34m'tnc'\u001b[0m\u001b[0;34m:\u001b[0m\u001b[0;34m\u001b[0m\u001b[0;34m\u001b[0m\u001b[0m\n\u001b[1;32m    602\u001b[0m         return _minimize_tnc(fun, x0, args, jac, bounds, callback=callback,\n",
      "\u001b[0;32m/opt/apps/anaconda3/19.10.0/lib/python3.7/site-packages/scipy/optimize/lbfgsb.py\u001b[0m in \u001b[0;36m_minimize_lbfgsb\u001b[0;34m(fun, x0, args, jac, bounds, disp, maxcor, ftol, gtol, eps, maxfun, maxiter, iprint, callback, maxls, **unknown_options)\u001b[0m\n\u001b[1;32m    333\u001b[0m             \u001b[0;31m# until the completion of the current minimization iteration.\u001b[0m\u001b[0;34m\u001b[0m\u001b[0;34m\u001b[0m\u001b[0;34m\u001b[0m\u001b[0m\n\u001b[1;32m    334\u001b[0m             \u001b[0;31m# Overwrite f and g:\u001b[0m\u001b[0;34m\u001b[0m\u001b[0;34m\u001b[0m\u001b[0;34m\u001b[0m\u001b[0m\n\u001b[0;32m--> 335\u001b[0;31m             \u001b[0mf\u001b[0m\u001b[0;34m,\u001b[0m \u001b[0mg\u001b[0m \u001b[0;34m=\u001b[0m \u001b[0mfunc_and_grad\u001b[0m\u001b[0;34m(\u001b[0m\u001b[0mx\u001b[0m\u001b[0;34m)\u001b[0m\u001b[0;34m\u001b[0m\u001b[0;34m\u001b[0m\u001b[0m\n\u001b[0m\u001b[1;32m    336\u001b[0m         \u001b[0;32melif\u001b[0m \u001b[0mtask_str\u001b[0m\u001b[0;34m.\u001b[0m\u001b[0mstartswith\u001b[0m\u001b[0;34m(\u001b[0m\u001b[0;34mb'NEW_X'\u001b[0m\u001b[0;34m)\u001b[0m\u001b[0;34m:\u001b[0m\u001b[0;34m\u001b[0m\u001b[0;34m\u001b[0m\u001b[0m\n\u001b[1;32m    337\u001b[0m             \u001b[0;31m# new iteration\u001b[0m\u001b[0;34m\u001b[0m\u001b[0;34m\u001b[0m\u001b[0;34m\u001b[0m\u001b[0m\n",
      "\u001b[0;32m/opt/apps/anaconda3/19.10.0/lib/python3.7/site-packages/scipy/optimize/lbfgsb.py\u001b[0m in \u001b[0;36mfunc_and_grad\u001b[0;34m(x)\u001b[0m\n\u001b[1;32m    278\u001b[0m     \u001b[0;32mif\u001b[0m \u001b[0mjac\u001b[0m \u001b[0;32mis\u001b[0m \u001b[0;32mNone\u001b[0m\u001b[0;34m:\u001b[0m\u001b[0;34m\u001b[0m\u001b[0;34m\u001b[0m\u001b[0m\n\u001b[1;32m    279\u001b[0m         \u001b[0;32mdef\u001b[0m \u001b[0mfunc_and_grad\u001b[0m\u001b[0;34m(\u001b[0m\u001b[0mx\u001b[0m\u001b[0;34m)\u001b[0m\u001b[0;34m:\u001b[0m\u001b[0;34m\u001b[0m\u001b[0;34m\u001b[0m\u001b[0m\n\u001b[0;32m--> 280\u001b[0;31m             \u001b[0mf\u001b[0m \u001b[0;34m=\u001b[0m \u001b[0mfun\u001b[0m\u001b[0;34m(\u001b[0m\u001b[0mx\u001b[0m\u001b[0;34m,\u001b[0m \u001b[0;34m*\u001b[0m\u001b[0margs\u001b[0m\u001b[0;34m)\u001b[0m\u001b[0;34m\u001b[0m\u001b[0;34m\u001b[0m\u001b[0m\n\u001b[0m\u001b[1;32m    281\u001b[0m             \u001b[0mg\u001b[0m \u001b[0;34m=\u001b[0m \u001b[0m_approx_fprime_helper\u001b[0m\u001b[0;34m(\u001b[0m\u001b[0mx\u001b[0m\u001b[0;34m,\u001b[0m \u001b[0mfun\u001b[0m\u001b[0;34m,\u001b[0m \u001b[0mepsilon\u001b[0m\u001b[0;34m,\u001b[0m \u001b[0margs\u001b[0m\u001b[0;34m=\u001b[0m\u001b[0margs\u001b[0m\u001b[0;34m,\u001b[0m \u001b[0mf0\u001b[0m\u001b[0;34m=\u001b[0m\u001b[0mf\u001b[0m\u001b[0;34m)\u001b[0m\u001b[0;34m\u001b[0m\u001b[0;34m\u001b[0m\u001b[0m\n\u001b[1;32m    282\u001b[0m             \u001b[0;32mreturn\u001b[0m \u001b[0mf\u001b[0m\u001b[0;34m,\u001b[0m \u001b[0mg\u001b[0m\u001b[0;34m\u001b[0m\u001b[0;34m\u001b[0m\u001b[0m\n",
      "\u001b[0;32m/opt/apps/anaconda3/19.10.0/lib/python3.7/site-packages/scipy/optimize/optimize.py\u001b[0m in \u001b[0;36mfunction_wrapper\u001b[0;34m(*wrapper_args)\u001b[0m\n\u001b[1;32m    324\u001b[0m     \u001b[0;32mdef\u001b[0m \u001b[0mfunction_wrapper\u001b[0m\u001b[0;34m(\u001b[0m\u001b[0;34m*\u001b[0m\u001b[0mwrapper_args\u001b[0m\u001b[0;34m)\u001b[0m\u001b[0;34m:\u001b[0m\u001b[0;34m\u001b[0m\u001b[0;34m\u001b[0m\u001b[0m\n\u001b[1;32m    325\u001b[0m         \u001b[0mncalls\u001b[0m\u001b[0;34m[\u001b[0m\u001b[0;36m0\u001b[0m\u001b[0;34m]\u001b[0m \u001b[0;34m+=\u001b[0m \u001b[0;36m1\u001b[0m\u001b[0;34m\u001b[0m\u001b[0;34m\u001b[0m\u001b[0m\n\u001b[0;32m--> 326\u001b[0;31m         \u001b[0;32mreturn\u001b[0m \u001b[0mfunction\u001b[0m\u001b[0;34m(\u001b[0m\u001b[0;34m*\u001b[0m\u001b[0;34m(\u001b[0m\u001b[0mwrapper_args\u001b[0m \u001b[0;34m+\u001b[0m \u001b[0margs\u001b[0m\u001b[0;34m)\u001b[0m\u001b[0;34m)\u001b[0m\u001b[0;34m\u001b[0m\u001b[0;34m\u001b[0m\u001b[0m\n\u001b[0m\u001b[1;32m    327\u001b[0m \u001b[0;34m\u001b[0m\u001b[0m\n\u001b[1;32m    328\u001b[0m     \u001b[0;32mreturn\u001b[0m \u001b[0mncalls\u001b[0m\u001b[0;34m,\u001b[0m \u001b[0mfunction_wrapper\u001b[0m\u001b[0;34m\u001b[0m\u001b[0;34m\u001b[0m\u001b[0m\n",
      "\u001b[0;32m<ipython-input-414-aee49b36f83a>\u001b[0m in \u001b[0;36mgmm_criteria\u001b[0;34m(params)\u001b[0m\n\u001b[1;32m      4\u001b[0m     \u001b[0malpha\u001b[0m \u001b[0;34m=\u001b[0m \u001b[0mparams\u001b[0m\u001b[0;34m[\u001b[0m\u001b[0;36m5\u001b[0m\u001b[0;34m]\u001b[0m\u001b[0;34m\u001b[0m\u001b[0;34m\u001b[0m\u001b[0m\n\u001b[1;32m      5\u001b[0m \u001b[0;34m\u001b[0m\u001b[0m\n\u001b[0;32m----> 6\u001b[0;31m     \u001b[0mdelta\u001b[0m \u001b[0;34m=\u001b[0m \u001b[0mcontraction_mapping\u001b[0m\u001b[0;34m(\u001b[0m\u001b[0msigma\u001b[0m\u001b[0;34m,\u001b[0m\u001b[0malpha\u001b[0m\u001b[0;34m)\u001b[0m\u001b[0;34m\u001b[0m\u001b[0;34m\u001b[0m\u001b[0m\n\u001b[0m\u001b[1;32m      7\u001b[0m \u001b[0;34m\u001b[0m\u001b[0m\n\u001b[1;32m      8\u001b[0m     \u001b[0mbeta\u001b[0m \u001b[0;34m=\u001b[0m \u001b[0mnp\u001b[0m\u001b[0;34m.\u001b[0m\u001b[0mdot\u001b[0m\u001b[0;34m(\u001b[0m\u001b[0mprojection_matrix_delta\u001b[0m\u001b[0;34m,\u001b[0m\u001b[0mdelta\u001b[0m\u001b[0;34m)\u001b[0m\u001b[0;34m\u001b[0m\u001b[0;34m\u001b[0m\u001b[0m\n",
      "\u001b[0;32m<ipython-input-413-e3427185ed80>\u001b[0m in \u001b[0;36mcontraction_mapping\u001b[0;34m(sigma, alpha)\u001b[0m\n\u001b[1;32m     17\u001b[0m \u001b[0;34m\u001b[0m\u001b[0m\n\u001b[1;32m     18\u001b[0m         \u001b[0mratio\u001b[0m \u001b[0;34m=\u001b[0m \u001b[0ms_true\u001b[0m\u001b[0;34m/\u001b[0m\u001b[0ms_hat\u001b[0m\u001b[0;34m(\u001b[0m\u001b[0mexp_delta0\u001b[0m\u001b[0;34m,\u001b[0m \u001b[0mexp_mu\u001b[0m\u001b[0;34m)\u001b[0m\u001b[0;34m\u001b[0m\u001b[0;34m\u001b[0m\u001b[0m\n\u001b[0;32m---> 19\u001b[0;31m         \u001b[0mratio\u001b[0m\u001b[0;34m.\u001b[0m\u001b[0mreshape\u001b[0m\u001b[0;34m(\u001b[0m\u001b[0mnrow\u001b[0m\u001b[0;34m,\u001b[0m\u001b[0;36m1\u001b[0m\u001b[0;34m)\u001b[0m\u001b[0;34m\u001b[0m\u001b[0;34m\u001b[0m\u001b[0m\n\u001b[0m\u001b[1;32m     20\u001b[0m \u001b[0;34m\u001b[0m\u001b[0m\n\u001b[1;32m     21\u001b[0m         \u001b[0mexp_delta1\u001b[0m \u001b[0;34m=\u001b[0m \u001b[0mexp_delta0\u001b[0m \u001b[0;34m*\u001b[0m \u001b[0mratio\u001b[0m \u001b[0;31m# interation part exp(theta1) = exp(theta0)*exp(log(true_s) - log(s_hat)) = exp(theta0)*(true_s/s_hat)\u001b[0m\u001b[0;34m\u001b[0m\u001b[0;34m\u001b[0m\u001b[0m\n",
      "\u001b[0;31mValueError\u001b[0m: cannot reshape array of size 4915089 into shape (2217,1)"
     ]
    }
   ],
   "source": [
    "gmm_min = minimize(gmm_criteria, start_point, method=\"L-BFGS-B\", tol = 1e-2, options={'disp': True})\n",
    "print(gmm_min)"
   ]
  },
  {
   "cell_type": "markdown",
   "metadata": {},
   "source": [
    "---\n",
    "# Until Here.\n",
    "* I think share prediction part is wired. So, in the future, it may better for me to look more closely verified m-file and code such as Nevo blp.\n",
    "* The process is not yet well understood by me.\n",
    "* Working with matlab first, then moving to python may better.\n",
    "* 2sls and data modification requires more time, so using R kernel combining with jupyterlab may more efficient.\n",
    "* I just modify the code in python way, therefore, MC intergration part is not well defined and understood.\n",
    "* GMM has a two-step approach. Implementation of GMM may be a good practice before doing GMM in here.\n",
    "* It is a good practice to know better understanding of discrete choice; however, due to limited ability and my load on independent dissertation. I finished in here.\n",
    "* All the falut are mine and most of contribution from web-resoure, I just modifed and analyzed it in pythonic way.\n",
    "* Thank you.\n",
    "---"
   ]
  },
  {
   "cell_type": "code",
   "execution_count": null,
   "metadata": {},
   "outputs": [],
   "source": [
    "# no run\n",
    "print(\"sigma: \", abs(gmm_min.x[0:5]),\"\\n\", \"alpha: \", gmm_min.x[5],sep=\"\")\n",
    "print(\"coefficient:\", (projection_matrix_delta @ contraction_mapping(gmm_min.x[0:5], gmm_min.x[5])).T[0])"
   ]
  }
 ],
 "metadata": {
  "kernelspec": {
   "display_name": "Python 3",
   "language": "python",
   "name": "python3"
  },
  "language_info": {
   "codemirror_mode": {
    "name": "ipython",
    "version": 3
   },
   "file_extension": ".py",
   "mimetype": "text/x-python",
   "name": "python",
   "nbconvert_exporter": "python",
   "pygments_lexer": "ipython3",
   "version": "3.7.4"
  }
 },
 "nbformat": 4,
 "nbformat_minor": 4
}
