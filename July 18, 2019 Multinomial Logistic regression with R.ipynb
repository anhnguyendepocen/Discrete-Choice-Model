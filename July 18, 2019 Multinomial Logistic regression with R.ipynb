{
 "cells": [
  {
   "cell_type": "markdown",
   "metadata": {},
   "source": [
    "# July 18, 2019 Binary Logistic regression with R\n",
    "* name : Jikhan Jeong\n",
    "* reference: https://rpubs.com/sallychen/313125\n",
    "* reference: https://eml.berkeley.edu/books/choice2.html\n",
    "* for latex equations: https://www.codecogs.com/latex/eqneditor.php"
   ]
  },
  {
   "cell_type": "markdown",
   "metadata": {},
   "source": [
    "# Using latex format in Jupyter\n",
    "\n",
    "k_{n+1} = n^2 + k_n^2 -k_{n-1}: put $ in the begin and the end of the sentence, then equation will turn out in the latex format as follows:\n",
    "\n",
    "$k_{n+1} = n^2 + k_n^2 -k_{n-1}$ "
   ]
  },
  {
   "cell_type": "code",
   "execution_count": 1,
   "metadata": {},
   "outputs": [
    {
     "name": "stdout",
     "output_type": "stream",
     "text": [
      "package 'AER' successfully unpacked and MD5 sums checked\n",
      "\n",
      "The downloaded binary packages are in\n",
      "\tC:\\rstudio\\RtmpsvrGAt\\downloaded_packages\n"
     ]
    }
   ],
   "source": [
    "install.packages('AER')"
   ]
  },
  {
   "cell_type": "code",
   "execution_count": 14,
   "metadata": {},
   "outputs": [
    {
     "name": "stderr",
     "output_type": "stream",
     "text": [
      "also installing the dependencies 'miscTools', 'maxLik', 'statmod'\n",
      "\n"
     ]
    },
    {
     "name": "stdout",
     "output_type": "stream",
     "text": [
      "package 'miscTools' successfully unpacked and MD5 sums checked\n",
      "package 'maxLik' successfully unpacked and MD5 sums checked\n",
      "package 'statmod' successfully unpacked and MD5 sums checked\n",
      "package 'mlogit' successfully unpacked and MD5 sums checked\n",
      "\n",
      "The downloaded binary packages are in\n",
      "\tC:\\rstudio\\RtmpgLwMlb\\downloaded_packages\n"
     ]
    }
   ],
   "source": [
    "install.packages('mlogit')"
   ]
  },
  {
   "cell_type": "code",
   "execution_count": 2,
   "metadata": {},
   "outputs": [
    {
     "name": "stderr",
     "output_type": "stream",
     "text": [
      "Loading required package: car\n",
      "Loading required package: lmtest\n",
      "Loading required package: zoo\n",
      "\n",
      "Attaching package: 'zoo'\n",
      "\n",
      "The following objects are masked from 'package:base':\n",
      "\n",
      "    as.Date, as.Date.numeric\n",
      "\n",
      "Loading required package: sandwich\n",
      "Loading required package: survival\n"
     ]
    }
   ],
   "source": [
    "library(AER)"
   ]
  },
  {
   "cell_type": "code",
   "execution_count": 3,
   "metadata": {},
   "outputs": [
    {
     "name": "stderr",
     "output_type": "stream",
     "text": [
      "Loading required package: Formula\n",
      "Loading required package: maxLik\n",
      "Loading required package: miscTools\n",
      "\n",
      "Please cite the 'maxLik' package as:\n",
      "Henningsen, Arne and Toomet, Ott (2011). maxLik: A package for maximum likelihood estimation in R. Computational Statistics 26(3), 443-458. DOI 10.1007/s00180-010-0217-1.\n",
      "\n",
      "If you have questions, suggestions, or comments regarding the 'maxLik' package, please use a forum or 'tracker' at maxLik's R-Forge site:\n",
      "https://r-forge.r-project.org/projects/maxlik/\n",
      "\n",
      "Attaching package: 'dplyr'\n",
      "\n",
      "The following object is masked from 'package:car':\n",
      "\n",
      "    recode\n",
      "\n",
      "The following objects are masked from 'package:stats':\n",
      "\n",
      "    filter, lag\n",
      "\n",
      "The following objects are masked from 'package:base':\n",
      "\n",
      "    intersect, setdiff, setequal, union\n",
      "\n"
     ]
    }
   ],
   "source": [
    "library(mlogit)\n",
    "library(dplyr)"
   ]
  },
  {
   "cell_type": "markdown",
   "metadata": {},
   "source": [
    "# Data\n",
    "* Multinomial Logit \n",
    "* Dependent variables = 4 differents choices set ={air, train, bus, car} = each person has a 4 column and 1 yes among 4 alternatives\n",
    "* Independent varaibles = mode, choice, wait, vcost, travel, gcost, income, size"
   ]
  },
  {
   "cell_type": "code",
   "execution_count": 4,
   "metadata": {},
   "outputs": [],
   "source": [
    "data(\"TravelMode\", package=\"AER\") # load data"
   ]
  },
  {
   "cell_type": "code",
   "execution_count": 5,
   "metadata": {},
   "outputs": [
    {
     "data": {
      "text/html": [
       "<table>\n",
       "<thead><tr><th scope=col>individual</th><th scope=col>mode</th><th scope=col>choice</th><th scope=col>wait</th><th scope=col>vcost</th><th scope=col>travel</th><th scope=col>gcost</th><th scope=col>income</th><th scope=col>size</th></tr></thead>\n",
       "<tbody>\n",
       "\t<tr><td>1    </td><td>air  </td><td>no   </td><td>69   </td><td>59   </td><td>100  </td><td>70   </td><td>35   </td><td>1    </td></tr>\n",
       "\t<tr><td>1    </td><td>train</td><td>no   </td><td>34   </td><td>31   </td><td>372  </td><td>71   </td><td>35   </td><td>1    </td></tr>\n",
       "\t<tr><td>1    </td><td>bus  </td><td>no   </td><td>35   </td><td>25   </td><td>417  </td><td>70   </td><td>35   </td><td>1    </td></tr>\n",
       "\t<tr><td>1    </td><td>car  </td><td>yes  </td><td> 0   </td><td>10   </td><td>180  </td><td>30   </td><td>35   </td><td>1    </td></tr>\n",
       "\t<tr><td>2    </td><td>air  </td><td>no   </td><td>64   </td><td>58   </td><td> 68  </td><td>68   </td><td>30   </td><td>2    </td></tr>\n",
       "\t<tr><td>2    </td><td>train</td><td>no   </td><td>44   </td><td>31   </td><td>354  </td><td>84   </td><td>30   </td><td>2    </td></tr>\n",
       "\t<tr><td>2    </td><td>bus  </td><td>no   </td><td>53   </td><td>25   </td><td>399  </td><td>85   </td><td>30   </td><td>2    </td></tr>\n",
       "\t<tr><td>2    </td><td>car  </td><td>yes  </td><td> 0   </td><td>11   </td><td>255  </td><td>50   </td><td>30   </td><td>2    </td></tr>\n",
       "</tbody>\n",
       "</table>\n"
      ],
      "text/latex": [
       "\\begin{tabular}{r|lllllllll}\n",
       " individual & mode & choice & wait & vcost & travel & gcost & income & size\\\\\n",
       "\\hline\n",
       "\t 1     & air   & no    & 69    & 59    & 100   & 70    & 35    & 1    \\\\\n",
       "\t 1     & train & no    & 34    & 31    & 372   & 71    & 35    & 1    \\\\\n",
       "\t 1     & bus   & no    & 35    & 25    & 417   & 70    & 35    & 1    \\\\\n",
       "\t 1     & car   & yes   &  0    & 10    & 180   & 30    & 35    & 1    \\\\\n",
       "\t 2     & air   & no    & 64    & 58    &  68   & 68    & 30    & 2    \\\\\n",
       "\t 2     & train & no    & 44    & 31    & 354   & 84    & 30    & 2    \\\\\n",
       "\t 2     & bus   & no    & 53    & 25    & 399   & 85    & 30    & 2    \\\\\n",
       "\t 2     & car   & yes   &  0    & 11    & 255   & 50    & 30    & 2    \\\\\n",
       "\\end{tabular}\n"
      ],
      "text/markdown": [
       "\n",
       "individual | mode | choice | wait | vcost | travel | gcost | income | size | \n",
       "|---|---|---|---|---|---|---|---|\n",
       "| 1     | air   | no    | 69    | 59    | 100   | 70    | 35    | 1     | \n",
       "| 1     | train | no    | 34    | 31    | 372   | 71    | 35    | 1     | \n",
       "| 1     | bus   | no    | 35    | 25    | 417   | 70    | 35    | 1     | \n",
       "| 1     | car   | yes   |  0    | 10    | 180   | 30    | 35    | 1     | \n",
       "| 2     | air   | no    | 64    | 58    |  68   | 68    | 30    | 2     | \n",
       "| 2     | train | no    | 44    | 31    | 354   | 84    | 30    | 2     | \n",
       "| 2     | bus   | no    | 53    | 25    | 399   | 85    | 30    | 2     | \n",
       "| 2     | car   | yes   |  0    | 11    | 255   | 50    | 30    | 2     | \n",
       "\n",
       "\n"
      ],
      "text/plain": [
       "  individual mode  choice wait vcost travel gcost income size\n",
       "1 1          air   no     69   59    100    70    35     1   \n",
       "2 1          train no     34   31    372    71    35     1   \n",
       "3 1          bus   no     35   25    417    70    35     1   \n",
       "4 1          car   yes     0   10    180    30    35     1   \n",
       "5 2          air   no     64   58     68    68    30     2   \n",
       "6 2          train no     44   31    354    84    30     2   \n",
       "7 2          bus   no     53   25    399    85    30     2   \n",
       "8 2          car   yes     0   11    255    50    30     2   "
      ]
     },
     "metadata": {},
     "output_type": "display_data"
    }
   ],
   "source": [
    "head(TravelMode,8)"
   ]
  },
  {
   "cell_type": "code",
   "execution_count": 6,
   "metadata": {},
   "outputs": [
    {
     "data": {
      "text/html": [
       "<ol class=list-inline>\n",
       "\t<li>840</li>\n",
       "\t<li>9</li>\n",
       "</ol>\n"
      ],
      "text/latex": [
       "\\begin{enumerate*}\n",
       "\\item 840\n",
       "\\item 9\n",
       "\\end{enumerate*}\n"
      ],
      "text/markdown": [
       "1. 840\n",
       "2. 9\n",
       "\n",
       "\n"
      ],
      "text/plain": [
       "[1] 840   9"
      ]
     },
     "metadata": {},
     "output_type": "display_data"
    }
   ],
   "source": [
    "dim(TravelMode) # 840 individuals 8 independent variables"
   ]
  },
  {
   "cell_type": "code",
   "execution_count": 42,
   "metadata": {},
   "outputs": [],
   "source": [
    "Travel = TravelMode"
   ]
  },
  {
   "cell_type": "code",
   "execution_count": 8,
   "metadata": {},
   "outputs": [
    {
     "data": {
      "text/html": [
       "840"
      ],
      "text/latex": [
       "840"
      ],
      "text/markdown": [
       "840"
      ],
      "text/plain": [
       "[1] 840"
      ]
     },
     "metadata": {},
     "output_type": "display_data"
    }
   ],
   "source": [
    "nrow(Travel)"
   ]
  },
  {
   "cell_type": "code",
   "execution_count": 9,
   "metadata": {},
   "outputs": [
    {
     "data": {
      "text/html": [
       "9"
      ],
      "text/latex": [
       "9"
      ],
      "text/markdown": [
       "9"
      ],
      "text/plain": [
       "[1] 9"
      ]
     },
     "metadata": {},
     "output_type": "display_data"
    }
   ],
   "source": [
    "ncol(Travel)"
   ]
  },
  {
   "cell_type": "markdown",
   "metadata": {},
   "source": [
    "* how many individuals? nrow(=840) / #of alternatives (=4) = 210"
   ]
  },
  {
   "cell_type": "code",
   "execution_count": 10,
   "metadata": {},
   "outputs": [
    {
     "data": {
      "text/html": [
       "210"
      ],
      "text/latex": [
       "210"
      ],
      "text/markdown": [
       "210"
      ],
      "text/plain": [
       "[1] 210"
      ]
     },
     "metadata": {},
     "output_type": "display_data"
    }
   ],
   "source": [
    "length(unique(Travel$individual))"
   ]
  },
  {
   "cell_type": "markdown",
   "metadata": {},
   "source": [
    "* missing data"
   ]
  },
  {
   "cell_type": "code",
   "execution_count": 11,
   "metadata": {},
   "outputs": [
    {
     "data": {
      "text/plain": [
       "\n",
       "FALSE \n",
       " 7560 "
      ]
     },
     "metadata": {},
     "output_type": "display_data"
    }
   ],
   "source": [
    "table(is.na(Travel))"
   ]
  },
  {
   "cell_type": "markdown",
   "metadata": {},
   "source": [
    "# STEP1. Individual Likelihood Function 1 : Utility Function\n",
    "* theta = # mix of constant variable and 3 coefficient for the 3 independent varaibles (gcost, wait, travel)\n",
    "* without learning a value of coefficient, in here; coefficients of 3 independent variables are given."
   ]
  },
  {
   "cell_type": "code",
   "execution_count": 12,
   "metadata": {},
   "outputs": [],
   "source": [
    "theta = c(1,2,3,-0.001, -0.003, -0.005) # one set of parameters"
   ]
  },
  {
   "cell_type": "code",
   "execution_count": 13,
   "metadata": {},
   "outputs": [
    {
     "data": {
      "text/html": [
       "<ol class=list-inline>\n",
       "\t<li>1</li>\n",
       "\t<li>2</li>\n",
       "\t<li>3</li>\n",
       "\t<li>-0.001</li>\n",
       "\t<li>-0.003</li>\n",
       "\t<li>-0.005</li>\n",
       "</ol>\n"
      ],
      "text/latex": [
       "\\begin{enumerate*}\n",
       "\\item 1\n",
       "\\item 2\n",
       "\\item 3\n",
       "\\item -0.001\n",
       "\\item -0.003\n",
       "\\item -0.005\n",
       "\\end{enumerate*}\n"
      ],
      "text/markdown": [
       "1. 1\n",
       "2. 2\n",
       "3. 3\n",
       "4. -0.001\n",
       "5. -0.003\n",
       "6. -0.005\n",
       "\n",
       "\n"
      ],
      "text/plain": [
       "[1]  1.000  2.000  3.000 -0.001 -0.003 -0.005"
      ]
     },
     "metadata": {},
     "output_type": "display_data"
    }
   ],
   "source": [
    "theta # mix of constant variable and 3 coefficient for the 3 independent varaibles (gcost, wait, travel)"
   ]
  },
  {
   "cell_type": "code",
   "execution_count": 14,
   "metadata": {},
   "outputs": [],
   "source": [
    "sample <- filter(Travel, individual ==1) # filter the individual 1"
   ]
  },
  {
   "cell_type": "code",
   "execution_count": 15,
   "metadata": {},
   "outputs": [
    {
     "data": {
      "text/html": [
       "<table>\n",
       "<thead><tr><th scope=col>individual</th><th scope=col>mode</th><th scope=col>choice</th><th scope=col>wait</th><th scope=col>vcost</th><th scope=col>travel</th><th scope=col>gcost</th><th scope=col>income</th><th scope=col>size</th></tr></thead>\n",
       "<tbody>\n",
       "\t<tr><td>1    </td><td>air  </td><td>no   </td><td>69   </td><td>59   </td><td>100  </td><td>70   </td><td>35   </td><td>1    </td></tr>\n",
       "\t<tr><td>1    </td><td>train</td><td>no   </td><td>34   </td><td>31   </td><td>372  </td><td>71   </td><td>35   </td><td>1    </td></tr>\n",
       "\t<tr><td>1    </td><td>bus  </td><td>no   </td><td>35   </td><td>25   </td><td>417  </td><td>70   </td><td>35   </td><td>1    </td></tr>\n",
       "\t<tr><td>1    </td><td>car  </td><td>yes  </td><td> 0   </td><td>10   </td><td>180  </td><td>30   </td><td>35   </td><td>1    </td></tr>\n",
       "</tbody>\n",
       "</table>\n"
      ],
      "text/latex": [
       "\\begin{tabular}{r|lllllllll}\n",
       " individual & mode & choice & wait & vcost & travel & gcost & income & size\\\\\n",
       "\\hline\n",
       "\t 1     & air   & no    & 69    & 59    & 100   & 70    & 35    & 1    \\\\\n",
       "\t 1     & train & no    & 34    & 31    & 372   & 71    & 35    & 1    \\\\\n",
       "\t 1     & bus   & no    & 35    & 25    & 417   & 70    & 35    & 1    \\\\\n",
       "\t 1     & car   & yes   &  0    & 10    & 180   & 30    & 35    & 1    \\\\\n",
       "\\end{tabular}\n"
      ],
      "text/markdown": [
       "\n",
       "individual | mode | choice | wait | vcost | travel | gcost | income | size | \n",
       "|---|---|---|---|\n",
       "| 1     | air   | no    | 69    | 59    | 100   | 70    | 35    | 1     | \n",
       "| 1     | train | no    | 34    | 31    | 372   | 71    | 35    | 1     | \n",
       "| 1     | bus   | no    | 35    | 25    | 417   | 70    | 35    | 1     | \n",
       "| 1     | car   | yes   |  0    | 10    | 180   | 30    | 35    | 1     | \n",
       "\n",
       "\n"
      ],
      "text/plain": [
       "  individual mode  choice wait vcost travel gcost income size\n",
       "1 1          air   no     69   59    100    70    35     1   \n",
       "2 1          train no     34   31    372    71    35     1   \n",
       "3 1          bus   no     35   25    417    70    35     1   \n",
       "4 1          car   yes     0   10    180    30    35     1   "
      ]
     },
     "metadata": {},
     "output_type": "display_data"
    }
   ],
   "source": [
    "sample"
   ]
  },
  {
   "cell_type": "markdown",
   "metadata": {},
   "source": [
    "* making new variable constant based on alternatives, car (=base group) =0, air =1, train =2, bus =3"
   ]
  },
  {
   "cell_type": "code",
   "execution_count": 16,
   "metadata": {},
   "outputs": [],
   "source": [
    "sample$constant <-0"
   ]
  },
  {
   "cell_type": "code",
   "execution_count": 17,
   "metadata": {},
   "outputs": [
    {
     "data": {
      "text/html": [
       "<table>\n",
       "<thead><tr><th scope=col>individual</th><th scope=col>mode</th><th scope=col>choice</th><th scope=col>wait</th><th scope=col>vcost</th><th scope=col>travel</th><th scope=col>gcost</th><th scope=col>income</th><th scope=col>size</th><th scope=col>constant</th></tr></thead>\n",
       "<tbody>\n",
       "\t<tr><td>1    </td><td>air  </td><td>no   </td><td>69   </td><td>59   </td><td>100  </td><td>70   </td><td>35   </td><td>1    </td><td>0    </td></tr>\n",
       "\t<tr><td>1    </td><td>train</td><td>no   </td><td>34   </td><td>31   </td><td>372  </td><td>71   </td><td>35   </td><td>1    </td><td>0    </td></tr>\n",
       "\t<tr><td>1    </td><td>bus  </td><td>no   </td><td>35   </td><td>25   </td><td>417  </td><td>70   </td><td>35   </td><td>1    </td><td>0    </td></tr>\n",
       "\t<tr><td>1    </td><td>car  </td><td>yes  </td><td> 0   </td><td>10   </td><td>180  </td><td>30   </td><td>35   </td><td>1    </td><td>0    </td></tr>\n",
       "</tbody>\n",
       "</table>\n"
      ],
      "text/latex": [
       "\\begin{tabular}{r|llllllllll}\n",
       " individual & mode & choice & wait & vcost & travel & gcost & income & size & constant\\\\\n",
       "\\hline\n",
       "\t 1     & air   & no    & 69    & 59    & 100   & 70    & 35    & 1     & 0    \\\\\n",
       "\t 1     & train & no    & 34    & 31    & 372   & 71    & 35    & 1     & 0    \\\\\n",
       "\t 1     & bus   & no    & 35    & 25    & 417   & 70    & 35    & 1     & 0    \\\\\n",
       "\t 1     & car   & yes   &  0    & 10    & 180   & 30    & 35    & 1     & 0    \\\\\n",
       "\\end{tabular}\n"
      ],
      "text/markdown": [
       "\n",
       "individual | mode | choice | wait | vcost | travel | gcost | income | size | constant | \n",
       "|---|---|---|---|\n",
       "| 1     | air   | no    | 69    | 59    | 100   | 70    | 35    | 1     | 0     | \n",
       "| 1     | train | no    | 34    | 31    | 372   | 71    | 35    | 1     | 0     | \n",
       "| 1     | bus   | no    | 35    | 25    | 417   | 70    | 35    | 1     | 0     | \n",
       "| 1     | car   | yes   |  0    | 10    | 180   | 30    | 35    | 1     | 0     | \n",
       "\n",
       "\n"
      ],
      "text/plain": [
       "  individual mode  choice wait vcost travel gcost income size constant\n",
       "1 1          air   no     69   59    100    70    35     1    0       \n",
       "2 1          train no     34   31    372    71    35     1    0       \n",
       "3 1          bus   no     35   25    417    70    35     1    0       \n",
       "4 1          car   yes     0   10    180    30    35     1    0       "
      ]
     },
     "metadata": {},
     "output_type": "display_data"
    }
   ],
   "source": [
    "sample"
   ]
  },
  {
   "cell_type": "code",
   "execution_count": 18,
   "metadata": {},
   "outputs": [],
   "source": [
    "sample$constant[sample$mode==\"air\"] = theta[1]"
   ]
  },
  {
   "cell_type": "code",
   "execution_count": 19,
   "metadata": {},
   "outputs": [
    {
     "data": {
      "text/html": [
       "<table>\n",
       "<thead><tr><th scope=col>individual</th><th scope=col>mode</th><th scope=col>choice</th><th scope=col>wait</th><th scope=col>vcost</th><th scope=col>travel</th><th scope=col>gcost</th><th scope=col>income</th><th scope=col>size</th><th scope=col>constant</th></tr></thead>\n",
       "<tbody>\n",
       "\t<tr><td>1    </td><td>air  </td><td>no   </td><td>69   </td><td>59   </td><td>100  </td><td>70   </td><td>35   </td><td>1    </td><td>1    </td></tr>\n",
       "\t<tr><td>1    </td><td>train</td><td>no   </td><td>34   </td><td>31   </td><td>372  </td><td>71   </td><td>35   </td><td>1    </td><td>0    </td></tr>\n",
       "\t<tr><td>1    </td><td>bus  </td><td>no   </td><td>35   </td><td>25   </td><td>417  </td><td>70   </td><td>35   </td><td>1    </td><td>0    </td></tr>\n",
       "\t<tr><td>1    </td><td>car  </td><td>yes  </td><td> 0   </td><td>10   </td><td>180  </td><td>30   </td><td>35   </td><td>1    </td><td>0    </td></tr>\n",
       "</tbody>\n",
       "</table>\n"
      ],
      "text/latex": [
       "\\begin{tabular}{r|llllllllll}\n",
       " individual & mode & choice & wait & vcost & travel & gcost & income & size & constant\\\\\n",
       "\\hline\n",
       "\t 1     & air   & no    & 69    & 59    & 100   & 70    & 35    & 1     & 1    \\\\\n",
       "\t 1     & train & no    & 34    & 31    & 372   & 71    & 35    & 1     & 0    \\\\\n",
       "\t 1     & bus   & no    & 35    & 25    & 417   & 70    & 35    & 1     & 0    \\\\\n",
       "\t 1     & car   & yes   &  0    & 10    & 180   & 30    & 35    & 1     & 0    \\\\\n",
       "\\end{tabular}\n"
      ],
      "text/markdown": [
       "\n",
       "individual | mode | choice | wait | vcost | travel | gcost | income | size | constant | \n",
       "|---|---|---|---|\n",
       "| 1     | air   | no    | 69    | 59    | 100   | 70    | 35    | 1     | 1     | \n",
       "| 1     | train | no    | 34    | 31    | 372   | 71    | 35    | 1     | 0     | \n",
       "| 1     | bus   | no    | 35    | 25    | 417   | 70    | 35    | 1     | 0     | \n",
       "| 1     | car   | yes   |  0    | 10    | 180   | 30    | 35    | 1     | 0     | \n",
       "\n",
       "\n"
      ],
      "text/plain": [
       "  individual mode  choice wait vcost travel gcost income size constant\n",
       "1 1          air   no     69   59    100    70    35     1    1       \n",
       "2 1          train no     34   31    372    71    35     1    0       \n",
       "3 1          bus   no     35   25    417    70    35     1    0       \n",
       "4 1          car   yes     0   10    180    30    35     1    0       "
      ]
     },
     "metadata": {},
     "output_type": "display_data"
    }
   ],
   "source": [
    "sample"
   ]
  },
  {
   "cell_type": "code",
   "execution_count": 20,
   "metadata": {},
   "outputs": [],
   "source": [
    "sample$constant[sample$mode==\"train\"] = theta[2]"
   ]
  },
  {
   "cell_type": "code",
   "execution_count": 21,
   "metadata": {},
   "outputs": [],
   "source": [
    "sample$constant[sample$mode==\"bus\"] = theta[3]"
   ]
  },
  {
   "cell_type": "markdown",
   "metadata": {},
   "source": [
    "* Utility with constant, and 3 variables and 3 coefficient for 3 variables (gcost, wait, travel)"
   ]
  },
  {
   "cell_type": "code",
   "execution_count": 22,
   "metadata": {},
   "outputs": [],
   "source": [
    "sample$utility = theta[4]*sample$gcost + theta[5]*sample$wait + theta[6]*sample$travel + sample$constant"
   ]
  },
  {
   "cell_type": "code",
   "execution_count": 23,
   "metadata": {},
   "outputs": [
    {
     "data": {
      "text/html": [
       "<table>\n",
       "<thead><tr><th scope=col>individual</th><th scope=col>mode</th><th scope=col>choice</th><th scope=col>wait</th><th scope=col>vcost</th><th scope=col>travel</th><th scope=col>gcost</th><th scope=col>income</th><th scope=col>size</th><th scope=col>constant</th><th scope=col>utility</th></tr></thead>\n",
       "<tbody>\n",
       "\t<tr><td>1     </td><td>air   </td><td>no    </td><td>69    </td><td>59    </td><td>100   </td><td>70    </td><td>35    </td><td>1     </td><td>1     </td><td> 0.223</td></tr>\n",
       "\t<tr><td>1     </td><td>train </td><td>no    </td><td>34    </td><td>31    </td><td>372   </td><td>71    </td><td>35    </td><td>1     </td><td>2     </td><td>-0.033</td></tr>\n",
       "\t<tr><td>1     </td><td>bus   </td><td>no    </td><td>35    </td><td>25    </td><td>417   </td><td>70    </td><td>35    </td><td>1     </td><td>3     </td><td> 0.740</td></tr>\n",
       "\t<tr><td>1     </td><td>car   </td><td>yes   </td><td> 0    </td><td>10    </td><td>180   </td><td>30    </td><td>35    </td><td>1     </td><td>0     </td><td>-0.930</td></tr>\n",
       "</tbody>\n",
       "</table>\n"
      ],
      "text/latex": [
       "\\begin{tabular}{r|lllllllllll}\n",
       " individual & mode & choice & wait & vcost & travel & gcost & income & size & constant & utility\\\\\n",
       "\\hline\n",
       "\t 1      & air    & no     & 69     & 59     & 100    & 70     & 35     & 1      & 1      &  0.223\\\\\n",
       "\t 1      & train  & no     & 34     & 31     & 372    & 71     & 35     & 1      & 2      & -0.033\\\\\n",
       "\t 1      & bus    & no     & 35     & 25     & 417    & 70     & 35     & 1      & 3      &  0.740\\\\\n",
       "\t 1      & car    & yes    &  0     & 10     & 180    & 30     & 35     & 1      & 0      & -0.930\\\\\n",
       "\\end{tabular}\n"
      ],
      "text/markdown": [
       "\n",
       "individual | mode | choice | wait | vcost | travel | gcost | income | size | constant | utility | \n",
       "|---|---|---|---|\n",
       "| 1      | air    | no     | 69     | 59     | 100    | 70     | 35     | 1      | 1      |  0.223 | \n",
       "| 1      | train  | no     | 34     | 31     | 372    | 71     | 35     | 1      | 2      | -0.033 | \n",
       "| 1      | bus    | no     | 35     | 25     | 417    | 70     | 35     | 1      | 3      |  0.740 | \n",
       "| 1      | car    | yes    |  0     | 10     | 180    | 30     | 35     | 1      | 0      | -0.930 | \n",
       "\n",
       "\n"
      ],
      "text/plain": [
       "  individual mode  choice wait vcost travel gcost income size constant utility\n",
       "1 1          air   no     69   59    100    70    35     1    1         0.223 \n",
       "2 1          train no     34   31    372    71    35     1    2        -0.033 \n",
       "3 1          bus   no     35   25    417    70    35     1    3         0.740 \n",
       "4 1          car   yes     0   10    180    30    35     1    0        -0.930 "
      ]
     },
     "metadata": {},
     "output_type": "display_data"
    }
   ],
   "source": [
    "sample"
   ]
  },
  {
   "cell_type": "markdown",
   "metadata": {},
   "source": [
    "# STEP2. Individual Likelihood Function 2: Probability "
   ]
  },
  {
   "cell_type": "code",
   "execution_count": 24,
   "metadata": {},
   "outputs": [
    {
     "data": {
      "text/html": [
       "<table>\n",
       "<thead><tr><th scope=col>individual</th><th scope=col>mode</th><th scope=col>choice</th><th scope=col>wait</th><th scope=col>vcost</th><th scope=col>travel</th><th scope=col>gcost</th><th scope=col>income</th><th scope=col>size</th><th scope=col>constant</th><th scope=col>utility</th></tr></thead>\n",
       "<tbody>\n",
       "\t<tr><td>1     </td><td>air   </td><td>no    </td><td>69    </td><td>59    </td><td>100   </td><td>70    </td><td>35    </td><td>1     </td><td>1     </td><td> 0.223</td></tr>\n",
       "\t<tr><td>1     </td><td>train </td><td>no    </td><td>34    </td><td>31    </td><td>372   </td><td>71    </td><td>35    </td><td>1     </td><td>2     </td><td>-0.033</td></tr>\n",
       "\t<tr><td>1     </td><td>bus   </td><td>no    </td><td>35    </td><td>25    </td><td>417   </td><td>70    </td><td>35    </td><td>1     </td><td>3     </td><td> 0.740</td></tr>\n",
       "\t<tr><td>1     </td><td>car   </td><td>yes   </td><td> 0    </td><td>10    </td><td>180   </td><td>30    </td><td>35    </td><td>1     </td><td>0     </td><td>-0.930</td></tr>\n",
       "</tbody>\n",
       "</table>\n"
      ],
      "text/latex": [
       "\\begin{tabular}{r|lllllllllll}\n",
       " individual & mode & choice & wait & vcost & travel & gcost & income & size & constant & utility\\\\\n",
       "\\hline\n",
       "\t 1      & air    & no     & 69     & 59     & 100    & 70     & 35     & 1      & 1      &  0.223\\\\\n",
       "\t 1      & train  & no     & 34     & 31     & 372    & 71     & 35     & 1      & 2      & -0.033\\\\\n",
       "\t 1      & bus    & no     & 35     & 25     & 417    & 70     & 35     & 1      & 3      &  0.740\\\\\n",
       "\t 1      & car    & yes    &  0     & 10     & 180    & 30     & 35     & 1      & 0      & -0.930\\\\\n",
       "\\end{tabular}\n"
      ],
      "text/markdown": [
       "\n",
       "individual | mode | choice | wait | vcost | travel | gcost | income | size | constant | utility | \n",
       "|---|---|---|---|\n",
       "| 1      | air    | no     | 69     | 59     | 100    | 70     | 35     | 1      | 1      |  0.223 | \n",
       "| 1      | train  | no     | 34     | 31     | 372    | 71     | 35     | 1      | 2      | -0.033 | \n",
       "| 1      | bus    | no     | 35     | 25     | 417    | 70     | 35     | 1      | 3      |  0.740 | \n",
       "| 1      | car    | yes    |  0     | 10     | 180    | 30     | 35     | 1      | 0      | -0.930 | \n",
       "\n",
       "\n"
      ],
      "text/plain": [
       "  individual mode  choice wait vcost travel gcost income size constant utility\n",
       "1 1          air   no     69   59    100    70    35     1    1         0.223 \n",
       "2 1          train no     34   31    372    71    35     1    2        -0.033 \n",
       "3 1          bus   no     35   25    417    70    35     1    3         0.740 \n",
       "4 1          car   yes     0   10    180    30    35     1    0        -0.930 "
      ]
     },
     "metadata": {},
     "output_type": "display_data"
    }
   ],
   "source": [
    "sample"
   ]
  },
  {
   "cell_type": "markdown",
   "metadata": {},
   "source": [
    "* actual choice = choice(=yes), in the above case, car was selected among 4 possible alternatives"
   ]
  },
  {
   "cell_type": "code",
   "execution_count": 25,
   "metadata": {},
   "outputs": [],
   "source": [
    "actual_choice <- filter(sample, choice =='yes')"
   ]
  },
  {
   "cell_type": "code",
   "execution_count": 26,
   "metadata": {},
   "outputs": [
    {
     "data": {
      "text/html": [
       "<table>\n",
       "<thead><tr><th scope=col>individual</th><th scope=col>mode</th><th scope=col>choice</th><th scope=col>wait</th><th scope=col>vcost</th><th scope=col>travel</th><th scope=col>gcost</th><th scope=col>income</th><th scope=col>size</th><th scope=col>constant</th><th scope=col>utility</th></tr></thead>\n",
       "<tbody>\n",
       "\t<tr><td>1    </td><td>car  </td><td>yes  </td><td>0    </td><td>10   </td><td>180  </td><td>30   </td><td>35   </td><td>1    </td><td>0    </td><td>-0.93</td></tr>\n",
       "</tbody>\n",
       "</table>\n"
      ],
      "text/latex": [
       "\\begin{tabular}{r|lllllllllll}\n",
       " individual & mode & choice & wait & vcost & travel & gcost & income & size & constant & utility\\\\\n",
       "\\hline\n",
       "\t 1     & car   & yes   & 0     & 10    & 180   & 30    & 35    & 1     & 0     & -0.93\\\\\n",
       "\\end{tabular}\n"
      ],
      "text/markdown": [
       "\n",
       "individual | mode | choice | wait | vcost | travel | gcost | income | size | constant | utility | \n",
       "|---|\n",
       "| 1     | car   | yes   | 0     | 10    | 180   | 30    | 35    | 1     | 0     | -0.93 | \n",
       "\n",
       "\n"
      ],
      "text/plain": [
       "  individual mode choice wait vcost travel gcost income size constant utility\n",
       "1 1          car  yes    0    10    180    30    35     1    0        -0.93  "
      ]
     },
     "metadata": {},
     "output_type": "display_data"
    }
   ],
   "source": [
    "actual_choice"
   ]
  },
  {
   "cell_type": "code",
   "execution_count": 27,
   "metadata": {},
   "outputs": [
    {
     "data": {
      "text/html": [
       "-0.93"
      ],
      "text/latex": [
       "-0.93"
      ],
      "text/markdown": [
       "-0.93"
      ],
      "text/plain": [
       "[1] -0.93"
      ]
     },
     "metadata": {},
     "output_type": "display_data"
    }
   ],
   "source": [
    "actual_choice$utility"
   ]
  },
  {
   "cell_type": "code",
   "execution_count": 28,
   "metadata": {},
   "outputs": [
    {
     "data": {
      "text/html": [
       "<ol class=list-inline>\n",
       "\t<li>0.223</li>\n",
       "\t<li>-0.0329999999999999</li>\n",
       "\t<li>0.74</li>\n",
       "\t<li>-0.93</li>\n",
       "</ol>\n"
      ],
      "text/latex": [
       "\\begin{enumerate*}\n",
       "\\item 0.223\n",
       "\\item -0.0329999999999999\n",
       "\\item 0.74\n",
       "\\item -0.93\n",
       "\\end{enumerate*}\n"
      ],
      "text/markdown": [
       "1. 0.223\n",
       "2. -0.0329999999999999\n",
       "3. 0.74\n",
       "4. -0.93\n",
       "\n",
       "\n"
      ],
      "text/plain": [
       "[1]  0.223 -0.033  0.740 -0.930"
      ]
     },
     "metadata": {},
     "output_type": "display_data"
    }
   ],
   "source": [
    "sample$utility"
   ]
  },
  {
   "cell_type": "code",
   "execution_count": 29,
   "metadata": {},
   "outputs": [
    {
     "data": {
      "text/html": [
       "<ol class=list-inline>\n",
       "\t<li>1.24982057373598</li>\n",
       "\t<li>0.967538559589032</li>\n",
       "\t<li>2.09593551449437</li>\n",
       "\t<li>0.394553710371601</li>\n",
       "</ol>\n"
      ],
      "text/latex": [
       "\\begin{enumerate*}\n",
       "\\item 1.24982057373598\n",
       "\\item 0.967538559589032\n",
       "\\item 2.09593551449437\n",
       "\\item 0.394553710371601\n",
       "\\end{enumerate*}\n"
      ],
      "text/markdown": [
       "1. 1.24982057373598\n",
       "2. 0.967538559589032\n",
       "3. 2.09593551449437\n",
       "4. 0.394553710371601\n",
       "\n",
       "\n"
      ],
      "text/plain": [
       "[1] 1.2498206 0.9675386 2.0959355 0.3945537"
      ]
     },
     "metadata": {},
     "output_type": "display_data"
    }
   ],
   "source": [
    "exp(sample$utility)"
   ]
  },
  {
   "cell_type": "code",
   "execution_count": 30,
   "metadata": {},
   "outputs": [
    {
     "data": {
      "text/html": [
       "4.70784835819098"
      ],
      "text/latex": [
       "4.70784835819098"
      ],
      "text/markdown": [
       "4.70784835819098"
      ],
      "text/plain": [
       "[1] 4.707848"
      ]
     },
     "metadata": {},
     "output_type": "display_data"
    }
   ],
   "source": [
    "sum(exp(sample$utility))"
   ]
  },
  {
   "cell_type": "markdown",
   "metadata": {},
   "source": [
    "# predicted probability of car =1\n",
    "$prob_{n=1}(i=car)=\\frac{\\beta'{e}^{X_{ni}}}{\\sum _{j}\\beta'{e}^{X_{nj}}}$\n",
    "* n= individuals\n",
    "* i= actual choice\n",
    "* j= alternative choice sets "
   ]
  },
  {
   "cell_type": "code",
   "execution_count": 31,
   "metadata": {},
   "outputs": [
    {
     "data": {
      "text/html": [
       "0.0838076506192333"
      ],
      "text/latex": [
       "0.0838076506192333"
      ],
      "text/markdown": [
       "0.0838076506192333"
      ],
      "text/plain": [
       "[1] 0.08380765"
      ]
     },
     "metadata": {},
     "output_type": "display_data"
    }
   ],
   "source": [
    "(actual_choice_probability = exp(actual_choice$utility)/sum(exp(sample$utility)))"
   ]
  },
  {
   "cell_type": "markdown",
   "metadata": {},
   "source": [
    "# STEP3. Utility Function for All Individuals 1\n",
    "* write a function with step 1 and step 2 for calcuating a predicted probability of all individuals "
   ]
  },
  {
   "cell_type": "code",
   "execution_count": 32,
   "metadata": {},
   "outputs": [],
   "source": [
    "choice.prob <-function(sample){\n",
    "    x=filter(sample, choice=='yes')\n",
    "    prob = exp(x$utility)/sum(exp(sample$utility))\n",
    "    return(prob)\n",
    "    }"
   ]
  },
  {
   "cell_type": "markdown",
   "metadata": {},
   "source": [
    "# STEP4. Utility Function for all Individuals 2\n",
    "\n",
    "* group the dataset by individuals\n",
    "* compute choice probability within group\n",
    "* summarize choice probability across group\n",
    "* group_by(), summarise(), do() function in dplyr package is used"
   ]
  },
  {
   "cell_type": "code",
   "execution_count": 35,
   "metadata": {},
   "outputs": [],
   "source": [
    "group = group_by(Travel, individual) # group the data by individuals"
   ]
  },
  {
   "cell_type": "code",
   "execution_count": 37,
   "metadata": {},
   "outputs": [
    {
     "data": {
      "text/html": [
       "<table>\n",
       "<thead><tr><th scope=col>individual</th><th scope=col>mode</th><th scope=col>choice</th><th scope=col>wait</th><th scope=col>vcost</th><th scope=col>travel</th><th scope=col>gcost</th><th scope=col>income</th><th scope=col>size</th></tr></thead>\n",
       "<tbody>\n",
       "\t<tr><td>1    </td><td>air  </td><td>no   </td><td>69   </td><td>59   </td><td>100  </td><td>70   </td><td>35   </td><td>1    </td></tr>\n",
       "\t<tr><td>1    </td><td>train</td><td>no   </td><td>34   </td><td>31   </td><td>372  </td><td>71   </td><td>35   </td><td>1    </td></tr>\n",
       "\t<tr><td>1    </td><td>bus  </td><td>no   </td><td>35   </td><td>25   </td><td>417  </td><td>70   </td><td>35   </td><td>1    </td></tr>\n",
       "\t<tr><td>1    </td><td>car  </td><td>yes  </td><td> 0   </td><td>10   </td><td>180  </td><td>30   </td><td>35   </td><td>1    </td></tr>\n",
       "\t<tr><td>2    </td><td>air  </td><td>no   </td><td>64   </td><td>58   </td><td> 68  </td><td>68   </td><td>30   </td><td>2    </td></tr>\n",
       "\t<tr><td>2    </td><td>train</td><td>no   </td><td>44   </td><td>31   </td><td>354  </td><td>84   </td><td>30   </td><td>2    </td></tr>\n",
       "\t<tr><td>2    </td><td>bus  </td><td>no   </td><td>53   </td><td>25   </td><td>399  </td><td>85   </td><td>30   </td><td>2    </td></tr>\n",
       "\t<tr><td>2    </td><td>car  </td><td>yes  </td><td> 0   </td><td>11   </td><td>255  </td><td>50   </td><td>30   </td><td>2    </td></tr>\n",
       "</tbody>\n",
       "</table>\n"
      ],
      "text/latex": [
       "\\begin{tabular}{r|lllllllll}\n",
       " individual & mode & choice & wait & vcost & travel & gcost & income & size\\\\\n",
       "\\hline\n",
       "\t 1     & air   & no    & 69    & 59    & 100   & 70    & 35    & 1    \\\\\n",
       "\t 1     & train & no    & 34    & 31    & 372   & 71    & 35    & 1    \\\\\n",
       "\t 1     & bus   & no    & 35    & 25    & 417   & 70    & 35    & 1    \\\\\n",
       "\t 1     & car   & yes   &  0    & 10    & 180   & 30    & 35    & 1    \\\\\n",
       "\t 2     & air   & no    & 64    & 58    &  68   & 68    & 30    & 2    \\\\\n",
       "\t 2     & train & no    & 44    & 31    & 354   & 84    & 30    & 2    \\\\\n",
       "\t 2     & bus   & no    & 53    & 25    & 399   & 85    & 30    & 2    \\\\\n",
       "\t 2     & car   & yes   &  0    & 11    & 255   & 50    & 30    & 2    \\\\\n",
       "\\end{tabular}\n"
      ],
      "text/markdown": [
       "\n",
       "individual | mode | choice | wait | vcost | travel | gcost | income | size | \n",
       "|---|---|---|---|---|---|---|---|\n",
       "| 1     | air   | no    | 69    | 59    | 100   | 70    | 35    | 1     | \n",
       "| 1     | train | no    | 34    | 31    | 372   | 71    | 35    | 1     | \n",
       "| 1     | bus   | no    | 35    | 25    | 417   | 70    | 35    | 1     | \n",
       "| 1     | car   | yes   |  0    | 10    | 180   | 30    | 35    | 1     | \n",
       "| 2     | air   | no    | 64    | 58    |  68   | 68    | 30    | 2     | \n",
       "| 2     | train | no    | 44    | 31    | 354   | 84    | 30    | 2     | \n",
       "| 2     | bus   | no    | 53    | 25    | 399   | 85    | 30    | 2     | \n",
       "| 2     | car   | yes   |  0    | 11    | 255   | 50    | 30    | 2     | \n",
       "\n",
       "\n"
      ],
      "text/plain": [
       "  individual mode  choice wait vcost travel gcost income size\n",
       "1 1          air   no     69   59    100    70    35     1   \n",
       "2 1          train no     34   31    372    71    35     1   \n",
       "3 1          bus   no     35   25    417    70    35     1   \n",
       "4 1          car   yes     0   10    180    30    35     1   \n",
       "5 2          air   no     64   58     68    68    30     2   \n",
       "6 2          train no     44   31    354    84    30     2   \n",
       "7 2          bus   no     53   25    399    85    30     2   \n",
       "8 2          car   yes     0   11    255    50    30     2   "
      ]
     },
     "metadata": {},
     "output_type": "display_data"
    }
   ],
   "source": [
    "head(group,8)"
   ]
  },
  {
   "cell_type": "code",
   "execution_count": 40,
   "metadata": {},
   "outputs": [
    {
     "data": {
      "text/html": [
       "<table>\n",
       "<thead><tr><th scope=col>individual</th><th scope=col>avg_travel</th></tr></thead>\n",
       "<tbody>\n",
       "\t<tr><td>1     </td><td>267.25</td></tr>\n",
       "\t<tr><td>2     </td><td>269.00</td></tr>\n",
       "</tbody>\n",
       "</table>\n"
      ],
      "text/latex": [
       "\\begin{tabular}{r|ll}\n",
       " individual & avg\\_travel\\\\\n",
       "\\hline\n",
       "\t 1      & 267.25\\\\\n",
       "\t 2      & 269.00\\\\\n",
       "\\end{tabular}\n"
      ],
      "text/markdown": [
       "\n",
       "individual | avg_travel | \n",
       "|---|---|\n",
       "| 1      | 267.25 | \n",
       "| 2      | 269.00 | \n",
       "\n",
       "\n"
      ],
      "text/plain": [
       "  individual avg_travel\n",
       "1 1          267.25    \n",
       "2 2          269.00    "
      ]
     },
     "metadata": {},
     "output_type": "display_data"
    }
   ],
   "source": [
    "head(summarise(group, avg_travel = mean(travel)),2) # calcuate the average travel time for each individuals, showing only 2 persons"
   ]
  },
  {
   "cell_type": "code",
   "execution_count": 44,
   "metadata": {},
   "outputs": [],
   "source": [
    "Travel$utility<-runif(nrow(Travel),0,1) # generate some random utility, each utility between 0 and 1"
   ]
  },
  {
   "cell_type": "code",
   "execution_count": 46,
   "metadata": {},
   "outputs": [
    {
     "data": {
      "text/html": [
       "<table>\n",
       "<thead><tr><th scope=col>individual</th><th scope=col>mode</th><th scope=col>choice</th><th scope=col>wait</th><th scope=col>vcost</th><th scope=col>travel</th><th scope=col>gcost</th><th scope=col>income</th><th scope=col>size</th><th scope=col>utility</th></tr></thead>\n",
       "<tbody>\n",
       "\t<tr><td>1        </td><td>air      </td><td>no       </td><td>69       </td><td>59       </td><td>100      </td><td>70       </td><td>35       </td><td>1        </td><td>0.7254003</td></tr>\n",
       "\t<tr><td>1        </td><td>train    </td><td>no       </td><td>34       </td><td>31       </td><td>372      </td><td>71       </td><td>35       </td><td>1        </td><td>0.6233933</td></tr>\n",
       "\t<tr><td>1        </td><td>bus      </td><td>no       </td><td>35       </td><td>25       </td><td>417      </td><td>70       </td><td>35       </td><td>1        </td><td>0.2258345</td></tr>\n",
       "\t<tr><td>1        </td><td>car      </td><td>yes      </td><td> 0       </td><td>10       </td><td>180      </td><td>30       </td><td>35       </td><td>1        </td><td>0.2877730</td></tr>\n",
       "\t<tr><td>2        </td><td>air      </td><td>no       </td><td>64       </td><td>58       </td><td> 68      </td><td>68       </td><td>30       </td><td>2        </td><td>0.2037890</td></tr>\n",
       "\t<tr><td>2        </td><td>train    </td><td>no       </td><td>44       </td><td>31       </td><td>354      </td><td>84       </td><td>30       </td><td>2        </td><td>0.6162616</td></tr>\n",
       "\t<tr><td>2        </td><td>bus      </td><td>no       </td><td>53       </td><td>25       </td><td>399      </td><td>85       </td><td>30       </td><td>2        </td><td>0.5138813</td></tr>\n",
       "\t<tr><td>2        </td><td>car      </td><td>yes      </td><td> 0       </td><td>11       </td><td>255      </td><td>50       </td><td>30       </td><td>2        </td><td>0.9781352</td></tr>\n",
       "</tbody>\n",
       "</table>\n"
      ],
      "text/latex": [
       "\\begin{tabular}{r|llllllllll}\n",
       " individual & mode & choice & wait & vcost & travel & gcost & income & size & utility\\\\\n",
       "\\hline\n",
       "\t 1         & air       & no        & 69        & 59        & 100       & 70        & 35        & 1         & 0.7254003\\\\\n",
       "\t 1         & train     & no        & 34        & 31        & 372       & 71        & 35        & 1         & 0.6233933\\\\\n",
       "\t 1         & bus       & no        & 35        & 25        & 417       & 70        & 35        & 1         & 0.2258345\\\\\n",
       "\t 1         & car       & yes       &  0        & 10        & 180       & 30        & 35        & 1         & 0.2877730\\\\\n",
       "\t 2         & air       & no        & 64        & 58        &  68       & 68        & 30        & 2         & 0.2037890\\\\\n",
       "\t 2         & train     & no        & 44        & 31        & 354       & 84        & 30        & 2         & 0.6162616\\\\\n",
       "\t 2         & bus       & no        & 53        & 25        & 399       & 85        & 30        & 2         & 0.5138813\\\\\n",
       "\t 2         & car       & yes       &  0        & 11        & 255       & 50        & 30        & 2         & 0.9781352\\\\\n",
       "\\end{tabular}\n"
      ],
      "text/markdown": [
       "\n",
       "individual | mode | choice | wait | vcost | travel | gcost | income | size | utility | \n",
       "|---|---|---|---|---|---|---|---|\n",
       "| 1         | air       | no        | 69        | 59        | 100       | 70        | 35        | 1         | 0.7254003 | \n",
       "| 1         | train     | no        | 34        | 31        | 372       | 71        | 35        | 1         | 0.6233933 | \n",
       "| 1         | bus       | no        | 35        | 25        | 417       | 70        | 35        | 1         | 0.2258345 | \n",
       "| 1         | car       | yes       |  0        | 10        | 180       | 30        | 35        | 1         | 0.2877730 | \n",
       "| 2         | air       | no        | 64        | 58        |  68       | 68        | 30        | 2         | 0.2037890 | \n",
       "| 2         | train     | no        | 44        | 31        | 354       | 84        | 30        | 2         | 0.6162616 | \n",
       "| 2         | bus       | no        | 53        | 25        | 399       | 85        | 30        | 2         | 0.5138813 | \n",
       "| 2         | car       | yes       |  0        | 11        | 255       | 50        | 30        | 2         | 0.9781352 | \n",
       "\n",
       "\n"
      ],
      "text/plain": [
       "  individual mode  choice wait vcost travel gcost income size utility  \n",
       "1 1          air   no     69   59    100    70    35     1    0.7254003\n",
       "2 1          train no     34   31    372    71    35     1    0.6233933\n",
       "3 1          bus   no     35   25    417    70    35     1    0.2258345\n",
       "4 1          car   yes     0   10    180    30    35     1    0.2877730\n",
       "5 2          air   no     64   58     68    68    30     2    0.2037890\n",
       "6 2          train no     44   31    354    84    30     2    0.6162616\n",
       "7 2          bus   no     53   25    399    85    30     2    0.5138813\n",
       "8 2          car   yes     0   11    255    50    30     2    0.9781352"
      ]
     },
     "metadata": {},
     "output_type": "display_data"
    }
   ],
   "source": [
    "head(Travel,8)"
   ]
  },
  {
   "cell_type": "code",
   "execution_count": 51,
   "metadata": {},
   "outputs": [],
   "source": [
    "Probability <- Travel %>% group_by(individual) %>% do(data.frame(prob=choice.prob( . )))"
   ]
  },
  {
   "cell_type": "code",
   "execution_count": 49,
   "metadata": {},
   "outputs": [
    {
     "data": {
      "text/html": [
       "<table>\n",
       "<thead><tr><th scope=col>individual</th><th scope=col>prob</th></tr></thead>\n",
       "<tbody>\n",
       "\t<tr><td>1        </td><td>0.2045920</td></tr>\n",
       "\t<tr><td>2        </td><td>0.3589402</td></tr>\n",
       "\t<tr><td>3        </td><td>0.3585138</td></tr>\n",
       "</tbody>\n",
       "</table>\n"
      ],
      "text/latex": [
       "\\begin{tabular}{r|ll}\n",
       " individual & prob\\\\\n",
       "\\hline\n",
       "\t 1         & 0.2045920\\\\\n",
       "\t 2         & 0.3589402\\\\\n",
       "\t 3         & 0.3585138\\\\\n",
       "\\end{tabular}\n"
      ],
      "text/markdown": [
       "\n",
       "individual | prob | \n",
       "|---|---|---|\n",
       "| 1         | 0.2045920 | \n",
       "| 2         | 0.3589402 | \n",
       "| 3         | 0.3585138 | \n",
       "\n",
       "\n"
      ],
      "text/plain": [
       "  individual prob     \n",
       "1 1          0.2045920\n",
       "2 2          0.3589402\n",
       "3 3          0.3585138"
      ]
     },
     "metadata": {},
     "output_type": "display_data"
    }
   ],
   "source": [
    "head(Probability,3)"
   ]
  },
  {
   "cell_type": "markdown",
   "metadata": {},
   "source": [
    "* sum up the log likelihood"
   ]
  },
  {
   "cell_type": "code",
   "execution_count": 53,
   "metadata": {},
   "outputs": [
    {
     "data": {
      "text/html": [
       "-299.163838856818"
      ],
      "text/latex": [
       "-299.163838856818"
      ],
      "text/markdown": [
       "-299.163838856818"
      ],
      "text/plain": [
       "[1] -299.1638"
      ]
     },
     "metadata": {},
     "output_type": "display_data"
    }
   ],
   "source": [
    "sum(log(Probability$prob))"
   ]
  },
  {
   "cell_type": "markdown",
   "metadata": {},
   "source": [
    "# Likelihood Function as a Function \n",
    "* regeard coefficients of each independent variables as a given\n",
    "* care for constant for each alteratives\n",
    "* get utility for each alteratives\n",
    "* using function choice.prob = probability of actual choice \n",
    "* getting a sum of log likelikelihood"
   ]
  },
  {
   "cell_type": "code",
   "execution_count": 55,
   "metadata": {},
   "outputs": [],
   "source": [
    "Likelihood <- function(theta) {\n",
    "    Travel$constant =0\n",
    "    Travel$constant[sample$mode==\"air\"] = theta[1]\n",
    "    Travel$constant[sample$mode==\"train\"] = theta[2]\n",
    "    Travel$constant[sample$mode==\"bus\"] = theta[3]\n",
    "    Travel$utility = theta[4]*Travel$gcost + theta[5]*Travel$wait + theta[6]*Travel$travel + Travel$constant\n",
    "    \n",
    "    Probability <- Travel %>% group_by(individual) %>% do(data.frame(prob=choice.prob( . )))\n",
    "    return(-sum(log(Probability$prob)))\n",
    "    }"
   ]
  },
  {
   "cell_type": "markdown",
   "metadata": {},
   "source": [
    "# Maxium Likelihood Estimation : Optimization\n",
    "* using optim() function <- should know and options, in here, BFGS method is used\n",
    "* initial values (constant for car is 0 as a base group, other individiaul coeffifient starts from negative values -0.01)"
   ]
  },
  {
   "cell_type": "code",
   "execution_count": null,
   "metadata": {},
   "outputs": [],
   "source": [
    "estimation <- optim(c(4.0,4.0,3.0,-0.001,-0.01,-0.001), Likelihood, method =\"BFGS\")"
   ]
  },
  {
   "cell_type": "code",
   "execution_count": 60,
   "metadata": {},
   "outputs": [
    {
     "data": {
      "text/html": [
       "<ol class=list-inline>\n",
       "\t<li>4.0848552517084</li>\n",
       "\t<li>3.65142016874679</li>\n",
       "\t<li>3.19595178531253</li>\n",
       "\t<li>-0.00325070151186027</li>\n",
       "\t<li>-0.0975677516282575</li>\n",
       "\t<li>-0.00343449011269602</li>\n",
       "</ol>\n"
      ],
      "text/latex": [
       "\\begin{enumerate*}\n",
       "\\item 4.0848552517084\n",
       "\\item 3.65142016874679\n",
       "\\item 3.19595178531253\n",
       "\\item -0.00325070151186027\n",
       "\\item -0.0975677516282575\n",
       "\\item -0.00343449011269602\n",
       "\\end{enumerate*}\n"
      ],
      "text/markdown": [
       "1. 4.0848552517084\n",
       "2. 3.65142016874679\n",
       "3. 3.19595178531253\n",
       "4. -0.00325070151186027\n",
       "5. -0.0975677516282575\n",
       "6. -0.00343449011269602\n",
       "\n",
       "\n"
      ],
      "text/plain": [
       "[1]  4.084855252  3.651420169  3.195951785 -0.003250702 -0.097567752\n",
       "[6] -0.003434490"
      ]
     },
     "metadata": {},
     "output_type": "display_data"
    }
   ],
   "source": [
    "estimation$par"
   ]
  },
  {
   "cell_type": "markdown",
   "metadata": {},
   "source": [
    "* from above coefficients\n",
    "---------------------------------\n",
    "* Constant air: 4.084855252\n",
    "* Constant train: 3.651420169\n",
    "* Constant bus: 3.195951785\n",
    "* Constant car: 0 (assumption in the begin)\n",
    "* General Cost: -0.003250702\n",
    "* Wait Time: -0.097567752\n",
    "* Travel Time: -0.003434490"
   ]
  },
  {
   "cell_type": "markdown",
   "metadata": {},
   "source": [
    "# Comparing the above results with mlogit (=K.Train based)\n",
    "* step1: formating for mlogit data frame\n",
    "* step2: run multinomial wit mlogit\n",
    "* step3: apply for predicted probability\n",
    "* step4: mean choice probability "
   ]
  },
  {
   "cell_type": "markdown",
   "metadata": {},
   "source": [
    "* step1: formating for mlogit data frame"
   ]
  },
  {
   "cell_type": "code",
   "execution_count": 61,
   "metadata": {},
   "outputs": [],
   "source": [
    "Data <- mlogit.data(Travel, choice=\"choice\", shape=\"long\", chid.var = \"individual\", alt.var =\"mode\", drop.index= TRUE)"
   ]
  },
  {
   "cell_type": "code",
   "execution_count": 62,
   "metadata": {},
   "outputs": [
    {
     "data": {
      "text/html": [
       "<table>\n",
       "<thead><tr><th></th><th scope=col>choice</th><th scope=col>wait</th><th scope=col>vcost</th><th scope=col>travel</th><th scope=col>gcost</th><th scope=col>income</th><th scope=col>size</th><th scope=col>utility</th></tr></thead>\n",
       "<tbody>\n",
       "\t<tr><th scope=row>1.air</th><td>FALSE    </td><td>69       </td><td>59       </td><td>100      </td><td>70       </td><td>35       </td><td>1        </td><td>0.7254003</td></tr>\n",
       "\t<tr><th scope=row>1.train</th><td>FALSE    </td><td>34       </td><td>31       </td><td>372      </td><td>71       </td><td>35       </td><td>1        </td><td>0.6233933</td></tr>\n",
       "\t<tr><th scope=row>1.bus</th><td>FALSE    </td><td>35       </td><td>25       </td><td>417      </td><td>70       </td><td>35       </td><td>1        </td><td>0.2258345</td></tr>\n",
       "\t<tr><th scope=row>1.car</th><td> TRUE    </td><td> 0       </td><td>10       </td><td>180      </td><td>30       </td><td>35       </td><td>1        </td><td>0.2877730</td></tr>\n",
       "</tbody>\n",
       "</table>\n"
      ],
      "text/latex": [
       "\\begin{tabular}{r|llllllll}\n",
       "  & choice & wait & vcost & travel & gcost & income & size & utility\\\\\n",
       "\\hline\n",
       "\t1.air & FALSE     & 69        & 59        & 100       & 70        & 35        & 1         & 0.7254003\\\\\n",
       "\t1.train & FALSE     & 34        & 31        & 372       & 71        & 35        & 1         & 0.6233933\\\\\n",
       "\t1.bus & FALSE     & 35        & 25        & 417       & 70        & 35        & 1         & 0.2258345\\\\\n",
       "\t1.car &  TRUE     &  0        & 10        & 180       & 30        & 35        & 1         & 0.2877730\\\\\n",
       "\\end{tabular}\n"
      ],
      "text/markdown": [
       "\n",
       "| <!--/--> | choice | wait | vcost | travel | gcost | income | size | utility | \n",
       "|---|---|---|---|\n",
       "| 1.air | FALSE     | 69        | 59        | 100       | 70        | 35        | 1         | 0.7254003 | \n",
       "| 1.train | FALSE     | 34        | 31        | 372       | 71        | 35        | 1         | 0.6233933 | \n",
       "| 1.bus | FALSE     | 35        | 25        | 417       | 70        | 35        | 1         | 0.2258345 | \n",
       "| 1.car |  TRUE     |  0        | 10        | 180       | 30        | 35        | 1         | 0.2877730 | \n",
       "\n",
       "\n"
      ],
      "text/plain": [
       "        choice wait vcost travel gcost income size utility  \n",
       "1.air   FALSE  69   59    100    70    35     1    0.7254003\n",
       "1.train FALSE  34   31    372    71    35     1    0.6233933\n",
       "1.bus   FALSE  35   25    417    70    35     1    0.2258345\n",
       "1.car    TRUE   0   10    180    30    35     1    0.2877730"
      ]
     },
     "metadata": {},
     "output_type": "display_data"
    }
   ],
   "source": [
    "head(Data,4)"
   ]
  },
  {
   "cell_type": "markdown",
   "metadata": {},
   "source": [
    "* step 2: run a mlogit"
   ]
  },
  {
   "cell_type": "code",
   "execution_count": 63,
   "metadata": {},
   "outputs": [],
   "source": [
    "ml.Data <- mlogit(choice ~ gcost + wait + travel, Data, reflevel =\"car\" ) # reference group for constant =0"
   ]
  },
  {
   "cell_type": "code",
   "execution_count": 64,
   "metadata": {},
   "outputs": [
    {
     "data": {
      "text/plain": [
       "\n",
       "Call:\n",
       "mlogit(formula = choice ~ gcost + wait + travel, data = Data, \n",
       "    reflevel = \"car\", method = \"nr\", print.level = 0)\n",
       "\n",
       "Frequencies of alternatives:\n",
       "    car     air   train     bus \n",
       "0.28095 0.27619 0.30000 0.14286 \n",
       "\n",
       "nr method\n",
       "5 iterations, 0h:0m:1s \n",
       "g'(-H)^-1g = 0.000159 \n",
       "successive function values within tolerance limits \n",
       "\n",
       "Coefficients :\n",
       "                    Estimate Std. Error t-value  Pr(>|t|)    \n",
       "air:(intercept)    4.0540450  0.8366245  4.8457 1.262e-06 ***\n",
       "train:(intercept)  3.6445988  0.4427624  8.2315 2.220e-16 ***\n",
       "bus:(intercept)    3.1957885  0.4519434  7.0712 1.536e-12 ***\n",
       "gcost             -0.0028601  0.0060976 -0.4691  0.639032    \n",
       "wait              -0.0974635  0.0103529 -9.4141 < 2.2e-16 ***\n",
       "travel            -0.0034895  0.0011489 -3.0371  0.002388 ** \n",
       "---\n",
       "Signif. codes:  0 '***' 0.001 '**' 0.01 '*' 0.05 '.' 0.1 ' ' 1\n",
       "\n",
       "Log-Likelihood: -195\n",
       "McFadden R^2:  0.31281 \n",
       "Likelihood ratio test : chisq = 177.52 (p.value = < 2.22e-16)"
      ]
     },
     "metadata": {},
     "output_type": "display_data"
    }
   ],
   "source": [
    "summary(ml.Data)"
   ]
  },
  {
   "cell_type": "markdown",
   "metadata": {},
   "source": [
    "* step3: apply for fitted mean choice probability for each alternatives"
   ]
  },
  {
   "cell_type": "code",
   "execution_count": 66,
   "metadata": {},
   "outputs": [
    {
     "data": {
      "text/html": [
       "<dl class=dl-horizontal>\n",
       "\t<dt>car</dt>\n",
       "\t\t<dd>0.280952380952354</dd>\n",
       "\t<dt>air</dt>\n",
       "\t\t<dd>0.2761904761904</dd>\n",
       "\t<dt>train</dt>\n",
       "\t\t<dd>0.299999999999909</dd>\n",
       "\t<dt>bus</dt>\n",
       "\t\t<dd>0.142857142857337</dd>\n",
       "</dl>\n"
      ],
      "text/latex": [
       "\\begin{description*}\n",
       "\\item[car] 0.280952380952354\n",
       "\\item[air] 0.2761904761904\n",
       "\\item[train] 0.299999999999909\n",
       "\\item[bus] 0.142857142857337\n",
       "\\end{description*}\n"
      ],
      "text/markdown": [
       "car\n",
       ":   0.280952380952354air\n",
       ":   0.2761904761904train\n",
       ":   0.299999999999909bus\n",
       ":   0.142857142857337\n",
       "\n"
      ],
      "text/plain": [
       "      car       air     train       bus \n",
       "0.2809524 0.2761905 0.3000000 0.1428571 "
      ]
     },
     "metadata": {},
     "output_type": "display_data"
    }
   ],
   "source": [
    "apply(fitted(ml.Data, outcome=FALSE),2,mean) #  matrix 1 indicates rows, 2 indicates columns"
   ]
  },
  {
   "cell_type": "code",
   "execution_count": 70,
   "metadata": {},
   "outputs": [],
   "source": [
    "help(apply)"
   ]
  },
  {
   "cell_type": "markdown",
   "metadata": {},
   "source": [
    "* step4: mean choice probability"
   ]
  },
  {
   "cell_type": "code",
   "execution_count": 71,
   "metadata": {},
   "outputs": [
    {
     "data": {
      "text/plain": [
       "\n",
       "      car       air     train       bus \n",
       "0.2809524 0.2761905 0.3000000 0.1428571 "
      ]
     },
     "metadata": {},
     "output_type": "display_data"
    }
   ],
   "source": [
    "ml.Data$freq/sum(ml.Data$freq)"
   ]
  }
 ],
 "metadata": {
  "kernelspec": {
   "display_name": "R",
   "language": "R",
   "name": "ir"
  },
  "language_info": {
   "codemirror_mode": "r",
   "file_extension": ".r",
   "mimetype": "text/x-r-source",
   "name": "R",
   "pygments_lexer": "r",
   "version": "3.4.3"
  }
 },
 "nbformat": 4,
 "nbformat_minor": 2
}
